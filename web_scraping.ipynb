{
 "nbformat": 4,
 "nbformat_minor": 2,
 "metadata": {
  "language_info": {
   "name": "python",
   "codemirror_mode": {
    "name": "ipython",
    "version": 3
   },
   "version": "3.7.4-final"
  },
  "orig_nbformat": 2,
  "file_extension": ".py",
  "mimetype": "text/x-python",
  "name": "python",
  "npconvert_exporter": "python",
  "pygments_lexer": "ipython3",
  "version": 3,
  "kernelspec": {
   "name": "python37464bit1ebf9c4dc354488cae1027a09c7ab0e8",
   "display_name": "Python 3.7.4 64-bit"
  }
 },
 "cells": [
  {
   "cell_type": "markdown",
   "metadata": {},
   "source": [],
   "execution_count": null,
   "outputs": []
  },
  {
   "cell_type": "markdown",
   "metadata": {},
   "source": [
    "# 競馬データ取得プログラム(Python)\n",
    "\n",
    "# 1 クローリングとスクレイピングについて\n",
    "\n",
    "\n",
    "## 1.1 クローリングとスクレイピングの定義\n",
    "\n",
    "### クローリング \n",
    "Webページのハイパーリンクをたどって次々にWebページをダウンロードする作業。\n",
    "### スクレイピング \n",
    "ダウンロードしたWebページから必要な情報を抜き出す作業。\n",
    "\n",
    "## 1.2 クローリング・スクレイピングの方法\n",
    "### プログラミング言語  \n",
    "- python,PHP,java,C,Ruby\n",
    "- シェルスクリプト(Unixコマンド)\n",
    "\n",
    "### Webスクレイピングツール  \n",
    "- ExcelやSpreadSheet  \n",
    "- Octoparse   \n",
    "- Scraper  \n",
    "\n",
    "## 1.3 クローリング・スクレイピングでPythonを使うメリット\n",
    "### 言語自体の特性  \n",
    "読みやすく書きやすいPHP、Java、C / C ++と比べ、Pythonは最も簡単  \n",
    "Pythonはプログラムを書いたらすぐに実行することができる対話型  \n",
    "### 強力なライブラリの存在  \n",
    "世界中の開発者が数多くのライブラリを公開しており、簡単に使うことができる  \n",
    "lxmlやBeautifulSoupは有名なスクレイピングライブラリがある。  \n",
    "### スクレイピング後の処理との親和性  \n",
    "データ分析においてもPythonには優秀なライブラリのpandasなどが揃っている\n",
    "Pythonでは数値計算や科学技術計算の分野で古くからNumPyやSciPyといったライブラリが有名　　\n",
    "  \n",
    "## 1.4 今回紹介するライブラリ\n",
    "### Beautiful Soup \n",
    "シンプルかつわかりやすいAPIでデータを抜き出せるのが特徴で、古くから人気のあるライブラリです。  \n",
    "内部のパーサーを目的に応じて切り替えられます。\n",
    "### Selenium   \n",
    "ブラウザーを自動操作するためのライブラリです。  \n",
    "Pythonの他にJavaやJavaScriptなど様々な言語に対応しています。  \n",
    "ブラウザーベンダーがWebDriverAPIを実装するドライバーを用意しており、これを経由して操作します。\n",
    "\n"
   ],
   "execution_count": null,
   "outputs": []
  },
  {
   "cell_type": "markdown",
   "metadata": {},
   "source": [
    "# 2 Pythonの基礎知識\n",
    "## 2.1 python実行方法\n",
    "### インタラクティブシェルの使用\n",
    "pythonコマンドを引数なしで実行すると、インタラクティブシェルが起動します。  \n",
    "pythonのコードを対話的に実行できるので、ライブラリの使い方の確認などに便利です。\n",
    "\n",
    "### スクリプトファイルの実行と構成\n",
    "pythonのスクリプトは.pyという拡張子のファイルに保存します。  \n",
    "pythonコマンドにpyファイルのpathを引数として渡すとスクリプトファイルを実行されます。\n",
    "\n",
    "### Jupyter Notebook\n",
    "ノートブックと呼ばれるファイルにプログラムや説明の文章、実行結果などをまとめて管理できるます。  \n",
    "データ分析用のツールです。"
   ],
   "execution_count": null,
   "outputs": []
  },
  {
   "cell_type": "code",
   "execution_count": null,
   "metadata": {},
   "outputs": [],
   "source": [
    "# ソースコードを記述し、Shift+Enterで実行できます。\n",
    "print(1+2)"
   ]
  },
  {
   "cell_type": "markdown",
   "metadata": {},
   "source": [
    "このように、Jupyter Notebookでは、セルごとにソースコードを記述して、実行を行うことができます。  \n",
    "実行結果はすぐ下に表示され、何度でも再実行できます。  \n",
    "また、Jupyter Notebookでは、ノートブックにグラフを表示することもできます。"
   ],
   "execution_count": null,
   "outputs": []
  },
  {
   "cell_type": "code",
   "execution_count": null,
   "metadata": {},
   "outputs": [],
   "source": [
    "import matplotlib.pyplot as plt\n",
    "\n",
    "price = [100, 250, 380, 500, 700]\n",
    "number = [1, 2, 3, 4, 5]\n",
    "\n",
    "# グラフを書く\n",
    "plt.plot(price, number)\n",
    "\n",
    "# グラフのタイトル\n",
    "plt.title(\"price / number\")\n",
    "\n",
    "# x軸のラベル\n",
    "plt.xlabel(\"price\")\n",
    "\n",
    "# y軸のラベル\n",
    "plt.ylabel(\"number\")\n",
    "\n",
    "# 表示する\n",
    "plt.show()"
   ]
  },
  {
   "cell_type": "markdown",
   "metadata": {},
   "source": [
    "ソースコードと説明の文章、実行結果をまとめて保存しておくことができるので  \n",
    "データ分析を試行錯誤しながら行うことがとても簡単に行うことができます。"
   ],
   "execution_count": null,
   "outputs": []
  },
  {
   "cell_type": "markdown",
   "metadata": {},
   "source": [
    "## 2.2 python基本文法"
   ],
   "execution_count": null,
   "outputs": []
  },
  {
   "cell_type": "markdown",
   "metadata": {},
   "source": [
    "### 2.2.1 データ構造 \n",
    "Pythonでは数値、文字列、リスト、辞書などの基本的なデータ構造を手軽に扱えます。"
   ],
   "execution_count": null,
   "outputs": []
  },
  {
   "cell_type": "markdown",
   "metadata": {},
   "source": [
    "#### 数値\n",
    "整数と実数の基本的な四則演算が行えます。"
   ],
   "execution_count": null,
   "outputs": []
  },
  {
   "cell_type": "code",
   "execution_count": null,
   "metadata": {},
   "outputs": [],
   "source": [
    "a = 1\n",
    "type(a) #整数はint型。type()関数でオブジェクトの型を確認"
   ]
  },
  {
   "cell_type": "code",
   "execution_count": null,
   "metadata": {},
   "outputs": [],
   "source": [
    "b = 3.14\n",
    "type(b)#実数はfloat型。"
   ]
  },
  {
   "cell_type": "code",
   "execution_count": null,
   "metadata": {},
   "outputs": [],
   "source": [
    "print(1+1)"
   ]
  },
  {
   "cell_type": "code",
   "execution_count": null,
   "metadata": {},
   "outputs": [],
   "source": [
    "print(14/3)"
   ]
  },
  {
   "cell_type": "code",
   "execution_count": null,
   "metadata": {},
   "outputs": [],
   "source": [
    "print(14//3)"
   ]
  },
  {
   "cell_type": "code",
   "execution_count": null,
   "metadata": {},
   "outputs": [],
   "source": [
    "print(14%3)"
   ]
  },
  {
   "cell_type": "markdown",
   "metadata": {},
   "source": [
    "#### 文字列\n",
    "Unicode文字列を表すstr型とバイト列を表すbytes型があります。  \n",
    "文字列操作は基本的にstr型で行い、ファイルやネットワーク越しのデータの読み書きなど  \n",
    "Python以外との境界でbytes型に変換します。"
   ],
   "execution_count": null,
   "outputs": []
  },
  {
   "cell_type": "code",
   "execution_count": null,
   "metadata": {},
   "outputs": [],
   "source": [
    "type('abc')#文字列はstr型。<class'str'>  文字列は'または\"で囲う。"
   ]
  },
  {
   "cell_type": "code",
   "execution_count": null,
   "metadata": {},
   "outputs": [],
   "source": [
    "print('abc\\n123')#\\nは改行文字"
   ]
  },
  {
   "cell_type": "markdown",
   "metadata": {},
   "source": [
    "#### リスト \n",
    "\n",
    "複数の値の列をひとまとめに扱うためのデータ型としてリスト(list)があります。  \n",
    "リストは文字列と同じく順序を持ち反復可能な型（シーケンスと呼ばれる）であり  \n",
    "同様の操作をサポートしています。他の言語では配列やArrayと呼ばれるデータ型に対応します。"
   ],
   "execution_count": null,
   "outputs": []
  },
  {
   "cell_type": "code",
   "execution_count": null,
   "metadata": {},
   "outputs": [],
   "source": [
    "l = []\n",
    "type(l) #[]でリスト（list型）を得る。"
   ]
  },
  {
   "cell_type": "code",
   "execution_count": null,
   "metadata": {},
   "outputs": [],
   "source": [
    "l = [1, 2, 3] #値はカンマで区切る。\n",
    "print(l)"
   ]
  },
  {
   "cell_type": "code",
   "execution_count": null,
   "metadata": {},
   "outputs": [],
   "source": [
    "l = [1, 2, 'Three',4.0] #任意のオブジェクトを要素として含められる。\n",
    "print(l)"
   ]
  },
  {
   "cell_type": "code",
   "execution_count": null,
   "metadata": {},
   "outputs": [],
   "source": [
    "print(l[0])#[n]でn番目の要素を取得する。\n",
    "print(l[2])"
   ]
  },
  {
   "cell_type": "code",
   "execution_count": null,
   "metadata": {},
   "outputs": [],
   "source": [
    "print(l[1:3])"
   ]
  },
  {
   "cell_type": "code",
   "execution_count": null,
   "metadata": {},
   "outputs": [],
   "source": [
    "print(len(l)) # len()関数でリストの長さを取得する。"
   ]
  },
  {
   "cell_type": "code",
   "execution_count": null,
   "metadata": {},
   "outputs": [],
   "source": [
    "l = l + [5,6]#+演算子でリスト同士を結合したリストを得る。\n",
    "print(l)"
   ]
  },
  {
   "cell_type": "code",
   "execution_count": null,
   "metadata": {},
   "outputs": [],
   "source": [
    "l.append(7)#append()メソッドで値を末尾に追加する。\n",
    "print(l)"
   ]
  },
  {
   "cell_type": "code",
   "execution_count": null,
   "metadata": {},
   "outputs": [],
   "source": [
    "l.insert(1,1.5)#insert()メソッドで第1引数のインデックスに第2引数の値を挿入する。\n",
    "print(l)"
   ]
  },
  {
   "cell_type": "code",
   "execution_count": null,
   "metadata": {},
   "outputs": [],
   "source": [
    "del l[1]#del文で指定したインデックスの要素を削除する。\n",
    "print(l)"
   ]
  },
  {
   "cell_type": "code",
   "execution_count": null,
   "metadata": {},
   "outputs": [],
   "source": [
    "l.pop(0)#pop()で指定したインデックスの要素を取得し、リストから削除する。"
   ]
  },
  {
   "cell_type": "code",
   "execution_count": null,
   "metadata": {},
   "outputs": [],
   "source": [
    "print(l)"
   ]
  },
  {
   "cell_type": "code",
   "execution_count": null,
   "metadata": {},
   "outputs": [],
   "source": [
    "s = 'a,b,c'\n",
    "l = s.split(',')#,で区切りそれぞれリストに入れる\n",
    "print(l)"
   ]
  },
  {
   "cell_type": "code",
   "execution_count": null,
   "metadata": {},
   "outputs": [],
   "source": [
    "s = ','.join(['a','b','c'])#str型のjoin()メソッドでリストを結合した文字列を得る。\n",
    "print(s)"
   ]
  },
  {
   "cell_type": "markdown",
   "metadata": {},
   "source": [
    "### 2.2.2 制御構造と関数・クラス定義\n",
    "\n",
    "Pythonではインデントが大きな意味を持ちます。  \n",
    "Pythonでは読みにくくなることを避けるため  \n",
    "正しくインデントされていないブロックがあるとIndentationErrorというエラーになり実行できません。  \n",
    "インデントを増やす直前の行の末尾には:（コロン）を置きます  \n",
    "制御構造文と関数・クラス定義を書く際に必要になってきます。\n"
   ],
   "execution_count": null,
   "outputs": []
  },
  {
   "cell_type": "markdown",
   "metadata": {},
   "source": [
    "#### if文"
   ],
   "execution_count": null,
   "outputs": []
  },
  {
   "cell_type": "code",
   "execution_count": null,
   "metadata": {},
   "outputs": [],
   "source": [
    "a = 5 # if 文 で 処理 を 分岐 できる。 \n",
    "if a == 1:\n",
    "    print('aは1') # if 文 の 式 が 真 の とき に 実行 さ れる。\n",
    "elif a == 2:\n",
    "    print('aは2') # elif 節 の 式 が 真 の とき に 実行 さ れる（ elif 節 は なく ても 良い）。 \n",
    "else:\n",
    "    print('aは1でも2でもない') # どの 条件 にも 当てはまら なかっ た とき に 実行 さ れる（ else 節 は なく ても 良い"
   ]
  },
  {
   "cell_type": "markdown",
   "metadata": {},
   "source": [
    "![](https://github.com/Tomo-Horiuchi/predict_keiba/blob/master/image/1.png?raw=true)"
   ],
   "execution_count": null,
   "outputs": []
  },
  {
   "cell_type": "markdown",
   "metadata": {},
   "source": [
    "#### for文とwhile文による繰り返し処理"
   ],
   "execution_count": null,
   "outputs": []
  },
  {
   "cell_type": "code",
   "execution_count": null,
   "metadata": {},
   "outputs": [],
   "source": [
    "for i in range(10):#回数を指定した繰り返しには組み込み関数range()を使う。\n",
    "    print(i)"
   ]
  },
  {
   "cell_type": "code",
   "execution_count": null,
   "metadata": {},
   "outputs": [],
   "source": [
    "#変数iにinの右側のリストの要素が順に代入されて、ブロック内の処理が計7回実行される。\n",
    "l = [1, 2, 'Three', 4.0, 5, 6, 7]\n",
    "for i in l:\n",
    "    print(i)"
   ]
  },
  {
   "cell_type": "code",
   "execution_count": null,
   "metadata": {},
   "outputs": [],
   "source": [
    "i = 1\n",
    "while i<10:#while文で式が真の間繰り返し処理する。\n",
    "    print(i)\n",
    "    i+=1"
   ]
  },
  {
   "cell_type": "markdown",
   "metadata": {},
   "source": [
    "#### 関数定義"
   ],
   "execution_count": null,
   "outputs": []
  },
  {
   "cell_type": "code",
   "execution_count": null,
   "metadata": {},
   "outputs": [],
   "source": [
    "#addという名前の関数を定義する。この関数はaとbの2つの引数を取り、加算した値を返す。 \n",
    "def add(a,b):\n",
    "    return a + b #return文で関数の戻り値を返す。 "
   ]
  },
  {
   "cell_type": "code",
   "execution_count": null,
   "metadata": {},
   "outputs": [],
   "source": [
    "a = add(1,2)#関数の呼び出しは、関数名の後に括弧で引数を指定する。\n",
    "print(a)#3と表示される。 "
   ]
  },
  {
   "cell_type": "markdown",
   "metadata": {},
   "source": [
    "#### クラス定義"
   ],
   "execution_count": null,
   "outputs": []
  },
  {
   "cell_type": "code",
   "execution_count": null,
   "metadata": {},
   "outputs": [],
   "source": [
    "#Squareという名前のクラスを定義する。 \n",
    "class Square:\n",
    "    #インスタンスが作成された直後に呼び出される特殊なメソッドを定義する(コンストラクタ)\n",
    "    def __init__(self, width, height):\n",
    "        self.width = width # width 属性 に 値 を 格納 する\n",
    "        self.height = height # height 属性 に 値 を 格納 する。\n",
    "    # 面積 を 計算 する メソッド を 定義 する。 \n",
    "    def area(self):\n",
    "        return self.width*self.height"
   ]
  },
  {
   "cell_type": "code",
   "execution_count": null,
   "metadata": {},
   "outputs": [],
   "source": [
    "square=Square(100,20)#Rectクラスのインスタンスを作成する。newなどのキーワードは不要。\n",
    "print(type(square))\n",
    "print(square.width) \n",
    "print(square.height)\n",
    "print(square.area())"
   ]
  },
  {
   "cell_type": "markdown",
   "metadata": {},
   "source": [
    "#### 組み込み関数  \n",
    "\n",
    "Pythonにはいくつかの組み込み関数が存在し、特に宣言せずに使えます。  \n",
    "これまでに使ったprint()関数やlen()関数も組み込み関数です。  "
   ],
   "execution_count": null,
   "outputs": []
  },
  {
   "cell_type": "markdown",
   "metadata": {},
   "source": [
    "#### 代表的な組み込み関数\n",
    "![](https://github.com/Tomo-Horiuchi/predict_keiba/blob/master/image/2.png?raw=true)"
   ],
   "execution_count": null,
   "outputs": []
  },
  {
   "cell_type": "markdown",
   "metadata": {},
   "source": [
    "#### モジュール  \n",
    "Pythonには豊富な標準ライブラリが付属しています。Pythonのライブラリはモジュールと呼ばれる単位で管理されます  \n",
    "モジュールには複数のクラスや関数が含まれます。  \n",
    "  \n",
    "  \n",
    "![](https://github.com/Tomo-Horiuchi/predict_keiba/blob/master/image/3.png?raw=true)"
   ],
   "execution_count": null,
   "outputs": []
  },
  {
   "cell_type": "markdown",
   "metadata": {},
   "source": [
    "#### ライブラリインストール\n",
    "\n",
    "PyPIで公開されているライブラリのインストールにはpipというツールを使用します\n",
    "  \n",
    "pip install ライブラリ 名 でインストールできます\n",
    "\n"
   ],
   "execution_count": null,
   "outputs": []
  },
  {
   "cell_type": "code",
   "execution_count": null,
   "metadata": {},
   "outputs": [],
   "source": [
    "!pip install requests"
   ]
  },
  {
   "cell_type": "markdown",
   "metadata": {},
   "source": [
    "#### インポート文\n",
    "\n",
    "ライブラリをインポートして利用可能にします　　"
   ],
   "execution_count": null,
   "outputs": []
  },
  {
   "cell_type": "code",
   "execution_count": null,
   "metadata": {},
   "outputs": [],
   "source": [
    "from datetime import datetime\n",
    "date = datetime.now()\n",
    "print(date)"
   ]
  },
  {
   "cell_type": "markdown",
   "metadata": {},
   "source": [
    "# 3 スクレピング・クローリング実践 "
   ],
   "execution_count": null,
   "outputs": []
  },
  {
   "cell_type": "markdown",
   "metadata": {},
   "source": [
    "## 3.1 スクレピング・クローリング注意事項\n",
    "### 3.1.1 著作権について\n",
    "著作物は著作権法によって保護されます。著作権法第2条では  \n",
    "著作物の要件が「思想又は感情を創作的に表現したものであつて  \n",
    "文芸、学術、美術又は音楽の範囲に属するもの」と定められています。  \n",
    "Webページは基本的に著作物であると考えられるます。  \n",
    "#### スクレピング・クローリングにおいて注意が特に必要な権利\n",
    "- 複製権：収集したWebページを保存する権利\n",
    "- 翻案権：収集したWebページから新たな著作物を創造する権利\n",
    "- 公衆送信権：収集したWebページをサーバーから公開する権利  \n",
    "  　 \n",
    "これらの行為には基本的に著作権者の許諾が必要ですが、私的使用の範囲内の複製など、  \n",
    "使用目的によっては著作権者の許諾なく自由に行うことが認められています。  \n",
    "情報解析を目的とした複製や検索エンジンサービスの提供を目的とした複製・翻案・自動公衆送信が、  \n",
    "著作権者の許諾なく行えるようになっています  \n",
    "\n",
    "#### 利用についての一定の条件\n",
    "- 会員のみが閲覧可能なサイトのクロールには著作権者の許諾が必要なこと\n",
    "- robots.txtやrobotsmetaタグで拒否されているページをクロールしないこと\n",
    "- クロールした後に拒否されたことがわかった場合は保存済みの著作物を消去すること\n",
    "- 検索結果では元のWebページにリンクすること検索結果として表示する著作物は必要と認められる限度内であること\n",
    "- 違法コンテンツであることを知った場合は公衆送信をやめること\n",
    "\n",
    "### 3.1.2 サーバーの負荷\n",
    "クローラーを実行する際には、クロール先のWebサイトの負荷を考慮する必要があります。  \n",
    "あなたのクローラーがWebサーバーの処理能力の多くを占めてしまうと、  \n",
    "他の人がそのWebサイトを閲覧できなくなってしまいます。  \n",
    "商用サイトの場合は、業務妨害となる可能性もあります。\n",
    "#### 同時接続数\n",
    "1つのWebサーバーが同時に処理できる接続数は限られているので、  \n",
    "同時接続数を増やすと、それだけあなたのクローラーがWebサーバーの処理能力を専有してしまいます。  \n",
    "出来るだけ数を少なくし処理が終わったら接続を切るようにする。\n",
    "\n",
    "#### リクエスト間隔\n",
    "間隔を空けずに次々とWebページを取得すると相手のサーバーに負荷をかけます。  \n",
    "常識的なクロールの間隔1秒以上を入れることが望ましいと考えられています。\n",
    "### 3.1.3　robots.txtによる指示\n",
    "robots.txtはWebサイトのトップディレクトリに配置されるテキストファイルです。  \n",
    "例えば、https://www.python.org/ のrobots.txt は https://www.python.org/robots.txt に置かれます。  \n",
    "robots.txtの中身はRobotsExclusionProtocolとして標準化されており、  \n",
    "GoogleやBingなど主要な検索エンジンのクローラーはこの標準に従っていると表明しています。  \n",
    "robots.txtが存在しない場合は、すべてのページのクロールが許可されているとみなします。\n",
    "#### robots.txtのパース  \n",
    "Pythonの標準ライブラリのurllib.robotparserにはrobots.txtをパースするためのRobotFileParserクラスが含まれています。次のようにrobots.txtを簡単に扱えます。\n"
   ],
   "execution_count": null,
   "outputs": []
  },
  {
   "cell_type": "code",
   "execution_count": null,
   "metadata": {},
   "outputs": [],
   "source": [
    "from urllib.robotparser import RobotFileParser\n",
    "\n",
    "rp = RobotFileParser()\n",
    "rp.set_url('https://www.netkeiba.com/robots.txt')#set_url()でrobots.txtのURLを設定する。\n",
    "rp.read()# read() で robots. txt を 読み込む。 "
   ]
  },
  {
   "cell_type": "code",
   "execution_count": null,
   "metadata": {},
   "outputs": [],
   "source": [
    "print(rp.crawl_delay('*'))#クロール間隔表す。"
   ]
  },
  {
   "cell_type": "markdown",
   "metadata": {},
   "source": [
    "数値またはNoneが返される  \n",
    "返された値が数値ならばその秒数分間隔をあけなければならない  \n",
    "今回はNoneであるのでクロール間隔についての指示はない"
   ],
   "execution_count": null,
   "outputs": []
  },
  {
   "cell_type": "code",
   "execution_count": null,
   "metadata": {},
   "outputs": [],
   "source": [
    "#そのURLのクロールが許可されているかどうかを取得できる。\n",
    "print(rp.can_fetch('*',\"https://db.netkeiba.com/horse/2017101835/\"))"
   ]
  },
  {
   "cell_type": "markdown",
   "metadata": {},
   "source": [
    "True または Falseが返されます  \n",
    "Trueならばクロールが許可されている  \n",
    "Falseならばクロールは許可されていません"
   ],
   "execution_count": null,
   "outputs": []
  },
  {
   "cell_type": "markdown",
   "metadata": {},
   "source": [
    "## 3.2 スクレピング・クローリングでデータを取得"
   ],
   "execution_count": null,
   "outputs": []
  },
  {
   "cell_type": "markdown",
   "metadata": {},
   "source": [
    "### 3.2.1 RequestsによるWebページの取得\n",
    "Webページを取得するには、ライブラリのRequestsを使います。  \n",
    "HTTPヘッダーの追加やBasic認証など面倒な処理もRequestsには簡単に使えるインターフェイスが用意されています。 "
   ],
   "execution_count": null,
   "outputs": []
  },
  {
   "cell_type": "code",
   "execution_count": null,
   "metadata": {},
   "outputs": [],
   "source": [
    "!pip install requests"
   ]
  },
  {
   "cell_type": "code",
   "execution_count": null,
   "metadata": {
    "tags": [
     "outputPrepend"
    ]
   },
   "outputs": [],
   "source": [
    "import requests#ライブラリをインポートして利用可能にする。"
   ]
  },
  {
   "cell_type": "code",
   "execution_count": null,
   "metadata": {},
   "outputs": [],
   "source": [
    "response = requests.get('https://db.netkeiba.com/race/202006030811.html')#get()関数でWebページを取得できる。"
   ]
  },
  {
   "cell_type": "code",
   "execution_count": null,
   "metadata": {},
   "outputs": [],
   "source": [
    "print(type(response))#get()関数の戻り値はResponseオブジェクト。"
   ]
  },
  {
   "cell_type": "code",
   "execution_count": null,
   "metadata": {},
   "outputs": [],
   "source": [
    "print(response.status_code)#status_code属性でHTTPステータスコードを取得できる。"
   ]
  },
  {
   "cell_type": "code",
   "execution_count": null,
   "metadata": {},
   "outputs": [],
   "source": [
    "print(response.headers['content-type'])#headers属性でHTTPヘッダーの辞書を取得できる。"
   ]
  },
  {
   "cell_type": "code",
   "execution_count": null,
   "metadata": {},
   "outputs": [],
   "source": [
    "print(response.encoding)#encoding属性でHTTPヘッダーから得られたエンコーディングを取得できる。"
   ]
  },
  {
   "cell_type": "code",
   "execution_count": null,
   "metadata": {
    "tags": [
     "outputPrepend"
    ]
   },
   "outputs": [],
   "source": [
    "response.text#text属性でstr型にデコードしたレスポンスボディを取得できる。"
   ]
  },
  {
   "cell_type": "code",
   "execution_count": null,
   "metadata": {},
   "outputs": [],
   "source": [
    "response.encoding = response.apparent_encoding #エンコードを変更"
   ]
  },
  {
   "cell_type": "code",
   "execution_count": null,
   "metadata": {
    "tags": [
     "outputPrepend"
    ]
   },
   "outputs": [],
   "source": [
    "response.text"
   ]
  },
  {
   "cell_type": "markdown",
   "metadata": {},
   "source": [
    "### 3.2.2 BeautifulSoupによるスクレイピング\n",
    "#### 基本文法"
   ],
   "execution_count": null,
   "outputs": []
  },
  {
   "cell_type": "code",
   "execution_count": null,
   "metadata": {},
   "outputs": [],
   "source": [
    "!pip install beautifulsoup4"
   ]
  },
  {
   "cell_type": "code",
   "execution_count": 17,
   "metadata": {},
   "outputs": [],
   "source": [
    "from bs4 import BeautifulSoup #bs4モジュールからBeautifulSoupクラスをインポートする。 \n",
    "soup = BeautifulSoup(response.text, 'html.parser')# "
   ]
  },
  {
   "cell_type": "code",
   "execution_count": null,
   "metadata": {},
   "outputs": [],
   "source": [
    "soup"
   ]
  },
  {
   "cell_type": "code",
   "execution_count": null,
   "metadata": {},
   "outputs": [],
   "source": [
    "print(type(soup))"
   ]
  },
  {
   "cell_type": "code",
   "execution_count": null,
   "metadata": {},
   "outputs": [],
   "source": [
    "soup.find(\"a\")#タグ名の属性でh1要素を取得できる。一番先頭のタグのみ"
   ]
  },
  {
   "cell_type": "code",
   "execution_count": null,
   "metadata": {},
   "outputs": [],
   "source": [
    "print(type(soup.find(\"a\").get_text))#要素はTagオブジェクト。"
   ]
  },
  {
   "cell_type": "code",
   "execution_count": null,
   "metadata": {},
   "outputs": [],
   "source": [
    "soup.find_all(\"a\")#h1タグのすべての要素を取得できます"
   ]
  },
  {
   "cell_type": "code",
   "execution_count": null,
   "metadata": {},
   "outputs": [],
   "source": [
    "print(type(soup.find_all(\"a\")))"
   ]
  },
  {
   "cell_type": "code",
   "execution_count": null,
   "metadata": {},
   "outputs": [],
   "source": [
    "rs = soup.find_all(\"a\")\n",
    "#list型と同様に扱えます\n",
    "print(len(rs))\n",
    "print(rs[3])\n"
   ]
  },
  {
   "cell_type": "code",
   "execution_count": null,
   "metadata": {},
   "outputs": [],
   "source": [
    "soup.find(\"a\").name#Tagオブジェクトのname属性でタグ名を取得できる。 "
   ]
  },
  {
   "cell_type": "code",
   "execution_count": null,
   "metadata": {},
   "outputs": [],
   "source": [
    "soup.find(\"a\").contents#contents属性で子要素（NavigableStringを含む）のリストを取得できる。"
   ]
  },
  {
   "cell_type": "code",
   "execution_count": null,
   "metadata": {},
   "outputs": [],
   "source": [
    "soup.find(\"div\")"
   ]
  },
  {
   "cell_type": "code",
   "execution_count": null,
   "metadata": {},
   "outputs": [],
   "source": [
    "soup.div.get_text()"
   ]
  },
  {
   "cell_type": "code",
   "execution_count": null,
   "metadata": {},
   "outputs": [],
   "source": [
    "type(soup.h1.text)#text属性で得られる文字列はstrオブジェクト。<class'str'>"
   ]
  },
  {
   "cell_type": "code",
   "execution_count": null,
   "metadata": {},
   "outputs": [],
   "source": [
    "soup.find(\"div\", class_=\"data_intro\")#キーワード引数でclassなどの属性を指定できる。classは予約語なのでclass_を使うこと"
   ]
  },
  {
   "cell_type": "code",
   "execution_count": null,
   "metadata": {},
   "outputs": [],
   "source": [
    "soup.find(\"div\", class_=\"data_intro\").get_text()#text属性で要素内のすべての文字列を結合した文字列を取得できる。"
   ]
  },
  {
   "cell_type": "code",
   "execution_count": null,
   "metadata": {},
   "outputs": [],
   "source": [
    "print(type(soup.find(\"div\", class_=\"data_intro\").get_text()))"
   ]
  },
  {
   "cell_type": "markdown",
   "metadata": {},
   "source": [
    "#### 目的の値をスクレイピングするまでの流れ  \n",
    "  \n",
    "  \n",
    "![](https://github.com/Tomo-Horiuchi/predict_keiba/blob/master/image/4.png?raw=true)\n",
    "![](https://github.com/Tomo-Horiuchi/predict_keiba/blob/master/image/5.png?raw=true)\n",
    "![](https://github.com/Tomo-Horiuchi/predict_keiba/blob/master/image/6.png?raw=true)\n",
    "![](https://github.com/Tomo-Horiuchi/predict_keiba/blob/master/image/7.png?raw=true)\n",
    "![](https://github.com/Tomo-Horiuchi/predict_keiba/blob/master/image/8.png?raw=true)\n",
    "![](https://github.com/Tomo-Horiuchi/predict_keiba/blob/master/image/9.png?raw=true)"
   ],
   "execution_count": null,
   "outputs": []
  },
  {
   "cell_type": "markdown",
   "metadata": {},
   "source": [
    "目的の数値はclass属性が\"race_table_01 nk_tb_common\"のtableタグで囲まれた二番目のtrタグのにあります  \n",
    "更にそのtrタグのに囲まれた１番目のaタグのにあります"
   ]
  },
  {
   "cell_type": "code",
   "execution_count": 27,
   "metadata": {},
   "outputs": [],
   "source": [
    "response = requests.get('https://db.netkeiba.com/race/202006030811.html')\n",
    "response.encoding = response.apparent_encoding \n",
    "html = response.text\n",
    "soup = BeautifulSoup(html, 'html.parser')# "
   ]
  },
  {
   "cell_type": "code",
   "execution_count": 22,
   "metadata": {},
   "outputs": [
    {
     "output_type": "execute_result",
     "data": {
      "text/plain": "ss=\"bml\" nowrap=\"nowrap\"><span>6</span></td>\n<td nowrap=\"nowrap\">516(-10)</td>\n<diary_snap_cut>\n<td class=\"txt_c\" nowrap=\"nowrap\">\n<a href=\"/?pid=horse_training&amp;id=2017110026&amp;rid=202006030811\"><img border=\"0\" height=\"13\" src=\"/style/netkeiba.ja/image/ico_oikiri.gif\" width=\"13\"/></a>\n</td>\n<td class=\"txt_c\" nowrap=\"nowrap\">\n<a href=\"/?pid=horse_comment&amp;id=2017110026&amp;rid=202006030811\"><img border=\"0\" height=\"13\" src=\"/style/netkeiba.ja/image/ico_comment.gif\" width=\"13\"/></a>\n</td>\n<td nowrap=\"nowrap\">\n</td>\n</diary_snap_cut>\n<td class=\"txt_l\" nowrap=\"nowrap\">\n[東]\n<a href=\"/trainer/01126/\" title=\"木村哲也\">木村哲也</a>\n</td>\n<diary_snap_cut>\n<td class=\"txt_l w7ml\" nowrap=\"nowrap\">\n<a href=\"/owner/003060/\" title=\"ゴドルフィン\">ゴドルフィン</a>\n</td>\n<td class=\"txt_r\" nowrap=\"nowrap\"></td>\n</diary_snap_cut>\n</tr><tr>\n<td class=\"txt_r\" nowrap=\"nowrap\">7</td>\n<td align=\"right\" class=\"w2ml\" nowrap=\"nowrap\"><span>2</span></td>\n<td class=\"txt_r\" nowrap=\"nowrap\">3</td>\n<td class=\"txt_l\" nowrap=\"nowrap\">\n<a href=\"/horse/2017101805/\" id=\"umalink_202006030811\" title=\"コルテジア\">コルテジア</a>\n</td>\n<td class=\"txt_c\" nowrap=\"nowrap\">牡3</td>\n<td class=\"txt_c\" nowrap=\"nowrap\">57</td>\n<td class=\"txt_l\" nowrap=\"nowrap\">\n<a href=\"/jockey/01126/\" title=\"松山弘平\">松山弘平</a>\n</td>\n<td class=\"txt_r\" nowrap=\"nowrap\">2:01.9</td>\n<td class=\"txt_c\" nowrap=\"nowrap\">1/2</td>\n<diary_snap_cut>\n<td class=\"speed_index bml\" nowrap=\"nowrap\">\n</td>\n<td nowrap=\"nowrap\">10-10-12-12</td>\n<td class=\"txt_c\" nowrap=\"nowrap\"><span>36.1</span></td>\n</diary_snap_cut>\n<td class=\"txt_r\" nowrap=\"nowrap\">100.9</td>\n<td align=\"right\" class=\"bml\" nowrap=\"nowrap\"><span>13</span></td>\n<td nowrap=\"nowrap\">460(+6)</td>\n<diary_snap_cut>\n<td class=\"txt_c\" nowrap=\"nowrap\">\n<a href=\"/?pid=horse_training&amp;id=2017101805&amp;rid=202006030811\"><img border=\"0\" height=\"13\" src=\"/style/netkeiba.ja/image/ico_oikiri.gif\" width=\"13\"/></a>\n</td>\n<td class=\"txt_c\" nowrap=\"nowrap\">\n<a href=\"/?pid=horse_comment&amp;id=2017101805&amp;rid=202006030811\"><img border=\"0\" height=\"13\" src=\"/style/netkeiba.ja/image/ico_comment.gif\" width=\"13\"/></a>\n</td>\n<td nowrap=\"nowrap\">\n</td>\n</diary_snap_cut>\n<td class=\"txt_l\" nowrap=\"nowrap\">\n[西]\n<a href=\"/trainer/01111/\" title=\"鈴木孝志\">鈴木孝志</a>\n</td>\n<diary_snap_cut>\n<td class=\"txt_l w2ml\" nowrap=\"nowrap\">\n<a href=\"/owner/948006/\" title=\"前田幸治\">前田幸治</a>\n</td>\n<td class=\"txt_r\" nowrap=\"nowrap\"></td>\n</diary_snap_cut>\n</tr><tr>\n<td class=\"txt_r\" nowrap=\"nowrap\">8</td>\n<td align=\"right\" class=\"w8ml\" nowrap=\"nowrap\"><span>8</span></td>\n<td class=\"txt_r\" nowrap=\"nowrap\">17</td>\n<td class=\"txt_l\" nowrap=\"nowrap\">\n<a href=\"/horse/2017105567/\" id=\"umalink_202006030811\" title=\"ヴェルトライゼンデ\">ヴェルトライゼンデ</a>\n</td>\n<td class=\"txt_c\" nowrap=\"nowrap\">牡3</td>\n<td class=\"txt_c\" nowrap=\"nowrap\">57</td>\n<td class=\"txt_l\" nowrap=\"nowrap\">\n<a href=\"/jockey/01032/\" title=\"池添謙一\">池添謙一</a>\n</td>\n<td class=\"txt_r\" nowrap=\"nowrap\">2:01.9</td>\n<td class=\"txt_c\" nowrap=\"nowrap\">ハナ</td>\n<diary_snap_cut>\n<td class=\"speed_index bml\" nowrap=\"nowrap\">\n</td>\n<td nowrap=\"nowrap\">7-7-8-9</td>\n<td class=\"txt_c\" nowrap=\"nowrap\"><span>36.3</span></td>\n</diary_snap_cut>\n<td class=\"txt_r\" nowrap=\"nowrap\">13.0</td>\n<td align=\"right\" class=\"bml\" nowrap=\"nowrap\"><span>4</span></td>\n<td nowrap=\"nowrap\">486(-4)</td>\n<diary_snap_cut>\n<td class=\"txt_c\" nowrap=\"nowrap\">\n<a href=\"/?pid=horse_training&amp;id=2017105567&amp;rid=202006030811\"><img border=\"0\" height=\"13\" src=\"/style/netkeiba.ja/image/ico_oikiri.gif\" width=\"13\"/></a>\n</td>\n<td class=\"txt_c\" nowrap=\"nowrap\">\n<a href=\"/?pid=horse_comment&amp;id=2017105567&amp;rid=202006030811\"><img border=\"0\" height=\"13\" src=\"/style/netkeiba.ja/image/ico_comment.gif\" width=\"13\"/></a>\n</td>\n<td nowrap=\"nowrap\">\n</td>\n</diary_snap_cut>\n<td class=\"txt_l\" nowrap=\"nowrap\">\n[西]\n<a href=\"/trainer/01071/\" title=\"池江泰寿\">池江泰寿</a>\n</td>\n<diary_snap_cut>\n<td class=\"txt_l w8ml\" nowrap=\"nowrap\">\n<a href=\"/owner/226800/\" title=\"サンデーレーシング\">サンデーレーシング</a>\n</td>\n<td class=\"txt_r\" nowrap=\"nowrap\"></td>\n</diary_snap_cut>\n</tr><tr>\n<td class=\"txt_r\" nowrap=\"nowrap\">9</td>\n<td align=\"right\" class=\"w5ml\" nowrap=\"nowrap\"><span>5</span></td>\n<td class=\"txt_r\" nowrap=\"nowrap\">9</td>\n<td class=\"txt_l\" nowrap=\"nowrap\">\n<a href=\"/horse/2017105973/\" id=\"umalink_202006030811\" title=\"ブラックホール\">ブラックホール</a>\n</td>\n<td class=\"txt_c\" nowrap=\"nowrap\">牡3</td>\n<td class=\"txt_c\" nowrap=\"nowrap\">57</td>\n<td class=\"txt_l\" nowrap=\"nowrap\">\n<a href=\"/jockey/01150/\" title=\"石川裕紀\">石川裕紀</a>\n</td>\n<td class=\"txt_r\" nowrap=\"nowrap\">2:02.1</td>\n<td class=\"txt_c\" nowrap=\"nowrap\">1.1/4</td>\n<diary_snap_cut>\n<td class=\"speed_index bml\" nowrap=\"nowrap\">\n</td>\n<td nowrap=\"nowrap\">17-18-18-17</td>\n<td class=\"txt_c\" nowrap=\"nowrap\"><span>35.7</span></td>\n</diary_snap_cut>\n<td class=\"txt_r\" nowrap=\"nowrap\">99.5</td>\n<td align=\"right\" class=\"bml\" nowrap=\"nowrap\"><span>12</span></td>\n<td nowrap=\"nowrap\">432(+2)</td>\n<diary_snap_cut>\n<td class=\"txt_c\" nowrap=\"nowrap\">\n<a href=\"/?pid=horse_training&amp;id=2017105973&amp;rid=202006030811\"><img border=\"0\" height=\"13\" src=\"/style/netkeiba.ja/image/ico_oikiri.gif\" width=\"13\"/></a>\n</td>\n<td class=\"txt_c\" nowrap=\"nowrap\">\n<a href=\"/?pid=horse_comment&amp;id=2017105973&amp;rid=202006030811\"><img border=\"0\" height=\"13\" src=\"/style/netkeiba.ja/image/ico_comment.gif\" width=\"13\"/></a>\n</td>\n<td nowrap=\"nowrap\">\n</td>\n</diary_snap_cut>\n<td class=\"txt_l\" nowrap=\"nowrap\">\n[東]\n<a href=\"/trainer/01020/\" title=\"相沢郁\">相沢郁</a>\n</td>\n<diary_snap_cut>\n<td class=\"txt_l w5ml\" nowrap=\"nowrap\">\n<a href=\"/owner/683002/\" title=\"芹澤精一\">芹澤精一</a>\n</td>\n<td class=\"txt_r\" nowrap=\"nowrap\"></td>\n</diary_snap_cut>\n</tr><tr>\n<td class=\"txt_r\" nowrap=\"nowrap\">10</td>\n<td align=\"right\" class=\"w3ml\" nowrap=\"nowrap\"><span>3</span></td>\n<td class=\"txt_r\" nowrap=\"nowrap\">6</td>\n<td class=\"txt_l\" nowrap=\"nowrap\">\n<a href=\"/horse/2017102170/\" id=\"umalink_202006030811\" title=\"ディープボンド\">ディープボンド</a>\n</td>\n<td class=\"txt_c\" nowrap=\"nowrap\">牡3</td>\n<td class=\"txt_c\" nowrap=\"nowrap\">57</td>\n<td class=\"txt_l\" nowrap=\"nowrap\">\n<a href=\"/jockey/00660/\" title=\"横山典弘\">横山典弘</a>\n</td>\n<td class=\"txt_r\" nowrap=\"nowrap\">2:02.1</td>\n<td class=\"txt_c\" nowrap=\"nowrap\">アタマ</td>\n<diary_snap_cut>\n<td class=\"speed_index bml\" nowrap=\"nowrap\">\n</td>\n<td nowrap=\"nowrap\">4-4-4-4</td>\n<td class=\"txt_c\" nowrap=\"nowrap\"><span>36.8</span></td>\n</diary_snap_cut>\n<td class=\"txt_r\" nowrap=\"nowrap\">360.9</td>\n<td align=\"right\" class=\"bml\" nowrap=\"nowrap\"><span>18</span></td>\n<td nowrap=\"nowrap\">484(-6)</td>\n<diary_snap_cut>\n<td class=\"txt_c\" nowrap=\"nowrap\">\n<a href=\"/?pid=horse_training&amp;id=2017102170&amp;rid=202006030811\"><img border=\"0\" height=\"13\" src=\"/style/netkeiba.ja/image/ico_oikiri.gif\" width=\"13\"/></a>\n</td>\n<td class=\"txt_c\" nowrap=\"nowrap\">\n<a href=\"/?pid=horse_comment&amp;id=2017102170&amp;rid=202006030811\"><img border=\"0\" height=\"13\" src=\"/style/netkeiba.ja/image/ico_comment.gif\" width=\"13\"/></a>\n</td>\n<td nowrap=\"nowrap\">\n</td>\n</diary_snap_cut>\n<td class=\"txt_l\" nowrap=\"nowrap\">\n[西]\n<a href=\"/trainer/01058/\" title=\"大久保龍\">大久保龍</a>\n</td>\n<diary_snap_cut>\n<td class=\"txt_l w3ml\" nowrap=\"nowrap\">\n<a href=\"/owner/041002/\" title=\"前田晋二\">前田晋二</a>\n</td>\n<td class=\"txt_r\" nowrap=\"nowrap\"></td>\n</diary_snap_cut>\n</tr><tr>\n<td class=\"txt_r\" nowrap=\"nowrap\">11</td>\n<td align=\"right\" class=\"w1ml\" nowrap=\"nowrap\"><span>1</span></td>\n<td class=\"txt_r\" nowrap=\"nowrap\">2</td>\n<td class=\"txt_l\" nowrap=\"nowrap\">\n<a href=\"/horse/2017105241/\" id=\"umalink_202006030811\" title=\"レクセランス\">レクセランス</a>\n</td>\n<td class=\"txt_c\" nowrap=\"nowrap\">牡3</td>\n<td class=\"txt_c\" nowrap=\"nowrap\">57</td>\n<td class=\"txt_l\" nowrap=\"nowrap\">\n<a href=\"/jockey/01102/\" title=\"北村友一\">北村友一</a>\n</td>\n<td class=\"txt_r\" nowrap=\"nowrap\">2:02.1</td>\n<td class=\"txt_c\" nowrap=\"nowrap\">アタマ</td>\n<diary_snap_cut>\n<td class=\"speed_index bml\" nowrap=\"nowrap\">\n</td>\n<td nowrap=\"nowrap\">14-14-15-13</td>\n<td class=\"txt_c\" nowrap=\"nowrap\"><span>36.1</span></td>\n</diary_snap_cut>\n<td class=\"txt_r\" nowrap=\"nowrap\">62.9</td>\n<td align=\"right\" class=\"bml\" nowrap=\"nowrap\"><span>9</span></td>\n<td nowrap=\"nowrap\">482(-4)</td>\n<diary_snap_cut>\n<td class=\"txt_c\" nowrap=\"nowrap\">\n<a href=\"/?pid=horse_training&amp;id=2017105241&amp;rid=202006030811\"><img border=\"0\" height=\"13\" src=\"/style/netkeiba.ja/image/ico_oikiri.gif\" width=\"13\"/></a>\n</td>\n<td class=\"txt_c\" nowrap=\"nowrap\">\n<a href=\"/?pid=horse_comment&amp;id=2017105241&amp;rid=202006030811\"><img border=\"0\" height=\"13\" src=\"/style/netkeiba.ja/image/ico_comment.gif\" width=\"13\"/></a>\n</td>\n<td nowrap=\"nowrap\">\n</td>\n</diary_snap_cut>\n<td class=\"txt_l\" nowrap=\"nowrap\">\n[西]\n<a href=\"/trainer/01144/\" title=\"池添学\">池添学</a>\n</td>\n<diary_snap_cut>\n<td class=\"txt_l w1ml\" nowrap=\"nowrap\">\n<a href=\"/owner/506800/\" title=\"シルクレーシング\">シルクレーシング</a>\n</td>\n<td class=\"txt_r\" nowrap=\"nowrap\"></td>\n</diary_snap_cut>\n</tr><tr>\n<td class=\"txt_r\" nowrap=\"nowrap\">12</td>\n<td align=\"right\" class=\"w5ml\" nowrap=\"nowrap\"><span>5</span></td>\n<td class=\"txt_r\" nowrap=\"nowrap\">10</td>\n<td class=\"txt_l\" nowrap=\"nowrap\">\n<a href=\"/horse/2017110067/\" id=\"umalink_202006030811\" title=\"アメリカンシード\">アメリカンシード</a>\n</td>\n<td class=\"txt_c\" nowrap=\"nowrap\">牡3</td>\n<td class=\"txt_c\" nowrap=\"nowrap\">57</td>\n<td class=\"txt_l\" nowrap=\"nowrap\">\n<a href=\"/jockey/01127/\" title=\"丸山元気\">丸山元気</a>\n</td>\n<td class=\"txt_r\" nowrap=\"nowrap\">2:02.2</td>\n<td class=\"txt_c\" nowrap=\"nowrap\">クビ</td>\n<diary_snap_cut>\n<td class=\"speed_index bml\" nowrap=\"nowrap\">\n</td>\n<td nowrap=\"nowrap\">14-16-15-18</td>\n<td class=\"txt_c\" nowrap=\"nowrap\"><span>36.1</span></td>\n</diary_snap_cut>\n<td class=\"txt_r\" nowrap=\"nowrap\">319.1</td>\n<td align=\"right\" class=\"bml\" nowrap=\"nowrap\"><span>16</span></td>\n<td nowrap=\"nowrap\">464(-8)</td>\n<diary_snap_cut>\n<td class=\"txt_c\" nowrap=\"nowrap\">\n<a href=\"/?pid=horse_training&amp;id=2017110067&amp;rid=202006030811\"><img border=\"0\" height=\"13\" src=\"/style/netkeiba.ja/image/ico_oikiri.gif\" width=\"13\"/></a>\n</td>\n<td class=\"txt_c\" nowrap=\"nowrap\">\n<a href=\"/?pid=horse_comment&amp;id=2017110067&amp;rid=202006030811\"><img border=\"0\" height=\"13\" src=\"/style/netkeiba.ja/image/ico_comment.gif\" width=\"13\"/></a>\n</td>\n<td nowrap=\"nowrap\">\n</td>\n</diary_snap_cut>\n<td class=\"txt_l\" nowrap=\"nowrap\">\n[西]\n<a href=\"/trainer/01062/\" title=\"藤岡健一\">藤岡健一</a>\n</td>\n<diary_snap_cut>\n<td class=\"txt_l w5ml\" nowrap=\"nowrap\">\n<a href=\"/owner/367008/\" title=\"吉澤克己\">吉澤克己</a>\n</td>\n<td class=\"txt_r\" nowrap=\"nowrap\"></td>\n</diary_snap_cut>\n</tr><tr>\n<td class=\"txt_r\" nowrap=\"nowrap\">13</td>\n<td align=\"right\" class=\"w6ml\" nowrap=\"nowrap\"><span>6</span></td>\n<td class=\"txt_r\" nowrap=\"nowrap\">12</td>\n<td class=\"txt_l\" nowrap=\"nowrap\">\n<a href=\"/horse/2017105434/\" id=\"umalink_202006030811\" title=\"マイラプソディ\">マイラプソディ</a>\n</td>\n<td class=\"txt_c\" nowrap=\"nowrap\">牡3</td>\n<td class=\"txt_c\" nowrap=\"nowrap\">57</td>\n<td class=\"txt_l\" nowrap=\"nowrap\">\n<a href=\"/jockey/00666/\" title=\"武豊\">武豊</a>\n</td>\n<td class=\"txt_r\" nowrap=\"nowrap\">2:02.2</td>\n<td class=\"txt_c\" nowrap=\"nowrap\">アタマ</td>\n<diary_snap_cut>\n<td class=\"speed_index bml\" nowrap=\"nowrap\">\n</td>\n<td nowrap=\"nowrap\">12-12-8-9</td>\n<td class=\"txt_c\" nowrap=\"nowrap\"><span>36.6</span></td>\n</diary_snap_cut>\n<td class=\"txt_r\" nowrap=\"nowrap\">22.6</td>\n<td align=\"right\" class=\"bml\" nowrap=\"nowrap\"><span>7</span></td>\n<td nowrap=\"nowrap\">504(-4)</td>\n<diary_snap_cut>\n<td class=\"txt_c\" nowrap=\"nowrap\">\n<a href=\"/?pid=horse_training&amp;id=2017105434&amp;rid=202006030811\"><img border=\"0\" height=\"13\" src=\"/style/netkeiba.ja/image/ico_oikiri.gif\" width=\"13\"/></a>\n</td>\n<td class=\"txt_c\" nowrap=\"nowrap\">\n<a href=\"/?pid=horse_comment&amp;id=2017105434&amp;rid=202006030811\"><img border=\"0\" height=\"13\" src=\"/style/netkeiba.ja/image/ico_comment.gif\" width=\"13\"/></a>\n</td>\n<td nowrap=\"nowrap\">\n</td>\n</diary_snap_cut>\n<td class=\"txt_l\" nowrap=\"nowrap\">\n[西]\n<a href=\"/trainer/01061/\" title=\"友道康夫\">友道康夫</a>\n</td>\n<diary_snap_cut>\n<td class=\"txt_l w6ml\" nowrap=\"nowrap\">\n<a href=\"/owner/002803/\" title=\"キーファーズ\">キーファーズ</a>\n</td>\n<td class=\"txt_r\" nowrap=\"nowrap\"></td>\n</diary_snap_cut>\n</tr><tr>\n<td class=\"txt_r\" nowrap=\"nowrap\">14</td>\n<td align=\"right\" class=\"w8ml\" nowrap=\"nowrap\"><span>8</span></td>\n<td class=\"txt_r\" nowrap=\"nowrap\">18</td>\n<td class=\"txt_l\" nowrap=\"nowrap\">\n<a href=\"/horse/2017103572/\" id=\"umalink_202006030811\" title=\"ビターエンダー\">ビターエンダー</a>\n</td>\n<td class=\"txt_c\" nowrap=\"nowrap\">牡3</td>\n<td class=\"txt_c\" nowrap=\"nowrap\">57</td>\n<td class=\"txt_l\" nowrap=\"nowrap\">\n<a href=\"/jockey/01092/\" title=\"津村明秀\">津村明秀</a>\n</td>\n<td class=\"txt_r\" nowrap=\"nowrap\">2:02.4</td>\n<td class=\"txt_c\" nowrap=\"nowrap\">1.1/4</td>\n<diary_snap_cut>\n<td class=\"speed_index bml\" nowrap=\"nowrap\">\n</td>\n<td nowrap=\"nowrap\">3-3-3-3</td>\n<td class=\"txt_c\" nowrap=\"nowrap\"><span>37.2</span></td>\n</diary_snap_cut>\n<td class=\"txt_r\" nowrap=\"nowrap\">81.2</td>\n<td align=\"right\" class=\"bml\" nowrap=\"nowrap\"><span>11</span></td>\n<td nowrap=\"nowrap\">464(+4)</td>\n<diary_snap_cut>\n<td class=\"txt_c\" nowrap=\"nowrap\">\n<a href=\"/?pid=horse_training&amp;id=2017103572&amp;rid=202006030811\"><img border=\"0\" height=\"13\" src=\"/style/netkeiba.ja/image/ico_oikiri.gif\" width=\"13\"/></a>\n</td>\n<td class=\"txt_c\" nowrap=\"nowrap\">\n<a href=\"/?pid=horse_comment&amp;id=2017103572&amp;rid=202006030811\"><img border=\"0\" height=\"13\" src=\"/style/netkeiba.ja/image/ico_comment.gif\" width=\"13\"/></a>\n</td>\n<td nowrap=\"nowrap\">\n</td>\n</diary_snap_cut>\n<td class=\"txt_l\" nowrap=\"nowrap\">\n[東]\n<a href=\"/trainer/01020/\" title=\"相沢郁\">相沢郁</a>\n</td>\n<diary_snap_cut>\n<td class=\"txt_l w8ml\" nowrap=\"nowrap\">\n<a href=\"/owner/547800/\" title=\"ヒダカ・ブリーダーズ・ユニオン\">ヒダカ・ブリーダーズ・ユニオン</a>\n</td>\n<td class=\"txt_r\" nowrap=\"nowrap\"></td>\n</diary_snap_cut>\n</tr><tr>\n<td class=\"txt_r\" nowrap=\"nowrap\">15</td>\n<td align=\"right\" class=\"w7ml\" nowrap=\"nowrap\"><span>7</span></td>\n<td class=\"txt_r\" nowrap=\"nowrap\">15</td>\n<td class=\"txt_l\" nowrap=\"nowrap\">\n<a href=\"/horse/2017105194/\" id=\"umalink_202006030811\" title=\"ラインベック\">ラインベック</a>\n</td>\n<td class=\"txt_c\" nowrap=\"nowrap\">牡3</td>\n<td class=\"txt_c\" nowrap=\"nowrap\">57</td>\n<td class=\"txt_l\" nowrap=\"nowrap\">\n<a href=\"/jockey/05203/\" title=\"岩田康誠\">岩田康誠</a>\n</td>\n<td class=\"txt_r\" nowrap=\"nowrap\">2:02.4</td>\n<td class=\"txt_c\" nowrap=\"nowrap\">クビ</td>\n<diary_snap_cut>\n<td class=\"speed_index bml\" nowrap=\"nowrap\">\n</td>\n<td nowrap=\"nowrap\">6-5-4-7</td>\n<td class=\"txt_c\" nowrap=\"nowrap\"><span>37.1</span></td>\n</diary_snap_cut>\n<td class=\"txt_r\" nowrap=\"nowrap\">160.8</td>\n<td align=\"right\" class=\"bml\" nowrap=\"nowrap\"><span>14</span></td>\n<td nowrap=\"nowrap\">476(+8)</td>\n<diary_snap_cut>\n<td class=\"txt_c\" nowrap=\"nowrap\">\n<a href=\"/?pid=horse_training&amp;id=2017105194&amp;rid=202006030811\"><img border=\"0\" height=\"13\" src=\"/style/netkeiba.ja/image/ico_oikiri.gif\" width=\"13\"/></a>\n</td>\n<td class=\"txt_c\" nowrap=\"nowrap\">\n<a href=\"/?pid=horse_comment&amp;id=2017105194&amp;rid=202006030811\"><img border=\"0\" height=\"13\" src=\"/style/netkeiba.ja/image/ico_comment.gif\" width=\"13\"/></a>\n</td>\n<td nowrap=\"nowrap\">\n</td>\n</diary_snap_cut>\n<td class=\"txt_l\" nowrap=\"nowrap\">\n[西]\n<a href=\"/trainer/01061/\" title=\"友道康夫\">友道康夫</a>\n</td>\n<diary_snap_cut>\n<td class=\"txt_l w7ml\" nowrap=\"nowrap\">\n<a href=\"/owner/708800/\" title=\"金子真人ホールディングス\">金子真人ホールディングス</a>\n</td>\n<td class=\"txt_r\" nowrap=\"nowrap\"></td>\n</diary_snap_cut>\n</tr><tr>\n<td class=\"txt_r\" nowrap=\"nowrap\">16</td>\n<td align=\"right\" class=\"w6ml\" nowrap=\"nowrap\"><span>6</span></td>\n<td class=\"txt_r\" nowrap=\"nowrap\">11</td>\n<td class=\"txt_l\" nowrap=\"nowrap\">\n<a href=\"/horse/2017101299/\" id=\"umalink_202006030811\" title=\"クリスタルブラック\">クリスタルブラック</a>\n</td>\n<td class=\"txt_c\" nowrap=\"nowrap\">牡3</td>\n<td class=\"txt_c\" nowrap=\"nowrap\">57</td>\n<td class=\"txt_l\" nowrap=\"nowrap\">\n<a href=\"/jockey/00733/\" title=\"吉田豊\">吉田豊</a>\n</td>\n<td class=\"txt_r\" nowrap=\"nowrap\">2:02.5</td>\n<td class=\"txt_c\" nowrap=\"nowrap\">3/4</td>\n<diary_snap_cut>\n<td class=\"speed_index bml\" nowrap=\"nowrap\">\n</td>\n<td nowrap=\"nowrap\">17-16-15-13</td>\n<td class=\"txt_c\" nowrap=\"nowrap\"><span>36.4</span></td>\n</diary_snap_cut>\n<td class=\"txt_r\" nowrap=\"nowrap\">14.6</td>\n<td align=\"right\" class=\"bml\" nowrap=\"nowrap\"><span>5</span></td>\n<td nowrap=\"nowrap\">474(-2)</td>\n<diary_snap_cut>\n<td class=\"txt_c\" nowrap=\"nowrap\">\n<a href=\"/?pid=horse_training&amp;id=2017101299&amp;rid=202006030811\"><img border=\"0\" height=\"13\" src=\"/style/netkeiba.ja/image/ico_oikiri.gif\" width=\"13\"/></a>\n</td>\n<td class=\"txt_c\" nowrap=\"nowrap\">\n<a href=\"/?pid=horse_comment&amp;id=2017101299&amp;rid=202006030811\"><img border=\"0\" height=\"13\" src=\"/style/netkeiba.ja/image/ico_comment.gif\" width=\"13\"/></a>\n</td>\n<td nowrap=\"nowrap\">\n</td>\n</diary_snap_cut>\n<td class=\"txt_l\" nowrap=\"nowrap\">\n[東]\n<a href=\"/trainer/01134/\" title=\"高橋文雅\">高橋文雅</a>\n</td>\n<diary_snap_cut>\n<td class=\"txt_l w6ml\" nowrap=\"nowrap\">\n<a href=\"/owner/548009/\" title=\"岡田勇\">岡田勇</a>\n</td>\n<td class=\"txt_r\" nowrap=\"nowrap\"></td>\n</diary_snap_cut>\n</tr><tr>\n<td class=\"txt_r\" nowrap=\"nowrap\">17</td>\n<td align=\"right\" class=\"w7ml\" nowrap=\"nowrap\"><span>7</span></td>\n<td class=\"txt_r\" nowrap=\"nowrap\">14</td>\n<td class=\"txt_l\" nowrap=\"nowrap\">\n<a href=\"/horse/2017101833/\" id=\"umalink_202006030811\" title=\"キメラヴェリテ\">キメラヴェリテ</a>\n</td>\n<td class=\"txt_c\" nowrap=\"nowrap\">牡3</td>\n<td class=\"txt_c\" nowrap=\"nowrap\">57</td>\n<td class=\"txt_l\" nowrap=\"nowrap\">\n<a href=\"/jockey/01116/\" title=\"藤岡康太\">藤岡康太</a>\n</td>\n<td class=\"txt_r\" nowrap=\"nowrap\">2:02.6</td>\n<td class=\"txt_c\" nowrap=\"nowrap\">クビ</td>\n<diary_snap_cut>\n<td class=\"speed_index bml\" nowrap=\"nowrap\">\n</td>\n<td nowrap=\"nowrap\">1-1-1-1</td>\n<td class=\"txt_c\" nowrap=\"nowrap\"><span>37.7</span></td>\n</diary_snap_cut>\n<td class=\"txt_r\" nowrap=\"nowrap\">63.5</td>\n<td align=\"right\" class=\"bml\" nowrap=\"nowrap\"><span>10</span></td>\n<td nowrap=\"nowrap\">538(0)</td>\n<diary_snap_cut>\n<td class=\"txt_c\" nowrap=\"nowrap\">\n<a href=\"/?pid=horse_training&amp;id=2017101833&amp;rid=202006030811\"><img border=\"0\" height=\"13\" src=\"/style/netkeiba.ja/image/ico_oikiri.gif\" width=\"13\"/></a>\n</td>\n<td class=\"txt_c\" nowrap=\"nowrap\">\n<a href=\"/?pid=horse_comment&amp;id=2017101833&amp;rid=202006030811\"><img border=\"0\" height=\"13\" src=\"/style/netkeiba.ja/image/ico_comment.gif\" width=\"13\"/></a>\n</td>\n<td nowrap=\"nowrap\">\n</td>\n</diary_snap_cut>\n<td class=\"txt_l\" nowrap=\"nowrap\">\n[西]\n<a href=\"/trainer/01039/\" title=\"中竹和也\">中竹和也</a>\n</td>\n<diary_snap_cut>\n<td class=\"txt_l w7ml\" nowrap=\"nowrap\">\n<a href=\"/owner/944030/\" title=\"加藤誠\">加藤誠</a>\n</td>\n<td class=\"txt_r\" nowrap=\"nowrap\"></td>\n</diary_snap_cut>\n</tr><tr>\n<td class=\"txt_r\" nowrap=\"nowrap\">18</td>\n<td align=\"right\" class=\"w2ml\" nowrap=\"nowrap\"><span>2</span></td>\n<td class=\"txt_r\" nowrap=\"nowrap\">4</td>\n<td class=\"txt_l\" nowrap=\"nowrap\">\n<a href=\"/horse/2017101755/\" id=\"umalink_202006030811\" title=\"テンピン\">テンピン</a>\n</td>\n<td class=\"txt_c\" nowrap=\"nowrap\">牡3</td>\n<td class=\"txt_c\" nowrap=\"nowrap\">57</td>\n<td class=\"txt_l\" nowrap=\"nowrap\">\n<a href=\"/jockey/01141/\" title=\"中井裕二\">中井裕二</a>\n</td>\n<td class=\"txt_r\" nowrap=\"nowrap\">2:03.3</td>\n<td class=\"txt_c\" nowrap=\"nowrap\">4</td>\n<diary_snap_cut>\n<td class=\"speed_index bml\" nowrap=\"nowrap\">\n</td>\n<td nowrap=\"nowrap\">7-7-10-13</td>\n<td class=\"txt_c\" nowrap=\"nowrap\"><span>37.6</span></td>\n</diary_snap_cut>\n<td class=\"txt_r\" nowrap=\"nowrap\">237.4</td>\n<td align=\"right\" class=\"bml\" nowrap=\"nowrap\"><span>15</span></td>\n<td nowrap=\"nowrap\">500(-2)</td>\n<diary_snap_cut>\n<td class=\"txt_c\" nowrap=\"nowrap\">\n<a href=\"/?pid=horse_training&amp;id=2017101755&amp;rid=202006030811\"><img border=\"0\" height=\"13\" src=\"/style/netkeiba.ja/image/ico_oikiri.gif\" width=\"13\"/></a>\n</td>\n<td class=\"txt_c\" nowrap=\"nowrap\">\n<a href=\"/?pid=horse_comment&amp;id=2017101755&amp;rid=202006030811\"><img border=\"0\" height=\"13\" src=\"/style/netkeiba.ja/image/ico_comment.gif\" width=\"13\"/></a>\n</td>\n<td nowrap=\"nowrap\">\n</td>\n</diary_snap_cut>\n<td class=\"txt_l\" nowrap=\"nowrap\">\n[西]\n<a href=\"/trainer/00438/\" title=\"安田隆行\">安田隆行</a>\n</td>\n<diary_snap_cut>\n<td class=\"txt_l w2ml\" nowrap=\"nowrap\">\n<a href=\"/owner/059700/\" title=\"ユアストーリー\">ユアストーリー</a>\n</td>\n<td class=\"txt_r\" nowrap=\"nowrap\"></td>\n</diary_snap_cut>\n</tr>\n</table>"
     },
     "metadata": {},
     "execution_count": 22
    }
   ],
   "source": [
    "soup_table = soup.find(\"table\", class_=\"race_table_01 nk_tb_common\")#class属性が\"race_table_01 nk_tb_common\"のtableタグ取得\n",
    "soup_table "
   ]
  },
  {
   "cell_type": "code",
   "execution_count": 24,
   "metadata": {},
   "outputs": [
    {
     "output_type": "execute_result",
     "data": {
      "text/plain": "<tr>\n<td class=\"txt_r\" nowrap=\"nowrap\">1</td>\n<td align=\"right\" class=\"w1ml\" nowrap=\"nowrap\"><span>1</span></td>\n<td class=\"txt_r\" nowrap=\"nowrap\">1</td>\n<td class=\"txt_l\" nowrap=\"nowrap\">\n<a href=\"/horse/2017101835/\" id=\"umalink_202006030811\" title=\"コントレイル\">コントレイル</a>\n</td>\n<td class=\"txt_c\" nowrap=\"nowrap\">牡3</td>\n<td class=\"txt_c\" nowrap=\"nowrap\">57</td>\n<td class=\"txt_l\" nowrap=\"nowrap\">\n<a href=\"/jockey/01014/\" title=\"福永祐一\">福永祐一</a>\n</td>\n<td class=\"txt_r\" nowrap=\"nowrap\">2:00.7</td>\n<td class=\"txt_c\" nowrap=\"nowrap\"></td>\n<diary_snap_cut>\n<td class=\"speed_index bml\" nowrap=\"nowrap\">\n</td>\n<td nowrap=\"nowrap\">12-12-12-7</td>\n<td class=\"txt_c\" nowrap=\"nowrap\"><span>34.9</span></td>\n</diary_snap_cut>\n<td class=\"txt_r\" nowrap=\"nowrap\">2.7</td>\n<td align=\"right\" class=\"r1ml\" nowrap=\"nowrap\"><span>1</span></td>\n<td nowrap=\"nowrap\">462(0)</td>\n<diary_snap_cut>\n<td class=\"txt_c\" nowrap=\"nowrap\">\n<a href=\"/?pid=horse_training&amp;id=2017101835&amp;rid=202006030811\"><img border=\"0\" height=\"13\" src=\"/style/netkeiba.ja/image/ico_oikiri.gif\" width=\"13\"/></a>\n</td>\n<td class=\"txt_c\" nowrap=\"nowrap\">\n<a href=\"/?pid=horse_comment&amp;id=2017101835&amp;rid=202006030811\"><img border=\"0\" height=\"13\" src=\"/style/netkeiba.ja/image/ico_comment.gif\" width=\"13\"/></a>\n</td>\n<td nowrap=\"nowrap\">\n</td>\n</diary_snap_cut>\n<td class=\"txt_l\" nowrap=\"nowrap\">\n[西]\n<a href=\"/trainer/01075/\" title=\"矢作芳人\">矢作芳人</a>\n</td>\n<diary_snap_cut>\n<td class=\"txt_l w1ml\" nowrap=\"nowrap\">\n<a href=\"/owner/041002/\" title=\"前田晋二\">前田晋二</a>\n</td>\n<td class=\"txt_r\" nowrap=\"nowrap\">13,463.3</td>\n</diary_snap_cut>\n</tr>"
     },
     "metadata": {},
     "execution_count": 24
    }
   ],
   "source": [
    "soup_tr = soup_table.find_all('tr')[1]#二番目のtrタグ取得\n",
    "soup_tr"
   ]
  },
  {
   "cell_type": "code",
   "execution_count": 35,
   "metadata": {},
   "outputs": [
    {
     "output_type": "execute_result",
     "data": {
      "text/plain": "<a href=\"/horse/2017101835/\" id=\"umalink_202006030811\" title=\"コントレイル\">コントレイル</a>"
     },
     "metadata": {},
     "execution_count": 35
    }
   ],
   "source": [
    "soup_a = soup_tr.find(\"a\")#１番目のaタグを取得"
   ]
  },
  {
   "cell_type": "code",
   "execution_count": 29,
   "metadata": {},
   "outputs": [
    {
     "output_type": "execute_result",
     "data": {
      "text/plain": "'コントレイル'"
     },
     "metadata": {},
     "execution_count": 29
    }
   ],
   "source": [
    "soup_a.get_text()#タグの中のテキストを取得"
   ]
  },
  {
   "cell_type": "code",
   "execution_count": 36,
   "metadata": {},
   "outputs": [
    {
     "output_type": "execute_result",
     "data": {
      "text/plain": "'コントレイル'"
     },
     "metadata": {},
     "execution_count": 36
    }
   ],
   "source": [
    "soup.find(\"table\", class_=\"race_table_01 nk_tb_common\").find_all(\"tr\")[1].find(\"a\").get_text()"
   ]
  },
  {
   "cell_type": "code",
   "execution_count": 31,
   "metadata": {},
   "outputs": [],
   "source": [
    "import numpy as np\n",
    "import pandas as pd\n",
    "from bs4 import BeautifulSoup\n",
    "import os\n",
    "import requests\n",
    "import time\n",
    "\n",
    "\n",
    "race_data_columns=[\n",
    "    'race_id',\n",
    "    'race_round',\n",
    "    'race_title',\n",
    "    'race_course',\n",
    "    'weather',\n",
    "    'ground_status',\n",
    "    'time',\n",
    "    'date',\n",
    "    'where_racecourse',\n",
    "    'total_horse_number',\n",
    "    'frame_number_first',\n",
    "    'horse_number_first',\n",
    "    'frame_number_second',\n",
    "    'horse_number_second',\n",
    "    'frame_number_third',\n",
    "    'horse_number_third',\n",
    "    'tansyo',\n",
    "    'hukusyo_first',\n",
    "    'hukusyo_second',\n",
    "    'hukusyo_third',\n",
    "    'wakuren',\n",
    "    'umaren',\n",
    "    'wide_1_2',\n",
    "    'wide_1_3',\n",
    "    'wide_2_3',\n",
    "    'umatan',\n",
    "    'renhuku3',\n",
    "    'rentan3'\n",
    "    ]\n",
    "\n",
    "horse_data_columns=[\n",
    "    'race_id',\n",
    "    'rank',\n",
    "    'frame_number',\n",
    "    'horse_number',\n",
    "    'horse_id',\n",
    "    'sex_and_age',\n",
    "    'burden_weight',\n",
    "    'rider_id',\n",
    "    'goal_time',\n",
    "    'goal_time_dif',\n",
    "    'time_value',\n",
    "    'half_way_rank',\n",
    "    'last_time',\n",
    "    'odds',\n",
    "    'popular',\n",
    "    'horse_weight',\n",
    "    'tame_time',\n",
    "    'tamer_id',\n",
    "    'owner_id'\n",
    "]\n",
    "\n",
    "\n",
    "def scrape_race_and_horse_data_by_html(race_id, html):\n",
    "    \"\"\"\n",
    "    HTMLファイルからレースと馬のデータを取得\n",
    "    戻り値1: list型 レースデータ\n",
    "    戻り値2: list型 馬データ\n",
    "    \"\"\"\n",
    "    race_list = [race_id]\n",
    "    horse_list_list = []\n",
    "    soup = BeautifulSoup(html, 'html.parser')\n",
    "    #####################\n",
    "    # race_data\n",
    "    #####################\n",
    "    data_intro = soup.find(\"div\", class_=\"data_intro\")\n",
    "    \n",
    "    race_list.append(data_intro.find(\"dt\").get_text().strip(\"\\n\")) # race_round\n",
    "    race_list.append(data_intro.find(\"h1\").get_text().strip(\"\\n\")) # race_title\n",
    "\n",
    "    race_details1 = data_intro.find(\"p\").get_text().strip(\"\\n\").split(\"\\xa0/\\xa0\")\n",
    "    race_list.append(race_details1[0]) # race_course\n",
    "    race_list.append(race_details1[1]) # weather\n",
    "    race_list.append(race_details1[2]) # ground_status\n",
    "    race_list.append(race_details1[3][5:10]) # time\n",
    "\n",
    "    race_details2 = data_intro.find(\"p\", class_=\"smalltxt\").get_text().strip(\"\\n\").split(\" \")\n",
    "    race_list.append(race_details2[0]) # date\n",
    "    race_list.append(race_details2[1]) # where_racecourse\n",
    "\n",
    "\n",
    "    result_rows = soup.find(\"table\", class_=\"race_table_01 nk_tb_common\").findAll('tr') \n",
    "    race_list.append(len(result_rows)-1) # total_horse_number\n",
    "    for i in range(1,4):\n",
    "        row = result_rows[i].findAll('td')\n",
    "        race_list.append(row[1].get_text()) # frame_number_first or second or third\n",
    "        race_list.append(row[2].get_text()) # horse_number_first or second or third\n",
    "\n",
    "\n",
    "    pay_back_tables = soup.findAll(\"table\", class_=\"pay_table_01\")\n",
    "\n",
    "    pay_back1 = pay_back_tables[0].findAll('tr')\n",
    "    race_list.append(pay_back1[0].find(\"td\", class_=\"txt_r\").get_text()) #tansyo\n",
    "    hukuren = pay_back1[1].find(\"td\", class_=\"txt_r\")\n",
    "    tmp = []\n",
    "    for string in hukuren.strings:\n",
    "        tmp.append(string)\n",
    "    for i in range(3):\n",
    "        try:\n",
    "            race_list.append(tmp[i]) # hukuren_first or second or third\n",
    "        except IndexError:\n",
    "            race_list.append(\"0\")\n",
    "    try:\n",
    "        race_list.append(pay_back1[2].find(\"td\", class_=\"txt_r\").get_text())\n",
    "    except IndexError:\n",
    "        race_list.append(\"0\")\n",
    "\n",
    "    try:\n",
    "        race_list.append(pay_back1[3].find(\"td\", class_=\"txt_r\").get_text())\n",
    "    except IndexError:\n",
    "        race_list.append(\"0\")\n",
    "\n",
    "\n",
    "\n",
    "    pay_back2 = pay_back_tables[1].findAll('tr')\n",
    "    # wide 1&2\n",
    "    wide = pay_back2[0].find(\"td\", class_=\"txt_r\")\n",
    "    tmp = []\n",
    "    for string in wide.strings:\n",
    "        tmp.append(string)\n",
    "    for i in range(3):\n",
    "        try:\n",
    "            race_list.append(tmp[i]) # hukuren_first or second or third\n",
    "        except IndexError:\n",
    "            race_list.append(\"0\")\n",
    "\n",
    "    # umatan\n",
    "    race_list.append(pay_back2[1].find(\"td\", class_=\"txt_r\").get_text()) #umatan\n",
    "\n",
    "    race_list.append(pay_back2[2].find(\"td\", class_=\"txt_r\").get_text()) #renhuku3\n",
    "    try:\n",
    "        race_list.append(pay_back2[3].find(\"td\", class_=\"txt_r\").get_text()) #rentan3\n",
    "    except IndexError:\n",
    "        race_list.append(\"0\")\n",
    "    ####################\n",
    "    # horse data\n",
    "    ####################\n",
    "    for rank in range(1, len(result_rows)):\n",
    "        horse_list = [race_id]\n",
    "        result_row = result_rows[rank].findAll(\"td\")\n",
    "        # rank\n",
    "        horse_list.append(result_row[0].get_text().strip())\n",
    "        # frame_number\n",
    "        horse_list.append(result_row[1].get_text().strip())\n",
    "        # horse_number\n",
    "        horse_list.append(result_row[2].get_text().strip())\n",
    "        # horse_id\n",
    "        horse_list.append(result_row[3].find('a').get('href').split(\"/\")[-2].strip())\n",
    "        # sex_and_age\n",
    "        horse_list.append(result_row[4].get_text().strip())\n",
    "        # burden_weight\n",
    "        horse_list.append(result_row[5].get_text().strip())\n",
    "        # rider_id\n",
    "        horse_list.append(result_row[6].find('a').get('href').split(\"/\")[-2].strip())\n",
    "        # goal_time\n",
    "        horse_list.append(result_row[7].get_text().strip())\n",
    "        # goal_time_dif\n",
    "        horse_list.append(result_row[8].get_text().strip())\n",
    "        # time_value(premium)\n",
    "        horse_list.append(result_row[9].get_text().strip())\n",
    "        # half_way_rank\n",
    "        horse_list.append(result_row[10].get_text().strip())\n",
    "        # last_time\n",
    "        horse_list.append(result_row[11].get_text().strip())\n",
    "        # odds\n",
    "        horse_list.append(result_row[12].get_text().strip())\n",
    "        # popular\n",
    "        horse_list.append(result_row[13].get_text().strip())\n",
    "        # horse_weight\n",
    "        horse_list.append(result_row[14].get_text().strip())\n",
    "        # tame_time(premium)\n",
    "        horse_list.append(result_row[15].get_text().strip())\n",
    "        # tamer_id\n",
    "        horse_list.append(result_row[18].find('a').get('href').split(\"/\")[-2].strip())\n",
    "        # owner_id\n",
    "        horse_list.append(result_row[19].find('a').get('href').split(\"/\")[-2].strip())\n",
    "\n",
    "        horse_list_list.append(horse_list)\n",
    "\n",
    "    return race_list, horse_list_list\n",
    "\n",
    "def request_html(url):\n",
    "    \"\"\"\n",
    "    URLからHTMLファイルを取得する\n",
    "    戻り値: str型　HTMLのデータ\n",
    "    \"\"\"\n",
    "    response = requests.get(url)\n",
    "    response.encoding = response.apparent_encoding\n",
    "    html = response.text\n",
    "    time.sleep(1)\n",
    "    return html\n",
    "\n",
    "def create_csv(urls):\n",
    "    \"\"\"\n",
    "    URLからレースと馬のデータを取得しCSVに保存する\n",
    "    戻り値1:list型 レース\n",
    "    戻り値2:list型　馬のデータ\n",
    "    \"\"\"\n",
    "    CSV_DIR = \"csv\"\n",
    "    if not os.path.isdir(CSV_DIR):\n",
    "        os.makedirs(CSV_DIR)\n",
    "    save_race_csv = CSV_DIR+\"/race.csv\"\n",
    "    horse_race_csv = CSV_DIR+\"/horse.csv\"\n",
    "    race_df = pd.DataFrame(columns=race_data_columns )\n",
    "    horse_df = pd.DataFrame(columns=horse_data_columns )\n",
    "\n",
    "    count = 0\n",
    "\n",
    "    for url in urls:\n",
    "        print(url)\n",
    "        list = url.split(\"/\")\n",
    "        race_id = list[-2]\n",
    "        \n",
    "        html = request_html(url)\n",
    "        race_list, horse_list_list = scrape_race_and_horse_data_by_html(race_id, html)\n",
    "        #horse_data\n",
    "        for horse_list in horse_list_list:\n",
    "            horse_se = pd.Series( horse_list, index=horse_df.columns)\n",
    "            horse_df = horse_df.append(horse_se, ignore_index=True)\n",
    "        #race_data\n",
    "        race_se = pd.Series(race_list, index=race_df.columns )\n",
    "        race_df = race_df.append(race_se, ignore_index=True )\n",
    "\n",
    "        #250ごとにデータをCSVに変換しておく\n",
    "        if count == 250:\n",
    "            count = 0\n",
    "            race_df.to_csv(save_race_csv, header=True, index=False)\n",
    "            horse_df.to_csv(horse_race_csv, header=True, index=False)\n",
    "\n",
    "        \n",
    "\n",
    "    race_df.to_csv(save_race_csv, header=True, index=False)\n",
    "    horse_df.to_csv(horse_race_csv, header=True, index=False)\n",
    "    return race_list, horse_list_list"
   ]
  },
  {
   "cell_type": "code",
   "execution_count": 34,
   "metadata": {},
   "outputs": [
    {
     "output_type": "stream",
     "name": "stdout",
     "text": "https://db.netkeiba.com/race/202006030811.html\n------------------race_list-------------------\n['race', '11 R', '第80回皐月賞(G1)', '芝右2000m', '天候 : 晴', '芝 : 稍重', '15:40', '2020年4月19日', '3回中山8日目', 18, '1', '1', '4', '7', '8', '16', '270', '140', '170', '690', '640', '660', '330', '2,250', '2,610', '1,120', '9,150', '26,310']\n------------------horse_list_list-------------------\n[['race', '1', '1', '1', '2017101835', '牡3', '57', '01014', '2:00.7', '', '', '12-12-12-7', '34.9', '2.7', '1', '462(0)', '', '01075', '041002'], ['race', '2', '4', '7', '2017105327', '牡3', '57', '05585', '2:00.8', '1/2', '', '4-5-6-4', '35.4', '3.8', '3', '536(-2)', '', '01070', '506800'], ['race', '3', '8', '16', '2017102833', '牡3', '57', '05596', '2:01.4', '3.1/2', '', '11-11-10-9', '35.7', '41.2', '8', '498(+2)', '', '00423', '482002'], ['race', '4', '4', '8', '2017101429', '牡3', '57', '01075', '2:01.6', '1.1/4', '', '2-2-2-2', '36.5', '360.0', '17', '484(-2)', '', '01097', '494800'], ['race', '5', '3', '5', '2017105472', '牡3', '57', '05339', '2:01.8', '1.1/4', '', '9-9-6-4', '36.4', '3.6', '2', '488(-4)', '', '00399', '075803'], ['race', '6', '7', '13', '2017110026', '牡3', '57', '05212', '2:01.8', 'クビ', '', '14-14-12-13', '35.9', '18.5', '6', '516(-10)', '', '01126', '003060'], ['race', '7', '2', '3', '2017101805', '牡3', '57', '01126', '2:01.9', '1/2', '', '10-10-12-12', '36.1', '100.9', '13', '460(+6)', '', '01111', '948006'], ['race', '8', '8', '17', '2017105567', '牡3', '57', '01032', '2:01.9', 'ハナ', '', '7-7-8-9', '36.3', '13.0', '4', '486(-4)', '', '01071', '226800'], ['race', '9', '5', '9', '2017105973', '牡3', '57', '01150', '2:02.1', '1.1/4', '', '17-18-18-17', '35.7', '99.5', '12', '432(+2)', '', '01020', '683002'], ['race', '10', '3', '6', '2017102170', '牡3', '57', '00660', '2:02.1', 'アタマ', '', '4-4-4-4', '36.8', '360.9', '18', '484(-6)', '', '01058', '041002'], ['race', '11', '1', '2', '2017105241', '牡3', '57', '01102', '2:02.1', 'アタマ', '', '14-14-15-13', '36.1', '62.9', '9', '482(-4)', '', '01144', '506800'], ['race', '12', '5', '10', '2017110067', '牡3', '57', '01127', '2:02.2', 'クビ', '', '14-16-15-18', '36.1', '319.1', '16', '464(-8)', '', '01062', '367008'], ['race', '13', '6', '12', '2017105434', '牡3', '57', '00666', '2:02.2', 'アタマ', '', '12-12-8-9', '36.6', '22.6', '7', '504(-4)', '', '01061', '002803'], ['race', '14', '8', '18', '2017103572', '牡3', '57', '01092', '2:02.4', '1.1/4', '', '3-3-3-3', '37.2', '81.2', '11', '464(+4)', '', '01020', '547800'], ['race', '15', '7', '15', '2017105194', '牡3', '57', '05203', '2:02.4', 'クビ', '', '6-5-4-7', '37.1', '160.8', '14', '476(+8)', '', '01061', '708800'], ['race', '16', '6', '11', '2017101299', '牡3', '57', '00733', '2:02.5', '3/4', '', '17-16-15-13', '36.4', '14.6', '5', '474(-2)', '', '01134', '548009'], ['race', '17', '7', '14', '2017101833', '牡3', '57', '01116', '2:02.6', 'クビ', '', '1-1-1-1', '37.7', '63.5', '10', '538(0)', '', '01039', '944030'], ['race', '18', '2', '4', '2017101755', '牡3', '57', '01141', '2:03.3', '4', '', '7-7-10-13', '37.6', '237.4', '15', '500(-2)', '', '00438', '059700']]\n"
    }
   ],
   "source": [
    "urls = [\"https://db.netkeiba.com/race/202006030811.html\"]\n",
    "race_list, horse_list_list = create_csv(urls)\n",
    "print(\"------------------race_list-------------------\")\n",
    "print(race_list)\n",
    "print(\"------------------horse_list_list-------------------\")\n",
    "print(horse_list_list)"
   ]
  },
  {
   "cell_type": "markdown",
   "metadata": {},
   "source": [
    "下のセルはColaboratory上でseleniumを動かす場合のみ実行"
   ],
   "execution_count": null,
   "outputs": []
  },
  {
   "cell_type": "code",
   "execution_count": 1,
   "metadata": {},
   "outputs": [
    {
     "output_type": "stream",
     "name": "stderr",
     "text": "'apt-get' �́A�����R�}���h�܂��͊O���R�}���h�A\n����\\�ȃv���O�����܂��̓o�b�` �t�@�C���Ƃ��ĔF������Ă��܂���B\n'apt' �́A�����R�}���h�܂��͊O���R�}���h�A\n����\\�ȃv���O�����܂��̓o�b�` �t�@�C���Ƃ��ĔF������Ă��܂���B\n'cp' �́A�����R�}���h�܂��͊O���R�}���h�A\n����\\�ȃv���O�����܂��̓o�b�` �t�@�C���Ƃ��ĔF������Ă��܂���B\nRequirement already satisfied: selenium in c:\\users\\info\\appdata\\local\\programs\\python\\python37\\lib\\site-packages (3.141.0)\nRequirement already satisfied: urllib3 in c:\\users\\info\\appdata\\local\\programs\\python\\python37\\lib\\site-packages (from selenium) (1.25.5)\n"
    }
   ],
   "source": [
    "!apt-get update\n",
    "!apt install chromium-chromedriver\n",
    "!cp /usr/lib/chromium-browser/chromedriver /usr/bin\n",
    "!pip install selenium"
   ]
  },
  {
   "cell_type": "code",
   "execution_count": 12,
   "metadata": {},
   "outputs": [],
   "source": [
    "from selenium.webdriver.support import expected_conditions as EC\n",
    "from selenium.webdriver.common.by import By\n",
    "from selenium.webdriver.support.ui import Select,WebDriverWait\n",
    "from selenium.webdriver.chrome.options import Options\n",
    "from selenium import webdriver\n",
    "import chromedriver_binary\n",
    "import sys\n",
    "import re\n",
    "import csv\n",
    "import time\n",
    "\n",
    "def get_urls(year, mon):\n",
    "    urls = []\n",
    "    options = Options()\n",
    "    options.add_argument('--headless')\n",
    "    ###\n",
    "    #Colaboratory上でseleniumを動かす場合のみ実行\n",
    "    #options = webdriver.ChromeOptions()\n",
    "    #options.add_argument('--headless')\n",
    "    #options.add_argument('--no-sandbox')\n",
    "    #options.add_argument('--disable-dev-shm-usage')\n",
    "    #driver = webdriver.Chrome('chromedriver',options=options)\n",
    "    ####\n",
    "    driver = webdriver.Chrome() #Colaboratory上でseleniumを動かす場合この行をコメントアウト\n",
    "    wait = WebDriverWait(driver,10)\n",
    "    URL = \"https://db.netkeiba.com/?pid=race_search_detail\"\n",
    "    driver.get(URL)\n",
    "    time.sleep(1)\n",
    "    wait.until(EC.presence_of_all_elements_located)\n",
    "\n",
    "\n",
    "    start_year = year\n",
    "    start_mon = mon\n",
    "    end_year = year\n",
    "    end_mon = mon\n",
    "\n",
    "    start_year_element = driver.find_element_by_name('start_year')\n",
    "    start_year_select = Select(start_year_element)\n",
    "    start_year_select.select_by_value(str(start_year))\n",
    "    start_mon_element = driver.find_element_by_name('start_mon')\n",
    "    start_mon_select = Select(start_mon_element)\n",
    "    start_mon_select.select_by_value(str(start_mon))\n",
    "    end_year_element = driver.find_element_by_name('end_year')\n",
    "    end_year_select = Select(end_year_element)\n",
    "    end_year_select.select_by_value(str(end_year))\n",
    "    end_mon_element = driver.find_element_by_name('end_mon')\n",
    "    end_mon_select = Select(end_mon_element)\n",
    "    end_mon_select.select_by_value(str(end_mon))\n",
    "\n",
    "    for i in range(1,11):\n",
    "        terms = driver.find_element_by_id(\"check_Jyo_\"+ str(i).zfill(2))\n",
    "        terms.click()\n",
    "    \n",
    "    list_element = driver.find_element_by_name('list')\n",
    "    list_select = Select(list_element)\n",
    "    list_select.select_by_value(\"100\")\n",
    "\n",
    "    frm = driver.find_element_by_css_selector(\"#db_search_detail_form > form\")\n",
    "    frm.submit()\n",
    "    time.sleep(10)\n",
    "    wait.until(EC.presence_of_all_elements_located)\n",
    "    while True:\n",
    "        time.sleep(10)\n",
    "        wait.until(EC.presence_of_all_elements_located)\n",
    "        all_rows = driver.find_element_by_class_name('race_table_01').find_elements_by_tag_name(\"tr\")\n",
    "        for row in range(1, len(all_rows)):\n",
    "            race_href=all_rows[row].find_elements_by_tag_name(\"td\")[4].find_element_by_tag_name(\"a\").get_attribute(\"href\")\n",
    "            urls.append(race_href)\n",
    "        try:\n",
    "            target = driver.find_elements_by_link_text(\"æ¬¡\")[0]\n",
    "            time.sleep(4)\n",
    "            driver.execute_script(\"arguments[0].click();\", target)\n",
    "        except IndexError:\n",
    "            break\n",
    "    return urls\n",
    ""
   ]
  },
  {
   "cell_type": "code",
   "execution_count": 13,
   "metadata": {},
   "outputs": [
    {
     "output_type": "stream",
     "name": "stdout",
     "text": "https://db.netkeiba.com/race/202006010901/\nhttps://db.netkeiba.com/race/202006010902/\nhttps://db.netkeiba.com/race/202006010903/\nhttps://db.netkeiba.com/race/202006010904/\nhttps://db.netkeiba.com/race/202006010905/\nhttps://db.netkeiba.com/race/202006010906/\nhttps://db.netkeiba.com/race/202006010907/\nhttps://db.netkeiba.com/race/202006010908/\nhttps://db.netkeiba.com/race/202006010909/\nhttps://db.netkeiba.com/race/202006010910/\nhttps://db.netkeiba.com/race/202006010911/\nhttps://db.netkeiba.com/race/202006010912/\nhttps://db.netkeiba.com/race/202008010901/\nhttps://db.netkeiba.com/race/202008010902/\nhttps://db.netkeiba.com/race/202008010903/\nhttps://db.netkeiba.com/race/202008010904/\nhttps://db.netkeiba.com/race/202008010905/\nhttps://db.netkeiba.com/race/202008010906/\nhttps://db.netkeiba.com/race/202008010907/\nhttps://db.netkeiba.com/race/202008010908/\nhttps://db.netkeiba.com/race/202008010909/\nhttps://db.netkeiba.com/race/202008010910/\nhttps://db.netkeiba.com/race/202008010911/\nhttps://db.netkeiba.com/race/202008010912/\nhttps://db.netkeiba.com/race/202010010401/\nhttps://db.netkeiba.com/race/202010010402/\nhttps://db.netkeiba.com/race/202010010403/\nhttps://db.netkeiba.com/race/202010010404/\nhttps://db.netkeiba.com/race/202010010405/\nhttps://db.netkeiba.com/race/202010010406/\nhttps://db.netkeiba.com/race/202010010407/\nhttps://db.netkeiba.com/race/202010010408/\nhttps://db.netkeiba.com/race/202010010409/\nhttps://db.netkeiba.com/race/202010010410/\nhttps://db.netkeiba.com/race/202010010411/\nhttps://db.netkeiba.com/race/202010010412/\nhttps://db.netkeiba.com/race/202006010801/\nhttps://db.netkeiba.com/race/202006010802/\nhttps://db.netkeiba.com/race/202006010803/\nhttps://db.netkeiba.com/race/202006010804/\nhttps://db.netkeiba.com/race/202006010805/\nhttps://db.netkeiba.com/race/202006010806/\nhttps://db.netkeiba.com/race/202006010807/\nhttps://db.netkeiba.com/race/202006010808/\nhttps://db.netkeiba.com/race/202006010809/\nhttps://db.netkeiba.com/race/202006010810/\nhttps://db.netkeiba.com/race/202006010811/\nhttps://db.netkeiba.com/race/202006010812/\nhttps://db.netkeiba.com/race/202008010801/\nhttps://db.netkeiba.com/race/202008010802/\nhttps://db.netkeiba.com/race/202008010803/\nhttps://db.netkeiba.com/race/202008010804/\nhttps://db.netkeiba.com/race/202008010805/\nhttps://db.netkeiba.com/race/202008010806/\nhttps://db.netkeiba.com/race/202008010807/\nhttps://db.netkeiba.com/race/202008010808/\nhttps://db.netkeiba.com/race/202008010809/\nhttps://db.netkeiba.com/race/202008010810/\nhttps://db.netkeiba.com/race/202008010811/\nhttps://db.netkeiba.com/race/202008010812/\nhttps://db.netkeiba.com/race/202010010301/\nhttps://db.netkeiba.com/race/202010010302/\nhttps://db.netkeiba.com/race/202010010303/\nhttps://db.netkeiba.com/race/202010010304/\nhttps://db.netkeiba.com/race/202010010305/\nhttps://db.netkeiba.com/race/202010010306/\nhttps://db.netkeiba.com/race/202010010307/\nhttps://db.netkeiba.com/race/202010010308/\nhttps://db.netkeiba.com/race/202010010309/\nhttps://db.netkeiba.com/race/202010010310/\nhttps://db.netkeiba.com/race/202010010311/\nhttps://db.netkeiba.com/race/202010010312/\nhttps://db.netkeiba.com/race/202006010701/\nhttps://db.netkeiba.com/race/202006010702/\nhttps://db.netkeiba.com/race/202006010703/\nhttps://db.netkeiba.com/race/202006010704/\nhttps://db.netkeiba.com/race/202006010705/\nhttps://db.netkeiba.com/race/202006010706/\nhttps://db.netkeiba.com/race/202006010707/\nhttps://db.netkeiba.com/race/202006010708/\nhttps://db.netkeiba.com/race/202006010709/\nhttps://db.netkeiba.com/race/202006010710/\nhttps://db.netkeiba.com/race/202006010711/\nhttps://db.netkeiba.com/race/202006010712/\nhttps://db.netkeiba.com/race/202008010701/\nhttps://db.netkeiba.com/race/202008010702/\nhttps://db.netkeiba.com/race/202008010703/\nhttps://db.netkeiba.com/race/202008010704/\nhttps://db.netkeiba.com/race/202008010705/\nhttps://db.netkeiba.com/race/202008010706/\nhttps://db.netkeiba.com/race/202008010707/\nhttps://db.netkeiba.com/race/202008010708/\nhttps://db.netkeiba.com/race/202008010709/\nhttps://db.netkeiba.com/race/202008010710/\nhttps://db.netkeiba.com/race/202008010711/\nhttps://db.netkeiba.com/race/202008010712/\nhttps://db.netkeiba.com/race/202010010201/\nhttps://db.netkeiba.com/race/202010010202/\nhttps://db.netkeiba.com/race/202010010203/\nhttps://db.netkeiba.com/race/202010010204/\n"
    }
   ],
   "source": [
    "year = 2020\n",
    "mon = 1\n",
    "urls = get_urls(year, mon)\n",
    "create_csv(urls)"
   ]
  },
  {
   "cell_type": "code",
   "execution_count": null,
   "metadata": {},
   "outputs": [],
   "source": []
  }
 ]
}