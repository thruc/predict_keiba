{
 "nbformat": 4,
 "nbformat_minor": 2,
 "metadata": {
  "language_info": {
   "name": "python",
   "codemirror_mode": {
    "name": "ipython",
    "version": 3
   },
   "version": "3.7.4-final"
  },
  "orig_nbformat": 2,
  "file_extension": ".py",
  "mimetype": "text/x-python",
  "name": "python",
  "npconvert_exporter": "python",
  "pygments_lexer": "ipython3",
  "version": 3,
  "kernelspec": {
   "name": "python37464bit1ebf9c4dc354488cae1027a09c7ab0e8",
   "display_name": "Python 3.7.4 64-bit"
  }
 },
 "cells": [
  {
   "cell_type": "markdown",
   "metadata": {},
   "source": [
    "# 競馬データ取得プログラム(Python)\n",
    "\n",
    "## 1.1 クローリングとスクレイピングについて\n",
    "\n",
    "### クローリング \n",
    "- Webページのハイパーリンクをたどって次々にWebページをダウンロードする作業。\n",
    "### スクレイピング \n",
    "- ダウンロードしたWebページから必要な情報を抜き出す作業。\n",
    "\n",
    "## 1.2クローリング・スクレイピングの方法\n",
    "### プログラミング言語  \n",
    "- python,PHP,java,C,Ruby\n",
    "- シェルスクリプト(Unixコマンド)\n",
    "\n",
    "### Webスクレイピングツール  \n",
    "- ExcelやSpreadSheet  \n",
    "- Octoparse   \n",
    "- Scraper  \n",
    "\n",
    "## 1.3クローリング・スクレイピングでPythonを使うメリット\n",
    "### 言語自体の特性\n",
    "読みやすく書きやすいPHP、Java、C / C ++と比べ、Pythonは最も簡単  \n",
    "Pythonはプログラムを書いたらすぐに実行することができる対話型\n",
    "### 強力なライブラリの存在　　\n",
    "### スクレイピング後の処理との親和性\n",
    "\n",
    "\n",
    "\n",
    "\n",
    "#### Beautiful Soup \n",
    "シンプルかつわかりやすいAPIでデータを抜き出せるのが特徴で、古くから人気のあるライブラリです。  \n",
    "内部のパーサーを目的に応じて切り替えられます。\n",
    "\n"
   ]
  },
  {
   "cell_type": "code",
   "execution_count": 2,
   "metadata": {},
   "outputs": [
    {
     "output_type": "stream",
     "name": "stdout",
     "text": "Requirement already satisfied: beautifulsoup4 in c:\\users\\info\\appdata\\local\\programs\\python\\python37\\lib\\site-packages (4.9.0)\nRequirement already satisfied: soupsieve>1.2 in c:\\users\\info\\appdata\\local\\programs\\python\\python37\\lib\\site-packages (from beautifulsoup4) (2.0)\n"
    }
   ],
   "source": [
    "!pip install beautifulsoup4"
   ]
  },
  {
   "cell_type": "code",
   "execution_count": null,
   "metadata": {},
   "outputs": [],
   "source": []
  }
 ]
}