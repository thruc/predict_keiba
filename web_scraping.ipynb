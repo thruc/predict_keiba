{
 "cells": [
  {
   "cell_type": "markdown",
   "metadata": {},
   "source": []
  },
  {
   "cell_type": "markdown",
   "metadata": {},
   "source": [
    "# 競馬データ取得プログラム(Python)\n",
    "\n",
    "## はじめに\n",
    "競馬の結果をAIを使用して予測するプログラムを作成しました。  \n",
    "AIを作成するためには大量のデータが必要ですそのデータを取得するためには色々な方法がありますが  \n",
    "その中でWebスクレイピングを使用して競馬過去のデータを取得していきました。  \n",
    "今回は主にそのWebスクレイピングの技術について発表したいと思います。  \n",
    "  \n",
    "\n",
    "今回データを取得するサイト  \n",
    "https://www.netkeiba.com/\n",
    "  \n",
    "  \n",
    "\n",
    "\n",
    "  \n",
    "\n",
    "# 1 クローリングとスクレイピングについて\n",
    "\n",
    "\n",
    "## 1.1 クローリングとスクレイピングの定義\n",
    "\n",
    "### クローリング \n",
    "Webページのハイパーリンクをたどって次々にWebページをダウンロードする作業。\n",
    "### スクレイピング \n",
    "ダウンロードしたWebページから必要な情報を抜き出す作業。\n",
    "\n",
    "## 1.2 クローリング・スクレイピングの方法\n",
    "### プログラミング言語  \n",
    "- python,PHP,java,C,Ruby\n",
    "- シェルスクリプト(Unixコマンド)\n",
    "\n",
    "### Webスクレイピングツール  \n",
    "- ExcelやSpreadSheet  \n",
    "- Octoparse   \n",
    "- Scraper  \n",
    "\n",
    "## 1.3 クローリング・スクレイピングでPythonを使うメリット\n",
    "### 言語自体の特性  \n",
    "読みやすく書きやすくPHP、Java、C / C ++と比べ、Pythonは最も簡単  \n",
    "Pythonはプログラムを書いたらすぐに実行することができる対話型  \n",
    "### 強力なライブラリの存在  \n",
    "世界中の開発者が数多くのライブラリを公開しており、簡単に使うことができる  \n",
    "lxmlやBeautifulSoupなど有名なスクレイピングライブラリがある。  \n",
    "### スクレイピング後の処理との親和性  \n",
    "データ分析においてもPythonには優秀なライブラリのpandasなどが揃っている\n",
    "Pythonでは数値計算や科学技術計算の分野で古くからNumPyやSciPyといったライブラリが有名　　\n",
    "  \n",
    "## 1.4 今回紹介するライブラリ\n",
    "### Beautiful Soup \n",
    "シンプルかつわかりやすいAPIでデータを抜き出せるのが特徴で、古くから人気のあるライブラリです。  \n",
    "### Selenium   \n",
    "ブラウザーを自動操作するためのライブラリです。  \n",
    "Pythonの他にJavaやJavaScriptなど様々な言語に対応しています。  \n",
    "WebDriverAPIを実装するドライバーを用意しており、これを経由して操作します。\n",
    "\n"
   ]
  },
  {
   "cell_type": "markdown",
   "metadata": {},
   "source": [
    "# 2 Pythonの基礎知識\n",
    "## 2.1 python実行方法\n",
    "### インタラクティブシェル\n",
    "pythonコマンドを引数なしで実行すると、インタラクティブシェルが起動します。  \n",
    "pythonのコードを対話的に実行できるので、ライブラリの使い方の確認などに便利です。\n",
    "\n",
    "### スクリプトファイル\n",
    "pythonのスクリプトは.pyという拡張子のファイルに保存します。  \n",
    "pythonコマンドにpyファイルのpathを引数として渡すとスクリプトファイルを実行されます。\n",
    "\n",
    "### Jupyter Notebook\n",
    "ノートブックと呼ばれる.ipynbという拡張子のファイルにプログラムや説明の文章、実行結果などをまとめて管理できるます。  \n",
    "データ分析用のツールです。"
   ]
  },
  {
   "cell_type": "code",
   "execution_count": 242,
   "metadata": {},
   "outputs": [
    {
     "output_type": "stream",
     "name": "stdout",
     "text": "hello_world\n"
    }
   ],
   "source": [
    "# ソースコードを記述し、Shift+Enterで実行できます。\n",
    "print(\"hello_world\")"
   ]
  },
  {
   "cell_type": "markdown",
   "metadata": {},
   "source": [
    "このように、Jupyter Notebookでは、セルごとにソースコードを記述して、実行を行うことができます。  \n",
    "実行結果はすぐ下に表示され、何度でも再実行できます。  \n",
    "また、Jupyter Notebookでは、ノートブックにグラフを表示することもできます。"
   ]
  },
  {
   "cell_type": "code",
   "execution_count": 243,
   "metadata": {},
   "outputs": [
    {
     "output_type": "display_data",
     "data": {
      "text/plain": "<Figure size 432x288 with 1 Axes>",
      "image/svg+xml": "<?xml version=\"1.0\" encoding=\"utf-8\" standalone=\"no\"?>\r\n<!DOCTYPE svg PUBLIC \"-//W3C//DTD SVG 1.1//EN\"\r\n  \"http://www.w3.org/Graphics/SVG/1.1/DTD/svg11.dtd\">\r\n<!-- Created with matplotlib (https://matplotlib.org/) -->\r\n<svg height=\"277.314375pt\" version=\"1.1\" viewBox=\"0 0 385.78125 277.314375\" width=\"385.78125pt\" xmlns=\"http://www.w3.org/2000/svg\" xmlns:xlink=\"http://www.w3.org/1999/xlink\">\r\n <defs>\r\n  <style type=\"text/css\">\r\n*{stroke-linecap:butt;stroke-linejoin:round;}\r\n  </style>\r\n </defs>\r\n <g id=\"figure_1\">\r\n  <g id=\"patch_1\">\r\n   <path d=\"M 0 277.314375 \r\nL 385.78125 277.314375 \r\nL 385.78125 0 \r\nL 0 0 \r\nz\r\n\" style=\"fill:none;\"/>\r\n  </g>\r\n  <g id=\"axes_1\">\r\n   <g id=\"patch_2\">\r\n    <path d=\"M 43.78125 239.758125 \r\nL 378.58125 239.758125 \r\nL 378.58125 22.318125 \r\nL 43.78125 22.318125 \r\nz\r\n\" style=\"fill:#ffffff;\"/>\r\n   </g>\r\n   <g id=\"matplotlib.axis_1\">\r\n    <g id=\"xtick_1\">\r\n     <g id=\"line2d_1\">\r\n      <defs>\r\n       <path d=\"M 0 0 \r\nL 0 3.5 \r\n\" id=\"m724d9d0e91\" style=\"stroke:#000000;stroke-width:0.8;\"/>\r\n      </defs>\r\n      <g>\r\n       <use style=\"stroke:#000000;stroke-width:0.8;\" x=\"58.999432\" xlink:href=\"#m724d9d0e91\" y=\"239.758125\"/>\r\n      </g>\r\n     </g>\r\n     <g id=\"text_1\">\r\n      <!-- 100 -->\r\n      <defs>\r\n       <path d=\"M 12.40625 8.296875 \r\nL 28.515625 8.296875 \r\nL 28.515625 63.921875 \r\nL 10.984375 60.40625 \r\nL 10.984375 69.390625 \r\nL 28.421875 72.90625 \r\nL 38.28125 72.90625 \r\nL 38.28125 8.296875 \r\nL 54.390625 8.296875 \r\nL 54.390625 0 \r\nL 12.40625 0 \r\nz\r\n\" id=\"DejaVuSans-49\"/>\r\n       <path d=\"M 31.78125 66.40625 \r\nQ 24.171875 66.40625 20.328125 58.90625 \r\nQ 16.5 51.421875 16.5 36.375 \r\nQ 16.5 21.390625 20.328125 13.890625 \r\nQ 24.171875 6.390625 31.78125 6.390625 \r\nQ 39.453125 6.390625 43.28125 13.890625 \r\nQ 47.125 21.390625 47.125 36.375 \r\nQ 47.125 51.421875 43.28125 58.90625 \r\nQ 39.453125 66.40625 31.78125 66.40625 \r\nz\r\nM 31.78125 74.21875 \r\nQ 44.046875 74.21875 50.515625 64.515625 \r\nQ 56.984375 54.828125 56.984375 36.375 \r\nQ 56.984375 17.96875 50.515625 8.265625 \r\nQ 44.046875 -1.421875 31.78125 -1.421875 \r\nQ 19.53125 -1.421875 13.0625 8.265625 \r\nQ 6.59375 17.96875 6.59375 36.375 \r\nQ 6.59375 54.828125 13.0625 64.515625 \r\nQ 19.53125 74.21875 31.78125 74.21875 \r\nz\r\n\" id=\"DejaVuSans-48\"/>\r\n      </defs>\r\n      <g transform=\"translate(49.455682 254.356562)scale(0.1 -0.1)\">\r\n       <use xlink:href=\"#DejaVuSans-49\"/>\r\n       <use x=\"63.623047\" xlink:href=\"#DejaVuSans-48\"/>\r\n       <use x=\"127.246094\" xlink:href=\"#DejaVuSans-48\"/>\r\n      </g>\r\n     </g>\r\n    </g>\r\n    <g id=\"xtick_2\">\r\n     <g id=\"line2d_2\">\r\n      <g>\r\n       <use style=\"stroke:#000000;stroke-width:0.8;\" x=\"109.726705\" xlink:href=\"#m724d9d0e91\" y=\"239.758125\"/>\r\n      </g>\r\n     </g>\r\n     <g id=\"text_2\">\r\n      <!-- 200 -->\r\n      <defs>\r\n       <path d=\"M 19.1875 8.296875 \r\nL 53.609375 8.296875 \r\nL 53.609375 0 \r\nL 7.328125 0 \r\nL 7.328125 8.296875 \r\nQ 12.9375 14.109375 22.625 23.890625 \r\nQ 32.328125 33.6875 34.8125 36.53125 \r\nQ 39.546875 41.84375 41.421875 45.53125 \r\nQ 43.3125 49.21875 43.3125 52.78125 \r\nQ 43.3125 58.59375 39.234375 62.25 \r\nQ 35.15625 65.921875 28.609375 65.921875 \r\nQ 23.96875 65.921875 18.8125 64.3125 \r\nQ 13.671875 62.703125 7.8125 59.421875 \r\nL 7.8125 69.390625 \r\nQ 13.765625 71.78125 18.9375 73 \r\nQ 24.125 74.21875 28.421875 74.21875 \r\nQ 39.75 74.21875 46.484375 68.546875 \r\nQ 53.21875 62.890625 53.21875 53.421875 \r\nQ 53.21875 48.921875 51.53125 44.890625 \r\nQ 49.859375 40.875 45.40625 35.40625 \r\nQ 44.1875 33.984375 37.640625 27.21875 \r\nQ 31.109375 20.453125 19.1875 8.296875 \r\nz\r\n\" id=\"DejaVuSans-50\"/>\r\n      </defs>\r\n      <g transform=\"translate(100.182955 254.356562)scale(0.1 -0.1)\">\r\n       <use xlink:href=\"#DejaVuSans-50\"/>\r\n       <use x=\"63.623047\" xlink:href=\"#DejaVuSans-48\"/>\r\n       <use x=\"127.246094\" xlink:href=\"#DejaVuSans-48\"/>\r\n      </g>\r\n     </g>\r\n    </g>\r\n    <g id=\"xtick_3\">\r\n     <g id=\"line2d_3\">\r\n      <g>\r\n       <use style=\"stroke:#000000;stroke-width:0.8;\" x=\"160.453977\" xlink:href=\"#m724d9d0e91\" y=\"239.758125\"/>\r\n      </g>\r\n     </g>\r\n     <g id=\"text_3\">\r\n      <!-- 300 -->\r\n      <defs>\r\n       <path d=\"M 40.578125 39.3125 \r\nQ 47.65625 37.796875 51.625 33 \r\nQ 55.609375 28.21875 55.609375 21.1875 \r\nQ 55.609375 10.40625 48.1875 4.484375 \r\nQ 40.765625 -1.421875 27.09375 -1.421875 \r\nQ 22.515625 -1.421875 17.65625 -0.515625 \r\nQ 12.796875 0.390625 7.625 2.203125 \r\nL 7.625 11.71875 \r\nQ 11.71875 9.328125 16.59375 8.109375 \r\nQ 21.484375 6.890625 26.8125 6.890625 \r\nQ 36.078125 6.890625 40.9375 10.546875 \r\nQ 45.796875 14.203125 45.796875 21.1875 \r\nQ 45.796875 27.640625 41.28125 31.265625 \r\nQ 36.765625 34.90625 28.71875 34.90625 \r\nL 20.21875 34.90625 \r\nL 20.21875 43.015625 \r\nL 29.109375 43.015625 \r\nQ 36.375 43.015625 40.234375 45.921875 \r\nQ 44.09375 48.828125 44.09375 54.296875 \r\nQ 44.09375 59.90625 40.109375 62.90625 \r\nQ 36.140625 65.921875 28.71875 65.921875 \r\nQ 24.65625 65.921875 20.015625 65.03125 \r\nQ 15.375 64.15625 9.8125 62.3125 \r\nL 9.8125 71.09375 \r\nQ 15.4375 72.65625 20.34375 73.4375 \r\nQ 25.25 74.21875 29.59375 74.21875 \r\nQ 40.828125 74.21875 47.359375 69.109375 \r\nQ 53.90625 64.015625 53.90625 55.328125 \r\nQ 53.90625 49.265625 50.4375 45.09375 \r\nQ 46.96875 40.921875 40.578125 39.3125 \r\nz\r\n\" id=\"DejaVuSans-51\"/>\r\n      </defs>\r\n      <g transform=\"translate(150.910227 254.356562)scale(0.1 -0.1)\">\r\n       <use xlink:href=\"#DejaVuSans-51\"/>\r\n       <use x=\"63.623047\" xlink:href=\"#DejaVuSans-48\"/>\r\n       <use x=\"127.246094\" xlink:href=\"#DejaVuSans-48\"/>\r\n      </g>\r\n     </g>\r\n    </g>\r\n    <g id=\"xtick_4\">\r\n     <g id=\"line2d_4\">\r\n      <g>\r\n       <use style=\"stroke:#000000;stroke-width:0.8;\" x=\"211.18125\" xlink:href=\"#m724d9d0e91\" y=\"239.758125\"/>\r\n      </g>\r\n     </g>\r\n     <g id=\"text_4\">\r\n      <!-- 400 -->\r\n      <defs>\r\n       <path d=\"M 37.796875 64.3125 \r\nL 12.890625 25.390625 \r\nL 37.796875 25.390625 \r\nz\r\nM 35.203125 72.90625 \r\nL 47.609375 72.90625 \r\nL 47.609375 25.390625 \r\nL 58.015625 25.390625 \r\nL 58.015625 17.1875 \r\nL 47.609375 17.1875 \r\nL 47.609375 0 \r\nL 37.796875 0 \r\nL 37.796875 17.1875 \r\nL 4.890625 17.1875 \r\nL 4.890625 26.703125 \r\nz\r\n\" id=\"DejaVuSans-52\"/>\r\n      </defs>\r\n      <g transform=\"translate(201.6375 254.356562)scale(0.1 -0.1)\">\r\n       <use xlink:href=\"#DejaVuSans-52\"/>\r\n       <use x=\"63.623047\" xlink:href=\"#DejaVuSans-48\"/>\r\n       <use x=\"127.246094\" xlink:href=\"#DejaVuSans-48\"/>\r\n      </g>\r\n     </g>\r\n    </g>\r\n    <g id=\"xtick_5\">\r\n     <g id=\"line2d_5\">\r\n      <g>\r\n       <use style=\"stroke:#000000;stroke-width:0.8;\" x=\"261.908523\" xlink:href=\"#m724d9d0e91\" y=\"239.758125\"/>\r\n      </g>\r\n     </g>\r\n     <g id=\"text_5\">\r\n      <!-- 500 -->\r\n      <defs>\r\n       <path d=\"M 10.796875 72.90625 \r\nL 49.515625 72.90625 \r\nL 49.515625 64.59375 \r\nL 19.828125 64.59375 \r\nL 19.828125 46.734375 \r\nQ 21.96875 47.46875 24.109375 47.828125 \r\nQ 26.265625 48.1875 28.421875 48.1875 \r\nQ 40.625 48.1875 47.75 41.5 \r\nQ 54.890625 34.8125 54.890625 23.390625 \r\nQ 54.890625 11.625 47.5625 5.09375 \r\nQ 40.234375 -1.421875 26.90625 -1.421875 \r\nQ 22.3125 -1.421875 17.546875 -0.640625 \r\nQ 12.796875 0.140625 7.71875 1.703125 \r\nL 7.71875 11.625 \r\nQ 12.109375 9.234375 16.796875 8.0625 \r\nQ 21.484375 6.890625 26.703125 6.890625 \r\nQ 35.15625 6.890625 40.078125 11.328125 \r\nQ 45.015625 15.765625 45.015625 23.390625 \r\nQ 45.015625 31 40.078125 35.4375 \r\nQ 35.15625 39.890625 26.703125 39.890625 \r\nQ 22.75 39.890625 18.8125 39.015625 \r\nQ 14.890625 38.140625 10.796875 36.28125 \r\nz\r\n\" id=\"DejaVuSans-53\"/>\r\n      </defs>\r\n      <g transform=\"translate(252.364773 254.356562)scale(0.1 -0.1)\">\r\n       <use xlink:href=\"#DejaVuSans-53\"/>\r\n       <use x=\"63.623047\" xlink:href=\"#DejaVuSans-48\"/>\r\n       <use x=\"127.246094\" xlink:href=\"#DejaVuSans-48\"/>\r\n      </g>\r\n     </g>\r\n    </g>\r\n    <g id=\"xtick_6\">\r\n     <g id=\"line2d_6\">\r\n      <g>\r\n       <use style=\"stroke:#000000;stroke-width:0.8;\" x=\"312.635795\" xlink:href=\"#m724d9d0e91\" y=\"239.758125\"/>\r\n      </g>\r\n     </g>\r\n     <g id=\"text_6\">\r\n      <!-- 600 -->\r\n      <defs>\r\n       <path d=\"M 33.015625 40.375 \r\nQ 26.375 40.375 22.484375 35.828125 \r\nQ 18.609375 31.296875 18.609375 23.390625 \r\nQ 18.609375 15.53125 22.484375 10.953125 \r\nQ 26.375 6.390625 33.015625 6.390625 \r\nQ 39.65625 6.390625 43.53125 10.953125 \r\nQ 47.40625 15.53125 47.40625 23.390625 \r\nQ 47.40625 31.296875 43.53125 35.828125 \r\nQ 39.65625 40.375 33.015625 40.375 \r\nz\r\nM 52.59375 71.296875 \r\nL 52.59375 62.3125 \r\nQ 48.875 64.0625 45.09375 64.984375 \r\nQ 41.3125 65.921875 37.59375 65.921875 \r\nQ 27.828125 65.921875 22.671875 59.328125 \r\nQ 17.53125 52.734375 16.796875 39.40625 \r\nQ 19.671875 43.65625 24.015625 45.921875 \r\nQ 28.375 48.1875 33.59375 48.1875 \r\nQ 44.578125 48.1875 50.953125 41.515625 \r\nQ 57.328125 34.859375 57.328125 23.390625 \r\nQ 57.328125 12.15625 50.6875 5.359375 \r\nQ 44.046875 -1.421875 33.015625 -1.421875 \r\nQ 20.359375 -1.421875 13.671875 8.265625 \r\nQ 6.984375 17.96875 6.984375 36.375 \r\nQ 6.984375 53.65625 15.1875 63.9375 \r\nQ 23.390625 74.21875 37.203125 74.21875 \r\nQ 40.921875 74.21875 44.703125 73.484375 \r\nQ 48.484375 72.75 52.59375 71.296875 \r\nz\r\n\" id=\"DejaVuSans-54\"/>\r\n      </defs>\r\n      <g transform=\"translate(303.092045 254.356562)scale(0.1 -0.1)\">\r\n       <use xlink:href=\"#DejaVuSans-54\"/>\r\n       <use x=\"63.623047\" xlink:href=\"#DejaVuSans-48\"/>\r\n       <use x=\"127.246094\" xlink:href=\"#DejaVuSans-48\"/>\r\n      </g>\r\n     </g>\r\n    </g>\r\n    <g id=\"xtick_7\">\r\n     <g id=\"line2d_7\">\r\n      <g>\r\n       <use style=\"stroke:#000000;stroke-width:0.8;\" x=\"363.363068\" xlink:href=\"#m724d9d0e91\" y=\"239.758125\"/>\r\n      </g>\r\n     </g>\r\n     <g id=\"text_7\">\r\n      <!-- 700 -->\r\n      <defs>\r\n       <path d=\"M 8.203125 72.90625 \r\nL 55.078125 72.90625 \r\nL 55.078125 68.703125 \r\nL 28.609375 0 \r\nL 18.3125 0 \r\nL 43.21875 64.59375 \r\nL 8.203125 64.59375 \r\nz\r\n\" id=\"DejaVuSans-55\"/>\r\n      </defs>\r\n      <g transform=\"translate(353.819318 254.356562)scale(0.1 -0.1)\">\r\n       <use xlink:href=\"#DejaVuSans-55\"/>\r\n       <use x=\"63.623047\" xlink:href=\"#DejaVuSans-48\"/>\r\n       <use x=\"127.246094\" xlink:href=\"#DejaVuSans-48\"/>\r\n      </g>\r\n     </g>\r\n    </g>\r\n    <g id=\"text_8\">\r\n     <!-- price -->\r\n     <defs>\r\n      <path d=\"M 18.109375 8.203125 \r\nL 18.109375 -20.796875 \r\nL 9.078125 -20.796875 \r\nL 9.078125 54.6875 \r\nL 18.109375 54.6875 \r\nL 18.109375 46.390625 \r\nQ 20.953125 51.265625 25.265625 53.625 \r\nQ 29.59375 56 35.59375 56 \r\nQ 45.5625 56 51.78125 48.09375 \r\nQ 58.015625 40.1875 58.015625 27.296875 \r\nQ 58.015625 14.40625 51.78125 6.484375 \r\nQ 45.5625 -1.421875 35.59375 -1.421875 \r\nQ 29.59375 -1.421875 25.265625 0.953125 \r\nQ 20.953125 3.328125 18.109375 8.203125 \r\nz\r\nM 48.6875 27.296875 \r\nQ 48.6875 37.203125 44.609375 42.84375 \r\nQ 40.53125 48.484375 33.40625 48.484375 \r\nQ 26.265625 48.484375 22.1875 42.84375 \r\nQ 18.109375 37.203125 18.109375 27.296875 \r\nQ 18.109375 17.390625 22.1875 11.75 \r\nQ 26.265625 6.109375 33.40625 6.109375 \r\nQ 40.53125 6.109375 44.609375 11.75 \r\nQ 48.6875 17.390625 48.6875 27.296875 \r\nz\r\n\" id=\"DejaVuSans-112\"/>\r\n      <path d=\"M 41.109375 46.296875 \r\nQ 39.59375 47.171875 37.8125 47.578125 \r\nQ 36.03125 48 33.890625 48 \r\nQ 26.265625 48 22.1875 43.046875 \r\nQ 18.109375 38.09375 18.109375 28.8125 \r\nL 18.109375 0 \r\nL 9.078125 0 \r\nL 9.078125 54.6875 \r\nL 18.109375 54.6875 \r\nL 18.109375 46.1875 \r\nQ 20.953125 51.171875 25.484375 53.578125 \r\nQ 30.03125 56 36.53125 56 \r\nQ 37.453125 56 38.578125 55.875 \r\nQ 39.703125 55.765625 41.0625 55.515625 \r\nz\r\n\" id=\"DejaVuSans-114\"/>\r\n      <path d=\"M 9.421875 54.6875 \r\nL 18.40625 54.6875 \r\nL 18.40625 0 \r\nL 9.421875 0 \r\nz\r\nM 9.421875 75.984375 \r\nL 18.40625 75.984375 \r\nL 18.40625 64.59375 \r\nL 9.421875 64.59375 \r\nz\r\n\" id=\"DejaVuSans-105\"/>\r\n      <path d=\"M 48.78125 52.59375 \r\nL 48.78125 44.1875 \r\nQ 44.96875 46.296875 41.140625 47.34375 \r\nQ 37.3125 48.390625 33.40625 48.390625 \r\nQ 24.65625 48.390625 19.8125 42.84375 \r\nQ 14.984375 37.3125 14.984375 27.296875 \r\nQ 14.984375 17.28125 19.8125 11.734375 \r\nQ 24.65625 6.203125 33.40625 6.203125 \r\nQ 37.3125 6.203125 41.140625 7.25 \r\nQ 44.96875 8.296875 48.78125 10.40625 \r\nL 48.78125 2.09375 \r\nQ 45.015625 0.34375 40.984375 -0.53125 \r\nQ 36.96875 -1.421875 32.421875 -1.421875 \r\nQ 20.0625 -1.421875 12.78125 6.34375 \r\nQ 5.515625 14.109375 5.515625 27.296875 \r\nQ 5.515625 40.671875 12.859375 48.328125 \r\nQ 20.21875 56 33.015625 56 \r\nQ 37.15625 56 41.109375 55.140625 \r\nQ 45.0625 54.296875 48.78125 52.59375 \r\nz\r\n\" id=\"DejaVuSans-99\"/>\r\n      <path d=\"M 56.203125 29.59375 \r\nL 56.203125 25.203125 \r\nL 14.890625 25.203125 \r\nQ 15.484375 15.921875 20.484375 11.0625 \r\nQ 25.484375 6.203125 34.421875 6.203125 \r\nQ 39.59375 6.203125 44.453125 7.46875 \r\nQ 49.3125 8.734375 54.109375 11.28125 \r\nL 54.109375 2.78125 \r\nQ 49.265625 0.734375 44.1875 -0.34375 \r\nQ 39.109375 -1.421875 33.890625 -1.421875 \r\nQ 20.796875 -1.421875 13.15625 6.1875 \r\nQ 5.515625 13.8125 5.515625 26.8125 \r\nQ 5.515625 40.234375 12.765625 48.109375 \r\nQ 20.015625 56 32.328125 56 \r\nQ 43.359375 56 49.78125 48.890625 \r\nQ 56.203125 41.796875 56.203125 29.59375 \r\nz\r\nM 47.21875 32.234375 \r\nQ 47.125 39.59375 43.09375 43.984375 \r\nQ 39.0625 48.390625 32.421875 48.390625 \r\nQ 24.90625 48.390625 20.390625 44.140625 \r\nQ 15.875 39.890625 15.1875 32.171875 \r\nz\r\n\" id=\"DejaVuSans-101\"/>\r\n     </defs>\r\n     <g transform=\"translate(198.736719 268.034687)scale(0.1 -0.1)\">\r\n      <use xlink:href=\"#DejaVuSans-112\"/>\r\n      <use x=\"63.476562\" xlink:href=\"#DejaVuSans-114\"/>\r\n      <use x=\"104.589844\" xlink:href=\"#DejaVuSans-105\"/>\r\n      <use x=\"132.373047\" xlink:href=\"#DejaVuSans-99\"/>\r\n      <use x=\"187.353516\" xlink:href=\"#DejaVuSans-101\"/>\r\n     </g>\r\n    </g>\r\n   </g>\r\n   <g id=\"matplotlib.axis_2\">\r\n    <g id=\"ytick_1\">\r\n     <g id=\"line2d_8\">\r\n      <defs>\r\n       <path d=\"M 0 0 \r\nL -3.5 0 \r\n\" id=\"m0213adb772\" style=\"stroke:#000000;stroke-width:0.8;\"/>\r\n      </defs>\r\n      <g>\r\n       <use style=\"stroke:#000000;stroke-width:0.8;\" x=\"43.78125\" xlink:href=\"#m0213adb772\" y=\"229.874489\"/>\r\n      </g>\r\n     </g>\r\n     <g id=\"text_9\">\r\n      <!-- 1.0 -->\r\n      <defs>\r\n       <path d=\"M 10.6875 12.40625 \r\nL 21 12.40625 \r\nL 21 0 \r\nL 10.6875 0 \r\nz\r\n\" id=\"DejaVuSans-46\"/>\r\n      </defs>\r\n      <g transform=\"translate(20.878125 233.673707)scale(0.1 -0.1)\">\r\n       <use xlink:href=\"#DejaVuSans-49\"/>\r\n       <use x=\"63.623047\" xlink:href=\"#DejaVuSans-46\"/>\r\n       <use x=\"95.410156\" xlink:href=\"#DejaVuSans-48\"/>\r\n      </g>\r\n     </g>\r\n    </g>\r\n    <g id=\"ytick_2\">\r\n     <g id=\"line2d_9\">\r\n      <g>\r\n       <use style=\"stroke:#000000;stroke-width:0.8;\" x=\"43.78125\" xlink:href=\"#m0213adb772\" y=\"205.165398\"/>\r\n      </g>\r\n     </g>\r\n     <g id=\"text_10\">\r\n      <!-- 1.5 -->\r\n      <g transform=\"translate(20.878125 208.964616)scale(0.1 -0.1)\">\r\n       <use xlink:href=\"#DejaVuSans-49\"/>\r\n       <use x=\"63.623047\" xlink:href=\"#DejaVuSans-46\"/>\r\n       <use x=\"95.410156\" xlink:href=\"#DejaVuSans-53\"/>\r\n      </g>\r\n     </g>\r\n    </g>\r\n    <g id=\"ytick_3\">\r\n     <g id=\"line2d_10\">\r\n      <g>\r\n       <use style=\"stroke:#000000;stroke-width:0.8;\" x=\"43.78125\" xlink:href=\"#m0213adb772\" y=\"180.456307\"/>\r\n      </g>\r\n     </g>\r\n     <g id=\"text_11\">\r\n      <!-- 2.0 -->\r\n      <g transform=\"translate(20.878125 184.255526)scale(0.1 -0.1)\">\r\n       <use xlink:href=\"#DejaVuSans-50\"/>\r\n       <use x=\"63.623047\" xlink:href=\"#DejaVuSans-46\"/>\r\n       <use x=\"95.410156\" xlink:href=\"#DejaVuSans-48\"/>\r\n      </g>\r\n     </g>\r\n    </g>\r\n    <g id=\"ytick_4\">\r\n     <g id=\"line2d_11\">\r\n      <g>\r\n       <use style=\"stroke:#000000;stroke-width:0.8;\" x=\"43.78125\" xlink:href=\"#m0213adb772\" y=\"155.747216\"/>\r\n      </g>\r\n     </g>\r\n     <g id=\"text_12\">\r\n      <!-- 2.5 -->\r\n      <g transform=\"translate(20.878125 159.546435)scale(0.1 -0.1)\">\r\n       <use xlink:href=\"#DejaVuSans-50\"/>\r\n       <use x=\"63.623047\" xlink:href=\"#DejaVuSans-46\"/>\r\n       <use x=\"95.410156\" xlink:href=\"#DejaVuSans-53\"/>\r\n      </g>\r\n     </g>\r\n    </g>\r\n    <g id=\"ytick_5\">\r\n     <g id=\"line2d_12\">\r\n      <g>\r\n       <use style=\"stroke:#000000;stroke-width:0.8;\" x=\"43.78125\" xlink:href=\"#m0213adb772\" y=\"131.038125\"/>\r\n      </g>\r\n     </g>\r\n     <g id=\"text_13\">\r\n      <!-- 3.0 -->\r\n      <g transform=\"translate(20.878125 134.837344)scale(0.1 -0.1)\">\r\n       <use xlink:href=\"#DejaVuSans-51\"/>\r\n       <use x=\"63.623047\" xlink:href=\"#DejaVuSans-46\"/>\r\n       <use x=\"95.410156\" xlink:href=\"#DejaVuSans-48\"/>\r\n      </g>\r\n     </g>\r\n    </g>\r\n    <g id=\"ytick_6\">\r\n     <g id=\"line2d_13\">\r\n      <g>\r\n       <use style=\"stroke:#000000;stroke-width:0.8;\" x=\"43.78125\" xlink:href=\"#m0213adb772\" y=\"106.329034\"/>\r\n      </g>\r\n     </g>\r\n     <g id=\"text_14\">\r\n      <!-- 3.5 -->\r\n      <g transform=\"translate(20.878125 110.128253)scale(0.1 -0.1)\">\r\n       <use xlink:href=\"#DejaVuSans-51\"/>\r\n       <use x=\"63.623047\" xlink:href=\"#DejaVuSans-46\"/>\r\n       <use x=\"95.410156\" xlink:href=\"#DejaVuSans-53\"/>\r\n      </g>\r\n     </g>\r\n    </g>\r\n    <g id=\"ytick_7\">\r\n     <g id=\"line2d_14\">\r\n      <g>\r\n       <use style=\"stroke:#000000;stroke-width:0.8;\" x=\"43.78125\" xlink:href=\"#m0213adb772\" y=\"81.619943\"/>\r\n      </g>\r\n     </g>\r\n     <g id=\"text_15\">\r\n      <!-- 4.0 -->\r\n      <g transform=\"translate(20.878125 85.419162)scale(0.1 -0.1)\">\r\n       <use xlink:href=\"#DejaVuSans-52\"/>\r\n       <use x=\"63.623047\" xlink:href=\"#DejaVuSans-46\"/>\r\n       <use x=\"95.410156\" xlink:href=\"#DejaVuSans-48\"/>\r\n      </g>\r\n     </g>\r\n    </g>\r\n    <g id=\"ytick_8\">\r\n     <g id=\"line2d_15\">\r\n      <g>\r\n       <use style=\"stroke:#000000;stroke-width:0.8;\" x=\"43.78125\" xlink:href=\"#m0213adb772\" y=\"56.910852\"/>\r\n      </g>\r\n     </g>\r\n     <g id=\"text_16\">\r\n      <!-- 4.5 -->\r\n      <g transform=\"translate(20.878125 60.710071)scale(0.1 -0.1)\">\r\n       <use xlink:href=\"#DejaVuSans-52\"/>\r\n       <use x=\"63.623047\" xlink:href=\"#DejaVuSans-46\"/>\r\n       <use x=\"95.410156\" xlink:href=\"#DejaVuSans-53\"/>\r\n      </g>\r\n     </g>\r\n    </g>\r\n    <g id=\"ytick_9\">\r\n     <g id=\"line2d_16\">\r\n      <g>\r\n       <use style=\"stroke:#000000;stroke-width:0.8;\" x=\"43.78125\" xlink:href=\"#m0213adb772\" y=\"32.201761\"/>\r\n      </g>\r\n     </g>\r\n     <g id=\"text_17\">\r\n      <!-- 5.0 -->\r\n      <g transform=\"translate(20.878125 36.00098)scale(0.1 -0.1)\">\r\n       <use xlink:href=\"#DejaVuSans-53\"/>\r\n       <use x=\"63.623047\" xlink:href=\"#DejaVuSans-46\"/>\r\n       <use x=\"95.410156\" xlink:href=\"#DejaVuSans-48\"/>\r\n      </g>\r\n     </g>\r\n    </g>\r\n    <g id=\"text_18\">\r\n     <!-- number -->\r\n     <defs>\r\n      <path d=\"M 54.890625 33.015625 \r\nL 54.890625 0 \r\nL 45.90625 0 \r\nL 45.90625 32.71875 \r\nQ 45.90625 40.484375 42.875 44.328125 \r\nQ 39.84375 48.1875 33.796875 48.1875 \r\nQ 26.515625 48.1875 22.3125 43.546875 \r\nQ 18.109375 38.921875 18.109375 30.90625 \r\nL 18.109375 0 \r\nL 9.078125 0 \r\nL 9.078125 54.6875 \r\nL 18.109375 54.6875 \r\nL 18.109375 46.1875 \r\nQ 21.34375 51.125 25.703125 53.5625 \r\nQ 30.078125 56 35.796875 56 \r\nQ 45.21875 56 50.046875 50.171875 \r\nQ 54.890625 44.34375 54.890625 33.015625 \r\nz\r\n\" id=\"DejaVuSans-110\"/>\r\n      <path d=\"M 8.5 21.578125 \r\nL 8.5 54.6875 \r\nL 17.484375 54.6875 \r\nL 17.484375 21.921875 \r\nQ 17.484375 14.15625 20.5 10.265625 \r\nQ 23.53125 6.390625 29.59375 6.390625 \r\nQ 36.859375 6.390625 41.078125 11.03125 \r\nQ 45.3125 15.671875 45.3125 23.6875 \r\nL 45.3125 54.6875 \r\nL 54.296875 54.6875 \r\nL 54.296875 0 \r\nL 45.3125 0 \r\nL 45.3125 8.40625 \r\nQ 42.046875 3.421875 37.71875 1 \r\nQ 33.40625 -1.421875 27.6875 -1.421875 \r\nQ 18.265625 -1.421875 13.375 4.4375 \r\nQ 8.5 10.296875 8.5 21.578125 \r\nz\r\nM 31.109375 56 \r\nz\r\n\" id=\"DejaVuSans-117\"/>\r\n      <path d=\"M 52 44.1875 \r\nQ 55.375 50.25 60.0625 53.125 \r\nQ 64.75 56 71.09375 56 \r\nQ 79.640625 56 84.28125 50.015625 \r\nQ 88.921875 44.046875 88.921875 33.015625 \r\nL 88.921875 0 \r\nL 79.890625 0 \r\nL 79.890625 32.71875 \r\nQ 79.890625 40.578125 77.09375 44.375 \r\nQ 74.3125 48.1875 68.609375 48.1875 \r\nQ 61.625 48.1875 57.5625 43.546875 \r\nQ 53.515625 38.921875 53.515625 30.90625 \r\nL 53.515625 0 \r\nL 44.484375 0 \r\nL 44.484375 32.71875 \r\nQ 44.484375 40.625 41.703125 44.40625 \r\nQ 38.921875 48.1875 33.109375 48.1875 \r\nQ 26.21875 48.1875 22.15625 43.53125 \r\nQ 18.109375 38.875 18.109375 30.90625 \r\nL 18.109375 0 \r\nL 9.078125 0 \r\nL 9.078125 54.6875 \r\nL 18.109375 54.6875 \r\nL 18.109375 46.1875 \r\nQ 21.1875 51.21875 25.484375 53.609375 \r\nQ 29.78125 56 35.6875 56 \r\nQ 41.65625 56 45.828125 52.96875 \r\nQ 50 49.953125 52 44.1875 \r\nz\r\n\" id=\"DejaVuSans-109\"/>\r\n      <path d=\"M 48.6875 27.296875 \r\nQ 48.6875 37.203125 44.609375 42.84375 \r\nQ 40.53125 48.484375 33.40625 48.484375 \r\nQ 26.265625 48.484375 22.1875 42.84375 \r\nQ 18.109375 37.203125 18.109375 27.296875 \r\nQ 18.109375 17.390625 22.1875 11.75 \r\nQ 26.265625 6.109375 33.40625 6.109375 \r\nQ 40.53125 6.109375 44.609375 11.75 \r\nQ 48.6875 17.390625 48.6875 27.296875 \r\nz\r\nM 18.109375 46.390625 \r\nQ 20.953125 51.265625 25.265625 53.625 \r\nQ 29.59375 56 35.59375 56 \r\nQ 45.5625 56 51.78125 48.09375 \r\nQ 58.015625 40.1875 58.015625 27.296875 \r\nQ 58.015625 14.40625 51.78125 6.484375 \r\nQ 45.5625 -1.421875 35.59375 -1.421875 \r\nQ 29.59375 -1.421875 25.265625 0.953125 \r\nQ 20.953125 3.328125 18.109375 8.203125 \r\nL 18.109375 0 \r\nL 9.078125 0 \r\nL 9.078125 75.984375 \r\nL 18.109375 75.984375 \r\nz\r\n\" id=\"DejaVuSans-98\"/>\r\n     </defs>\r\n     <g transform=\"translate(14.798438 150.552187)rotate(-90)scale(0.1 -0.1)\">\r\n      <use xlink:href=\"#DejaVuSans-110\"/>\r\n      <use x=\"63.378906\" xlink:href=\"#DejaVuSans-117\"/>\r\n      <use x=\"126.757812\" xlink:href=\"#DejaVuSans-109\"/>\r\n      <use x=\"224.169922\" xlink:href=\"#DejaVuSans-98\"/>\r\n      <use x=\"287.646484\" xlink:href=\"#DejaVuSans-101\"/>\r\n      <use x=\"349.169922\" xlink:href=\"#DejaVuSans-114\"/>\r\n     </g>\r\n    </g>\r\n   </g>\r\n   <g id=\"line2d_17\">\r\n    <path clip-path=\"url(#p4db9d6299a)\" d=\"M 58.999432 229.874489 \r\nL 135.090341 180.456307 \r\nL 201.035795 131.038125 \r\nL 261.908523 81.619943 \r\nL 363.363068 32.201761 \r\n\" style=\"fill:none;stroke:#1f77b4;stroke-linecap:square;stroke-width:1.5;\"/>\r\n   </g>\r\n   <g id=\"patch_3\">\r\n    <path d=\"M 43.78125 239.758125 \r\nL 43.78125 22.318125 \r\n\" style=\"fill:none;stroke:#000000;stroke-linecap:square;stroke-linejoin:miter;stroke-width:0.8;\"/>\r\n   </g>\r\n   <g id=\"patch_4\">\r\n    <path d=\"M 378.58125 239.758125 \r\nL 378.58125 22.318125 \r\n\" style=\"fill:none;stroke:#000000;stroke-linecap:square;stroke-linejoin:miter;stroke-width:0.8;\"/>\r\n   </g>\r\n   <g id=\"patch_5\">\r\n    <path d=\"M 43.78125 239.758125 \r\nL 378.58125 239.758125 \r\n\" style=\"fill:none;stroke:#000000;stroke-linecap:square;stroke-linejoin:miter;stroke-width:0.8;\"/>\r\n   </g>\r\n   <g id=\"patch_6\">\r\n    <path d=\"M 43.78125 22.318125 \r\nL 378.58125 22.318125 \r\n\" style=\"fill:none;stroke:#000000;stroke-linecap:square;stroke-linejoin:miter;stroke-width:0.8;\"/>\r\n   </g>\r\n   <g id=\"text_19\">\r\n    <!-- price / number -->\r\n    <defs>\r\n     <path id=\"DejaVuSans-32\"/>\r\n     <path d=\"M 25.390625 72.90625 \r\nL 33.6875 72.90625 \r\nL 8.296875 -9.28125 \r\nL 0 -9.28125 \r\nz\r\n\" id=\"DejaVuSans-47\"/>\r\n    </defs>\r\n    <g transform=\"translate(166.995938 16.318125)scale(0.12 -0.12)\">\r\n     <use xlink:href=\"#DejaVuSans-112\"/>\r\n     <use x=\"63.476562\" xlink:href=\"#DejaVuSans-114\"/>\r\n     <use x=\"104.589844\" xlink:href=\"#DejaVuSans-105\"/>\r\n     <use x=\"132.373047\" xlink:href=\"#DejaVuSans-99\"/>\r\n     <use x=\"187.353516\" xlink:href=\"#DejaVuSans-101\"/>\r\n     <use x=\"248.876953\" xlink:href=\"#DejaVuSans-32\"/>\r\n     <use x=\"280.664062\" xlink:href=\"#DejaVuSans-47\"/>\r\n     <use x=\"314.355469\" xlink:href=\"#DejaVuSans-32\"/>\r\n     <use x=\"346.142578\" xlink:href=\"#DejaVuSans-110\"/>\r\n     <use x=\"409.521484\" xlink:href=\"#DejaVuSans-117\"/>\r\n     <use x=\"472.900391\" xlink:href=\"#DejaVuSans-109\"/>\r\n     <use x=\"570.3125\" xlink:href=\"#DejaVuSans-98\"/>\r\n     <use x=\"633.789062\" xlink:href=\"#DejaVuSans-101\"/>\r\n     <use x=\"695.3125\" xlink:href=\"#DejaVuSans-114\"/>\r\n    </g>\r\n   </g>\r\n  </g>\r\n </g>\r\n <defs>\r\n  <clipPath id=\"p4db9d6299a\">\r\n   <rect height=\"217.44\" width=\"334.8\" x=\"43.78125\" y=\"22.318125\"/>\r\n  </clipPath>\r\n </defs>\r\n</svg>\r\n",
      "image/png": "[encoded data removed]"
     },
     "metadata": {
      "needs_background": "light"
     }
    }
   ],
   "source": [
    "import matplotlib.pyplot as plt\n",
    "\n",
    "price = [100, 250, 380, 500, 700]\n",
    "number = [1, 2, 3, 4, 5]\n",
    "\n",
    "# グラフを書く\n",
    "plt.plot(price, number)\n",
    "\n",
    "# グラフのタイトル\n",
    "plt.title(\"price / number\")\n",
    "\n",
    "# x軸のラベル\n",
    "plt.xlabel(\"price\")\n",
    "\n",
    "# y軸のラベル\n",
    "plt.ylabel(\"number\")\n",
    "\n",
    "# 表示する\n",
    "plt.show()"
   ]
  },
  {
   "cell_type": "markdown",
   "metadata": {},
   "source": [
    "ソースコードと説明の文章、実行結果をまとめて保存しておくことができるので  \n",
    "データ分析を試行錯誤しながら行うことがとても簡単に行うことができます。"
   ]
  },
  {
   "cell_type": "markdown",
   "metadata": {},
   "source": [
    "## 2.2 python基本文法"
   ]
  },
  {
   "cell_type": "markdown",
   "metadata": {},
   "source": [
    "### 2.2.1 データ構造 \n",
    "Pythonでは数値、文字列、リスト、辞書などの基本的なデータ構造を手軽に扱えます。"
   ]
  },
  {
   "cell_type": "markdown",
   "metadata": {},
   "source": [
    "#### 数値\n",
    "整数と実数の基本的な四則演算が行えます。"
   ]
  },
  {
   "cell_type": "code",
   "execution_count": 244,
   "metadata": {},
   "outputs": [
    {
     "output_type": "execute_result",
     "data": {
      "text/plain": "int"
     },
     "metadata": {},
     "execution_count": 244
    }
   ],
   "source": [
    "a = 1\n",
    "type(a) #整数はint型。type()関数でオブジェクトの型を確認"
   ]
  },
  {
   "cell_type": "code",
   "execution_count": 245,
   "metadata": {},
   "outputs": [
    {
     "output_type": "execute_result",
     "data": {
      "text/plain": "float"
     },
     "metadata": {},
     "execution_count": 245
    }
   ],
   "source": [
    "b = 3.14\n",
    "type(b)#実数はfloat型。"
   ]
  },
  {
   "cell_type": "code",
   "execution_count": 246,
   "metadata": {},
   "outputs": [
    {
     "output_type": "stream",
     "name": "stdout",
     "text": "2\n"
    }
   ],
   "source": [
    "print(1+1)"
   ]
  },
  {
   "cell_type": "code",
   "execution_count": 247,
   "metadata": {},
   "outputs": [
    {
     "output_type": "stream",
     "name": "stdout",
     "text": "4.666666666666667\n"
    }
   ],
   "source": [
    "print(14/3)"
   ]
  },
  {
   "cell_type": "code",
   "execution_count": 248,
   "metadata": {},
   "outputs": [
    {
     "output_type": "stream",
     "name": "stdout",
     "text": "4\n"
    }
   ],
   "source": [
    "print(14//3)"
   ]
  },
  {
   "cell_type": "code",
   "execution_count": 249,
   "metadata": {},
   "outputs": [
    {
     "output_type": "stream",
     "name": "stdout",
     "text": "2\n"
    }
   ],
   "source": [
    "print(14%3)"
   ]
  },
  {
   "cell_type": "markdown",
   "metadata": {},
   "source": [
    "#### 文字列\n",
    "Unicode文字列を表すstr型とバイト列を表すbytes型があります。  \n",
    "文字列操作は基本的にstr型で行い、ファイルやネットワーク越しのデータの読み書きなど  \n",
    "Python以外との境界でbytes型に変換します。"
   ]
  },
  {
   "cell_type": "code",
   "execution_count": 250,
   "metadata": {},
   "outputs": [
    {
     "output_type": "execute_result",
     "data": {
      "text/plain": "str"
     },
     "metadata": {},
     "execution_count": 250
    }
   ],
   "source": [
    "type('abc')#文字列はstr型。文字列は'または\"で囲う。"
   ]
  },
  {
   "cell_type": "code",
   "execution_count": 251,
   "metadata": {},
   "outputs": [
    {
     "output_type": "stream",
     "name": "stdout",
     "text": "abc\n123\n"
    }
   ],
   "source": [
    "print('abc\\n123')#\\nは改行文字"
   ]
  },
  {
   "cell_type": "markdown",
   "metadata": {},
   "source": [
    "#### リスト \n",
    "\n",
    "複数の値の列をひとまとめに扱うためのデータ型としてリスト(list)があります。  "
   ]
  },
  {
   "cell_type": "code",
   "execution_count": 252,
   "metadata": {},
   "outputs": [
    {
     "output_type": "execute_result",
     "data": {
      "text/plain": "list"
     },
     "metadata": {},
     "execution_count": 252
    }
   ],
   "source": [
    "l = []\n",
    "type(l) #[]でリスト（list型）を得る。"
   ]
  },
  {
   "cell_type": "code",
   "execution_count": 253,
   "metadata": {},
   "outputs": [
    {
     "output_type": "stream",
     "name": "stdout",
     "text": "[1, 2, 3]\n"
    }
   ],
   "source": [
    "l = [1, 2, 3] #値はカンマで区切る。\n",
    "print(l)"
   ]
  },
  {
   "cell_type": "code",
   "execution_count": 254,
   "metadata": {},
   "outputs": [
    {
     "output_type": "stream",
     "name": "stdout",
     "text": "[1, 2, 'Three', 4.0]\n"
    }
   ],
   "source": [
    "l = [1, 2, 'Three',4.0] #任意のオブジェクトを要素として含められる。\n",
    "print(l)"
   ]
  },
  {
   "cell_type": "code",
   "execution_count": 255,
   "metadata": {},
   "outputs": [
    {
     "output_type": "stream",
     "name": "stdout",
     "text": "1\nThree\n"
    }
   ],
   "source": [
    "print(l[0])#[n]でn番目の要素を取得する。\n",
    "print(l[2])"
   ]
  },
  {
   "cell_type": "code",
   "execution_count": 256,
   "metadata": {},
   "outputs": [
    {
     "output_type": "stream",
     "name": "stdout",
     "text": "[2, 'Three']\n"
    }
   ],
   "source": [
    "print(l[1:3])"
   ]
  },
  {
   "cell_type": "code",
   "execution_count": 257,
   "metadata": {},
   "outputs": [
    {
     "output_type": "stream",
     "name": "stdout",
     "text": "4\n"
    }
   ],
   "source": [
    "print(len(l)) # len()関数でリストの長さを取得する。"
   ]
  },
  {
   "cell_type": "code",
   "execution_count": 258,
   "metadata": {},
   "outputs": [
    {
     "output_type": "stream",
     "name": "stdout",
     "text": "[1, 2, 'Three', 4.0, 5, 6]\n"
    }
   ],
   "source": [
    "l = l + [5,6]#+演算子でリスト同士を結合したリストを得る。\n",
    "print(l)"
   ]
  },
  {
   "cell_type": "code",
   "execution_count": 259,
   "metadata": {},
   "outputs": [
    {
     "output_type": "stream",
     "name": "stdout",
     "text": "[1, 2, 'Three', 4.0, 5, 6, 7]\n"
    }
   ],
   "source": [
    "l.append(7)#append()メソッドで値を末尾に追加する。\n",
    "print(l)"
   ]
  },
  {
   "cell_type": "code",
   "execution_count": 260,
   "metadata": {},
   "outputs": [
    {
     "output_type": "stream",
     "name": "stdout",
     "text": "[1, 1.5, 2, 'Three', 4.0, 5, 6, 7]\n"
    }
   ],
   "source": [
    "l.insert(1,1.5)#insert()メソッドで第1引数のインデックスに第2引数の値を挿入する。\n",
    "print(l)"
   ]
  },
  {
   "cell_type": "code",
   "execution_count": 261,
   "metadata": {},
   "outputs": [
    {
     "output_type": "stream",
     "name": "stdout",
     "text": "[1, 2, 'Three', 4.0, 5, 6, 7]\n"
    }
   ],
   "source": [
    "del l[1]#del文で指定したインデックスの要素を削除する。\n",
    "print(l)"
   ]
  },
  {
   "cell_type": "code",
   "execution_count": 262,
   "metadata": {},
   "outputs": [
    {
     "output_type": "execute_result",
     "data": {
      "text/plain": "1"
     },
     "metadata": {},
     "execution_count": 262
    }
   ],
   "source": [
    "l.pop(0)#pop()で指定したインデックスの要素を取得し、リストから削除する。"
   ]
  },
  {
   "cell_type": "code",
   "execution_count": 263,
   "metadata": {},
   "outputs": [
    {
     "output_type": "stream",
     "name": "stdout",
     "text": "[2, 'Three', 4.0, 5, 6, 7]\n"
    }
   ],
   "source": [
    "print(l)"
   ]
  },
  {
   "cell_type": "code",
   "execution_count": 264,
   "metadata": {},
   "outputs": [
    {
     "output_type": "stream",
     "name": "stdout",
     "text": "['a', 'b', 'c']\n"
    }
   ],
   "source": [
    "s = 'a,b,c'\n",
    "l = s.split(',')#,で区切りそれぞれリストに入れる\n",
    "print(l)"
   ]
  },
  {
   "cell_type": "code",
   "execution_count": 265,
   "metadata": {},
   "outputs": [
    {
     "output_type": "stream",
     "name": "stdout",
     "text": "aSTRbSTRc\n"
    }
   ],
   "source": [
    "s = 'STR'.join(['a','b','c'])#str型のjoin()メソッドでリストを結合した文字列を得る。\n",
    "print(s)"
   ]
  },
  {
   "cell_type": "markdown",
   "metadata": {},
   "source": [
    "### 2.2.2 制御構造と関数・クラス定義\n",
    "\n",
    "Pythonではインデントが大きな意味を持ちます。  \n",
    "Pythonでは読みにくくなることを避けるため  \n",
    "正しくインデントされていないブロックがあるとIndentationErrorというエラーになり実行できません。  \n",
    "インデントを増やす直前の行の末尾には:（コロン）を置きます  \n",
    "制御構造文と関数・クラス定義を書く際に必要になってきます。\n"
   ]
  },
  {
   "cell_type": "markdown",
   "metadata": {},
   "source": [
    "#### if文"
   ]
  },
  {
   "cell_type": "code",
   "execution_count": 266,
   "metadata": {},
   "outputs": [
    {
     "output_type": "error",
     "ename": "IndentationError",
     "evalue": "expected an indented block (<ipython-input-266-0d00f1845990>, line 7)",
     "traceback": [
      "\u001b[1;36m  File \u001b[1;32m\"<ipython-input-266-0d00f1845990>\"\u001b[1;36m, line \u001b[1;32m7\u001b[0m\n\u001b[1;33m    print('aは1でも2でもない') # どの 条件 にも 当てはまら なかっ た とき に 実行 さ れる（ else 節 は なく ても 良い\u001b[0m\n\u001b[1;37m        ^\u001b[0m\n\u001b[1;31mIndentationError\u001b[0m\u001b[1;31m:\u001b[0m expected an indented block\n"
     ]
    }
   ],
   "source": [
    "a = 21 # if 文 で 処理 を 分岐 できる。 \n",
    "if a == 1:\n",
    "    print('aは1') # if 文 の 式 が 真 の とき に 実行 さ れる。\n",
    "elif a == 2:\n",
    "    print('aは2') # elif 節 の 式 が 真 の とき に 実行 さ れる（ elif 節 は なく ても 良い）。 \n",
    "else:\n",
    "print('aは1でも2でもない') # どの 条件 にも 当てはまら なかっ た とき に 実行 さ れる（ else 節 は なく ても 良い"
   ]
  },
  {
   "cell_type": "markdown",
   "metadata": {},
   "source": [
    "![](https://github.com/Tomo-Horiuchi/predict_keiba/blob/master/image/1.png?raw=true)"
   ]
  },
  {
   "cell_type": "markdown",
   "metadata": {},
   "source": [
    "#### for文とwhile文による繰り返し処理"
   ]
  },
  {
   "cell_type": "code",
   "execution_count": 267,
   "metadata": {},
   "outputs": [
    {
     "output_type": "stream",
     "name": "stdout",
     "text": "0\n1\n2\n3\n4\n5\n6\n7\n8\n9\n"
    }
   ],
   "source": [
    "for i in range(10):#回数を指定した繰り返しには組み込み関数range()を使う。\n",
    "    print(i)"
   ]
  },
  {
   "cell_type": "code",
   "execution_count": 268,
   "metadata": {},
   "outputs": [
    {
     "output_type": "stream",
     "name": "stdout",
     "text": "1\n2\nThree\n4.0\n5\n6\n7\n"
    }
   ],
   "source": [
    "#変数iにinの右側のリストの要素が順に代入されて、ブロック内の処理が計7回実行される。\n",
    "l = [1, 2, 'Three', 4.0, 5, 6, 7]\n",
    "for i in l:\n",
    "    print(i)"
   ]
  },
  {
   "cell_type": "code",
   "execution_count": 269,
   "metadata": {},
   "outputs": [
    {
     "output_type": "stream",
     "name": "stdout",
     "text": "1\n2\n3\n4\n5\n6\n7\n8\n9\n"
    }
   ],
   "source": [
    "i = 1\n",
    "while i<10:#while文で式が真の間繰り返し処理する。\n",
    "    print(i)\n",
    "    i+=1"
   ]
  },
  {
   "cell_type": "markdown",
   "metadata": {},
   "source": [
    "#### 関数定義"
   ]
  },
  {
   "cell_type": "code",
   "execution_count": 270,
   "metadata": {},
   "outputs": [],
   "source": [
    "#addという名前の関数を定義する。この関数はaとbの2つの引数を取り、加算した値を返す。 \n",
    "def add(a,b):\n",
    "    return a + b #return文で関数の戻り値を返す。 "
   ]
  },
  {
   "cell_type": "code",
   "execution_count": 271,
   "metadata": {},
   "outputs": [
    {
     "output_type": "stream",
     "name": "stdout",
     "text": "3\n"
    }
   ],
   "source": [
    "a = add(1,2)#関数の呼び出しは、関数名の後に括弧で引数を指定する。\n",
    "print(a)#3と表示される。 "
   ]
  },
  {
   "cell_type": "markdown",
   "metadata": {},
   "source": [
    "#### クラス定義"
   ]
  },
  {
   "cell_type": "code",
   "execution_count": 272,
   "metadata": {},
   "outputs": [],
   "source": [
    "#Squareという名前のクラスを定義する。 \n",
    "class Square:\n",
    "    #インスタンスが作成された直後に呼び出される特殊なメソッドを定義する(コンストラクタ)\n",
    "    def __init__(self, width, height):\n",
    "        self.width = width # width 属性 に 値 を 格納 する\n",
    "        self.height = height # height 属性 に 値 を 格納 する。\n",
    "    # 面積 を 計算 する メソッド を 定義 する。 \n",
    "    def area(self):\n",
    "        return self.width*self.height"
   ]
  },
  {
   "cell_type": "code",
   "execution_count": 273,
   "metadata": {},
   "outputs": [
    {
     "output_type": "stream",
     "name": "stdout",
     "text": "100\n2000\n"
    }
   ],
   "source": [
    "square=Square(100,20)#クラスのインスタンスを作成する。newなどのキーワードは不要。\n",
    "print(square.width) \n",
    "print(square.area())"
   ]
  },
  {
   "cell_type": "markdown",
   "metadata": {},
   "source": [
    "#### 組み込み関数  \n",
    "\n",
    "Pythonにはいくつかの組み込み関数が存在し、特に宣言せずに使えます。  \n",
    "これまでに使ったprint()関数やlen()関数も組み込み関数です。  "
   ]
  },
  {
   "cell_type": "markdown",
   "metadata": {},
   "source": [
    "#### 代表的な組み込み関数\n",
    "![](https://github.com/Tomo-Horiuchi/predict_keiba/blob/master/image/2.png?raw=true)"
   ]
  },
  {
   "cell_type": "markdown",
   "metadata": {},
   "source": [
    "#### モジュール  \n",
    "Pythonには豊富な標準ライブラリが付属しています。Pythonのライブラリはモジュールと呼ばれる単位で管理されます  \n",
    "モジュールには複数のクラスや関数が含まれます。  \n",
    "  \n",
    "  \n",
    "![](https://github.com/Tomo-Horiuchi/predict_keiba/blob/master/image/3.png?raw=true)"
   ]
  },
  {
   "cell_type": "markdown",
   "metadata": {},
   "source": [
    "#### ライブラリインストール\n",
    "\n",
    "PyPIで公開されているライブラリのインストールにはpipというツールを使用します\n",
    "  \n",
    "pip install ライブラリ 名 でインストールできます\n",
    "\n"
   ]
  },
  {
   "cell_type": "code",
   "execution_count": 274,
   "metadata": {},
   "outputs": [
    {
     "output_type": "stream",
     "name": "stdout",
     "text": "Requirement already satisfied: requests in c:\\users\\info\\appdata\\local\\programs\\python\\python37\\lib\\site-packages (2.22.0)\nRequirement already satisfied: urllib3!=1.25.0,!=1.25.1,<1.26,>=1.21.1 in c:\\users\\info\\appdata\\local\\programs\\python\\python37\\lib\\site-packages (from requests) (1.25.5)\nRequirement already satisfied: certifi>=2017.4.17 in c:\\users\\info\\appdata\\local\\programs\\python\\python37\\lib\\site-packages (from requests) (2019.9.11)\nRequirement already satisfied: chardet<3.1.0,>=3.0.2 in c:\\users\\info\\appdata\\local\\programs\\python\\python37\\lib\\site-packages (from requests) (3.0.4)\nRequirement already satisfied: idna<2.9,>=2.5 in c:\\users\\info\\appdata\\local\\programs\\python\\python37\\lib\\site-packages (from requests) (2.8)\n"
    }
   ],
   "source": [
    "!pip install requests"
   ]
  },
  {
   "cell_type": "markdown",
   "metadata": {},
   "source": [
    "# 3 スクレピング・クローリング実践 "
   ]
  },
  {
   "cell_type": "markdown",
   "metadata": {},
   "source": [
    "## 3.1 スクレピング・クローリング注意事項\n",
    "### 3.1.1 著作権について\n",
    "著作物は著作権法によって保護されます。著作権法第2条では  \n",
    "著作物の要件が「思想又は感情を創作的に表現したものであつて  \n",
    "文芸、学術、美術又は音楽の範囲に属するもの」と定められています。  \n",
    "Webページは基本的に著作物であると考えられるます。  \n",
    "#### スクレピング・クローリングにおいて注意が特に必要な権利\n",
    "- 複製権：収集したWebページを保存する権利\n",
    "- 翻案権：収集したWebページから新たな著作物を創造する権利\n",
    "- 公衆送信権：収集したWebページをサーバーから公開する権利  \n",
    "  　 \n",
    "これらの行為には基本的に著作権者の許諾が必要ですが、  \n",
    "使用目的によっては著作権者の許諾なく自由に行うことが認められています。  \n",
    "情報解析を目的とした複製や検索エンジンサービスの提供を目的とした複製・翻案・自動公衆送信が、  \n",
    "著作権者の許諾なく行えるようになっています  \n",
    "\n",
    "#### 利用についての一定の条件\n",
    "- 会員のみが閲覧可能なサイトのクロールには著作権者の許諾が必要なこと\n",
    "- robots.txtやrobotsmetaタグで拒否されているページをクロールしないこと\n",
    "- クロールした後に拒否されたことがわかった場合は保存済みの著作物を消去すること\n",
    "- 検索結果では元のWebページにリンクすること検索結果として表示する著作物は必要と認められる限度内であること\n",
    "- 違法コンテンツであることを知った場合は公衆送信をやめること\n",
    "\n",
    "### 3.1.2 サーバーの負荷\n",
    "クローラーを実行する際には、クロール先のWebサイトの負荷を考慮する必要があります。  \n",
    "クローラーがWebサーバーの処理能力の多くを占めてしまうと、  \n",
    "他の人がそのWebサイトを閲覧できなくなってしまいます。  \n",
    "商用サイトの場合は、業務妨害となる可能性もあります。\n",
    "#### 同時接続数\n",
    "1つのWebサーバーが同時に処理できる接続数は限られているので、  \n",
    "同時接続数を増やすと、それだけあなたのクローラーがWebサーバーの処理能力を専有してしまいます。  \n",
    "出来るだけ数を少なくし処理が終わったら接続を切るようにする。\n",
    "\n",
    "#### リクエスト間隔\n",
    "間隔を空けずに次々とWebページを取得すると相手のサーバーに負荷をかけます。  \n",
    "常識的なクロールの間隔1秒以上を入れることが望ましいと考えられています。\n",
    "### 3.1.3　robots.txtによる指示\n",
    "robots.txtはWebサイトのトップディレクトリに配置されるテキストファイルです。  \n",
    "例えば、https://www.python.org/ のrobots.txt は https://www.python.org/robots.txt に置かれます。  \n",
    "robots.txtの中身はRobotsExclusionProtocolとして標準化されており、  \n",
    "GoogleやBingなど主要な検索エンジンのクローラーはこの標準に従っていると表明しています。  \n",
    "robots.txtが存在しない場合は、すべてのページのクロールが許可されているとみなします。\n",
    "#### robots.txtのパース  \n",
    "Pythonの標準ライブラリのurllib.robotparserにはrobots.txtをパースするためのRobotFileParserクラスが含まれています。次のようにrobots.txtを簡単に扱えます。\n"
   ]
  },
  {
   "cell_type": "code",
   "execution_count": 275,
   "metadata": {},
   "outputs": [],
   "source": [
    "from urllib.robotparser import RobotFileParser\n",
    "\n",
    "rp = RobotFileParser()\n",
    "rp.set_url('https://www.netkeiba.com/robots.txt')#set_url()でrobots.txtのURLを設定する。\n",
    "rp.read()# read() で robots. txt を 読み込む。 "
   ]
  },
  {
   "cell_type": "code",
   "execution_count": 276,
   "metadata": {},
   "outputs": [
    {
     "output_type": "stream",
     "name": "stdout",
     "text": "None\n"
    }
   ],
   "source": [
    "print(rp.crawl_delay('*'))#クロール間隔表す。"
   ]
  },
  {
   "cell_type": "markdown",
   "metadata": {},
   "source": [
    "数値またはNoneが返される  \n",
    "返された値が数値ならばその秒数分間隔をあけなければならない  \n",
    "今回はNoneであるのでクロール間隔についての指示はない"
   ]
  },
  {
   "cell_type": "code",
   "execution_count": 277,
   "metadata": {},
   "outputs": [
    {
     "output_type": "stream",
     "name": "stdout",
     "text": "True\n"
    }
   ],
   "source": [
    "#そのURLのクロールが許可されているかどうかを取得できる。\n",
    "print(rp.can_fetch('*',\"https://db.netkeiba.com/horse/2017101835/\"))"
   ]
  },
  {
   "cell_type": "markdown",
   "metadata": {},
   "source": [
    "True または Falseが返されます  \n",
    "Trueならばクロールが許可されている  \n",
    "Falseならばクロールは許可されていません"
   ]
  },
  {
   "cell_type": "markdown",
   "metadata": {},
   "source": [
    "## 3.2 スクレピング・クローリングでデータを取得"
   ]
  },
  {
   "cell_type": "markdown",
   "metadata": {},
   "source": [
    "### 3.2.1 RequestsによるWebページの取得\n",
    "Webページを取得するには、ライブラリのRequestsを使います。  \n",
    "HTTPヘッダーの追加やBasic認証など面倒な処理もRequestsには簡単に使えるインターフェイスが用意されています。 "
   ]
  },
  {
   "cell_type": "code",
   "execution_count": 278,
   "metadata": {},
   "outputs": [
    {
     "output_type": "stream",
     "name": "stdout",
     "text": "Requirement already satisfied: requests in c:\\users\\info\\appdata\\local\\programs\\python\\python37\\lib\\site-packages (2.22.0)\nRequirement already satisfied: certifi>=2017.4.17 in c:\\users\\info\\appdata\\local\\programs\\python\\python37\\lib\\site-packages (from requests) (2019.9.11)\nRequirement already satisfied: urllib3!=1.25.0,!=1.25.1,<1.26,>=1.21.1 in c:\\users\\info\\appdata\\local\\programs\\python\\python37\\lib\\site-packages (from requests) (1.25.5)\nRequirement already satisfied: idna<2.9,>=2.5 in c:\\users\\info\\appdata\\local\\programs\\python\\python37\\lib\\site-packages (from requests) (2.8)\nRequirement already satisfied: chardet<3.1.0,>=3.0.2 in c:\\users\\info\\appdata\\local\\programs\\python\\python37\\lib\\site-packages (from requests) (3.0.4)\n"
    }
   ],
   "source": [
    "!pip install requests"
   ]
  },
  {
   "cell_type": "code",
   "execution_count": 279,
   "metadata": {
    "tags": [
     "outputPrepend"
    ]
   },
   "outputs": [],
   "source": [
    "import requests#ライブラリをインポートして利用可能にする。"
   ]
  },
  {
   "cell_type": "code",
   "execution_count": 280,
   "metadata": {},
   "outputs": [],
   "source": [
    "response = requests.get('https://db.netkeiba.com/race/202006030811.html')#get()関数でWebページを取得できる。"
   ]
  },
  {
   "cell_type": "code",
   "execution_count": 281,
   "metadata": {},
   "outputs": [
    {
     "output_type": "stream",
     "name": "stdout",
     "text": "<class 'requests.models.Response'>\n"
    }
   ],
   "source": [
    "print(type(response))#get()関数の戻り値はResponseオブジェクト。"
   ]
  },
  {
   "cell_type": "code",
   "execution_count": 282,
   "metadata": {},
   "outputs": [
    {
     "output_type": "stream",
     "name": "stdout",
     "text": "200\n"
    }
   ],
   "source": [
    "print(response.status_code)#status_code属性でHTTPステータスコードを取得できる。"
   ]
  },
  {
   "cell_type": "code",
   "execution_count": 283,
   "metadata": {},
   "outputs": [
    {
     "output_type": "stream",
     "name": "stdout",
     "text": "text/html\n"
    }
   ],
   "source": [
    "print(response.headers['content-type'])#headers属性でHTTPヘッダーの辞書を取得できる。"
   ]
  },
  {
   "cell_type": "code",
   "execution_count": 284,
   "metadata": {},
   "outputs": [
    {
     "output_type": "stream",
     "name": "stdout",
     "text": "ISO-8859-1\n"
    }
   ],
   "source": [
    "print(response.encoding)#encoding属性でHTTPヘッダーから得られたエンコーディングを取得できる。"
   ]
  },
  {
   "cell_type": "code",
   "execution_count": 285,
   "metadata": {
    "tags": [
     "outputPrepend"
    ]
   },
   "outputs": [
    {
     "output_type": "execute_result",
     "data": {
      "text/plain": "017101833/\" title=\"¥\\xad¥á¥é¥ô¥§¥ê¥Æ\" id=\"umalink_202006030811\">¥\\xad¥á¥é¥ô¥§¥ê¥Æ</a>\\n\\n</td>\\n<td class=\"txt_c\" nowrap=\"nowrap\">²´3</td>\\n<td class=\"txt_c\" nowrap=\"nowrap\">57</td>\\n<td class=\"txt_l\" nowrap=\"nowrap\">\\n<a href=\"/jockey/01116/\" title=\"Æ£²¬¹¯ÂÀ\">Æ£²¬¹¯ÂÀ</a>\\n\\n</td>\\n<td class=\"txt_r\" nowrap=\"nowrap\">2:02.6</td>\\n<td class=\"txt_c\" nowrap=\"nowrap\">¥¯¥Ó</td>\\n\\n<diary_snap_cut>\\n<td class=\"speed_index bml\" nowrap=\"nowrap\">\\n<div class=\"txt_c\">\\n<a href=\"https://www.netkeiba.com/premium/?service=p13\" id=\"a_monthly_goods_link_01\" data-theme=\"07003\">**</a>\\n</div>\\n\\n</td>\\n<td nowrap=\"nowrap\">1-1-1-1</td>\\n<td class=\"bml\" class=\"txt_c\" nowrap=\"nowrap\"><span>37.7</span></td>\\n</diary_snap_cut>\\n<td class=\"txt_r\" nowrap=\"nowrap\">63.5</td>\\n<td class=\"bml\" align=\"right\" nowrap=\"nowrap\"><span>10</span></td>\\n<td nowrap=\"nowrap\">538(0)</td>\\n<diary_snap_cut>\\n<td class=\"txt_c\" nowrap=\"nowrap\">\\n<a href=\"/?pid=horse_training&id=2017101833&rid=202006030811\"><img src=\"/style/netkeiba.ja/image/ico_oikiri.gif\" width=\"13\" height=\"13\" border=\"0\" /></a>\\n</td>\\n<td class=\"txt_c\" nowrap=\"nowrap\">\\n<a href=\"/?pid=horse_comment&id=2017101833&rid=202006030811\"><img src=\"/style/netkeiba.ja/image/ico_comment.gif\" width=\"13\" height=\"13\" border=\"0\" /></a>\\n</td>\\n<td nowrap=\"nowrap\">\\n<div class=\"txt_c\">\\n<a href=\"https://www.netkeiba.com/premium/?service=p13\" id=\"a_monthly_goods_link_02\" data-theme=\"07004\"><img src=\"/style/netkeiba.ja/image/ico_remarks.gif\" width=\"13\" height=\"13\" border=\"0\" /></a>\\n</div>\\n\\n</td>\\n</diary_snap_cut>\\n<td class=\"txt_l\" nowrap=\"nowrap\">\\n[À¾]\\n<a href=\"/trainer/01039/\" title=\"ÃæÃÝÏÂÌé\">ÃæÃÝÏÂÌé</a>\\n\\n</td>\\n<diary_snap_cut>\\n<td class=\"txt_l w7ml\" nowrap=\"nowrap\">\\n<a href=\"/owner/944030/\" title=\"²ÃÆ£À¿\">²ÃÆ£À¿</a>\\n\\n</td>\\n<td class=\"txt_r\" nowrap=\"nowrap\"></td>\\n</diary_snap_cut>\\n</tr><tr>\\n<td class=\"txt_r\" nowrap=\"nowrap\">18</td>\\n<td class=\"w2ml\" align=\"right\" nowrap=\"nowrap\"><span>2</span></td>\\n<td class=\"txt_r\" nowrap=\"nowrap\">4</td>\\n<td class=\"txt_l\" nowrap=\"nowrap\">\\n<a href=\"/horse/2017101755/\" title=\"¥Æ¥ó¥Ô¥ó\" id=\"umalink_202006030811\">¥Æ¥ó¥Ô¥ó</a>\\n\\n</td>\\n<td class=\"txt_c\" nowrap=\"nowrap\">²´3</td>\\n<td class=\"txt_c\" nowrap=\"nowrap\">57</td>\\n<td class=\"txt_l\" nowrap=\"nowrap\">\\n<a href=\"/jockey/01141/\" title=\"Ãæ°æÍµÆó\">Ãæ°æÍµÆó</a>\\n\\n</td>\\n<td class=\"txt_r\" nowrap=\"nowrap\">2:03.3</td>\\n<td class=\"txt_c\" nowrap=\"nowrap\">4</td>\\n\\n<diary_snap_cut>\\n<td class=\"speed_index bml\" nowrap=\"nowrap\">\\n<div class=\"txt_c\">\\n<a href=\"https://www.netkeiba.com/premium/?service=p13\" id=\"a_monthly_goods_link_01\" data-theme=\"07003\">**</a>\\n</div>\\n\\n</td>\\n<td nowrap=\"nowrap\">7-7-10-13</td>\\n<td class=\"bml\" class=\"txt_c\" nowrap=\"nowrap\"><span>37.6</span></td>\\n</diary_snap_cut>\\n<td class=\"txt_r\" nowrap=\"nowrap\">237.4</td>\\n<td class=\"bml\" align=\"right\" nowrap=\"nowrap\"><span>15</span></td>\\n<td nowrap=\"nowrap\">500(-2)</td>\\n<diary_snap_cut>\\n<td class=\"txt_c\" nowrap=\"nowrap\">\\n<a href=\"/?pid=horse_training&id=2017101755&rid=202006030811\"><img src=\"/style/netkeiba.ja/image/ico_oikiri.gif\" width=\"13\" height=\"13\" border=\"0\" /></a>\\n</td>\\n<td class=\"txt_c\" nowrap=\"nowrap\">\\n<a href=\"/?pid=horse_comment&id=2017101755&rid=202006030811\"><img src=\"/style/netkeiba.ja/image/ico_comment.gif\" width=\"13\" height=\"13\" border=\"0\" /></a>\\n</td>\\n<td nowrap=\"nowrap\">\\n\\n\\n</td>\\n</diary_snap_cut>\\n<td class=\"txt_l\" nowrap=\"nowrap\">\\n[À¾]\\n<a href=\"/trainer/00438/\" title=\"°ÂÅÄÎ´¹Ô\">°ÂÅÄÎ´¹Ô</a>\\n\\n</td>\\n<diary_snap_cut>\\n<td class=\"txt_l w2ml\" nowrap=\"nowrap\">\\n<a href=\"/owner/059700/\" title=\"¥æ¥¢¥¹¥È¡¼¥ê¡¼\">¥æ¥¢¥¹¥È¡¼¥ê¡¼</a>\\n\\n</td>\\n<td class=\"txt_r\" nowrap=\"nowrap\"></td>\\n</diary_snap_cut>\\n</tr>\\n</table>\\n\\n</diary_snap>\\n<script type=\"text/javascript\" src=\"/style/netkeiba.ja/js/umalink.js\"></script>\\n<div class=\"diary_snap_write_box\">\\n<p><a href=\"/?pid=diary_snapshot&snap=aHR0cDovL2RiLm5ldGtlaWJhLmNvbS8/cGlkPXJhY2VfZGV0YWlsJmlkPTIwMjAwNjAzMDgxMQ==&meta=race_result\" title=\"¤Ò¤È¤³¤ÈÆüµ\\xad¤ò½ñ¤¯\"><img src=\"https://cdn.netkeiba.com/img.db//style/netkeiba.ja/image/prof_btn_diary_write_01.png\" class=\"imgover\" /></a></p>\\n<p>¢¨¤³¤Î¥ì¡¼¥¹¤Ë¤Ä¤¤¤Æ¡¢Æüµ\\xad¤ò½ñ¤¯¤³¤È¤¬¤Ç¤\\xad¤Þ¤¹¡£</p>\\n</div><!-- /.diary_snap_write_box -->\\n<script type=\"text/javascript\">\\n$(document).on( \\'click\\', \\'#action_regist\\', function(){\\nevent.preventDefault();\\nvar regist_url = \\'https://regist.sp.netkeiba.com/?pid=regist_form&action=nk_input\\';\\nvar callback_url = $(\\'#r_callback\\').val();\\naction_regist(\\'action_nk_regist\\', regist_url, callback_url);\\n});\\nfunction action_regist( modal_id, modal_url, callback_url ) {\\nconsole.log(\\'action_regist(%s,%s,%s)\\', modal_id, modal_url, callback_url);\\n$.colorbox({\\nhref: modal_url,\\niframe: true,\\nopacity: \\'0.5\\',\\nopen: true,\\nscrolling: true,\\nheight: \\'60%\\',\\nmaxWidth: \\'90%\\',\\nwidth: $(window).width() - 60 + \\'px\\',\\nmaxWidth: \\'420px\\',\\noverlayClose: true,\\nescKey: false,\\ncloseButton: true,\\nonComplete : function(){\\n//setHeight();\\n},\\nonClosed : function(){\\n$(\\'#cboxWrapper\\').removeClass(\\'SetModal\\');\\n}\\n});\\nfunction setHeight() {\\nvar ifrObj = document.getElementById(\\'cboxLoadedContent\\').querySelectorAll(\\'iframe\\')[0];\\n$(ifrObj).on(\\'load\\', function() {\\nvar $cBox = $(\\'#colorbox\\');\\nvar boxPositionTop = $cBox.offset().top;\\nvar boxHeight = $cBox.height();\\nvar ifrBody = ifrObj.contentWindow.document.body;\\nvar ifrHeight = ifrBody.scrollHeight;\\nvar movePosition = boxPositionTop + (boxHeight - ifrHeight) / 2;\\n$(\\'#colorbox\\').css(\\'top\\', movePosition +\\'px\\');\\n$(\\'#cboxLoadedContent\\').add(\\'#cboxContent\\').add(\\'#cboxMiddleLeft\\').add(\\'#cboxWrapper\\').add(\\'#colorbox\\').css(\\'height\\', ifrHeight+\\'px\\');\\nsetTimeout(function () {\\n$(\\'#cboxWrapper\\').addClass(\\'SetModal\\');\\n}, 100);\\n});\\n}\\n};\\n$(window).on(\\'message\\', function(event){\\nif (event.originalEvent.origin !== \\'https://regist.sp.netkeiba.com\\' ) return;\\nif (event.originalEvent.data === \\'register_done\\' ) {\\n$.colorbox.close();\\nlocation.reload();\\n}\\n});\\n</script>\\n</div><!-- //id=\"contents_liquid\" -->\\n<div id=\"contents\" class=\"fc\">\\n<div class=\"result_info box_left\">\\n\\n<diary_snap>\\n<dl class=\"pay_block\">\\n<dt><h3>Ê§¤¤Ìá¤·</h3></dt>\\n<dd class=\"fc\">\\n<table cellpadding=\"0\" cellspacing=\"1\" class=\"pay_table_01\" summary=\"Ê§¤¤Ìá¤·\">\\n<tr>\\n<th class=\"tan\">Ã±¾¡</th>\\n<td>1</td>\\n<td class=\"txt_r\">270</td>\\n<td class=\"txt_r\">1</td>\\n</tr>\\n<tr>\\n<th class=\"fuku\" align=\"center\">Ê£¾¡</th>\\n<td>1<br />7<br />16</td>\\n<td class=\"txt_r\">140<br />170<br />690</td>\\n<td class=\"txt_r\">1<br />3<br />9</td>\\n</tr>\\n<tr>\\n<th class=\"waku\" align=\"center\">ÏÈÏ¢</th>\\n<td>1 - 4</td>\\n<td class=\"txt_r\">640</td>\\n<td class=\"txt_r\">2</td>\\n</tr>\\n<tr>\\n<th class=\"uren\" align=\"center\">ÇÏÏ¢</th>\\n<td>1 - 7</td>\\n<td class=\"txt_r\">660</td>\\n<td class=\"txt_r\">2</td>\\n</tr>\\n</table>\\n<table cellpadding=\"0\" cellspacing=\"1\" class=\"pay_table_01\" summary=\"Ê§¤¤Ìá¤·\">\\n<tr>\\n<th class=\"wide\">¥ï¥¤¥É</th>\\n<td>1 - 7<br />1 - 16<br />7 - 16</td>\\n<td class=\"txt_r\">330<br />2,250<br />2,610</td>\\n<td class=\"txt_r\">2<br />20<br />24</td>\\n</tr>\\n\\n<tr>\\n<th class=\"utan\">ÇÏÃ±</th>\\n<td>1 ¢ª 7</td>\\n<td class=\"txt_r\">1,120</td>\\n<td class=\"txt_r\">3</td>\\n</tr>\\n<tr>\\n<th class=\"sanfuku\">»°Ï¢Ê£</th>\\n<td>1 - 7 - 16</td>\\n<td class=\"txt_r\">9,150</td>\\n<td class=\"txt_r\">25</td>\\n</tr>\\n<tr>\\n<th class=\"santan\">»°Ï¢Ã±</th>\\n<td>1 ¢ª 7 ¢ª 16</td>\\n<td class=\"txt_r\">26,310</td>\\n<td class=\"txt_r\">72</td>\\n</tr>\\n</table>\\n</dd>\\n</dl>\\n</diary_snap>\\n<table width=\"100%\" cellpadding=\"0\" cellspacing=\"0\" class=\"result_table_02\" summary=\"ÇÏ¾ì¾ðÊó\">\\n<caption>ÇÏ¾ì¾ðÊó</caption>\\n<tr>\\n\\n\\n<th>ÇÏ¾ì»Ø¿ô<img src=\"https://cdn.netkeiba.com/img.db//style/netkeiba.ja/image/ico_premium.gif\" width=\"16\" height=\"16\" /></th>\\n<td>¥×¥ì¥ß¥¢¥µ¡¼¥Ó¥¹¤Ë¤´²ÃÆþ¤·¤ÆÄº¤¯¤È<a href=\"/?pid=info&mode=premium\" id=\"a_monthly_goods_link_22\" data-theme=\"07002\">ÇÏ¾ì»Ø¿ô</a>¤¬³ÎÇ§¤Ç¤\\xad¤Þ¤¹¡£<br /><a href=\"https://regist.netkeiba.com/?pid=premium\" id=\"a_monthly_goods_link_23\" data-theme=\"07002\">¥×¥ì¥ß¥¢¥µ¡¼¥Ó¥¹°ÆÆâ¤Ø</a></td>\\n</tr>\\n<tr>\\n\\n\\n<th>ÇÏ¾ì¥³¥á¥ó¥È<img src=\"https://cdn.netkeiba.com/img.db//style/netkeiba.ja/image/ico_premium.gif\" width=\"16\" height=\"16\" />&nbsp;(<a href=\"/?pid=info&mode=premium\" id=\"a_monthly_goods_link_52\" data-theme=\"07005\">?</a>)</th>\\n<td>¥×¥ì¥ß¥¢¥µ¡¼¥Ó¥¹¤Ë¤´²ÃÆþ¤·¤ÆÄº¤¯¤È<a href=\"/?pid=info&mode=premium\" id=\"a_monthly_goods_link_53\" data-theme=\"07005\">ÇÏ¾ì¥³¥á¥ó¥È</a>¤¬³ÎÇ§¤Ç¤\\xad¤Þ¤¹¡£<br /><a href=\"https://regist.netkeiba.com/?pid=premium\" id=\"a_monthly_goods_link_54\" data-theme=\"07005\">¥×¥ì¥ß¥¢¥µ¡¼¥Ó¥¹°ÆÆâ¤Ø</a></td>\\n</tr>\\n</table>\\n\\n<table width=\"100%\" cellpadding=\"0\" cellspacing=\"0\" class=\"result_table_02\" summary=\"¥³¡¼¥Ê¡¼ÄÌ²á½ç°Ì\">\\n<caption>¥³¡¼¥Ê¡¼ÄÌ²á½ç°Ì</caption>\\n<tr>\\n<th>1¥³¡¼¥Ê¡¼</th>\\n<td>14-8,18(6,7)15(4,17)5,3,16(1,12)(2,10,13)(9,11)</td>\\n</tr><tr>\\n<th>2¥³¡¼¥Ê¡¼</th>\\n<td>14-8,18,6-(7,15)(4,17)5,3,16(1,12)-(2,13)(10,11)9</td>\\n</tr><tr>\\n<th>3¥³¡¼¥Ê¡¼</th>\\n<td>14,8,18(6,15)(7,5)(17,12)(4,16)(3,1,13)(10,2,11)-9</td>\\n</tr><tr>\\n<th>4¥³¡¼¥Ê¡¼</th>\\n<td>(*14,8)18(6,7,5)(15,1)(17,16,12)3(4,2,11,13)9,10</td>\\n</tr>\\n</table>\\n<table width=\"100%\" cellpadding=\"0\" cellspacing=\"0\" class=\"result_table_02\" summary=\"¥é¥Ã¥×¥¿¥¤¥à\">\\n<caption>¥é¥Ã¥×¥¿¥¤¥à</caption>\\n<tr>\\n<th>¥é¥Ã¥×</th>\\n<td class=\"race_lap_cell\">12.2 - 11.3 - 12.1 - 11.8 - 12.4 - 12.9 - 12.2 - 11.9 - 11.8 - 12.1</td>\\n</tr>\\n<tr>\\n<th>¥Ú¡¼¥¹</th>\\n<td class=\"race_lap_cell\">12.2 - 23.5 - 35.6 - 47.4 - 59.8 - 72.7 - 84.9 - 96.8 - 108.6 - 120.7&nbsp;(35.6-35.8)</td>\\n</tr>\\n</table>\\n</div><!-- /.result_left -->\\n<div class=\"result_info box_right\">\\n\\n\\n<table width=\"100%\" cellpadding=\"0\" cellspacing=\"0\" class=\"result_table_02\" summary=\"¥ì¡¼¥¹Ê¬ÀÏ\">\\n<caption>¥ì¡¼¥¹Ê¬ÀÏ</caption>\\n<tr>\\n<th>Ê¬ÀÏ¥³¥á¥ó¥È<img src=\"https://cdn.netkeiba.com/img.db//style/netkeiba.ja/image/ico_premium.gif\" width=\"16\" height=\"16\" />&nbsp;(<a href=\"/?pid=info&mode=premium\" id=\"a_monthly_goods_link_62\" data-theme=\"07006\">?</a>)</th>\\n<td>¥×¥ì¥ß¥¢¥µ¡¼¥Ó¥¹¤Ë¤´²ÃÆþ¤·¤ÆÄº¤¯¤È<a href=\"/?pid=info&mode=premium\" id=\"a_monthly_goods_link_63\" data-theme=\"07006\">¥ì¡¼¥¹Ê¬ÀÏ</a>¤¬³ÎÇ§¤Ç¤\\xad¤Þ¤¹¡£<br /><a href=\"https://regist.netkeiba.com/?pid=premium\" id=\"a_monthly_goods_link_64\" data-theme=\"07006\">¥×¥ì¥ß¥¢¥µ¡¼¥Ó¥¹°ÆÆâ¤Ø</a></td>\\n</tr>\\n</table>\\n\\n\\n<table width=\"100%\" cellpadding=\"0\" cellspacing=\"0\" class=\"result_table_02\" summary=\"ÃíÌÜÇÏ ¥ì¡¼¥¹¸å¤ÎÃ»É¾\">\\n<caption>ÃíÌÜÇÏ ¥ì¡¼¥¹¸å¤ÎÃ»É¾<img src=\"https://cdn.netkeiba.com/img.db//style/netkeiba.ja/image/ico_premium.gif\" width=\"16\" height=\"16\" />&nbsp;(<a href=\"/?pid=info&mode=premium\" id=\"a_monthly_goods_link_92\" data-theme=\"07009\">?</a>)</caption>\\n<tr>\\n<th>Ãå½ç:ÇÏÌ¾</th>\\n</tr>\\n<tr>\\n<td>¥×¥ì¥ß¥¢¥µ¡¼¥Ó¥¹¤Ë¤´²ÃÆþ¤·¤ÆÄº¤¯¤È<a href=\"/?pid=info&mode=premium\" id=\"a_monthly_goods_link_93\" data-theme=\"07009\">¥ì¡¼¥¹¸å¤ÎÃ»É¾</a>¤¬³ÎÇ§¤Ç¤\\xad¤Þ¤¹¡£<br /><a href=\"https://regist.netkeiba.com/?pid=premium\" id=\"a_monthly_goods_link_94\" data-theme=\"07009\">¥×¥ì¥ß¥¢¥µ¡¼¥Ó¥¹°ÆÆâ¤Ø</a></td>\\n</tr>\\n</table>\\n</div><!-- /.result_right -->\\n<div class=\"main_ad\">\\n\\n<script language=\"JavaScript\" type=\"text/javascript\">noCacheParam=Math.random()*10000000000;document.write(\\'<scr\\'+\\'ipt type=\"text/javascript\" src=\"https://netdreamersad.durasite.net/A-affiliate2/mobile?site=23&keyword=adnet_nk_db_pic&isJS=true&encoding=EUC-JP&ord=\\' + noCacheParam + \\'\"></scr\\'+\\'ipt>\\');</script>\\n</div><!-- /.main_ad -->\\n</div><!-- /#contents -->\\n</div><!-- /.race_result -->\\n\\n<footer>\\n<div class=\"NkFooterArea\">\\n<div class=\"BtnPagetop\">\\n<a href=\"javascript:void(0)\" title=\"¥Ú¡¼¥¸¥È¥Ã¥×¤Ø\"></a>\\n</div><!-- /.BtnPagetop -->\\n<script type=\"text/javascript\">\\n$(function() {\\n$(\\'.BtnPagetop a\\').click(function () {\\n$(\\'body,html\\').animate({\\nscrollTop: 0\\n}, 400);\\nreturn false;\\n});\\n});\\n</script>\\n<dl class=\"FootSiteTitle fc\">\\n<dt>\\n<a href=\"https://www.netkeiba.com/?rf=footer\" title=\"netkeiba.com\">\\n<img src=\"https://cdn.netkeiba.com/img.www/style/netkeiba.ja/image/common/netkeiba_logo01.png\" alt=\"netkeiba.com\" />\\n</a>\\n</dt>\\n<dd>\\n<p>ÍøÍÑ¼Ô¿ô<strong>1000</strong>Ëü¿ÍÆÍÇË¡ª<strong>No.1</strong>¶¥ÇÏ¥µ¥¤¥È</p>\\n</dd>\\n</dl>\\n<div class=\"FootWrap\">\\n<dl class=\"NkFoot01 NkFootCateLink\">\\n<dt>¥«¥Æ¥´¥ê</dt>\\n<dd class=\"fc\">\\n<ul>\\n<li>\\n<a href=\"https://news.netkeiba.com/?rf=footer\" title=\"¥Ë¥å¡¼¥¹\">¥Ë¥å¡¼¥¹</a>\\n</li>\\n<li>\\n<a href=\"https://race.netkeiba.com/top/?rf=footer\" title=\"¥ì¡¼¥¹\">¥ì¡¼¥¹</a>\\n</li>\\n<li>\\n<a href=\"https://yoso.netkeiba.com/?rf=footer\" title=\"¥¦¥Þ¤¤ÇÏ·ô\">¥¦¥Þ¤¤ÇÏ·ô</a>\\n</li>\\n<li>\\n<a href=\"https://news.netkeiba.com/?pid=column_top&rf=footer\" title=\"¥³¥é¥à\">¥³¥é¥à</a>\\n</li>\\n<li>\\n<a href=\"https://tv.netkeiba.com/?rf=footer\" title=\"netkeibaTV\">netkeibaTV</a>\\n</li>\\n<li>\\n<a href=\"https://oldnar.netkeiba.com/?rf=footer\" title=\"ÃÏÊý¶¥ÇÏ\">ÃÏÊý¶¥ÇÏ</a>\\n</li>\\n<li>\\n<a href=\"https://db.netkeiba.com/?rf=footer\" title=\"¥Ç¡¼¥¿¥Ù¡¼¥¹\">¥Ç¡¼¥¿¥Ù¡¼¥¹</a>\\n</li>\\n<li>\\n<a href=\"https://books.netkeiba.com/?rf=footer\" title=\"¥Ö¥Ã¥¯¥¹\">¥Ö¥Ã¥¯¥¹</a>\\n</li>\\n</ul>\\n<ul>\\n<li>\\n<a href=\"https://orepro.netkeiba.com/?rf=footer\" title=\"²¶¥×¥í\">²¶¥×¥í</a>\\n</li>\\n<li>\\n<a href=\"https://owner.netkeiba.com/?rf=footer\" title=\"°ì¸ýÇÏ¼ç\">°ì¸ýÇÏ¼ç</a>\\n</li>\\n<li>\\n<a href=\"https://pog.netkeiba.com/?rf=footer\" title=\"POG\">POG</a>\\n</li>\\n<li>\\n<a href=\"https://bbs.pc.keiba.findfriends.jp/?rf=footer\" title=\"¶¥ÇÏ¹\\xad¾ì\">¶¥ÇÏ¹\\xad¾ì</a>\\n</li>\\n<li>\\n<a href=\"https://dir.netkeiba.com/keibamatome/index.html?rf=footer\" title=\"¤Þ¤È¤á\">¤Þ¤È¤á</a>\\n</li>\\n<li>\\n<a href=\"https://www.netkeiba.com/paper/?rf=footer\" title=\"¶¥ÇÏ¿·Ê¹\">¶¥ÇÏ¿·Ê¹</a>\\n</li>\\n<li>\\n<a href=\"https://race.netkeiba.com/bookmark/bookmark.html?rf=footer\" title=\"¤ªµ¤¤ËÆþ¤êÇÏ\">¤ªµ¤¤ËÆþ¤êÇÏ</a>\\n</li>\\n<li>\\n<a href=\"https://regist.netkeiba.com/?rf=footer\" title=\"¥¢¥«¥¦¥ó¥È\">¥¢¥«¥¦¥ó¥È</a>\\n</li>\\n</ul>\\n</dd>\\n</dl>\\n<dl class=\"NkFoot01\">\\n<dt>¥Ø¥ë¥×¡õ¥¬¥¤¥É</dt>\\n<dd>\\n<ul>\\n<li>\\n<a href=\"https://info.netkeiba.com/?rf=footer\" title=\"¤ªÃÎ¤é¤»\">¤ªÃÎ¤é¤»</a>\\n</li>\\n<li>\\n<a href=\"https://regist.netkeiba.com/?pid=premium&rf=footer\" title=\"¥×¥ì¥ß¥¢¥à¥µ¡¼¥Ó¥¹¤Î¤´°ÆÆâ\">¥×¥ì¥ß¥¢¥à¥µ¡¼¥Ó¥¹¤Î¤´°ÆÆâ</a>\\n</li>\\n<li>\\n<a href=\"https://regist.netkeiba.com/?pid=help&rf=footer\" title=\"¤è¤¯¤¢¤ë¼ÁÌä¡¦¤ªÌä¤¤¹ç¤ï¤»\">¤è¤¯¤¢¤ë¼ÁÌä¡¦¤ªÌä¤¤¹ç¤ï¤»</a>\\n</li>\\n</ul>\\n</dd>\\n</dl>\\n<dl class=\"NkFoot01\">\\n<dt>netkeiba.com¤Ë¤Ä¤¤¤Æ</dt>\\n<dd>\\n<ul>\\n<li>\\n<a href=\"https://www.netkeiba.com/recruit/?rf=footer\" title=\"ºÎÍÑ¾ðÊó\">ºÎÍÑ¾ðÊó</a>\\n</li>\\n<li>\\n<a href=\"https://www.netkeiba.com/info/ad/?rf=footer\" title=\"¹\\xad¹ð·ÇºÜ¤Ë¤Ä¤¤¤Æ\">¹\\xad¹ð·ÇºÜ¤Ë¤Ä¤¤¤Æ</a>\\n</li>\\n<li>\\n<a href=\"https://www.netkeiba.com/info/kiyaku.html?rf=footer\" title=\"ÍøÍÑµ¬Ìó\">ÍøÍÑµ¬Ìó</a>\\n</li>\\n<li>\\n<a href=\"https://www.netdreamers.co.jp/company/about/privacy.html?rf=footer\" title=\"¥×¥é¥¤¥Ð¥·¡¼¥Ý¥ê¥·¡¼\">¥×¥é¥¤¥Ð¥·¡¼¥Ý¥ê¥·¡¼</a>\\n</li>\\n<li>\\n<a href=\"https://www.netkeiba.com/info/guide.html?rf=footer\" title=\"Åê¹Æ¥¬¥¤¥É¥é¥¤¥ó\">Åê¹Æ¥¬¥¤¥É¥é¥¤¥ó</a>\\n</li>\\n<li>\\n<a href=\"https://www.netkeiba.com/info/tokusyo.html?rf=footer\" title=\"ÆÃÄê¾¦¼è°úË¡¤Ë´ð¤Å¤¯É½µ\\xad\">ÆÃÄê¾¦¼è°úË¡¤Ë´ð¤Å¤¯É½µ\\xad</a>\\n</li>\\n<li>\\n<a href=\"https://www.netdreamers.co.jp/?rf=footer\" title=\"±¿±Ä²ñ¼Ò\">±¿±Ä²ñ¼Ò</a>\\n</li>\\n</ul>\\n</dd>\\n</dl>\\n<dl class=\"NkFoot01\">\\n<dt>¥¹¥Þ¥Û¤Çnetkeiba</dt>\\n<dd class=\"SpNkInfoImg\">\\n<img src=\"https://cdn.netkeiba.com/img.www/style/netkeiba.ja/image/common/img_nk_searchimg01.png\" alt=\"¸¡º÷\" class=\"SearchImg01\" />\\n<img src=\"https://cdn.netkeiba.com/img.www/style/netkeiba.ja/image/common/img_nk_qr01.png\" alt=\"¥Ð¡¼¥³¡¼¥É\" class=\"QrImg01\" />\\n</dd>\\n<dt>¥¢¥×¥ê¤Ç¥µ¥¯¥µ¥¯netkeiba</dt>\\n<dd>\\n<ul class=\"AprStoreList fc\">\\n<li>\\n<a href=\"https://itunes.apple.com/jp/app/id464562684/\" title=\"Appstore\"><img src=\"https://cdn.netkeiba.com/img.www/style/netkeiba.ja/image/common/bnr_appstore_01.png\" alt=\"Appstore\" class=\"\" /></a>\\n</li>\\n<li>\\n<a href=\"https://play.google.com/store/apps/details?id=jp.co.netdreamers.netkeiba\" title=\"googleplay\"><img src=\"https://cdn.netkeiba.com/img.www/style/netkeiba.ja/image/common/bnr_googleplay_01.png\" alt=\"googleplay\" class=\"\" /></a>\\n</li>\\n</ul>\\n</dd>\\n<dd class=\"Nk_Sns\">\\n<ul class=\"fc\">\\n<li>\\n<a href=\"https://twitter.com/netkeiba\" title=\"¸ø¼° Twitter\" class=\"Tw\"></a>\\n</li>\\n<li>\\n<a href=\"https://ja-jp.facebook.com/netkeiba\" title=\"¸ø¼° Facebook\" class=\"Fb\"></a>\\n</li>\\n<li>\\n<a href=\"https://line.me/R/ti/p/%40oa-netkeiba\" title=\"LINE\" class=\"Line\"></a>\\n</li>\\n<li>\\n<a href=\"http://www.youtube.com/user/netkeibaTV\" title=\"netkeiba¥Á¥ã¥ó¥Í¥ë\" class=\"Yt\"></a>\\n</li>\\n<li>\\n<a href=\"https://www.instagram.com/netkeiba/\" title=\"Instagram\" class=\"Ig\"></a>\\n</li>\\n<li>\\n<a href=\"https://www.netkeiba.com/?pid=rss\" title=\"RSS\" class=\"Rss\"></a>\\n</li>\\n</ul>\\n</dd>\\n</dl>\\n</div><!-- /.FootWrap -->\\n</div><!-- /.NkFooterArea -->\\n<div class=\"GlobalFooterArea\">\\n<div class=\"FootWrap\">\\n<dl class=\"NkFoot02\">\\n<dt class=\"GfootIcon01 IconGame01\">netkeiba.com ¸ø¼°¶¥ÇÏ¥²¡¼¥à</dt>\\n<dd>\\n<ul>\\n<li>\\n<a href=\"https://chiki.netkeiba.com/?rf=footer\" target=\\'_blank\\' title=\"¥Á¥\\xad¥Á¥\\xad¥À¡¼¥Ó¡¼\">ÌÜ»Ø¤»ºÇ¶¯¥ª¡¼¥Ê¡¼¡ª <strong>¥Á¥\\xad¥Á¥\\xad¥À¡¼¥Ó¡¼</strong></a>\\n</li>\\n<li>\\n<a href=\"https://derby.pzga.jp/?rf=footer\" target=\\'_blank\\' title=\"¥Ñ¥º¥ë¥À¡¼¥Ó¡¼\">ÁÖ²÷¡ª¶¥ÇÏ¥Ñ¥º¥ë¥²¡¼¥à <strong>¥Ñ¥º¥ë¥À¡¼¥Ó¡¼</strong></a>\\n</li>\\n<li>\\n<a href=\"https://www.netkeiba.com/game/umasta.html?rf=footer\" target=\\'_blank\\' title=\"¤¦¤Þ¤¤¤ë¥¹¥¿¥¸¥¢¥à\">¤ß¤ó¤Ê¤Î°¦ÇÏ¤È¥Ð¥È¥ë¡ª <strong>¤¦¤Þ¤¤¤ë¥¹¥¿¥¸¥¢¥à</strong></a>\\n</li>\\n</ul>\\n</dd>\\n</dl>\\n<dl class=\"NkFoot02\">\\n<dt class=\"GfootIcon01 IconMedia01\">´ØÏ¢¥á¥Ç¥£¥¢</dt>\\n<dd>\\n<ul>\\n<li>\\n<a href=\"https://sp.baseball.findfriends.jp/?rf=footer\" target=\\'_blank\\' title=\"½µ´©¥Ù¡¼¥¹¥Ü¡¼¥ëONLINE\">Å°Äì¼èºà¡ªÌîµå¾ðÊó¤Ï <strong>½µ´©¥Ù¡¼¥¹¥Ü¡¼¥ëONLINE</strong></a>\\n</li>\\n<li>\\n<a href=\"https://sp.golf.findfriends.jp/?rf=footer\" target=\\'_blank\\' title=\"¥ï¥Ã¥°¥ë¥ª¥ó¥é¥¤¥ó\">¥´¥ë¥Õ¥ì¥Ã¥¹¥ó¾ðÊó¥µ¥¤¥È <strong>¥ï¥Ã¥°¥ë¥ª¥ó¥é¥¤¥ó</strong></a>\\n</li>\\n<li>\\n<a href=\"https://recipe.sp.findfriends.jp/?rf=footer\" target=\\'_blank\\' title=\"KATSUYO¥ì¥·¥Ô\">¾®ÎÓ¥«¥ÄÂåÄ¾ÅÁ¡ª <strong>KATSUYO¥ì¥·¥Ô</strong></a>\\n</li>\\n<li>\\n<a href=\"https://sp.findfriends.jp/?rf=footer\" target=\\'_blank\\' title=\"Find\">¼ñÌ£¤Ç¤Ä¤Ê¤¬¤ëÁí¹ç·Ç¼¨ÈÄ¥³¥ß¥å¥Ë¥Æ¥£ <strong>Find</strong></a>\\n</li>\\n</ul>\\n</dd>\\n</dl>\\n<dl class=\"NkFoot02\">\\n<dt class=\"GfootIcon01 IconSoftware01\">¥½¥Õ¥È¥¦¥§¥¢¡¦¥×¥í¥À¥¯¥È</dt>\\n<dd>\\n<ul>\\n<li>\\n<a href=\"https://smart.lets-ktai.jp/?rf=footer\" target=\\'_blank\\' title=\"SMART²ñ°÷¾Ú\">¤â¤Ã¤È¤â¥»¥\\xad¥å¥¢¤ÊÅ¹ÊÞÇä¾å¸þ¾å¥¢¥×¥ê <strong>SMART²ñ°÷¾Ú</strong></a>\\n</li>\\n<li>\\n<a href=\"https://lets-ktai.jp/?rf=footer\" target=\\'_blank\\' title=\"Let\\'s¥±¡¼¥¿¥¤¡ª\">¥¹¥Þ¥Û¥µ¥¤¥ÈÀ©ºîASP <strong>Let\\'s¥±¡¼¥¿¥¤¡ª</strong></a>\\n</li>\\n<li>\\n<a href=\"https://webspiral.jp/?rf=footer\" target=\\'_blank\\' title=\"WEB SPIRAL\">¥µ¥¤¥È±¿±Ä¤ò·àÅª¤Ë¸úÎ¨²½¤¹¤ëCMS <strong>WEB SPIRAL</strong></a>\\n</li>\\n</ul>\\n</dd>\\n</dl>\\n</div><!-- /.FootWrap -->\\n<p class=\"CopyRight\">\\n<small>&copy; Net Dreamers Co., Ltd.</small>\\n</p>\\n</div><!-- /.GlobalFooterArea -->\\n</footer>\\n<!-- Google Tag Manager -->\\n<noscript><iframe src=\"//www.googletagmanager.com/ns.html?id=GTM-K6PJT6\"\\nheight=\"0\" width=\"0\" style=\"display:none;visibility:hidden\"></iframe></noscript>\\n<script>(function(w,d,s,l,i){w[l]=w[l]||[];w[l].push({\\'gtm.start\\':\\nnew Date().getTime(),event:\\'gtm.js\\'});var f=d.getElementsByTagName(s)[0],\\nj=d.createElement(s),dl=l!=\\'dataLayer\\'?\\'&l=\\'+l:\\'\\';j.async=true;j.src=\\n\\'//www.googletagmanager.com/gtm.js?id=\\'+i+dl;f.parentNode.insertBefore(j,f);\\n})(window,document,\\'script\\',\\'dataLayer\\',\\'GTM-K6PJT6\\');</script>\\n<!-- End Google Tag Manager -->\\n<!--\\n<script src=\"https://genieedmp.com/dmp.js?c=3335\"></script>\\n-->\\n</div><!-- / #page -->\\n\\n<script language=\"JavaScript\" type=\"text/javascript\">noCacheParam=Math.random()*10000000000;document.write(\\'<scr\\'+\\'ipt type=\"text/javascript\" src=\"https://netdreamersad.durasite.net/A-affiliate2/mobile?site=23&keyword=pc_nk_overlay&isJS=true&encoding=EUC-JP&ord=\\' + noCacheParam + \\'\"></scr\\'+\\'ipt>\\');</script>\\n</body>\\n</html>'"
     },
     "metadata": {},
     "execution_count": 285
    }
   ],
   "source": [
    "response.text#text属性でstr型にデコードしたレスポンスボディを取得できる。\n",
    "#表示結果は文字化けしている"
   ]
  },
  {
   "cell_type": "code",
   "execution_count": 286,
   "metadata": {},
   "outputs": [],
   "source": [
    "response.encoding = response.apparent_encoding #エンコードを変更"
   ]
  },
  {
   "cell_type": "code",
   "execution_count": 287,
   "metadata": {
    "tags": [
     "outputPrepend"
    ]
   },
   "outputs": [
    {
     "output_type": "execute_result",
     "data": {
      "text/plain": "11\"><img src=\"/style/netkeiba.ja/image/ico_oikiri.gif\" width=\"13\" height=\"13\" border=\"0\" /></a>\\n</td>\\n<td class=\"txt_c\" nowrap=\"nowrap\">\\n<a href=\"/?pid=horse_comment&id=2017101299&rid=202006030811\"><img src=\"/style/netkeiba.ja/image/ico_comment.gif\" width=\"13\" height=\"13\" border=\"0\" /></a>\\n</td>\\n<td nowrap=\"nowrap\">\\n<div class=\"txt_c\">\\n<a href=\"https://www.netkeiba.com/premium/?service=p13\" id=\"a_monthly_goods_link_02\" data-theme=\"07004\"><img src=\"/style/netkeiba.ja/image/ico_remarks.gif\" width=\"13\" height=\"13\" border=\"0\" /></a>\\n</div>\\n\\n</td>\\n</diary_snap_cut>\\n<td class=\"txt_l\" nowrap=\"nowrap\">\\n[東]\\n<a href=\"/trainer/01134/\" title=\"高橋文雅\">高橋文雅</a>\\n\\n</td>\\n<diary_snap_cut>\\n<td class=\"txt_l w6ml\" nowrap=\"nowrap\">\\n<a href=\"/owner/548009/\" title=\"岡田勇\">岡田勇</a>\\n\\n</td>\\n<td class=\"txt_r\" nowrap=\"nowrap\"></td>\\n</diary_snap_cut>\\n</tr><tr>\\n<td class=\"txt_r\" nowrap=\"nowrap\">17</td>\\n<td class=\"w7ml\" align=\"right\" nowrap=\"nowrap\"><span>7</span></td>\\n<td class=\"txt_r\" nowrap=\"nowrap\">14</td>\\n<td class=\"txt_l\" nowrap=\"nowrap\">\\n<a href=\"/horse/2017101833/\" title=\"キメラヴェリテ\" id=\"umalink_202006030811\">キメラヴェリテ</a>\\n\\n</td>\\n<td class=\"txt_c\" nowrap=\"nowrap\">牡3</td>\\n<td class=\"txt_c\" nowrap=\"nowrap\">57</td>\\n<td class=\"txt_l\" nowrap=\"nowrap\">\\n<a href=\"/jockey/01116/\" title=\"藤岡康太\">藤岡康太</a>\\n\\n</td>\\n<td class=\"txt_r\" nowrap=\"nowrap\">2:02.6</td>\\n<td class=\"txt_c\" nowrap=\"nowrap\">クビ</td>\\n\\n<diary_snap_cut>\\n<td class=\"speed_index bml\" nowrap=\"nowrap\">\\n<div class=\"txt_c\">\\n<a href=\"https://www.netkeiba.com/premium/?service=p13\" id=\"a_monthly_goods_link_01\" data-theme=\"07003\">**</a>\\n</div>\\n\\n</td>\\n<td nowrap=\"nowrap\">1-1-1-1</td>\\n<td class=\"bml\" class=\"txt_c\" nowrap=\"nowrap\"><span>37.7</span></td>\\n</diary_snap_cut>\\n<td class=\"txt_r\" nowrap=\"nowrap\">63.5</td>\\n<td class=\"bml\" align=\"right\" nowrap=\"nowrap\"><span>10</span></td>\\n<td nowrap=\"nowrap\">538(0)</td>\\n<diary_snap_cut>\\n<td class=\"txt_c\" nowrap=\"nowrap\">\\n<a href=\"/?pid=horse_training&id=2017101833&rid=202006030811\"><img src=\"/style/netkeiba.ja/image/ico_oikiri.gif\" width=\"13\" height=\"13\" border=\"0\" /></a>\\n</td>\\n<td class=\"txt_c\" nowrap=\"nowrap\">\\n<a href=\"/?pid=horse_comment&id=2017101833&rid=202006030811\"><img src=\"/style/netkeiba.ja/image/ico_comment.gif\" width=\"13\" height=\"13\" border=\"0\" /></a>\\n</td>\\n<td nowrap=\"nowrap\">\\n<div class=\"txt_c\">\\n<a href=\"https://www.netkeiba.com/premium/?service=p13\" id=\"a_monthly_goods_link_02\" data-theme=\"07004\"><img src=\"/style/netkeiba.ja/image/ico_remarks.gif\" width=\"13\" height=\"13\" border=\"0\" /></a>\\n</div>\\n\\n</td>\\n</diary_snap_cut>\\n<td class=\"txt_l\" nowrap=\"nowrap\">\\n[西]\\n<a href=\"/trainer/01039/\" title=\"中竹和也\">中竹和也</a>\\n\\n</td>\\n<diary_snap_cut>\\n<td class=\"txt_l w7ml\" nowrap=\"nowrap\">\\n<a href=\"/owner/944030/\" title=\"加藤誠\">加藤誠</a>\\n\\n</td>\\n<td class=\"txt_r\" nowrap=\"nowrap\"></td>\\n</diary_snap_cut>\\n</tr><tr>\\n<td class=\"txt_r\" nowrap=\"nowrap\">18</td>\\n<td class=\"w2ml\" align=\"right\" nowrap=\"nowrap\"><span>2</span></td>\\n<td class=\"txt_r\" nowrap=\"nowrap\">4</td>\\n<td class=\"txt_l\" nowrap=\"nowrap\">\\n<a href=\"/horse/2017101755/\" title=\"テンピン\" id=\"umalink_202006030811\">テンピン</a>\\n\\n</td>\\n<td class=\"txt_c\" nowrap=\"nowrap\">牡3</td>\\n<td class=\"txt_c\" nowrap=\"nowrap\">57</td>\\n<td class=\"txt_l\" nowrap=\"nowrap\">\\n<a href=\"/jockey/01141/\" title=\"中井裕二\">中井裕二</a>\\n\\n</td>\\n<td class=\"txt_r\" nowrap=\"nowrap\">2:03.3</td>\\n<td class=\"txt_c\" nowrap=\"nowrap\">4</td>\\n\\n<diary_snap_cut>\\n<td class=\"speed_index bml\" nowrap=\"nowrap\">\\n<div class=\"txt_c\">\\n<a href=\"https://www.netkeiba.com/premium/?service=p13\" id=\"a_monthly_goods_link_01\" data-theme=\"07003\">**</a>\\n</div>\\n\\n</td>\\n<td nowrap=\"nowrap\">7-7-10-13</td>\\n<td class=\"bml\" class=\"txt_c\" nowrap=\"nowrap\"><span>37.6</span></td>\\n</diary_snap_cut>\\n<td class=\"txt_r\" nowrap=\"nowrap\">237.4</td>\\n<td class=\"bml\" align=\"right\" nowrap=\"nowrap\"><span>15</span></td>\\n<td nowrap=\"nowrap\">500(-2)</td>\\n<diary_snap_cut>\\n<td class=\"txt_c\" nowrap=\"nowrap\">\\n<a href=\"/?pid=horse_training&id=2017101755&rid=202006030811\"><img src=\"/style/netkeiba.ja/image/ico_oikiri.gif\" width=\"13\" height=\"13\" border=\"0\" /></a>\\n</td>\\n<td class=\"txt_c\" nowrap=\"nowrap\">\\n<a href=\"/?pid=horse_comment&id=2017101755&rid=202006030811\"><img src=\"/style/netkeiba.ja/image/ico_comment.gif\" width=\"13\" height=\"13\" border=\"0\" /></a>\\n</td>\\n<td nowrap=\"nowrap\">\\n\\n\\n</td>\\n</diary_snap_cut>\\n<td class=\"txt_l\" nowrap=\"nowrap\">\\n[西]\\n<a href=\"/trainer/00438/\" title=\"安田隆行\">安田隆行</a>\\n\\n</td>\\n<diary_snap_cut>\\n<td class=\"txt_l w2ml\" nowrap=\"nowrap\">\\n<a href=\"/owner/059700/\" title=\"ユアストーリー\">ユアストーリー</a>\\n\\n</td>\\n<td class=\"txt_r\" nowrap=\"nowrap\"></td>\\n</diary_snap_cut>\\n</tr>\\n</table>\\n\\n</diary_snap>\\n<script type=\"text/javascript\" src=\"/style/netkeiba.ja/js/umalink.js\"></script>\\n<div class=\"diary_snap_write_box\">\\n<p><a href=\"/?pid=diary_snapshot&snap=aHR0cDovL2RiLm5ldGtlaWJhLmNvbS8/cGlkPXJhY2VfZGV0YWlsJmlkPTIwMjAwNjAzMDgxMQ==&meta=race_result\" title=\"ひとこと日記を書く\"><img src=\"https://cdn.netkeiba.com/img.db//style/netkeiba.ja/image/prof_btn_diary_write_01.png\" class=\"imgover\" /></a></p>\\n<p>※このレースについて、日記を書くことができます。</p>\\n</div><!-- /.diary_snap_write_box -->\\n<script type=\"text/javascript\">\\n$(document).on( \\'click\\', \\'#action_regist\\', function(){\\nevent.preventDefault();\\nvar regist_url = \\'https://regist.sp.netkeiba.com/?pid=regist_form&action=nk_input\\';\\nvar callback_url = $(\\'#r_callback\\').val();\\naction_regist(\\'action_nk_regist\\', regist_url, callback_url);\\n});\\nfunction action_regist( modal_id, modal_url, callback_url ) {\\nconsole.log(\\'action_regist(%s,%s,%s)\\', modal_id, modal_url, callback_url);\\n$.colorbox({\\nhref: modal_url,\\niframe: true,\\nopacity: \\'0.5\\',\\nopen: true,\\nscrolling: true,\\nheight: \\'60%\\',\\nmaxWidth: \\'90%\\',\\nwidth: $(window).width() - 60 + \\'px\\',\\nmaxWidth: \\'420px\\',\\noverlayClose: true,\\nescKey: false,\\ncloseButton: true,\\nonComplete : function(){\\n//setHeight();\\n},\\nonClosed : function(){\\n$(\\'#cboxWrapper\\').removeClass(\\'SetModal\\');\\n}\\n});\\nfunction setHeight() {\\nvar ifrObj = document.getElementById(\\'cboxLoadedContent\\').querySelectorAll(\\'iframe\\')[0];\\n$(ifrObj).on(\\'load\\', function() {\\nvar $cBox = $(\\'#colorbox\\');\\nvar boxPositionTop = $cBox.offset().top;\\nvar boxHeight = $cBox.height();\\nvar ifrBody = ifrObj.contentWindow.document.body;\\nvar ifrHeight = ifrBody.scrollHeight;\\nvar movePosition = boxPositionTop + (boxHeight - ifrHeight) / 2;\\n$(\\'#colorbox\\').css(\\'top\\', movePosition +\\'px\\');\\n$(\\'#cboxLoadedContent\\').add(\\'#cboxContent\\').add(\\'#cboxMiddleLeft\\').add(\\'#cboxWrapper\\').add(\\'#colorbox\\').css(\\'height\\', ifrHeight+\\'px\\');\\nsetTimeout(function () {\\n$(\\'#cboxWrapper\\').addClass(\\'SetModal\\');\\n}, 100);\\n});\\n}\\n};\\n$(window).on(\\'message\\', function(event){\\nif (event.originalEvent.origin !== \\'https://regist.sp.netkeiba.com\\' ) return;\\nif (event.originalEvent.data === \\'register_done\\' ) {\\n$.colorbox.close();\\nlocation.reload();\\n}\\n});\\n</script>\\n</div><!-- //id=\"contents_liquid\" -->\\n<div id=\"contents\" class=\"fc\">\\n<div class=\"result_info box_left\">\\n\\n<diary_snap>\\n<dl class=\"pay_block\">\\n<dt><h3>払い戻し</h3></dt>\\n<dd class=\"fc\">\\n<table cellpadding=\"0\" cellspacing=\"1\" class=\"pay_table_01\" summary=\"払い戻し\">\\n<tr>\\n<th class=\"tan\">単勝</th>\\n<td>1</td>\\n<td class=\"txt_r\">270</td>\\n<td class=\"txt_r\">1</td>\\n</tr>\\n<tr>\\n<th class=\"fuku\" align=\"center\">複勝</th>\\n<td>1<br />7<br />16</td>\\n<td class=\"txt_r\">140<br />170<br />690</td>\\n<td class=\"txt_r\">1<br />3<br />9</td>\\n</tr>\\n<tr>\\n<th class=\"waku\" align=\"center\">枠連</th>\\n<td>1 - 4</td>\\n<td class=\"txt_r\">640</td>\\n<td class=\"txt_r\">2</td>\\n</tr>\\n<tr>\\n<th class=\"uren\" align=\"center\">馬連</th>\\n<td>1 - 7</td>\\n<td class=\"txt_r\">660</td>\\n<td class=\"txt_r\">2</td>\\n</tr>\\n</table>\\n<table cellpadding=\"0\" cellspacing=\"1\" class=\"pay_table_01\" summary=\"払い戻し\">\\n<tr>\\n<th class=\"wide\">ワイド</th>\\n<td>1 - 7<br />1 - 16<br />7 - 16</td>\\n<td class=\"txt_r\">330<br />2,250<br />2,610</td>\\n<td class=\"txt_r\">2<br />20<br />24</td>\\n</tr>\\n\\n<tr>\\n<th class=\"utan\">馬単</th>\\n<td>1 → 7</td>\\n<td class=\"txt_r\">1,120</td>\\n<td class=\"txt_r\">3</td>\\n</tr>\\n<tr>\\n<th class=\"sanfuku\">三連複</th>\\n<td>1 - 7 - 16</td>\\n<td class=\"txt_r\">9,150</td>\\n<td class=\"txt_r\">25</td>\\n</tr>\\n<tr>\\n<th class=\"santan\">三連単</th>\\n<td>1 → 7 → 16</td>\\n<td class=\"txt_r\">26,310</td>\\n<td class=\"txt_r\">72</td>\\n</tr>\\n</table>\\n</dd>\\n</dl>\\n</diary_snap>\\n<table width=\"100%\" cellpadding=\"0\" cellspacing=\"0\" class=\"result_table_02\" summary=\"馬場情報\">\\n<caption>馬場情報</caption>\\n<tr>\\n\\n\\n<th>馬場指数<img src=\"https://cdn.netkeiba.com/img.db//style/netkeiba.ja/image/ico_premium.gif\" width=\"16\" height=\"16\" /></th>\\n<td>プレミアサービスにご加入して頂くと<a href=\"/?pid=info&mode=premium\" id=\"a_monthly_goods_link_22\" data-theme=\"07002\">馬場指数</a>が確認できます。<br /><a href=\"https://regist.netkeiba.com/?pid=premium\" id=\"a_monthly_goods_link_23\" data-theme=\"07002\">プレミアサービス案内へ</a></td>\\n</tr>\\n<tr>\\n\\n\\n<th>馬場コメント<img src=\"https://cdn.netkeiba.com/img.db//style/netkeiba.ja/image/ico_premium.gif\" width=\"16\" height=\"16\" />&nbsp;(<a href=\"/?pid=info&mode=premium\" id=\"a_monthly_goods_link_52\" data-theme=\"07005\">?</a>)</th>\\n<td>プレミアサービスにご加入して頂くと<a href=\"/?pid=info&mode=premium\" id=\"a_monthly_goods_link_53\" data-theme=\"07005\">馬場コメント</a>が確認できます。<br /><a href=\"https://regist.netkeiba.com/?pid=premium\" id=\"a_monthly_goods_link_54\" data-theme=\"07005\">プレミアサービス案内へ</a></td>\\n</tr>\\n</table>\\n\\n<table width=\"100%\" cellpadding=\"0\" cellspacing=\"0\" class=\"result_table_02\" summary=\"コーナー通過順位\">\\n<caption>コーナー通過順位</caption>\\n<tr>\\n<th>1コーナー</th>\\n<td>14-8,18(6,7)15(4,17)5,3,16(1,12)(2,10,13)(9,11)</td>\\n</tr><tr>\\n<th>2コーナー</th>\\n<td>14-8,18,6-(7,15)(4,17)5,3,16(1,12)-(2,13)(10,11)9</td>\\n</tr><tr>\\n<th>3コーナー</th>\\n<td>14,8,18(6,15)(7,5)(17,12)(4,16)(3,1,13)(10,2,11)-9</td>\\n</tr><tr>\\n<th>4コーナー</th>\\n<td>(*14,8)18(6,7,5)(15,1)(17,16,12)3(4,2,11,13)9,10</td>\\n</tr>\\n</table>\\n<table width=\"100%\" cellpadding=\"0\" cellspacing=\"0\" class=\"result_table_02\" summary=\"ラップタイム\">\\n<caption>ラップタイム</caption>\\n<tr>\\n<th>ラップ</th>\\n<td class=\"race_lap_cell\">12.2 - 11.3 - 12.1 - 11.8 - 12.4 - 12.9 - 12.2 - 11.9 - 11.8 - 12.1</td>\\n</tr>\\n<tr>\\n<th>ペース</th>\\n<td class=\"race_lap_cell\">12.2 - 23.5 - 35.6 - 47.4 - 59.8 - 72.7 - 84.9 - 96.8 - 108.6 - 120.7&nbsp;(35.6-35.8)</td>\\n</tr>\\n</table>\\n</div><!-- /.result_left -->\\n<div class=\"result_info box_right\">\\n\\n\\n<table width=\"100%\" cellpadding=\"0\" cellspacing=\"0\" class=\"result_table_02\" summary=\"レース分析\">\\n<caption>レース分析</caption>\\n<tr>\\n<th>分析コメント<img src=\"https://cdn.netkeiba.com/img.db//style/netkeiba.ja/image/ico_premium.gif\" width=\"16\" height=\"16\" />&nbsp;(<a href=\"/?pid=info&mode=premium\" id=\"a_monthly_goods_link_62\" data-theme=\"07006\">?</a>)</th>\\n<td>プレミアサービスにご加入して頂くと<a href=\"/?pid=info&mode=premium\" id=\"a_monthly_goods_link_63\" data-theme=\"07006\">レース分析</a>が確認できます。<br /><a href=\"https://regist.netkeiba.com/?pid=premium\" id=\"a_monthly_goods_link_64\" data-theme=\"07006\">プレミアサービス案内へ</a></td>\\n</tr>\\n</table>\\n\\n\\n<table width=\"100%\" cellpadding=\"0\" cellspacing=\"0\" class=\"result_table_02\" summary=\"注目馬 レース後の短評\">\\n<caption>注目馬 レース後の短評<img src=\"https://cdn.netkeiba.com/img.db//style/netkeiba.ja/image/ico_premium.gif\" width=\"16\" height=\"16\" />&nbsp;(<a href=\"/?pid=info&mode=premium\" id=\"a_monthly_goods_link_92\" data-theme=\"07009\">?</a>)</caption>\\n<tr>\\n<th>着順:馬名</th>\\n</tr>\\n<tr>\\n<td>プレミアサービスにご加入して頂くと<a href=\"/?pid=info&mode=premium\" id=\"a_monthly_goods_link_93\" data-theme=\"07009\">レース後の短評</a>が確認できます。<br /><a href=\"https://regist.netkeiba.com/?pid=premium\" id=\"a_monthly_goods_link_94\" data-theme=\"07009\">プレミアサービス案内へ</a></td>\\n</tr>\\n</table>\\n</div><!-- /.result_right -->\\n<div class=\"main_ad\">\\n\\n<script language=\"JavaScript\" type=\"text/javascript\">noCacheParam=Math.random()*10000000000;document.write(\\'<scr\\'+\\'ipt type=\"text/javascript\" src=\"https://netdreamersad.durasite.net/A-affiliate2/mobile?site=23&keyword=adnet_nk_db_pic&isJS=true&encoding=EUC-JP&ord=\\' + noCacheParam + \\'\"></scr\\'+\\'ipt>\\');</script>\\n</div><!-- /.main_ad -->\\n</div><!-- /#contents -->\\n</div><!-- /.race_result -->\\n\\n<footer>\\n<div class=\"NkFooterArea\">\\n<div class=\"BtnPagetop\">\\n<a href=\"javascript:void(0)\" title=\"ページトップへ\"></a>\\n</div><!-- /.BtnPagetop -->\\n<script type=\"text/javascript\">\\n$(function() {\\n$(\\'.BtnPagetop a\\').click(function () {\\n$(\\'body,html\\').animate({\\nscrollTop: 0\\n}, 400);\\nreturn false;\\n});\\n});\\n</script>\\n<dl class=\"FootSiteTitle fc\">\\n<dt>\\n<a href=\"https://www.netkeiba.com/?rf=footer\" title=\"netkeiba.com\">\\n<img src=\"https://cdn.netkeiba.com/img.www/style/netkeiba.ja/image/common/netkeiba_logo01.png\" alt=\"netkeiba.com\" />\\n</a>\\n</dt>\\n<dd>\\n<p>利用者数<strong>1000</strong>万人突破！<strong>No.1</strong>競馬サイト</p>\\n</dd>\\n</dl>\\n<div class=\"FootWrap\">\\n<dl class=\"NkFoot01 NkFootCateLink\">\\n<dt>カテゴリ</dt>\\n<dd class=\"fc\">\\n<ul>\\n<li>\\n<a href=\"https://news.netkeiba.com/?rf=footer\" title=\"ニュース\">ニュース</a>\\n</li>\\n<li>\\n<a href=\"https://race.netkeiba.com/top/?rf=footer\" title=\"レース\">レース</a>\\n</li>\\n<li>\\n<a href=\"https://yoso.netkeiba.com/?rf=footer\" title=\"ウマい馬券\">ウマい馬券</a>\\n</li>\\n<li>\\n<a href=\"https://news.netkeiba.com/?pid=column_top&rf=footer\" title=\"コラム\">コラム</a>\\n</li>\\n<li>\\n<a href=\"https://tv.netkeiba.com/?rf=footer\" title=\"netkeibaTV\">netkeibaTV</a>\\n</li>\\n<li>\\n<a href=\"https://oldnar.netkeiba.com/?rf=footer\" title=\"地方競馬\">地方競馬</a>\\n</li>\\n<li>\\n<a href=\"https://db.netkeiba.com/?rf=footer\" title=\"データベース\">データベース</a>\\n</li>\\n<li>\\n<a href=\"https://books.netkeiba.com/?rf=footer\" title=\"ブックス\">ブックス</a>\\n</li>\\n</ul>\\n<ul>\\n<li>\\n<a href=\"https://orepro.netkeiba.com/?rf=footer\" title=\"俺プロ\">俺プロ</a>\\n</li>\\n<li>\\n<a href=\"https://owner.netkeiba.com/?rf=footer\" title=\"一口馬主\">一口馬主</a>\\n</li>\\n<li>\\n<a href=\"https://pog.netkeiba.com/?rf=footer\" title=\"POG\">POG</a>\\n</li>\\n<li>\\n<a href=\"https://bbs.pc.keiba.findfriends.jp/?rf=footer\" title=\"競馬広場\">競馬広場</a>\\n</li>\\n<li>\\n<a href=\"https://dir.netkeiba.com/keibamatome/index.html?rf=footer\" title=\"まとめ\">まとめ</a>\\n</li>\\n<li>\\n<a href=\"https://www.netkeiba.com/paper/?rf=footer\" title=\"競馬新聞\">競馬新聞</a>\\n</li>\\n<li>\\n<a href=\"https://race.netkeiba.com/bookmark/bookmark.html?rf=footer\" title=\"お気に入り馬\">お気に入り馬</a>\\n</li>\\n<li>\\n<a href=\"https://regist.netkeiba.com/?rf=footer\" title=\"アカウント\">アカウント</a>\\n</li>\\n</ul>\\n</dd>\\n</dl>\\n<dl class=\"NkFoot01\">\\n<dt>ヘルプ＆ガイド</dt>\\n<dd>\\n<ul>\\n<li>\\n<a href=\"https://info.netkeiba.com/?rf=footer\" title=\"お知らせ\">お知らせ</a>\\n</li>\\n<li>\\n<a href=\"https://regist.netkeiba.com/?pid=premium&rf=footer\" title=\"プレミアムサービスのご案内\">プレミアムサービスのご案内</a>\\n</li>\\n<li>\\n<a href=\"https://regist.netkeiba.com/?pid=help&rf=footer\" title=\"よくある質問・お問い合わせ\">よくある質問・お問い合わせ</a>\\n</li>\\n</ul>\\n</dd>\\n</dl>\\n<dl class=\"NkFoot01\">\\n<dt>netkeiba.comについて</dt>\\n<dd>\\n<ul>\\n<li>\\n<a href=\"https://www.netkeiba.com/recruit/?rf=footer\" title=\"採用情報\">採用情報</a>\\n</li>\\n<li>\\n<a href=\"https://www.netkeiba.com/info/ad/?rf=footer\" title=\"広告掲載について\">広告掲載について</a>\\n</li>\\n<li>\\n<a href=\"https://www.netkeiba.com/info/kiyaku.html?rf=footer\" title=\"利用規約\">利用規約</a>\\n</li>\\n<li>\\n<a href=\"https://www.netdreamers.co.jp/company/about/privacy.html?rf=footer\" title=\"プライバシーポリシー\">プライバシーポリシー</a>\\n</li>\\n<li>\\n<a href=\"https://www.netkeiba.com/info/guide.html?rf=footer\" title=\"投稿ガイドライン\">投稿ガイドライン</a>\\n</li>\\n<li>\\n<a href=\"https://www.netkeiba.com/info/tokusyo.html?rf=footer\" title=\"特定商取引法に基づく表記\">特定商取引法に基づく表記</a>\\n</li>\\n<li>\\n<a href=\"https://www.netdreamers.co.jp/?rf=footer\" title=\"運営会社\">運営会社</a>\\n</li>\\n</ul>\\n</dd>\\n</dl>\\n<dl class=\"NkFoot01\">\\n<dt>スマホでnetkeiba</dt>\\n<dd class=\"SpNkInfoImg\">\\n<img src=\"https://cdn.netkeiba.com/img.www/style/netkeiba.ja/image/common/img_nk_searchimg01.png\" alt=\"検索\" class=\"SearchImg01\" />\\n<img src=\"https://cdn.netkeiba.com/img.www/style/netkeiba.ja/image/common/img_nk_qr01.png\" alt=\"バーコード\" class=\"QrImg01\" />\\n</dd>\\n<dt>アプリでサクサクnetkeiba</dt>\\n<dd>\\n<ul class=\"AprStoreList fc\">\\n<li>\\n<a href=\"https://itunes.apple.com/jp/app/id464562684/\" title=\"Appstore\"><img src=\"https://cdn.netkeiba.com/img.www/style/netkeiba.ja/image/common/bnr_appstore_01.png\" alt=\"Appstore\" class=\"\" /></a>\\n</li>\\n<li>\\n<a href=\"https://play.google.com/store/apps/details?id=jp.co.netdreamers.netkeiba\" title=\"googleplay\"><img src=\"https://cdn.netkeiba.com/img.www/style/netkeiba.ja/image/common/bnr_googleplay_01.png\" alt=\"googleplay\" class=\"\" /></a>\\n</li>\\n</ul>\\n</dd>\\n<dd class=\"Nk_Sns\">\\n<ul class=\"fc\">\\n<li>\\n<a href=\"https://twitter.com/netkeiba\" title=\"公式 Twitter\" class=\"Tw\"></a>\\n</li>\\n<li>\\n<a href=\"https://ja-jp.facebook.com/netkeiba\" title=\"公式 Facebook\" class=\"Fb\"></a>\\n</li>\\n<li>\\n<a href=\"https://line.me/R/ti/p/%40oa-netkeiba\" title=\"LINE\" class=\"Line\"></a>\\n</li>\\n<li>\\n<a href=\"http://www.youtube.com/user/netkeibaTV\" title=\"netkeibaチャンネル\" class=\"Yt\"></a>\\n</li>\\n<li>\\n<a href=\"https://www.instagram.com/netkeiba/\" title=\"Instagram\" class=\"Ig\"></a>\\n</li>\\n<li>\\n<a href=\"https://www.netkeiba.com/?pid=rss\" title=\"RSS\" class=\"Rss\"></a>\\n</li>\\n</ul>\\n</dd>\\n</dl>\\n</div><!-- /.FootWrap -->\\n</div><!-- /.NkFooterArea -->\\n<div class=\"GlobalFooterArea\">\\n<div class=\"FootWrap\">\\n<dl class=\"NkFoot02\">\\n<dt class=\"GfootIcon01 IconGame01\">netkeiba.com 公式競馬ゲーム</dt>\\n<dd>\\n<ul>\\n<li>\\n<a href=\"https://chiki.netkeiba.com/?rf=footer\" target=\\'_blank\\' title=\"チキチキダービー\">目指せ最強オーナー！ <strong>チキチキダービー</strong></a>\\n</li>\\n<li>\\n<a href=\"https://derby.pzga.jp/?rf=footer\" target=\\'_blank\\' title=\"パズルダービー\">爽快！競馬パズルゲーム <strong>パズルダービー</strong></a>\\n</li>\\n<li>\\n<a href=\"https://www.netkeiba.com/game/umasta.html?rf=footer\" target=\\'_blank\\' title=\"うまいるスタジアム\">みんなの愛馬とバトル！ <strong>うまいるスタジアム</strong></a>\\n</li>\\n</ul>\\n</dd>\\n</dl>\\n<dl class=\"NkFoot02\">\\n<dt class=\"GfootIcon01 IconMedia01\">関連メディア</dt>\\n<dd>\\n<ul>\\n<li>\\n<a href=\"https://sp.baseball.findfriends.jp/?rf=footer\" target=\\'_blank\\' title=\"週刊ベースボールONLINE\">徹底取材！野球情報は <strong>週刊ベースボールONLINE</strong></a>\\n</li>\\n<li>\\n<a href=\"https://sp.golf.findfriends.jp/?rf=footer\" target=\\'_blank\\' title=\"ワッグルオンライン\">ゴルフレッスン情報サイト <strong>ワッグルオンライン</strong></a>\\n</li>\\n<li>\\n<a href=\"https://recipe.sp.findfriends.jp/?rf=footer\" target=\\'_blank\\' title=\"KATSUYOレシピ\">小林カツ代直伝！ <strong>KATSUYOレシピ</strong></a>\\n</li>\\n<li>\\n<a href=\"https://sp.findfriends.jp/?rf=footer\" target=\\'_blank\\' title=\"Find\">趣味でつながる総合掲示板コミュニティ <strong>Find</strong></a>\\n</li>\\n</ul>\\n</dd>\\n</dl>\\n<dl class=\"NkFoot02\">\\n<dt class=\"GfootIcon01 IconSoftware01\">ソフトウェア・プロダクト</dt>\\n<dd>\\n<ul>\\n<li>\\n<a href=\"https://smart.lets-ktai.jp/?rf=footer\" target=\\'_blank\\' title=\"SMART会員証\">もっともセキュアな店舗売上向上アプリ <strong>SMART会員証</strong></a>\\n</li>\\n<li>\\n<a href=\"https://lets-ktai.jp/?rf=footer\" target=\\'_blank\\' title=\"Let\\'sケータイ！\">スマホサイト制作ASP <strong>Let\\'sケータイ！</strong></a>\\n</li>\\n<li>\\n<a href=\"https://webspiral.jp/?rf=footer\" target=\\'_blank\\' title=\"WEB SPIRAL\">サイト運営を劇的に効率化するCMS <strong>WEB SPIRAL</strong></a>\\n</li>\\n</ul>\\n</dd>\\n</dl>\\n</div><!-- /.FootWrap -->\\n<p class=\"CopyRight\">\\n<small>&copy; Net Dreamers Co., Ltd.</small>\\n</p>\\n</div><!-- /.GlobalFooterArea -->\\n</footer>\\n<!-- Google Tag Manager -->\\n<noscript><iframe src=\"//www.googletagmanager.com/ns.html?id=GTM-K6PJT6\"\\nheight=\"0\" width=\"0\" style=\"display:none;visibility:hidden\"></iframe></noscript>\\n<script>(function(w,d,s,l,i){w[l]=w[l]||[];w[l].push({\\'gtm.start\\':\\nnew Date().getTime(),event:\\'gtm.js\\'});var f=d.getElementsByTagName(s)[0],\\nj=d.createElement(s),dl=l!=\\'dataLayer\\'?\\'&l=\\'+l:\\'\\';j.async=true;j.src=\\n\\'//www.googletagmanager.com/gtm.js?id=\\'+i+dl;f.parentNode.insertBefore(j,f);\\n})(window,document,\\'script\\',\\'dataLayer\\',\\'GTM-K6PJT6\\');</script>\\n<!-- End Google Tag Manager -->\\n<!--\\n<script src=\"https://genieedmp.com/dmp.js?c=3335\"></script>\\n-->\\n</div><!-- / #page -->\\n\\n<script language=\"JavaScript\" type=\"text/javascript\">noCacheParam=Math.random()*10000000000;document.write(\\'<scr\\'+\\'ipt type=\"text/javascript\" src=\"https://netdreamersad.durasite.net/A-affiliate2/mobile?site=23&keyword=pc_nk_overlay&isJS=true&encoding=EUC-JP&ord=\\' + noCacheParam + \\'\"></scr\\'+\\'ipt>\\');</script>\\n</body>\\n</html>'"
     },
     "metadata": {},
     "execution_count": 287
    }
   ],
   "source": [
    "response.text"
   ]
  },
  {
   "cell_type": "markdown",
   "metadata": {},
   "source": [
    "### 3.2.2 BeautifulSoupによるスクレイピング\n",
    "#### 基本文法"
   ]
  },
  {
   "cell_type": "code",
   "execution_count": 288,
   "metadata": {},
   "outputs": [
    {
     "output_type": "stream",
     "name": "stdout",
     "text": "Requirement already satisfied: beautifulsoup4 in c:\\users\\info\\appdata\\local\\programs\\python\\python37\\lib\\site-packages (4.9.0)\nRequirement already satisfied: soupsieve>1.2 in c:\\users\\info\\appdata\\local\\programs\\python\\python37\\lib\\site-packages (from beautifulsoup4) (2.0)\n"
    }
   ],
   "source": [
    "!pip install beautifulsoup4"
   ]
  },
  {
   "cell_type": "code",
   "execution_count": 289,
   "metadata": {},
   "outputs": [],
   "source": [
    "from bs4 import BeautifulSoup #bs4モジュールからBeautifulSoupクラスをインポートする。 \n",
    "soup = BeautifulSoup(response.text, 'html.parser')# "
   ]
  },
  {
   "cell_type": "code",
   "execution_count": 290,
   "metadata": {},
   "outputs": [
    {
     "output_type": "execute_result",
     "data": {
      "text/plain": "owrap=\"nowrap\">57</td>\n<td class=\"txt_l\" nowrap=\"nowrap\">\n<a href=\"/jockey/00733/\" title=\"吉田豊\">吉田豊</a>\n</td>\n<td class=\"txt_r\" nowrap=\"nowrap\">2:02.5</td>\n<td class=\"txt_c\" nowrap=\"nowrap\">3/4</td>\n<diary_snap_cut>\n<td class=\"speed_index bml\" nowrap=\"nowrap\">\n<div class=\"txt_c\">\n<a data-theme=\"07003\" href=\"https://www.netkeiba.com/premium/?service=p13\" id=\"a_monthly_goods_link_01\">**</a>\n</div>\n</td>\n<td nowrap=\"nowrap\">17-16-15-13</td>\n<td class=\"txt_c\" nowrap=\"nowrap\"><span>36.4</span></td>\n</diary_snap_cut>\n<td class=\"txt_r\" nowrap=\"nowrap\">14.6</td>\n<td align=\"right\" class=\"bml\" nowrap=\"nowrap\"><span>5</span></td>\n<td nowrap=\"nowrap\">474(-2)</td>\n<diary_snap_cut>\n<td class=\"txt_c\" nowrap=\"nowrap\">\n<a href=\"/?pid=horse_training&amp;id=2017101299&amp;rid=202006030811\"><img border=\"0\" height=\"13\" src=\"/style/netkeiba.ja/image/ico_oikiri.gif\" width=\"13\"/></a>\n</td>\n<td class=\"txt_c\" nowrap=\"nowrap\">\n<a href=\"/?pid=horse_comment&amp;id=2017101299&amp;rid=202006030811\"><img border=\"0\" height=\"13\" src=\"/style/netkeiba.ja/image/ico_comment.gif\" width=\"13\"/></a>\n</td>\n<td nowrap=\"nowrap\">\n<div class=\"txt_c\">\n<a data-theme=\"07004\" href=\"https://www.netkeiba.com/premium/?service=p13\" id=\"a_monthly_goods_link_02\"><img border=\"0\" height=\"13\" src=\"/style/netkeiba.ja/image/ico_remarks.gif\" width=\"13\"/></a>\n</div>\n</td>\n</diary_snap_cut>\n<td class=\"txt_l\" nowrap=\"nowrap\">\n[東]\n<a href=\"/trainer/01134/\" title=\"高橋文雅\">高橋文雅</a>\n</td>\n<diary_snap_cut>\n<td class=\"txt_l w6ml\" nowrap=\"nowrap\">\n<a href=\"/owner/548009/\" title=\"岡田勇\">岡田勇</a>\n</td>\n<td class=\"txt_r\" nowrap=\"nowrap\"></td>\n</diary_snap_cut>\n</tr><tr>\n<td class=\"txt_r\" nowrap=\"nowrap\">17</td>\n<td align=\"right\" class=\"w7ml\" nowrap=\"nowrap\"><span>7</span></td>\n<td class=\"txt_r\" nowrap=\"nowrap\">14</td>\n<td class=\"txt_l\" nowrap=\"nowrap\">\n<a href=\"/horse/2017101833/\" id=\"umalink_202006030811\" title=\"キメラヴェリテ\">キメラヴェリテ</a>\n</td>\n<td class=\"txt_c\" nowrap=\"nowrap\">牡3</td>\n<td class=\"txt_c\" nowrap=\"nowrap\">57</td>\n<td class=\"txt_l\" nowrap=\"nowrap\">\n<a href=\"/jockey/01116/\" title=\"藤岡康太\">藤岡康太</a>\n</td>\n<td class=\"txt_r\" nowrap=\"nowrap\">2:02.6</td>\n<td class=\"txt_c\" nowrap=\"nowrap\">クビ</td>\n<diary_snap_cut>\n<td class=\"speed_index bml\" nowrap=\"nowrap\">\n<div class=\"txt_c\">\n<a data-theme=\"07003\" href=\"https://www.netkeiba.com/premium/?service=p13\" id=\"a_monthly_goods_link_01\">**</a>\n</div>\n</td>\n<td nowrap=\"nowrap\">1-1-1-1</td>\n<td class=\"txt_c\" nowrap=\"nowrap\"><span>37.7</span></td>\n</diary_snap_cut>\n<td class=\"txt_r\" nowrap=\"nowrap\">63.5</td>\n<td align=\"right\" class=\"bml\" nowrap=\"nowrap\"><span>10</span></td>\n<td nowrap=\"nowrap\">538(0)</td>\n<diary_snap_cut>\n<td class=\"txt_c\" nowrap=\"nowrap\">\n<a href=\"/?pid=horse_training&amp;id=2017101833&amp;rid=202006030811\"><img border=\"0\" height=\"13\" src=\"/style/netkeiba.ja/image/ico_oikiri.gif\" width=\"13\"/></a>\n</td>\n<td class=\"txt_c\" nowrap=\"nowrap\">\n<a href=\"/?pid=horse_comment&amp;id=2017101833&amp;rid=202006030811\"><img border=\"0\" height=\"13\" src=\"/style/netkeiba.ja/image/ico_comment.gif\" width=\"13\"/></a>\n</td>\n<td nowrap=\"nowrap\">\n<div class=\"txt_c\">\n<a data-theme=\"07004\" href=\"https://www.netkeiba.com/premium/?service=p13\" id=\"a_monthly_goods_link_02\"><img border=\"0\" height=\"13\" src=\"/style/netkeiba.ja/image/ico_remarks.gif\" width=\"13\"/></a>\n</div>\n</td>\n</diary_snap_cut>\n<td class=\"txt_l\" nowrap=\"nowrap\">\n[西]\n<a href=\"/trainer/01039/\" title=\"中竹和也\">中竹和也</a>\n</td>\n<diary_snap_cut>\n<td class=\"txt_l w7ml\" nowrap=\"nowrap\">\n<a href=\"/owner/944030/\" title=\"加藤誠\">加藤誠</a>\n</td>\n<td class=\"txt_r\" nowrap=\"nowrap\"></td>\n</diary_snap_cut>\n</tr><tr>\n<td class=\"txt_r\" nowrap=\"nowrap\">18</td>\n<td align=\"right\" class=\"w2ml\" nowrap=\"nowrap\"><span>2</span></td>\n<td class=\"txt_r\" nowrap=\"nowrap\">4</td>\n<td class=\"txt_l\" nowrap=\"nowrap\">\n<a href=\"/horse/2017101755/\" id=\"umalink_202006030811\" title=\"テンピン\">テンピン</a>\n</td>\n<td class=\"txt_c\" nowrap=\"nowrap\">牡3</td>\n<td class=\"txt_c\" nowrap=\"nowrap\">57</td>\n<td class=\"txt_l\" nowrap=\"nowrap\">\n<a href=\"/jockey/01141/\" title=\"中井裕二\">中井裕二</a>\n</td>\n<td class=\"txt_r\" nowrap=\"nowrap\">2:03.3</td>\n<td class=\"txt_c\" nowrap=\"nowrap\">4</td>\n<diary_snap_cut>\n<td class=\"speed_index bml\" nowrap=\"nowrap\">\n<div class=\"txt_c\">\n<a data-theme=\"07003\" href=\"https://www.netkeiba.com/premium/?service=p13\" id=\"a_monthly_goods_link_01\">**</a>\n</div>\n</td>\n<td nowrap=\"nowrap\">7-7-10-13</td>\n<td class=\"txt_c\" nowrap=\"nowrap\"><span>37.6</span></td>\n</diary_snap_cut>\n<td class=\"txt_r\" nowrap=\"nowrap\">237.4</td>\n<td align=\"right\" class=\"bml\" nowrap=\"nowrap\"><span>15</span></td>\n<td nowrap=\"nowrap\">500(-2)</td>\n<diary_snap_cut>\n<td class=\"txt_c\" nowrap=\"nowrap\">\n<a href=\"/?pid=horse_training&amp;id=2017101755&amp;rid=202006030811\"><img border=\"0\" height=\"13\" src=\"/style/netkeiba.ja/image/ico_oikiri.gif\" width=\"13\"/></a>\n</td>\n<td class=\"txt_c\" nowrap=\"nowrap\">\n<a href=\"/?pid=horse_comment&amp;id=2017101755&amp;rid=202006030811\"><img border=\"0\" height=\"13\" src=\"/style/netkeiba.ja/image/ico_comment.gif\" width=\"13\"/></a>\n</td>\n<td nowrap=\"nowrap\">\n</td>\n</diary_snap_cut>\n<td class=\"txt_l\" nowrap=\"nowrap\">\n[西]\n<a href=\"/trainer/00438/\" title=\"安田隆行\">安田隆行</a>\n</td>\n<diary_snap_cut>\n<td class=\"txt_l w2ml\" nowrap=\"nowrap\">\n<a href=\"/owner/059700/\" title=\"ユアストーリー\">ユアストーリー</a>\n</td>\n<td class=\"txt_r\" nowrap=\"nowrap\"></td>\n</diary_snap_cut>\n</tr>\n</table>\n\n<script src=\"/style/netkeiba.ja/js/umalink.js\" type=\"text/javascript\"></script>\n<div class=\"diary_snap_write_box\">\n<p><a href=\"/?pid=diary_snapshot&amp;snap=aHR0cDovL2RiLm5ldGtlaWJhLmNvbS8/cGlkPXJhY2VfZGV0YWlsJmlkPTIwMjAwNjAzMDgxMQ==&amp;meta=race_result\" title=\"ひとこと日記を書く\"><img class=\"imgover\" src=\"https://cdn.netkeiba.com/img.db//style/netkeiba.ja/image/prof_btn_diary_write_01.png\"/></a></p>\n<p>※このレースについて、日記を書くことができます。</p>\n</div><!-- /.diary_snap_write_box -->\n<script type=\"text/javascript\">\n$(document).on( 'click', '#action_regist', function(){\nevent.preventDefault();\nvar regist_url = 'https://regist.sp.netkeiba.com/?pid=regist_form&action=nk_input';\nvar callback_url = $('#r_callback').val();\naction_regist('action_nk_regist', regist_url, callback_url);\n});\nfunction action_regist( modal_id, modal_url, callback_url ) {\nconsole.log('action_regist(%s,%s,%s)', modal_id, modal_url, callback_url);\n$.colorbox({\nhref: modal_url,\niframe: true,\nopacity: '0.5',\nopen: true,\nscrolling: true,\nheight: '60%',\nmaxWidth: '90%',\nwidth: $(window).width() - 60 + 'px',\nmaxWidth: '420px',\noverlayClose: true,\nescKey: false,\ncloseButton: true,\nonComplete : function(){\n//setHeight();\n},\nonClosed : function(){\n$('#cboxWrapper').removeClass('SetModal');\n}\n});\nfunction setHeight() {\nvar ifrObj = document.getElementById('cboxLoadedContent').querySelectorAll('iframe')[0];\n$(ifrObj).on('load', function() {\nvar $cBox = $('#colorbox');\nvar boxPositionTop = $cBox.offset().top;\nvar boxHeight = $cBox.height();\nvar ifrBody = ifrObj.contentWindow.document.body;\nvar ifrHeight = ifrBody.scrollHeight;\nvar movePosition = boxPositionTop + (boxHeight - ifrHeight) / 2;\n$('#colorbox').css('top', movePosition +'px');\n$('#cboxLoadedContent').add('#cboxContent').add('#cboxMiddleLeft').add('#cboxWrapper').add('#colorbox').css('height', ifrHeight+'px');\nsetTimeout(function () {\n$('#cboxWrapper').addClass('SetModal');\n}, 100);\n});\n}\n};\n$(window).on('message', function(event){\nif (event.originalEvent.origin !== 'https://regist.sp.netkeiba.com' ) return;\nif (event.originalEvent.data === 'register_done' ) {\n$.colorbox.close();\nlocation.reload();\n}\n});\n</script>\n<!-- //id=\"contents_liquid\" -->\n<div class=\"fc\" id=\"contents\">\n<div class=\"result_info box_left\">\n<diary_snap>\n<dl class=\"pay_block\">\n<dt><h3>払い戻し</h3></dt>\n<dd class=\"fc\">\n<table cellpadding=\"0\" cellspacing=\"1\" class=\"pay_table_01\" summary=\"払い戻し\">\n<tr>\n<th class=\"tan\">単勝</th>\n<td>1</td>\n<td class=\"txt_r\">270</td>\n<td class=\"txt_r\">1</td>\n</tr>\n<tr>\n<th align=\"center\" class=\"fuku\">複勝</th>\n<td>1<br/>7<br/>16</td>\n<td class=\"txt_r\">140<br/>170<br/>690</td>\n<td class=\"txt_r\">1<br/>3<br/>9</td>\n</tr>\n<tr>\n<th align=\"center\" class=\"waku\">枠連</th>\n<td>1 - 4</td>\n<td class=\"txt_r\">640</td>\n<td class=\"txt_r\">2</td>\n</tr>\n<tr>\n<th align=\"center\" class=\"uren\">馬連</th>\n<td>1 - 7</td>\n<td class=\"txt_r\">660</td>\n<td class=\"txt_r\">2</td>\n</tr>\n</table>\n<table cellpadding=\"0\" cellspacing=\"1\" class=\"pay_table_01\" summary=\"払い戻し\">\n<tr>\n<th class=\"wide\">ワイド</th>\n<td>1 - 7<br/>1 - 16<br/>7 - 16</td>\n<td class=\"txt_r\">330<br/>2,250<br/>2,610</td>\n<td class=\"txt_r\">2<br/>20<br/>24</td>\n</tr>\n<tr>\n<th class=\"utan\">馬単</th>\n<td>1 → 7</td>\n<td class=\"txt_r\">1,120</td>\n<td class=\"txt_r\">3</td>\n</tr>\n<tr>\n<th class=\"sanfuku\">三連複</th>\n<td>1 - 7 - 16</td>\n<td class=\"txt_r\">9,150</td>\n<td class=\"txt_r\">25</td>\n</tr>\n<tr>\n<th class=\"santan\">三連単</th>\n<td>1 → 7 → 16</td>\n<td class=\"txt_r\">26,310</td>\n<td class=\"txt_r\">72</td>\n</tr>\n</table>\n</dd>\n</dl>\n</diary_snap>\n<table cellpadding=\"0\" cellspacing=\"0\" class=\"result_table_02\" summary=\"馬場情報\" width=\"100%\">\n<caption>馬場情報</caption>\n<tr>\n<th>馬場指数<img height=\"16\" src=\"https://cdn.netkeiba.com/img.db//style/netkeiba.ja/image/ico_premium.gif\" width=\"16\"/></th>\n<td>プレミアサービスにご加入して頂くと<a data-theme=\"07002\" href=\"/?pid=info&amp;mode=premium\" id=\"a_monthly_goods_link_22\">馬場指数</a>が確認できます。<br/><a data-theme=\"07002\" href=\"https://regist.netkeiba.com/?pid=premium\" id=\"a_monthly_goods_link_23\">プレミアサービス案内へ</a></td>\n</tr>\n<tr>\n<th>馬場コメント<img height=\"16\" src=\"https://cdn.netkeiba.com/img.db//style/netkeiba.ja/image/ico_premium.gif\" width=\"16\"/> (<a data-theme=\"07005\" href=\"/?pid=info&amp;mode=premium\" id=\"a_monthly_goods_link_52\">?</a>)</th>\n<td>プレミアサービスにご加入して頂くと<a data-theme=\"07005\" href=\"/?pid=info&amp;mode=premium\" id=\"a_monthly_goods_link_53\">馬場コメント</a>が確認できます。<br/><a data-theme=\"07005\" href=\"https://regist.netkeiba.com/?pid=premium\" id=\"a_monthly_goods_link_54\">プレミアサービス案内へ</a></td>\n</tr>\n</table>\n<table cellpadding=\"0\" cellspacing=\"0\" class=\"result_table_02\" summary=\"コーナー通過順位\" width=\"100%\">\n<caption>コーナー通過順位</caption>\n<tr>\n<th>1コーナー</th>\n<td>14-8,18(6,7)15(4,17)5,3,16(1,12)(2,10,13)(9,11)</td>\n</tr><tr>\n<th>2コーナー</th>\n<td>14-8,18,6-(7,15)(4,17)5,3,16(1,12)-(2,13)(10,11)9</td>\n</tr><tr>\n<th>3コーナー</th>\n<td>14,8,18(6,15)(7,5)(17,12)(4,16)(3,1,13)(10,2,11)-9</td>\n</tr><tr>\n<th>4コーナー</th>\n<td>(*14,8)18(6,7,5)(15,1)(17,16,12)3(4,2,11,13)9,10</td>\n</tr>\n</table>\n<table cellpadding=\"0\" cellspacing=\"0\" class=\"result_table_02\" summary=\"ラップタイム\" width=\"100%\">\n<caption>ラップタイム</caption>\n<tr>\n<th>ラップ</th>\n<td class=\"race_lap_cell\">12.2 - 11.3 - 12.1 - 11.8 - 12.4 - 12.9 - 12.2 - 11.9 - 11.8 - 12.1</td>\n</tr>\n<tr>\n<th>ペース</th>\n<td class=\"race_lap_cell\">12.2 - 23.5 - 35.6 - 47.4 - 59.8 - 72.7 - 84.9 - 96.8 - 108.6 - 120.7 (35.6-35.8)</td>\n</tr>\n</table>\n</div><!-- /.result_left -->\n<div class=\"result_info box_right\">\n<table cellpadding=\"0\" cellspacing=\"0\" class=\"result_table_02\" summary=\"レース分析\" width=\"100%\">\n<caption>レース分析</caption>\n<tr>\n<th>分析コメント<img height=\"16\" src=\"https://cdn.netkeiba.com/img.db//style/netkeiba.ja/image/ico_premium.gif\" width=\"16\"/> (<a data-theme=\"07006\" href=\"/?pid=info&amp;mode=premium\" id=\"a_monthly_goods_link_62\">?</a>)</th>\n<td>プレミアサービスにご加入して頂くと<a data-theme=\"07006\" href=\"/?pid=info&amp;mode=premium\" id=\"a_monthly_goods_link_63\">レース分析</a>が確認できます。<br/><a data-theme=\"07006\" href=\"https://regist.netkeiba.com/?pid=premium\" id=\"a_monthly_goods_link_64\">プレミアサービス案内へ</a></td>\n</tr>\n</table>\n<table cellpadding=\"0\" cellspacing=\"0\" class=\"result_table_02\" summary=\"注目馬 レース後の短評\" width=\"100%\">\n<caption>注目馬 レース後の短評<img height=\"16\" src=\"https://cdn.netkeiba.com/img.db//style/netkeiba.ja/image/ico_premium.gif\" width=\"16\"/> (<a data-theme=\"07009\" href=\"/?pid=info&amp;mode=premium\" id=\"a_monthly_goods_link_92\">?</a>)</caption>\n<tr>\n<th>着順:馬名</th>\n</tr>\n<tr>\n<td>プレミアサービスにご加入して頂くと<a data-theme=\"07009\" href=\"/?pid=info&amp;mode=premium\" id=\"a_monthly_goods_link_93\">レース後の短評</a>が確認できます。<br/><a data-theme=\"07009\" href=\"https://regist.netkeiba.com/?pid=premium\" id=\"a_monthly_goods_link_94\">プレミアサービス案内へ</a></td>\n</tr>\n</table>\n</div><!-- /.result_right -->\n<div class=\"main_ad\">\n<script language=\"JavaScript\" type=\"text/javascript\">noCacheParam=Math.random()*10000000000;document.write('<scr'+'ipt type=\"text/javascript\" src=\"https://netdreamersad.durasite.net/A-affiliate2/mobile?site=23&keyword=adnet_nk_db_pic&isJS=true&encoding=EUC-JP&ord=' + noCacheParam + '\"></scr'+'ipt>');</script>\n</div><!-- /.main_ad -->\n</div><!-- /#contents -->\n<!-- /.race_result -->\n<footer>\n<div class=\"NkFooterArea\">\n<div class=\"BtnPagetop\">\n<a href=\"javascript:void(0)\" title=\"ページトップへ\"></a>\n</div><!-- /.BtnPagetop -->\n<script type=\"text/javascript\">\n$(function() {\n$('.BtnPagetop a').click(function () {\n$('body,html').animate({\nscrollTop: 0\n}, 400);\nreturn false;\n});\n});\n</script>\n<dl class=\"FootSiteTitle fc\">\n<dt>\n<a href=\"https://www.netkeiba.com/?rf=footer\" title=\"netkeiba.com\">\n<img alt=\"netkeiba.com\" src=\"https://cdn.netkeiba.com/img.www/style/netkeiba.ja/image/common/netkeiba_logo01.png\"/>\n</a>\n</dt>\n<dd>\n<p>利用者数<strong>1000</strong>万人突破！<strong>No.1</strong>競馬サイト</p>\n</dd>\n</dl>\n<div class=\"FootWrap\">\n<dl class=\"NkFoot01 NkFootCateLink\">\n<dt>カテゴリ</dt>\n<dd class=\"fc\">\n<ul>\n<li>\n<a href=\"https://news.netkeiba.com/?rf=footer\" title=\"ニュース\">ニュース</a>\n</li>\n<li>\n<a href=\"https://race.netkeiba.com/top/?rf=footer\" title=\"レース\">レース</a>\n</li>\n<li>\n<a href=\"https://yoso.netkeiba.com/?rf=footer\" title=\"ウマい馬券\">ウマい馬券</a>\n</li>\n<li>\n<a href=\"https://news.netkeiba.com/?pid=column_top&amp;rf=footer\" title=\"コラム\">コラム</a>\n</li>\n<li>\n<a href=\"https://tv.netkeiba.com/?rf=footer\" title=\"netkeibaTV\">netkeibaTV</a>\n</li>\n<li>\n<a href=\"https://oldnar.netkeiba.com/?rf=footer\" title=\"地方競馬\">地方競馬</a>\n</li>\n<li>\n<a href=\"https://db.netkeiba.com/?rf=footer\" title=\"データベース\">データベース</a>\n</li>\n<li>\n<a href=\"https://books.netkeiba.com/?rf=footer\" title=\"ブックス\">ブックス</a>\n</li>\n</ul>\n<ul>\n<li>\n<a href=\"https://orepro.netkeiba.com/?rf=footer\" title=\"俺プロ\">俺プロ</a>\n</li>\n<li>\n<a href=\"https://owner.netkeiba.com/?rf=footer\" title=\"一口馬主\">一口馬主</a>\n</li>\n<li>\n<a href=\"https://pog.netkeiba.com/?rf=footer\" title=\"POG\">POG</a>\n</li>\n<li>\n<a href=\"https://bbs.pc.keiba.findfriends.jp/?rf=footer\" title=\"競馬広場\">競馬広場</a>\n</li>\n<li>\n<a href=\"https://dir.netkeiba.com/keibamatome/index.html?rf=footer\" title=\"まとめ\">まとめ</a>\n</li>\n<li>\n<a href=\"https://www.netkeiba.com/paper/?rf=footer\" title=\"競馬新聞\">競馬新聞</a>\n</li>\n<li>\n<a href=\"https://race.netkeiba.com/bookmark/bookmark.html?rf=footer\" title=\"お気に入り馬\">お気に入り馬</a>\n</li>\n<li>\n<a href=\"https://regist.netkeiba.com/?rf=footer\" title=\"アカウント\">アカウント</a>\n</li>\n</ul>\n</dd>\n</dl>\n<dl class=\"NkFoot01\">\n<dt>ヘルプ＆ガイド</dt>\n<dd>\n<ul>\n<li>\n<a href=\"https://info.netkeiba.com/?rf=footer\" title=\"お知らせ\">お知らせ</a>\n</li>\n<li>\n<a href=\"https://regist.netkeiba.com/?pid=premium&amp;rf=footer\" title=\"プレミアムサービスのご案内\">プレミアムサービスのご案内</a>\n</li>\n<li>\n<a href=\"https://regist.netkeiba.com/?pid=help&amp;rf=footer\" title=\"よくある質問・お問い合わせ\">よくある質問・お問い合わせ</a>\n</li>\n</ul>\n</dd>\n</dl>\n<dl class=\"NkFoot01\">\n<dt>netkeiba.comについて</dt>\n<dd>\n<ul>\n<li>\n<a href=\"https://www.netkeiba.com/recruit/?rf=footer\" title=\"採用情報\">採用情報</a>\n</li>\n<li>\n<a href=\"https://www.netkeiba.com/info/ad/?rf=footer\" title=\"広告掲載について\">広告掲載について</a>\n</li>\n<li>\n<a href=\"https://www.netkeiba.com/info/kiyaku.html?rf=footer\" title=\"利用規約\">利用規約</a>\n</li>\n<li>\n<a href=\"https://www.netdreamers.co.jp/company/about/privacy.html?rf=footer\" title=\"プライバシーポリシー\">プライバシーポリシー</a>\n</li>\n<li>\n<a href=\"https://www.netkeiba.com/info/guide.html?rf=footer\" title=\"投稿ガイドライン\">投稿ガイドライン</a>\n</li>\n<li>\n<a href=\"https://www.netkeiba.com/info/tokusyo.html?rf=footer\" title=\"特定商取引法に基づく表記\">特定商取引法に基づく表記</a>\n</li>\n<li>\n<a href=\"https://www.netdreamers.co.jp/?rf=footer\" title=\"運営会社\">運営会社</a>\n</li>\n</ul>\n</dd>\n</dl>\n<dl class=\"NkFoot01\">\n<dt>スマホでnetkeiba</dt>\n<dd class=\"SpNkInfoImg\">\n<img alt=\"検索\" class=\"SearchImg01\" src=\"https://cdn.netkeiba.com/img.www/style/netkeiba.ja/image/common/img_nk_searchimg01.png\"/>\n<img alt=\"バーコード\" class=\"QrImg01\" src=\"https://cdn.netkeiba.com/img.www/style/netkeiba.ja/image/common/img_nk_qr01.png\"/>\n</dd>\n<dt>アプリでサクサクnetkeiba</dt>\n<dd>\n<ul class=\"AprStoreList fc\">\n<li>\n<a href=\"https://itunes.apple.com/jp/app/id464562684/\" title=\"Appstore\"><img alt=\"Appstore\" class=\"\" src=\"https://cdn.netkeiba.com/img.www/style/netkeiba.ja/image/common/bnr_appstore_01.png\"/></a>\n</li>\n<li>\n<a href=\"https://play.google.com/store/apps/details?id=jp.co.netdreamers.netkeiba\" title=\"googleplay\"><img alt=\"googleplay\" class=\"\" src=\"https://cdn.netkeiba.com/img.www/style/netkeiba.ja/image/common/bnr_googleplay_01.png\"/></a>\n</li>\n</ul>\n</dd>\n<dd class=\"Nk_Sns\">\n<ul class=\"fc\">\n<li>\n<a class=\"Tw\" href=\"https://twitter.com/netkeiba\" title=\"公式 Twitter\"></a>\n</li>\n<li>\n<a class=\"Fb\" href=\"https://ja-jp.facebook.com/netkeiba\" title=\"公式 Facebook\"></a>\n</li>\n<li>\n<a class=\"Line\" href=\"https://line.me/R/ti/p/%40oa-netkeiba\" title=\"LINE\"></a>\n</li>\n<li>\n<a class=\"Yt\" href=\"http://www.youtube.com/user/netkeibaTV\" title=\"netkeibaチャンネル\"></a>\n</li>\n<li>\n<a class=\"Ig\" href=\"https://www.instagram.com/netkeiba/\" title=\"Instagram\"></a>\n</li>\n<li>\n<a class=\"Rss\" href=\"https://www.netkeiba.com/?pid=rss\" title=\"RSS\"></a>\n</li>\n</ul>\n</dd>\n</dl>\n</div><!-- /.FootWrap -->\n</div><!-- /.NkFooterArea -->\n<div class=\"GlobalFooterArea\">\n<div class=\"FootWrap\">\n<dl class=\"NkFoot02\">\n<dt class=\"GfootIcon01 IconGame01\">netkeiba.com 公式競馬ゲーム</dt>\n<dd>\n<ul>\n<li>\n<a href=\"https://chiki.netkeiba.com/?rf=footer\" target=\"_blank\" title=\"チキチキダービー\">目指せ最強オーナー！ <strong>チキチキダービー</strong></a>\n</li>\n<li>\n<a href=\"https://derby.pzga.jp/?rf=footer\" target=\"_blank\" title=\"パズルダービー\">爽快！競馬パズルゲーム <strong>パズルダービー</strong></a>\n</li>\n<li>\n<a href=\"https://www.netkeiba.com/game/umasta.html?rf=footer\" target=\"_blank\" title=\"うまいるスタジアム\">みんなの愛馬とバトル！ <strong>うまいるスタジアム</strong></a>\n</li>\n</ul>\n</dd>\n</dl>\n<dl class=\"NkFoot02\">\n<dt class=\"GfootIcon01 IconMedia01\">関連メディア</dt>\n<dd>\n<ul>\n<li>\n<a href=\"https://sp.baseball.findfriends.jp/?rf=footer\" target=\"_blank\" title=\"週刊ベースボールONLINE\">徹底取材！野球情報は <strong>週刊ベースボールONLINE</strong></a>\n</li>\n<li>\n<a href=\"https://sp.golf.findfriends.jp/?rf=footer\" target=\"_blank\" title=\"ワッグルオンライン\">ゴルフレッスン情報サイト <strong>ワッグルオンライン</strong></a>\n</li>\n<li>\n<a href=\"https://recipe.sp.findfriends.jp/?rf=footer\" target=\"_blank\" title=\"KATSUYOレシピ\">小林カツ代直伝！ <strong>KATSUYOレシピ</strong></a>\n</li>\n<li>\n<a href=\"https://sp.findfriends.jp/?rf=footer\" target=\"_blank\" title=\"Find\">趣味でつながる総合掲示板コミュニティ <strong>Find</strong></a>\n</li>\n</ul>\n</dd>\n</dl>\n<dl class=\"NkFoot02\">\n<dt class=\"GfootIcon01 IconSoftware01\">ソフトウェア・プロダクト</dt>\n<dd>\n<ul>\n<li>\n<a href=\"https://smart.lets-ktai.jp/?rf=footer\" target=\"_blank\" title=\"SMART会員証\">もっともセキュアな店舗売上向上アプリ <strong>SMART会員証</strong></a>\n</li>\n<li>\n<a href=\"https://lets-ktai.jp/?rf=footer\" target=\"_blank\" title=\"Let'sケータイ！\">スマホサイト制作ASP <strong>Let'sケータイ！</strong></a>\n</li>\n<li>\n<a href=\"https://webspiral.jp/?rf=footer\" target=\"_blank\" title=\"WEB SPIRAL\">サイト運営を劇的に効率化するCMS <strong>WEB SPIRAL</strong></a>\n</li>\n</ul>\n</dd>\n</dl>\n</div><!-- /.FootWrap -->\n<p class=\"CopyRight\">\n<small>© Net Dreamers Co., Ltd.</small>\n</p>\n</div><!-- /.GlobalFooterArea -->\n</footer>\n<!-- Google Tag Manager -->\n<noscript><iframe height=\"0\" src=\"//www.googletagmanager.com/ns.html?id=GTM-K6PJT6\" style=\"display:none;visibility:hidden\" width=\"0\"></iframe></noscript>\n<script>(function(w,d,s,l,i){w[l]=w[l]||[];w[l].push({'gtm.start':\nnew Date().getTime(),event:'gtm.js'});var f=d.getElementsByTagName(s)[0],\nj=d.createElement(s),dl=l!='dataLayer'?'&l='+l:'';j.async=true;j.src=\n'//www.googletagmanager.com/gtm.js?id='+i+dl;f.parentNode.insertBefore(j,f);\n})(window,document,'script','dataLayer','GTM-K6PJT6');</script>\n<!-- End Google Tag Manager -->\n<!--\n<script src=\"https://genieedmp.com/dmp.js?c=3335\"></script>\n-->\n<!-- / #page -->\n<script language=\"JavaScript\" type=\"text/javascript\">noCacheParam=Math.random()*10000000000;document.write('<scr'+'ipt type=\"text/javascript\" src=\"https://netdreamersad.durasite.net/A-affiliate2/mobile?site=23&keyword=pc_nk_overlay&isJS=true&encoding=EUC-JP&ord=' + noCacheParam + '\"></scr'+'ipt>');</script>\n"
     },
     "metadata": {},
     "execution_count": 290
    }
   ],
   "source": [
    "soup"
   ]
  },
  {
   "cell_type": "code",
   "execution_count": 291,
   "metadata": {},
   "outputs": [
    {
     "output_type": "stream",
     "name": "stdout",
     "text": "<class 'bs4.BeautifulSoup'>\n"
    }
   ],
   "source": [
    "print(type(soup))"
   ]
  },
  {
   "cell_type": "code",
   "execution_count": 292,
   "metadata": {},
   "outputs": [
    {
     "output_type": "execute_result",
     "data": {
      "text/plain": "<a href=\"http://www.netkeiba.com/?pid=go_sp\" title=\"スマートフォン版へ\"><img alt=\"スマートフォン版へ\" class=\"imgover\" src=\"https://cdn.netkeiba.com/img.www/style/netkeiba.ja/image/sp_nk_link_02.png\"/></a>"
     },
     "metadata": {},
     "execution_count": 292
    }
   ],
   "source": [
    "soup.find(\"a\")#タグ名の属性でa要素を取得できる。一番先頭のタグのみ"
   ]
  },
  {
   "cell_type": "code",
   "execution_count": 293,
   "metadata": {},
   "outputs": [
    {
     "output_type": "stream",
     "name": "stdout",
     "text": "<class 'bs4.element.Tag'>\n"
    }
   ],
   "source": [
    "print(type(soup.find(\"a\")))#要素はTagオブジェクト。"
   ]
  },
  {
   "cell_type": "code",
   "execution_count": 294,
   "metadata": {},
   "outputs": [
    {
     "output_type": "execute_result",
     "data": {
      "text/plain": "\"/race/202006030807/\" title=\"R\">7R</a>,\n <a href=\"/race/202006030808/\" title=\"R\">8R</a>,\n <a href=\"/race/202006030809/\" title=\"R\">9R</a>,\n <a href=\"/race/202006030810/\" title=\"R\">10R</a>,\n <a class=\"active\" href=\"/race/202006030811/\" title=\"R\">11R</a>,\n <a href=\"/race/202006030812/\" title=\"R\">12R</a>,\n <a href=\"/race/sum/06/20200419/\">一覧</a>,\n <a href=\"/race/pay/06/20200419/\" title=\"の払戻一覧\">払戻し</a>,\n <a href=\"/?pid=race_list&amp;word=%BB%A9%B7%EE%BE%DE&amp;front=1\">過去の皐月賞</a>,\n <a href=\"/race/movie/202006030811\"><img alt=\"レース映像\" class=\"imgover\" src=\"https://cdn.netkeiba.com/img.db//style/netkeiba.ja/image/race_btn_movie_on.png\"/></a>,\n <a class=\"active\" href=\"https://db.netkeiba.com/race/202006030811/\">結果/払戻</a>,\n <a href=\"https://db.netkeiba.com//?pid=race_board&amp;thread=race&amp;id=202006030811\">掲示板</a>,\n <a href=\"/horse/2017101835/\" id=\"umalink_202006030811\" title=\"コントレイル\">コントレイル</a>,\n <a href=\"/jockey/01014/\" title=\"福永祐一\">福永祐一</a>,\n <a data-theme=\"07003\" href=\"https://www.netkeiba.com/premium/?service=p13\" id=\"a_monthly_goods_link_01\">**</a>,\n <a href=\"/?pid=horse_training&amp;id=2017101835&amp;rid=202006030811\"><img border=\"0\" height=\"13\" src=\"/style/netkeiba.ja/image/ico_oikiri.gif\" width=\"13\"/></a>,\n <a href=\"/?pid=horse_comment&amp;id=2017101835&amp;rid=202006030811\"><img border=\"0\" height=\"13\" src=\"/style/netkeiba.ja/image/ico_comment.gif\" width=\"13\"/></a>,\n <a data-theme=\"07004\" href=\"https://www.netkeiba.com/premium/?service=p13\" id=\"a_monthly_goods_link_02\"><img border=\"0\" height=\"13\" src=\"/style/netkeiba.ja/image/ico_remarks.gif\" width=\"13\"/></a>,\n <a href=\"/trainer/01075/\" title=\"矢作芳人\">矢作芳人</a>,\n <a href=\"/owner/041002/\" title=\"前田晋二\">前田晋二</a>,\n <a href=\"/horse/2017105327/\" id=\"umalink_202006030811\" title=\"サリオス\">サリオス</a>,\n <a href=\"/jockey/05585/\" title=\"レーン\">レーン</a>,\n <a data-theme=\"07003\" href=\"https://www.netkeiba.com/premium/?service=p13\" id=\"a_monthly_goods_link_01\">**</a>,\n <a href=\"/?pid=horse_training&amp;id=2017105327&amp;rid=202006030811\"><img border=\"0\" height=\"13\" src=\"/style/netkeiba.ja/image/ico_oikiri.gif\" width=\"13\"/></a>,\n <a href=\"/?pid=horse_comment&amp;id=2017105327&amp;rid=202006030811\"><img border=\"0\" height=\"13\" src=\"/style/netkeiba.ja/image/ico_comment.gif\" width=\"13\"/></a>,\n <a href=\"/trainer/01070/\" title=\"堀宣行\">堀宣行</a>,\n <a href=\"/owner/506800/\" title=\"シルクレーシング\">シルクレーシング</a>,\n <a href=\"/horse/2017102833/\" id=\"umalink_202006030811\" title=\"ガロアクリーク\">ガロアクリーク</a>,\n <a href=\"/jockey/05596/\" title=\"ヒューイ\">ヒューイ</a>,\n <a data-theme=\"07003\" href=\"https://www.netkeiba.com/premium/?service=p13\" id=\"a_monthly_goods_link_01\">**</a>,\n <a href=\"/?pid=horse_training&amp;id=2017102833&amp;rid=202006030811\"><img border=\"0\" height=\"13\" src=\"/style/netkeiba.ja/image/ico_oikiri.gif\" width=\"13\"/></a>,\n <a href=\"/?pid=horse_comment&amp;id=2017102833&amp;rid=202006030811\"><img border=\"0\" height=\"13\" src=\"/style/netkeiba.ja/image/ico_comment.gif\" width=\"13\"/></a>,\n <a href=\"/trainer/00423/\" title=\"上原博之\">上原博之</a>,\n <a href=\"/owner/482002/\" title=\"水上行雄\">水上行雄</a>,\n <a href=\"/horse/2017101429/\" id=\"umalink_202006030811\" title=\"ウインカーネリアン\">ウインカーネリアン</a>,\n <a href=\"/jockey/01075/\" title=\"田辺裕信\">田辺裕信</a>,\n <a data-theme=\"07003\" href=\"https://www.netkeiba.com/premium/?service=p13\" id=\"a_monthly_goods_link_01\">**</a>,\n <a href=\"/?pid=horse_training&amp;id=2017101429&amp;rid=202006030811\"><img border=\"0\" height=\"13\" src=\"/style/netkeiba.ja/image/ico_oikiri.gif\" width=\"13\"/></a>,\n <a href=\"/?pid=horse_comment&amp;id=2017101429&amp;rid=202006030811\"><img border=\"0\" height=\"13\" src=\"/style/netkeiba.ja/image/ico_comment.gif\" width=\"13\"/></a>,\n <a href=\"/trainer/01097/\" title=\"鹿戸雄一\">鹿戸雄一</a>,\n <a href=\"/owner/494800/\" title=\"ウイン\">ウイン</a>,\n <a href=\"/horse/2017105472/\" id=\"umalink_202006030811\" title=\"サトノフラッグ\">サトノフラッグ</a>,\n <a href=\"/jockey/05339/\" title=\"ルメール\">ルメール</a>,\n <a data-theme=\"07003\" href=\"https://www.netkeiba.com/premium/?service=p13\" id=\"a_monthly_goods_link_01\">**</a>,\n <a href=\"/?pid=horse_training&amp;id=2017105472&amp;rid=202006030811\"><img border=\"0\" height=\"13\" src=\"/style/netkeiba.ja/image/ico_oikiri.gif\" width=\"13\"/></a>,\n <a href=\"/?pid=horse_comment&amp;id=2017105472&amp;rid=202006030811\"><img border=\"0\" height=\"13\" src=\"/style/netkeiba.ja/image/ico_comment.gif\" width=\"13\"/></a>,\n <a href=\"/trainer/00399/\" title=\"国枝栄\">国枝栄</a>,\n <a href=\"/owner/075803/\" title=\"サトミホースカンパニー\">サトミホースカンパニー</a>,\n <a href=\"/horse/2017110026/\" id=\"umalink_202006030811\" title=\"ダーリントンホール\">ダーリントンホール</a>,\n <a href=\"/jockey/05212/\" title=\"Ｍ．デム\">Ｍ．デム</a>,\n <a data-theme=\"07003\" href=\"https://www.netkeiba.com/premium/?service=p13\" id=\"a_monthly_goods_link_01\">**</a>,\n <a href=\"/?pid=horse_training&amp;id=2017110026&amp;rid=202006030811\"><img border=\"0\" height=\"13\" src=\"/style/netkeiba.ja/image/ico_oikiri.gif\" width=\"13\"/></a>,\n <a href=\"/?pid=horse_comment&amp;id=2017110026&amp;rid=202006030811\"><img border=\"0\" height=\"13\" src=\"/style/netkeiba.ja/image/ico_comment.gif\" width=\"13\"/></a>,\n <a data-theme=\"07004\" href=\"https://www.netkeiba.com/premium/?service=p13\" id=\"a_monthly_goods_link_02\"><img border=\"0\" height=\"13\" src=\"/style/netkeiba.ja/image/ico_remarks.gif\" width=\"13\"/></a>,\n <a href=\"/trainer/01126/\" title=\"木村哲也\">木村哲也</a>,\n <a href=\"/owner/003060/\" title=\"ゴドルフィン\">ゴドルフィン</a>,\n <a href=\"/horse/2017101805/\" id=\"umalink_202006030811\" title=\"コルテジア\">コルテジア</a>,\n <a href=\"/jockey/01126/\" title=\"松山弘平\">松山弘平</a>,\n <a data-theme=\"07003\" href=\"https://www.netkeiba.com/premium/?service=p13\" id=\"a_monthly_goods_link_01\">**</a>,\n <a href=\"/?pid=horse_training&amp;id=2017101805&amp;rid=202006030811\"><img border=\"0\" height=\"13\" src=\"/style/netkeiba.ja/image/ico_oikiri.gif\" width=\"13\"/></a>,\n <a href=\"/?pid=horse_comment&amp;id=2017101805&amp;rid=202006030811\"><img border=\"0\" height=\"13\" src=\"/style/netkeiba.ja/image/ico_comment.gif\" width=\"13\"/></a>,\n <a href=\"/trainer/01111/\" title=\"鈴木孝志\">鈴木孝志</a>,\n <a href=\"/owner/948006/\" title=\"前田幸治\">前田幸治</a>,\n <a href=\"/horse/2017105567/\" id=\"umalink_202006030811\" title=\"ヴェルトライゼンデ\">ヴェルトライゼンデ</a>,\n <a href=\"/jockey/01032/\" title=\"池添謙一\">池添謙一</a>,\n <a data-theme=\"07003\" href=\"https://www.netkeiba.com/premium/?service=p13\" id=\"a_monthly_goods_link_01\">**</a>,\n <a href=\"/?pid=horse_training&amp;id=2017105567&amp;rid=202006030811\"><img border=\"0\" height=\"13\" src=\"/style/netkeiba.ja/image/ico_oikiri.gif\" width=\"13\"/></a>,\n <a href=\"/?pid=horse_comment&amp;id=2017105567&amp;rid=202006030811\"><img border=\"0\" height=\"13\" src=\"/style/netkeiba.ja/image/ico_comment.gif\" width=\"13\"/></a>,\n <a href=\"/trainer/01071/\" title=\"池江泰寿\">池江泰寿</a>,\n <a href=\"/owner/226800/\" title=\"サンデーレーシング\">サンデーレーシング</a>,\n <a href=\"/horse/2017105973/\" id=\"umalink_202006030811\" title=\"ブラックホール\">ブラックホール</a>,\n <a href=\"/jockey/01150/\" title=\"石川裕紀\">石川裕紀</a>,\n <a data-theme=\"07003\" href=\"https://www.netkeiba.com/premium/?service=p13\" id=\"a_monthly_goods_link_01\">**</a>,\n <a href=\"/?pid=horse_training&amp;id=2017105973&amp;rid=202006030811\"><img border=\"0\" height=\"13\" src=\"/style/netkeiba.ja/image/ico_oikiri.gif\" width=\"13\"/></a>,\n <a href=\"/?pid=horse_comment&amp;id=2017105973&amp;rid=202006030811\"><img border=\"0\" height=\"13\" src=\"/style/netkeiba.ja/image/ico_comment.gif\" width=\"13\"/></a>,\n <a href=\"/trainer/01020/\" title=\"相沢郁\">相沢郁</a>,\n <a href=\"/owner/683002/\" title=\"芹澤精一\">芹澤精一</a>,\n <a href=\"/horse/2017102170/\" id=\"umalink_202006030811\" title=\"ディープボンド\">ディープボンド</a>,\n <a href=\"/jockey/00660/\" title=\"横山典弘\">横山典弘</a>,\n <a data-theme=\"07003\" href=\"https://www.netkeiba.com/premium/?service=p13\" id=\"a_monthly_goods_link_01\">**</a>,\n <a href=\"/?pid=horse_training&amp;id=2017102170&amp;rid=202006030811\"><img border=\"0\" height=\"13\" src=\"/style/netkeiba.ja/image/ico_oikiri.gif\" width=\"13\"/></a>,\n <a href=\"/?pid=horse_comment&amp;id=2017102170&amp;rid=202006030811\"><img border=\"0\" height=\"13\" src=\"/style/netkeiba.ja/image/ico_comment.gif\" width=\"13\"/></a>,\n <a href=\"/trainer/01058/\" title=\"大久保龍\">大久保龍</a>,\n <a href=\"/owner/041002/\" title=\"前田晋二\">前田晋二</a>,\n <a href=\"/horse/2017105241/\" id=\"umalink_202006030811\" title=\"レクセランス\">レクセランス</a>,\n <a href=\"/jockey/01102/\" title=\"北村友一\">北村友一</a>,\n <a data-theme=\"07003\" href=\"https://www.netkeiba.com/premium/?service=p13\" id=\"a_monthly_goods_link_01\">**</a>,\n <a href=\"/?pid=horse_training&amp;id=2017105241&amp;rid=202006030811\"><img border=\"0\" height=\"13\" src=\"/style/netkeiba.ja/image/ico_oikiri.gif\" width=\"13\"/></a>,\n <a href=\"/?pid=horse_comment&amp;id=2017105241&amp;rid=202006030811\"><img border=\"0\" height=\"13\" src=\"/style/netkeiba.ja/image/ico_comment.gif\" width=\"13\"/></a>,\n <a data-theme=\"07004\" href=\"https://www.netkeiba.com/premium/?service=p13\" id=\"a_monthly_goods_link_02\"><img border=\"0\" height=\"13\" src=\"/style/netkeiba.ja/image/ico_remarks.gif\" width=\"13\"/></a>,\n <a href=\"/trainer/01144/\" title=\"池添学\">池添学</a>,\n <a href=\"/owner/506800/\" title=\"シルクレーシング\">シルクレーシング</a>,\n <a href=\"/horse/2017110067/\" id=\"umalink_202006030811\" title=\"アメリカンシード\">アメリカンシード</a>,\n <a href=\"/jockey/01127/\" title=\"丸山元気\">丸山元気</a>,\n <a data-theme=\"07003\" href=\"https://www.netkeiba.com/premium/?service=p13\" id=\"a_monthly_goods_link_01\">**</a>,\n <a href=\"/?pid=horse_training&amp;id=2017110067&amp;rid=202006030811\"><img border=\"0\" height=\"13\" src=\"/style/netkeiba.ja/image/ico_oikiri.gif\" width=\"13\"/></a>,\n <a href=\"/?pid=horse_comment&amp;id=2017110067&amp;rid=202006030811\"><img border=\"0\" height=\"13\" src=\"/style/netkeiba.ja/image/ico_comment.gif\" width=\"13\"/></a>,\n <a href=\"/trainer/01062/\" title=\"藤岡健一\">藤岡健一</a>,\n <a href=\"/owner/367008/\" title=\"吉澤克己\">吉澤克己</a>,\n <a href=\"/horse/2017105434/\" id=\"umalink_202006030811\" title=\"マイラプソディ\">マイラプソディ</a>,\n <a href=\"/jockey/00666/\" title=\"武豊\">武豊</a>,\n <a data-theme=\"07003\" href=\"https://www.netkeiba.com/premium/?service=p13\" id=\"a_monthly_goods_link_01\">**</a>,\n <a href=\"/?pid=horse_training&amp;id=2017105434&amp;rid=202006030811\"><img border=\"0\" height=\"13\" src=\"/style/netkeiba.ja/image/ico_oikiri.gif\" width=\"13\"/></a>,\n <a href=\"/?pid=horse_comment&amp;id=2017105434&amp;rid=202006030811\"><img border=\"0\" height=\"13\" src=\"/style/netkeiba.ja/image/ico_comment.gif\" width=\"13\"/></a>,\n <a href=\"/trainer/01061/\" title=\"友道康夫\">友道康夫</a>,\n <a href=\"/owner/002803/\" title=\"キーファーズ\">キーファーズ</a>,\n <a href=\"/horse/2017103572/\" id=\"umalink_202006030811\" title=\"ビターエンダー\">ビターエンダー</a>,\n <a href=\"/jockey/01092/\" title=\"津村明秀\">津村明秀</a>,\n <a data-theme=\"07003\" href=\"https://www.netkeiba.com/premium/?service=p13\" id=\"a_monthly_goods_link_01\">**</a>,\n <a href=\"/?pid=horse_training&amp;id=2017103572&amp;rid=202006030811\"><img border=\"0\" height=\"13\" src=\"/style/netkeiba.ja/image/ico_oikiri.gif\" width=\"13\"/></a>,\n <a href=\"/?pid=horse_comment&amp;id=2017103572&amp;rid=202006030811\"><img border=\"0\" height=\"13\" src=\"/style/netkeiba.ja/image/ico_comment.gif\" width=\"13\"/></a>,\n <a href=\"/trainer/01020/\" title=\"相沢郁\">相沢郁</a>,\n <a href=\"/owner/547800/\" title=\"ヒダカ・ブリーダーズ・ユニオン\">ヒダカ・ブリーダーズ・ユニオン</a>,\n <a href=\"/horse/2017105194/\" id=\"umalink_202006030811\" title=\"ラインベック\">ラインベック</a>,\n <a href=\"/jockey/05203/\" title=\"岩田康誠\">岩田康誠</a>,\n <a data-theme=\"07003\" href=\"https://www.netkeiba.com/premium/?service=p13\" id=\"a_monthly_goods_link_01\">**</a>,\n <a href=\"/?pid=horse_training&amp;id=2017105194&amp;rid=202006030811\"><img border=\"0\" height=\"13\" src=\"/style/netkeiba.ja/image/ico_oikiri.gif\" width=\"13\"/></a>,\n <a href=\"/?pid=horse_comment&amp;id=2017105194&amp;rid=202006030811\"><img border=\"0\" height=\"13\" src=\"/style/netkeiba.ja/image/ico_comment.gif\" width=\"13\"/></a>,\n <a href=\"/trainer/01061/\" title=\"友道康夫\">友道康夫</a>,\n <a href=\"/owner/708800/\" title=\"金子真人ホールディングス\">金子真人ホールディングス</a>,\n <a href=\"/horse/2017101299/\" id=\"umalink_202006030811\" title=\"クリスタルブラック\">クリスタルブラック</a>,\n <a href=\"/jockey/00733/\" title=\"吉田豊\">吉田豊</a>,\n <a data-theme=\"07003\" href=\"https://www.netkeiba.com/premium/?service=p13\" id=\"a_monthly_goods_link_01\">**</a>,\n <a href=\"/?pid=horse_training&amp;id=2017101299&amp;rid=202006030811\"><img border=\"0\" height=\"13\" src=\"/style/netkeiba.ja/image/ico_oikiri.gif\" width=\"13\"/></a>,\n <a href=\"/?pid=horse_comment&amp;id=2017101299&amp;rid=202006030811\"><img border=\"0\" height=\"13\" src=\"/style/netkeiba.ja/image/ico_comment.gif\" width=\"13\"/></a>,\n <a data-theme=\"07004\" href=\"https://www.netkeiba.com/premium/?service=p13\" id=\"a_monthly_goods_link_02\"><img border=\"0\" height=\"13\" src=\"/style/netkeiba.ja/image/ico_remarks.gif\" width=\"13\"/></a>,\n <a href=\"/trainer/01134/\" title=\"高橋文雅\">高橋文雅</a>,\n <a href=\"/owner/548009/\" title=\"岡田勇\">岡田勇</a>,\n <a href=\"/horse/2017101833/\" id=\"umalink_202006030811\" title=\"キメラヴェリテ\">キメラヴェリテ</a>,\n <a href=\"/jockey/01116/\" title=\"藤岡康太\">藤岡康太</a>,\n <a data-theme=\"07003\" href=\"https://www.netkeiba.com/premium/?service=p13\" id=\"a_monthly_goods_link_01\">**</a>,\n <a href=\"/?pid=horse_training&amp;id=2017101833&amp;rid=202006030811\"><img border=\"0\" height=\"13\" src=\"/style/netkeiba.ja/image/ico_oikiri.gif\" width=\"13\"/></a>,\n <a href=\"/?pid=horse_comment&amp;id=2017101833&amp;rid=202006030811\"><img border=\"0\" height=\"13\" src=\"/style/netkeiba.ja/image/ico_comment.gif\" width=\"13\"/></a>,\n <a data-theme=\"07004\" href=\"https://www.netkeiba.com/premium/?service=p13\" id=\"a_monthly_goods_link_02\"><img border=\"0\" height=\"13\" src=\"/style/netkeiba.ja/image/ico_remarks.gif\" width=\"13\"/></a>,\n <a href=\"/trainer/01039/\" title=\"中竹和也\">中竹和也</a>,\n <a href=\"/owner/944030/\" title=\"加藤誠\">加藤誠</a>,\n <a href=\"/horse/2017101755/\" id=\"umalink_202006030811\" title=\"テンピン\">テンピン</a>,\n <a href=\"/jockey/01141/\" title=\"中井裕二\">中井裕二</a>,\n <a data-theme=\"07003\" href=\"https://www.netkeiba.com/premium/?service=p13\" id=\"a_monthly_goods_link_01\">**</a>,\n <a href=\"/?pid=horse_training&amp;id=2017101755&amp;rid=202006030811\"><img border=\"0\" height=\"13\" src=\"/style/netkeiba.ja/image/ico_oikiri.gif\" width=\"13\"/></a>,\n <a href=\"/?pid=horse_comment&amp;id=2017101755&amp;rid=202006030811\"><img border=\"0\" height=\"13\" src=\"/style/netkeiba.ja/image/ico_comment.gif\" width=\"13\"/></a>,\n <a href=\"/trainer/00438/\" title=\"安田隆行\">安田隆行</a>,\n <a href=\"/owner/059700/\" title=\"ユアストーリー\">ユアストーリー</a>,\n <a href=\"/?pid=diary_snapshot&amp;snap=aHR0cDovL2RiLm5ldGtlaWJhLmNvbS8/cGlkPXJhY2VfZGV0YWlsJmlkPTIwMjAwNjAzMDgxMQ==&amp;meta=race_result\" title=\"ひとこと日記を書く\"><img class=\"imgover\" src=\"https://cdn.netkeiba.com/img.db//style/netkeiba.ja/image/prof_btn_diary_write_01.png\"/></a>,\n <a data-theme=\"07002\" href=\"/?pid=info&amp;mode=premium\" id=\"a_monthly_goods_link_22\">馬場指数</a>,\n <a data-theme=\"07002\" href=\"https://regist.netkeiba.com/?pid=premium\" id=\"a_monthly_goods_link_23\">プレミアサービス案内へ</a>,\n <a data-theme=\"07005\" href=\"/?pid=info&amp;mode=premium\" id=\"a_monthly_goods_link_52\">?</a>,\n <a data-theme=\"07005\" href=\"/?pid=info&amp;mode=premium\" id=\"a_monthly_goods_link_53\">馬場コメント</a>,\n <a data-theme=\"07005\" href=\"https://regist.netkeiba.com/?pid=premium\" id=\"a_monthly_goods_link_54\">プレミアサービス案内へ</a>,\n <a data-theme=\"07006\" href=\"/?pid=info&amp;mode=premium\" id=\"a_monthly_goods_link_62\">?</a>,\n <a data-theme=\"07006\" href=\"/?pid=info&amp;mode=premium\" id=\"a_monthly_goods_link_63\">レース分析</a>,\n <a data-theme=\"07006\" href=\"https://regist.netkeiba.com/?pid=premium\" id=\"a_monthly_goods_link_64\">プレミアサービス案内へ</a>,\n <a data-theme=\"07009\" href=\"/?pid=info&amp;mode=premium\" id=\"a_monthly_goods_link_92\">?</a>,\n <a data-theme=\"07009\" href=\"/?pid=info&amp;mode=premium\" id=\"a_monthly_goods_link_93\">レース後の短評</a>,\n <a data-theme=\"07009\" href=\"https://regist.netkeiba.com/?pid=premium\" id=\"a_monthly_goods_link_94\">プレミアサービス案内へ</a>,\n <a href=\"javascript:void(0)\" title=\"ページトップへ\"></a>,\n <a href=\"https://www.netkeiba.com/?rf=footer\" title=\"netkeiba.com\">\n <img alt=\"netkeiba.com\" src=\"https://cdn.netkeiba.com/img.www/style/netkeiba.ja/image/common/netkeiba_logo01.png\"/>\n </a>,\n <a href=\"https://news.netkeiba.com/?rf=footer\" title=\"ニュース\">ニュース</a>,\n <a href=\"https://race.netkeiba.com/top/?rf=footer\" title=\"レース\">レース</a>,\n <a href=\"https://yoso.netkeiba.com/?rf=footer\" title=\"ウマい馬券\">ウマい馬券</a>,\n <a href=\"https://news.netkeiba.com/?pid=column_top&amp;rf=footer\" title=\"コラム\">コラム</a>,\n <a href=\"https://tv.netkeiba.com/?rf=footer\" title=\"netkeibaTV\">netkeibaTV</a>,\n <a href=\"https://oldnar.netkeiba.com/?rf=footer\" title=\"地方競馬\">地方競馬</a>,\n <a href=\"https://db.netkeiba.com/?rf=footer\" title=\"データベース\">データベース</a>,\n <a href=\"https://books.netkeiba.com/?rf=footer\" title=\"ブックス\">ブックス</a>,\n <a href=\"https://orepro.netkeiba.com/?rf=footer\" title=\"俺プロ\">俺プロ</a>,\n <a href=\"https://owner.netkeiba.com/?rf=footer\" title=\"一口馬主\">一口馬主</a>,\n <a href=\"https://pog.netkeiba.com/?rf=footer\" title=\"POG\">POG</a>,\n <a href=\"https://bbs.pc.keiba.findfriends.jp/?rf=footer\" title=\"競馬広場\">競馬広場</a>,\n <a href=\"https://dir.netkeiba.com/keibamatome/index.html?rf=footer\" title=\"まとめ\">まとめ</a>,\n <a href=\"https://www.netkeiba.com/paper/?rf=footer\" title=\"競馬新聞\">競馬新聞</a>,\n <a href=\"https://race.netkeiba.com/bookmark/bookmark.html?rf=footer\" title=\"お気に入り馬\">お気に入り馬</a>,\n <a href=\"https://regist.netkeiba.com/?rf=footer\" title=\"アカウント\">アカウント</a>,\n <a href=\"https://info.netkeiba.com/?rf=footer\" title=\"お知らせ\">お知らせ</a>,\n <a href=\"https://regist.netkeiba.com/?pid=premium&amp;rf=footer\" title=\"プレミアムサービスのご案内\">プレミアムサービスのご案内</a>,\n <a href=\"https://regist.netkeiba.com/?pid=help&amp;rf=footer\" title=\"よくある質問・お問い合わせ\">よくある質問・お問い合わせ</a>,\n <a href=\"https://www.netkeiba.com/recruit/?rf=footer\" title=\"採用情報\">採用情報</a>,\n <a href=\"https://www.netkeiba.com/info/ad/?rf=footer\" title=\"広告掲載について\">広告掲載について</a>,\n <a href=\"https://www.netkeiba.com/info/kiyaku.html?rf=footer\" title=\"利用規約\">利用規約</a>,\n <a href=\"https://www.netdreamers.co.jp/company/about/privacy.html?rf=footer\" title=\"プライバシーポリシー\">プライバシーポリシー</a>,\n <a href=\"https://www.netkeiba.com/info/guide.html?rf=footer\" title=\"投稿ガイドライン\">投稿ガイドライン</a>,\n <a href=\"https://www.netkeiba.com/info/tokusyo.html?rf=footer\" title=\"特定商取引法に基づく表記\">特定商取引法に基づく表記</a>,\n <a href=\"https://www.netdreamers.co.jp/?rf=footer\" title=\"運営会社\">運営会社</a>,\n <a href=\"https://itunes.apple.com/jp/app/id464562684/\" title=\"Appstore\"><img alt=\"Appstore\" class=\"\" src=\"https://cdn.netkeiba.com/img.www/style/netkeiba.ja/image/common/bnr_appstore_01.png\"/></a>,\n <a href=\"https://play.google.com/store/apps/details?id=jp.co.netdreamers.netkeiba\" title=\"googleplay\"><img alt=\"googleplay\" class=\"\" src=\"https://cdn.netkeiba.com/img.www/style/netkeiba.ja/image/common/bnr_googleplay_01.png\"/></a>,\n <a class=\"Tw\" href=\"https://twitter.com/netkeiba\" title=\"公式 Twitter\"></a>,\n <a class=\"Fb\" href=\"https://ja-jp.facebook.com/netkeiba\" title=\"公式 Facebook\"></a>,\n <a class=\"Line\" href=\"https://line.me/R/ti/p/%40oa-netkeiba\" title=\"LINE\"></a>,\n <a class=\"Yt\" href=\"http://www.youtube.com/user/netkeibaTV\" title=\"netkeibaチャンネル\"></a>,\n <a class=\"Ig\" href=\"https://www.instagram.com/netkeiba/\" title=\"Instagram\"></a>,\n <a class=\"Rss\" href=\"https://www.netkeiba.com/?pid=rss\" title=\"RSS\"></a>,\n <a href=\"https://chiki.netkeiba.com/?rf=footer\" target=\"_blank\" title=\"チキチキダービー\">目指せ最強オーナー！ <strong>チキチキダービー</strong></a>,\n <a href=\"https://derby.pzga.jp/?rf=footer\" target=\"_blank\" title=\"パズルダービー\">爽快！競馬パズルゲーム <strong>パズルダービー</strong></a>,\n <a href=\"https://www.netkeiba.com/game/umasta.html?rf=footer\" target=\"_blank\" title=\"うまいるスタジアム\">みんなの愛馬とバトル！ <strong>うまいるスタジアム</strong></a>,\n <a href=\"https://sp.baseball.findfriends.jp/?rf=footer\" target=\"_blank\" title=\"週刊ベースボールONLINE\">徹底取材！野球情報は <strong>週刊ベースボールONLINE</strong></a>,\n <a href=\"https://sp.golf.findfriends.jp/?rf=footer\" target=\"_blank\" title=\"ワッグルオンライン\">ゴルフレッスン情報サイト <strong>ワッグルオンライン</strong></a>,\n <a href=\"https://recipe.sp.findfriends.jp/?rf=footer\" target=\"_blank\" title=\"KATSUYOレシピ\">小林カツ代直伝！ <strong>KATSUYOレシピ</strong></a>,\n <a href=\"https://sp.findfriends.jp/?rf=footer\" target=\"_blank\" title=\"Find\">趣味でつながる総合掲示板コミュニティ <strong>Find</strong></a>,\n <a href=\"https://smart.lets-ktai.jp/?rf=footer\" target=\"_blank\" title=\"SMART会員証\">もっともセキュアな店舗売上向上アプリ <strong>SMART会員証</strong></a>,\n <a href=\"https://lets-ktai.jp/?rf=footer\" target=\"_blank\" title=\"Let'sケータイ！\">スマホサイト制作ASP <strong>Let'sケータイ！</strong></a>,\n <a href=\"https://webspiral.jp/?rf=footer\" target=\"_blank\" title=\"WEB SPIRAL\">サイト運営を劇的に効率化するCMS <strong>WEB SPIRAL</strong></a>]"
     },
     "metadata": {},
     "execution_count": 294
    }
   ],
   "source": [
    "soup.find_all(\"a\")#aタグのすべての要素を取得できます"
   ]
  },
  {
   "cell_type": "code",
   "execution_count": 295,
   "metadata": {},
   "outputs": [
    {
     "output_type": "stream",
     "name": "stdout",
     "text": "<class 'bs4.element.ResultSet'>\n"
    }
   ],
   "source": [
    "print(type(soup.find_all(\"a\")))"
   ]
  },
  {
   "cell_type": "code",
   "execution_count": 296,
   "metadata": {},
   "outputs": [
    {
     "output_type": "stream",
     "name": "stdout",
     "text": "240\n<a href=\"http://www.netkeiba.com/?pid=go_sp\" title=\"スマートフォン版へ\"><img alt=\"スマートフォン版へ\" class=\"imgover\" src=\"https://cdn.netkeiba.com/img.www/style/netkeiba.ja/image/sp_nk_link_02.png\"/></a>\n"
    }
   ],
   "source": [
    "rs = soup.find_all(\"a\")\n",
    "#list型と同様に扱えます\n",
    "print(len(rs))\n",
    "print(rs[0])\n"
   ]
  },
  {
   "cell_type": "code",
   "execution_count": 297,
   "metadata": {},
   "outputs": [
    {
     "output_type": "execute_result",
     "data": {
      "text/plain": "'a'"
     },
     "metadata": {},
     "execution_count": 297
    }
   ],
   "source": [
    "soup.find(\"a\").name#Tagオブジェクトのname属性でタグ名を取得できる。 "
   ]
  },
  {
   "cell_type": "code",
   "execution_count": 298,
   "metadata": {},
   "outputs": [
    {
     "output_type": "execute_result",
     "data": {
      "text/plain": "[<img alt=\"スマートフォン版へ\" class=\"imgover\" src=\"https://cdn.netkeiba.com/img.www/style/netkeiba.ja/image/sp_nk_link_02.png\"/>]"
     },
     "metadata": {},
     "execution_count": 298
    }
   ],
   "source": [
    "soup.find(\"a\").contents#contents属性で子要素のリストを取得できる。"
   ]
  },
  {
   "cell_type": "code",
   "execution_count": 299,
   "metadata": {},
   "outputs": [
    {
     "output_type": "execute_result",
     "data": {
      "text/plain": "<div class=\"data_intro\">\n<dl class=\"racedata fc\">\n<dt>\n11 R\n</dt>\n<dd>\n<h1>第80回皐月賞(G1)<!--img src=\"style/netkeiba.ja/image/race_grade_g2_01.png\" alt=\"\"--></h1>\n<p>\n<diary_snap_cut>\n<span>芝右2000m / 天候 : 晴 / 芝 : 稍重 / 発走 : 15:40</span><br/>\n<diary_snap_cut>\n<a href=\"/?pid=race_list&amp;word=%BB%A9%B7%EE%BE%DE&amp;front=1\">過去の皐月賞</a>\n</diary_snap_cut>\n</diary_snap_cut></p>\n</dd>\n</dl>\n<p class=\"smalltxt\">2020年4月19日 3回中山8日目 3歳オープン  (国際) 牡・牝(指)(定量)</p>\n<diary_snap_cut>\n<ul class=\"btn_link_list fc\">\n<li class=\"race_btn_MOVIE end\">\n<a href=\"/race/movie/202006030811\"><img alt=\"レース映像\" class=\"imgover\" src=\"https://cdn.netkeiba.com/img.db//style/netkeiba.ja/image/race_btn_movie_on.png\"/></a>\n</li>\n</ul>\n</diary_snap_cut>\n</div>"
     },
     "metadata": {},
     "execution_count": 299
    }
   ],
   "source": [
    "soup.find(\"div\", class_=\"data_intro\")#キーワード引数でclassなどの属性を指定できる。classは予約語なのでclass_を使うこと"
   ]
  },
  {
   "cell_type": "code",
   "execution_count": 300,
   "metadata": {},
   "outputs": [
    {
     "output_type": "execute_result",
     "data": {
      "text/plain": "'\\n\\n\\n11 R\\n\\n\\n第80回皐月賞(G1)\\n\\n\\n芝右2000m\\xa0/\\xa0天候 : 晴\\xa0/\\xa0芝 : 稍重\\xa0/\\xa0発走 : 15:40\\n\\n過去の皐月賞\\n\\n\\n\\n\\n2020年4月19日 3回中山8日目 3歳オープン\\xa0\\xa0(国際) 牡・牝(指)(定量)\\n\\n\\n\\n\\n\\n\\n\\n'"
     },
     "metadata": {},
     "execution_count": 300
    }
   ],
   "source": [
    "soup.find(\"div\", class_=\"data_intro\").get_text()#text属性で要素内のすべての文字列を結合した文字列を取得できる。"
   ]
  },
  {
   "cell_type": "code",
   "execution_count": 301,
   "metadata": {},
   "outputs": [
    {
     "output_type": "stream",
     "name": "stdout",
     "text": "<class 'str'>\n"
    }
   ],
   "source": [
    "print(type(soup.find(\"div\", class_=\"data_intro\").get_text()))"
   ]
  },
  {
   "cell_type": "markdown",
   "metadata": {},
   "source": [
    "#### 目的の値をスクレイピングするまでの流れ  \n",
    "  \n",
    "  \n",
    "![](https://github.com/Tomo-Horiuchi/predict_keiba/blob/master/image/4.png?raw=true)\n",
    "![](https://github.com/Tomo-Horiuchi/predict_keiba/blob/master/image/5.png?raw=true)\n",
    "![](https://github.com/Tomo-Horiuchi/predict_keiba/blob/master/image/6.png?raw=true)\n",
    "![](https://github.com/Tomo-Horiuchi/predict_keiba/blob/master/image/7.png?raw=true)\n",
    "![](https://github.com/Tomo-Horiuchi/predict_keiba/blob/master/image/8.png?raw=true)\n",
    "![](https://github.com/Tomo-Horiuchi/predict_keiba/blob/master/image/9.png?raw=true)"
   ]
  },
  {
   "cell_type": "markdown",
   "metadata": {},
   "source": [
    "目的の数値はclass属性が\"race_table_01 nk_tb_common\"のtableタグで囲まれた二番目のtrタグのにあります  \n",
    "更にそのtrタグのに囲まれた１番目のaタグのにあります"
   ]
  },
  {
   "cell_type": "code",
   "execution_count": 302,
   "metadata": {},
   "outputs": [],
   "source": [
    "response = requests.get('https://db.netkeiba.com/race/202006030811.html')\n",
    "response.encoding = response.apparent_encoding \n",
    "html = response.text\n",
    "soup = BeautifulSoup(html, 'html.parser')# "
   ]
  },
  {
   "cell_type": "code",
   "execution_count": 303,
   "metadata": {},
   "outputs": [
    {
     "output_type": "execute_result",
     "data": {
      "text/plain": "=\"/trainer/01111/\" title=\"鈴木孝志\">鈴木孝志</a>\n</td>\n<diary_snap_cut>\n<td class=\"txt_l w2ml\" nowrap=\"nowrap\">\n<a href=\"/owner/948006/\" title=\"前田幸治\">前田幸治</a>\n</td>\n<td class=\"txt_r\" nowrap=\"nowrap\"></td>\n</diary_snap_cut>\n</tr><tr>\n<td class=\"txt_r\" nowrap=\"nowrap\">8</td>\n<td align=\"right\" class=\"w8ml\" nowrap=\"nowrap\"><span>8</span></td>\n<td class=\"txt_r\" nowrap=\"nowrap\">17</td>\n<td class=\"txt_l\" nowrap=\"nowrap\">\n<a href=\"/horse/2017105567/\" id=\"umalink_202006030811\" title=\"ヴェルトライゼンデ\">ヴェルトライゼンデ</a>\n</td>\n<td class=\"txt_c\" nowrap=\"nowrap\">牡3</td>\n<td class=\"txt_c\" nowrap=\"nowrap\">57</td>\n<td class=\"txt_l\" nowrap=\"nowrap\">\n<a href=\"/jockey/01032/\" title=\"池添謙一\">池添謙一</a>\n</td>\n<td class=\"txt_r\" nowrap=\"nowrap\">2:01.9</td>\n<td class=\"txt_c\" nowrap=\"nowrap\">ハナ</td>\n<diary_snap_cut>\n<td class=\"speed_index bml\" nowrap=\"nowrap\">\n<div class=\"txt_c\">\n<a data-theme=\"07003\" href=\"https://www.netkeiba.com/premium/?service=p13\" id=\"a_monthly_goods_link_01\">**</a>\n</div>\n</td>\n<td nowrap=\"nowrap\">7-7-8-9</td>\n<td class=\"txt_c\" nowrap=\"nowrap\"><span>36.3</span></td>\n</diary_snap_cut>\n<td class=\"txt_r\" nowrap=\"nowrap\">13.0</td>\n<td align=\"right\" class=\"bml\" nowrap=\"nowrap\"><span>4</span></td>\n<td nowrap=\"nowrap\">486(-4)</td>\n<diary_snap_cut>\n<td class=\"txt_c\" nowrap=\"nowrap\">\n<a href=\"/?pid=horse_training&amp;id=2017105567&amp;rid=202006030811\"><img border=\"0\" height=\"13\" src=\"/style/netkeiba.ja/image/ico_oikiri.gif\" width=\"13\"/></a>\n</td>\n<td class=\"txt_c\" nowrap=\"nowrap\">\n<a href=\"/?pid=horse_comment&amp;id=2017105567&amp;rid=202006030811\"><img border=\"0\" height=\"13\" src=\"/style/netkeiba.ja/image/ico_comment.gif\" width=\"13\"/></a>\n</td>\n<td nowrap=\"nowrap\">\n</td>\n</diary_snap_cut>\n<td class=\"txt_l\" nowrap=\"nowrap\">\n[西]\n<a href=\"/trainer/01071/\" title=\"池江泰寿\">池江泰寿</a>\n</td>\n<diary_snap_cut>\n<td class=\"txt_l w8ml\" nowrap=\"nowrap\">\n<a href=\"/owner/226800/\" title=\"サンデーレーシング\">サンデーレーシング</a>\n</td>\n<td class=\"txt_r\" nowrap=\"nowrap\"></td>\n</diary_snap_cut>\n</tr><tr>\n<td class=\"txt_r\" nowrap=\"nowrap\">9</td>\n<td align=\"right\" class=\"w5ml\" nowrap=\"nowrap\"><span>5</span></td>\n<td class=\"txt_r\" nowrap=\"nowrap\">9</td>\n<td class=\"txt_l\" nowrap=\"nowrap\">\n<a href=\"/horse/2017105973/\" id=\"umalink_202006030811\" title=\"ブラックホール\">ブラックホール</a>\n</td>\n<td class=\"txt_c\" nowrap=\"nowrap\">牡3</td>\n<td class=\"txt_c\" nowrap=\"nowrap\">57</td>\n<td class=\"txt_l\" nowrap=\"nowrap\">\n<a href=\"/jockey/01150/\" title=\"石川裕紀\">石川裕紀</a>\n</td>\n<td class=\"txt_r\" nowrap=\"nowrap\">2:02.1</td>\n<td class=\"txt_c\" nowrap=\"nowrap\">1.1/4</td>\n<diary_snap_cut>\n<td class=\"speed_index bml\" nowrap=\"nowrap\">\n<div class=\"txt_c\">\n<a data-theme=\"07003\" href=\"https://www.netkeiba.com/premium/?service=p13\" id=\"a_monthly_goods_link_01\">**</a>\n</div>\n</td>\n<td nowrap=\"nowrap\">17-18-18-17</td>\n<td class=\"txt_c\" nowrap=\"nowrap\"><span>35.7</span></td>\n</diary_snap_cut>\n<td class=\"txt_r\" nowrap=\"nowrap\">99.5</td>\n<td align=\"right\" class=\"bml\" nowrap=\"nowrap\"><span>12</span></td>\n<td nowrap=\"nowrap\">432(+2)</td>\n<diary_snap_cut>\n<td class=\"txt_c\" nowrap=\"nowrap\">\n<a href=\"/?pid=horse_training&amp;id=2017105973&amp;rid=202006030811\"><img border=\"0\" height=\"13\" src=\"/style/netkeiba.ja/image/ico_oikiri.gif\" width=\"13\"/></a>\n</td>\n<td class=\"txt_c\" nowrap=\"nowrap\">\n<a href=\"/?pid=horse_comment&amp;id=2017105973&amp;rid=202006030811\"><img border=\"0\" height=\"13\" src=\"/style/netkeiba.ja/image/ico_comment.gif\" width=\"13\"/></a>\n</td>\n<td nowrap=\"nowrap\">\n</td>\n</diary_snap_cut>\n<td class=\"txt_l\" nowrap=\"nowrap\">\n[東]\n<a href=\"/trainer/01020/\" title=\"相沢郁\">相沢郁</a>\n</td>\n<diary_snap_cut>\n<td class=\"txt_l w5ml\" nowrap=\"nowrap\">\n<a href=\"/owner/683002/\" title=\"芹澤精一\">芹澤精一</a>\n</td>\n<td class=\"txt_r\" nowrap=\"nowrap\"></td>\n</diary_snap_cut>\n</tr><tr>\n<td class=\"txt_r\" nowrap=\"nowrap\">10</td>\n<td align=\"right\" class=\"w3ml\" nowrap=\"nowrap\"><span>3</span></td>\n<td class=\"txt_r\" nowrap=\"nowrap\">6</td>\n<td class=\"txt_l\" nowrap=\"nowrap\">\n<a href=\"/horse/2017102170/\" id=\"umalink_202006030811\" title=\"ディープボンド\">ディープボンド</a>\n</td>\n<td class=\"txt_c\" nowrap=\"nowrap\">牡3</td>\n<td class=\"txt_c\" nowrap=\"nowrap\">57</td>\n<td class=\"txt_l\" nowrap=\"nowrap\">\n<a href=\"/jockey/00660/\" title=\"横山典弘\">横山典弘</a>\n</td>\n<td class=\"txt_r\" nowrap=\"nowrap\">2:02.1</td>\n<td class=\"txt_c\" nowrap=\"nowrap\">アタマ</td>\n<diary_snap_cut>\n<td class=\"speed_index bml\" nowrap=\"nowrap\">\n<div class=\"txt_c\">\n<a data-theme=\"07003\" href=\"https://www.netkeiba.com/premium/?service=p13\" id=\"a_monthly_goods_link_01\">**</a>\n</div>\n</td>\n<td nowrap=\"nowrap\">4-4-4-4</td>\n<td class=\"txt_c\" nowrap=\"nowrap\"><span>36.8</span></td>\n</diary_snap_cut>\n<td class=\"txt_r\" nowrap=\"nowrap\">360.9</td>\n<td align=\"right\" class=\"bml\" nowrap=\"nowrap\"><span>18</span></td>\n<td nowrap=\"nowrap\">484(-6)</td>\n<diary_snap_cut>\n<td class=\"txt_c\" nowrap=\"nowrap\">\n<a href=\"/?pid=horse_training&amp;id=2017102170&amp;rid=202006030811\"><img border=\"0\" height=\"13\" src=\"/style/netkeiba.ja/image/ico_oikiri.gif\" width=\"13\"/></a>\n</td>\n<td class=\"txt_c\" nowrap=\"nowrap\">\n<a href=\"/?pid=horse_comment&amp;id=2017102170&amp;rid=202006030811\"><img border=\"0\" height=\"13\" src=\"/style/netkeiba.ja/image/ico_comment.gif\" width=\"13\"/></a>\n</td>\n<td nowrap=\"nowrap\">\n</td>\n</diary_snap_cut>\n<td class=\"txt_l\" nowrap=\"nowrap\">\n[西]\n<a href=\"/trainer/01058/\" title=\"大久保龍\">大久保龍</a>\n</td>\n<diary_snap_cut>\n<td class=\"txt_l w3ml\" nowrap=\"nowrap\">\n<a href=\"/owner/041002/\" title=\"前田晋二\">前田晋二</a>\n</td>\n<td class=\"txt_r\" nowrap=\"nowrap\"></td>\n</diary_snap_cut>\n</tr><tr>\n<td class=\"txt_r\" nowrap=\"nowrap\">11</td>\n<td align=\"right\" class=\"w1ml\" nowrap=\"nowrap\"><span>1</span></td>\n<td class=\"txt_r\" nowrap=\"nowrap\">2</td>\n<td class=\"txt_l\" nowrap=\"nowrap\">\n<a href=\"/horse/2017105241/\" id=\"umalink_202006030811\" title=\"レクセランス\">レクセランス</a>\n</td>\n<td class=\"txt_c\" nowrap=\"nowrap\">牡3</td>\n<td class=\"txt_c\" nowrap=\"nowrap\">57</td>\n<td class=\"txt_l\" nowrap=\"nowrap\">\n<a href=\"/jockey/01102/\" title=\"北村友一\">北村友一</a>\n</td>\n<td class=\"txt_r\" nowrap=\"nowrap\">2:02.1</td>\n<td class=\"txt_c\" nowrap=\"nowrap\">アタマ</td>\n<diary_snap_cut>\n<td class=\"speed_index bml\" nowrap=\"nowrap\">\n<div class=\"txt_c\">\n<a data-theme=\"07003\" href=\"https://www.netkeiba.com/premium/?service=p13\" id=\"a_monthly_goods_link_01\">**</a>\n</div>\n</td>\n<td nowrap=\"nowrap\">14-14-15-13</td>\n<td class=\"txt_c\" nowrap=\"nowrap\"><span>36.1</span></td>\n</diary_snap_cut>\n<td class=\"txt_r\" nowrap=\"nowrap\">62.9</td>\n<td align=\"right\" class=\"bml\" nowrap=\"nowrap\"><span>9</span></td>\n<td nowrap=\"nowrap\">482(-4)</td>\n<diary_snap_cut>\n<td class=\"txt_c\" nowrap=\"nowrap\">\n<a href=\"/?pid=horse_training&amp;id=2017105241&amp;rid=202006030811\"><img border=\"0\" height=\"13\" src=\"/style/netkeiba.ja/image/ico_oikiri.gif\" width=\"13\"/></a>\n</td>\n<td class=\"txt_c\" nowrap=\"nowrap\">\n<a href=\"/?pid=horse_comment&amp;id=2017105241&amp;rid=202006030811\"><img border=\"0\" height=\"13\" src=\"/style/netkeiba.ja/image/ico_comment.gif\" width=\"13\"/></a>\n</td>\n<td nowrap=\"nowrap\">\n<div class=\"txt_c\">\n<a data-theme=\"07004\" href=\"https://www.netkeiba.com/premium/?service=p13\" id=\"a_monthly_goods_link_02\"><img border=\"0\" height=\"13\" src=\"/style/netkeiba.ja/image/ico_remarks.gif\" width=\"13\"/></a>\n</div>\n</td>\n</diary_snap_cut>\n<td class=\"txt_l\" nowrap=\"nowrap\">\n[西]\n<a href=\"/trainer/01144/\" title=\"池添学\">池添学</a>\n</td>\n<diary_snap_cut>\n<td class=\"txt_l w1ml\" nowrap=\"nowrap\">\n<a href=\"/owner/506800/\" title=\"シルクレーシング\">シルクレーシング</a>\n</td>\n<td class=\"txt_r\" nowrap=\"nowrap\"></td>\n</diary_snap_cut>\n</tr><tr>\n<td class=\"txt_r\" nowrap=\"nowrap\">12</td>\n<td align=\"right\" class=\"w5ml\" nowrap=\"nowrap\"><span>5</span></td>\n<td class=\"txt_r\" nowrap=\"nowrap\">10</td>\n<td class=\"txt_l\" nowrap=\"nowrap\">\n<a href=\"/horse/2017110067/\" id=\"umalink_202006030811\" title=\"アメリカンシード\">アメリカンシード</a>\n</td>\n<td class=\"txt_c\" nowrap=\"nowrap\">牡3</td>\n<td class=\"txt_c\" nowrap=\"nowrap\">57</td>\n<td class=\"txt_l\" nowrap=\"nowrap\">\n<a href=\"/jockey/01127/\" title=\"丸山元気\">丸山元気</a>\n</td>\n<td class=\"txt_r\" nowrap=\"nowrap\">2:02.2</td>\n<td class=\"txt_c\" nowrap=\"nowrap\">クビ</td>\n<diary_snap_cut>\n<td class=\"speed_index bml\" nowrap=\"nowrap\">\n<div class=\"txt_c\">\n<a data-theme=\"07003\" href=\"https://www.netkeiba.com/premium/?service=p13\" id=\"a_monthly_goods_link_01\">**</a>\n</div>\n</td>\n<td nowrap=\"nowrap\">14-16-15-18</td>\n<td class=\"txt_c\" nowrap=\"nowrap\"><span>36.1</span></td>\n</diary_snap_cut>\n<td class=\"txt_r\" nowrap=\"nowrap\">319.1</td>\n<td align=\"right\" class=\"bml\" nowrap=\"nowrap\"><span>16</span></td>\n<td nowrap=\"nowrap\">464(-8)</td>\n<diary_snap_cut>\n<td class=\"txt_c\" nowrap=\"nowrap\">\n<a href=\"/?pid=horse_training&amp;id=2017110067&amp;rid=202006030811\"><img border=\"0\" height=\"13\" src=\"/style/netkeiba.ja/image/ico_oikiri.gif\" width=\"13\"/></a>\n</td>\n<td class=\"txt_c\" nowrap=\"nowrap\">\n<a href=\"/?pid=horse_comment&amp;id=2017110067&amp;rid=202006030811\"><img border=\"0\" height=\"13\" src=\"/style/netkeiba.ja/image/ico_comment.gif\" width=\"13\"/></a>\n</td>\n<td nowrap=\"nowrap\">\n</td>\n</diary_snap_cut>\n<td class=\"txt_l\" nowrap=\"nowrap\">\n[西]\n<a href=\"/trainer/01062/\" title=\"藤岡健一\">藤岡健一</a>\n</td>\n<diary_snap_cut>\n<td class=\"txt_l w5ml\" nowrap=\"nowrap\">\n<a href=\"/owner/367008/\" title=\"吉澤克己\">吉澤克己</a>\n</td>\n<td class=\"txt_r\" nowrap=\"nowrap\"></td>\n</diary_snap_cut>\n</tr><tr>\n<td class=\"txt_r\" nowrap=\"nowrap\">13</td>\n<td align=\"right\" class=\"w6ml\" nowrap=\"nowrap\"><span>6</span></td>\n<td class=\"txt_r\" nowrap=\"nowrap\">12</td>\n<td class=\"txt_l\" nowrap=\"nowrap\">\n<a href=\"/horse/2017105434/\" id=\"umalink_202006030811\" title=\"マイラプソディ\">マイラプソディ</a>\n</td>\n<td class=\"txt_c\" nowrap=\"nowrap\">牡3</td>\n<td class=\"txt_c\" nowrap=\"nowrap\">57</td>\n<td class=\"txt_l\" nowrap=\"nowrap\">\n<a href=\"/jockey/00666/\" title=\"武豊\">武豊</a>\n</td>\n<td class=\"txt_r\" nowrap=\"nowrap\">2:02.2</td>\n<td class=\"txt_c\" nowrap=\"nowrap\">アタマ</td>\n<diary_snap_cut>\n<td class=\"speed_index bml\" nowrap=\"nowrap\">\n<div class=\"txt_c\">\n<a data-theme=\"07003\" href=\"https://www.netkeiba.com/premium/?service=p13\" id=\"a_monthly_goods_link_01\">**</a>\n</div>\n</td>\n<td nowrap=\"nowrap\">12-12-8-9</td>\n<td class=\"txt_c\" nowrap=\"nowrap\"><span>36.6</span></td>\n</diary_snap_cut>\n<td class=\"txt_r\" nowrap=\"nowrap\">22.6</td>\n<td align=\"right\" class=\"bml\" nowrap=\"nowrap\"><span>7</span></td>\n<td nowrap=\"nowrap\">504(-4)</td>\n<diary_snap_cut>\n<td class=\"txt_c\" nowrap=\"nowrap\">\n<a href=\"/?pid=horse_training&amp;id=2017105434&amp;rid=202006030811\"><img border=\"0\" height=\"13\" src=\"/style/netkeiba.ja/image/ico_oikiri.gif\" width=\"13\"/></a>\n</td>\n<td class=\"txt_c\" nowrap=\"nowrap\">\n<a href=\"/?pid=horse_comment&amp;id=2017105434&amp;rid=202006030811\"><img border=\"0\" height=\"13\" src=\"/style/netkeiba.ja/image/ico_comment.gif\" width=\"13\"/></a>\n</td>\n<td nowrap=\"nowrap\">\n</td>\n</diary_snap_cut>\n<td class=\"txt_l\" nowrap=\"nowrap\">\n[西]\n<a href=\"/trainer/01061/\" title=\"友道康夫\">友道康夫</a>\n</td>\n<diary_snap_cut>\n<td class=\"txt_l w6ml\" nowrap=\"nowrap\">\n<a href=\"/owner/002803/\" title=\"キーファーズ\">キーファーズ</a>\n</td>\n<td class=\"txt_r\" nowrap=\"nowrap\"></td>\n</diary_snap_cut>\n</tr><tr>\n<td class=\"txt_r\" nowrap=\"nowrap\">14</td>\n<td align=\"right\" class=\"w8ml\" nowrap=\"nowrap\"><span>8</span></td>\n<td class=\"txt_r\" nowrap=\"nowrap\">18</td>\n<td class=\"txt_l\" nowrap=\"nowrap\">\n<a href=\"/horse/2017103572/\" id=\"umalink_202006030811\" title=\"ビターエンダー\">ビターエンダー</a>\n</td>\n<td class=\"txt_c\" nowrap=\"nowrap\">牡3</td>\n<td class=\"txt_c\" nowrap=\"nowrap\">57</td>\n<td class=\"txt_l\" nowrap=\"nowrap\">\n<a href=\"/jockey/01092/\" title=\"津村明秀\">津村明秀</a>\n</td>\n<td class=\"txt_r\" nowrap=\"nowrap\">2:02.4</td>\n<td class=\"txt_c\" nowrap=\"nowrap\">1.1/4</td>\n<diary_snap_cut>\n<td class=\"speed_index bml\" nowrap=\"nowrap\">\n<div class=\"txt_c\">\n<a data-theme=\"07003\" href=\"https://www.netkeiba.com/premium/?service=p13\" id=\"a_monthly_goods_link_01\">**</a>\n</div>\n</td>\n<td nowrap=\"nowrap\">3-3-3-3</td>\n<td class=\"txt_c\" nowrap=\"nowrap\"><span>37.2</span></td>\n</diary_snap_cut>\n<td class=\"txt_r\" nowrap=\"nowrap\">81.2</td>\n<td align=\"right\" class=\"bml\" nowrap=\"nowrap\"><span>11</span></td>\n<td nowrap=\"nowrap\">464(+4)</td>\n<diary_snap_cut>\n<td class=\"txt_c\" nowrap=\"nowrap\">\n<a href=\"/?pid=horse_training&amp;id=2017103572&amp;rid=202006030811\"><img border=\"0\" height=\"13\" src=\"/style/netkeiba.ja/image/ico_oikiri.gif\" width=\"13\"/></a>\n</td>\n<td class=\"txt_c\" nowrap=\"nowrap\">\n<a href=\"/?pid=horse_comment&amp;id=2017103572&amp;rid=202006030811\"><img border=\"0\" height=\"13\" src=\"/style/netkeiba.ja/image/ico_comment.gif\" width=\"13\"/></a>\n</td>\n<td nowrap=\"nowrap\">\n</td>\n</diary_snap_cut>\n<td class=\"txt_l\" nowrap=\"nowrap\">\n[東]\n<a href=\"/trainer/01020/\" title=\"相沢郁\">相沢郁</a>\n</td>\n<diary_snap_cut>\n<td class=\"txt_l w8ml\" nowrap=\"nowrap\">\n<a href=\"/owner/547800/\" title=\"ヒダカ・ブリーダーズ・ユニオン\">ヒダカ・ブリーダーズ・ユニオン</a>\n</td>\n<td class=\"txt_r\" nowrap=\"nowrap\"></td>\n</diary_snap_cut>\n</tr><tr>\n<td class=\"txt_r\" nowrap=\"nowrap\">15</td>\n<td align=\"right\" class=\"w7ml\" nowrap=\"nowrap\"><span>7</span></td>\n<td class=\"txt_r\" nowrap=\"nowrap\">15</td>\n<td class=\"txt_l\" nowrap=\"nowrap\">\n<a href=\"/horse/2017105194/\" id=\"umalink_202006030811\" title=\"ラインベック\">ラインベック</a>\n</td>\n<td class=\"txt_c\" nowrap=\"nowrap\">牡3</td>\n<td class=\"txt_c\" nowrap=\"nowrap\">57</td>\n<td class=\"txt_l\" nowrap=\"nowrap\">\n<a href=\"/jockey/05203/\" title=\"岩田康誠\">岩田康誠</a>\n</td>\n<td class=\"txt_r\" nowrap=\"nowrap\">2:02.4</td>\n<td class=\"txt_c\" nowrap=\"nowrap\">クビ</td>\n<diary_snap_cut>\n<td class=\"speed_index bml\" nowrap=\"nowrap\">\n<div class=\"txt_c\">\n<a data-theme=\"07003\" href=\"https://www.netkeiba.com/premium/?service=p13\" id=\"a_monthly_goods_link_01\">**</a>\n</div>\n</td>\n<td nowrap=\"nowrap\">6-5-4-7</td>\n<td class=\"txt_c\" nowrap=\"nowrap\"><span>37.1</span></td>\n</diary_snap_cut>\n<td class=\"txt_r\" nowrap=\"nowrap\">160.8</td>\n<td align=\"right\" class=\"bml\" nowrap=\"nowrap\"><span>14</span></td>\n<td nowrap=\"nowrap\">476(+8)</td>\n<diary_snap_cut>\n<td class=\"txt_c\" nowrap=\"nowrap\">\n<a href=\"/?pid=horse_training&amp;id=2017105194&amp;rid=202006030811\"><img border=\"0\" height=\"13\" src=\"/style/netkeiba.ja/image/ico_oikiri.gif\" width=\"13\"/></a>\n</td>\n<td class=\"txt_c\" nowrap=\"nowrap\">\n<a href=\"/?pid=horse_comment&amp;id=2017105194&amp;rid=202006030811\"><img border=\"0\" height=\"13\" src=\"/style/netkeiba.ja/image/ico_comment.gif\" width=\"13\"/></a>\n</td>\n<td nowrap=\"nowrap\">\n</td>\n</diary_snap_cut>\n<td class=\"txt_l\" nowrap=\"nowrap\">\n[西]\n<a href=\"/trainer/01061/\" title=\"友道康夫\">友道康夫</a>\n</td>\n<diary_snap_cut>\n<td class=\"txt_l w7ml\" nowrap=\"nowrap\">\n<a href=\"/owner/708800/\" title=\"金子真人ホールディングス\">金子真人ホールディングス</a>\n</td>\n<td class=\"txt_r\" nowrap=\"nowrap\"></td>\n</diary_snap_cut>\n</tr><tr>\n<td class=\"txt_r\" nowrap=\"nowrap\">16</td>\n<td align=\"right\" class=\"w6ml\" nowrap=\"nowrap\"><span>6</span></td>\n<td class=\"txt_r\" nowrap=\"nowrap\">11</td>\n<td class=\"txt_l\" nowrap=\"nowrap\">\n<a href=\"/horse/2017101299/\" id=\"umalink_202006030811\" title=\"クリスタルブラック\">クリスタルブラック</a>\n</td>\n<td class=\"txt_c\" nowrap=\"nowrap\">牡3</td>\n<td class=\"txt_c\" nowrap=\"nowrap\">57</td>\n<td class=\"txt_l\" nowrap=\"nowrap\">\n<a href=\"/jockey/00733/\" title=\"吉田豊\">吉田豊</a>\n</td>\n<td class=\"txt_r\" nowrap=\"nowrap\">2:02.5</td>\n<td class=\"txt_c\" nowrap=\"nowrap\">3/4</td>\n<diary_snap_cut>\n<td class=\"speed_index bml\" nowrap=\"nowrap\">\n<div class=\"txt_c\">\n<a data-theme=\"07003\" href=\"https://www.netkeiba.com/premium/?service=p13\" id=\"a_monthly_goods_link_01\">**</a>\n</div>\n</td>\n<td nowrap=\"nowrap\">17-16-15-13</td>\n<td class=\"txt_c\" nowrap=\"nowrap\"><span>36.4</span></td>\n</diary_snap_cut>\n<td class=\"txt_r\" nowrap=\"nowrap\">14.6</td>\n<td align=\"right\" class=\"bml\" nowrap=\"nowrap\"><span>5</span></td>\n<td nowrap=\"nowrap\">474(-2)</td>\n<diary_snap_cut>\n<td class=\"txt_c\" nowrap=\"nowrap\">\n<a href=\"/?pid=horse_training&amp;id=2017101299&amp;rid=202006030811\"><img border=\"0\" height=\"13\" src=\"/style/netkeiba.ja/image/ico_oikiri.gif\" width=\"13\"/></a>\n</td>\n<td class=\"txt_c\" nowrap=\"nowrap\">\n<a href=\"/?pid=horse_comment&amp;id=2017101299&amp;rid=202006030811\"><img border=\"0\" height=\"13\" src=\"/style/netkeiba.ja/image/ico_comment.gif\" width=\"13\"/></a>\n</td>\n<td nowrap=\"nowrap\">\n<div class=\"txt_c\">\n<a data-theme=\"07004\" href=\"https://www.netkeiba.com/premium/?service=p13\" id=\"a_monthly_goods_link_02\"><img border=\"0\" height=\"13\" src=\"/style/netkeiba.ja/image/ico_remarks.gif\" width=\"13\"/></a>\n</div>\n</td>\n</diary_snap_cut>\n<td class=\"txt_l\" nowrap=\"nowrap\">\n[東]\n<a href=\"/trainer/01134/\" title=\"高橋文雅\">高橋文雅</a>\n</td>\n<diary_snap_cut>\n<td class=\"txt_l w6ml\" nowrap=\"nowrap\">\n<a href=\"/owner/548009/\" title=\"岡田勇\">岡田勇</a>\n</td>\n<td class=\"txt_r\" nowrap=\"nowrap\"></td>\n</diary_snap_cut>\n</tr><tr>\n<td class=\"txt_r\" nowrap=\"nowrap\">17</td>\n<td align=\"right\" class=\"w7ml\" nowrap=\"nowrap\"><span>7</span></td>\n<td class=\"txt_r\" nowrap=\"nowrap\">14</td>\n<td class=\"txt_l\" nowrap=\"nowrap\">\n<a href=\"/horse/2017101833/\" id=\"umalink_202006030811\" title=\"キメラヴェリテ\">キメラヴェリテ</a>\n</td>\n<td class=\"txt_c\" nowrap=\"nowrap\">牡3</td>\n<td class=\"txt_c\" nowrap=\"nowrap\">57</td>\n<td class=\"txt_l\" nowrap=\"nowrap\">\n<a href=\"/jockey/01116/\" title=\"藤岡康太\">藤岡康太</a>\n</td>\n<td class=\"txt_r\" nowrap=\"nowrap\">2:02.6</td>\n<td class=\"txt_c\" nowrap=\"nowrap\">クビ</td>\n<diary_snap_cut>\n<td class=\"speed_index bml\" nowrap=\"nowrap\">\n<div class=\"txt_c\">\n<a data-theme=\"07003\" href=\"https://www.netkeiba.com/premium/?service=p13\" id=\"a_monthly_goods_link_01\">**</a>\n</div>\n</td>\n<td nowrap=\"nowrap\">1-1-1-1</td>\n<td class=\"txt_c\" nowrap=\"nowrap\"><span>37.7</span></td>\n</diary_snap_cut>\n<td class=\"txt_r\" nowrap=\"nowrap\">63.5</td>\n<td align=\"right\" class=\"bml\" nowrap=\"nowrap\"><span>10</span></td>\n<td nowrap=\"nowrap\">538(0)</td>\n<diary_snap_cut>\n<td class=\"txt_c\" nowrap=\"nowrap\">\n<a href=\"/?pid=horse_training&amp;id=2017101833&amp;rid=202006030811\"><img border=\"0\" height=\"13\" src=\"/style/netkeiba.ja/image/ico_oikiri.gif\" width=\"13\"/></a>\n</td>\n<td class=\"txt_c\" nowrap=\"nowrap\">\n<a href=\"/?pid=horse_comment&amp;id=2017101833&amp;rid=202006030811\"><img border=\"0\" height=\"13\" src=\"/style/netkeiba.ja/image/ico_comment.gif\" width=\"13\"/></a>\n</td>\n<td nowrap=\"nowrap\">\n<div class=\"txt_c\">\n<a data-theme=\"07004\" href=\"https://www.netkeiba.com/premium/?service=p13\" id=\"a_monthly_goods_link_02\"><img border=\"0\" height=\"13\" src=\"/style/netkeiba.ja/image/ico_remarks.gif\" width=\"13\"/></a>\n</div>\n</td>\n</diary_snap_cut>\n<td class=\"txt_l\" nowrap=\"nowrap\">\n[西]\n<a href=\"/trainer/01039/\" title=\"中竹和也\">中竹和也</a>\n</td>\n<diary_snap_cut>\n<td class=\"txt_l w7ml\" nowrap=\"nowrap\">\n<a href=\"/owner/944030/\" title=\"加藤誠\">加藤誠</a>\n</td>\n<td class=\"txt_r\" nowrap=\"nowrap\"></td>\n</diary_snap_cut>\n</tr><tr>\n<td class=\"txt_r\" nowrap=\"nowrap\">18</td>\n<td align=\"right\" class=\"w2ml\" nowrap=\"nowrap\"><span>2</span></td>\n<td class=\"txt_r\" nowrap=\"nowrap\">4</td>\n<td class=\"txt_l\" nowrap=\"nowrap\">\n<a href=\"/horse/2017101755/\" id=\"umalink_202006030811\" title=\"テンピン\">テンピン</a>\n</td>\n<td class=\"txt_c\" nowrap=\"nowrap\">牡3</td>\n<td class=\"txt_c\" nowrap=\"nowrap\">57</td>\n<td class=\"txt_l\" nowrap=\"nowrap\">\n<a href=\"/jockey/01141/\" title=\"中井裕二\">中井裕二</a>\n</td>\n<td class=\"txt_r\" nowrap=\"nowrap\">2:03.3</td>\n<td class=\"txt_c\" nowrap=\"nowrap\">4</td>\n<diary_snap_cut>\n<td class=\"speed_index bml\" nowrap=\"nowrap\">\n<div class=\"txt_c\">\n<a data-theme=\"07003\" href=\"https://www.netkeiba.com/premium/?service=p13\" id=\"a_monthly_goods_link_01\">**</a>\n</div>\n</td>\n<td nowrap=\"nowrap\">7-7-10-13</td>\n<td class=\"txt_c\" nowrap=\"nowrap\"><span>37.6</span></td>\n</diary_snap_cut>\n<td class=\"txt_r\" nowrap=\"nowrap\">237.4</td>\n<td align=\"right\" class=\"bml\" nowrap=\"nowrap\"><span>15</span></td>\n<td nowrap=\"nowrap\">500(-2)</td>\n<diary_snap_cut>\n<td class=\"txt_c\" nowrap=\"nowrap\">\n<a href=\"/?pid=horse_training&amp;id=2017101755&amp;rid=202006030811\"><img border=\"0\" height=\"13\" src=\"/style/netkeiba.ja/image/ico_oikiri.gif\" width=\"13\"/></a>\n</td>\n<td class=\"txt_c\" nowrap=\"nowrap\">\n<a href=\"/?pid=horse_comment&amp;id=2017101755&amp;rid=202006030811\"><img border=\"0\" height=\"13\" src=\"/style/netkeiba.ja/image/ico_comment.gif\" width=\"13\"/></a>\n</td>\n<td nowrap=\"nowrap\">\n</td>\n</diary_snap_cut>\n<td class=\"txt_l\" nowrap=\"nowrap\">\n[西]\n<a href=\"/trainer/00438/\" title=\"安田隆行\">安田隆行</a>\n</td>\n<diary_snap_cut>\n<td class=\"txt_l w2ml\" nowrap=\"nowrap\">\n<a href=\"/owner/059700/\" title=\"ユアストーリー\">ユアストーリー</a>\n</td>\n<td class=\"txt_r\" nowrap=\"nowrap\"></td>\n</diary_snap_cut>\n</tr>\n</table>"
     },
     "metadata": {},
     "execution_count": 303
    }
   ],
   "source": [
    "soup_table = soup.find(\"table\", class_=\"race_table_01 nk_tb_common\")#class属性が\"race_table_01 nk_tb_common\"のtableタグ取得\n",
    "soup_table "
   ]
  },
  {
   "cell_type": "code",
   "execution_count": 304,
   "metadata": {},
   "outputs": [
    {
     "output_type": "execute_result",
     "data": {
      "text/plain": "<tr>\n<td class=\"txt_r\" nowrap=\"nowrap\">1</td>\n<td align=\"right\" class=\"w1ml\" nowrap=\"nowrap\"><span>1</span></td>\n<td class=\"txt_r\" nowrap=\"nowrap\">1</td>\n<td class=\"txt_l\" nowrap=\"nowrap\">\n<a href=\"/horse/2017101835/\" id=\"umalink_202006030811\" title=\"コントレイル\">コントレイル</a>\n</td>\n<td class=\"txt_c\" nowrap=\"nowrap\">牡3</td>\n<td class=\"txt_c\" nowrap=\"nowrap\">57</td>\n<td class=\"txt_l\" nowrap=\"nowrap\">\n<a href=\"/jockey/01014/\" title=\"福永祐一\">福永祐一</a>\n</td>\n<td class=\"txt_r\" nowrap=\"nowrap\">2:00.7</td>\n<td class=\"txt_c\" nowrap=\"nowrap\"></td>\n<diary_snap_cut>\n<td class=\"speed_index bml\" nowrap=\"nowrap\">\n<div class=\"txt_c\">\n<a data-theme=\"07003\" href=\"https://www.netkeiba.com/premium/?service=p13\" id=\"a_monthly_goods_link_01\">**</a>\n</div>\n</td>\n<td nowrap=\"nowrap\">12-12-12-7</td>\n<td class=\"txt_c\" nowrap=\"nowrap\"><span>34.9</span></td>\n</diary_snap_cut>\n<td class=\"txt_r\" nowrap=\"nowrap\">2.7</td>\n<td align=\"right\" class=\"r1ml\" nowrap=\"nowrap\"><span>1</span></td>\n<td nowrap=\"nowrap\">462(0)</td>\n<diary_snap_cut>\n<td class=\"txt_c\" nowrap=\"nowrap\">\n<a href=\"/?pid=horse_training&amp;id=2017101835&amp;rid=202006030811\"><img border=\"0\" height=\"13\" src=\"/style/netkeiba.ja/image/ico_oikiri.gif\" width=\"13\"/></a>\n</td>\n<td class=\"txt_c\" nowrap=\"nowrap\">\n<a href=\"/?pid=horse_comment&amp;id=2017101835&amp;rid=202006030811\"><img border=\"0\" height=\"13\" src=\"/style/netkeiba.ja/image/ico_comment.gif\" width=\"13\"/></a>\n</td>\n<td nowrap=\"nowrap\">\n<div class=\"txt_c\">\n<a data-theme=\"07004\" href=\"https://www.netkeiba.com/premium/?service=p13\" id=\"a_monthly_goods_link_02\"><img border=\"0\" height=\"13\" src=\"/style/netkeiba.ja/image/ico_remarks.gif\" width=\"13\"/></a>\n</div>\n</td>\n</diary_snap_cut>\n<td class=\"txt_l\" nowrap=\"nowrap\">\n[西]\n<a href=\"/trainer/01075/\" title=\"矢作芳人\">矢作芳人</a>\n</td>\n<diary_snap_cut>\n<td class=\"txt_l w1ml\" nowrap=\"nowrap\">\n<a href=\"/owner/041002/\" title=\"前田晋二\">前田晋二</a>\n</td>\n<td class=\"txt_r\" nowrap=\"nowrap\">13,463.3</td>\n</diary_snap_cut>\n</tr>"
     },
     "metadata": {},
     "execution_count": 304
    }
   ],
   "source": [
    "soup_tr = soup_table.find_all('tr')[1]#二番目のtrタグ取得\n",
    "soup_tr"
   ]
  },
  {
   "cell_type": "code",
   "execution_count": 305,
   "metadata": {},
   "outputs": [
    {
     "output_type": "execute_result",
     "data": {
      "text/plain": "<a href=\"/horse/2017101835/\" id=\"umalink_202006030811\" title=\"コントレイル\">コントレイル</a>"
     },
     "metadata": {},
     "execution_count": 305
    }
   ],
   "source": [
    "soup_a = soup_tr.find(\"a\")#１番目のaタグを取得\n",
    "soup_a"
   ]
  },
  {
   "cell_type": "code",
   "execution_count": 306,
   "metadata": {},
   "outputs": [
    {
     "output_type": "execute_result",
     "data": {
      "text/plain": "'コントレイル'"
     },
     "metadata": {},
     "execution_count": 306
    }
   ],
   "source": [
    "soup_a.get_text()#タグの中のテキストを取得"
   ]
  },
  {
   "cell_type": "code",
   "execution_count": 307,
   "metadata": {},
   "outputs": [
    {
     "output_type": "execute_result",
     "data": {
      "text/plain": "'コントレイル'"
     },
     "metadata": {},
     "execution_count": 307
    }
   ],
   "source": [
    "soup.find(\"table\", class_=\"race_table_01 nk_tb_common\").find_all(\"tr\")[1].find(\"a\").get_text()"
   ]
  },
  {
   "cell_type": "markdown",
   "metadata": {},
   "source": [
    "### 3.2.3 Seleniumによるスクレイピング\n",
    "Seleniumはブラウザーを自動操作するためのライブラリです。  \n",
    "Pythonの他にJavaやJavaScriptなど様々な言語に対応しています。  \n",
    "元々はWebアプリケーションの自動テストツールとして発展しました。ブラウザーベンダーがWebDriverAPIを実装するドライバーを用意しており、これを経由して操作します。  \n",
    "  \n",
    "\n",
    "![](https://github.com/Tomo-Horiuchi/predict_keiba/blob/master/image/10.png?raw=true)"
   ]
  },
  {
   "cell_type": "markdown",
   "metadata": {},
   "source": [
    "#### WindowsでSeleniumを動かすまでの手順\n",
    "- seleniumをインストール\n",
    "- Chromeのバージョン確認\n",
    "- seleniumからブラウザ（Chrome）を操作するためのドライバーをダウンロード"
   ]
  },
  {
   "cell_type": "markdown",
   "metadata": {},
   "source": [
    "seleniumをインストール"
   ]
  },
  {
   "cell_type": "code",
   "execution_count": 308,
   "metadata": {},
   "outputs": [
    {
     "output_type": "stream",
     "name": "stdout",
     "text": "Requirement already satisfied: selenium in c:\\users\\info\\appdata\\local\\programs\\python\\python37\\lib\\site-packages (3.141.0)\nRequirement already satisfied: urllib3 in c:\\users\\info\\appdata\\local\\programs\\python\\python37\\lib\\site-packages (from selenium) (1.25.5)\n"
    }
   ],
   "source": [
    "!pip install selenium"
   ]
  },
  {
   "cell_type": "markdown",
   "metadata": {},
   "source": [
    "Chromeのバージョン確認  "
   ]
  },
  {
   "cell_type": "markdown",
   "metadata": {},
   "source": [
    "「設定→ヘルプ→Google Chromeについて」を開くとバージョンが表示されます。  \n",
    "  \n",
    "\n",
    "\n",
    "![](https://github.com/Tomo-Horiuchi/predict_keiba/blob/master/image/11.png?raw=true)\n",
    "![](https://github.com/Tomo-Horiuchi/predict_keiba/blob/master/image/12.png?raw=true)"
   ]
  },
  {
   "cell_type": "markdown",
   "metadata": {},
   "source": [
    "seleniumからブラウザ（Chrome）を操作するためのドライバーをインストール\n"
   ]
  },
  {
   "cell_type": "markdown",
   "metadata": {},
   "source": [
    "先ほど確認したバージョンをインストールします"
   ]
  },
  {
   "cell_type": "code",
   "execution_count": 309,
   "metadata": {},
   "outputs": [
    {
     "output_type": "stream",
     "name": "stderr",
     "text": "ERROR: Could not find a version that satisfies the requirement chromedriver-binary==81.0.4044.122 (from versions: 2.29.1, 2.31.1, 2.33.1, 2.34.0, 2.35.0, 2.35.1, 2.36.0, 2.37.0, 2.38.0, 2.39.0, 2.40.1, 2.41.0, 2.42.0, 2.43.0, 2.44.0, 2.45.0, 2.46.0, 70.0.3538.16.0, 70.0.3538.67.0, 70.0.3538.97.0, 71.0.3578.30.0, 71.0.3578.33.0, 71.0.3578.80.0, 71.0.3578.137.0, 72.0.3626.7.0, 72.0.3626.69.0, 73.0.3683.20.0, 73.0.3683.68.0, 74.0.3729.6.0, 75.0.3770.8.0, 75.0.3770.90.0, 75.0.3770.140.0, 76.0.3809.12.0, 76.0.3809.25.0, 76.0.3809.68.0, 76.0.3809.126.0, 77.0.3865.10.0, 77.0.3865.40.0, 78.0.3904.11.0, 78.0.3904.70.0, 78.0.3904.105.0, 79.0.3945.16.0, 79.0.3945.36.0, 80.0.3987.16.0, 80.0.3987.106.0, 81.0.4044.20.0, 81.0.4044.69.0, 83.0.4103.14.0)\nERROR: No matching distribution found for chromedriver-binary==81.0.4044.122\n"
    }
   ],
   "source": [
    "!pip install chromedriver-binary==81.0.4044.122"
   ]
  },
  {
   "cell_type": "markdown",
   "metadata": {},
   "source": [
    "指示したバージョンがないので81のどれかをインストール"
   ]
  },
  {
   "cell_type": "code",
   "execution_count": 310,
   "metadata": {},
   "outputs": [
    {
     "output_type": "stream",
     "name": "stdout",
     "text": "Requirement already satisfied: chromedriver-binary==81.0.4044.20.0 in c:\\users\\info\\appdata\\local\\programs\\python\\python37\\lib\\site-packages (81.0.4044.20.0)\n"
    }
   ],
   "source": [
    "!pip install chromedriver-binary==81.0.4044.20.0"
   ]
  },
  {
   "cell_type": "code",
   "execution_count": 311,
   "metadata": {},
   "outputs": [],
   "source": [
    "from selenium import webdriver#webdriverをインポート\n",
    "import chromedriver_binary#実行可能ファイルがPATHに追加され検出されます。バイナリのファイル名はchromedriver_filenameに保存されます。\n",
    "driver = webdriver.Chrome()"
   ]
  },
  {
   "cell_type": "markdown",
   "metadata": {},
   "source": [
    "以下のようにChromeブラウザが表示されれば成功です。  \n",
    "  \n",
    "  \n",
    "  \n",
    "\n",
    "![](https://github.com/Tomo-Horiuchi/predict_keiba/blob/master/image/13.png?raw=true)"
   ]
  },
  {
   "cell_type": "markdown",
   "metadata": {},
   "source": [
    "#### Colaboratory上でseleniumを動かす場合"
   ]
  },
  {
   "cell_type": "code",
   "execution_count": null,
   "metadata": {},
   "outputs": [],
   "source": [
    "!apt-get update #パッケージリストの更新\n",
    "!apt install chromium-chromedriver #ドライバーをダウンロード\n",
    "!cp /usr/lib/chromium-browser/chromedriver /usr/bin#chromedriverを/usr/binにコピー\n",
    "!pip install selenium#seleniumインストール"
   ]
  },
  {
   "cell_type": "code",
   "execution_count": 313,
   "metadata": {},
   "outputs": [],
   "source": [
    "from selenium.webdriver.chrome.options import Options\n",
    "from selenium import webdriver\n",
    "import chromedriver_binary\n",
    "\n",
    "options = Options()\n",
    "options = webdriver.ChromeOptions()\n",
    "options.add_argument('--headless')\n",
    "options.add_argument('--no-sandbox')\n",
    "options.add_argument('--disable-dev-shm-usage')\n",
    "driver = webdriver.Chrome('chromedriver',options=options)\n"
   ]
  },
  {
   "cell_type": "code",
   "execution_count": 314,
   "metadata": {},
   "outputs": [],
   "source": [
    "from selenium import webdriver\n",
    "import chromedriver_binary\n",
    "\n",
    " \n",
    "driver = webdriver.Chrome()"
   ]
  },
  {
   "cell_type": "markdown",
   "metadata": {},
   "source": [
    "#### seleniumの基本文法\n",
    "##### 待ち時間の設定"
   ]
  },
  {
   "cell_type": "code",
   "execution_count": 315,
   "metadata": {},
   "outputs": [
    {
     "output_type": "execute_result",
     "data": {
      "text/plain": "<selenium.webdriver.support.expected_conditions.presence_of_all_elements_located at 0x13ef3bfe688>"
     },
     "metadata": {},
     "execution_count": 315
    }
   ],
   "source": [
    "from selenium.webdriver.support import expected_conditions as EC\n",
    "from selenium.webdriver.common.by import By\n",
    "from selenium.webdriver.support.ui import Select,WebDriverWait\n",
    "wait = WebDriverWait(driver,10)#指定したdriverに対して最大で10秒間待機する\n",
    "URL = \"https://db.netkeiba.com/?pid=race_search_detail\"\n",
    "driver.get(URL)\n",
    "wait.until(EC.presence_of_all_elements_located)#すべての要素が表示されるまで待ち先ほど指定した10秒間待機する"
   ]
  },
  {
   "cell_type": "markdown",
   "metadata": {},
   "source": [
    "##### 要素の取り出し  \n",
    "find_element_by_XXXXXXXで一番上の要素を取得出来ます。  \n",
    "例）  \n",
    "find_element_by_id  \n",
    "find_element_by_name  \n",
    "find_element_by_xpath  \n",
    "find_element_by_link_text  \n",
    "find_element_by_partial_link_text  \n",
    "find_element_by_tag_name  \n",
    "find_element_by_class_name  \n",
    "find_element_by_css_selector \n",
    "\n",
    "  \n",
    "   \n",
    "find_elements_by_XXXXXXXですべての要素を取得出来ます。 "
   ]
  },
  {
   "cell_type": "code",
   "execution_count": 316,
   "metadata": {
    "tags": [
     "outputPrepend"
    ]
   },
   "outputs": [
    {
     "output_type": "stream",
     "name": "stdout",
     "text": "<selenium.webdriver.remote.webelement.WebElement (session=\"707a7ba0361f4fa891a80c22ece21528\", element=\"1e554b6a-abb9-4e61-8a8c-2680e240697b\")>\n"
    }
   ],
   "source": [
    "div_element = driver.find_element_by_tag_name(\"div\")#一番上のdivタグの要素を取得\n",
    "print(div_element)"
   ]
  },
  {
   "cell_type": "code",
   "execution_count": 317,
   "metadata": {},
   "outputs": [
    {
     "output_type": "stream",
     "name": "stdout",
     "text": "<class 'list'>\n[<selenium.webdriver.remote.webelement.WebElement (session=\"707a7ba0361f4fa891a80c22ece21528\", element=\"1e554b6a-abb9-4e61-8a8c-2680e240697b\")>, <selenium.webdriver.remote.webelement.WebElement (session=\"707a7ba0361f4fa891a80c22ece21528\", element=\"01fe7c0d-9c28-4592-993a-d2f0b93bdc5d\")>, <selenium.webdriver.remote.webelement.WebElement (session=\"707a7ba0361f4fa891a80c22ece21528\", element=\"7080804b-45bb-4d9e-af7c-bc0f82593811\")>, <selenium.webdriver.remote.webelement.WebElement (session=\"707a7ba0361f4fa891a80c22ece21528\", element=\"65cbea2d-f5c2-4035-a471-9f153a196832\")>, <selenium.webdriver.remote.webelement.WebElement (session=\"707a7ba0361f4fa891a80c22ece21528\", element=\"133e56fa-3b2b-4aeb-8528-071e4b31f43f\")>, <selenium.webdriver.remote.webelement.WebElement (session=\"707a7ba0361f4fa891a80c22ece21528\", element=\"01c63291-b58d-4c30-9979-8078a1a4173d\")>, <selenium.webdriver.remote.webelement.WebElement (session=\"707a7ba0361f4fa891a80c22ece21528\", element=\"21fc47c3-fe2f-43bd-8b5a-c292cae7cbfa\")>, <selenium.webdriver.remote.webelement.WebElement (session=\"707a7ba0361f4fa891a80c22ece21528\", element=\"53de7d42-b94c-4bd0-8657-5aaf9baca1e4\")>, <selenium.webdriver.remote.webelement.WebElement (session=\"707a7ba0361f4fa891a80c22ece21528\", element=\"eeee0bfd-8b58-44ce-a450-fe17a7378ef2\")>, <selenium.webdriver.remote.webelement.WebElement (session=\"707a7ba0361f4fa891a80c22ece21528\", element=\"400f07d9-f9a1-4ae0-a9ed-ad674c688c51\")>, <selenium.webdriver.remote.webelement.WebElement (session=\"707a7ba0361f4fa891a80c22ece21528\", element=\"572f9d4c-6fcd-49f8-ae2a-ee02b1429a33\")>, <selenium.webdriver.remote.webelement.WebElement (session=\"707a7ba0361f4fa891a80c22ece21528\", element=\"a41f64d7-df25-4f0a-b824-e54ffce01c77\")>, <selenium.webdriver.remote.webelement.WebElement (session=\"707a7ba0361f4fa891a80c22ece21528\", element=\"f1d0dec1-6782-40a7-b7ab-f97244b3370a\")>, <selenium.webdriver.remote.webelement.WebElement (session=\"707a7ba0361f4fa891a80c22ece21528\", element=\"021088a9-14cd-4ce2-8e0c-50b9ea781d52\")>, <selenium.webdriver.remote.webelement.WebElement (session=\"707a7ba0361f4fa891a80c22ece21528\", element=\"38591a47-95a6-48d1-85b9-855291fd40ae\")>, <selenium.webdriver.remote.webelement.WebElement (session=\"707a7ba0361f4fa891a80c22ece21528\", element=\"599d951f-95a4-42ee-bb5f-fb86f18cc361\")>, <selenium.webdriver.remote.webelement.WebElement (session=\"707a7ba0361f4fa891a80c22ece21528\", element=\"1c59b01c-768b-46e8-b00b-3538df21f6a9\")>, <selenium.webdriver.remote.webelement.WebElement (session=\"707a7ba0361f4fa891a80c22ece21528\", element=\"0c2e99d7-ad30-4e4b-9acf-bfd470524cbf\")>, <selenium.webdriver.remote.webelement.WebElement (session=\"707a7ba0361f4fa891a80c22ece21528\", element=\"158575fb-c75c-4864-9aa2-437f5b8fb637\")>, <selenium.webdriver.remote.webelement.WebElement (session=\"707a7ba0361f4fa891a80c22ece21528\", element=\"d26f21b9-1cb8-481d-8d04-4038a27dff5e\")>, <selenium.webdriver.remote.webelement.WebElement (session=\"707a7ba0361f4fa891a80c22ece21528\", element=\"87875185-9c28-4a6c-9ccd-69a32fd406f3\")>, <selenium.webdriver.remote.webelement.WebElement (session=\"707a7ba0361f4fa891a80c22ece21528\", element=\"fffde414-6352-4520-9776-fcec93c620a5\")>, <selenium.webdriver.remote.webelement.WebElement (session=\"707a7ba0361f4fa891a80c22ece21528\", element=\"a2ca0f12-fe15-4fd6-9caf-b490b867001c\")>, <selenium.webdriver.remote.webelement.WebElement (session=\"707a7ba0361f4fa891a80c22ece21528\", element=\"e9525852-772b-4557-9fdd-2566c1a51182\")>, <selenium.webdriver.remote.webelement.WebElement (session=\"707a7ba0361f4fa891a80c22ece21528\", element=\"72b0aa78-67f5-4677-9ae9-895c4fe1270a\")>, <selenium.webdriver.remote.webelement.WebElement (session=\"707a7ba0361f4fa891a80c22ece21528\", element=\"0f13b15e-4bd8-4272-8bde-fd59d363fe6b\")>, <selenium.webdriver.remote.webelement.WebElement (session=\"707a7ba0361f4fa891a80c22ece21528\", element=\"4da4c80d-3291-4cdd-9035-3d0e1c25a1e6\")>, <selenium.webdriver.remote.webelement.WebElement (session=\"707a7ba0361f4fa891a80c22ece21528\", element=\"718715cf-7cd7-4254-9d91-17b342e6482b\")>, <selenium.webdriver.remote.webelement.WebElement (session=\"707a7ba0361f4fa891a80c22ece21528\", element=\"b55d7528-6a45-4dd6-bca3-fb1fb9582cc1\")>, <selenium.webdriver.remote.webelement.WebElement (session=\"707a7ba0361f4fa891a80c22ece21528\", element=\"32e2fee5-ecd7-4adb-a355-b1d1bd71d66a\")>, <selenium.webdriver.remote.webelement.WebElement (session=\"707a7ba0361f4fa891a80c22ece21528\", element=\"77964bff-37b8-4ccd-a357-f21a4a706002\")>, <selenium.webdriver.remote.webelement.WebElement (session=\"707a7ba0361f4fa891a80c22ece21528\", element=\"a6e11b3c-46c5-478c-b36a-76e42fc0bc72\")>, <selenium.webdriver.remote.webelement.WebElement (session=\"707a7ba0361f4fa891a80c22ece21528\", element=\"5e8b7112-f404-4b09-89b9-78275e3ecc6d\")>, <selenium.webdriver.remote.webelement.WebElement (session=\"707a7ba0361f4fa891a80c22ece21528\", element=\"692310a7-8fce-4bac-98df-c7fc887d6e5b\")>, <selenium.webdriver.remote.webelement.WebElement (session=\"707a7ba0361f4fa891a80c22ece21528\", element=\"b9b51e74-eda7-4013-8467-8fb239282af8\")>, <selenium.webdriver.remote.webelement.WebElement (session=\"707a7ba0361f4fa891a80c22ece21528\", element=\"83f0e482-e733-4d80-8fcd-bf3e36fc9646\")>, <selenium.webdriver.remote.webelement.WebElement (session=\"707a7ba0361f4fa891a80c22ece21528\", element=\"4788b81a-4c59-4733-ac85-5cb8928f5958\")>, <selenium.webdriver.remote.webelement.WebElement (session=\"707a7ba0361f4fa891a80c22ece21528\", element=\"98785ecb-9f8c-4c5d-a581-1db8e2ae7440\")>, <selenium.webdriver.remote.webelement.WebElement (session=\"707a7ba0361f4fa891a80c22ece21528\", element=\"6fa8201d-95c5-4834-8406-801adb5b7139\")>, <selenium.webdriver.remote.webelement.WebElement (session=\"707a7ba0361f4fa891a80c22ece21528\", element=\"79e2a01e-0db1-4281-aa33-f4a6219f1789\")>, <selenium.webdriver.remote.webelement.WebElement (session=\"707a7ba0361f4fa891a80c22ece21528\", element=\"0c3051a5-b183-47ff-90f4-1b1c43dc23d1\")>, <selenium.webdriver.remote.webelement.WebElement (session=\"707a7ba0361f4fa891a80c22ece21528\", element=\"b4870894-7c75-470f-b887-94c0f25f319e\")>, <selenium.webdriver.remote.webelement.WebElement (session=\"707a7ba0361f4fa891a80c22ece21528\", element=\"8693633e-2898-4c9a-b410-21eccc775eb2\")>, <selenium.webdriver.remote.webelement.WebElement (session=\"707a7ba0361f4fa891a80c22ece21528\", element=\"cbb3ebf5-6280-4078-aad5-c2a0c5572ad2\")>, <selenium.webdriver.remote.webelement.WebElement (session=\"707a7ba0361f4fa891a80c22ece21528\", element=\"91b6332b-f10c-48f4-b7d1-89fd814259b7\")>, <selenium.webdriver.remote.webelement.WebElement (session=\"707a7ba0361f4fa891a80c22ece21528\", element=\"8d5fdf12-cc44-4a8a-a259-9b79ea332e40\")>, <selenium.webdriver.remote.webelement.WebElement (session=\"707a7ba0361f4fa891a80c22ece21528\", element=\"3d5dd2f4-fd88-44be-b7d5-6b8257c4eafc\")>, <selenium.webdriver.remote.webelement.WebElement (session=\"707a7ba0361f4fa891a80c22ece21528\", element=\"a5976425-b1f8-41d1-b2b6-3eea041abdd9\")>, <selenium.webdriver.remote.webelement.WebElement (session=\"707a7ba0361f4fa891a80c22ece21528\", element=\"f6b4af4d-e929-47d7-95b7-856d641bc135\")>, <selenium.webdriver.remote.webelement.WebElement (session=\"707a7ba0361f4fa891a80c22ece21528\", element=\"3e1d9577-3a09-4662-af06-7bdb2e07f1b2\")>]\n"
    }
   ],
   "source": [
    "div_elements = driver.find_elements_by_tag_name(\"div\")\n",
    "print(type(div_elements))\n",
    "print(div_elements)"
   ]
  },
  {
   "cell_type": "markdown",
   "metadata": {},
   "source": [
    "##### テキストの取り出し"
   ]
  },
  {
   "cell_type": "markdown",
   "metadata": {},
   "source": [
    "<div class=\"search_detail_submit\">\n",
    "<input type=\"submit\" value=\"検索\" class=\"button\" />　<input type=\"reset\" value=\"クリア\" class=\"button\" />\n",
    "<p>\n",
    "※1956年以降の中央競馬のレース結果が対象です。<br />\n",
    "※チェックのない場合は、すべて選択となります。<br />\n",
    "※馬齢・賞金は現在の表記にて統一しています。<br />\n",
    "※重賞は障害競走(JG1など)を含みます。<br />\n",
    "※距離は範囲指定、距離選択両方を記入した場合はand検索となります。\n",
    "</p>\n",
    "</div>"
   ]
  },
  {
   "cell_type": "code",
   "execution_count": 318,
   "metadata": {},
   "outputs": [
    {
     "output_type": "stream",
     "name": "stdout",
     "text": "<selenium.webdriver.remote.webelement.WebElement (session=\"707a7ba0361f4fa891a80c22ece21528\", element=\"a41f64d7-df25-4f0a-b824-e54ffce01c77\")>\n※1956年以降の中央競馬のレース結果が対象です。\n※チェックのない場合は、すべて選択となります。\n※馬齢・賞金は現在の表記にて統一しています。\n※重賞は障害競走(JG1など)を含みます。\n※距離は範囲指定、距離選択両方を記入した場合はand検索となります。\n"
    }
   ],
   "source": [
    "search_e = driver.find_element_by_class_name(\"search_detail_submit\")#\n",
    "print(search_e)\n",
    "search_p_e = search_e.find_element_by_tag_name(\"p\")\n",
    "text = search_p_e.text#要素のなかのテキストを取得します\n",
    "print(text)"
   ]
  },
  {
   "cell_type": "markdown",
   "metadata": {},
   "source": [
    "##### チェックボックスの操作"
   ]
  },
  {
   "cell_type": "markdown",
   "metadata": {},
   "source": [
    "<input type=\"checkbox\" name=\"jyo[]\" value=\"01\" class=\"check\" id=\"check_Jyo_01\"  /><label for=\"check_Jyo_01\">札幌</label>　"
   ]
  },
  {
   "cell_type": "code",
   "execution_count": 319,
   "metadata": {},
   "outputs": [],
   "source": [
    "check_Jyo_01_element = driver.find_element_by_id(\"check_Jyo_01\")\n",
    "check_Jyo_01_element.click()#inputタグのチェックボックスをクリックできます"
   ]
  },
  {
   "cell_type": "markdown",
   "metadata": {},
   "source": [
    "##### テキストボックスに入力"
   ]
  },
  {
   "cell_type": "markdown",
   "metadata": {},
   "source": [
    "<input type=\"text\" name=\"kyori_min\" size=\"10\" class=\"field_2\" value=\"\">\n",
    "<input type=\"text\" name=\"kyori_max\" size=\"10\" class=\"field_2\" value=\"\">"
   ]
  },
  {
   "cell_type": "code",
   "execution_count": 320,
   "metadata": {},
   "outputs": [],
   "source": [
    "kyori_min = driver.find_element_by_name(\"kyori_min\")\n",
    "kyori_min.send_keys(\"1000\")\n",
    "kyori_max = driver.find_element_by_name(\"kyori_max\")\n",
    "kyori_max.send_keys(\"1500\")"
   ]
  },
  {
   "cell_type": "markdown",
   "metadata": {},
   "source": [
    "##### セレクトボックスの選択"
   ]
  },
  {
   "cell_type": "markdown",
   "metadata": {},
   "source": [
    "<select name=\"list\" class=\"field\">\n",
    "<option value=\"20\" selected>20</option><option value=\"50\" >50</option><option value=\"100\" >100</option>\n",
    "</select>"
   ]
  },
  {
   "cell_type": "code",
   "execution_count": 321,
   "metadata": {},
   "outputs": [],
   "source": [
    "list_element = driver.find_element_by_name('list')\n",
    "list_select = Select(list_element)#Selectタグ用のクラス　インスタンスを生成\n",
    "list_select.select_by_value(\"100\")#100を選択"
   ]
  },
  {
   "cell_type": "markdown",
   "metadata": {},
   "source": [
    "##### submitする"
   ]
  },
  {
   "cell_type": "code",
   "execution_count": 322,
   "metadata": {},
   "outputs": [],
   "source": [
    "list_element.submit()"
   ]
  },
  {
   "cell_type": "code",
   "execution_count": null,
   "metadata": {},
   "outputs": [],
   "source": []
  },
  {
   "cell_type": "markdown",
   "metadata": {},
   "source": [
    "# 4 データ処理\n",
    "\n",
    "## 4.1 データ処理の流れ  \n",
    "- 要らない文字列や数値を削除データをきれいにする\n",
    "- 既存のデータから新しいデータの作成・分析\n",
    "- 文字列を数値にする\n",
    "\n",
    "\n",
    "## 4.2 今回紹介するライブラリ\n",
    "### pandas \n",
    "pandasはPythonのライブラリの1つでデータを効率的に扱うために開発されたものです。例えばcsvファイルなどの基本的なデータファイルを読み込み、追加や、修正、削除、など様々な処理をすることができます。"
   ]
  },
  {
   "cell_type": "markdown",
   "metadata": {},
   "source": [
    "## 4.3 pandasのデータ構造\n",
    "1次元のデータを扱うSeriesや2次元のデータを扱うDataframeといった主要なデータ構造を備えています。\n"
   ]
  },
  {
   "cell_type": "markdown",
   "metadata": {},
   "source": [
    "#### インストール"
   ]
  },
  {
   "cell_type": "code",
   "execution_count": 323,
   "metadata": {},
   "outputs": [
    {
     "output_type": "stream",
     "name": "stdout",
     "text": "Requirement already satisfied: pandas in c:\\users\\info\\appdata\\local\\programs\\python\\python37\\lib\\site-packages (1.0.3)\nRequirement already satisfied: python-dateutil>=2.6.1 in c:\\users\\info\\appdata\\local\\programs\\python\\python37\\lib\\site-packages (from pandas) (2.8.1)\nRequirement already satisfied: numpy>=1.13.3 in c:\\users\\info\\appdata\\local\\programs\\python\\python37\\lib\\site-packages (from pandas) (1.17.2)\nRequirement already satisfied: pytz>=2017.2 in c:\\users\\info\\appdata\\local\\programs\\python\\python37\\lib\\site-packages (from pandas) (2019.3)\nRequirement already satisfied: six>=1.5 in c:\\users\\info\\appdata\\local\\programs\\python\\python37\\lib\\site-packages (from python-dateutil>=2.6.1->pandas) (1.12.0)\n"
    }
   ],
   "source": [
    "!pip install pandas"
   ]
  },
  {
   "cell_type": "markdown",
   "metadata": {},
   "source": [
    "#### インポート"
   ]
  },
  {
   "cell_type": "code",
   "execution_count": 324,
   "metadata": {},
   "outputs": [],
   "source": [
    "import pandas as pd#asを使用することで名前を変更できる（慣例的にpdでインポートする）"
   ]
  },
  {
   "cell_type": "markdown",
   "metadata": {},
   "source": [
    "#### 1次元のデータを扱うSeries"
   ]
  },
  {
   "cell_type": "code",
   "execution_count": 325,
   "metadata": {},
   "outputs": [
    {
     "output_type": "execute_result",
     "data": {
      "text/plain": "0    1\n1    2\n2    3\ndtype: int64"
     },
     "metadata": {},
     "execution_count": 325
    }
   ],
   "source": [
    "l = [1, 2, 3]\n",
    "se = pd.Series(l)\n",
    "se"
   ]
  },
  {
   "cell_type": "code",
   "execution_count": 326,
   "metadata": {},
   "outputs": [
    {
     "output_type": "execute_result",
     "data": {
      "text/plain": "a    1\nb    2\nc    3\ndtype: int64"
     },
     "metadata": {},
     "execution_count": 326
    }
   ],
   "source": [
    "index_l = [\"a\", \"b\", \"c\"]\n",
    "se = pd.Series(l, index=index_l)\n",
    "se"
   ]
  },
  {
   "cell_type": "code",
   "execution_count": 327,
   "metadata": {},
   "outputs": [
    {
     "output_type": "stream",
     "name": "stdout",
     "text": "<class 'pandas.core.indexes.base.Index'>\nIndex(['a', 'b', 'c'], dtype='object')\n<class 'numpy.ndarray'>\n[1 2 3]\n"
    }
   ],
   "source": [
    "#seriesのインデックスを取得\n",
    "print(type(se.index))\n",
    "print(se.index)\n",
    "#seriesの値を取得\n",
    "print(type(se.values))\n",
    "print(se.values)"
   ]
  },
  {
   "cell_type": "markdown",
   "metadata": {},
   "source": [
    "#### 2次元のデータを扱うDataframe"
   ]
  },
  {
   "cell_type": "code",
   "execution_count": 328,
   "metadata": {},
   "outputs": [],
   "source": [
    "\n",
    "columns = [\"id\", \"a\", \"b\", \"c\"]\n",
    "index = [\"A\", \"B\", \"C\", \"D\"]\n",
    "values_A = [1, 1, 2, 3]\n",
    "values_B = [2, 0.1, 0.2, 0.3]\n",
    "values_C = [3, 4, 5, 6]\n",
    "values_D = [4, 0.4, 0.5, 0.36]\n",
    "se_A = pd.Series(values_A, index=columns)\n",
    "se_B = pd.Series(values_B, index=columns)\n",
    "se_C = pd.Series(values_C, index=columns)\n",
    "se_D = pd.Series(values_D, index=columns)\n",
    "df = pd.DataFrame([se_A, se_B, se_C, se_D], index=index)"
   ]
  },
  {
   "cell_type": "code",
   "execution_count": 329,
   "metadata": {},
   "outputs": [
    {
     "output_type": "execute_result",
     "data": {
      "text/plain": "    id    a    b     c\nA  1.0  1.0  2.0  3.00\nB  2.0  0.1  0.2  0.30\nC  3.0  4.0  5.0  6.00\nD  4.0  0.4  0.5  0.36",
      "text/html": "<div>\n<style scoped>\n    .dataframe tbody tr th:only-of-type {\n        vertical-align: middle;\n    }\n\n    .dataframe tbody tr th {\n        vertical-align: top;\n    }\n\n    .dataframe thead th {\n        text-align: right;\n    }\n</style>\n<table border=\"1\" class=\"dataframe\">\n  <thead>\n    <tr style=\"text-align: right;\">\n      <th></th>\n      <th>id</th>\n      <th>a</th>\n      <th>b</th>\n      <th>c</th>\n    </tr>\n  </thead>\n  <tbody>\n    <tr>\n      <th>A</th>\n      <td>1.0</td>\n      <td>1.0</td>\n      <td>2.0</td>\n      <td>3.00</td>\n    </tr>\n    <tr>\n      <th>B</th>\n      <td>2.0</td>\n      <td>0.1</td>\n      <td>0.2</td>\n      <td>0.30</td>\n    </tr>\n    <tr>\n      <th>C</th>\n      <td>3.0</td>\n      <td>4.0</td>\n      <td>5.0</td>\n      <td>6.00</td>\n    </tr>\n    <tr>\n      <th>D</th>\n      <td>4.0</td>\n      <td>0.4</td>\n      <td>0.5</td>\n      <td>0.36</td>\n    </tr>\n  </tbody>\n</table>\n</div>"
     },
     "metadata": {},
     "execution_count": 329
    }
   ],
   "source": [
    "df#Seriesでのインデックスがカラムになります"
   ]
  },
  {
   "cell_type": "code",
   "execution_count": 330,
   "metadata": {},
   "outputs": [
    {
     "output_type": "stream",
     "name": "stdout",
     "text": "<class 'pandas.core.indexes.base.Index'>\nIndex(['A', 'B', 'C', 'D'], dtype='object')\n<class 'pandas.core.indexes.base.Index'>\nIndex(['id', 'a', 'b', 'c'], dtype='object')\n<class 'numpy.ndarray'>\n[[1.   1.   2.   3.  ]\n [2.   0.1  0.2  0.3 ]\n [3.   4.   5.   6.  ]\n [4.   0.4  0.5  0.36]]\n"
    }
   ],
   "source": [
    "print(type(df.index))\n",
    "print(df.index)\n",
    "print(type(df.columns))\n",
    "print(df.columns)\n",
    "print(type(df.values))\n",
    "print(df.values)"
   ]
  },
  {
   "cell_type": "markdown",
   "metadata": {},
   "source": [
    "## 4.4 CSVの保存と読み取り"
   ]
  },
  {
   "cell_type": "code",
   "execution_count": 331,
   "metadata": {},
   "outputs": [],
   "source": [
    "df.to_csv(\"./csv/test.csv\",index=True)"
   ]
  },
  {
   "cell_type": "code",
   "execution_count": 332,
   "metadata": {},
   "outputs": [],
   "source": [
    "csv_df = pd.read_csv(\"./csv/test.csv\", index_col=0 )"
   ]
  },
  {
   "cell_type": "code",
   "execution_count": 333,
   "metadata": {},
   "outputs": [
    {
     "output_type": "execute_result",
     "data": {
      "text/plain": "    id    a    b     c\nA  1.0  1.0  2.0  3.00\nB  2.0  0.1  0.2  0.30\nC  3.0  4.0  5.0  6.00\nD  4.0  0.4  0.5  0.36",
      "text/html": "<div>\n<style scoped>\n    .dataframe tbody tr th:only-of-type {\n        vertical-align: middle;\n    }\n\n    .dataframe tbody tr th {\n        vertical-align: top;\n    }\n\n    .dataframe thead th {\n        text-align: right;\n    }\n</style>\n<table border=\"1\" class=\"dataframe\">\n  <thead>\n    <tr style=\"text-align: right;\">\n      <th></th>\n      <th>id</th>\n      <th>a</th>\n      <th>b</th>\n      <th>c</th>\n    </tr>\n  </thead>\n  <tbody>\n    <tr>\n      <th>A</th>\n      <td>1.0</td>\n      <td>1.0</td>\n      <td>2.0</td>\n      <td>3.00</td>\n    </tr>\n    <tr>\n      <th>B</th>\n      <td>2.0</td>\n      <td>0.1</td>\n      <td>0.2</td>\n      <td>0.30</td>\n    </tr>\n    <tr>\n      <th>C</th>\n      <td>3.0</td>\n      <td>4.0</td>\n      <td>5.0</td>\n      <td>6.00</td>\n    </tr>\n    <tr>\n      <th>D</th>\n      <td>4.0</td>\n      <td>0.4</td>\n      <td>0.5</td>\n      <td>0.36</td>\n    </tr>\n  </tbody>\n</table>\n</div>"
     },
     "metadata": {},
     "execution_count": 333
    }
   ],
   "source": [
    "csv_df"
   ]
  },
  {
   "cell_type": "markdown",
   "metadata": {},
   "source": [
    "## 4.5 データ処理実践"
   ]
  },
  {
   "cell_type": "code",
   "execution_count": 334,
   "metadata": {},
   "outputs": [],
   "source": [
    "race_df = pd.read_csv(\"./csv/race.csv\")"
   ]
  },
  {
   "cell_type": "code",
   "execution_count": 335,
   "metadata": {},
   "outputs": [
    {
     "output_type": "execute_result",
     "data": {
      "text/plain": "        race_id race_round race_title  race_course  weather     ground_status  \\\n0  202006010901        1 R      3歳未勝利      ダ右1200m  天候 : 小雨          ダート : 稍重   \n1  202006010902        2 R      3歳未勝利      ダ右1800m  天候 : 小雨          ダート : 稍重   \n2  202006010903        3 R      3歳未勝利      ダ右1200m  天候 : 小雨          ダート : 稍重   \n3  202006010904        4 R  障害4歳以上未勝利  障芝 ダート2880m  天候 : 小雨  芝 : 稍重  ダート : 稍重   \n4  202006010905        5 R      3歳未勝利    芝右 外1600m   天候 : 曇            芝 : 稍重   \n5  202006010906        6 R       3歳新馬      ダ右1800m   天候 : 曇          ダート : 稍重   \n6  202006010907        7 R  4歳以上1勝クラス      ダ右1200m   天候 : 曇          ダート : 稍重   \n7  202006010908        8 R  4歳以上1勝クラス      ダ右1800m   天候 : 曇          ダート : 稍重   \n8  202006010909        9 R       若竹賞       芝右1800m   天候 : 曇            芝 : 稍重   \n9  202006010910       10 R       初霞賞       ダ右1800m   天候 : 曇          ダート : 稍重   \n\n    time        date where_racecourse  total_horse_number  ...  \\\n0  10:10  2020年1月26日          1回中山9日目                  16  ...   \n1  10:40  2020年1月26日          1回中山9日目                  12  ...   \n2  11:10  2020年1月26日          1回中山9日目                  16  ...   \n3  11:40  2020年1月26日          1回中山9日目                  14  ...   \n4  12:30  2020年1月26日          1回中山9日目                  16  ...   \n5  13:00  2020年1月26日          1回中山9日目                  16  ...   \n6  13:30  2020年1月26日          1回中山9日目                  16  ...   \n7  14:01  2020年1月26日          1回中山9日目                  15  ...   \n8  14:35  2020年1月26日          1回中山9日目                  11  ...   \n9  15:10  2020年1月26日          1回中山9日目                  12  ...   \n\n   hukusyo_second  hukusyo_third  wakuren  umaren  wide_1_2  wide_1_3  \\\n0             120            290      280     330       160       550   \n1             250            340      670   4,910     1,170     1,700   \n2             140            930      350     330       180     1,730   \n3             160            350      700     730       360       910   \n4             620            240    1,670   8,680     2,670       840   \n5             360            180    6,290  20,150     4,490     2,000   \n6             240            140    3,590  65,750    17,740    12,890   \n7             510            270    2,000   9,940     3,450     1,730   \n8             360            180      650   3,080       970       370   \n9             320            410    1,440   1,670       640       710   \n\n  wide_2_3   umatan  renhuku3    rentan3  \n0      760      410     1,520      3,780  \n1    1,160   11,600    11,130     85,850  \n2    2,890      420     5,410     11,420  \n3    1,060    1,290     3,270     10,420  \n4    2,350   15,610    16,870     97,640  \n5    1,060   48,320    25,600    243,880  \n6      610  169,200    67,840  1,053,350  \n7    2,820   17,490    28,960    176,040  \n8      970    4,230     3,870     20,150  \n9    2,700    2,010     7,240     22,020  \n\n[10 rows x 28 columns]",
      "text/html": "<div>\n<style scoped>\n    .dataframe tbody tr th:only-of-type {\n        vertical-align: middle;\n    }\n\n    .dataframe tbody tr th {\n        vertical-align: top;\n    }\n\n    .dataframe thead th {\n        text-align: right;\n    }\n</style>\n<table border=\"1\" class=\"dataframe\">\n  <thead>\n    <tr style=\"text-align: right;\">\n      <th></th>\n      <th>race_id</th>\n      <th>race_round</th>\n      <th>race_title</th>\n      <th>race_course</th>\n      <th>weather</th>\n      <th>ground_status</th>\n      <th>time</th>\n      <th>date</th>\n      <th>where_racecourse</th>\n      <th>total_horse_number</th>\n      <th>...</th>\n      <th>hukusyo_second</th>\n      <th>hukusyo_third</th>\n      <th>wakuren</th>\n      <th>umaren</th>\n      <th>wide_1_2</th>\n      <th>wide_1_3</th>\n      <th>wide_2_3</th>\n      <th>umatan</th>\n      <th>renhuku3</th>\n      <th>rentan3</th>\n    </tr>\n  </thead>\n  <tbody>\n    <tr>\n      <th>0</th>\n      <td>202006010901</td>\n      <td>1 R</td>\n      <td>3歳未勝利</td>\n      <td>ダ右1200m</td>\n      <td>天候 : 小雨</td>\n      <td>ダート : 稍重</td>\n      <td>10:10</td>\n      <td>2020年1月26日</td>\n      <td>1回中山9日目</td>\n      <td>16</td>\n      <td>...</td>\n      <td>120</td>\n      <td>290</td>\n      <td>280</td>\n      <td>330</td>\n      <td>160</td>\n      <td>550</td>\n      <td>760</td>\n      <td>410</td>\n      <td>1,520</td>\n      <td>3,780</td>\n    </tr>\n    <tr>\n      <th>1</th>\n      <td>202006010902</td>\n      <td>2 R</td>\n      <td>3歳未勝利</td>\n      <td>ダ右1800m</td>\n      <td>天候 : 小雨</td>\n      <td>ダート : 稍重</td>\n      <td>10:40</td>\n      <td>2020年1月26日</td>\n      <td>1回中山9日目</td>\n      <td>12</td>\n      <td>...</td>\n      <td>250</td>\n      <td>340</td>\n      <td>670</td>\n      <td>4,910</td>\n      <td>1,170</td>\n      <td>1,700</td>\n      <td>1,160</td>\n      <td>11,600</td>\n      <td>11,130</td>\n      <td>85,850</td>\n    </tr>\n    <tr>\n      <th>2</th>\n      <td>202006010903</td>\n      <td>3 R</td>\n      <td>3歳未勝利</td>\n      <td>ダ右1200m</td>\n      <td>天候 : 小雨</td>\n      <td>ダート : 稍重</td>\n      <td>11:10</td>\n      <td>2020年1月26日</td>\n      <td>1回中山9日目</td>\n      <td>16</td>\n      <td>...</td>\n      <td>140</td>\n      <td>930</td>\n      <td>350</td>\n      <td>330</td>\n      <td>180</td>\n      <td>1,730</td>\n      <td>2,890</td>\n      <td>420</td>\n      <td>5,410</td>\n      <td>11,420</td>\n    </tr>\n    <tr>\n      <th>3</th>\n      <td>202006010904</td>\n      <td>4 R</td>\n      <td>障害4歳以上未勝利</td>\n      <td>障芝 ダート2880m</td>\n      <td>天候 : 小雨</td>\n      <td>芝 : 稍重  ダート : 稍重</td>\n      <td>11:40</td>\n      <td>2020年1月26日</td>\n      <td>1回中山9日目</td>\n      <td>14</td>\n      <td>...</td>\n      <td>160</td>\n      <td>350</td>\n      <td>700</td>\n      <td>730</td>\n      <td>360</td>\n      <td>910</td>\n      <td>1,060</td>\n      <td>1,290</td>\n      <td>3,270</td>\n      <td>10,420</td>\n    </tr>\n    <tr>\n      <th>4</th>\n      <td>202006010905</td>\n      <td>5 R</td>\n      <td>3歳未勝利</td>\n      <td>芝右 外1600m</td>\n      <td>天候 : 曇</td>\n      <td>芝 : 稍重</td>\n      <td>12:30</td>\n      <td>2020年1月26日</td>\n      <td>1回中山9日目</td>\n      <td>16</td>\n      <td>...</td>\n      <td>620</td>\n      <td>240</td>\n      <td>1,670</td>\n      <td>8,680</td>\n      <td>2,670</td>\n      <td>840</td>\n      <td>2,350</td>\n      <td>15,610</td>\n      <td>16,870</td>\n      <td>97,640</td>\n    </tr>\n    <tr>\n      <th>5</th>\n      <td>202006010906</td>\n      <td>6 R</td>\n      <td>3歳新馬</td>\n      <td>ダ右1800m</td>\n      <td>天候 : 曇</td>\n      <td>ダート : 稍重</td>\n      <td>13:00</td>\n      <td>2020年1月26日</td>\n      <td>1回中山9日目</td>\n      <td>16</td>\n      <td>...</td>\n      <td>360</td>\n      <td>180</td>\n      <td>6,290</td>\n      <td>20,150</td>\n      <td>4,490</td>\n      <td>2,000</td>\n      <td>1,060</td>\n      <td>48,320</td>\n      <td>25,600</td>\n      <td>243,880</td>\n    </tr>\n    <tr>\n      <th>6</th>\n      <td>202006010907</td>\n      <td>7 R</td>\n      <td>4歳以上1勝クラス</td>\n      <td>ダ右1200m</td>\n      <td>天候 : 曇</td>\n      <td>ダート : 稍重</td>\n      <td>13:30</td>\n      <td>2020年1月26日</td>\n      <td>1回中山9日目</td>\n      <td>16</td>\n      <td>...</td>\n      <td>240</td>\n      <td>140</td>\n      <td>3,590</td>\n      <td>65,750</td>\n      <td>17,740</td>\n      <td>12,890</td>\n      <td>610</td>\n      <td>169,200</td>\n      <td>67,840</td>\n      <td>1,053,350</td>\n    </tr>\n    <tr>\n      <th>7</th>\n      <td>202006010908</td>\n      <td>8 R</td>\n      <td>4歳以上1勝クラス</td>\n      <td>ダ右1800m</td>\n      <td>天候 : 曇</td>\n      <td>ダート : 稍重</td>\n      <td>14:01</td>\n      <td>2020年1月26日</td>\n      <td>1回中山9日目</td>\n      <td>15</td>\n      <td>...</td>\n      <td>510</td>\n      <td>270</td>\n      <td>2,000</td>\n      <td>9,940</td>\n      <td>3,450</td>\n      <td>1,730</td>\n      <td>2,820</td>\n      <td>17,490</td>\n      <td>28,960</td>\n      <td>176,040</td>\n    </tr>\n    <tr>\n      <th>8</th>\n      <td>202006010909</td>\n      <td>9 R</td>\n      <td>若竹賞</td>\n      <td>芝右1800m</td>\n      <td>天候 : 曇</td>\n      <td>芝 : 稍重</td>\n      <td>14:35</td>\n      <td>2020年1月26日</td>\n      <td>1回中山9日目</td>\n      <td>11</td>\n      <td>...</td>\n      <td>360</td>\n      <td>180</td>\n      <td>650</td>\n      <td>3,080</td>\n      <td>970</td>\n      <td>370</td>\n      <td>970</td>\n      <td>4,230</td>\n      <td>3,870</td>\n      <td>20,150</td>\n    </tr>\n    <tr>\n      <th>9</th>\n      <td>202006010910</td>\n      <td>10 R</td>\n      <td>初霞賞</td>\n      <td>ダ右1800m</td>\n      <td>天候 : 曇</td>\n      <td>ダート : 稍重</td>\n      <td>15:10</td>\n      <td>2020年1月26日</td>\n      <td>1回中山9日目</td>\n      <td>12</td>\n      <td>...</td>\n      <td>320</td>\n      <td>410</td>\n      <td>1,440</td>\n      <td>1,670</td>\n      <td>640</td>\n      <td>710</td>\n      <td>2,700</td>\n      <td>2,010</td>\n      <td>7,240</td>\n      <td>22,020</td>\n    </tr>\n  </tbody>\n</table>\n<p>10 rows × 28 columns</p>\n</div>"
     },
     "metadata": {},
     "execution_count": 335
    }
   ],
   "source": [
    "race_df"
   ]
  },
  {
   "cell_type": "markdown",
   "metadata": {},
   "source": [
    "### 要らないデータを削除"
   ]
  },
  {
   "cell_type": "code",
   "execution_count": 336,
   "metadata": {},
   "outputs": [],
   "source": [
    "race_df = race_df.drop(['race_title'], axis=1)#columnを指定し列を削除axis=1は列を削除することを指定）"
   ]
  },
  {
   "cell_type": "code",
   "execution_count": 337,
   "metadata": {},
   "outputs": [
    {
     "output_type": "execute_result",
     "data": {
      "text/plain": "        race_id race_round  race_course  weather     ground_status   time  \\\n0  202006010901        1 R      ダ右1200m  天候 : 小雨          ダート : 稍重  10:10   \n1  202006010902        2 R      ダ右1800m  天候 : 小雨          ダート : 稍重  10:40   \n2  202006010903        3 R      ダ右1200m  天候 : 小雨          ダート : 稍重  11:10   \n3  202006010904        4 R  障芝 ダート2880m  天候 : 小雨  芝 : 稍重  ダート : 稍重  11:40   \n4  202006010905        5 R    芝右 外1600m   天候 : 曇            芝 : 稍重  12:30   \n5  202006010906        6 R      ダ右1800m   天候 : 曇          ダート : 稍重  13:00   \n6  202006010907        7 R      ダ右1200m   天候 : 曇          ダート : 稍重  13:30   \n7  202006010908        8 R      ダ右1800m   天候 : 曇          ダート : 稍重  14:01   \n8  202006010909        9 R      芝右1800m   天候 : 曇            芝 : 稍重  14:35   \n9  202006010910       10 R      ダ右1800m   天候 : 曇          ダート : 稍重  15:10   \n\n         date where_racecourse  total_horse_number  frame_number_first  ...  \\\n0  2020年1月26日          1回中山9日目                  16                   6  ...   \n1  2020年1月26日          1回中山9日目                  12                   6  ...   \n2  2020年1月26日          1回中山9日目                  16                   3  ...   \n3  2020年1月26日          1回中山9日目                  14                   7  ...   \n4  2020年1月26日          1回中山9日目                  16                   1  ...   \n5  2020年1月26日          1回中山9日目                  16                   8  ...   \n6  2020年1月26日          1回中山9日目                  16                   3  ...   \n7  2020年1月26日          1回中山9日目                  15                   2  ...   \n8  2020年1月26日          1回中山9日目                  11                   7  ...   \n9  2020年1月26日          1回中山9日目                  12                   5  ...   \n\n   hukusyo_second  hukusyo_third  wakuren  umaren  wide_1_2 wide_1_3 wide_2_3  \\\n0             120            290      280     330       160      550      760   \n1             250            340      670   4,910     1,170    1,700    1,160   \n2             140            930      350     330       180    1,730    2,890   \n3             160            350      700     730       360      910    1,060   \n4             620            240    1,670   8,680     2,670      840    2,350   \n5             360            180    6,290  20,150     4,490    2,000    1,060   \n6             240            140    3,590  65,750    17,740   12,890      610   \n7             510            270    2,000   9,940     3,450    1,730    2,820   \n8             360            180      650   3,080       970      370      970   \n9             320            410    1,440   1,670       640      710    2,700   \n\n    umatan  renhuku3    rentan3  \n0      410     1,520      3,780  \n1   11,600    11,130     85,850  \n2      420     5,410     11,420  \n3    1,290     3,270     10,420  \n4   15,610    16,870     97,640  \n5   48,320    25,600    243,880  \n6  169,200    67,840  1,053,350  \n7   17,490    28,960    176,040  \n8    4,230     3,870     20,150  \n9    2,010     7,240     22,020  \n\n[10 rows x 27 columns]",
      "text/html": "<div>\n<style scoped>\n    .dataframe tbody tr th:only-of-type {\n        vertical-align: middle;\n    }\n\n    .dataframe tbody tr th {\n        vertical-align: top;\n    }\n\n    .dataframe thead th {\n        text-align: right;\n    }\n</style>\n<table border=\"1\" class=\"dataframe\">\n  <thead>\n    <tr style=\"text-align: right;\">\n      <th></th>\n      <th>race_id</th>\n      <th>race_round</th>\n      <th>race_course</th>\n      <th>weather</th>\n      <th>ground_status</th>\n      <th>time</th>\n      <th>date</th>\n      <th>where_racecourse</th>\n      <th>total_horse_number</th>\n      <th>frame_number_first</th>\n      <th>...</th>\n      <th>hukusyo_second</th>\n      <th>hukusyo_third</th>\n      <th>wakuren</th>\n      <th>umaren</th>\n      <th>wide_1_2</th>\n      <th>wide_1_3</th>\n      <th>wide_2_3</th>\n      <th>umatan</th>\n      <th>renhuku3</th>\n      <th>rentan3</th>\n    </tr>\n  </thead>\n  <tbody>\n    <tr>\n      <th>0</th>\n      <td>202006010901</td>\n      <td>1 R</td>\n      <td>ダ右1200m</td>\n      <td>天候 : 小雨</td>\n      <td>ダート : 稍重</td>\n      <td>10:10</td>\n      <td>2020年1月26日</td>\n      <td>1回中山9日目</td>\n      <td>16</td>\n      <td>6</td>\n      <td>...</td>\n      <td>120</td>\n      <td>290</td>\n      <td>280</td>\n      <td>330</td>\n      <td>160</td>\n      <td>550</td>\n      <td>760</td>\n      <td>410</td>\n      <td>1,520</td>\n      <td>3,780</td>\n    </tr>\n    <tr>\n      <th>1</th>\n      <td>202006010902</td>\n      <td>2 R</td>\n      <td>ダ右1800m</td>\n      <td>天候 : 小雨</td>\n      <td>ダート : 稍重</td>\n      <td>10:40</td>\n      <td>2020年1月26日</td>\n      <td>1回中山9日目</td>\n      <td>12</td>\n      <td>6</td>\n      <td>...</td>\n      <td>250</td>\n      <td>340</td>\n      <td>670</td>\n      <td>4,910</td>\n      <td>1,170</td>\n      <td>1,700</td>\n      <td>1,160</td>\n      <td>11,600</td>\n      <td>11,130</td>\n      <td>85,850</td>\n    </tr>\n    <tr>\n      <th>2</th>\n      <td>202006010903</td>\n      <td>3 R</td>\n      <td>ダ右1200m</td>\n      <td>天候 : 小雨</td>\n      <td>ダート : 稍重</td>\n      <td>11:10</td>\n      <td>2020年1月26日</td>\n      <td>1回中山9日目</td>\n      <td>16</td>\n      <td>3</td>\n      <td>...</td>\n      <td>140</td>\n      <td>930</td>\n      <td>350</td>\n      <td>330</td>\n      <td>180</td>\n      <td>1,730</td>\n      <td>2,890</td>\n      <td>420</td>\n      <td>5,410</td>\n      <td>11,420</td>\n    </tr>\n    <tr>\n      <th>3</th>\n      <td>202006010904</td>\n      <td>4 R</td>\n      <td>障芝 ダート2880m</td>\n      <td>天候 : 小雨</td>\n      <td>芝 : 稍重  ダート : 稍重</td>\n      <td>11:40</td>\n      <td>2020年1月26日</td>\n      <td>1回中山9日目</td>\n      <td>14</td>\n      <td>7</td>\n      <td>...</td>\n      <td>160</td>\n      <td>350</td>\n      <td>700</td>\n      <td>730</td>\n      <td>360</td>\n      <td>910</td>\n      <td>1,060</td>\n      <td>1,290</td>\n      <td>3,270</td>\n      <td>10,420</td>\n    </tr>\n    <tr>\n      <th>4</th>\n      <td>202006010905</td>\n      <td>5 R</td>\n      <td>芝右 外1600m</td>\n      <td>天候 : 曇</td>\n      <td>芝 : 稍重</td>\n      <td>12:30</td>\n      <td>2020年1月26日</td>\n      <td>1回中山9日目</td>\n      <td>16</td>\n      <td>1</td>\n      <td>...</td>\n      <td>620</td>\n      <td>240</td>\n      <td>1,670</td>\n      <td>8,680</td>\n      <td>2,670</td>\n      <td>840</td>\n      <td>2,350</td>\n      <td>15,610</td>\n      <td>16,870</td>\n      <td>97,640</td>\n    </tr>\n    <tr>\n      <th>5</th>\n      <td>202006010906</td>\n      <td>6 R</td>\n      <td>ダ右1800m</td>\n      <td>天候 : 曇</td>\n      <td>ダート : 稍重</td>\n      <td>13:00</td>\n      <td>2020年1月26日</td>\n      <td>1回中山9日目</td>\n      <td>16</td>\n      <td>8</td>\n      <td>...</td>\n      <td>360</td>\n      <td>180</td>\n      <td>6,290</td>\n      <td>20,150</td>\n      <td>4,490</td>\n      <td>2,000</td>\n      <td>1,060</td>\n      <td>48,320</td>\n      <td>25,600</td>\n      <td>243,880</td>\n    </tr>\n    <tr>\n      <th>6</th>\n      <td>202006010907</td>\n      <td>7 R</td>\n      <td>ダ右1200m</td>\n      <td>天候 : 曇</td>\n      <td>ダート : 稍重</td>\n      <td>13:30</td>\n      <td>2020年1月26日</td>\n      <td>1回中山9日目</td>\n      <td>16</td>\n      <td>3</td>\n      <td>...</td>\n      <td>240</td>\n      <td>140</td>\n      <td>3,590</td>\n      <td>65,750</td>\n      <td>17,740</td>\n      <td>12,890</td>\n      <td>610</td>\n      <td>169,200</td>\n      <td>67,840</td>\n      <td>1,053,350</td>\n    </tr>\n    <tr>\n      <th>7</th>\n      <td>202006010908</td>\n      <td>8 R</td>\n      <td>ダ右1800m</td>\n      <td>天候 : 曇</td>\n      <td>ダート : 稍重</td>\n      <td>14:01</td>\n      <td>2020年1月26日</td>\n      <td>1回中山9日目</td>\n      <td>15</td>\n      <td>2</td>\n      <td>...</td>\n      <td>510</td>\n      <td>270</td>\n      <td>2,000</td>\n      <td>9,940</td>\n      <td>3,450</td>\n      <td>1,730</td>\n      <td>2,820</td>\n      <td>17,490</td>\n      <td>28,960</td>\n      <td>176,040</td>\n    </tr>\n    <tr>\n      <th>8</th>\n      <td>202006010909</td>\n      <td>9 R</td>\n      <td>芝右1800m</td>\n      <td>天候 : 曇</td>\n      <td>芝 : 稍重</td>\n      <td>14:35</td>\n      <td>2020年1月26日</td>\n      <td>1回中山9日目</td>\n      <td>11</td>\n      <td>7</td>\n      <td>...</td>\n      <td>360</td>\n      <td>180</td>\n      <td>650</td>\n      <td>3,080</td>\n      <td>970</td>\n      <td>370</td>\n      <td>970</td>\n      <td>4,230</td>\n      <td>3,870</td>\n      <td>20,150</td>\n    </tr>\n    <tr>\n      <th>9</th>\n      <td>202006010910</td>\n      <td>10 R</td>\n      <td>ダ右1800m</td>\n      <td>天候 : 曇</td>\n      <td>ダート : 稍重</td>\n      <td>15:10</td>\n      <td>2020年1月26日</td>\n      <td>1回中山9日目</td>\n      <td>12</td>\n      <td>5</td>\n      <td>...</td>\n      <td>320</td>\n      <td>410</td>\n      <td>1,440</td>\n      <td>1,670</td>\n      <td>640</td>\n      <td>710</td>\n      <td>2,700</td>\n      <td>2,010</td>\n      <td>7,240</td>\n      <td>22,020</td>\n    </tr>\n  </tbody>\n</table>\n<p>10 rows × 27 columns</p>\n</div>"
     },
     "metadata": {},
     "execution_count": 337
    }
   ],
   "source": [
    "race_df"
   ]
  },
  {
   "cell_type": "code",
   "execution_count": 338,
   "metadata": {},
   "outputs": [
    {
     "output_type": "stream",
     "name": "stdout",
     "text": "(10, 27)\n"
    }
   ],
   "source": [
    "print(race_df.shape)#データの形を確認"
   ]
  },
  {
   "cell_type": "code",
   "execution_count": 339,
   "metadata": {},
   "outputs": [
    {
     "output_type": "execute_result",
     "data": {
      "text/plain": "0    天候 : 小雨\n1    天候 : 小雨\n2    天候 : 小雨\n3    天候 : 小雨\n4     天候 : 曇\n5     天候 : 曇\n6     天候 : 曇\n7     天候 : 曇\n8     天候 : 曇\n9     天候 : 曇\nName: weather, dtype: object"
     },
     "metadata": {},
     "execution_count": 339
    }
   ],
   "source": [
    "race_df['weather']#columnを指定し列を取得する"
   ]
  },
  {
   "cell_type": "code",
   "execution_count": 340,
   "metadata": {},
   "outputs": [
    {
     "output_type": "execute_result",
     "data": {
      "text/plain": "array(['天候 : 小雨', '天候 : 曇'], dtype=object)"
     },
     "metadata": {},
     "execution_count": 340
    }
   ],
   "source": [
    "race_df['weather'].unique()#ユニークな要素だけを取得する"
   ]
  },
  {
   "cell_type": "code",
   "execution_count": 341,
   "metadata": {},
   "outputs": [
    {
     "output_type": "execute_result",
     "data": {
      "text/plain": "0    小雨\n1    小雨\n2    小雨\n3    小雨\n4     曇\n5     曇\n6     曇\n7     曇\n8     曇\n9     曇\nName: weather, dtype: object"
     },
     "metadata": {},
     "execution_count": 341
    }
   ],
   "source": [
    "race_df['weather'] = race_df['weather'].str.strip('天候 : ')#strで文字列のを操作することができる　stripで指定した文字列を削除\n",
    "race_df[\"weather\"]"
   ]
  },
  {
   "cell_type": "markdown",
   "metadata": {},
   "source": [
    "###  文字列を数値にする"
   ]
  },
  {
   "cell_type": "code",
   "execution_count": 342,
   "metadata": {},
   "outputs": [],
   "source": [
    "race_df = pd.get_dummies(race_df, columns=[\"weather\"])"
   ]
  },
  {
   "cell_type": "code",
   "execution_count": 343,
   "metadata": {},
   "outputs": [
    {
     "output_type": "execute_result",
     "data": {
      "text/plain": "        race_id race_round  race_course     ground_status   time        date  \\\n0  202006010901        1 R      ダ右1200m          ダート : 稍重  10:10  2020年1月26日   \n1  202006010902        2 R      ダ右1800m          ダート : 稍重  10:40  2020年1月26日   \n2  202006010903        3 R      ダ右1200m          ダート : 稍重  11:10  2020年1月26日   \n3  202006010904        4 R  障芝 ダート2880m  芝 : 稍重  ダート : 稍重  11:40  2020年1月26日   \n4  202006010905        5 R    芝右 外1600m            芝 : 稍重  12:30  2020年1月26日   \n5  202006010906        6 R      ダ右1800m          ダート : 稍重  13:00  2020年1月26日   \n6  202006010907        7 R      ダ右1200m          ダート : 稍重  13:30  2020年1月26日   \n7  202006010908        8 R      ダ右1800m          ダート : 稍重  14:01  2020年1月26日   \n8  202006010909        9 R      芝右1800m            芝 : 稍重  14:35  2020年1月26日   \n9  202006010910       10 R      ダ右1800m          ダート : 稍重  15:10  2020年1月26日   \n\n  where_racecourse  total_horse_number  frame_number_first  \\\n0          1回中山9日目                  16                   6   \n1          1回中山9日目                  12                   6   \n2          1回中山9日目                  16                   3   \n3          1回中山9日目                  14                   7   \n4          1回中山9日目                  16                   1   \n5          1回中山9日目                  16                   8   \n6          1回中山9日目                  16                   3   \n7          1回中山9日目                  15                   2   \n8          1回中山9日目                  11                   7   \n9          1回中山9日目                  12                   5   \n\n   horse_number_first  ...  wakuren  umaren  wide_1_2  wide_1_3 wide_2_3  \\\n0                  11  ...      280     330       160       550      760   \n1                   7  ...      670   4,910     1,170     1,700    1,160   \n2                   6  ...      350     330       180     1,730    2,890   \n3                  12  ...      700     730       360       910    1,060   \n4                   1  ...    1,670   8,680     2,670       840    2,350   \n5                  16  ...    6,290  20,150     4,490     2,000    1,060   \n6                   5  ...    3,590  65,750    17,740    12,890      610   \n7                   3  ...    2,000   9,940     3,450     1,730    2,820   \n8                   8  ...      650   3,080       970       370      970   \n9                   5  ...    1,440   1,670       640       710    2,700   \n\n    umatan  renhuku3    rentan3 weather_小雨 weather_曇  \n0      410     1,520      3,780          1         0  \n1   11,600    11,130     85,850          1         0  \n2      420     5,410     11,420          1         0  \n3    1,290     3,270     10,420          1         0  \n4   15,610    16,870     97,640          0         1  \n5   48,320    25,600    243,880          0         1  \n6  169,200    67,840  1,053,350          0         1  \n7   17,490    28,960    176,040          0         1  \n8    4,230     3,870     20,150          0         1  \n9    2,010     7,240     22,020          0         1  \n\n[10 rows x 28 columns]",
      "text/html": "<div>\n<style scoped>\n    .dataframe tbody tr th:only-of-type {\n        vertical-align: middle;\n    }\n\n    .dataframe tbody tr th {\n        vertical-align: top;\n    }\n\n    .dataframe thead th {\n        text-align: right;\n    }\n</style>\n<table border=\"1\" class=\"dataframe\">\n  <thead>\n    <tr style=\"text-align: right;\">\n      <th></th>\n      <th>race_id</th>\n      <th>race_round</th>\n      <th>race_course</th>\n      <th>ground_status</th>\n      <th>time</th>\n      <th>date</th>\n      <th>where_racecourse</th>\n      <th>total_horse_number</th>\n      <th>frame_number_first</th>\n      <th>horse_number_first</th>\n      <th>...</th>\n      <th>wakuren</th>\n      <th>umaren</th>\n      <th>wide_1_2</th>\n      <th>wide_1_3</th>\n      <th>wide_2_3</th>\n      <th>umatan</th>\n      <th>renhuku3</th>\n      <th>rentan3</th>\n      <th>weather_小雨</th>\n      <th>weather_曇</th>\n    </tr>\n  </thead>\n  <tbody>\n    <tr>\n      <th>0</th>\n      <td>202006010901</td>\n      <td>1 R</td>\n      <td>ダ右1200m</td>\n      <td>ダート : 稍重</td>\n      <td>10:10</td>\n      <td>2020年1月26日</td>\n      <td>1回中山9日目</td>\n      <td>16</td>\n      <td>6</td>\n      <td>11</td>\n      <td>...</td>\n      <td>280</td>\n      <td>330</td>\n      <td>160</td>\n      <td>550</td>\n      <td>760</td>\n      <td>410</td>\n      <td>1,520</td>\n      <td>3,780</td>\n      <td>1</td>\n      <td>0</td>\n    </tr>\n    <tr>\n      <th>1</th>\n      <td>202006010902</td>\n      <td>2 R</td>\n      <td>ダ右1800m</td>\n      <td>ダート : 稍重</td>\n      <td>10:40</td>\n      <td>2020年1月26日</td>\n      <td>1回中山9日目</td>\n      <td>12</td>\n      <td>6</td>\n      <td>7</td>\n      <td>...</td>\n      <td>670</td>\n      <td>4,910</td>\n      <td>1,170</td>\n      <td>1,700</td>\n      <td>1,160</td>\n      <td>11,600</td>\n      <td>11,130</td>\n      <td>85,850</td>\n      <td>1</td>\n      <td>0</td>\n    </tr>\n    <tr>\n      <th>2</th>\n      <td>202006010903</td>\n      <td>3 R</td>\n      <td>ダ右1200m</td>\n      <td>ダート : 稍重</td>\n      <td>11:10</td>\n      <td>2020年1月26日</td>\n      <td>1回中山9日目</td>\n      <td>16</td>\n      <td>3</td>\n      <td>6</td>\n      <td>...</td>\n      <td>350</td>\n      <td>330</td>\n      <td>180</td>\n      <td>1,730</td>\n      <td>2,890</td>\n      <td>420</td>\n      <td>5,410</td>\n      <td>11,420</td>\n      <td>1</td>\n      <td>0</td>\n    </tr>\n    <tr>\n      <th>3</th>\n      <td>202006010904</td>\n      <td>4 R</td>\n      <td>障芝 ダート2880m</td>\n      <td>芝 : 稍重  ダート : 稍重</td>\n      <td>11:40</td>\n      <td>2020年1月26日</td>\n      <td>1回中山9日目</td>\n      <td>14</td>\n      <td>7</td>\n      <td>12</td>\n      <td>...</td>\n      <td>700</td>\n      <td>730</td>\n      <td>360</td>\n      <td>910</td>\n      <td>1,060</td>\n      <td>1,290</td>\n      <td>3,270</td>\n      <td>10,420</td>\n      <td>1</td>\n      <td>0</td>\n    </tr>\n    <tr>\n      <th>4</th>\n      <td>202006010905</td>\n      <td>5 R</td>\n      <td>芝右 外1600m</td>\n      <td>芝 : 稍重</td>\n      <td>12:30</td>\n      <td>2020年1月26日</td>\n      <td>1回中山9日目</td>\n      <td>16</td>\n      <td>1</td>\n      <td>1</td>\n      <td>...</td>\n      <td>1,670</td>\n      <td>8,680</td>\n      <td>2,670</td>\n      <td>840</td>\n      <td>2,350</td>\n      <td>15,610</td>\n      <td>16,870</td>\n      <td>97,640</td>\n      <td>0</td>\n      <td>1</td>\n    </tr>\n    <tr>\n      <th>5</th>\n      <td>202006010906</td>\n      <td>6 R</td>\n      <td>ダ右1800m</td>\n      <td>ダート : 稍重</td>\n      <td>13:00</td>\n      <td>2020年1月26日</td>\n      <td>1回中山9日目</td>\n      <td>16</td>\n      <td>8</td>\n      <td>16</td>\n      <td>...</td>\n      <td>6,290</td>\n      <td>20,150</td>\n      <td>4,490</td>\n      <td>2,000</td>\n      <td>1,060</td>\n      <td>48,320</td>\n      <td>25,600</td>\n      <td>243,880</td>\n      <td>0</td>\n      <td>1</td>\n    </tr>\n    <tr>\n      <th>6</th>\n      <td>202006010907</td>\n      <td>7 R</td>\n      <td>ダ右1200m</td>\n      <td>ダート : 稍重</td>\n      <td>13:30</td>\n      <td>2020年1月26日</td>\n      <td>1回中山9日目</td>\n      <td>16</td>\n      <td>3</td>\n      <td>5</td>\n      <td>...</td>\n      <td>3,590</td>\n      <td>65,750</td>\n      <td>17,740</td>\n      <td>12,890</td>\n      <td>610</td>\n      <td>169,200</td>\n      <td>67,840</td>\n      <td>1,053,350</td>\n      <td>0</td>\n      <td>1</td>\n    </tr>\n    <tr>\n      <th>7</th>\n      <td>202006010908</td>\n      <td>8 R</td>\n      <td>ダ右1800m</td>\n      <td>ダート : 稍重</td>\n      <td>14:01</td>\n      <td>2020年1月26日</td>\n      <td>1回中山9日目</td>\n      <td>15</td>\n      <td>2</td>\n      <td>3</td>\n      <td>...</td>\n      <td>2,000</td>\n      <td>9,940</td>\n      <td>3,450</td>\n      <td>1,730</td>\n      <td>2,820</td>\n      <td>17,490</td>\n      <td>28,960</td>\n      <td>176,040</td>\n      <td>0</td>\n      <td>1</td>\n    </tr>\n    <tr>\n      <th>8</th>\n      <td>202006010909</td>\n      <td>9 R</td>\n      <td>芝右1800m</td>\n      <td>芝 : 稍重</td>\n      <td>14:35</td>\n      <td>2020年1月26日</td>\n      <td>1回中山9日目</td>\n      <td>11</td>\n      <td>7</td>\n      <td>8</td>\n      <td>...</td>\n      <td>650</td>\n      <td>3,080</td>\n      <td>970</td>\n      <td>370</td>\n      <td>970</td>\n      <td>4,230</td>\n      <td>3,870</td>\n      <td>20,150</td>\n      <td>0</td>\n      <td>1</td>\n    </tr>\n    <tr>\n      <th>9</th>\n      <td>202006010910</td>\n      <td>10 R</td>\n      <td>ダ右1800m</td>\n      <td>ダート : 稍重</td>\n      <td>15:10</td>\n      <td>2020年1月26日</td>\n      <td>1回中山9日目</td>\n      <td>12</td>\n      <td>5</td>\n      <td>5</td>\n      <td>...</td>\n      <td>1,440</td>\n      <td>1,670</td>\n      <td>640</td>\n      <td>710</td>\n      <td>2,700</td>\n      <td>2,010</td>\n      <td>7,240</td>\n      <td>22,020</td>\n      <td>0</td>\n      <td>1</td>\n    </tr>\n  </tbody>\n</table>\n<p>10 rows × 28 columns</p>\n</div>"
     },
     "metadata": {},
     "execution_count": 343
    }
   ],
   "source": [
    "race_df"
   ]
  },
  {
   "cell_type": "markdown",
   "metadata": {},
   "source": [
    "# 5 今回作成したプログラム"
   ]
  },
  {
   "cell_type": "markdown",
   "metadata": {},
   "source": [
    "## 5.1 プログラムの構造\n",
    "### データ取得のプログラム\n",
    "1. レース情報の検索画面をseleniumで自動操作しレース情報があるサイトのURLを取得\n",
    "2. 取得したURLにリクエストを送りHTMLを取得します\n",
    "3. HTMLからBeautifulSoupからを使用しレース情報と馬のデータを取得しCSVに保存する\n",
    "\n",
    "### データ処理のプログラム\n",
    "1. 余分な文字列を数値を削除\n",
    "2. 過去の馬データを一つのデータにまとめる（５レース分）\n",
    "3. レースデータと馬データを一つのデータにまとめる"
   ]
  },
  {
   "cell_type": "markdown",
   "metadata": {},
   "source": [
    "## 5.2 データ取得プログラム"
   ]
  },
  {
   "cell_type": "markdown",
   "metadata": {},
   "source": [
    "#### seleniumで自動操作しレース情報があるサイトのURLを取得"
   ]
  },
  {
   "cell_type": "code",
   "execution_count": 344,
   "metadata": {},
   "outputs": [],
   "source": [
    "from selenium.webdriver.support import expected_conditions as EC\n",
    "from selenium.webdriver.common.by import By\n",
    "from selenium.webdriver.support.ui import Select,WebDriverWait\n",
    "from selenium.webdriver.chrome.options import Options\n",
    "from selenium import webdriver\n",
    "import chromedriver_binary\n",
    "import sys\n",
    "import re\n",
    "import csv\n",
    "import time\n",
    "\n",
    "def get_urls(year, mon):\n",
    "    urls = []\n",
    "    #options = Options()\n",
    "    #options.add_argument('--headless')\n",
    "    ###\n",
    "    #Colaboratory上でseleniumを動かす場合のみ実行\n",
    "    #options = webdriver.ChromeOptions()\n",
    "    #options.add_argument('--headless')\n",
    "    #options.add_argument('--no-sandbox')\n",
    "    #options.add_argument('--disable-dev-shm-usage')\n",
    "    #driver = webdriver.Chrome('chromedriver',options=options)\n",
    "    ####\n",
    "    driver = webdriver.Chrome() #Colaboratory上でseleniumを動かす場合この行をコメントアウト\n",
    "    wait = WebDriverWait(driver,10)\n",
    "    URL = \"https://db.netkeiba.com/?pid=race_search_detail\"\n",
    "    driver.get(URL)\n",
    "    wait.until(EC.presence_of_all_elements_located)\n",
    "\n",
    "\n",
    "    start_year = year\n",
    "    start_mon = mon\n",
    "    end_year = year\n",
    "    end_mon = mon\n",
    "\n",
    "    start_year_element = driver.find_element_by_name('start_year')\n",
    "    start_year_select = Select(start_year_element)\n",
    "    start_year_select.select_by_value(str(start_year))\n",
    "    start_mon_element = driver.find_element_by_name('start_mon')\n",
    "    start_mon_select = Select(start_mon_element)\n",
    "    start_mon_select.select_by_value(str(start_mon))\n",
    "    end_year_element = driver.find_element_by_name('end_year')\n",
    "    end_year_select = Select(end_year_element)\n",
    "    end_year_select.select_by_value(str(end_year))\n",
    "    end_mon_element = driver.find_element_by_name('end_mon')\n",
    "    end_mon_select = Select(end_mon_element)\n",
    "    end_mon_select.select_by_value(str(end_mon))\n",
    "\n",
    "    for i in range(1,11):\n",
    "        terms = driver.find_element_by_id(\"check_Jyo_\"+ str(i).zfill(2))#zfill(2)は01,02,03をつくるため\n",
    "        terms.click()\n",
    "    \n",
    "    list_element = driver.find_element_by_name('list')\n",
    "    list_select = Select(list_element)\n",
    "    list_select.select_by_value(\"100\")\n",
    "\n",
    "    frm = driver.find_element_by_css_selector(\"#db_search_detail_form > form\")\n",
    "    frm.submit()\n",
    "    wait.until(EC.presence_of_all_elements_located)\n",
    "    while True:\n",
    "        wait.until(EC.presence_of_all_elements_located)\n",
    "        all_rows = driver.find_element_by_class_name('race_table_01').find_elements_by_tag_name(\"tr\")\n",
    "        for row in range(1, len(all_rows)):\n",
    "            race_href=all_rows[row].find_elements_by_tag_name(\"td\")[4].find_element_by_tag_name(\"a\").get_attribute(\"href\")\n",
    "            urls.append(race_href)\n",
    "        try:\n",
    "            target = driver.find_elements_by_link_text(\"æ¬¡\")[0]\n",
    "            time.sleep(4)\n",
    "            driver.execute_script(\"arguments[0].click();\", target)\n",
    "        except IndexError:\n",
    "            break\n",
    "    return urls\n"
   ]
  },
  {
   "cell_type": "code",
   "execution_count": 345,
   "metadata": {},
   "outputs": [
    {
     "output_type": "execute_result",
     "data": {
      "text/plain": "['https://db.netkeiba.com/race/202006010901/',\n 'https://db.netkeiba.com/race/202006010902/',\n 'https://db.netkeiba.com/race/202006010903/',\n 'https://db.netkeiba.com/race/202006010904/',\n 'https://db.netkeiba.com/race/202006010905/',\n 'https://db.netkeiba.com/race/202006010906/',\n 'https://db.netkeiba.com/race/202006010907/',\n 'https://db.netkeiba.com/race/202006010908/',\n 'https://db.netkeiba.com/race/202006010909/',\n 'https://db.netkeiba.com/race/202006010910/',\n 'https://db.netkeiba.com/race/202006010911/',\n 'https://db.netkeiba.com/race/202006010912/',\n 'https://db.netkeiba.com/race/202008010901/',\n 'https://db.netkeiba.com/race/202008010902/',\n 'https://db.netkeiba.com/race/202008010903/',\n 'https://db.netkeiba.com/race/202008010904/',\n 'https://db.netkeiba.com/race/202008010905/',\n 'https://db.netkeiba.com/race/202008010906/',\n 'https://db.netkeiba.com/race/202008010907/',\n 'https://db.netkeiba.com/race/202008010908/',\n 'https://db.netkeiba.com/race/202008010909/',\n 'https://db.netkeiba.com/race/202008010910/',\n 'https://db.netkeiba.com/race/202008010911/',\n 'https://db.netkeiba.com/race/202008010912/',\n 'https://db.netkeiba.com/race/202010010401/',\n 'https://db.netkeiba.com/race/202010010402/',\n 'https://db.netkeiba.com/race/202010010403/',\n 'https://db.netkeiba.com/race/202010010404/',\n 'https://db.netkeiba.com/race/202010010405/',\n 'https://db.netkeiba.com/race/202010010406/',\n 'https://db.netkeiba.com/race/202010010407/',\n 'https://db.netkeiba.com/race/202010010408/',\n 'https://db.netkeiba.com/race/202010010409/',\n 'https://db.netkeiba.com/race/202010010410/',\n 'https://db.netkeiba.com/race/202010010411/',\n 'https://db.netkeiba.com/race/202010010412/',\n 'https://db.netkeiba.com/race/202006010801/',\n 'https://db.netkeiba.com/race/202006010802/',\n 'https://db.netkeiba.com/race/202006010803/',\n 'https://db.netkeiba.com/race/202006010804/',\n 'https://db.netkeiba.com/race/202006010805/',\n 'https://db.netkeiba.com/race/202006010806/',\n 'https://db.netkeiba.com/race/202006010807/',\n 'https://db.netkeiba.com/race/202006010808/',\n 'https://db.netkeiba.com/race/202006010809/',\n 'https://db.netkeiba.com/race/202006010810/',\n 'https://db.netkeiba.com/race/202006010811/',\n 'https://db.netkeiba.com/race/202006010812/',\n 'https://db.netkeiba.com/race/202008010801/',\n 'https://db.netkeiba.com/race/202008010802/',\n 'https://db.netkeiba.com/race/202008010803/',\n 'https://db.netkeiba.com/race/202008010804/',\n 'https://db.netkeiba.com/race/202008010805/',\n 'https://db.netkeiba.com/race/202008010806/',\n 'https://db.netkeiba.com/race/202008010807/',\n 'https://db.netkeiba.com/race/202008010808/',\n 'https://db.netkeiba.com/race/202008010809/',\n 'https://db.netkeiba.com/race/202008010810/',\n 'https://db.netkeiba.com/race/202008010811/',\n 'https://db.netkeiba.com/race/202008010812/',\n 'https://db.netkeiba.com/race/202010010301/',\n 'https://db.netkeiba.com/race/202010010302/',\n 'https://db.netkeiba.com/race/202010010303/',\n 'https://db.netkeiba.com/race/202010010304/',\n 'https://db.netkeiba.com/race/202010010305/',\n 'https://db.netkeiba.com/race/202010010306/',\n 'https://db.netkeiba.com/race/202010010307/',\n 'https://db.netkeiba.com/race/202010010308/',\n 'https://db.netkeiba.com/race/202010010309/',\n 'https://db.netkeiba.com/race/202010010310/',\n 'https://db.netkeiba.com/race/202010010311/',\n 'https://db.netkeiba.com/race/202010010312/',\n 'https://db.netkeiba.com/race/202006010701/',\n 'https://db.netkeiba.com/race/202006010702/',\n 'https://db.netkeiba.com/race/202006010703/',\n 'https://db.netkeiba.com/race/202006010704/',\n 'https://db.netkeiba.com/race/202006010705/',\n 'https://db.netkeiba.com/race/202006010706/',\n 'https://db.netkeiba.com/race/202006010707/',\n 'https://db.netkeiba.com/race/202006010708/',\n 'https://db.netkeiba.com/race/202006010709/',\n 'https://db.netkeiba.com/race/202006010710/',\n 'https://db.netkeiba.com/race/202006010711/',\n 'https://db.netkeiba.com/race/202006010712/',\n 'https://db.netkeiba.com/race/202008010701/',\n 'https://db.netkeiba.com/race/202008010702/',\n 'https://db.netkeiba.com/race/202008010703/',\n 'https://db.netkeiba.com/race/202008010704/',\n 'https://db.netkeiba.com/race/202008010705/',\n 'https://db.netkeiba.com/race/202008010706/',\n 'https://db.netkeiba.com/race/202008010707/',\n 'https://db.netkeiba.com/race/202008010708/',\n 'https://db.netkeiba.com/race/202008010709/',\n 'https://db.netkeiba.com/race/202008010710/',\n 'https://db.netkeiba.com/race/202008010711/',\n 'https://db.netkeiba.com/race/202008010712/',\n 'https://db.netkeiba.com/race/202010010201/',\n 'https://db.netkeiba.com/race/202010010202/',\n 'https://db.netkeiba.com/race/202010010203/',\n 'https://db.netkeiba.com/race/202010010204/']"
     },
     "metadata": {},
     "execution_count": 345
    }
   ],
   "source": [
    "year =2020\n",
    "mon = 1\n",
    "urls = get_urls(year, mon)#2020年１月分のURL取得\n",
    "urls"
   ]
  },
  {
   "cell_type": "markdown",
   "metadata": {},
   "source": [
    "#### 取得したURLからサイトのデータを取得しCSVに保存する"
   ]
  },
  {
   "cell_type": "code",
   "execution_count": 346,
   "metadata": {},
   "outputs": [],
   "source": [
    "import numpy as np\n",
    "import pandas as pd\n",
    "from bs4 import BeautifulSoup\n",
    "import os\n",
    "import requests\n",
    "import time\n",
    "\n",
    "\n",
    "race_data_columns=[\n",
    "    'race_id',\n",
    "    'race_round',\n",
    "    'race_title',\n",
    "    'race_course',\n",
    "    'weather',\n",
    "    'ground_status',\n",
    "    'time',\n",
    "    'date',\n",
    "    'where_racecourse',\n",
    "    'total_horse_number',\n",
    "    'frame_number_first',\n",
    "    'horse_number_first',\n",
    "    'frame_number_second',\n",
    "    'horse_number_second',\n",
    "    'frame_number_third',\n",
    "    'horse_number_third',\n",
    "    'tansyo',\n",
    "    'hukusyo_first',\n",
    "    'hukusyo_second',\n",
    "    'hukusyo_third',\n",
    "    'wakuren',\n",
    "    'umaren',\n",
    "    'wide_1_2',\n",
    "    'wide_1_3',\n",
    "    'wide_2_3',\n",
    "    'umatan',\n",
    "    'renhuku3',\n",
    "    'rentan3'\n",
    "    ]\n",
    "\n",
    "horse_data_columns=[\n",
    "    'race_id',\n",
    "    'rank',\n",
    "    'frame_number',\n",
    "    'horse_number',\n",
    "    'horse_id',\n",
    "    'sex_and_age',\n",
    "    'burden_weight',\n",
    "    'rider_id',\n",
    "    'goal_time',\n",
    "    'goal_time_dif',\n",
    "    'time_value',\n",
    "    'half_way_rank',\n",
    "    'last_time',\n",
    "    'odds',\n",
    "    'popular',\n",
    "    'horse_weight',\n",
    "    'tame_time',\n",
    "    'tamer_id',\n",
    "    'owner_id'\n",
    "]\n",
    "\n",
    "\n",
    "def scrape_race_and_horse_data_by_html(race_id, html):\n",
    "    \"\"\"\n",
    "    HTMLファイルからレースと馬のデータを取得\n",
    "    戻り値1: list型 レースデータ\n",
    "    戻り値2: list型 馬データ\n",
    "    \"\"\"\n",
    "    race_list = [race_id]\n",
    "    horse_list_list = []\n",
    "    soup = BeautifulSoup(html, 'html.parser')\n",
    "    #####################\n",
    "    # race_data\n",
    "    #####################\n",
    "    data_intro = soup.find(\"div\", class_=\"data_intro\")\n",
    "    \n",
    "    race_list.append(data_intro.find(\"dt\").get_text().strip(\"\\n\")) # race_round\n",
    "    race_list.append(data_intro.find(\"h1\").get_text().strip(\"\\n\")) # race_title\n",
    "\n",
    "    race_details1 = data_intro.find(\"p\").get_text().strip(\"\\n\").split(\"\\xa0/\\xa0\")\n",
    "    race_list.append(race_details1[0]) # race_course\n",
    "    race_list.append(race_details1[1]) # weather\n",
    "    race_list.append(race_details1[2]) # ground_status\n",
    "    race_list.append(race_details1[3][5:10]) # time\n",
    "\n",
    "    race_details2 = data_intro.find(\"p\", class_=\"smalltxt\").get_text().strip(\"\\n\").split(\" \")\n",
    "    race_list.append(race_details2[0]) # date\n",
    "    race_list.append(race_details2[1]) # where_racecourse\n",
    "\n",
    "\n",
    "    result_rows = soup.find(\"table\", class_=\"race_table_01 nk_tb_common\").findAll('tr') \n",
    "    race_list.append(len(result_rows)-1) # total_horse_number\n",
    "    for i in range(1,4):\n",
    "        row = result_rows[i].findAll('td')\n",
    "        race_list.append(row[1].get_text()) # frame_number_first or second or third\n",
    "        race_list.append(row[2].get_text()) # horse_number_first or second or third\n",
    "\n",
    "\n",
    "    pay_back_tables = soup.findAll(\"table\", class_=\"pay_table_01\")\n",
    "\n",
    "    pay_back1 = pay_back_tables[0].findAll('tr')\n",
    "    race_list.append(pay_back1[0].find(\"td\", class_=\"txt_r\").get_text()) #tansyo\n",
    "    hukuren = pay_back1[1].find(\"td\", class_=\"txt_r\")\n",
    "    tmp = []\n",
    "    for string in hukuren.strings:\n",
    "        tmp.append(string)\n",
    "    for i in range(3):\n",
    "        try:\n",
    "            race_list.append(tmp[i]) # hukuren_first or second or third\n",
    "        except IndexError:\n",
    "            race_list.append(\"0\")\n",
    "    try:\n",
    "        race_list.append(pay_back1[2].find(\"td\", class_=\"txt_r\").get_text())\n",
    "    except IndexError:\n",
    "        race_list.append(\"0\")\n",
    "\n",
    "    try:\n",
    "        race_list.append(pay_back1[3].find(\"td\", class_=\"txt_r\").get_text())\n",
    "    except IndexError:\n",
    "        race_list.append(\"0\")\n",
    "\n",
    "\n",
    "\n",
    "    pay_back2 = pay_back_tables[1].findAll('tr')\n",
    "    # wide 1&2\n",
    "    wide = pay_back2[0].find(\"td\", class_=\"txt_r\")\n",
    "    tmp = []\n",
    "    for string in wide.strings:\n",
    "        tmp.append(string)\n",
    "    for i in range(3):\n",
    "        try:\n",
    "            race_list.append(tmp[i]) # hukuren_first or second or third\n",
    "        except IndexError:\n",
    "            race_list.append(\"0\")\n",
    "\n",
    "    # umatan\n",
    "    race_list.append(pay_back2[1].find(\"td\", class_=\"txt_r\").get_text()) #umatan\n",
    "\n",
    "    race_list.append(pay_back2[2].find(\"td\", class_=\"txt_r\").get_text()) #renhuku3\n",
    "    try:\n",
    "        race_list.append(pay_back2[3].find(\"td\", class_=\"txt_r\").get_text()) #rentan3\n",
    "    except IndexError:\n",
    "        race_list.append(\"0\")\n",
    "    ####################\n",
    "    # horse data\n",
    "    ####################\n",
    "    for rank in range(1, len(result_rows)):\n",
    "        horse_list = [race_id]\n",
    "        result_row = result_rows[rank].findAll(\"td\")\n",
    "        # rank\n",
    "        horse_list.append(result_row[0].get_text().strip())\n",
    "        # frame_number\n",
    "        horse_list.append(result_row[1].get_text().strip())\n",
    "        # horse_number\n",
    "        horse_list.append(result_row[2].get_text().strip())\n",
    "        # horse_id\n",
    "        horse_list.append(result_row[3].find('a').get('href').split(\"/\")[-2].strip())\n",
    "        # sex_and_age\n",
    "        horse_list.append(result_row[4].get_text().strip())\n",
    "        # burden_weight\n",
    "        horse_list.append(result_row[5].get_text().strip())\n",
    "        # rider_id\n",
    "        horse_list.append(result_row[6].find('a').get('href').split(\"/\")[-2].strip())\n",
    "        # goal_time\n",
    "        horse_list.append(result_row[7].get_text().strip())\n",
    "        # goal_time_dif\n",
    "        horse_list.append(result_row[8].get_text().strip())\n",
    "        # time_value(premium)\n",
    "        horse_list.append(result_row[9].get_text().strip())\n",
    "        # half_way_rank\n",
    "        horse_list.append(result_row[10].get_text().strip())\n",
    "        # last_time\n",
    "        horse_list.append(result_row[11].get_text().strip())\n",
    "        # odds\n",
    "        horse_list.append(result_row[12].get_text().strip())\n",
    "        # popular\n",
    "        horse_list.append(result_row[13].get_text().strip())\n",
    "        # horse_weight\n",
    "        horse_list.append(result_row[14].get_text().strip())\n",
    "        # tame_time(premium)\n",
    "        horse_list.append(result_row[15].get_text().strip())\n",
    "        # tamer_id\n",
    "        horse_list.append(result_row[18].find('a').get('href').split(\"/\")[-2].strip())\n",
    "        # owner_id\n",
    "        horse_list.append(result_row[19].find('a').get('href').split(\"/\")[-2].strip())\n",
    "\n",
    "        horse_list_list.append(horse_list)\n",
    "\n",
    "    return race_list, horse_list_list\n",
    "\n",
    "def request_html(url):\n",
    "    \"\"\"\n",
    "    URLからHTMLファイルを取得する\n",
    "    戻り値: str型　HTMLのデータ\n",
    "    \"\"\"\n",
    "    response = requests.get(url)\n",
    "    response.encoding = response.apparent_encoding\n",
    "    html = response.text\n",
    "    time.sleep(1)#スクレイピング間隔\n",
    "    return html\n",
    "\n",
    "def create_csv(urls):\n",
    "    \"\"\"\n",
    "    URLからレースと馬のデータを取得しCSVに保存する\n",
    "    戻り値1:list型 レース\n",
    "    戻り値2:list型　馬のデータ\n",
    "    \"\"\"\n",
    "    CSV_DIR = \"csv\"\n",
    "    if not os.path.isdir(CSV_DIR):\n",
    "        os.makedirs(CSV_DIR)\n",
    "    save_race_csv = CSV_DIR+\"/race.csv\"\n",
    "    horse_race_csv = CSV_DIR+\"/horse.csv\"\n",
    "    race_df = pd.DataFrame(columns=race_data_columns )\n",
    "    horse_df = pd.DataFrame(columns=horse_data_columns )\n",
    "\n",
    "    count = 0\n",
    "\n",
    "    for url in urls:\n",
    "        print(url)\n",
    "        list = url.split(\"/\")\n",
    "        race_id = list[-2]#https://db.netkeiba.com/race/201901020601/ ならば201901020601がrace_id\n",
    "        \n",
    "        html = request_html(url)\n",
    "        race_list, horse_list_list = scrape_race_and_horse_data_by_html(race_id, html)\n",
    "        #horse_data\n",
    "        for horse_list in horse_list_list:\n",
    "            horse_se = pd.Series( horse_list, index=horse_df.columns)\n",
    "            horse_df = horse_df.append(horse_se, ignore_index=True)\n",
    "        #race_data\n",
    "        race_se = pd.Series(race_list, index=race_df.columns )\n",
    "        race_df = race_df.append(race_se, ignore_index=True )\n",
    "\n",
    "        #250ごとにデータをCSVに変換しておく\n",
    "        if count == 250:\n",
    "            count = 0\n",
    "            race_df.to_csv(save_race_csv, header=True, index=False)\n",
    "            horse_df.to_csv(horse_race_csv, header=True, index=False)\n",
    "\n",
    "        \n",
    "\n",
    "    race_df.to_csv(save_race_csv, header=True, index=False)\n",
    "    horse_df.to_csv(horse_race_csv, header=True, index=False)\n",
    "    return race_list, horse_list_list"
   ]
  },
  {
   "cell_type": "code",
   "execution_count": 347,
   "metadata": {},
   "outputs": [
    {
     "output_type": "stream",
     "name": "stdout",
     "text": "https://db.netkeiba.com/race/202006010901/\nhttps://db.netkeiba.com/race/202006010902/\nhttps://db.netkeiba.com/race/202006010903/\nhttps://db.netkeiba.com/race/202006010904/\nhttps://db.netkeiba.com/race/202006010905/\nhttps://db.netkeiba.com/race/202006010906/\nhttps://db.netkeiba.com/race/202006010907/\nhttps://db.netkeiba.com/race/202006010908/\nhttps://db.netkeiba.com/race/202006010909/\nhttps://db.netkeiba.com/race/202006010910/\n"
    },
    {
     "output_type": "execute_result",
     "data": {
      "text/plain": "(['202006010910',\n  '10 R',\n  '初霞賞 ',\n  'ダ右1800m',\n  '天候 : 曇',\n  'ダート : 稍重',\n  '15:10',\n  '2020年1月26日',\n  '1回中山9日目',\n  12,\n  '5',\n  '5',\n  '2',\n  '2',\n  '4',\n  '4',\n  '180',\n  '110',\n  '320',\n  '410',\n  '1,440',\n  '1,670',\n  '640',\n  '710',\n  '2,700',\n  '2,010',\n  '7,240',\n  '22,020'],\n [['202006010910',\n   '1',\n   '5',\n   '5',\n   '2016104580',\n   '牡4',\n   '56',\n   '01088',\n   '1:53.4',\n   '',\n   '**',\n   '2-2-2-2',\n   '37.6',\n   '1.8',\n   '1',\n   '532(+12)',\n   '',\n   '01162',\n   '955033'],\n  ['202006010910',\n   '2',\n   '2',\n   '2',\n   '2013104237',\n   '牡7',\n   '57',\n   '01043',\n   '1:53.8',\n   '2.1/2',\n   '**',\n   '4-3-4-3',\n   '37.8',\n   '20.4',\n   '6',\n   '518(-2)',\n   '',\n   '01110',\n   '675030'],\n  ['202006010910',\n   '3',\n   '4',\n   '4',\n   '2015101209',\n   '牡5',\n   '57',\n   '01162',\n   '1:54.0',\n   '1.1/4',\n   '**',\n   '1-1-1-1',\n   '38.3',\n   '20.5',\n   '7',\n   '532(0)',\n   '',\n   '01106',\n   '209800'],\n  ['202006010910',\n   '4',\n   '8',\n   '11',\n   '2014102200',\n   'セ6',\n   '57',\n   '05339',\n   '1:54.2',\n   '1.1/4',\n   '**',\n   '10-10-10-10',\n   '37.7',\n   '3.8',\n   '2',\n   '518(-4)',\n   '',\n   '01023',\n   '003060'],\n  ['202006010910',\n   '5',\n   '7',\n   '10',\n   '2016101704',\n   '牡4',\n   '56',\n   '01092',\n   '1:54.2',\n   'アタマ',\n   '**',\n   '7-7-7-6',\n   '38.0',\n   '28.3',\n   '8',\n   '486(+8)',\n   '',\n   '01108',\n   '897009'],\n  ['202006010910',\n   '6',\n   '6',\n   '8',\n   '2015101512',\n   '牡5',\n   '57',\n   '01127',\n   '1:54.2',\n   'クビ',\n   '**',\n   '12-12-12-10',\n   '37.4',\n   '17.6',\n   '5',\n   '520(0)',\n   '',\n   '01005',\n   '331006'],\n  ['202006010910',\n   '7',\n   '7',\n   '9',\n   '2012103204',\n   '牡8',\n   '57',\n   '01161',\n   '1:54.8',\n   '3.1/2',\n   '**',\n   '6-5-4-4',\n   '38.8',\n   '41.6',\n   '9',\n   '488(+8)',\n   '',\n   '00420',\n   '587008'],\n  ['202006010910',\n   '8',\n   '1',\n   '1',\n   '2016100696',\n   '牡4',\n   '56',\n   '01158',\n   '1:55.0',\n   '3/4',\n   '**',\n   '8-9-10-10',\n   '38.5',\n   '63.1',\n   '10',\n   '476(-2)',\n   '',\n   '01125',\n   '716800'],\n  ['202006010910',\n   '9',\n   '5',\n   '6',\n   '2016104023',\n   '牡4',\n   '56',\n   '05517',\n   '1:55.0',\n   'クビ',\n   '**',\n   '8-8-7-8',\n   '38.8',\n   '8.8',\n   '3',\n   '508(-4)',\n   '',\n   '01150',\n   '050803'],\n  ['202006010910',\n   '10',\n   '3',\n   '3',\n   '2016103085',\n   '牡4',\n   '56',\n   '05575',\n   '1:55.3',\n   '1.3/4',\n   '**',\n   '4-5-4-6',\n   '39.3',\n   '9.7',\n   '4',\n   '508(-1)',\n   '',\n   '01058',\n   '619800'],\n  ['202006010910',\n   '11',\n   '6',\n   '7',\n   '2011106393',\n   '牡9',\n   '57',\n   '01118',\n   '1:55.6',\n   '1.3/4',\n   '**',\n   '3-3-3-4',\n   '39.7',\n   '244.0',\n   '12',\n   '484(-2)',\n   '',\n   '01010',\n   '546800'],\n  ['202006010910',\n   '12',\n   '8',\n   '12',\n   '2016105179',\n   '牡4',\n   '56',\n   '01085',\n   '1:56.2',\n   '3.1/2',\n   '**',\n   '10-10-7-8',\n   '40.0',\n   '72.9',\n   '11',\n   '474(-2)',\n   '',\n   '01094',\n   '310007']])"
     },
     "metadata": {},
     "execution_count": 347
    }
   ],
   "source": [
    "create_csv(urls[:10])"
   ]
  },
  {
   "cell_type": "markdown",
   "metadata": {},
   "source": [
    "## 5.3 データ処理プログラム"
   ]
  },
  {
   "cell_type": "code",
   "execution_count": 348,
   "metadata": {},
   "outputs": [],
   "source": [
    "import numpy as np\n",
    "import pandas as pd\n",
    "pd.set_option('display.max_columns', 50)"
   ]
  },
  {
   "cell_type": "markdown",
   "metadata": {},
   "source": [
    "### raceデータセット作成"
   ]
  },
  {
   "cell_type": "code",
   "execution_count": 349,
   "metadata": {},
   "outputs": [],
   "source": [
    "race_df = pd.read_csv(\"csv/race.csv\", sep=\",\")"
   ]
  },
  {
   "cell_type": "code",
   "execution_count": 350,
   "metadata": {},
   "outputs": [
    {
     "output_type": "stream",
     "name": "stdout",
     "text": "(10, 28)\n"
    },
    {
     "output_type": "execute_result",
     "data": {
      "text/plain": "        race_id race_round race_title race_course weather ground_status  \\\n8  202006010909        9 R       若竹賞      芝右1800m  天候 : 曇        芝 : 稍重   \n9  202006010910       10 R       初霞賞      ダ右1800m  天候 : 曇      ダート : 稍重   \n\n    time        date where_racecourse  total_horse_number  frame_number_first  \\\n8  14:35  2020年1月26日          1回中山9日目                  11                   7   \n9  15:10  2020年1月26日          1回中山9日目                  12                   5   \n\n   horse_number_first  frame_number_second  horse_number_second  \\\n8                   8                    6                    6   \n9                   5                    2                    2   \n\n   frame_number_third  horse_number_third tansyo hukusyo_first  \\\n8                   6                   7    300           160   \n9                   4                   4    180           110   \n\n   hukusyo_second  hukusyo_third wakuren umaren wide_1_2 wide_1_3 wide_2_3  \\\n8             360            180     650  3,080      970      370      970   \n9             320            410   1,440  1,670      640      710    2,700   \n\n  umatan renhuku3 rentan3  \n8  4,230    3,870  20,150  \n9  2,010    7,240  22,020  ",
      "text/html": "<div>\n<style scoped>\n    .dataframe tbody tr th:only-of-type {\n        vertical-align: middle;\n    }\n\n    .dataframe tbody tr th {\n        vertical-align: top;\n    }\n\n    .dataframe thead th {\n        text-align: right;\n    }\n</style>\n<table border=\"1\" class=\"dataframe\">\n  <thead>\n    <tr style=\"text-align: right;\">\n      <th></th>\n      <th>race_id</th>\n      <th>race_round</th>\n      <th>race_title</th>\n      <th>race_course</th>\n      <th>weather</th>\n      <th>ground_status</th>\n      <th>time</th>\n      <th>date</th>\n      <th>where_racecourse</th>\n      <th>total_horse_number</th>\n      <th>frame_number_first</th>\n      <th>horse_number_first</th>\n      <th>frame_number_second</th>\n      <th>horse_number_second</th>\n      <th>frame_number_third</th>\n      <th>horse_number_third</th>\n      <th>tansyo</th>\n      <th>hukusyo_first</th>\n      <th>hukusyo_second</th>\n      <th>hukusyo_third</th>\n      <th>wakuren</th>\n      <th>umaren</th>\n      <th>wide_1_2</th>\n      <th>wide_1_3</th>\n      <th>wide_2_3</th>\n      <th>umatan</th>\n      <th>renhuku3</th>\n      <th>rentan3</th>\n    </tr>\n  </thead>\n  <tbody>\n    <tr>\n      <th>8</th>\n      <td>202006010909</td>\n      <td>9 R</td>\n      <td>若竹賞</td>\n      <td>芝右1800m</td>\n      <td>天候 : 曇</td>\n      <td>芝 : 稍重</td>\n      <td>14:35</td>\n      <td>2020年1月26日</td>\n      <td>1回中山9日目</td>\n      <td>11</td>\n      <td>7</td>\n      <td>8</td>\n      <td>6</td>\n      <td>6</td>\n      <td>6</td>\n      <td>7</td>\n      <td>300</td>\n      <td>160</td>\n      <td>360</td>\n      <td>180</td>\n      <td>650</td>\n      <td>3,080</td>\n      <td>970</td>\n      <td>370</td>\n      <td>970</td>\n      <td>4,230</td>\n      <td>3,870</td>\n      <td>20,150</td>\n    </tr>\n    <tr>\n      <th>9</th>\n      <td>202006010910</td>\n      <td>10 R</td>\n      <td>初霞賞</td>\n      <td>ダ右1800m</td>\n      <td>天候 : 曇</td>\n      <td>ダート : 稍重</td>\n      <td>15:10</td>\n      <td>2020年1月26日</td>\n      <td>1回中山9日目</td>\n      <td>12</td>\n      <td>5</td>\n      <td>5</td>\n      <td>2</td>\n      <td>2</td>\n      <td>4</td>\n      <td>4</td>\n      <td>180</td>\n      <td>110</td>\n      <td>320</td>\n      <td>410</td>\n      <td>1,440</td>\n      <td>1,670</td>\n      <td>640</td>\n      <td>710</td>\n      <td>2,700</td>\n      <td>2,010</td>\n      <td>7,240</td>\n      <td>22,020</td>\n    </tr>\n  </tbody>\n</table>\n</div>"
     },
     "metadata": {},
     "execution_count": 350
    }
   ],
   "source": [
    "print(race_df.shape)\n",
    "race_df.tail(2)"
   ]
  },
  {
   "cell_type": "markdown",
   "metadata": {},
   "source": [
    "## race_id変更なし"
   ]
  },
  {
   "cell_type": "code",
   "execution_count": 351,
   "metadata": {},
   "outputs": [
    {
     "output_type": "execute_result",
     "data": {
      "text/plain": "0    202006010901\n1    202006010902\n2    202006010903\nName: race_id, dtype: int64"
     },
     "metadata": {},
     "execution_count": 351
    }
   ],
   "source": [
    "race_df['race_id'].head(3)"
   ]
  },
  {
   "cell_type": "markdown",
   "metadata": {},
   "source": [
    "## race_round Rを削除"
   ]
  },
  {
   "cell_type": "code",
   "execution_count": 352,
   "metadata": {},
   "outputs": [
    {
     "output_type": "execute_result",
     "data": {
      "text/plain": "array(['1 R', '2 R', '3 R', '4 R', '5 R', '6 R', '7 R', '8 R', '9 R',\n       '10 R'], dtype=object)"
     },
     "metadata": {},
     "execution_count": 352
    }
   ],
   "source": [
    "race_df['race_round'].unique()"
   ]
  },
  {
   "cell_type": "code",
   "execution_count": 353,
   "metadata": {},
   "outputs": [],
   "source": [
    "race_df['race_round'] = race_df['race_round'].str.strip(' R')"
   ]
  },
  {
   "cell_type": "code",
   "execution_count": 354,
   "metadata": {},
   "outputs": [
    {
     "output_type": "execute_result",
     "data": {
      "text/plain": "array(['1', '2', '3', '4', '5', '6', '7', '8', '9', '10'], dtype=object)"
     },
     "metadata": {},
     "execution_count": 354
    }
   ],
   "source": [
    "race_df['race_round'].unique()"
   ]
  },
  {
   "cell_type": "markdown",
   "metadata": {},
   "source": [
    "## dtypeがobjectなのでintに変換"
   ]
  },
  {
   "cell_type": "code",
   "execution_count": 355,
   "metadata": {},
   "outputs": [
    {
     "output_type": "execute_result",
     "data": {
      "text/plain": "0    1\n1    2\n2    3\nName: race_round, dtype: int32"
     },
     "metadata": {},
     "execution_count": 355
    }
   ],
   "source": [
    "race_df['race_round'] = race_df['race_round'].astype(int)\n",
    "race_df['race_round'].head(3)"
   ]
  },
  {
   "cell_type": "markdown",
   "metadata": {},
   "source": []
  },
  {
   "cell_type": "markdown",
   "metadata": {},
   "source": [
    "## race_title いらないので削除"
   ]
  },
  {
   "cell_type": "code",
   "execution_count": 356,
   "metadata": {},
   "outputs": [
    {
     "output_type": "execute_result",
     "data": {
      "text/plain": "0    3歳未勝利\n1    3歳未勝利\n2    3歳未勝利\nName: race_title, dtype: object"
     },
     "metadata": {},
     "execution_count": 356
    }
   ],
   "source": [
    "race_df['race_title'].head(3)"
   ]
  },
  {
   "cell_type": "code",
   "execution_count": 357,
   "metadata": {},
   "outputs": [],
   "source": [
    "race_df.drop(['race_title'], axis=1, inplace=True)"
   ]
  },
  {
   "cell_type": "markdown",
   "metadata": {},
   "source": [
    "race_coursekから"
   ]
  },
  {
   "cell_type": "code",
   "execution_count": 358,
   "metadata": {},
   "outputs": [
    {
     "output_type": "execute_result",
     "data": {
      "text/plain": "array(['ダ右1200m', 'ダ右1800m', '障芝 ダート2880m', '芝右 外1600m', '芝右1800m'],\n      dtype=object)"
     },
     "metadata": {},
     "execution_count": 358
    }
   ],
   "source": [
    "race_df['race_course'].unique()"
   ]
  },
  {
   "cell_type": "markdown",
   "metadata": {},
   "source": [
    "## 障害かどうかデータのobstacle 0=普通　1=障害"
   ]
  },
  {
   "cell_type": "code",
   "execution_count": 359,
   "metadata": {},
   "outputs": [
    {
     "output_type": "execute_result",
     "data": {
      "text/plain": "array([nan, '障'], dtype=object)"
     },
     "metadata": {},
     "execution_count": 359
    }
   ],
   "source": [
    "obstacle = race_df[\"race_course\"].str.extract('(障)', expand=True)\n",
    "obstacle.columns ={\"obstacle\"}\n",
    "race_df = pd.concat([race_df, obstacle], axis=1)\n",
    "race_df['obstacle'].unique()"
   ]
  },
  {
   "cell_type": "markdown",
   "metadata": {},
   "source": [
    "## 'obstacle' 列の '障芝' を1に置き換え、Nanに0埋め"
   ]
  },
  {
   "cell_type": "code",
   "execution_count": 360,
   "metadata": {},
   "outputs": [
    {
     "output_type": "execute_result",
     "data": {
      "text/plain": "array([0., 1.])"
     },
     "metadata": {},
     "execution_count": 360
    }
   ],
   "source": [
    "race_df['obstacle'] = race_df['obstacle'].replace('障', 1)\n",
    "race_df.fillna(value={'obstacle': 0}, inplace=True)\n",
    "race_df['obstacle'].unique()"
   ]
  },
  {
   "cell_type": "markdown",
   "metadata": {},
   "source": [
    "## 芝かダートかのデータground_type"
   ]
  },
  {
   "cell_type": "code",
   "execution_count": 361,
   "metadata": {},
   "outputs": [
    {
     "output_type": "execute_result",
     "data": {
      "text/plain": "array(['ダ', '芝'], dtype=object)"
     },
     "metadata": {},
     "execution_count": 361
    }
   ],
   "source": [
    "ground_type = race_df[\"race_course\"].str.extract('(ダ|芝)', expand=True)\n",
    "ground_type.columns ={\"ground_type\"}\n",
    "race_df = pd.concat([race_df, ground_type], axis=1)\n",
    "race_df['ground_type'].unique()"
   ]
  },
  {
   "cell_type": "markdown",
   "metadata": {},
   "source": [
    "## 左周りか右回りか直線かのデータleft_right_straight"
   ]
  },
  {
   "cell_type": "code",
   "execution_count": 362,
   "metadata": {},
   "outputs": [
    {
     "output_type": "execute_result",
     "data": {
      "text/plain": "array(['右', nan], dtype=object)"
     },
     "metadata": {},
     "execution_count": 362
    }
   ],
   "source": [
    "left_right_straight = race_df[\"race_course\"].str.extract('(左|右|直線)', expand=True)\n",
    "left_right_straight.columns = {\"left_right_straight\"}\n",
    "race_df = pd.concat([race_df, left_right_straight], axis=1)\n",
    "race_df['left_right_straight'].unique()"
   ]
  },
  {
   "cell_type": "markdown",
   "metadata": {},
   "source": [
    "## コースの距離distance"
   ]
  },
  {
   "cell_type": "code",
   "execution_count": 363,
   "metadata": {},
   "outputs": [
    {
     "output_type": "execute_result",
     "data": {
      "text/plain": "array(['1200', '1800', '2880', '1600'], dtype=object)"
     },
     "metadata": {},
     "execution_count": 363
    }
   ],
   "source": [
    "distance = race_df[\"race_course\"].str.extract('(\\d+)m', expand=True)\n",
    "distance.columns = {\"distance\"}\n",
    "race_df = pd.concat([race_df, distance], axis=1)\n",
    "race_df['distance'].unique()"
   ]
  },
  {
   "cell_type": "markdown",
   "metadata": {},
   "source": [
    "## intに変換"
   ]
  },
  {
   "cell_type": "code",
   "execution_count": 364,
   "metadata": {},
   "outputs": [
    {
     "output_type": "execute_result",
     "data": {
      "text/plain": "0    1200\n1    1800\n2    1200\nName: distance, dtype: int32"
     },
     "metadata": {},
     "execution_count": 364
    }
   ],
   "source": [
    "race_df[\"distance\"] = race_df[\"distance\"].astype(int)\n",
    "race_df['distance'].head(3)"
   ]
  },
  {
   "cell_type": "markdown",
   "metadata": {},
   "source": [
    "## race_courseは不要になったので削除"
   ]
  },
  {
   "cell_type": "code",
   "execution_count": 365,
   "metadata": {},
   "outputs": [],
   "source": [
    "race_df.drop(['race_course'], axis=1, inplace=True)"
   ]
  },
  {
   "cell_type": "markdown",
   "metadata": {},
   "source": [
    "## weather　いらない文字列削除\n"
   ]
  },
  {
   "cell_type": "code",
   "execution_count": 366,
   "metadata": {},
   "outputs": [
    {
     "output_type": "execute_result",
     "data": {
      "text/plain": "array(['天候 : 小雨', '天候 : 曇'], dtype=object)"
     },
     "metadata": {},
     "execution_count": 366
    }
   ],
   "source": [
    "race_df[\"weather\"].unique()"
   ]
  },
  {
   "cell_type": "code",
   "execution_count": 367,
   "metadata": {},
   "outputs": [
    {
     "output_type": "execute_result",
     "data": {
      "text/plain": "0    小雨\n1    小雨\n2    小雨\nName: weather, dtype: object"
     },
     "metadata": {},
     "execution_count": 367
    }
   ],
   "source": [
    "race_df['weather'] = race_df['weather'].str.strip('天候 :')\n",
    "race_df[\"weather\"].head(3)"
   ]
  },
  {
   "cell_type": "markdown",
   "metadata": {},
   "source": [
    "## ground_status いらない文字列削除"
   ]
  },
  {
   "cell_type": "code",
   "execution_count": 368,
   "metadata": {},
   "outputs": [
    {
     "output_type": "execute_result",
     "data": {
      "text/plain": "array(['ダート : 稍重', '芝 : 稍重\\xa0\\xa0ダート : 稍重', '芝 : 稍重'], dtype=object)"
     },
     "metadata": {},
     "execution_count": 368
    }
   ],
   "source": [
    "race_df[\"ground_status\"].unique()"
   ]
  },
  {
   "cell_type": "code",
   "execution_count": 369,
   "metadata": {},
   "outputs": [
    {
     "output_type": "execute_result",
     "data": {
      "text/plain": "array(['稍重'], dtype=object)"
     },
     "metadata": {},
     "execution_count": 369
    }
   ],
   "source": [
    "race_df['ground_status'] = race_df['ground_status'].str.extract('(稍重|重|不良|良)',expand=True)\n",
    "race_df[\"ground_status\"].unique()"
   ]
  },
  {
   "cell_type": "markdown",
   "metadata": {},
   "source": [
    "## where_racecourse　場所以外の情報を削除"
   ]
  },
  {
   "cell_type": "code",
   "execution_count": 370,
   "metadata": {},
   "outputs": [
    {
     "output_type": "execute_result",
     "data": {
      "text/plain": "0    2020年1月26日\n1    2020年1月26日\n2    2020年1月26日\nName: date, dtype: object"
     },
     "metadata": {},
     "execution_count": 370
    }
   ],
   "source": [
    "race_df[\"date\"].head(3)"
   ]
  },
  {
   "cell_type": "code",
   "execution_count": 371,
   "metadata": {},
   "outputs": [],
   "source": [
    "race_df[\"time\"] = race_df[\"time\"].str.replace('(\\d\\d):(\\d\\d)', r'\\1時\\2分')"
   ]
  },
  {
   "cell_type": "code",
   "execution_count": 372,
   "metadata": {},
   "outputs": [],
   "source": [
    "race_df[\"date\"] = race_df[\"date\"] + race_df[\"time\"]\n",
    "race_df[\"date\"] = pd.to_datetime(race_df['date'], format='%Y年%m月%d日%H時%M分')"
   ]
  },
  {
   "cell_type": "code",
   "execution_count": 373,
   "metadata": {},
   "outputs": [
    {
     "output_type": "execute_result",
     "data": {
      "text/plain": "0   2020-01-26 10:10:00\n1   2020-01-26 10:40:00\n2   2020-01-26 11:10:00\nName: date, dtype: datetime64[ns]"
     },
     "metadata": {},
     "execution_count": 373
    }
   ],
   "source": [
    "race_df[\"date\"].head(3)"
   ]
  },
  {
   "cell_type": "code",
   "execution_count": 374,
   "metadata": {},
   "outputs": [],
   "source": [
    "race_df.drop(['time'], axis=1, inplace=True)"
   ]
  },
  {
   "cell_type": "code",
   "execution_count": 375,
   "metadata": {},
   "outputs": [
    {
     "output_type": "execute_result",
     "data": {
      "text/plain": "array(['1回中山9日目'], dtype=object)"
     },
     "metadata": {},
     "execution_count": 375
    }
   ],
   "source": [
    "race_df[\"where_racecourse\"].unique()"
   ]
  },
  {
   "cell_type": "code",
   "execution_count": 376,
   "metadata": {},
   "outputs": [
    {
     "output_type": "execute_result",
     "data": {
      "text/plain": "array(['中山'], dtype=object)"
     },
     "metadata": {},
     "execution_count": 376
    }
   ],
   "source": [
    "race_df[\"where_racecourse\"] = race_df[\"where_racecourse\"].str.replace('\\d*回(..)\\d*日目', r'\\1')\n",
    "race_df[\"where_racecourse\"].unique()"
   ]
  },
  {
   "cell_type": "code",
   "execution_count": 377,
   "metadata": {},
   "outputs": [],
   "source": [
    "race_df = pd.get_dummies(race_df, columns=[\"ground_status\",\"weather\",'where_racecourse','ground_type','left_right_straight'])"
   ]
  },
  {
   "cell_type": "code",
   "execution_count": 378,
   "metadata": {},
   "outputs": [],
   "source": [
    "race_df.to_csv(\"csv/cleaned_race_data.csv\", index=False )"
   ]
  },
  {
   "cell_type": "code",
   "execution_count": null,
   "metadata": {},
   "outputs": [],
   "source": []
  },
  {
   "cell_type": "code",
   "execution_count": null,
   "metadata": {},
   "outputs": [],
   "source": []
  },
  {
   "cell_type": "markdown",
   "metadata": {},
   "source": [
    "## horse data の整形"
   ]
  },
  {
   "cell_type": "code",
   "execution_count": 379,
   "metadata": {},
   "outputs": [
    {
     "output_type": "stream",
     "name": "stdout",
     "text": "(144, 19)\nrace_id            int64\nrank              object\nframe_number       int64\nhorse_number       int64\nhorse_id           int64\nsex_and_age       object\nburden_weight      int64\nrider_id           int64\ngoal_time         object\ngoal_time_dif     object\ntime_value        object\nhalf_way_rank     object\nlast_time        float64\nodds              object\npopular          float64\nhorse_weight      object\ntame_time        float64\ntamer_id           int64\nowner_id           int64\ndtype: object\n"
    },
    {
     "output_type": "execute_result",
     "data": {
      "text/plain": "        race_id rank  frame_number  horse_number    horse_id sex_and_age  \\\n0  202006010901    1             6            11  2017101162          牝3   \n1  202006010901    2             8            15  2017103291          牝3   \n\n   burden_weight  rider_id goal_time goal_time_dif time_value half_way_rank  \\\n0             54      5575    1:13.1           NaN         **           2-2   \n1             54       641    1:13.7         3.1/2         **           7-6   \n\n   last_time odds  popular horse_weight  tame_time  tamer_id  owner_id  \n0       37.9  1.7      1.0      460(+2)        NaN      1112    302031  \n1       38.0  4.3      2.0      426(-6)        NaN      1163    854800  ",
      "text/html": "<div>\n<style scoped>\n    .dataframe tbody tr th:only-of-type {\n        vertical-align: middle;\n    }\n\n    .dataframe tbody tr th {\n        vertical-align: top;\n    }\n\n    .dataframe thead th {\n        text-align: right;\n    }\n</style>\n<table border=\"1\" class=\"dataframe\">\n  <thead>\n    <tr style=\"text-align: right;\">\n      <th></th>\n      <th>race_id</th>\n      <th>rank</th>\n      <th>frame_number</th>\n      <th>horse_number</th>\n      <th>horse_id</th>\n      <th>sex_and_age</th>\n      <th>burden_weight</th>\n      <th>rider_id</th>\n      <th>goal_time</th>\n      <th>goal_time_dif</th>\n      <th>time_value</th>\n      <th>half_way_rank</th>\n      <th>last_time</th>\n      <th>odds</th>\n      <th>popular</th>\n      <th>horse_weight</th>\n      <th>tame_time</th>\n      <th>tamer_id</th>\n      <th>owner_id</th>\n    </tr>\n  </thead>\n  <tbody>\n    <tr>\n      <th>0</th>\n      <td>202006010901</td>\n      <td>1</td>\n      <td>6</td>\n      <td>11</td>\n      <td>2017101162</td>\n      <td>牝3</td>\n      <td>54</td>\n      <td>5575</td>\n      <td>1:13.1</td>\n      <td>NaN</td>\n      <td>**</td>\n      <td>2-2</td>\n      <td>37.9</td>\n      <td>1.7</td>\n      <td>1.0</td>\n      <td>460(+2)</td>\n      <td>NaN</td>\n      <td>1112</td>\n      <td>302031</td>\n    </tr>\n    <tr>\n      <th>1</th>\n      <td>202006010901</td>\n      <td>2</td>\n      <td>8</td>\n      <td>15</td>\n      <td>2017103291</td>\n      <td>牝3</td>\n      <td>54</td>\n      <td>641</td>\n      <td>1:13.7</td>\n      <td>3.1/2</td>\n      <td>**</td>\n      <td>7-6</td>\n      <td>38.0</td>\n      <td>4.3</td>\n      <td>2.0</td>\n      <td>426(-6)</td>\n      <td>NaN</td>\n      <td>1163</td>\n      <td>854800</td>\n    </tr>\n  </tbody>\n</table>\n</div>"
     },
     "metadata": {},
     "execution_count": 379
    }
   ],
   "source": [
    "horse_df = pd.read_csv(\"./csv/horse.csv\", sep=\",\")\n",
    "print(horse_df.shape)\n",
    "print(horse_df.dtypes)\n",
    "horse_df.head(2)"
   ]
  },
  {
   "cell_type": "code",
   "execution_count": 380,
   "metadata": {},
   "outputs": [
    {
     "output_type": "stream",
     "name": "stdout",
     "text": "(144, 19)\nrace_id            int64\nrank              object\nframe_number       int64\nhorse_number       int64\nhorse_id           int64\nsex_and_age       object\nburden_weight      int64\nrider_id           int64\ngoal_time         object\ngoal_time_dif     object\ntime_value        object\nhalf_way_rank     object\nlast_time        float64\nodds              object\npopular          float64\nhorse_weight      object\ntame_time        float64\ntamer_id           int64\nowner_id           int64\ndtype: object\n"
    }
   ],
   "source": [
    "print(horse_df.shape)\n",
    "print(horse_df.dtypes)"
   ]
  },
  {
   "cell_type": "markdown",
   "metadata": {},
   "source": [
    "## 使わないデータ削除"
   ]
  },
  {
   "cell_type": "code",
   "execution_count": 381,
   "metadata": {},
   "outputs": [],
   "source": [
    "horse_df.drop(['time_value'], axis=1, inplace=True)\n",
    "horse_df.drop(['goal_time_dif'], axis=1, inplace=True)\n",
    "horse_df.drop(['tame_time'], axis=1, inplace=True)"
   ]
  },
  {
   "cell_type": "markdown",
   "metadata": {},
   "source": [
    "### データ分析のため、レース日時情報をmerge"
   ]
  },
  {
   "cell_type": "code",
   "execution_count": 382,
   "metadata": {},
   "outputs": [
    {
     "output_type": "execute_result",
     "data": {
      "text/plain": "        race_id rank  frame_number  horse_number    horse_id sex_and_age  \\\n0  202006010901    1             6            11  2017101162          牝3   \n1  202006010901    2             8            15  2017103291          牝3   \n2  202006010901    3             7            13  2017103186          牝3   \n3  202006010901    4             6            12  2017102344          牝3   \n4  202006010901    5             1             2  2017106573          牝3   \n\n   burden_weight  rider_id goal_time half_way_rank  last_time  odds  popular  \\\n0             54      5575    1:13.1           2-2       37.9   1.7      1.0   \n1             54       641    1:13.7           7-6       38.0   4.3      2.0   \n2             54       726    1:13.9           3-3       38.6  23.9      6.0   \n3             54      1127    1:13.9         11-11       37.8  48.7     10.0   \n4             54      1092    1:14.0           1-1       38.9   7.0      3.0   \n\n  horse_weight  tamer_id  owner_id                date  \n0      460(+2)      1112    302031 2020-01-26 10:10:00  \n1      426(-6)      1163    854800 2020-01-26 10:10:00  \n2     468(+10)      1024    629800 2020-01-26 10:10:00  \n3      486(+2)       420    728033 2020-01-26 10:10:00  \n4     464(+12)      1051      3060 2020-01-26 10:10:00  ",
      "text/html": "<div>\n<style scoped>\n    .dataframe tbody tr th:only-of-type {\n        vertical-align: middle;\n    }\n\n    .dataframe tbody tr th {\n        vertical-align: top;\n    }\n\n    .dataframe thead th {\n        text-align: right;\n    }\n</style>\n<table border=\"1\" class=\"dataframe\">\n  <thead>\n    <tr style=\"text-align: right;\">\n      <th></th>\n      <th>race_id</th>\n      <th>rank</th>\n      <th>frame_number</th>\n      <th>horse_number</th>\n      <th>horse_id</th>\n      <th>sex_and_age</th>\n      <th>burden_weight</th>\n      <th>rider_id</th>\n      <th>goal_time</th>\n      <th>half_way_rank</th>\n      <th>last_time</th>\n      <th>odds</th>\n      <th>popular</th>\n      <th>horse_weight</th>\n      <th>tamer_id</th>\n      <th>owner_id</th>\n      <th>date</th>\n    </tr>\n  </thead>\n  <tbody>\n    <tr>\n      <th>0</th>\n      <td>202006010901</td>\n      <td>1</td>\n      <td>6</td>\n      <td>11</td>\n      <td>2017101162</td>\n      <td>牝3</td>\n      <td>54</td>\n      <td>5575</td>\n      <td>1:13.1</td>\n      <td>2-2</td>\n      <td>37.9</td>\n      <td>1.7</td>\n      <td>1.0</td>\n      <td>460(+2)</td>\n      <td>1112</td>\n      <td>302031</td>\n      <td>2020-01-26 10:10:00</td>\n    </tr>\n    <tr>\n      <th>1</th>\n      <td>202006010901</td>\n      <td>2</td>\n      <td>8</td>\n      <td>15</td>\n      <td>2017103291</td>\n      <td>牝3</td>\n      <td>54</td>\n      <td>641</td>\n      <td>1:13.7</td>\n      <td>7-6</td>\n      <td>38.0</td>\n      <td>4.3</td>\n      <td>2.0</td>\n      <td>426(-6)</td>\n      <td>1163</td>\n      <td>854800</td>\n      <td>2020-01-26 10:10:00</td>\n    </tr>\n    <tr>\n      <th>2</th>\n      <td>202006010901</td>\n      <td>3</td>\n      <td>7</td>\n      <td>13</td>\n      <td>2017103186</td>\n      <td>牝3</td>\n      <td>54</td>\n      <td>726</td>\n      <td>1:13.9</td>\n      <td>3-3</td>\n      <td>38.6</td>\n      <td>23.9</td>\n      <td>6.0</td>\n      <td>468(+10)</td>\n      <td>1024</td>\n      <td>629800</td>\n      <td>2020-01-26 10:10:00</td>\n    </tr>\n    <tr>\n      <th>3</th>\n      <td>202006010901</td>\n      <td>4</td>\n      <td>6</td>\n      <td>12</td>\n      <td>2017102344</td>\n      <td>牝3</td>\n      <td>54</td>\n      <td>1127</td>\n      <td>1:13.9</td>\n      <td>11-11</td>\n      <td>37.8</td>\n      <td>48.7</td>\n      <td>10.0</td>\n      <td>486(+2)</td>\n      <td>420</td>\n      <td>728033</td>\n      <td>2020-01-26 10:10:00</td>\n    </tr>\n    <tr>\n      <th>4</th>\n      <td>202006010901</td>\n      <td>5</td>\n      <td>1</td>\n      <td>2</td>\n      <td>2017106573</td>\n      <td>牝3</td>\n      <td>54</td>\n      <td>1092</td>\n      <td>1:14.0</td>\n      <td>1-1</td>\n      <td>38.9</td>\n      <td>7.0</td>\n      <td>3.0</td>\n      <td>464(+12)</td>\n      <td>1051</td>\n      <td>3060</td>\n      <td>2020-01-26 10:10:00</td>\n    </tr>\n  </tbody>\n</table>\n</div>"
     },
     "metadata": {},
     "execution_count": 382
    }
   ],
   "source": [
    "race_tmp_df = race_df[[\"race_id\", \"date\"]]\n",
    "horse_df = pd.merge(horse_df, race_tmp_df, on='race_id')\n",
    "horse_df.head()"
   ]
  },
  {
   "cell_type": "markdown",
   "metadata": {},
   "source": [
    "### rank　数字と文字列を分ける "
   ]
  },
  {
   "cell_type": "code",
   "execution_count": 383,
   "metadata": {},
   "outputs": [
    {
     "output_type": "execute_result",
     "data": {
      "text/plain": "array(['1', '2', '3', '4', '5', '6', '7', '8', '9', '10', '11', '12',\n       '13', '14', '15', '除', '中', '16'], dtype=object)"
     },
     "metadata": {},
     "execution_count": 383
    }
   ],
   "source": [
    "horse_df[\"rank\"].unique()"
   ]
  },
  {
   "cell_type": "markdown",
   "metadata": {},
   "source": [
    "### 降格を別へ"
   ]
  },
  {
   "cell_type": "code",
   "execution_count": 384,
   "metadata": {},
   "outputs": [],
   "source": [
    "is_down = horse_df[\"rank\"].str.extract('(\\(降\\))', expand=True)\n",
    "is_down.columns ={\"is_down\"}\n",
    "horse_df = pd.concat([horse_df, is_down], axis=1)\n",
    "\n",
    "horse_df.fillna(value={'is_down': 0}, inplace=True)\n",
    "horse_df['is_down'] = horse_df['is_down'].replace('(降)', 1)\n",
    "\n",
    "## 余分な文字を削除\n",
    "horse_df['rank'] = horse_df['rank'].apply(lambda x: x.replace(\"(降)\", \"\"))\n",
    "horse_df['rank'] = horse_df['rank'].apply(lambda x: x.replace(\"(再)\", \"\"))"
   ]
  },
  {
   "cell_type": "code",
   "execution_count": 385,
   "metadata": {},
   "outputs": [],
   "source": [
    "\"\"\"- 取・除はそもそも参加していないので削除\n",
    "- 失は順位が全く当てにならないので情報を削除\n",
    "- 中は最後まで到達していないが参加はしている。ひとまず20位にしておく\"\"\"\n",
    "\n",
    "horse_df = horse_df[(horse_df['rank'] != \"取\") & (horse_df['rank'] != \"除\") & (horse_df['rank'] != \"失\")]\n",
    "horse_df['rank'] = pd.DataFrame(horse_df['rank'].mask(horse_df['rank'] == \"中\", 20))"
   ]
  },
  {
   "cell_type": "code",
   "execution_count": 386,
   "metadata": {},
   "outputs": [
    {
     "output_type": "execute_result",
     "data": {
      "text/plain": "3     10\n2     10\n9     10\n8     10\n11    10\n5     10\n10    10\n7     10\n4     10\n6     10\n1     10\n12     8\n13     7\n14     6\n15     6\n20     3\n16     2\nName: rank, dtype: int64"
     },
     "metadata": {},
     "execution_count": 386
    }
   ],
   "source": [
    "horse_df[\"rank\"].value_counts()"
   ]
  },
  {
   "cell_type": "markdown",
   "metadata": {},
   "source": [
    "### 性別と年齢を別に"
   ]
  },
  {
   "cell_type": "code",
   "execution_count": 387,
   "metadata": {},
   "outputs": [
    {
     "output_type": "execute_result",
     "data": {
      "text/plain": "array(['牝3', '牡3', '牡7', '牡5', 'セ7', '牡4', '牡6', '牝4', 'セ6', 'セ3', '牝5',\n       '牡8', 'セ4', '牡9'], dtype=object)"
     },
     "metadata": {},
     "execution_count": 387
    }
   ],
   "source": [
    "horse_df['sex_and_age'].unique()"
   ]
  },
  {
   "cell_type": "code",
   "execution_count": 388,
   "metadata": {},
   "outputs": [],
   "source": [
    "# 性別を別へ\n",
    "\n",
    "is_senba = horse_df[\"sex_and_age\"].str.extract('(セ)', expand=True)\n",
    "is_senba.columns ={\"is_senba\"}\n",
    "horse_df = pd.concat([horse_df, is_senba], axis=1)\n",
    "\n",
    "is_mesu = horse_df[\"sex_and_age\"].str.extract('(牝)', expand=True)\n",
    "is_mesu.columns ={\"is_mesu\"}\n",
    "horse_df = pd.concat([horse_df, is_mesu], axis=1)\n",
    "\n",
    "is_osu = horse_df[\"sex_and_age\"].str.extract('(牡)', expand=True)\n",
    "is_osu.columns ={\"is_osu\"}\n",
    "horse_df = pd.concat([horse_df, is_osu], axis=1)"
   ]
  },
  {
   "cell_type": "code",
   "execution_count": 389,
   "metadata": {},
   "outputs": [],
   "source": [
    "horse_df.fillna(value={'is_osu': 0}, inplace=True)\n",
    "horse_df['is_osu'] = horse_df['is_osu'].replace('牡', 1)\n",
    "horse_df.fillna(value={'is_mesu': 0}, inplace=True)\n",
    "horse_df['is_mesu'] = horse_df['is_mesu'].replace('牝', 1)\n",
    "horse_df.fillna(value={'is_senba': 0}, inplace=True)\n",
    "horse_df['is_senba'] = horse_df['is_senba'].replace('セ', 1)\n",
    "## 余分な文字を削除\n",
    "horse_df['sex_and_age'] = horse_df['sex_and_age'].str.strip(\"牝牡セ\")\n",
    "horse_df['sex_and_age'] = horse_df['sex_and_age'].astype(int)"
   ]
  },
  {
   "cell_type": "code",
   "execution_count": 390,
   "metadata": {},
   "outputs": [],
   "source": [
    "horse_df = horse_df.rename(columns={'sex_and_age': 'age'})"
   ]
  },
  {
   "cell_type": "code",
   "execution_count": 391,
   "metadata": {},
   "outputs": [
    {
     "output_type": "execute_result",
     "data": {
      "text/plain": "          race_id rank  frame_number  horse_number    horse_id  age  \\\n0    202006010901    1             6            11  2017101162    3   \n1    202006010901    2             8            15  2017103291    3   \n2    202006010901    3             7            13  2017103186    3   \n3    202006010901    4             6            12  2017102344    3   \n4    202006010901    5             1             2  2017106573    3   \n..            ...  ...           ...           ...         ...  ...   \n139  202006010910    8             1             1  2016100696    4   \n140  202006010910    9             5             6  2016104023    4   \n141  202006010910   10             3             3  2016103085    4   \n142  202006010910   11             6             7  2011106393    9   \n143  202006010910   12             8            12  2016105179    4   \n\n     burden_weight  rider_id goal_time half_way_rank  last_time   odds  \\\n0               54      5575    1:13.1           2-2       37.9    1.7   \n1               54       641    1:13.7           7-6       38.0    4.3   \n2               54       726    1:13.9           3-3       38.6   23.9   \n3               54      1127    1:13.9         11-11       37.8   48.7   \n4               54      1092    1:14.0           1-1       38.9    7.0   \n..             ...       ...       ...           ...        ...    ...   \n139             56      1158    1:55.0     8-9-10-10       38.5   63.1   \n140             56      5517    1:55.0       8-8-7-8       38.8    8.8   \n141             56      5575    1:55.3       4-5-4-6       39.3    9.7   \n142             57      1118    1:55.6       3-3-3-4       39.7  244.0   \n143             56      1085    1:56.2     10-10-7-8       40.0   72.9   \n\n     popular horse_weight  tamer_id  owner_id                date  is_down  \\\n0        1.0      460(+2)      1112    302031 2020-01-26 10:10:00        0   \n1        2.0      426(-6)      1163    854800 2020-01-26 10:10:00        0   \n2        6.0     468(+10)      1024    629800 2020-01-26 10:10:00        0   \n3       10.0      486(+2)       420    728033 2020-01-26 10:10:00        0   \n4        3.0     464(+12)      1051      3060 2020-01-26 10:10:00        0   \n..       ...          ...       ...       ...                 ...      ...   \n139     10.0      476(-2)      1125    716800 2020-01-26 15:10:00        0   \n140      3.0      508(-4)      1150     50803 2020-01-26 15:10:00        0   \n141      4.0      508(-1)      1058    619800 2020-01-26 15:10:00        0   \n142     12.0      484(-2)      1010    546800 2020-01-26 15:10:00        0   \n143     11.0      474(-2)      1094    310007 2020-01-26 15:10:00        0   \n\n     is_senba  is_mesu  is_osu  \n0           0        1       0  \n1           0        1       0  \n2           0        1       0  \n3           0        1       0  \n4           0        1       0  \n..        ...      ...     ...  \n139         0        0       1  \n140         0        0       1  \n141         0        0       1  \n142         0        0       1  \n143         0        0       1  \n\n[142 rows x 21 columns]",
      "text/html": "<div>\n<style scoped>\n    .dataframe tbody tr th:only-of-type {\n        vertical-align: middle;\n    }\n\n    .dataframe tbody tr th {\n        vertical-align: top;\n    }\n\n    .dataframe thead th {\n        text-align: right;\n    }\n</style>\n<table border=\"1\" class=\"dataframe\">\n  <thead>\n    <tr style=\"text-align: right;\">\n      <th></th>\n      <th>race_id</th>\n      <th>rank</th>\n      <th>frame_number</th>\n      <th>horse_number</th>\n      <th>horse_id</th>\n      <th>age</th>\n      <th>burden_weight</th>\n      <th>rider_id</th>\n      <th>goal_time</th>\n      <th>half_way_rank</th>\n      <th>last_time</th>\n      <th>odds</th>\n      <th>popular</th>\n      <th>horse_weight</th>\n      <th>tamer_id</th>\n      <th>owner_id</th>\n      <th>date</th>\n      <th>is_down</th>\n      <th>is_senba</th>\n      <th>is_mesu</th>\n      <th>is_osu</th>\n    </tr>\n  </thead>\n  <tbody>\n    <tr>\n      <th>0</th>\n      <td>202006010901</td>\n      <td>1</td>\n      <td>6</td>\n      <td>11</td>\n      <td>2017101162</td>\n      <td>3</td>\n      <td>54</td>\n      <td>5575</td>\n      <td>1:13.1</td>\n      <td>2-2</td>\n      <td>37.9</td>\n      <td>1.7</td>\n      <td>1.0</td>\n      <td>460(+2)</td>\n      <td>1112</td>\n      <td>302031</td>\n      <td>2020-01-26 10:10:00</td>\n      <td>0</td>\n      <td>0</td>\n      <td>1</td>\n      <td>0</td>\n    </tr>\n    <tr>\n      <th>1</th>\n      <td>202006010901</td>\n      <td>2</td>\n      <td>8</td>\n      <td>15</td>\n      <td>2017103291</td>\n      <td>3</td>\n      <td>54</td>\n      <td>641</td>\n      <td>1:13.7</td>\n      <td>7-6</td>\n      <td>38.0</td>\n      <td>4.3</td>\n      <td>2.0</td>\n      <td>426(-6)</td>\n      <td>1163</td>\n      <td>854800</td>\n      <td>2020-01-26 10:10:00</td>\n      <td>0</td>\n      <td>0</td>\n      <td>1</td>\n      <td>0</td>\n    </tr>\n    <tr>\n      <th>2</th>\n      <td>202006010901</td>\n      <td>3</td>\n      <td>7</td>\n      <td>13</td>\n      <td>2017103186</td>\n      <td>3</td>\n      <td>54</td>\n      <td>726</td>\n      <td>1:13.9</td>\n      <td>3-3</td>\n      <td>38.6</td>\n      <td>23.9</td>\n      <td>6.0</td>\n      <td>468(+10)</td>\n      <td>1024</td>\n      <td>629800</td>\n      <td>2020-01-26 10:10:00</td>\n      <td>0</td>\n      <td>0</td>\n      <td>1</td>\n      <td>0</td>\n    </tr>\n    <tr>\n      <th>3</th>\n      <td>202006010901</td>\n      <td>4</td>\n      <td>6</td>\n      <td>12</td>\n      <td>2017102344</td>\n      <td>3</td>\n      <td>54</td>\n      <td>1127</td>\n      <td>1:13.9</td>\n      <td>11-11</td>\n      <td>37.8</td>\n      <td>48.7</td>\n      <td>10.0</td>\n      <td>486(+2)</td>\n      <td>420</td>\n      <td>728033</td>\n      <td>2020-01-26 10:10:00</td>\n      <td>0</td>\n      <td>0</td>\n      <td>1</td>\n      <td>0</td>\n    </tr>\n    <tr>\n      <th>4</th>\n      <td>202006010901</td>\n      <td>5</td>\n      <td>1</td>\n      <td>2</td>\n      <td>2017106573</td>\n      <td>3</td>\n      <td>54</td>\n      <td>1092</td>\n      <td>1:14.0</td>\n      <td>1-1</td>\n      <td>38.9</td>\n      <td>7.0</td>\n      <td>3.0</td>\n      <td>464(+12)</td>\n      <td>1051</td>\n      <td>3060</td>\n      <td>2020-01-26 10:10:00</td>\n      <td>0</td>\n      <td>0</td>\n      <td>1</td>\n      <td>0</td>\n    </tr>\n    <tr>\n      <th>...</th>\n      <td>...</td>\n      <td>...</td>\n      <td>...</td>\n      <td>...</td>\n      <td>...</td>\n      <td>...</td>\n      <td>...</td>\n      <td>...</td>\n      <td>...</td>\n      <td>...</td>\n      <td>...</td>\n      <td>...</td>\n      <td>...</td>\n      <td>...</td>\n      <td>...</td>\n      <td>...</td>\n      <td>...</td>\n      <td>...</td>\n      <td>...</td>\n      <td>...</td>\n      <td>...</td>\n    </tr>\n    <tr>\n      <th>139</th>\n      <td>202006010910</td>\n      <td>8</td>\n      <td>1</td>\n      <td>1</td>\n      <td>2016100696</td>\n      <td>4</td>\n      <td>56</td>\n      <td>1158</td>\n      <td>1:55.0</td>\n      <td>8-9-10-10</td>\n      <td>38.5</td>\n      <td>63.1</td>\n      <td>10.0</td>\n      <td>476(-2)</td>\n      <td>1125</td>\n      <td>716800</td>\n      <td>2020-01-26 15:10:00</td>\n      <td>0</td>\n      <td>0</td>\n      <td>0</td>\n      <td>1</td>\n    </tr>\n    <tr>\n      <th>140</th>\n      <td>202006010910</td>\n      <td>9</td>\n      <td>5</td>\n      <td>6</td>\n      <td>2016104023</td>\n      <td>4</td>\n      <td>56</td>\n      <td>5517</td>\n      <td>1:55.0</td>\n      <td>8-8-7-8</td>\n      <td>38.8</td>\n      <td>8.8</td>\n      <td>3.0</td>\n      <td>508(-4)</td>\n      <td>1150</td>\n      <td>50803</td>\n      <td>2020-01-26 15:10:00</td>\n      <td>0</td>\n      <td>0</td>\n      <td>0</td>\n      <td>1</td>\n    </tr>\n    <tr>\n      <th>141</th>\n      <td>202006010910</td>\n      <td>10</td>\n      <td>3</td>\n      <td>3</td>\n      <td>2016103085</td>\n      <td>4</td>\n      <td>56</td>\n      <td>5575</td>\n      <td>1:55.3</td>\n      <td>4-5-4-6</td>\n      <td>39.3</td>\n      <td>9.7</td>\n      <td>4.0</td>\n      <td>508(-1)</td>\n      <td>1058</td>\n      <td>619800</td>\n      <td>2020-01-26 15:10:00</td>\n      <td>0</td>\n      <td>0</td>\n      <td>0</td>\n      <td>1</td>\n    </tr>\n    <tr>\n      <th>142</th>\n      <td>202006010910</td>\n      <td>11</td>\n      <td>6</td>\n      <td>7</td>\n      <td>2011106393</td>\n      <td>9</td>\n      <td>57</td>\n      <td>1118</td>\n      <td>1:55.6</td>\n      <td>3-3-3-4</td>\n      <td>39.7</td>\n      <td>244.0</td>\n      <td>12.0</td>\n      <td>484(-2)</td>\n      <td>1010</td>\n      <td>546800</td>\n      <td>2020-01-26 15:10:00</td>\n      <td>0</td>\n      <td>0</td>\n      <td>0</td>\n      <td>1</td>\n    </tr>\n    <tr>\n      <th>143</th>\n      <td>202006010910</td>\n      <td>12</td>\n      <td>8</td>\n      <td>12</td>\n      <td>2016105179</td>\n      <td>4</td>\n      <td>56</td>\n      <td>1085</td>\n      <td>1:56.2</td>\n      <td>10-10-7-8</td>\n      <td>40.0</td>\n      <td>72.9</td>\n      <td>11.0</td>\n      <td>474(-2)</td>\n      <td>1094</td>\n      <td>310007</td>\n      <td>2020-01-26 15:10:00</td>\n      <td>0</td>\n      <td>0</td>\n      <td>0</td>\n      <td>1</td>\n    </tr>\n  </tbody>\n</table>\n<p>142 rows × 21 columns</p>\n</div>"
     },
     "metadata": {},
     "execution_count": 391
    }
   ],
   "source": [
    "horse_df"
   ]
  },
  {
   "cell_type": "code",
   "execution_count": 392,
   "metadata": {},
   "outputs": [
    {
     "output_type": "stream",
     "name": "stdout",
     "text": "3\n3\n"
    }
   ],
   "source": [
    "# nullになるのは、レースで「中」になった馬\n",
    "print(horse_df['goal_time'].isnull().sum())\n",
    "print(horse_df['last_time'].isnull().sum())"
   ]
  },
  {
   "cell_type": "code",
   "execution_count": 393,
   "metadata": {},
   "outputs": [],
   "source": [
    "horse_df['goal_time'] = pd.to_datetime(horse_df['goal_time'], format='%M:%S.%f') - pd.to_datetime('00:00.0', format='%M:%S.%f')\n",
    "horse_df['goal_time'] = horse_df['goal_time'].dt.total_seconds()"
   ]
  },
  {
   "cell_type": "code",
   "execution_count": 394,
   "metadata": {},
   "outputs": [],
   "source": [
    "# 欠損値を最大値で埋める\n",
    "horse_df.fillna(value={'goal_time': horse_df['goal_time'].max()}, inplace=True)\n",
    "horse_df.fillna(value={'last_time': horse_df['last_time'].max()}, inplace=True)"
   ]
  },
  {
   "cell_type": "code",
   "execution_count": 395,
   "metadata": {},
   "outputs": [],
   "source": [
    "# レース距離情報をmerge\n",
    "race_tmp_df = race_df[[\"race_id\", \"distance\"]]\n",
    "horse_df = pd.merge(horse_df, race_tmp_df, on='race_id')\n",
    "horse_df[\"distance\"] = horse_df[\"distance\"].astype(int)\n",
    "horse_df[\"avg_velocity\"] = horse_df[\"distance\"]/horse_df[\"goal_time\"]"
   ]
  },
  {
   "cell_type": "code",
   "execution_count": 396,
   "metadata": {},
   "outputs": [],
   "source": [
    "horse_weight_dif = horse_df[\"horse_weight\"].str.extract('\\(([-|+]?\\d*)\\)', expand=True)\n",
    "horse_weight_dif.columns ={\"horse_weight_dif\"}\n",
    "\n",
    "horse_df = pd.concat([horse_df, horse_weight_dif], axis=1)\n",
    "\n",
    "horse_df['horse_weight'] = horse_df['horse_weight'].replace('\\(([-|+]?\\d*)\\)', '', regex=True)\n",
    ""
   ]
  },
  {
   "cell_type": "code",
   "execution_count": 397,
   "metadata": {},
   "outputs": [],
   "source": [
    "horse_df['horse_weight'] = horse_df['horse_weight'].replace('計不', np.nan)\n",
    "horse_df['horse_weight'] = horse_df['horse_weight'].astype(float)\n",
    "horse_df['horse_weight_dif'] = horse_df['horse_weight_dif'].astype(float)"
   ]
  },
  {
   "cell_type": "code",
   "execution_count": 398,
   "metadata": {},
   "outputs": [],
   "source": [
    "horse_df['burden_weight_rate'] = horse_df['burden_weight']/horse_df['horse_weight']"
   ]
  },
  {
   "cell_type": "code",
   "execution_count": 399,
   "metadata": {},
   "outputs": [],
   "source": [
    "horse_df['odds']= horse_df['odds'].astype(float)"
   ]
  },
  {
   "cell_type": "code",
   "execution_count": 400,
   "metadata": {},
   "outputs": [
    {
     "output_type": "stream",
     "name": "stdout",
     "text": "race_id                        int64\nrank                          object\nframe_number                   int64\nhorse_number                   int64\nhorse_id                       int64\nage                            int32\nburden_weight                  int64\nrider_id                       int64\ngoal_time                    float64\nhalf_way_rank                 object\nlast_time                    float64\nodds                         float64\npopular                      float64\nhorse_weight                 float64\ntamer_id                       int64\nowner_id                       int64\ndate                  datetime64[ns]\nis_down                        int64\nis_senba                       int64\nis_mesu                        int64\nis_osu                         int64\ndistance                       int32\navg_velocity                 float64\nhorse_weight_dif             float64\nburden_weight_rate           float64\ndtype: object\n"
    },
    {
     "output_type": "execute_result",
     "data": {
      "text/plain": "        race_id rank  frame_number  horse_number    horse_id  age  \\\n0  202006010901    1             6            11  2017101162    3   \n1  202006010901    2             8            15  2017103291    3   \n2  202006010901    3             7            13  2017103186    3   \n\n   burden_weight  rider_id  goal_time half_way_rank  last_time  odds  popular  \\\n0             54      5575       73.1           2-2       37.9   1.7      1.0   \n1             54       641       73.7           7-6       38.0   4.3      2.0   \n2             54       726       73.9           3-3       38.6  23.9      6.0   \n\n   horse_weight  tamer_id  owner_id                date  is_down  is_senba  \\\n0         460.0      1112    302031 2020-01-26 10:10:00        0         0   \n1         426.0      1163    854800 2020-01-26 10:10:00        0         0   \n2         468.0      1024    629800 2020-01-26 10:10:00        0         0   \n\n   is_mesu  is_osu  distance  avg_velocity  horse_weight_dif  \\\n0        1       0      1200     16.415869               2.0   \n1        1       0      1200     16.282225              -6.0   \n2        1       0      1200     16.238160              10.0   \n\n   burden_weight_rate  \n0            0.117391  \n1            0.126761  \n2            0.115385  ",
      "text/html": "<div>\n<style scoped>\n    .dataframe tbody tr th:only-of-type {\n        vertical-align: middle;\n    }\n\n    .dataframe tbody tr th {\n        vertical-align: top;\n    }\n\n    .dataframe thead th {\n        text-align: right;\n    }\n</style>\n<table border=\"1\" class=\"dataframe\">\n  <thead>\n    <tr style=\"text-align: right;\">\n      <th></th>\n      <th>race_id</th>\n      <th>rank</th>\n      <th>frame_number</th>\n      <th>horse_number</th>\n      <th>horse_id</th>\n      <th>age</th>\n      <th>burden_weight</th>\n      <th>rider_id</th>\n      <th>goal_time</th>\n      <th>half_way_rank</th>\n      <th>last_time</th>\n      <th>odds</th>\n      <th>popular</th>\n      <th>horse_weight</th>\n      <th>tamer_id</th>\n      <th>owner_id</th>\n      <th>date</th>\n      <th>is_down</th>\n      <th>is_senba</th>\n      <th>is_mesu</th>\n      <th>is_osu</th>\n      <th>distance</th>\n      <th>avg_velocity</th>\n      <th>horse_weight_dif</th>\n      <th>burden_weight_rate</th>\n    </tr>\n  </thead>\n  <tbody>\n    <tr>\n      <th>0</th>\n      <td>202006010901</td>\n      <td>1</td>\n      <td>6</td>\n      <td>11</td>\n      <td>2017101162</td>\n      <td>3</td>\n      <td>54</td>\n      <td>5575</td>\n      <td>73.1</td>\n      <td>2-2</td>\n      <td>37.9</td>\n      <td>1.7</td>\n      <td>1.0</td>\n      <td>460.0</td>\n      <td>1112</td>\n      <td>302031</td>\n      <td>2020-01-26 10:10:00</td>\n      <td>0</td>\n      <td>0</td>\n      <td>1</td>\n      <td>0</td>\n      <td>1200</td>\n      <td>16.415869</td>\n      <td>2.0</td>\n      <td>0.117391</td>\n    </tr>\n    <tr>\n      <th>1</th>\n      <td>202006010901</td>\n      <td>2</td>\n      <td>8</td>\n      <td>15</td>\n      <td>2017103291</td>\n      <td>3</td>\n      <td>54</td>\n      <td>641</td>\n      <td>73.7</td>\n      <td>7-6</td>\n      <td>38.0</td>\n      <td>4.3</td>\n      <td>2.0</td>\n      <td>426.0</td>\n      <td>1163</td>\n      <td>854800</td>\n      <td>2020-01-26 10:10:00</td>\n      <td>0</td>\n      <td>0</td>\n      <td>1</td>\n      <td>0</td>\n      <td>1200</td>\n      <td>16.282225</td>\n      <td>-6.0</td>\n      <td>0.126761</td>\n    </tr>\n    <tr>\n      <th>2</th>\n      <td>202006010901</td>\n      <td>3</td>\n      <td>7</td>\n      <td>13</td>\n      <td>2017103186</td>\n      <td>3</td>\n      <td>54</td>\n      <td>726</td>\n      <td>73.9</td>\n      <td>3-3</td>\n      <td>38.6</td>\n      <td>23.9</td>\n      <td>6.0</td>\n      <td>468.0</td>\n      <td>1024</td>\n      <td>629800</td>\n      <td>2020-01-26 10:10:00</td>\n      <td>0</td>\n      <td>0</td>\n      <td>1</td>\n      <td>0</td>\n      <td>1200</td>\n      <td>16.238160</td>\n      <td>10.0</td>\n      <td>0.115385</td>\n    </tr>\n  </tbody>\n</table>\n</div>"
     },
     "metadata": {},
     "execution_count": 400
    }
   ],
   "source": [
    "print(horse_df.dtypes)\n",
    "horse_df.head(3)"
   ]
  },
  {
   "cell_type": "code",
   "execution_count": 401,
   "metadata": {},
   "outputs": [],
   "source": [
    "horse_df.to_csv(\"csv/cleaned_horse_data.csv\", index=False )"
   ]
  },
  {
   "cell_type": "markdown",
   "metadata": {},
   "source": [
    "データセット作成"
   ]
  },
  {
   "cell_type": "code",
   "execution_count": 402,
   "metadata": {},
   "outputs": [],
   "source": [
    "horse_df.drop(['half_way_rank'], axis=1, inplace=True) "
   ]
  },
  {
   "cell_type": "code",
   "execution_count": 403,
   "metadata": {},
   "outputs": [
    {
     "output_type": "stream",
     "name": "stdout",
     "text": "race_id                        int64\nrank                          object\nframe_number                   int64\nhorse_number                   int64\nhorse_id                       int64\nage                            int32\nburden_weight                  int64\nrider_id                       int64\ngoal_time                    float64\nlast_time                    float64\nodds                         float64\npopular                      float64\nhorse_weight                 float64\ntamer_id                       int64\nowner_id                       int64\ndate                  datetime64[ns]\nis_down                        int64\nis_senba                       int64\nis_mesu                        int64\nis_osu                         int64\ndistance                       int32\navg_velocity                 float64\nhorse_weight_dif             float64\nburden_weight_rate           float64\ndtype: object\n"
    },
    {
     "output_type": "execute_result",
     "data": {
      "text/plain": "        race_id rank  frame_number  horse_number    horse_id  age  \\\n0  202006010901    1             6            11  2017101162    3   \n1  202006010901    2             8            15  2017103291    3   \n2  202006010901    3             7            13  2017103186    3   \n\n   burden_weight  rider_id  goal_time  last_time  odds  popular  horse_weight  \\\n0             54      5575       73.1       37.9   1.7      1.0         460.0   \n1             54       641       73.7       38.0   4.3      2.0         426.0   \n2             54       726       73.9       38.6  23.9      6.0         468.0   \n\n   tamer_id  owner_id                date  is_down  is_senba  is_mesu  is_osu  \\\n0      1112    302031 2020-01-26 10:10:00        0         0        1       0   \n1      1163    854800 2020-01-26 10:10:00        0         0        1       0   \n2      1024    629800 2020-01-26 10:10:00        0         0        1       0   \n\n   distance  avg_velocity  horse_weight_dif  burden_weight_rate  \n0      1200     16.415869               2.0            0.117391  \n1      1200     16.282225              -6.0            0.126761  \n2      1200     16.238160              10.0            0.115385  ",
      "text/html": "<div>\n<style scoped>\n    .dataframe tbody tr th:only-of-type {\n        vertical-align: middle;\n    }\n\n    .dataframe tbody tr th {\n        vertical-align: top;\n    }\n\n    .dataframe thead th {\n        text-align: right;\n    }\n</style>\n<table border=\"1\" class=\"dataframe\">\n  <thead>\n    <tr style=\"text-align: right;\">\n      <th></th>\n      <th>race_id</th>\n      <th>rank</th>\n      <th>frame_number</th>\n      <th>horse_number</th>\n      <th>horse_id</th>\n      <th>age</th>\n      <th>burden_weight</th>\n      <th>rider_id</th>\n      <th>goal_time</th>\n      <th>last_time</th>\n      <th>odds</th>\n      <th>popular</th>\n      <th>horse_weight</th>\n      <th>tamer_id</th>\n      <th>owner_id</th>\n      <th>date</th>\n      <th>is_down</th>\n      <th>is_senba</th>\n      <th>is_mesu</th>\n      <th>is_osu</th>\n      <th>distance</th>\n      <th>avg_velocity</th>\n      <th>horse_weight_dif</th>\n      <th>burden_weight_rate</th>\n    </tr>\n  </thead>\n  <tbody>\n    <tr>\n      <th>0</th>\n      <td>202006010901</td>\n      <td>1</td>\n      <td>6</td>\n      <td>11</td>\n      <td>2017101162</td>\n      <td>3</td>\n      <td>54</td>\n      <td>5575</td>\n      <td>73.1</td>\n      <td>37.9</td>\n      <td>1.7</td>\n      <td>1.0</td>\n      <td>460.0</td>\n      <td>1112</td>\n      <td>302031</td>\n      <td>2020-01-26 10:10:00</td>\n      <td>0</td>\n      <td>0</td>\n      <td>1</td>\n      <td>0</td>\n      <td>1200</td>\n      <td>16.415869</td>\n      <td>2.0</td>\n      <td>0.117391</td>\n    </tr>\n    <tr>\n      <th>1</th>\n      <td>202006010901</td>\n      <td>2</td>\n      <td>8</td>\n      <td>15</td>\n      <td>2017103291</td>\n      <td>3</td>\n      <td>54</td>\n      <td>641</td>\n      <td>73.7</td>\n      <td>38.0</td>\n      <td>4.3</td>\n      <td>2.0</td>\n      <td>426.0</td>\n      <td>1163</td>\n      <td>854800</td>\n      <td>2020-01-26 10:10:00</td>\n      <td>0</td>\n      <td>0</td>\n      <td>1</td>\n      <td>0</td>\n      <td>1200</td>\n      <td>16.282225</td>\n      <td>-6.0</td>\n      <td>0.126761</td>\n    </tr>\n    <tr>\n      <th>2</th>\n      <td>202006010901</td>\n      <td>3</td>\n      <td>7</td>\n      <td>13</td>\n      <td>2017103186</td>\n      <td>3</td>\n      <td>54</td>\n      <td>726</td>\n      <td>73.9</td>\n      <td>38.6</td>\n      <td>23.9</td>\n      <td>6.0</td>\n      <td>468.0</td>\n      <td>1024</td>\n      <td>629800</td>\n      <td>2020-01-26 10:10:00</td>\n      <td>0</td>\n      <td>0</td>\n      <td>1</td>\n      <td>0</td>\n      <td>1200</td>\n      <td>16.238160</td>\n      <td>10.0</td>\n      <td>0.115385</td>\n    </tr>\n  </tbody>\n</table>\n</div>"
     },
     "metadata": {},
     "execution_count": 403
    }
   ],
   "source": [
    "horse_df['date'] = pd.to_datetime(horse_df['date'])\n",
    "print(horse_df.dtypes)\n",
    "horse_df.head(3)"
   ]
  },
  {
   "cell_type": "code",
   "execution_count": 404,
   "metadata": {},
   "outputs": [],
   "source": [
    "# group by したデータフレームに対して行う処理\n",
    "def make_one_horse_train_data(one_horse_data):\n",
    "    one_horse_data = one_horse_data.sort_values('date',ascending=False)\n",
    "    one_horse_data['pre_date_diff'] = one_horse_data['date'].diff(-1).dt.days\n",
    "    one_horse_data['is_rider_same'] = (one_horse_data['rider_id'].shift(-1) == one_horse_data['rider_id']) * 1.0\n",
    "    one_horse_data['is_tamer_same'] = (one_horse_data['tamer_id'].shift(-1) == one_horse_data['tamer_id']) * 1.0\n",
    "    one_horse_data['is_owner_same'] = (one_horse_data['owner_id'].shift(-1) == one_horse_data['owner_id']) * 1.0\n",
    "\n",
    "    #不要なので削除\n",
    "    one_horse_data.drop(['horse_id'], axis=1, inplace=True) #horse_id はもう使わないので削除\n",
    "    one_horse_data.drop(['rider_id'], axis=1, inplace=True)\n",
    "    one_horse_data.drop(['tamer_id'], axis=1, inplace=True)\n",
    "    one_horse_data.drop(['owner_id'], axis=1, inplace=True)\n",
    "\n",
    "\n",
    "    #  数レース分の情報を結合\n",
    "    result_df = one_horse_data.copy()\n",
    "    \n",
    "    for i in range(1,6):\n",
    "        # i だけ shiftしたものを得る\n",
    "        # race_id, sexはいらない\n",
    "        shift_df = one_horse_data.drop(['race_id','is_senba','is_mesu','is_osu'], axis=1).shift(-i)\n",
    "        # 目的のレースとどれだけの時間離れているか？\n",
    "        shift_df['interval_date'] = (one_horse_data['date'] - shift_df['date']).dt.days\n",
    "        shift_df.drop(['date'], axis=1, inplace=True)\n",
    "        shift_df.columns = shift_df.columns + \"_\" + str(i)\n",
    "        result_df = pd.concat([result_df, shift_df], axis=1)\n",
    "    return result_df\n",
    "\n",
    "\n",
    "# horse_id はもう使わないので削除"
   ]
  },
  {
   "cell_type": "code",
   "execution_count": 405,
   "metadata": {},
   "outputs": [],
   "source": [
    "horse_id_df = horse_df[\"horse_id\"].unique()"
   ]
  },
  {
   "cell_type": "code",
   "execution_count": 406,
   "metadata": {},
   "outputs": [
    {
     "output_type": "execute_result",
     "data": {
      "text/plain": "array([2017103291, 2017103186, 2017102344, 2017106573, 2017105149,\n       2017100149, 2017100280, 2017101119, 2017103154, 2017106239,\n       2017103759, 2017101926, 2017106017, 2017100973, 2017100918,\n       2017101972, 2017104818, 2017105978, 2017103018, 2017101877,\n       2017101182, 2017104425, 2017104588, 2017103040, 2017104987,\n       2017100554, 2017101558, 2017101288, 2017101424, 2017100191,\n       2017104273, 2017100206, 2017103450, 2017101396, 2017105867,\n       2017103411, 2017101030, 2017103177, 2017103863, 2017101667,\n       2017104268, 2013101162, 2015104384, 2013105662, 2016103545,\n       2015101785, 2013102275, 2014100235, 2016100662, 2016102297,\n       2014102038, 2016102687, 2015104477, 2015100137, 2016102049,\n       2017105011, 2017106315, 2017101525, 2017100159, 2017110034,\n       2017104926, 2017104914, 2017104270, 2017105991, 2017103309,\n       2017100722, 2017110021, 2017104797, 2017101155, 2017101774,\n       2017106543, 2017104240, 2017103441, 2017103649, 2017104913,\n       2017100450, 2017105148, 2017103544, 2017105122, 2017100569,\n       2017104745, 2017103801, 2017103706, 2017102551, 2017106194,\n       2017103778, 2017104805, 2015104214, 2015103313, 2015105470,\n       2014100729, 2016101377, 2016102368, 2012100085, 2016102052,\n       2016101956, 2016102973, 2016104218, 2014100779, 2016102369,\n       2016101398, 2016102949, 2016105429, 2016100106, 2015105923,\n       2015104149, 2014103928, 2015106040, 2016104149, 2016100279,\n       2015102743, 2016105883, 2016103069, 2013102112, 2013102025,\n       2015102956, 2016105424, 2014101000, 2017105366, 2017101746,\n       2017105439, 2017106203, 2017101431, 2017101183, 2017100316,\n       2017105346, 2017105971, 2017104266, 2017100320, 2016104580,\n       2013104237, 2015101209, 2014102200, 2016101704, 2015101512,\n       2012103204, 2016100696, 2016104023, 2016103085, 2011106393,\n       2016105179], dtype=int64)"
     },
     "metadata": {},
     "execution_count": 406
    }
   ],
   "source": [
    "horse_id_df[1:]"
   ]
  },
  {
   "cell_type": "code",
   "execution_count": 407,
   "metadata": {},
   "outputs": [],
   "source": [
    "# test\n",
    "one_horse_data = horse_df[horse_df['horse_id'] == horse_id_df[0]].copy()\n",
    "all_data = make_one_horse_train_data(one_horse_data).fillna(0)\n",
    "for horse_id in horse_id_df[1:]:\n",
    "        one_horse_data = horse_df[horse_df['horse_id'] ==horse_id].copy()\n",
    "        one_horse_data_past = make_one_horse_train_data(one_horse_data).fillna(0)\n",
    "        all_data = all_data.append(one_horse_data_past)"
   ]
  },
  {
   "cell_type": "code",
   "execution_count": 408,
   "metadata": {},
   "outputs": [
    {
     "output_type": "execute_result",
     "data": {
      "text/plain": "        race_id rank  frame_number  horse_number    horse_id  age  \\\n0  202006010901    1             6            11  2017101162    3   \n\n   burden_weight  rider_id  goal_time  last_time  odds  popular  horse_weight  \\\n0             54      5575       73.1       37.9   1.7      1.0         460.0   \n\n   tamer_id  owner_id                date  is_down  is_senba  is_mesu  is_osu  \\\n0      1112    302031 2020-01-26 10:10:00        0         0        1       0   \n\n   distance  avg_velocity  horse_weight_dif  burden_weight_rate  \n0      1200     16.415869               2.0            0.117391  ",
      "text/html": "<div>\n<style scoped>\n    .dataframe tbody tr th:only-of-type {\n        vertical-align: middle;\n    }\n\n    .dataframe tbody tr th {\n        vertical-align: top;\n    }\n\n    .dataframe thead th {\n        text-align: right;\n    }\n</style>\n<table border=\"1\" class=\"dataframe\">\n  <thead>\n    <tr style=\"text-align: right;\">\n      <th></th>\n      <th>race_id</th>\n      <th>rank</th>\n      <th>frame_number</th>\n      <th>horse_number</th>\n      <th>horse_id</th>\n      <th>age</th>\n      <th>burden_weight</th>\n      <th>rider_id</th>\n      <th>goal_time</th>\n      <th>last_time</th>\n      <th>odds</th>\n      <th>popular</th>\n      <th>horse_weight</th>\n      <th>tamer_id</th>\n      <th>owner_id</th>\n      <th>date</th>\n      <th>is_down</th>\n      <th>is_senba</th>\n      <th>is_mesu</th>\n      <th>is_osu</th>\n      <th>distance</th>\n      <th>avg_velocity</th>\n      <th>horse_weight_dif</th>\n      <th>burden_weight_rate</th>\n    </tr>\n  </thead>\n  <tbody>\n    <tr>\n      <th>0</th>\n      <td>202006010901</td>\n      <td>1</td>\n      <td>6</td>\n      <td>11</td>\n      <td>2017101162</td>\n      <td>3</td>\n      <td>54</td>\n      <td>5575</td>\n      <td>73.1</td>\n      <td>37.9</td>\n      <td>1.7</td>\n      <td>1.0</td>\n      <td>460.0</td>\n      <td>1112</td>\n      <td>302031</td>\n      <td>2020-01-26 10:10:00</td>\n      <td>0</td>\n      <td>0</td>\n      <td>1</td>\n      <td>0</td>\n      <td>1200</td>\n      <td>16.415869</td>\n      <td>2.0</td>\n      <td>0.117391</td>\n    </tr>\n  </tbody>\n</table>\n</div>"
     },
     "metadata": {},
     "execution_count": 408
    }
   ],
   "source": [
    "horse_df[horse_df['horse_id'] == horse_id_df[0]].copy()"
   ]
  },
  {
   "cell_type": "code",
   "execution_count": 409,
   "metadata": {},
   "outputs": [],
   "source": [
    "all_data.drop(['rank'], axis=1, inplace=True)\n",
    "all_data.drop(['date'], axis=1, inplace=True)\n",
    "all_data.drop(['goal_time'], axis=1, inplace=True)"
   ]
  },
  {
   "cell_type": "code",
   "execution_count": 410,
   "metadata": {},
   "outputs": [],
   "source": [
    "all_data.to_csv(\"csv/past_horse_data.csv\", index=False )"
   ]
  },
  {
   "cell_type": "code",
   "execution_count": 411,
   "metadata": {},
   "outputs": [],
   "source": [
    "cleaned_race_df = pd.read_csv(\"./csv/cleaned_race_data.csv\", sep=\",\")\n",
    "cleaned_horse_df = pd.read_csv(\"./csv/past_horse_data.csv\", sep=\",\")"
   ]
  },
  {
   "cell_type": "code",
   "execution_count": 412,
   "metadata": {},
   "outputs": [],
   "source": [
    "\n",
    "race_column = [\"date\",\"frame_number_first\",\"horse_number_first\",\"frame_number_second\",\"horse_number_second\",\"frame_number_third\",\"horse_number_third\",\"tansyo\",\"hukusyo_first\",\"hukusyo_second\",\"hukusyo_third\",\"wakuren\",\"umaren\",\"wide_1_2\",\"wide_1_3\",\"wide_2_3\",\"umatan\",\"renhuku3\",\"rentan3\"]\n",
    "cleaned_race_df.drop(race_column,axis='columns', inplace=True)\n",
    "\n",
    "\n",
    "\n",
    ""
   ]
  },
  {
   "cell_type": "code",
   "execution_count": 413,
   "metadata": {},
   "outputs": [],
   "source": [
    "# group by したデータフレームに対して行う処理\n",
    "def make_one_horse_train_data(one_horse_data):\n",
    "    #  数レース分の情報を結合\n",
    "    result_df = one_horse_data[0:1].copy()\n",
    "    \n",
    "    for i in range(1,19):\n",
    "        # i だけ shiftしたものを得る\n",
    "        # race_id, sexはいらない\n",
    "        shift_df = one_horse_data[0:i+1].copy().shift(-i)\n",
    "        shift_df = shift_df[0:1].drop(['race_id'], axis=1)\n",
    "        # 目的のレースとどれだけの時間離れているか？\n",
    "        shift_df.columns = shift_df.columns + \"_\" + str(i)\n",
    "        result_df = pd.concat([result_df, shift_df], axis=1)\n",
    "    return result_df"
   ]
  },
  {
   "cell_type": "code",
   "execution_count": 414,
   "metadata": {},
   "outputs": [],
   "source": [
    "df = cleaned_race_df[\"race_id\"]\n",
    "one_race_horse_data = cleaned_horse_df[cleaned_horse_df['race_id'] == df[0]].copy()\n",
    "all_race_data = make_one_horse_train_data(one_race_horse_data).fillna(0)\n",
    "df = cleaned_race_df[\"race_id\"].shift(-1)\n",
    "for race_id in df:\n",
    "        one_race_horse_data = cleaned_horse_df[cleaned_horse_df['race_id'] == race_id].copy()\n",
    "        one_race_horse_data = make_one_horse_train_data(one_race_horse_data).fillna(0)\n",
    "        all_race_data = all_race_data.append(one_race_horse_data)\n",
    "\n",
    "    "
   ]
  },
  {
   "cell_type": "code",
   "execution_count": 415,
   "metadata": {},
   "outputs": [
    {
     "output_type": "execute_result",
     "data": {
      "text/plain": "          race_id  frame_number  horse_number  age  burden_weight  last_time  \\\n0    202006010901             6            11    3             54       37.9   \n15   202006010902             6             7    3             55       40.2   \n26   202006010903             3             6    3             56       38.8   \n42   202006010904             7            12    7             60       13.5   \n56   202006010905             1             1    3             54       35.5   \n72   202006010906             8            16    3             56       38.7   \n88   202006010907             3             5    5             55       36.9   \n104  202006010908             2             3    4             56       38.7   \n119  202006010909             7             8    3             54       34.7   \n130  202006010910             5             5    4             56       37.6   \n\n      odds  popular  horse_weight  is_down  is_senba  is_mesu  is_osu  \\\n0      1.7      1.0         460.0        0         0        1       0   \n15    18.3      8.0         504.0        0         0        0       1   \n26     1.7      1.0         506.0        0         0        0       1   \n42     3.5      2.0         472.0        0         0        0       1   \n56     6.9      5.0         466.0        0         0        1       0   \n72    28.5      9.0         474.0        0         0        0       1   \n88   267.7     16.0         452.0        0         0        1       0   \n104   11.1      6.0         492.0        0         0        0       1   \n119    3.0      1.0         478.0        0         0        1       0   \n130    1.8      1.0         532.0        0         0        0       1   \n\n     distance  avg_velocity  horse_weight_dif  burden_weight_rate  \\\n0        1200     16.415869               2.0            0.117391   \n15       1800     15.437393               0.0            0.109127   \n26       1200     16.483516               4.0            0.110672   \n42       2880     14.814815              -2.0            0.127119   \n56       1600     16.427105               8.0            0.115880   \n72       1800     15.477214               0.0            0.118143   \n88       1200     16.759777               2.0            0.121681   \n104      1800     15.789474              -4.0            0.113821   \n119      1800     16.304348               2.0            0.112971   \n130      1800     15.873016              12.0            0.105263   \n\n     pre_date_diff  is_rider_same  is_tamer_same  is_owner_same  rank_1  \\\n0              0.0            0.0            0.0            0.0       0   \n15             0.0            0.0            0.0            0.0       0   \n26             0.0            0.0            0.0            0.0       0   \n42             0.0            0.0            0.0            0.0       0   \n56             0.0            0.0            0.0            0.0       0   \n72             0.0            0.0            0.0            0.0       0   \n88             0.0            0.0            0.0            0.0       0   \n104            0.0            0.0            0.0            0.0       0   \n119            0.0            0.0            0.0            0.0       0   \n130            0.0            0.0            0.0            0.0       0   \n\n     frame_number_1  horse_number_1  age_1  ...  pre_date_diff_4_18  \\\n0               0.0             0.0    0.0  ...                 0.0   \n15              0.0             0.0    0.0  ...                 0.0   \n26              0.0             0.0    0.0  ...                 0.0   \n42              0.0             0.0    0.0  ...                 0.0   \n56              0.0             0.0    0.0  ...                 0.0   \n72              0.0             0.0    0.0  ...                 0.0   \n88              0.0             0.0    0.0  ...                 0.0   \n104             0.0             0.0    0.0  ...                 0.0   \n119             0.0             0.0    0.0  ...                 0.0   \n130             0.0             0.0    0.0  ...                 0.0   \n\n     is_rider_same_4_18  is_tamer_same_4_18  is_owner_same_4_18  \\\n0                   0.0                 0.0                 0.0   \n15                  0.0                 0.0                 0.0   \n26                  0.0                 0.0                 0.0   \n42                  0.0                 0.0                 0.0   \n56                  0.0                 0.0                 0.0   \n72                  0.0                 0.0                 0.0   \n88                  0.0                 0.0                 0.0   \n104                 0.0                 0.0                 0.0   \n119                 0.0                 0.0                 0.0   \n130                 0.0                 0.0                 0.0   \n\n     interval_date_4_18  rank_5_18  frame_number_5_18  horse_number_5_18  \\\n0                   0.0        0.0                0.0                0.0   \n15                  0.0        0.0                0.0                0.0   \n26                  0.0        0.0                0.0                0.0   \n42                  0.0        0.0                0.0                0.0   \n56                  0.0        0.0                0.0                0.0   \n72                  0.0        0.0                0.0                0.0   \n88                  0.0        0.0                0.0                0.0   \n104                 0.0        0.0                0.0                0.0   \n119                 0.0        0.0                0.0                0.0   \n130                 0.0        0.0                0.0                0.0   \n\n     age_5_18  burden_weight_5_18  goal_time_5_18  last_time_5_18  odds_5_18  \\\n0         0.0                 0.0             0.0             0.0        0.0   \n15        0.0                 0.0             0.0             0.0        0.0   \n26        0.0                 0.0             0.0             0.0        0.0   \n42        0.0                 0.0             0.0             0.0        0.0   \n56        0.0                 0.0             0.0             0.0        0.0   \n72        0.0                 0.0             0.0             0.0        0.0   \n88        0.0                 0.0             0.0             0.0        0.0   \n104       0.0                 0.0             0.0             0.0        0.0   \n119       0.0                 0.0             0.0             0.0        0.0   \n130       0.0                 0.0             0.0             0.0        0.0   \n\n     popular_5_18  horse_weight_5_18  is_down_5_18  distance_5_18  \\\n0             0.0                0.0           0.0            0.0   \n15            0.0                0.0           0.0            0.0   \n26            0.0                0.0           0.0            0.0   \n42            0.0                0.0           0.0            0.0   \n56            0.0                0.0           0.0            0.0   \n72            0.0                0.0           0.0            0.0   \n88            0.0                0.0           0.0            0.0   \n104           0.0                0.0           0.0            0.0   \n119           0.0                0.0           0.0            0.0   \n130           0.0                0.0           0.0            0.0   \n\n     avg_velocity_5_18  horse_weight_dif_5_18  burden_weight_rate_5_18  \\\n0                  0.0                    0.0                      0.0   \n15                 0.0                    0.0                      0.0   \n26                 0.0                    0.0                      0.0   \n42                 0.0                    0.0                      0.0   \n56                 0.0                    0.0                      0.0   \n72                 0.0                    0.0                      0.0   \n88                 0.0                    0.0                      0.0   \n104                0.0                    0.0                      0.0   \n119                0.0                    0.0                      0.0   \n130                0.0                    0.0                      0.0   \n\n     pre_date_diff_5_18  is_rider_same_5_18  is_tamer_same_5_18  \\\n0                   0.0                 0.0                 0.0   \n15                  0.0                 0.0                 0.0   \n26                  0.0                 0.0                 0.0   \n42                  0.0                 0.0                 0.0   \n56                  0.0                 0.0                 0.0   \n72                  0.0                 0.0                 0.0   \n88                  0.0                 0.0                 0.0   \n104                 0.0                 0.0                 0.0   \n119                 0.0                 0.0                 0.0   \n130                 0.0                 0.0                 0.0   \n\n     is_owner_same_5_18  interval_date_5_18  \n0                   0.0                 0.0  \n15                  0.0                 0.0  \n26                  0.0                 0.0  \n42                  0.0                 0.0  \n56                  0.0                 0.0  \n72                  0.0                 0.0  \n88                  0.0                 0.0  \n104                 0.0                 0.0  \n119                 0.0                 0.0  \n130                 0.0                 0.0  \n\n[10 rows x 2281 columns]",
      "text/html": "<div>\n<style scoped>\n    .dataframe tbody tr th:only-of-type {\n        vertical-align: middle;\n    }\n\n    .dataframe tbody tr th {\n        vertical-align: top;\n    }\n\n    .dataframe thead th {\n        text-align: right;\n    }\n</style>\n<table border=\"1\" class=\"dataframe\">\n  <thead>\n    <tr style=\"text-align: right;\">\n      <th></th>\n      <th>race_id</th>\n      <th>frame_number</th>\n      <th>horse_number</th>\n      <th>age</th>\n      <th>burden_weight</th>\n      <th>last_time</th>\n      <th>odds</th>\n      <th>popular</th>\n      <th>horse_weight</th>\n      <th>is_down</th>\n      <th>is_senba</th>\n      <th>is_mesu</th>\n      <th>is_osu</th>\n      <th>distance</th>\n      <th>avg_velocity</th>\n      <th>horse_weight_dif</th>\n      <th>burden_weight_rate</th>\n      <th>pre_date_diff</th>\n      <th>is_rider_same</th>\n      <th>is_tamer_same</th>\n      <th>is_owner_same</th>\n      <th>rank_1</th>\n      <th>frame_number_1</th>\n      <th>horse_number_1</th>\n      <th>age_1</th>\n      <th>...</th>\n      <th>pre_date_diff_4_18</th>\n      <th>is_rider_same_4_18</th>\n      <th>is_tamer_same_4_18</th>\n      <th>is_owner_same_4_18</th>\n      <th>interval_date_4_18</th>\n      <th>rank_5_18</th>\n      <th>frame_number_5_18</th>\n      <th>horse_number_5_18</th>\n      <th>age_5_18</th>\n      <th>burden_weight_5_18</th>\n      <th>goal_time_5_18</th>\n      <th>last_time_5_18</th>\n      <th>odds_5_18</th>\n      <th>popular_5_18</th>\n      <th>horse_weight_5_18</th>\n      <th>is_down_5_18</th>\n      <th>distance_5_18</th>\n      <th>avg_velocity_5_18</th>\n      <th>horse_weight_dif_5_18</th>\n      <th>burden_weight_rate_5_18</th>\n      <th>pre_date_diff_5_18</th>\n      <th>is_rider_same_5_18</th>\n      <th>is_tamer_same_5_18</th>\n      <th>is_owner_same_5_18</th>\n      <th>interval_date_5_18</th>\n    </tr>\n  </thead>\n  <tbody>\n    <tr>\n      <th>0</th>\n      <td>202006010901</td>\n      <td>6</td>\n      <td>11</td>\n      <td>3</td>\n      <td>54</td>\n      <td>37.9</td>\n      <td>1.7</td>\n      <td>1.0</td>\n      <td>460.0</td>\n      <td>0</td>\n      <td>0</td>\n      <td>1</td>\n      <td>0</td>\n      <td>1200</td>\n      <td>16.415869</td>\n      <td>2.0</td>\n      <td>0.117391</td>\n      <td>0.0</td>\n      <td>0.0</td>\n      <td>0.0</td>\n      <td>0.0</td>\n      <td>0</td>\n      <td>0.0</td>\n      <td>0.0</td>\n      <td>0.0</td>\n      <td>...</td>\n      <td>0.0</td>\n      <td>0.0</td>\n      <td>0.0</td>\n      <td>0.0</td>\n      <td>0.0</td>\n      <td>0.0</td>\n      <td>0.0</td>\n      <td>0.0</td>\n      <td>0.0</td>\n      <td>0.0</td>\n      <td>0.0</td>\n      <td>0.0</td>\n      <td>0.0</td>\n      <td>0.0</td>\n      <td>0.0</td>\n      <td>0.0</td>\n      <td>0.0</td>\n      <td>0.0</td>\n      <td>0.0</td>\n      <td>0.0</td>\n      <td>0.0</td>\n      <td>0.0</td>\n      <td>0.0</td>\n      <td>0.0</td>\n      <td>0.0</td>\n    </tr>\n    <tr>\n      <th>15</th>\n      <td>202006010902</td>\n      <td>6</td>\n      <td>7</td>\n      <td>3</td>\n      <td>55</td>\n      <td>40.2</td>\n      <td>18.3</td>\n      <td>8.0</td>\n      <td>504.0</td>\n      <td>0</td>\n      <td>0</td>\n      <td>0</td>\n      <td>1</td>\n      <td>1800</td>\n      <td>15.437393</td>\n      <td>0.0</td>\n      <td>0.109127</td>\n      <td>0.0</td>\n      <td>0.0</td>\n      <td>0.0</td>\n      <td>0.0</td>\n      <td>0</td>\n      <td>0.0</td>\n      <td>0.0</td>\n      <td>0.0</td>\n      <td>...</td>\n      <td>0.0</td>\n      <td>0.0</td>\n      <td>0.0</td>\n      <td>0.0</td>\n      <td>0.0</td>\n      <td>0.0</td>\n      <td>0.0</td>\n      <td>0.0</td>\n      <td>0.0</td>\n      <td>0.0</td>\n      <td>0.0</td>\n      <td>0.0</td>\n      <td>0.0</td>\n      <td>0.0</td>\n      <td>0.0</td>\n      <td>0.0</td>\n      <td>0.0</td>\n      <td>0.0</td>\n      <td>0.0</td>\n      <td>0.0</td>\n      <td>0.0</td>\n      <td>0.0</td>\n      <td>0.0</td>\n      <td>0.0</td>\n      <td>0.0</td>\n    </tr>\n    <tr>\n      <th>26</th>\n      <td>202006010903</td>\n      <td>3</td>\n      <td>6</td>\n      <td>3</td>\n      <td>56</td>\n      <td>38.8</td>\n      <td>1.7</td>\n      <td>1.0</td>\n      <td>506.0</td>\n      <td>0</td>\n      <td>0</td>\n      <td>0</td>\n      <td>1</td>\n      <td>1200</td>\n      <td>16.483516</td>\n      <td>4.0</td>\n      <td>0.110672</td>\n      <td>0.0</td>\n      <td>0.0</td>\n      <td>0.0</td>\n      <td>0.0</td>\n      <td>0</td>\n      <td>0.0</td>\n      <td>0.0</td>\n      <td>0.0</td>\n      <td>...</td>\n      <td>0.0</td>\n      <td>0.0</td>\n      <td>0.0</td>\n      <td>0.0</td>\n      <td>0.0</td>\n      <td>0.0</td>\n      <td>0.0</td>\n      <td>0.0</td>\n      <td>0.0</td>\n      <td>0.0</td>\n      <td>0.0</td>\n      <td>0.0</td>\n      <td>0.0</td>\n      <td>0.0</td>\n      <td>0.0</td>\n      <td>0.0</td>\n      <td>0.0</td>\n      <td>0.0</td>\n      <td>0.0</td>\n      <td>0.0</td>\n      <td>0.0</td>\n      <td>0.0</td>\n      <td>0.0</td>\n      <td>0.0</td>\n      <td>0.0</td>\n    </tr>\n    <tr>\n      <th>42</th>\n      <td>202006010904</td>\n      <td>7</td>\n      <td>12</td>\n      <td>7</td>\n      <td>60</td>\n      <td>13.5</td>\n      <td>3.5</td>\n      <td>2.0</td>\n      <td>472.0</td>\n      <td>0</td>\n      <td>0</td>\n      <td>0</td>\n      <td>1</td>\n      <td>2880</td>\n      <td>14.814815</td>\n      <td>-2.0</td>\n      <td>0.127119</td>\n      <td>0.0</td>\n      <td>0.0</td>\n      <td>0.0</td>\n      <td>0.0</td>\n      <td>0</td>\n      <td>0.0</td>\n      <td>0.0</td>\n      <td>0.0</td>\n      <td>...</td>\n      <td>0.0</td>\n      <td>0.0</td>\n      <td>0.0</td>\n      <td>0.0</td>\n      <td>0.0</td>\n      <td>0.0</td>\n      <td>0.0</td>\n      <td>0.0</td>\n      <td>0.0</td>\n      <td>0.0</td>\n      <td>0.0</td>\n      <td>0.0</td>\n      <td>0.0</td>\n      <td>0.0</td>\n      <td>0.0</td>\n      <td>0.0</td>\n      <td>0.0</td>\n      <td>0.0</td>\n      <td>0.0</td>\n      <td>0.0</td>\n      <td>0.0</td>\n      <td>0.0</td>\n      <td>0.0</td>\n      <td>0.0</td>\n      <td>0.0</td>\n    </tr>\n    <tr>\n      <th>56</th>\n      <td>202006010905</td>\n      <td>1</td>\n      <td>1</td>\n      <td>3</td>\n      <td>54</td>\n      <td>35.5</td>\n      <td>6.9</td>\n      <td>5.0</td>\n      <td>466.0</td>\n      <td>0</td>\n      <td>0</td>\n      <td>1</td>\n      <td>0</td>\n      <td>1600</td>\n      <td>16.427105</td>\n      <td>8.0</td>\n      <td>0.115880</td>\n      <td>0.0</td>\n      <td>0.0</td>\n      <td>0.0</td>\n      <td>0.0</td>\n      <td>0</td>\n      <td>0.0</td>\n      <td>0.0</td>\n      <td>0.0</td>\n      <td>...</td>\n      <td>0.0</td>\n      <td>0.0</td>\n      <td>0.0</td>\n      <td>0.0</td>\n      <td>0.0</td>\n      <td>0.0</td>\n      <td>0.0</td>\n      <td>0.0</td>\n      <td>0.0</td>\n      <td>0.0</td>\n      <td>0.0</td>\n      <td>0.0</td>\n      <td>0.0</td>\n      <td>0.0</td>\n      <td>0.0</td>\n      <td>0.0</td>\n      <td>0.0</td>\n      <td>0.0</td>\n      <td>0.0</td>\n      <td>0.0</td>\n      <td>0.0</td>\n      <td>0.0</td>\n      <td>0.0</td>\n      <td>0.0</td>\n      <td>0.0</td>\n    </tr>\n    <tr>\n      <th>72</th>\n      <td>202006010906</td>\n      <td>8</td>\n      <td>16</td>\n      <td>3</td>\n      <td>56</td>\n      <td>38.7</td>\n      <td>28.5</td>\n      <td>9.0</td>\n      <td>474.0</td>\n      <td>0</td>\n      <td>0</td>\n      <td>0</td>\n      <td>1</td>\n      <td>1800</td>\n      <td>15.477214</td>\n      <td>0.0</td>\n      <td>0.118143</td>\n      <td>0.0</td>\n      <td>0.0</td>\n      <td>0.0</td>\n      <td>0.0</td>\n      <td>0</td>\n      <td>0.0</td>\n      <td>0.0</td>\n      <td>0.0</td>\n      <td>...</td>\n      <td>0.0</td>\n      <td>0.0</td>\n      <td>0.0</td>\n      <td>0.0</td>\n      <td>0.0</td>\n      <td>0.0</td>\n      <td>0.0</td>\n      <td>0.0</td>\n      <td>0.0</td>\n      <td>0.0</td>\n      <td>0.0</td>\n      <td>0.0</td>\n      <td>0.0</td>\n      <td>0.0</td>\n      <td>0.0</td>\n      <td>0.0</td>\n      <td>0.0</td>\n      <td>0.0</td>\n      <td>0.0</td>\n      <td>0.0</td>\n      <td>0.0</td>\n      <td>0.0</td>\n      <td>0.0</td>\n      <td>0.0</td>\n      <td>0.0</td>\n    </tr>\n    <tr>\n      <th>88</th>\n      <td>202006010907</td>\n      <td>3</td>\n      <td>5</td>\n      <td>5</td>\n      <td>55</td>\n      <td>36.9</td>\n      <td>267.7</td>\n      <td>16.0</td>\n      <td>452.0</td>\n      <td>0</td>\n      <td>0</td>\n      <td>1</td>\n      <td>0</td>\n      <td>1200</td>\n      <td>16.759777</td>\n      <td>2.0</td>\n      <td>0.121681</td>\n      <td>0.0</td>\n      <td>0.0</td>\n      <td>0.0</td>\n      <td>0.0</td>\n      <td>0</td>\n      <td>0.0</td>\n      <td>0.0</td>\n      <td>0.0</td>\n      <td>...</td>\n      <td>0.0</td>\n      <td>0.0</td>\n      <td>0.0</td>\n      <td>0.0</td>\n      <td>0.0</td>\n      <td>0.0</td>\n      <td>0.0</td>\n      <td>0.0</td>\n      <td>0.0</td>\n      <td>0.0</td>\n      <td>0.0</td>\n      <td>0.0</td>\n      <td>0.0</td>\n      <td>0.0</td>\n      <td>0.0</td>\n      <td>0.0</td>\n      <td>0.0</td>\n      <td>0.0</td>\n      <td>0.0</td>\n      <td>0.0</td>\n      <td>0.0</td>\n      <td>0.0</td>\n      <td>0.0</td>\n      <td>0.0</td>\n      <td>0.0</td>\n    </tr>\n    <tr>\n      <th>104</th>\n      <td>202006010908</td>\n      <td>2</td>\n      <td>3</td>\n      <td>4</td>\n      <td>56</td>\n      <td>38.7</td>\n      <td>11.1</td>\n      <td>6.0</td>\n      <td>492.0</td>\n      <td>0</td>\n      <td>0</td>\n      <td>0</td>\n      <td>1</td>\n      <td>1800</td>\n      <td>15.789474</td>\n      <td>-4.0</td>\n      <td>0.113821</td>\n      <td>0.0</td>\n      <td>0.0</td>\n      <td>0.0</td>\n      <td>0.0</td>\n      <td>0</td>\n      <td>0.0</td>\n      <td>0.0</td>\n      <td>0.0</td>\n      <td>...</td>\n      <td>0.0</td>\n      <td>0.0</td>\n      <td>0.0</td>\n      <td>0.0</td>\n      <td>0.0</td>\n      <td>0.0</td>\n      <td>0.0</td>\n      <td>0.0</td>\n      <td>0.0</td>\n      <td>0.0</td>\n      <td>0.0</td>\n      <td>0.0</td>\n      <td>0.0</td>\n      <td>0.0</td>\n      <td>0.0</td>\n      <td>0.0</td>\n      <td>0.0</td>\n      <td>0.0</td>\n      <td>0.0</td>\n      <td>0.0</td>\n      <td>0.0</td>\n      <td>0.0</td>\n      <td>0.0</td>\n      <td>0.0</td>\n      <td>0.0</td>\n    </tr>\n    <tr>\n      <th>119</th>\n      <td>202006010909</td>\n      <td>7</td>\n      <td>8</td>\n      <td>3</td>\n      <td>54</td>\n      <td>34.7</td>\n      <td>3.0</td>\n      <td>1.0</td>\n      <td>478.0</td>\n      <td>0</td>\n      <td>0</td>\n      <td>1</td>\n      <td>0</td>\n      <td>1800</td>\n      <td>16.304348</td>\n      <td>2.0</td>\n      <td>0.112971</td>\n      <td>0.0</td>\n      <td>0.0</td>\n      <td>0.0</td>\n      <td>0.0</td>\n      <td>0</td>\n      <td>0.0</td>\n      <td>0.0</td>\n      <td>0.0</td>\n      <td>...</td>\n      <td>0.0</td>\n      <td>0.0</td>\n      <td>0.0</td>\n      <td>0.0</td>\n      <td>0.0</td>\n      <td>0.0</td>\n      <td>0.0</td>\n      <td>0.0</td>\n      <td>0.0</td>\n      <td>0.0</td>\n      <td>0.0</td>\n      <td>0.0</td>\n      <td>0.0</td>\n      <td>0.0</td>\n      <td>0.0</td>\n      <td>0.0</td>\n      <td>0.0</td>\n      <td>0.0</td>\n      <td>0.0</td>\n      <td>0.0</td>\n      <td>0.0</td>\n      <td>0.0</td>\n      <td>0.0</td>\n      <td>0.0</td>\n      <td>0.0</td>\n    </tr>\n    <tr>\n      <th>130</th>\n      <td>202006010910</td>\n      <td>5</td>\n      <td>5</td>\n      <td>4</td>\n      <td>56</td>\n      <td>37.6</td>\n      <td>1.8</td>\n      <td>1.0</td>\n      <td>532.0</td>\n      <td>0</td>\n      <td>0</td>\n      <td>0</td>\n      <td>1</td>\n      <td>1800</td>\n      <td>15.873016</td>\n      <td>12.0</td>\n      <td>0.105263</td>\n      <td>0.0</td>\n      <td>0.0</td>\n      <td>0.0</td>\n      <td>0.0</td>\n      <td>0</td>\n      <td>0.0</td>\n      <td>0.0</td>\n      <td>0.0</td>\n      <td>...</td>\n      <td>0.0</td>\n      <td>0.0</td>\n      <td>0.0</td>\n      <td>0.0</td>\n      <td>0.0</td>\n      <td>0.0</td>\n      <td>0.0</td>\n      <td>0.0</td>\n      <td>0.0</td>\n      <td>0.0</td>\n      <td>0.0</td>\n      <td>0.0</td>\n      <td>0.0</td>\n      <td>0.0</td>\n      <td>0.0</td>\n      <td>0.0</td>\n      <td>0.0</td>\n      <td>0.0</td>\n      <td>0.0</td>\n      <td>0.0</td>\n      <td>0.0</td>\n      <td>0.0</td>\n      <td>0.0</td>\n      <td>0.0</td>\n      <td>0.0</td>\n    </tr>\n  </tbody>\n</table>\n<p>10 rows × 2281 columns</p>\n</div>"
     },
     "metadata": {},
     "execution_count": 415
    }
   ],
   "source": [
    "all_race_data"
   ]
  },
  {
   "cell_type": "code",
   "execution_count": 416,
   "metadata": {},
   "outputs": [],
   "source": [
    "all_data = pd.merge(cleaned_race_df,all_race_data,on=\"race_id\")"
   ]
  },
  {
   "cell_type": "code",
   "execution_count": 417,
   "metadata": {},
   "outputs": [
    {
     "output_type": "execute_result",
     "data": {
      "text/plain": "        race_id  race_round  total_horse_number  obstacle  distance_x  \\\n0  202006010901           1                  16       0.0        1200   \n1  202006010902           2                  12       0.0        1800   \n2  202006010903           3                  16       0.0        1200   \n\n   ground_status_稍重  weather_小雨  weather_曇  where_racecourse_中山  \\\n0                 1           1          0                    1   \n1                 1           1          0                    1   \n2                 1           1          0                    1   \n\n   ground_type_ダ  ground_type_芝  left_right_straight_右  frame_number  \\\n0              1              0                      1             6   \n1              1              0                      1             6   \n2              1              0                      1             3   \n\n   horse_number  age  burden_weight  last_time  odds  popular  horse_weight  \\\n0            11    3             54       37.9   1.7      1.0         460.0   \n1             7    3             55       40.2  18.3      8.0         504.0   \n2             6    3             56       38.8   1.7      1.0         506.0   \n\n   is_down  is_senba  is_mesu  is_osu  distance_y  ...  pre_date_diff_4_18  \\\n0        0         0        1       0        1200  ...                 0.0   \n1        0         0        0       1        1800  ...                 0.0   \n2        0         0        0       1        1200  ...                 0.0   \n\n   is_rider_same_4_18  is_tamer_same_4_18  is_owner_same_4_18  \\\n0                 0.0                 0.0                 0.0   \n1                 0.0                 0.0                 0.0   \n2                 0.0                 0.0                 0.0   \n\n   interval_date_4_18  rank_5_18  frame_number_5_18  horse_number_5_18  \\\n0                 0.0        0.0                0.0                0.0   \n1                 0.0        0.0                0.0                0.0   \n2                 0.0        0.0                0.0                0.0   \n\n   age_5_18  burden_weight_5_18  goal_time_5_18  last_time_5_18  odds_5_18  \\\n0       0.0                 0.0             0.0             0.0        0.0   \n1       0.0                 0.0             0.0             0.0        0.0   \n2       0.0                 0.0             0.0             0.0        0.0   \n\n   popular_5_18  horse_weight_5_18  is_down_5_18  distance_5_18  \\\n0           0.0                0.0           0.0            0.0   \n1           0.0                0.0           0.0            0.0   \n2           0.0                0.0           0.0            0.0   \n\n   avg_velocity_5_18  horse_weight_dif_5_18  burden_weight_rate_5_18  \\\n0                0.0                    0.0                      0.0   \n1                0.0                    0.0                      0.0   \n2                0.0                    0.0                      0.0   \n\n   pre_date_diff_5_18  is_rider_same_5_18  is_tamer_same_5_18  \\\n0                 0.0                 0.0                 0.0   \n1                 0.0                 0.0                 0.0   \n2                 0.0                 0.0                 0.0   \n\n   is_owner_same_5_18  interval_date_5_18  \n0                 0.0                 0.0  \n1                 0.0                 0.0  \n2                 0.0                 0.0  \n\n[3 rows x 2292 columns]",
      "text/html": "<div>\n<style scoped>\n    .dataframe tbody tr th:only-of-type {\n        vertical-align: middle;\n    }\n\n    .dataframe tbody tr th {\n        vertical-align: top;\n    }\n\n    .dataframe thead th {\n        text-align: right;\n    }\n</style>\n<table border=\"1\" class=\"dataframe\">\n  <thead>\n    <tr style=\"text-align: right;\">\n      <th></th>\n      <th>race_id</th>\n      <th>race_round</th>\n      <th>total_horse_number</th>\n      <th>obstacle</th>\n      <th>distance_x</th>\n      <th>ground_status_稍重</th>\n      <th>weather_小雨</th>\n      <th>weather_曇</th>\n      <th>where_racecourse_中山</th>\n      <th>ground_type_ダ</th>\n      <th>ground_type_芝</th>\n      <th>left_right_straight_右</th>\n      <th>frame_number</th>\n      <th>horse_number</th>\n      <th>age</th>\n      <th>burden_weight</th>\n      <th>last_time</th>\n      <th>odds</th>\n      <th>popular</th>\n      <th>horse_weight</th>\n      <th>is_down</th>\n      <th>is_senba</th>\n      <th>is_mesu</th>\n      <th>is_osu</th>\n      <th>distance_y</th>\n      <th>...</th>\n      <th>pre_date_diff_4_18</th>\n      <th>is_rider_same_4_18</th>\n      <th>is_tamer_same_4_18</th>\n      <th>is_owner_same_4_18</th>\n      <th>interval_date_4_18</th>\n      <th>rank_5_18</th>\n      <th>frame_number_5_18</th>\n      <th>horse_number_5_18</th>\n      <th>age_5_18</th>\n      <th>burden_weight_5_18</th>\n      <th>goal_time_5_18</th>\n      <th>last_time_5_18</th>\n      <th>odds_5_18</th>\n      <th>popular_5_18</th>\n      <th>horse_weight_5_18</th>\n      <th>is_down_5_18</th>\n      <th>distance_5_18</th>\n      <th>avg_velocity_5_18</th>\n      <th>horse_weight_dif_5_18</th>\n      <th>burden_weight_rate_5_18</th>\n      <th>pre_date_diff_5_18</th>\n      <th>is_rider_same_5_18</th>\n      <th>is_tamer_same_5_18</th>\n      <th>is_owner_same_5_18</th>\n      <th>interval_date_5_18</th>\n    </tr>\n  </thead>\n  <tbody>\n    <tr>\n      <th>0</th>\n      <td>202006010901</td>\n      <td>1</td>\n      <td>16</td>\n      <td>0.0</td>\n      <td>1200</td>\n      <td>1</td>\n      <td>1</td>\n      <td>0</td>\n      <td>1</td>\n      <td>1</td>\n      <td>0</td>\n      <td>1</td>\n      <td>6</td>\n      <td>11</td>\n      <td>3</td>\n      <td>54</td>\n      <td>37.9</td>\n      <td>1.7</td>\n      <td>1.0</td>\n      <td>460.0</td>\n      <td>0</td>\n      <td>0</td>\n      <td>1</td>\n      <td>0</td>\n      <td>1200</td>\n      <td>...</td>\n      <td>0.0</td>\n      <td>0.0</td>\n      <td>0.0</td>\n      <td>0.0</td>\n      <td>0.0</td>\n      <td>0.0</td>\n      <td>0.0</td>\n      <td>0.0</td>\n      <td>0.0</td>\n      <td>0.0</td>\n      <td>0.0</td>\n      <td>0.0</td>\n      <td>0.0</td>\n      <td>0.0</td>\n      <td>0.0</td>\n      <td>0.0</td>\n      <td>0.0</td>\n      <td>0.0</td>\n      <td>0.0</td>\n      <td>0.0</td>\n      <td>0.0</td>\n      <td>0.0</td>\n      <td>0.0</td>\n      <td>0.0</td>\n      <td>0.0</td>\n    </tr>\n    <tr>\n      <th>1</th>\n      <td>202006010902</td>\n      <td>2</td>\n      <td>12</td>\n      <td>0.0</td>\n      <td>1800</td>\n      <td>1</td>\n      <td>1</td>\n      <td>0</td>\n      <td>1</td>\n      <td>1</td>\n      <td>0</td>\n      <td>1</td>\n      <td>6</td>\n      <td>7</td>\n      <td>3</td>\n      <td>55</td>\n      <td>40.2</td>\n      <td>18.3</td>\n      <td>8.0</td>\n      <td>504.0</td>\n      <td>0</td>\n      <td>0</td>\n      <td>0</td>\n      <td>1</td>\n      <td>1800</td>\n      <td>...</td>\n      <td>0.0</td>\n      <td>0.0</td>\n      <td>0.0</td>\n      <td>0.0</td>\n      <td>0.0</td>\n      <td>0.0</td>\n      <td>0.0</td>\n      <td>0.0</td>\n      <td>0.0</td>\n      <td>0.0</td>\n      <td>0.0</td>\n      <td>0.0</td>\n      <td>0.0</td>\n      <td>0.0</td>\n      <td>0.0</td>\n      <td>0.0</td>\n      <td>0.0</td>\n      <td>0.0</td>\n      <td>0.0</td>\n      <td>0.0</td>\n      <td>0.0</td>\n      <td>0.0</td>\n      <td>0.0</td>\n      <td>0.0</td>\n      <td>0.0</td>\n    </tr>\n    <tr>\n      <th>2</th>\n      <td>202006010903</td>\n      <td>3</td>\n      <td>16</td>\n      <td>0.0</td>\n      <td>1200</td>\n      <td>1</td>\n      <td>1</td>\n      <td>0</td>\n      <td>1</td>\n      <td>1</td>\n      <td>0</td>\n      <td>1</td>\n      <td>3</td>\n      <td>6</td>\n      <td>3</td>\n      <td>56</td>\n      <td>38.8</td>\n      <td>1.7</td>\n      <td>1.0</td>\n      <td>506.0</td>\n      <td>0</td>\n      <td>0</td>\n      <td>0</td>\n      <td>1</td>\n      <td>1200</td>\n      <td>...</td>\n      <td>0.0</td>\n      <td>0.0</td>\n      <td>0.0</td>\n      <td>0.0</td>\n      <td>0.0</td>\n      <td>0.0</td>\n      <td>0.0</td>\n      <td>0.0</td>\n      <td>0.0</td>\n      <td>0.0</td>\n      <td>0.0</td>\n      <td>0.0</td>\n      <td>0.0</td>\n      <td>0.0</td>\n      <td>0.0</td>\n      <td>0.0</td>\n      <td>0.0</td>\n      <td>0.0</td>\n      <td>0.0</td>\n      <td>0.0</td>\n      <td>0.0</td>\n      <td>0.0</td>\n      <td>0.0</td>\n      <td>0.0</td>\n      <td>0.0</td>\n    </tr>\n  </tbody>\n</table>\n<p>3 rows × 2292 columns</p>\n</div>"
     },
     "metadata": {},
     "execution_count": 417
    }
   ],
   "source": [
    "\n",
    "all_data.head(3)"
   ]
  },
  {
   "cell_type": "code",
   "execution_count": 418,
   "metadata": {},
   "outputs": [],
   "source": [
    "all_data.to_csv(\"csv/train_data.csv\", index=False )"
   ]
  },
  {
   "cell_type": "markdown",
   "metadata": {},
   "source": [
    "# 6 予測モデルの紹介\n",
    "#### ライブラリ\n",
    "- keras\n",
    "#### モデル\n",
    "- ニューラルネットワーク\n",
    "#### データ数(2010～2020年)\n",
    "- 訓練データ:33028\n",
    "- テストデータ:8257\n",
    "#### 特徴量\n",
    "- 2309\n",
    "#### 予測結果\n",
    "- モデルの精度:7.1%\n",
    "- 回収率:75.7%\n"
   ]
  },
  {
   "cell_type": "code",
   "execution_count": 419,
   "metadata": {},
   "outputs": [
    {
     "output_type": "stream",
     "name": "stdout",
     "text": "Model: \"sequential_2\"\n_________________________________________________________________\nLayer (type)                 Output Shape              Param #   \n=================================================================\ndense_4 (Dense)              (None, 2309)              5333790   \n_________________________________________________________________\ndropout_3 (Dropout)          (None, 2309)              0         \n_________________________________________________________________\nbatch_normalization_3 (Batch (None, 2309)              9236      \n_________________________________________________________________\ndense_5 (Dense)              (None, 256)               591360    \n_________________________________________________________________\ndropout_4 (Dropout)          (None, 256)               0         \n_________________________________________________________________\nbatch_normalization_4 (Batch (None, 256)               1024      \n_________________________________________________________________\ndense_6 (Dense)              (None, 18)                4626      \n=================================================================\nTotal params: 5,940,036\nTrainable params: 5,934,906\nNon-trainable params: 5,130\n_________________________________________________________________\n"
    }
   ],
   "source": [
    "# 今回構築したモデルの構造\n",
    "import numpy as np\n",
    "from keras.models import Sequential, model_from_json\n",
    "from keras.layers.core import Dense\n",
    "from keras.optimizers import RMSprop\n",
    "from keras.utils.vis_utils import plot_model\n",
    "model = model_from_json(open('and.json', 'r').read())\n",
    "model.summary()"
   ]
  },
  {
   "cell_type": "markdown",
   "metadata": {},
   "source": [
    "# 7　今後の改善策\n",
    "#### データ量の調整\n",
    "- ほかのサイトからのデータを取得\n",
    "- 騎手や馬主データの追加\n",
    "- 予測する範囲を絞りデータを減らす\n",
    "#### モデルの構築\n",
    "- アンサンブル学習\n",
    "- 強化学習\n",
    "#### 評価方法\n",
    "- 回収率を目的関数とする\n",
    "- 順位まで予測する"
   ]
  },
  {
   "cell_type": "code",
   "execution_count": null,
   "metadata": {},
   "outputs": [],
   "source": []
  }
 ],
 "metadata": {
  "language_info": {
   "name": "python",
   "codemirror_mode": {
    "name": "ipython",
    "version": 3
   },
   "version": "3.7.4-final"
  },
  "orig_nbformat": 2,
  "file_extension": ".py",
  "mimetype": "text/x-python",
  "name": "python",
  "npconvert_exporter": "python",
  "pygments_lexer": "ipython3",
  "version": 3,
  "kernelspec": {
   "name": "python37464bit1ebf9c4dc354488cae1027a09c7ab0e8",
   "display_name": "Python 3.7.4 64-bit"
  }
 },
 "nbformat": 4,
 "nbformat_minor": 2
}