{
 "nbformat": 4,
 "nbformat_minor": 2,
 "metadata": {
  "language_info": {
   "name": "python",
   "codemirror_mode": {
    "name": "ipython",
    "version": 3
   },
   "version": "3.7.4-final"
  },
  "orig_nbformat": 2,
  "file_extension": ".py",
  "mimetype": "text/x-python",
  "name": "python",
  "npconvert_exporter": "python",
  "pygments_lexer": "ipython3",
  "version": 3,
  "kernelspec": {
   "name": "python37464bit1ebf9c4dc354488cae1027a09c7ab0e8",
   "display_name": "Python 3.7.4 64-bit"
  }
 },
 "cells": [
  {
   "cell_type": "markdown",
   "metadata": {},
   "source": []
  },
  {
   "cell_type": "markdown",
   "metadata": {},
   "source": [
    "# 競馬データ取得プログラム(Python)\n",
    "\n",
    "# 1 クローリングとスクレイピングについて\n",
    "\n",
    "\n",
    "## 1.1 クローリングとスクレイピングの定義\n",
    "\n",
    "### クローリング \n",
    "Webページのハイパーリンクをたどって次々にWebページをダウンロードする作業。\n",
    "### スクレイピング \n",
    "ダウンロードしたWebページから必要な情報を抜き出す作業。\n",
    "\n",
    "## 1.2 クローリング・スクレイピングの方法\n",
    "### プログラミング言語  \n",
    "- python,PHP,java,C,Ruby\n",
    "- シェルスクリプト(Unixコマンド)\n",
    "\n",
    "### Webスクレイピングツール  \n",
    "- ExcelやSpreadSheet  \n",
    "- Octoparse   \n",
    "- Scraper  \n",
    "\n",
    "## 1.3 クローリング・スクレイピングでPythonを使うメリット\n",
    "### 言語自体の特性  \n",
    "読みやすく書きやすいPHP、Java、C / C ++と比べ、Pythonは最も簡単  \n",
    "Pythonはプログラムを書いたらすぐに実行することができる対話型  \n",
    "### 強力なライブラリの存在  \n",
    "世界中の開発者が数多くのライブラリを公開しており、簡単に使うことができる  \n",
    "lxmlやBeautifulSoupは有名なスクレイピングライブラリがある。  \n",
    "### スクレイピング後の処理との親和性  \n",
    "データ分析においてもPythonには優秀なライブラリのpandasなどが揃っている\n",
    "Pythonでは数値計算や科学技術計算の分野で古くからNumPyやSciPyといったライブラリが有名　　\n",
    "  \n",
    "## 1.4 今回紹介するライブラリ\n",
    "### Beautiful Soup \n",
    "シンプルかつわかりやすいAPIでデータを抜き出せるのが特徴で、古くから人気のあるライブラリです。  \n",
    "内部のパーサーを目的に応じて切り替えられます。\n",
    "### Selenium   \n",
    "ブラウザーを自動操作するためのライブラリです。  \n",
    "Pythonの他にJavaやJavaScriptなど様々な言語に対応しています。  \n",
    "ブラウザーベンダーがWebDriverAPIを実装するドライバーを用意しており、これを経由して操作します。\n",
    "\n"
   ]
  },
  {
   "cell_type": "markdown",
   "metadata": {},
   "source": [
    "# 2 Pythonの基礎知識\n",
    "## 2.1 python実行方法\n",
    "### インタラクティブシェルの使用\n",
    "pythonコマンドを引数なしで実行すると、インタラクティブシェルが起動します。  \n",
    "pythonのコードを対話的に実行できるので、ライブラリの使い方の確認などに便利です。\n",
    "\n",
    "### スクリプトファイルの実行と構成\n",
    "pythonのスクリプトは.pyという拡張子のファイルに保存します。  \n",
    "pythonコマンドにpyファイルのpathを引数として渡すとスクリプトファイルを実行されます。\n",
    "\n",
    "### Jupyter Notebook\n",
    "ノートブックと呼ばれるファイルにプログラムや説明の文章、実行結果などをまとめて管理できるます。  \n",
    "データ分析用のツールです。"
   ]
  },
  {
   "cell_type": "code",
   "execution_count": 10,
   "metadata": {},
   "outputs": [
    {
     "output_type": "stream",
     "name": "stdout",
     "text": "3\n"
    }
   ],
   "source": [
    "# ソースコードを記述し、Shift+Enterで実行できます。\n",
    "print(1+2)"
   ]
  },
  {
   "cell_type": "markdown",
   "metadata": {},
   "source": [
    "このように、Jupyter Notebookでは、セルごとにソースコードを記述して、実行を行うことができます。  \n",
    "実行結果はすぐ下に表示され、何度でも再実行できます。  \n",
    "また、Jupyter Notebookでは、ノートブックにグラフを表示することもできます。"
   ]
  },
  {
   "cell_type": "code",
   "execution_count": 11,
   "metadata": {},
   "outputs": [
    {
     "output_type": "display_data",
     "data": {
      "text/plain": "<Figure size 432x288 with 1 Axes>",
      "image/svg+xml": "<?xml version=\"1.0\" encoding=\"utf-8\" standalone=\"no\"?>\r\n<!DOCTYPE svg PUBLIC \"-//W3C//DTD SVG 1.1//EN\"\r\n  \"http://www.w3.org/Graphics/SVG/1.1/DTD/svg11.dtd\">\r\n<!-- Created with matplotlib (https://matplotlib.org/) -->\r\n<svg height=\"277.314375pt\" version=\"1.1\" viewBox=\"0 0 385.78125 277.314375\" width=\"385.78125pt\" xmlns=\"http://www.w3.org/2000/svg\" xmlns:xlink=\"http://www.w3.org/1999/xlink\">\r\n <defs>\r\n  <style type=\"text/css\">\r\n*{stroke-linecap:butt;stroke-linejoin:round;}\r\n  </style>\r\n </defs>\r\n <g id=\"figure_1\">\r\n  <g id=\"patch_1\">\r\n   <path d=\"M 0 277.314375 \r\nL 385.78125 277.314375 \r\nL 385.78125 0 \r\nL 0 0 \r\nz\r\n\" style=\"fill:none;\"/>\r\n  </g>\r\n  <g id=\"axes_1\">\r\n   <g id=\"patch_2\">\r\n    <path d=\"M 43.78125 239.758125 \r\nL 378.58125 239.758125 \r\nL 378.58125 22.318125 \r\nL 43.78125 22.318125 \r\nz\r\n\" style=\"fill:#ffffff;\"/>\r\n   </g>\r\n   <g id=\"matplotlib.axis_1\">\r\n    <g id=\"xtick_1\">\r\n     <g id=\"line2d_1\">\r\n      <defs>\r\n       <path d=\"M 0 0 \r\nL 0 3.5 \r\n\" id=\"m60d6fbe8c1\" style=\"stroke:#000000;stroke-width:0.8;\"/>\r\n      </defs>\r\n      <g>\r\n       <use style=\"stroke:#000000;stroke-width:0.8;\" x=\"58.999432\" xlink:href=\"#m60d6fbe8c1\" y=\"239.758125\"/>\r\n      </g>\r\n     </g>\r\n     <g id=\"text_1\">\r\n      <!-- 100 -->\r\n      <defs>\r\n       <path d=\"M 12.40625 8.296875 \r\nL 28.515625 8.296875 \r\nL 28.515625 63.921875 \r\nL 10.984375 60.40625 \r\nL 10.984375 69.390625 \r\nL 28.421875 72.90625 \r\nL 38.28125 72.90625 \r\nL 38.28125 8.296875 \r\nL 54.390625 8.296875 \r\nL 54.390625 0 \r\nL 12.40625 0 \r\nz\r\n\" id=\"DejaVuSans-49\"/>\r\n       <path d=\"M 31.78125 66.40625 \r\nQ 24.171875 66.40625 20.328125 58.90625 \r\nQ 16.5 51.421875 16.5 36.375 \r\nQ 16.5 21.390625 20.328125 13.890625 \r\nQ 24.171875 6.390625 31.78125 6.390625 \r\nQ 39.453125 6.390625 43.28125 13.890625 \r\nQ 47.125 21.390625 47.125 36.375 \r\nQ 47.125 51.421875 43.28125 58.90625 \r\nQ 39.453125 66.40625 31.78125 66.40625 \r\nz\r\nM 31.78125 74.21875 \r\nQ 44.046875 74.21875 50.515625 64.515625 \r\nQ 56.984375 54.828125 56.984375 36.375 \r\nQ 56.984375 17.96875 50.515625 8.265625 \r\nQ 44.046875 -1.421875 31.78125 -1.421875 \r\nQ 19.53125 -1.421875 13.0625 8.265625 \r\nQ 6.59375 17.96875 6.59375 36.375 \r\nQ 6.59375 54.828125 13.0625 64.515625 \r\nQ 19.53125 74.21875 31.78125 74.21875 \r\nz\r\n\" id=\"DejaVuSans-48\"/>\r\n      </defs>\r\n      <g transform=\"translate(49.455682 254.356562)scale(0.1 -0.1)\">\r\n       <use xlink:href=\"#DejaVuSans-49\"/>\r\n       <use x=\"63.623047\" xlink:href=\"#DejaVuSans-48\"/>\r\n       <use x=\"127.246094\" xlink:href=\"#DejaVuSans-48\"/>\r\n      </g>\r\n     </g>\r\n    </g>\r\n    <g id=\"xtick_2\">\r\n     <g id=\"line2d_2\">\r\n      <g>\r\n       <use style=\"stroke:#000000;stroke-width:0.8;\" x=\"109.726705\" xlink:href=\"#m60d6fbe8c1\" y=\"239.758125\"/>\r\n      </g>\r\n     </g>\r\n     <g id=\"text_2\">\r\n      <!-- 200 -->\r\n      <defs>\r\n       <path d=\"M 19.1875 8.296875 \r\nL 53.609375 8.296875 \r\nL 53.609375 0 \r\nL 7.328125 0 \r\nL 7.328125 8.296875 \r\nQ 12.9375 14.109375 22.625 23.890625 \r\nQ 32.328125 33.6875 34.8125 36.53125 \r\nQ 39.546875 41.84375 41.421875 45.53125 \r\nQ 43.3125 49.21875 43.3125 52.78125 \r\nQ 43.3125 58.59375 39.234375 62.25 \r\nQ 35.15625 65.921875 28.609375 65.921875 \r\nQ 23.96875 65.921875 18.8125 64.3125 \r\nQ 13.671875 62.703125 7.8125 59.421875 \r\nL 7.8125 69.390625 \r\nQ 13.765625 71.78125 18.9375 73 \r\nQ 24.125 74.21875 28.421875 74.21875 \r\nQ 39.75 74.21875 46.484375 68.546875 \r\nQ 53.21875 62.890625 53.21875 53.421875 \r\nQ 53.21875 48.921875 51.53125 44.890625 \r\nQ 49.859375 40.875 45.40625 35.40625 \r\nQ 44.1875 33.984375 37.640625 27.21875 \r\nQ 31.109375 20.453125 19.1875 8.296875 \r\nz\r\n\" id=\"DejaVuSans-50\"/>\r\n      </defs>\r\n      <g transform=\"translate(100.182955 254.356562)scale(0.1 -0.1)\">\r\n       <use xlink:href=\"#DejaVuSans-50\"/>\r\n       <use x=\"63.623047\" xlink:href=\"#DejaVuSans-48\"/>\r\n       <use x=\"127.246094\" xlink:href=\"#DejaVuSans-48\"/>\r\n      </g>\r\n     </g>\r\n    </g>\r\n    <g id=\"xtick_3\">\r\n     <g id=\"line2d_3\">\r\n      <g>\r\n       <use style=\"stroke:#000000;stroke-width:0.8;\" x=\"160.453977\" xlink:href=\"#m60d6fbe8c1\" y=\"239.758125\"/>\r\n      </g>\r\n     </g>\r\n     <g id=\"text_3\">\r\n      <!-- 300 -->\r\n      <defs>\r\n       <path d=\"M 40.578125 39.3125 \r\nQ 47.65625 37.796875 51.625 33 \r\nQ 55.609375 28.21875 55.609375 21.1875 \r\nQ 55.609375 10.40625 48.1875 4.484375 \r\nQ 40.765625 -1.421875 27.09375 -1.421875 \r\nQ 22.515625 -1.421875 17.65625 -0.515625 \r\nQ 12.796875 0.390625 7.625 2.203125 \r\nL 7.625 11.71875 \r\nQ 11.71875 9.328125 16.59375 8.109375 \r\nQ 21.484375 6.890625 26.8125 6.890625 \r\nQ 36.078125 6.890625 40.9375 10.546875 \r\nQ 45.796875 14.203125 45.796875 21.1875 \r\nQ 45.796875 27.640625 41.28125 31.265625 \r\nQ 36.765625 34.90625 28.71875 34.90625 \r\nL 20.21875 34.90625 \r\nL 20.21875 43.015625 \r\nL 29.109375 43.015625 \r\nQ 36.375 43.015625 40.234375 45.921875 \r\nQ 44.09375 48.828125 44.09375 54.296875 \r\nQ 44.09375 59.90625 40.109375 62.90625 \r\nQ 36.140625 65.921875 28.71875 65.921875 \r\nQ 24.65625 65.921875 20.015625 65.03125 \r\nQ 15.375 64.15625 9.8125 62.3125 \r\nL 9.8125 71.09375 \r\nQ 15.4375 72.65625 20.34375 73.4375 \r\nQ 25.25 74.21875 29.59375 74.21875 \r\nQ 40.828125 74.21875 47.359375 69.109375 \r\nQ 53.90625 64.015625 53.90625 55.328125 \r\nQ 53.90625 49.265625 50.4375 45.09375 \r\nQ 46.96875 40.921875 40.578125 39.3125 \r\nz\r\n\" id=\"DejaVuSans-51\"/>\r\n      </defs>\r\n      <g transform=\"translate(150.910227 254.356562)scale(0.1 -0.1)\">\r\n       <use xlink:href=\"#DejaVuSans-51\"/>\r\n       <use x=\"63.623047\" xlink:href=\"#DejaVuSans-48\"/>\r\n       <use x=\"127.246094\" xlink:href=\"#DejaVuSans-48\"/>\r\n      </g>\r\n     </g>\r\n    </g>\r\n    <g id=\"xtick_4\">\r\n     <g id=\"line2d_4\">\r\n      <g>\r\n       <use style=\"stroke:#000000;stroke-width:0.8;\" x=\"211.18125\" xlink:href=\"#m60d6fbe8c1\" y=\"239.758125\"/>\r\n      </g>\r\n     </g>\r\n     <g id=\"text_4\">\r\n      <!-- 400 -->\r\n      <defs>\r\n       <path d=\"M 37.796875 64.3125 \r\nL 12.890625 25.390625 \r\nL 37.796875 25.390625 \r\nz\r\nM 35.203125 72.90625 \r\nL 47.609375 72.90625 \r\nL 47.609375 25.390625 \r\nL 58.015625 25.390625 \r\nL 58.015625 17.1875 \r\nL 47.609375 17.1875 \r\nL 47.609375 0 \r\nL 37.796875 0 \r\nL 37.796875 17.1875 \r\nL 4.890625 17.1875 \r\nL 4.890625 26.703125 \r\nz\r\n\" id=\"DejaVuSans-52\"/>\r\n      </defs>\r\n      <g transform=\"translate(201.6375 254.356562)scale(0.1 -0.1)\">\r\n       <use xlink:href=\"#DejaVuSans-52\"/>\r\n       <use x=\"63.623047\" xlink:href=\"#DejaVuSans-48\"/>\r\n       <use x=\"127.246094\" xlink:href=\"#DejaVuSans-48\"/>\r\n      </g>\r\n     </g>\r\n    </g>\r\n    <g id=\"xtick_5\">\r\n     <g id=\"line2d_5\">\r\n      <g>\r\n       <use style=\"stroke:#000000;stroke-width:0.8;\" x=\"261.908523\" xlink:href=\"#m60d6fbe8c1\" y=\"239.758125\"/>\r\n      </g>\r\n     </g>\r\n     <g id=\"text_5\">\r\n      <!-- 500 -->\r\n      <defs>\r\n       <path d=\"M 10.796875 72.90625 \r\nL 49.515625 72.90625 \r\nL 49.515625 64.59375 \r\nL 19.828125 64.59375 \r\nL 19.828125 46.734375 \r\nQ 21.96875 47.46875 24.109375 47.828125 \r\nQ 26.265625 48.1875 28.421875 48.1875 \r\nQ 40.625 48.1875 47.75 41.5 \r\nQ 54.890625 34.8125 54.890625 23.390625 \r\nQ 54.890625 11.625 47.5625 5.09375 \r\nQ 40.234375 -1.421875 26.90625 -1.421875 \r\nQ 22.3125 -1.421875 17.546875 -0.640625 \r\nQ 12.796875 0.140625 7.71875 1.703125 \r\nL 7.71875 11.625 \r\nQ 12.109375 9.234375 16.796875 8.0625 \r\nQ 21.484375 6.890625 26.703125 6.890625 \r\nQ 35.15625 6.890625 40.078125 11.328125 \r\nQ 45.015625 15.765625 45.015625 23.390625 \r\nQ 45.015625 31 40.078125 35.4375 \r\nQ 35.15625 39.890625 26.703125 39.890625 \r\nQ 22.75 39.890625 18.8125 39.015625 \r\nQ 14.890625 38.140625 10.796875 36.28125 \r\nz\r\n\" id=\"DejaVuSans-53\"/>\r\n      </defs>\r\n      <g transform=\"translate(252.364773 254.356562)scale(0.1 -0.1)\">\r\n       <use xlink:href=\"#DejaVuSans-53\"/>\r\n       <use x=\"63.623047\" xlink:href=\"#DejaVuSans-48\"/>\r\n       <use x=\"127.246094\" xlink:href=\"#DejaVuSans-48\"/>\r\n      </g>\r\n     </g>\r\n    </g>\r\n    <g id=\"xtick_6\">\r\n     <g id=\"line2d_6\">\r\n      <g>\r\n       <use style=\"stroke:#000000;stroke-width:0.8;\" x=\"312.635795\" xlink:href=\"#m60d6fbe8c1\" y=\"239.758125\"/>\r\n      </g>\r\n     </g>\r\n     <g id=\"text_6\">\r\n      <!-- 600 -->\r\n      <defs>\r\n       <path d=\"M 33.015625 40.375 \r\nQ 26.375 40.375 22.484375 35.828125 \r\nQ 18.609375 31.296875 18.609375 23.390625 \r\nQ 18.609375 15.53125 22.484375 10.953125 \r\nQ 26.375 6.390625 33.015625 6.390625 \r\nQ 39.65625 6.390625 43.53125 10.953125 \r\nQ 47.40625 15.53125 47.40625 23.390625 \r\nQ 47.40625 31.296875 43.53125 35.828125 \r\nQ 39.65625 40.375 33.015625 40.375 \r\nz\r\nM 52.59375 71.296875 \r\nL 52.59375 62.3125 \r\nQ 48.875 64.0625 45.09375 64.984375 \r\nQ 41.3125 65.921875 37.59375 65.921875 \r\nQ 27.828125 65.921875 22.671875 59.328125 \r\nQ 17.53125 52.734375 16.796875 39.40625 \r\nQ 19.671875 43.65625 24.015625 45.921875 \r\nQ 28.375 48.1875 33.59375 48.1875 \r\nQ 44.578125 48.1875 50.953125 41.515625 \r\nQ 57.328125 34.859375 57.328125 23.390625 \r\nQ 57.328125 12.15625 50.6875 5.359375 \r\nQ 44.046875 -1.421875 33.015625 -1.421875 \r\nQ 20.359375 -1.421875 13.671875 8.265625 \r\nQ 6.984375 17.96875 6.984375 36.375 \r\nQ 6.984375 53.65625 15.1875 63.9375 \r\nQ 23.390625 74.21875 37.203125 74.21875 \r\nQ 40.921875 74.21875 44.703125 73.484375 \r\nQ 48.484375 72.75 52.59375 71.296875 \r\nz\r\n\" id=\"DejaVuSans-54\"/>\r\n      </defs>\r\n      <g transform=\"translate(303.092045 254.356562)scale(0.1 -0.1)\">\r\n       <use xlink:href=\"#DejaVuSans-54\"/>\r\n       <use x=\"63.623047\" xlink:href=\"#DejaVuSans-48\"/>\r\n       <use x=\"127.246094\" xlink:href=\"#DejaVuSans-48\"/>\r\n      </g>\r\n     </g>\r\n    </g>\r\n    <g id=\"xtick_7\">\r\n     <g id=\"line2d_7\">\r\n      <g>\r\n       <use style=\"stroke:#000000;stroke-width:0.8;\" x=\"363.363068\" xlink:href=\"#m60d6fbe8c1\" y=\"239.758125\"/>\r\n      </g>\r\n     </g>\r\n     <g id=\"text_7\">\r\n      <!-- 700 -->\r\n      <defs>\r\n       <path d=\"M 8.203125 72.90625 \r\nL 55.078125 72.90625 \r\nL 55.078125 68.703125 \r\nL 28.609375 0 \r\nL 18.3125 0 \r\nL 43.21875 64.59375 \r\nL 8.203125 64.59375 \r\nz\r\n\" id=\"DejaVuSans-55\"/>\r\n      </defs>\r\n      <g transform=\"translate(353.819318 254.356562)scale(0.1 -0.1)\">\r\n       <use xlink:href=\"#DejaVuSans-55\"/>\r\n       <use x=\"63.623047\" xlink:href=\"#DejaVuSans-48\"/>\r\n       <use x=\"127.246094\" xlink:href=\"#DejaVuSans-48\"/>\r\n      </g>\r\n     </g>\r\n    </g>\r\n    <g id=\"text_8\">\r\n     <!-- price -->\r\n     <defs>\r\n      <path d=\"M 18.109375 8.203125 \r\nL 18.109375 -20.796875 \r\nL 9.078125 -20.796875 \r\nL 9.078125 54.6875 \r\nL 18.109375 54.6875 \r\nL 18.109375 46.390625 \r\nQ 20.953125 51.265625 25.265625 53.625 \r\nQ 29.59375 56 35.59375 56 \r\nQ 45.5625 56 51.78125 48.09375 \r\nQ 58.015625 40.1875 58.015625 27.296875 \r\nQ 58.015625 14.40625 51.78125 6.484375 \r\nQ 45.5625 -1.421875 35.59375 -1.421875 \r\nQ 29.59375 -1.421875 25.265625 0.953125 \r\nQ 20.953125 3.328125 18.109375 8.203125 \r\nz\r\nM 48.6875 27.296875 \r\nQ 48.6875 37.203125 44.609375 42.84375 \r\nQ 40.53125 48.484375 33.40625 48.484375 \r\nQ 26.265625 48.484375 22.1875 42.84375 \r\nQ 18.109375 37.203125 18.109375 27.296875 \r\nQ 18.109375 17.390625 22.1875 11.75 \r\nQ 26.265625 6.109375 33.40625 6.109375 \r\nQ 40.53125 6.109375 44.609375 11.75 \r\nQ 48.6875 17.390625 48.6875 27.296875 \r\nz\r\n\" id=\"DejaVuSans-112\"/>\r\n      <path d=\"M 41.109375 46.296875 \r\nQ 39.59375 47.171875 37.8125 47.578125 \r\nQ 36.03125 48 33.890625 48 \r\nQ 26.265625 48 22.1875 43.046875 \r\nQ 18.109375 38.09375 18.109375 28.8125 \r\nL 18.109375 0 \r\nL 9.078125 0 \r\nL 9.078125 54.6875 \r\nL 18.109375 54.6875 \r\nL 18.109375 46.1875 \r\nQ 20.953125 51.171875 25.484375 53.578125 \r\nQ 30.03125 56 36.53125 56 \r\nQ 37.453125 56 38.578125 55.875 \r\nQ 39.703125 55.765625 41.0625 55.515625 \r\nz\r\n\" id=\"DejaVuSans-114\"/>\r\n      <path d=\"M 9.421875 54.6875 \r\nL 18.40625 54.6875 \r\nL 18.40625 0 \r\nL 9.421875 0 \r\nz\r\nM 9.421875 75.984375 \r\nL 18.40625 75.984375 \r\nL 18.40625 64.59375 \r\nL 9.421875 64.59375 \r\nz\r\n\" id=\"DejaVuSans-105\"/>\r\n      <path d=\"M 48.78125 52.59375 \r\nL 48.78125 44.1875 \r\nQ 44.96875 46.296875 41.140625 47.34375 \r\nQ 37.3125 48.390625 33.40625 48.390625 \r\nQ 24.65625 48.390625 19.8125 42.84375 \r\nQ 14.984375 37.3125 14.984375 27.296875 \r\nQ 14.984375 17.28125 19.8125 11.734375 \r\nQ 24.65625 6.203125 33.40625 6.203125 \r\nQ 37.3125 6.203125 41.140625 7.25 \r\nQ 44.96875 8.296875 48.78125 10.40625 \r\nL 48.78125 2.09375 \r\nQ 45.015625 0.34375 40.984375 -0.53125 \r\nQ 36.96875 -1.421875 32.421875 -1.421875 \r\nQ 20.0625 -1.421875 12.78125 6.34375 \r\nQ 5.515625 14.109375 5.515625 27.296875 \r\nQ 5.515625 40.671875 12.859375 48.328125 \r\nQ 20.21875 56 33.015625 56 \r\nQ 37.15625 56 41.109375 55.140625 \r\nQ 45.0625 54.296875 48.78125 52.59375 \r\nz\r\n\" id=\"DejaVuSans-99\"/>\r\n      <path d=\"M 56.203125 29.59375 \r\nL 56.203125 25.203125 \r\nL 14.890625 25.203125 \r\nQ 15.484375 15.921875 20.484375 11.0625 \r\nQ 25.484375 6.203125 34.421875 6.203125 \r\nQ 39.59375 6.203125 44.453125 7.46875 \r\nQ 49.3125 8.734375 54.109375 11.28125 \r\nL 54.109375 2.78125 \r\nQ 49.265625 0.734375 44.1875 -0.34375 \r\nQ 39.109375 -1.421875 33.890625 -1.421875 \r\nQ 20.796875 -1.421875 13.15625 6.1875 \r\nQ 5.515625 13.8125 5.515625 26.8125 \r\nQ 5.515625 40.234375 12.765625 48.109375 \r\nQ 20.015625 56 32.328125 56 \r\nQ 43.359375 56 49.78125 48.890625 \r\nQ 56.203125 41.796875 56.203125 29.59375 \r\nz\r\nM 47.21875 32.234375 \r\nQ 47.125 39.59375 43.09375 43.984375 \r\nQ 39.0625 48.390625 32.421875 48.390625 \r\nQ 24.90625 48.390625 20.390625 44.140625 \r\nQ 15.875 39.890625 15.1875 32.171875 \r\nz\r\n\" id=\"DejaVuSans-101\"/>\r\n     </defs>\r\n     <g transform=\"translate(198.736719 268.034687)scale(0.1 -0.1)\">\r\n      <use xlink:href=\"#DejaVuSans-112\"/>\r\n      <use x=\"63.476562\" xlink:href=\"#DejaVuSans-114\"/>\r\n      <use x=\"104.589844\" xlink:href=\"#DejaVuSans-105\"/>\r\n      <use x=\"132.373047\" xlink:href=\"#DejaVuSans-99\"/>\r\n      <use x=\"187.353516\" xlink:href=\"#DejaVuSans-101\"/>\r\n     </g>\r\n    </g>\r\n   </g>\r\n   <g id=\"matplotlib.axis_2\">\r\n    <g id=\"ytick_1\">\r\n     <g id=\"line2d_8\">\r\n      <defs>\r\n       <path d=\"M 0 0 \r\nL -3.5 0 \r\n\" id=\"m7b4b4a8945\" style=\"stroke:#000000;stroke-width:0.8;\"/>\r\n      </defs>\r\n      <g>\r\n       <use style=\"stroke:#000000;stroke-width:0.8;\" x=\"43.78125\" xlink:href=\"#m7b4b4a8945\" y=\"229.874489\"/>\r\n      </g>\r\n     </g>\r\n     <g id=\"text_9\">\r\n      <!-- 1.0 -->\r\n      <defs>\r\n       <path d=\"M 10.6875 12.40625 \r\nL 21 12.40625 \r\nL 21 0 \r\nL 10.6875 0 \r\nz\r\n\" id=\"DejaVuSans-46\"/>\r\n      </defs>\r\n      <g transform=\"translate(20.878125 233.673707)scale(0.1 -0.1)\">\r\n       <use xlink:href=\"#DejaVuSans-49\"/>\r\n       <use x=\"63.623047\" xlink:href=\"#DejaVuSans-46\"/>\r\n       <use x=\"95.410156\" xlink:href=\"#DejaVuSans-48\"/>\r\n      </g>\r\n     </g>\r\n    </g>\r\n    <g id=\"ytick_2\">\r\n     <g id=\"line2d_9\">\r\n      <g>\r\n       <use style=\"stroke:#000000;stroke-width:0.8;\" x=\"43.78125\" xlink:href=\"#m7b4b4a8945\" y=\"205.165398\"/>\r\n      </g>\r\n     </g>\r\n     <g id=\"text_10\">\r\n      <!-- 1.5 -->\r\n      <g transform=\"translate(20.878125 208.964616)scale(0.1 -0.1)\">\r\n       <use xlink:href=\"#DejaVuSans-49\"/>\r\n       <use x=\"63.623047\" xlink:href=\"#DejaVuSans-46\"/>\r\n       <use x=\"95.410156\" xlink:href=\"#DejaVuSans-53\"/>\r\n      </g>\r\n     </g>\r\n    </g>\r\n    <g id=\"ytick_3\">\r\n     <g id=\"line2d_10\">\r\n      <g>\r\n       <use style=\"stroke:#000000;stroke-width:0.8;\" x=\"43.78125\" xlink:href=\"#m7b4b4a8945\" y=\"180.456307\"/>\r\n      </g>\r\n     </g>\r\n     <g id=\"text_11\">\r\n      <!-- 2.0 -->\r\n      <g transform=\"translate(20.878125 184.255526)scale(0.1 -0.1)\">\r\n       <use xlink:href=\"#DejaVuSans-50\"/>\r\n       <use x=\"63.623047\" xlink:href=\"#DejaVuSans-46\"/>\r\n       <use x=\"95.410156\" xlink:href=\"#DejaVuSans-48\"/>\r\n      </g>\r\n     </g>\r\n    </g>\r\n    <g id=\"ytick_4\">\r\n     <g id=\"line2d_11\">\r\n      <g>\r\n       <use style=\"stroke:#000000;stroke-width:0.8;\" x=\"43.78125\" xlink:href=\"#m7b4b4a8945\" y=\"155.747216\"/>\r\n      </g>\r\n     </g>\r\n     <g id=\"text_12\">\r\n      <!-- 2.5 -->\r\n      <g transform=\"translate(20.878125 159.546435)scale(0.1 -0.1)\">\r\n       <use xlink:href=\"#DejaVuSans-50\"/>\r\n       <use x=\"63.623047\" xlink:href=\"#DejaVuSans-46\"/>\r\n       <use x=\"95.410156\" xlink:href=\"#DejaVuSans-53\"/>\r\n      </g>\r\n     </g>\r\n    </g>\r\n    <g id=\"ytick_5\">\r\n     <g id=\"line2d_12\">\r\n      <g>\r\n       <use style=\"stroke:#000000;stroke-width:0.8;\" x=\"43.78125\" xlink:href=\"#m7b4b4a8945\" y=\"131.038125\"/>\r\n      </g>\r\n     </g>\r\n     <g id=\"text_13\">\r\n      <!-- 3.0 -->\r\n      <g transform=\"translate(20.878125 134.837344)scale(0.1 -0.1)\">\r\n       <use xlink:href=\"#DejaVuSans-51\"/>\r\n       <use x=\"63.623047\" xlink:href=\"#DejaVuSans-46\"/>\r\n       <use x=\"95.410156\" xlink:href=\"#DejaVuSans-48\"/>\r\n      </g>\r\n     </g>\r\n    </g>\r\n    <g id=\"ytick_6\">\r\n     <g id=\"line2d_13\">\r\n      <g>\r\n       <use style=\"stroke:#000000;stroke-width:0.8;\" x=\"43.78125\" xlink:href=\"#m7b4b4a8945\" y=\"106.329034\"/>\r\n      </g>\r\n     </g>\r\n     <g id=\"text_14\">\r\n      <!-- 3.5 -->\r\n      <g transform=\"translate(20.878125 110.128253)scale(0.1 -0.1)\">\r\n       <use xlink:href=\"#DejaVuSans-51\"/>\r\n       <use x=\"63.623047\" xlink:href=\"#DejaVuSans-46\"/>\r\n       <use x=\"95.410156\" xlink:href=\"#DejaVuSans-53\"/>\r\n      </g>\r\n     </g>\r\n    </g>\r\n    <g id=\"ytick_7\">\r\n     <g id=\"line2d_14\">\r\n      <g>\r\n       <use style=\"stroke:#000000;stroke-width:0.8;\" x=\"43.78125\" xlink:href=\"#m7b4b4a8945\" y=\"81.619943\"/>\r\n      </g>\r\n     </g>\r\n     <g id=\"text_15\">\r\n      <!-- 4.0 -->\r\n      <g transform=\"translate(20.878125 85.419162)scale(0.1 -0.1)\">\r\n       <use xlink:href=\"#DejaVuSans-52\"/>\r\n       <use x=\"63.623047\" xlink:href=\"#DejaVuSans-46\"/>\r\n       <use x=\"95.410156\" xlink:href=\"#DejaVuSans-48\"/>\r\n      </g>\r\n     </g>\r\n    </g>\r\n    <g id=\"ytick_8\">\r\n     <g id=\"line2d_15\">\r\n      <g>\r\n       <use style=\"stroke:#000000;stroke-width:0.8;\" x=\"43.78125\" xlink:href=\"#m7b4b4a8945\" y=\"56.910852\"/>\r\n      </g>\r\n     </g>\r\n     <g id=\"text_16\">\r\n      <!-- 4.5 -->\r\n      <g transform=\"translate(20.878125 60.710071)scale(0.1 -0.1)\">\r\n       <use xlink:href=\"#DejaVuSans-52\"/>\r\n       <use x=\"63.623047\" xlink:href=\"#DejaVuSans-46\"/>\r\n       <use x=\"95.410156\" xlink:href=\"#DejaVuSans-53\"/>\r\n      </g>\r\n     </g>\r\n    </g>\r\n    <g id=\"ytick_9\">\r\n     <g id=\"line2d_16\">\r\n      <g>\r\n       <use style=\"stroke:#000000;stroke-width:0.8;\" x=\"43.78125\" xlink:href=\"#m7b4b4a8945\" y=\"32.201761\"/>\r\n      </g>\r\n     </g>\r\n     <g id=\"text_17\">\r\n      <!-- 5.0 -->\r\n      <g transform=\"translate(20.878125 36.00098)scale(0.1 -0.1)\">\r\n       <use xlink:href=\"#DejaVuSans-53\"/>\r\n       <use x=\"63.623047\" xlink:href=\"#DejaVuSans-46\"/>\r\n       <use x=\"95.410156\" xlink:href=\"#DejaVuSans-48\"/>\r\n      </g>\r\n     </g>\r\n    </g>\r\n    <g id=\"text_18\">\r\n     <!-- number -->\r\n     <defs>\r\n      <path d=\"M 54.890625 33.015625 \r\nL 54.890625 0 \r\nL 45.90625 0 \r\nL 45.90625 32.71875 \r\nQ 45.90625 40.484375 42.875 44.328125 \r\nQ 39.84375 48.1875 33.796875 48.1875 \r\nQ 26.515625 48.1875 22.3125 43.546875 \r\nQ 18.109375 38.921875 18.109375 30.90625 \r\nL 18.109375 0 \r\nL 9.078125 0 \r\nL 9.078125 54.6875 \r\nL 18.109375 54.6875 \r\nL 18.109375 46.1875 \r\nQ 21.34375 51.125 25.703125 53.5625 \r\nQ 30.078125 56 35.796875 56 \r\nQ 45.21875 56 50.046875 50.171875 \r\nQ 54.890625 44.34375 54.890625 33.015625 \r\nz\r\n\" id=\"DejaVuSans-110\"/>\r\n      <path d=\"M 8.5 21.578125 \r\nL 8.5 54.6875 \r\nL 17.484375 54.6875 \r\nL 17.484375 21.921875 \r\nQ 17.484375 14.15625 20.5 10.265625 \r\nQ 23.53125 6.390625 29.59375 6.390625 \r\nQ 36.859375 6.390625 41.078125 11.03125 \r\nQ 45.3125 15.671875 45.3125 23.6875 \r\nL 45.3125 54.6875 \r\nL 54.296875 54.6875 \r\nL 54.296875 0 \r\nL 45.3125 0 \r\nL 45.3125 8.40625 \r\nQ 42.046875 3.421875 37.71875 1 \r\nQ 33.40625 -1.421875 27.6875 -1.421875 \r\nQ 18.265625 -1.421875 13.375 4.4375 \r\nQ 8.5 10.296875 8.5 21.578125 \r\nz\r\nM 31.109375 56 \r\nz\r\n\" id=\"DejaVuSans-117\"/>\r\n      <path d=\"M 52 44.1875 \r\nQ 55.375 50.25 60.0625 53.125 \r\nQ 64.75 56 71.09375 56 \r\nQ 79.640625 56 84.28125 50.015625 \r\nQ 88.921875 44.046875 88.921875 33.015625 \r\nL 88.921875 0 \r\nL 79.890625 0 \r\nL 79.890625 32.71875 \r\nQ 79.890625 40.578125 77.09375 44.375 \r\nQ 74.3125 48.1875 68.609375 48.1875 \r\nQ 61.625 48.1875 57.5625 43.546875 \r\nQ 53.515625 38.921875 53.515625 30.90625 \r\nL 53.515625 0 \r\nL 44.484375 0 \r\nL 44.484375 32.71875 \r\nQ 44.484375 40.625 41.703125 44.40625 \r\nQ 38.921875 48.1875 33.109375 48.1875 \r\nQ 26.21875 48.1875 22.15625 43.53125 \r\nQ 18.109375 38.875 18.109375 30.90625 \r\nL 18.109375 0 \r\nL 9.078125 0 \r\nL 9.078125 54.6875 \r\nL 18.109375 54.6875 \r\nL 18.109375 46.1875 \r\nQ 21.1875 51.21875 25.484375 53.609375 \r\nQ 29.78125 56 35.6875 56 \r\nQ 41.65625 56 45.828125 52.96875 \r\nQ 50 49.953125 52 44.1875 \r\nz\r\n\" id=\"DejaVuSans-109\"/>\r\n      <path d=\"M 48.6875 27.296875 \r\nQ 48.6875 37.203125 44.609375 42.84375 \r\nQ 40.53125 48.484375 33.40625 48.484375 \r\nQ 26.265625 48.484375 22.1875 42.84375 \r\nQ 18.109375 37.203125 18.109375 27.296875 \r\nQ 18.109375 17.390625 22.1875 11.75 \r\nQ 26.265625 6.109375 33.40625 6.109375 \r\nQ 40.53125 6.109375 44.609375 11.75 \r\nQ 48.6875 17.390625 48.6875 27.296875 \r\nz\r\nM 18.109375 46.390625 \r\nQ 20.953125 51.265625 25.265625 53.625 \r\nQ 29.59375 56 35.59375 56 \r\nQ 45.5625 56 51.78125 48.09375 \r\nQ 58.015625 40.1875 58.015625 27.296875 \r\nQ 58.015625 14.40625 51.78125 6.484375 \r\nQ 45.5625 -1.421875 35.59375 -1.421875 \r\nQ 29.59375 -1.421875 25.265625 0.953125 \r\nQ 20.953125 3.328125 18.109375 8.203125 \r\nL 18.109375 0 \r\nL 9.078125 0 \r\nL 9.078125 75.984375 \r\nL 18.109375 75.984375 \r\nz\r\n\" id=\"DejaVuSans-98\"/>\r\n     </defs>\r\n     <g transform=\"translate(14.798438 150.552187)rotate(-90)scale(0.1 -0.1)\">\r\n      <use xlink:href=\"#DejaVuSans-110\"/>\r\n      <use x=\"63.378906\" xlink:href=\"#DejaVuSans-117\"/>\r\n      <use x=\"126.757812\" xlink:href=\"#DejaVuSans-109\"/>\r\n      <use x=\"224.169922\" xlink:href=\"#DejaVuSans-98\"/>\r\n      <use x=\"287.646484\" xlink:href=\"#DejaVuSans-101\"/>\r\n      <use x=\"349.169922\" xlink:href=\"#DejaVuSans-114\"/>\r\n     </g>\r\n    </g>\r\n   </g>\r\n   <g id=\"line2d_17\">\r\n    <path clip-path=\"url(#p96574ca95c)\" d=\"M 58.999432 229.874489 \r\nL 135.090341 180.456307 \r\nL 201.035795 131.038125 \r\nL 261.908523 81.619943 \r\nL 363.363068 32.201761 \r\n\" style=\"fill:none;stroke:#1f77b4;stroke-linecap:square;stroke-width:1.5;\"/>\r\n   </g>\r\n   <g id=\"patch_3\">\r\n    <path d=\"M 43.78125 239.758125 \r\nL 43.78125 22.318125 \r\n\" style=\"fill:none;stroke:#000000;stroke-linecap:square;stroke-linejoin:miter;stroke-width:0.8;\"/>\r\n   </g>\r\n   <g id=\"patch_4\">\r\n    <path d=\"M 378.58125 239.758125 \r\nL 378.58125 22.318125 \r\n\" style=\"fill:none;stroke:#000000;stroke-linecap:square;stroke-linejoin:miter;stroke-width:0.8;\"/>\r\n   </g>\r\n   <g id=\"patch_5\">\r\n    <path d=\"M 43.78125 239.758125 \r\nL 378.58125 239.758125 \r\n\" style=\"fill:none;stroke:#000000;stroke-linecap:square;stroke-linejoin:miter;stroke-width:0.8;\"/>\r\n   </g>\r\n   <g id=\"patch_6\">\r\n    <path d=\"M 43.78125 22.318125 \r\nL 378.58125 22.318125 \r\n\" style=\"fill:none;stroke:#000000;stroke-linecap:square;stroke-linejoin:miter;stroke-width:0.8;\"/>\r\n   </g>\r\n   <g id=\"text_19\">\r\n    <!-- price / number -->\r\n    <defs>\r\n     <path id=\"DejaVuSans-32\"/>\r\n     <path d=\"M 25.390625 72.90625 \r\nL 33.6875 72.90625 \r\nL 8.296875 -9.28125 \r\nL 0 -9.28125 \r\nz\r\n\" id=\"DejaVuSans-47\"/>\r\n    </defs>\r\n    <g transform=\"translate(166.995938 16.318125)scale(0.12 -0.12)\">\r\n     <use xlink:href=\"#DejaVuSans-112\"/>\r\n     <use x=\"63.476562\" xlink:href=\"#DejaVuSans-114\"/>\r\n     <use x=\"104.589844\" xlink:href=\"#DejaVuSans-105\"/>\r\n     <use x=\"132.373047\" xlink:href=\"#DejaVuSans-99\"/>\r\n     <use x=\"187.353516\" xlink:href=\"#DejaVuSans-101\"/>\r\n     <use x=\"248.876953\" xlink:href=\"#DejaVuSans-32\"/>\r\n     <use x=\"280.664062\" xlink:href=\"#DejaVuSans-47\"/>\r\n     <use x=\"314.355469\" xlink:href=\"#DejaVuSans-32\"/>\r\n     <use x=\"346.142578\" xlink:href=\"#DejaVuSans-110\"/>\r\n     <use x=\"409.521484\" xlink:href=\"#DejaVuSans-117\"/>\r\n     <use x=\"472.900391\" xlink:href=\"#DejaVuSans-109\"/>\r\n     <use x=\"570.3125\" xlink:href=\"#DejaVuSans-98\"/>\r\n     <use x=\"633.789062\" xlink:href=\"#DejaVuSans-101\"/>\r\n     <use x=\"695.3125\" xlink:href=\"#DejaVuSans-114\"/>\r\n    </g>\r\n   </g>\r\n  </g>\r\n </g>\r\n <defs>\r\n  <clipPath id=\"p96574ca95c\">\r\n   <rect height=\"217.44\" width=\"334.8\" x=\"43.78125\" y=\"22.318125\"/>\r\n  </clipPath>\r\n </defs>\r\n</svg>\r\n",
      "image/png": "[encoded data removed]"
     },
     "metadata": {
      "needs_background": "light"
     }
    }
   ],
   "source": [
    "import matplotlib.pyplot as plt\n",
    "\n",
    "price = [100, 250, 380, 500, 700]\n",
    "number = [1, 2, 3, 4, 5]\n",
    "\n",
    "# グラフを書く\n",
    "plt.plot(price, number)\n",
    "\n",
    "# グラフのタイトル\n",
    "plt.title(\"price / number\")\n",
    "\n",
    "# x軸のラベル\n",
    "plt.xlabel(\"price\")\n",
    "\n",
    "# y軸のラベル\n",
    "plt.ylabel(\"number\")\n",
    "\n",
    "# 表示する\n",
    "plt.show()"
   ]
  },
  {
   "cell_type": "markdown",
   "metadata": {},
   "source": [
    "ソースコードと説明の文章、実行結果をまとめて保存しておくことができるので  \n",
    "データ分析を試行錯誤しながら行うことがとても簡単に行うことができます。"
   ]
  },
  {
   "cell_type": "markdown",
   "metadata": {},
   "source": [
    "## 2.2 python基本文法"
   ]
  },
  {
   "cell_type": "markdown",
   "metadata": {},
   "source": [
    "### 2.2.1 データ構造 \n",
    "Pythonでは数値、文字列、リスト、辞書などの基本的なデータ構造を手軽に扱えます。"
   ]
  },
  {
   "cell_type": "markdown",
   "metadata": {},
   "source": [
    "#### 数値\n",
    "整数と実数の基本的な四則演算が行えます。"
   ]
  },
  {
   "cell_type": "code",
   "execution_count": 13,
   "metadata": {},
   "outputs": [
    {
     "output_type": "execute_result",
     "data": {
      "text/plain": "int"
     },
     "metadata": {},
     "execution_count": 13
    }
   ],
   "source": [
    "a = 1\n",
    "type(a) #整数はint型。type()関数でオブジェクトの型を確認"
   ]
  },
  {
   "cell_type": "code",
   "execution_count": 14,
   "metadata": {},
   "outputs": [
    {
     "output_type": "execute_result",
     "data": {
      "text/plain": "float"
     },
     "metadata": {},
     "execution_count": 14
    }
   ],
   "source": [
    "b = 3.14\n",
    "type(b)#実数はfloat型。"
   ]
  },
  {
   "cell_type": "code",
   "execution_count": 17,
   "metadata": {},
   "outputs": [
    {
     "output_type": "stream",
     "name": "stdout",
     "text": "2\n"
    }
   ],
   "source": [
    "print(1+1)"
   ]
  },
  {
   "cell_type": "code",
   "execution_count": 19,
   "metadata": {},
   "outputs": [
    {
     "output_type": "stream",
     "name": "stdout",
     "text": "4.666666666666667\n"
    }
   ],
   "source": [
    "print(14/3)"
   ]
  },
  {
   "cell_type": "code",
   "execution_count": 21,
   "metadata": {},
   "outputs": [
    {
     "output_type": "stream",
     "name": "stdout",
     "text": "4\n"
    }
   ],
   "source": [
    "print(14//3)"
   ]
  },
  {
   "cell_type": "code",
   "execution_count": 20,
   "metadata": {},
   "outputs": [
    {
     "output_type": "stream",
     "name": "stdout",
     "text": "2\n"
    }
   ],
   "source": [
    "print(14%3)"
   ]
  },
  {
   "cell_type": "markdown",
   "metadata": {},
   "source": [
    "#### 文字列\n",
    "Unicode文字列を表すstr型とバイト列を表すbytes型があります。  \n",
    "文字列操作は基本的にstr型で行い、ファイルやネットワーク越しのデータの読み書きなど  \n",
    "Python以外との境界でbytes型に変換します。"
   ]
  },
  {
   "cell_type": "code",
   "execution_count": 25,
   "metadata": {},
   "outputs": [
    {
     "output_type": "execute_result",
     "data": {
      "text/plain": "str"
     },
     "metadata": {},
     "execution_count": 25
    }
   ],
   "source": [
    "type('abc')#文字列はstr型。<class'str'>  文字列は'または\"で囲う。"
   ]
  },
  {
   "cell_type": "code",
   "execution_count": 26,
   "metadata": {},
   "outputs": [
    {
     "output_type": "stream",
     "name": "stdout",
     "text": "abc\n123\n"
    }
   ],
   "source": [
    "print('abc\\n123')#\\nは改行文字"
   ]
  },
  {
   "cell_type": "markdown",
   "metadata": {},
   "source": [
    "#### リスト \n",
    "\n",
    "複数の値の列をひとまとめに扱うためのデータ型としてリスト(list)があります。  \n",
    "リストは文字列と同じく順序を持ち反復可能な型（シーケンスと呼ばれる）であり  \n",
    "同様の操作をサポートしています。他の言語では配列やArrayと呼ばれるデータ型に対応します。"
   ]
  },
  {
   "cell_type": "code",
   "execution_count": 28,
   "metadata": {},
   "outputs": [
    {
     "output_type": "execute_result",
     "data": {
      "text/plain": "list"
     },
     "metadata": {},
     "execution_count": 28
    }
   ],
   "source": [
    "l = []\n",
    "type(l) #[]でリスト（list型）を得る。"
   ]
  },
  {
   "cell_type": "code",
   "execution_count": 55,
   "metadata": {},
   "outputs": [
    {
     "output_type": "stream",
     "name": "stdout",
     "text": "[1, 2, 3]\n"
    }
   ],
   "source": [
    "l = [1, 2, 3] #値はカンマで区切る。\n",
    "print(l)"
   ]
  },
  {
   "cell_type": "code",
   "execution_count": 56,
   "metadata": {},
   "outputs": [
    {
     "output_type": "stream",
     "name": "stdout",
     "text": "[1, 2, 'Three', 4.0]\n"
    }
   ],
   "source": [
    "l = [1, 2, 'Three',4.0] #任意のオブジェクトを要素として含められる。\n",
    "print(l)"
   ]
  },
  {
   "cell_type": "code",
   "execution_count": 57,
   "metadata": {},
   "outputs": [
    {
     "output_type": "stream",
     "name": "stdout",
     "text": "1\nThree\n"
    }
   ],
   "source": [
    "print(l[0])#[n]でn番目の要素を取得する。\n",
    "print(l[2])"
   ]
  },
  {
   "cell_type": "code",
   "execution_count": 58,
   "metadata": {},
   "outputs": [
    {
     "output_type": "stream",
     "name": "stdout",
     "text": "[2, 'Three']\n"
    }
   ],
   "source": [
    "print(l[1:3])"
   ]
  },
  {
   "cell_type": "code",
   "execution_count": 59,
   "metadata": {},
   "outputs": [
    {
     "output_type": "stream",
     "name": "stdout",
     "text": "4\n"
    }
   ],
   "source": [
    "print(len(l)) # len()関数でリストの長さを取得する。"
   ]
  },
  {
   "cell_type": "code",
   "execution_count": 60,
   "metadata": {},
   "outputs": [
    {
     "output_type": "stream",
     "name": "stdout",
     "text": "[1, 2, 'Three', 4.0, 5, 6]\n"
    }
   ],
   "source": [
    "l = l + [5,6]#+演算子でリスト同士を結合したリストを得る。\n",
    "print(l)"
   ]
  },
  {
   "cell_type": "code",
   "execution_count": 61,
   "metadata": {},
   "outputs": [
    {
     "output_type": "stream",
     "name": "stdout",
     "text": "[1, 2, 'Three', 4.0, 5, 6, 7]\n"
    }
   ],
   "source": [
    "l.append(7)#append()メソッドで値を末尾に追加する。\n",
    "print(l)"
   ]
  },
  {
   "cell_type": "code",
   "execution_count": 62,
   "metadata": {},
   "outputs": [
    {
     "output_type": "stream",
     "name": "stdout",
     "text": "[1, 1.5, 2, 'Three', 4.0, 5, 6, 7]\n"
    }
   ],
   "source": [
    "l.insert(1,1.5)#insert()メソッドで第1引数のインデックスに第2引数の値を挿入する。\n",
    "print(l)"
   ]
  },
  {
   "cell_type": "code",
   "execution_count": 67,
   "metadata": {},
   "outputs": [
    {
     "output_type": "stream",
     "name": "stdout",
     "text": "[1, 2, 'Three', 4.0, 5, 6, 7]\n"
    }
   ],
   "source": [
    "del l[1]#del文で指定したインデックスの要素を削除する。\n",
    "print(l)"
   ]
  },
  {
   "cell_type": "code",
   "execution_count": 71,
   "metadata": {},
   "outputs": [
    {
     "output_type": "execute_result",
     "data": {
      "text/plain": "'Three'"
     },
     "metadata": {},
     "execution_count": 71
    }
   ],
   "source": [
    "l.pop(0)#pop()で指定したインデックスの要素を取得し、リストから削除する。"
   ]
  },
  {
   "cell_type": "code",
   "execution_count": 72,
   "metadata": {},
   "outputs": [
    {
     "output_type": "stream",
     "name": "stdout",
     "text": "[4.0, 5, 6, 7]\n"
    }
   ],
   "source": [
    "print(l)"
   ]
  },
  {
   "cell_type": "code",
   "execution_count": 73,
   "metadata": {},
   "outputs": [
    {
     "output_type": "stream",
     "name": "stdout",
     "text": "['a', 'b', 'c']\n"
    }
   ],
   "source": [
    "s = 'a,b,c'\n",
    "l = s.split(',')\n",
    "print(l)"
   ]
  },
  {
   "cell_type": "code",
   "execution_count": 75,
   "metadata": {},
   "outputs": [
    {
     "output_type": "stream",
     "name": "stdout",
     "text": "a,b,c\n"
    }
   ],
   "source": [
    "s = ','.join(['a','b','c'])#str型のjoin()メソッドでリストを結合した文字列を得る。\n",
    "print(s)"
   ]
  },
  {
   "cell_type": "markdown",
   "metadata": {},
   "source": [
    "### 2.2.2 制御構造と関数・クラス定義\n",
    "\n",
    "Pythonではインデントが大きな意味を持ちます。  \n",
    "Pythonでは読みにくくなることを避けるため  \n",
    "正しくインデントされていないブロックがあるとIndentationErrorというエラーになり実行できません。  \n",
    "インデントを増やす直前の行の末尾には:（コロン）を置きます  \n",
    "制御構造文と関数・クラス定義を書く際に必要になってきます。\n"
   ]
  },
  {
   "cell_type": "markdown",
   "metadata": {},
   "source": [
    "#### if文"
   ]
  },
  {
   "cell_type": "code",
   "execution_count": 81,
   "metadata": {},
   "outputs": [
    {
     "output_type": "error",
     "ename": "IndentationError",
     "evalue": "expected an indented block (<ipython-input-81-0d85b97c7454>, line 3)",
     "traceback": [
      "\u001b[1;36m  File \u001b[1;32m\"<ipython-input-81-0d85b97c7454>\"\u001b[1;36m, line \u001b[1;32m3\u001b[0m\n\u001b[1;33m    print('aは1') # if 文 の 式 が 真 の とき に 実行 さ れる。\u001b[0m\n\u001b[1;37m        ^\u001b[0m\n\u001b[1;31mIndentationError\u001b[0m\u001b[1;31m:\u001b[0m expected an indented block\n"
     ]
    }
   ],
   "source": [
    "a = 5 # if 文 で 処理 を 分岐 できる。 \n",
    "if a == 1:\n",
    "    print('aは1') # if 文 の 式 が 真 の とき に 実行 さ れる。\n",
    "elif a == 2:\n",
    "    print('aは2') # elif 節 の 式 が 真 の とき に 実行 さ れる（ elif 節 は なく ても 良い）。 \n",
    "else:\n",
    "    print('aは1でも2でもない') # どの 条件 にも 当てはまら なかっ た とき に 実行 さ れる（ else 節 は なく ても 良い"
   ]
  },
  {
   "cell_type": "markdown",
   "metadata": {},
   "source": [
    "![](https://github.com/Tomo-Horiuchi/predict_keiba/blob/master/image/1.png?raw=true)"
   ]
  },
  {
   "cell_type": "markdown",
   "metadata": {},
   "source": [
    "#### for文とwhile文による繰り返し処理"
   ]
  },
  {
   "cell_type": "code",
   "execution_count": 82,
   "metadata": {},
   "outputs": [
    {
     "output_type": "stream",
     "name": "stdout",
     "text": "0\n1\n2\n3\n4\n5\n6\n7\n8\n9\n"
    }
   ],
   "source": [
    "for i in range(10):#回数を指定した繰り返しには組み込み関数range()を使う。\n",
    "    print(i)"
   ]
  },
  {
   "cell_type": "code",
   "execution_count": 90,
   "metadata": {},
   "outputs": [
    {
     "output_type": "stream",
     "name": "stdout",
     "text": "1\n2\nThree\n4.0\n5\n6\n7\n"
    }
   ],
   "source": [
    "#変数iにinの右側のリストの要素が順に代入されて、ブロック内の処理が計7回実行される。\n",
    "l = [1, 2, 'Three', 4.0, 5, 6, 7]\n",
    "for i in l:\n",
    "    print(i)"
   ]
  },
  {
   "cell_type": "code",
   "execution_count": 93,
   "metadata": {},
   "outputs": [
    {
     "output_type": "stream",
     "name": "stdout",
     "text": "1\n2\n3\n4\n5\n6\n7\n8\n9\n"
    }
   ],
   "source": [
    "i = 1\n",
    "while i<10:#while文で式が真の間繰り返し処理する。\n",
    "    print(i)\n",
    "    i+=1"
   ]
  },
  {
   "cell_type": "markdown",
   "metadata": {},
   "source": [
    "#### 関数定義"
   ]
  },
  {
   "cell_type": "code",
   "execution_count": 102,
   "metadata": {},
   "outputs": [],
   "source": [
    "#addという名前の関数を定義する。この関数はaとbの2つの引数を取り、加算した値を返す。 \n",
    "def add(a,b):\n",
    "    return a + b #return文で関数の戻り値を返す。 "
   ]
  },
  {
   "cell_type": "code",
   "execution_count": 103,
   "metadata": {},
   "outputs": [
    {
     "output_type": "stream",
     "name": "stdout",
     "text": "3\n"
    }
   ],
   "source": [
    "a = add(1,2)#関数の呼び出しは、関数名の後に括弧で引数を指定する。\n",
    "print(a)#3と表示される。 "
   ]
  },
  {
   "cell_type": "markdown",
   "metadata": {},
   "source": [
    "#### クラス定義"
   ]
  },
  {
   "cell_type": "code",
   "execution_count": 113,
   "metadata": {},
   "outputs": [],
   "source": [
    "#Squareという名前のクラスを定義する。 \n",
    "class Square:\n",
    "    #インスタンスが作成された直後に呼び出される特殊なメソッドを定義する(コンストラクタ)\n",
    "    def __init__(self, width, height):\n",
    "        self.width = width # width 属性 に 値 を 格納 する\n",
    "        self.height = height # height 属性 に 値 を 格納 する。\n",
    "    # 面積 を 計算 する メソッド を 定義 する。 \n",
    "    def area(self):\n",
    "        return self.width*self.height"
   ]
  },
  {
   "cell_type": "code",
   "execution_count": 115,
   "metadata": {},
   "outputs": [
    {
     "output_type": "stream",
     "name": "stdout",
     "text": "<class '__main__.Square'>\n100\n20\n2000\n"
    }
   ],
   "source": [
    "square=Square(100,20)#Rectクラスのインスタンスを作成する。newなどのキーワードは不要。\n",
    "print(type(square))\n",
    "print(square.width) \n",
    "print(square.height)\n",
    "print(square.area())"
   ]
  },
  {
   "cell_type": "markdown",
   "metadata": {},
   "source": [
    "#### 組み込み関数  \n",
    "\n",
    "Pythonにはいくつかの組み込み関数が存在し、特に宣言せずに使えます。  \n",
    "これまでに使ったprint()関数やlen()関数も組み込み関数です。  "
   ]
  },
  {
   "cell_type": "markdown",
   "metadata": {},
   "source": [
    "#### 代表的な組み込み関数\n",
    "![](https://github.com/Tomo-Horiuchi/predict_keiba/blob/master/image/2.png?raw=true)"
   ]
  },
  {
   "cell_type": "markdown",
   "metadata": {},
   "source": [
    "#### モジュール  \n",
    "Pythonには豊富な標準ライブラリが付属しています。Pythonのライブラリはモジュールと呼ばれる単位で管理されます。  \n",
    "モジュールには複数のクラスや関数が含まれます。\n",
    "![](https://github.com/Tomo-Horiuchi/predict_keiba/blob/master/image/3.png?raw=true)"
   ]
  },
  {
   "cell_type": "markdown",
   "metadata": {},
   "source": [
    "#### ライブラリインストール\n",
    "\n",
    "PyPIで公開されているライブラリのインストールにはpipというツールを使用します\n",
    "  \n",
    "pip install ライブラリ 名 でインストールできます\n",
    "\n"
   ]
  },
  {
   "cell_type": "code",
   "execution_count": 3,
   "metadata": {},
   "outputs": [
    {
     "output_type": "stream",
     "name": "stdout",
     "text": "Requirement already satisfied: requests in c:\\users\\info\\appdata\\local\\programs\\python\\python37\\lib\\site-packages (2.22.0)\nRequirement already satisfied: certifi>=2017.4.17 in c:\\users\\info\\appdata\\local\\programs\\python\\python37\\lib\\site-packages (from requests) (2019.9.11)\nRequirement already satisfied: urllib3!=1.25.0,!=1.25.1,<1.26,>=1.21.1 in c:\\users\\info\\appdata\\local\\programs\\python\\python37\\lib\\site-packages (from requests) (1.25.5)\nRequirement already satisfied: idna<2.9,>=2.5 in c:\\users\\info\\appdata\\local\\programs\\python\\python37\\lib\\site-packages (from requests) (2.8)\nRequirement already satisfied: chardet<3.1.0,>=3.0.2 in c:\\users\\info\\appdata\\local\\programs\\python\\python37\\lib\\site-packages (from requests) (3.0.4)\n"
    }
   ],
   "source": [
    "!pip install requests"
   ]
  },
  {
   "cell_type": "markdown",
   "metadata": {},
   "source": [
    "#### インポート文\n",
    "\n",
    "ライブラリをインポートして利用可能にします　　"
   ]
  },
  {
   "cell_type": "code",
   "execution_count": 8,
   "metadata": {},
   "outputs": [
    {
     "output_type": "stream",
     "name": "stdout",
     "text": "2020-04-21 02:50:12.496301\n"
    }
   ],
   "source": [
    "from datetime import datetime\n",
    "date = datetime.now()\n",
    "print(date)"
   ]
  },
  {
   "cell_type": "markdown",
   "metadata": {},
   "source": [
    "# 3 スクレピング・クローリング実践 "
   ]
  },
  {
   "cell_type": "markdown",
   "metadata": {},
   "source": [
    "## 3.1 スクレピング・クローリング注意事項\n",
    "### 3.1.1 著作権について\n",
    "著作物は著作権法によって保護されます。著作権法第2条では  \n",
    "著作物の要件が「思想又は感情を創作的に表現したものであつて  \n",
    "文芸、学術、美術又は音楽の範囲に属するもの」と定められています。  \n",
    "Webページは基本的に著作物であると考えられるます。  \n",
    "#### スクレピング・クローリングにおいて注意が特に必要な権利\n",
    "- 複製権：収集したWebページを保存する権利\n",
    "- 翻案権：収集したWebページから新たな著作物を創造する権利\n",
    "- 公衆送信権：収集したWebページをサーバーから公開する権利  \n",
    "  　 \n",
    "これらの行為には基本的に著作権者の許諾が必要ですが、私的使用の範囲内の複製など、  \n",
    "使用目的によっては著作権者の許諾なく自由に行うことが認められています。  \n",
    "情報解析を目的とした複製や検索エンジンサービスの提供を目的とした複製・翻案・自動公衆送信が、  \n",
    "著作権者の許諾なく行えるようになっています  \n",
    "\n",
    "#### 利用についての一定の条件\n",
    "- 会員のみが閲覧可能なサイトのクロールには著作権者の許諾が必要なこと\n",
    "- robots.txtやrobotsmetaタグで拒否されているページをクロールしないこと\n",
    "- クロールした後に拒否されたことがわかった場合は保存済みの著作物を消去すること\n",
    "- 検索結果では元のWebページにリンクすること検索結果として表示する著作物は必要と認められる限度内であること\n",
    "- 違法コンテンツであることを知った場合は公衆送信をやめること\n",
    "\n",
    "### 3.1.2 サーバーの負荷\n",
    "クローラーを実行する際には、クロール先のWebサイトの負荷を考慮する必要があります。  \n",
    "あなたのクローラーがWebサーバーの処理能力の多くを占めてしまうと、  \n",
    "他の人がそのWebサイトを閲覧できなくなってしまいます。  \n",
    "商用サイトの場合は、業務妨害となる可能性もあります。\n",
    "#### 同時接続数\n",
    "1つのWebサーバーが同時に処理できる接続数は限られているので、  \n",
    "同時接続数を増やすと、それだけあなたのクローラーがWebサーバーの処理能力を専有してしまいます。  \n",
    "出来るだけ数を少なくし処理が終わったら接続を切るようにする。\n",
    "\n",
    "#### リクエスト間隔\n",
    "間隔を空けずに次々とWebページを取得すると相手のサーバーに負荷をかけます。　　\n",
    "常識的なクロールの間隔1秒以上を入れることが望ましいと考えられています。\n",
    "### 3.1.3　robots.txtによる指示\n",
    "robots.txtはWebサイトのトップディレクトリに配置されるテキストファイルです。  \n",
    "例えば、https://www.python.org/ のrobots.txt は https://www.python.org/robots.txt に置かれます。  \n",
    "robots.txtの中身はRobotsExclusionProtocolとして標準化されており、  \n",
    "GoogleやBingなど主要な検索エンジンのクローラーはこの標準に従っていると表明しています。  \n",
    "robots.txtが存在しない場合は、すべてのページのクロールが許可されているとみなします。\n",
    "#### robots.txtのパース  \n",
    "Pythonの標準ライブラリのurllib.robotparserにはrobots.txtをパースするためのRobotFileParserクラスが含まれています。次のようにrobots.txtを簡単に扱えます。\n"
   ]
  },
  {
   "cell_type": "code",
   "execution_count": 18,
   "metadata": {},
   "outputs": [],
   "source": [
    "from urllib.robotparser import RobotFileParser\n",
    "\n",
    "rp = RobotFileParser()\n",
    "rp.set_url('https://www.netkeiba.com/robots.txt')#set_url()でrobots.txtのURLを設定する。\n",
    "rp.read()# read() で robots. txt を 読み込む。 "
   ]
  },
  {
   "cell_type": "code",
   "execution_count": 21,
   "metadata": {},
   "outputs": [
    {
     "output_type": "stream",
     "name": "stdout",
     "text": "None\n"
    }
   ],
   "source": [
    "print(rp.crawl_delay('*'))#クロール間隔表す。"
   ]
  },
  {
   "cell_type": "markdown",
   "metadata": {},
   "source": [
    "数値またはNoneが返される  \n",
    "返された値が数値ならばその秒数分間隔をあけなければならない  \n",
    "今回はNoneであるのでクロール間隔についての指示はない"
   ]
  },
  {
   "cell_type": "code",
   "execution_count": 22,
   "metadata": {},
   "outputs": [
    {
     "output_type": "execute_result",
     "data": {
      "text/plain": "True"
     },
     "metadata": {},
     "execution_count": 22
    }
   ],
   "source": [
    "#そのURLのクロールが許可されているかどうかを取得できる。\n",
    "print(rp.can_fetch('*',\"https://db.netkeiba.com/horse/2017101835/\"))"
   ]
  },
  {
   "cell_type": "markdown",
   "metadata": {},
   "source": [
    "True または Falseが返されます  \n",
    "Trueならばクロールが許可されている  \n",
    "Falseならばクロールは許可されていません"
   ]
  },
  {
   "cell_type": "markdown",
   "metadata": {},
   "source": [
    "## 3.2 スクレピング・クローリングでデータを取得"
   ]
  },
  {
   "cell_type": "markdown",
   "metadata": {},
   "source": [
    "### 3.2.1 RequestsによるWebページの取得\n",
    "Webページを取得するには、ライブラリのRequestsを使います。  \n",
    "HTTPヘッダーの追加やBasic認証など面倒な処理もRequestsには簡単に使えるインターフェイスが用意されています。 "
   ]
  },
  {
   "cell_type": "code",
   "execution_count": 25,
   "metadata": {},
   "outputs": [
    {
     "output_type": "stream",
     "name": "stdout",
     "text": "Requirement already satisfied: requests in c:\\users\\info\\appdata\\local\\programs\\python\\python37\\lib\\site-packages (2.22.0)\nRequirement already satisfied: urllib3!=1.25.0,!=1.25.1,<1.26,>=1.21.1 in c:\\users\\info\\appdata\\local\\programs\\python\\python37\\lib\\site-packages (from requests) (1.25.5)\nRequirement already satisfied: certifi>=2017.4.17 in c:\\users\\info\\appdata\\local\\programs\\python\\python37\\lib\\site-packages (from requests) (2019.9.11)\nRequirement already satisfied: idna<2.9,>=2.5 in c:\\users\\info\\appdata\\local\\programs\\python\\python37\\lib\\site-packages (from requests) (2.8)\nRequirement already satisfied: chardet<3.1.0,>=3.0.2 in c:\\users\\info\\appdata\\local\\programs\\python\\python37\\lib\\site-packages (from requests) (3.0.4)\n"
    }
   ],
   "source": [
    "!pip install requests"
   ]
  },
  {
   "cell_type": "code",
   "execution_count": 26,
   "metadata": {
    "tags": [
     "outputPrepend"
    ]
   },
   "outputs": [],
   "source": [
    "import requests#ライブラリをインポートして利用可能にする。"
   ]
  },
  {
   "cell_type": "code",
   "execution_count": 60,
   "metadata": {},
   "outputs": [],
   "source": [
    "response.encoding = response.apparent_encoding"
   ]
  },
  {
   "cell_type": "code",
   "execution_count": 116,
   "metadata": {},
   "outputs": [],
   "source": [
    "response = requests.get('https://db.netkeiba.com/race/202006030811.html')#get()関数でWebページを取得できる。"
   ]
  },
  {
   "cell_type": "code",
   "execution_count": 117,
   "metadata": {},
   "outputs": [
    {
     "output_type": "stream",
     "name": "stdout",
     "text": "<class 'requests.models.Response'>\n"
    }
   ],
   "source": [
    "print(type(response))#get()関数の戻り値はResponseオブジェクト。"
   ]
  },
  {
   "cell_type": "code",
   "execution_count": 63,
   "metadata": {},
   "outputs": [
    {
     "output_type": "stream",
     "name": "stdout",
     "text": "200\n"
    }
   ],
   "source": [
    "print(response.status_code)#status_code属性でHTTPステータスコードを取得できる。"
   ]
  },
  {
   "cell_type": "code",
   "execution_count": 64,
   "metadata": {},
   "outputs": [
    {
     "output_type": "stream",
     "name": "stdout",
     "text": "text/html\n"
    }
   ],
   "source": [
    "print(response.headers['content-type'])#headers属性でHTTPヘッダーの辞書を取得できる。"
   ]
  },
  {
   "cell_type": "code",
   "execution_count": 65,
   "metadata": {},
   "outputs": [
    {
     "output_type": "stream",
     "name": "stdout",
     "text": "ISO-8859-1\n"
    }
   ],
   "source": [
    "print(response.encoding)#encoding属性でHTTPヘッダーから得られたエンコーディングを取得できる。"
   ]
  },
  {
   "cell_type": "code",
   "execution_count": 206,
   "metadata": {
    "tags": [
     "outputPrepend"
    ]
   },
   "outputs": [
    {
     "output_type": "execute_result",
     "data": {
      "text/plain": "ダカ・ブリーダーズ・ユニオン</a>\\n\\n</td>\\n<td class=\"txt_r\" nowrap=\"nowrap\"></td>\\n</diary_snap_cut>\\n</tr><tr>\\n<td class=\"txt_r\" nowrap=\"nowrap\">15</td>\\n<td class=\"w7ml\" align=\"right\" nowrap=\"nowrap\"><span>7</span></td>\\n<td class=\"txt_r\" nowrap=\"nowrap\">15</td>\\n<td class=\"txt_l\" nowrap=\"nowrap\">\\n<a href=\"/horse/2017105194/\" title=\"ラインベック\" id=\"umalink_202006030811\">ラインベック</a>\\n\\n</td>\\n<td class=\"txt_c\" nowrap=\"nowrap\">牡3</td>\\n<td class=\"txt_c\" nowrap=\"nowrap\">57</td>\\n<td class=\"txt_l\" nowrap=\"nowrap\">\\n<a href=\"/jockey/05203/\" title=\"岩田康誠\">岩田康誠</a>\\n\\n</td>\\n<td class=\"txt_r\" nowrap=\"nowrap\">2:02.4</td>\\n<td class=\"txt_c\" nowrap=\"nowrap\">クビ</td>\\n\\n<diary_snap_cut>\\n<td class=\"speed_index bml\" nowrap=\"nowrap\">\\n\\n\\n</td>\\n<td nowrap=\"nowrap\">6-5-4-7</td>\\n<td class=\"bml\" class=\"txt_c\" nowrap=\"nowrap\"><span>37.1</span></td>\\n</diary_snap_cut>\\n<td class=\"txt_r\" nowrap=\"nowrap\">160.8</td>\\n<td class=\"bml\" align=\"right\" nowrap=\"nowrap\"><span>14</span></td>\\n<td nowrap=\"nowrap\">476(+8)</td>\\n<diary_snap_cut>\\n<td class=\"txt_c\" nowrap=\"nowrap\">\\n<a href=\"/?pid=horse_training&id=2017105194&rid=202006030811\"><img src=\"/style/netkeiba.ja/image/ico_oikiri.gif\" width=\"13\" height=\"13\" border=\"0\" /></a>\\n</td>\\n<td class=\"txt_c\" nowrap=\"nowrap\">\\n<a href=\"/?pid=horse_comment&id=2017105194&rid=202006030811\"><img src=\"/style/netkeiba.ja/image/ico_comment.gif\" width=\"13\" height=\"13\" border=\"0\" /></a>\\n</td>\\n<td nowrap=\"nowrap\">\\n\\n\\n</td>\\n</diary_snap_cut>\\n<td class=\"txt_l\" nowrap=\"nowrap\">\\n[西]\\n<a href=\"/trainer/01061/\" title=\"友道康夫\">友道康夫</a>\\n\\n</td>\\n<diary_snap_cut>\\n<td class=\"txt_l w7ml\" nowrap=\"nowrap\">\\n<a href=\"/owner/708800/\" title=\"金子真人ホールディングス\">金子真人ホールディングス</a>\\n\\n</td>\\n<td class=\"txt_r\" nowrap=\"nowrap\"></td>\\n</diary_snap_cut>\\n</tr><tr>\\n<td class=\"txt_r\" nowrap=\"nowrap\">16</td>\\n<td class=\"w6ml\" align=\"right\" nowrap=\"nowrap\"><span>6</span></td>\\n<td class=\"txt_r\" nowrap=\"nowrap\">11</td>\\n<td class=\"txt_l\" nowrap=\"nowrap\">\\n<a href=\"/horse/2017101299/\" title=\"クリスタルブラック\" id=\"umalink_202006030811\">クリスタルブラック</a>\\n\\n</td>\\n<td class=\"txt_c\" nowrap=\"nowrap\">牡3</td>\\n<td class=\"txt_c\" nowrap=\"nowrap\">57</td>\\n<td class=\"txt_l\" nowrap=\"nowrap\">\\n<a href=\"/jockey/00733/\" title=\"吉田豊\">吉田豊</a>\\n\\n</td>\\n<td class=\"txt_r\" nowrap=\"nowrap\">2:02.5</td>\\n<td class=\"txt_c\" nowrap=\"nowrap\">3/4</td>\\n\\n<diary_snap_cut>\\n<td class=\"speed_index bml\" nowrap=\"nowrap\">\\n\\n\\n</td>\\n<td nowrap=\"nowrap\">17-16-15-13</td>\\n<td class=\"bml\" class=\"txt_c\" nowrap=\"nowrap\"><span>36.4</span></td>\\n</diary_snap_cut>\\n<td class=\"txt_r\" nowrap=\"nowrap\">14.6</td>\\n<td class=\"bml\" align=\"right\" nowrap=\"nowrap\"><span>5</span></td>\\n<td nowrap=\"nowrap\">474(-2)</td>\\n<diary_snap_cut>\\n<td class=\"txt_c\" nowrap=\"nowrap\">\\n<a href=\"/?pid=horse_training&id=2017101299&rid=202006030811\"><img src=\"/style/netkeiba.ja/image/ico_oikiri.gif\" width=\"13\" height=\"13\" border=\"0\" /></a>\\n</td>\\n<td class=\"txt_c\" nowrap=\"nowrap\">\\n<a href=\"/?pid=horse_comment&id=2017101299&rid=202006030811\"><img src=\"/style/netkeiba.ja/image/ico_comment.gif\" width=\"13\" height=\"13\" border=\"0\" /></a>\\n</td>\\n<td nowrap=\"nowrap\">\\n\\n\\n</td>\\n</diary_snap_cut>\\n<td class=\"txt_l\" nowrap=\"nowrap\">\\n[東]\\n<a href=\"/trainer/01134/\" title=\"高橋文雅\">高橋文雅</a>\\n\\n</td>\\n<diary_snap_cut>\\n<td class=\"txt_l w6ml\" nowrap=\"nowrap\">\\n<a href=\"/owner/548009/\" title=\"岡田勇\">岡田勇</a>\\n\\n</td>\\n<td class=\"txt_r\" nowrap=\"nowrap\"></td>\\n</diary_snap_cut>\\n</tr><tr>\\n<td class=\"txt_r\" nowrap=\"nowrap\">17</td>\\n<td class=\"w7ml\" align=\"right\" nowrap=\"nowrap\"><span>7</span></td>\\n<td class=\"txt_r\" nowrap=\"nowrap\">14</td>\\n<td class=\"txt_l\" nowrap=\"nowrap\">\\n<a href=\"/horse/2017101833/\" title=\"キメラヴェリテ\" id=\"umalink_202006030811\">キメラヴェリテ</a>\\n\\n</td>\\n<td class=\"txt_c\" nowrap=\"nowrap\">牡3</td>\\n<td class=\"txt_c\" nowrap=\"nowrap\">57</td>\\n<td class=\"txt_l\" nowrap=\"nowrap\">\\n<a href=\"/jockey/01116/\" title=\"藤岡康太\">藤岡康太</a>\\n\\n</td>\\n<td class=\"txt_r\" nowrap=\"nowrap\">2:02.6</td>\\n<td class=\"txt_c\" nowrap=\"nowrap\">クビ</td>\\n\\n<diary_snap_cut>\\n<td class=\"speed_index bml\" nowrap=\"nowrap\">\\n\\n\\n</td>\\n<td nowrap=\"nowrap\">1-1-1-1</td>\\n<td class=\"bml\" class=\"txt_c\" nowrap=\"nowrap\"><span>37.7</span></td>\\n</diary_snap_cut>\\n<td class=\"txt_r\" nowrap=\"nowrap\">63.5</td>\\n<td class=\"bml\" align=\"right\" nowrap=\"nowrap\"><span>10</span></td>\\n<td nowrap=\"nowrap\">538(0)</td>\\n<diary_snap_cut>\\n<td class=\"txt_c\" nowrap=\"nowrap\">\\n<a href=\"/?pid=horse_training&id=2017101833&rid=202006030811\"><img src=\"/style/netkeiba.ja/image/ico_oikiri.gif\" width=\"13\" height=\"13\" border=\"0\" /></a>\\n</td>\\n<td class=\"txt_c\" nowrap=\"nowrap\">\\n<a href=\"/?pid=horse_comment&id=2017101833&rid=202006030811\"><img src=\"/style/netkeiba.ja/image/ico_comment.gif\" width=\"13\" height=\"13\" border=\"0\" /></a>\\n</td>\\n<td nowrap=\"nowrap\">\\n\\n\\n</td>\\n</diary_snap_cut>\\n<td class=\"txt_l\" nowrap=\"nowrap\">\\n[西]\\n<a href=\"/trainer/01039/\" title=\"中竹和也\">中竹和也</a>\\n\\n</td>\\n<diary_snap_cut>\\n<td class=\"txt_l w7ml\" nowrap=\"nowrap\">\\n<a href=\"/owner/944030/\" title=\"加藤誠\">加藤誠</a>\\n\\n</td>\\n<td class=\"txt_r\" nowrap=\"nowrap\"></td>\\n</diary_snap_cut>\\n</tr><tr>\\n<td class=\"txt_r\" nowrap=\"nowrap\">18</td>\\n<td class=\"w2ml\" align=\"right\" nowrap=\"nowrap\"><span>2</span></td>\\n<td class=\"txt_r\" nowrap=\"nowrap\">4</td>\\n<td class=\"txt_l\" nowrap=\"nowrap\">\\n<a href=\"/horse/2017101755/\" title=\"テンピン\" id=\"umalink_202006030811\">テンピン</a>\\n\\n</td>\\n<td class=\"txt_c\" nowrap=\"nowrap\">牡3</td>\\n<td class=\"txt_c\" nowrap=\"nowrap\">57</td>\\n<td class=\"txt_l\" nowrap=\"nowrap\">\\n<a href=\"/jockey/01141/\" title=\"中井裕二\">中井裕二</a>\\n\\n</td>\\n<td class=\"txt_r\" nowrap=\"nowrap\">2:03.3</td>\\n<td class=\"txt_c\" nowrap=\"nowrap\">4</td>\\n\\n<diary_snap_cut>\\n<td class=\"speed_index bml\" nowrap=\"nowrap\">\\n\\n\\n</td>\\n<td nowrap=\"nowrap\">7-7-10-13</td>\\n<td class=\"bml\" class=\"txt_c\" nowrap=\"nowrap\"><span>37.6</span></td>\\n</diary_snap_cut>\\n<td class=\"txt_r\" nowrap=\"nowrap\">237.4</td>\\n<td class=\"bml\" align=\"right\" nowrap=\"nowrap\"><span>15</span></td>\\n<td nowrap=\"nowrap\">500(-2)</td>\\n<diary_snap_cut>\\n<td class=\"txt_c\" nowrap=\"nowrap\">\\n<a href=\"/?pid=horse_training&id=2017101755&rid=202006030811\"><img src=\"/style/netkeiba.ja/image/ico_oikiri.gif\" width=\"13\" height=\"13\" border=\"0\" /></a>\\n</td>\\n<td class=\"txt_c\" nowrap=\"nowrap\">\\n<a href=\"/?pid=horse_comment&id=2017101755&rid=202006030811\"><img src=\"/style/netkeiba.ja/image/ico_comment.gif\" width=\"13\" height=\"13\" border=\"0\" /></a>\\n</td>\\n<td nowrap=\"nowrap\">\\n\\n\\n</td>\\n</diary_snap_cut>\\n<td class=\"txt_l\" nowrap=\"nowrap\">\\n[西]\\n<a href=\"/trainer/00438/\" title=\"安田隆行\">安田隆行</a>\\n\\n</td>\\n<diary_snap_cut>\\n<td class=\"txt_l w2ml\" nowrap=\"nowrap\">\\n<a href=\"/owner/059700/\" title=\"ユアストーリー\">ユアストーリー</a>\\n\\n</td>\\n<td class=\"txt_r\" nowrap=\"nowrap\"></td>\\n</diary_snap_cut>\\n</tr>\\n</table>\\n\\n</diary_snap>\\n<script type=\"text/javascript\" src=\"/style/netkeiba.ja/js/umalink.js\"></script>\\n<div class=\"diary_snap_write_box\">\\n<p><a href=\"/?pid=diary_snapshot&snap=aHR0cDovL2RiLm5ldGtlaWJhLmNvbS8/cGlkPXJhY2VfZGV0YWlsJmlkPTIwMjAwNjAzMDgxMQ==&meta=race_result\" title=\"ひとこと日記を書く\"><img src=\"https://cdn.netkeiba.com/img.db//style/netkeiba.ja/image/prof_btn_diary_write_01.png\" class=\"imgover\" /></a></p>\\n<p>※このレースについて、日記を書くことができます。</p>\\n</div><!-- /.diary_snap_write_box -->\\n<script type=\"text/javascript\">\\n$(document).on( \\'click\\', \\'#action_regist\\', function(){\\nevent.preventDefault();\\nvar regist_url = \\'https://regist.sp.netkeiba.com/?pid=regist_form&action=nk_input\\';\\nvar callback_url = $(\\'#r_callback\\').val();\\naction_regist(\\'action_nk_regist\\', regist_url, callback_url);\\n});\\nfunction action_regist( modal_id, modal_url, callback_url ) {\\nconsole.log(\\'action_regist(%s,%s,%s)\\', modal_id, modal_url, callback_url);\\n$.colorbox({\\nhref: modal_url,\\niframe: true,\\nopacity: \\'0.5\\',\\nopen: true,\\nscrolling: true,\\nheight: \\'60%\\',\\nmaxWidth: \\'90%\\',\\nwidth: $(window).width() - 60 + \\'px\\',\\nmaxWidth: \\'420px\\',\\noverlayClose: true,\\nescKey: false,\\ncloseButton: true,\\nonComplete : function(){\\n//setHeight();\\n},\\nonClosed : function(){\\n$(\\'#cboxWrapper\\').removeClass(\\'SetModal\\');\\n}\\n});\\nfunction setHeight() {\\nvar ifrObj = document.getElementById(\\'cboxLoadedContent\\').querySelectorAll(\\'iframe\\')[0];\\n$(ifrObj).on(\\'load\\', function() {\\nvar $cBox = $(\\'#colorbox\\');\\nvar boxPositionTop = $cBox.offset().top;\\nvar boxHeight = $cBox.height();\\nvar ifrBody = ifrObj.contentWindow.document.body;\\nvar ifrHeight = ifrBody.scrollHeight;\\nvar movePosition = boxPositionTop + (boxHeight - ifrHeight) / 2;\\n$(\\'#colorbox\\').css(\\'top\\', movePosition +\\'px\\');\\n$(\\'#cboxLoadedContent\\').add(\\'#cboxContent\\').add(\\'#cboxMiddleLeft\\').add(\\'#cboxWrapper\\').add(\\'#colorbox\\').css(\\'height\\', ifrHeight+\\'px\\');\\nsetTimeout(function () {\\n$(\\'#cboxWrapper\\').addClass(\\'SetModal\\');\\n}, 100);\\n});\\n}\\n};\\n$(window).on(\\'message\\', function(event){\\nif (event.originalEvent.origin !== \\'https://regist.sp.netkeiba.com\\' ) return;\\nif (event.originalEvent.data === \\'register_done\\' ) {\\n$.colorbox.close();\\nlocation.reload();\\n}\\n});\\n</script>\\n</div><!-- //id=\"contents_liquid\" -->\\n<div id=\"contents\" class=\"fc\">\\n<div class=\"result_info box_left\">\\n\\n<diary_snap>\\n<dl class=\"pay_block\">\\n<dt><h3>払い戻し</h3></dt>\\n<dd class=\"fc\">\\n<table cellpadding=\"0\" cellspacing=\"1\" class=\"pay_table_01\" summary=\"払い戻し\">\\n<tr>\\n<th class=\"tan\">単勝</th>\\n<td>1</td>\\n<td class=\"txt_r\">270</td>\\n<td class=\"txt_r\">1</td>\\n</tr>\\n<tr>\\n<th class=\"fuku\" align=\"center\">複勝</th>\\n<td>1<br />7<br />16</td>\\n<td class=\"txt_r\">140<br />170<br />690</td>\\n<td class=\"txt_r\">1<br />3<br />9</td>\\n</tr>\\n<tr>\\n<th class=\"waku\" align=\"center\">枠連</th>\\n<td>1 - 4</td>\\n<td class=\"txt_r\">640</td>\\n<td class=\"txt_r\">2</td>\\n</tr>\\n<tr>\\n<th class=\"uren\" align=\"center\">馬連</th>\\n<td>1 - 7</td>\\n<td class=\"txt_r\">660</td>\\n<td class=\"txt_r\">2</td>\\n</tr>\\n</table>\\n<table cellpadding=\"0\" cellspacing=\"1\" class=\"pay_table_01\" summary=\"払い戻し\">\\n<tr>\\n<th class=\"wide\">ワイド</th>\\n<td>1 - 7<br />1 - 16<br />7 - 16</td>\\n<td class=\"txt_r\">330<br />2,250<br />2,610</td>\\n<td class=\"txt_r\">2<br />20<br />24</td>\\n</tr>\\n\\n<tr>\\n<th class=\"utan\">馬単</th>\\n<td>1 → 7</td>\\n<td class=\"txt_r\">1,120</td>\\n<td class=\"txt_r\">3</td>\\n</tr>\\n<tr>\\n<th class=\"sanfuku\">三連複</th>\\n<td>1 - 7 - 16</td>\\n<td class=\"txt_r\">9,150</td>\\n<td class=\"txt_r\">25</td>\\n</tr>\\n<tr>\\n<th class=\"santan\">三連単</th>\\n<td>1 → 7 → 16</td>\\n<td class=\"txt_r\">26,310</td>\\n<td class=\"txt_r\">72</td>\\n</tr>\\n</table>\\n</dd>\\n</dl>\\n</diary_snap>\\n<table width=\"100%\" cellpadding=\"0\" cellspacing=\"0\" class=\"result_table_02\" summary=\"馬場情報\">\\n<caption>馬場情報</caption>\\n<tr>\\n\\n<!-- -->\\n</tr>\\n<tr>\\n\\n<!-- -->\\n</tr>\\n</table>\\n\\n<table width=\"100%\" cellpadding=\"0\" cellspacing=\"0\" class=\"result_table_02\" summary=\"コーナー通過順位\">\\n<caption>コーナー通過順位</caption>\\n<tr>\\n<th>1コーナー</th>\\n<td>14-8,18(6,7)15(4,17)5,3,16(1,12)(2,10,13)(9,11)</td>\\n</tr><tr>\\n<th>2コーナー</th>\\n<td>14-8,18,6-(7,15)(4,17)5,3,16(1,12)-(2,13)(10,11)9</td>\\n</tr><tr>\\n<th>3コーナー</th>\\n<td>14,8,18(6,15)(7,5)(17,12)(4,16)(3,1,13)(10,2,11)-9</td>\\n</tr><tr>\\n<th>4コーナー</th>\\n<td>(*14,8)18(6,7,5)(15,1)(17,16,12)3(4,2,11,13)9,10</td>\\n</tr>\\n</table>\\n<table width=\"100%\" cellpadding=\"0\" cellspacing=\"0\" class=\"result_table_02\" summary=\"ラップタイム\">\\n<caption>ラップタイム</caption>\\n<tr>\\n<th>ラップ</th>\\n<td class=\"race_lap_cell\">12.2 - 11.3 - 12.1 - 11.8 - 12.4 - 12.9 - 12.2 - 11.9 - 11.8 - 12.1</td>\\n</tr>\\n<tr>\\n<th>ペース</th>\\n<td class=\"race_lap_cell\">12.2 - 23.5 - 35.6 - 47.4 - 59.8 - 72.7 - 84.9 - 96.8 - 108.6 - 120.7&nbsp;(35.6-35.8)</td>\\n</tr>\\n</table>\\n</div><!-- /.result_left -->\\n<div class=\"result_info box_right\">\\n\\n<!-- -->\\n\\n<!-- -->\\n</div><!-- /.result_right -->\\n<div class=\"main_ad\">\\n\\n<script language=\"JavaScript\" type=\"text/javascript\">noCacheParam=Math.random()*10000000000;document.write(\\'<scr\\'+\\'ipt type=\"text/javascript\" src=\"https://netdreamersad.durasite.net/A-affiliate2/mobile?site=23&keyword=adnet_nk_db_pic&isJS=true&encoding=EUC-JP&ord=\\' + noCacheParam + \\'\"></scr\\'+\\'ipt>\\');</script>\\n</div><!-- /.main_ad -->\\n</div><!-- /#contents -->\\n</div><!-- /.race_result -->\\n\\n<footer>\\n<div class=\"NkFooterArea\">\\n<div class=\"BtnPagetop\">\\n<a href=\"javascript:void(0)\" title=\"ページトップへ\"></a>\\n</div><!-- /.BtnPagetop -->\\n<script type=\"text/javascript\">\\n$(function() {\\n$(\\'.BtnPagetop a\\').click(function () {\\n$(\\'body,html\\').animate({\\nscrollTop: 0\\n}, 400);\\nreturn false;\\n});\\n});\\n</script>\\n<dl class=\"FootSiteTitle fc\">\\n<dt>\\n<a href=\"https://www.netkeiba.com/?rf=footer\" title=\"netkeiba.com\">\\n<img src=\"https://cdn.netkeiba.com/img.www/style/netkeiba.ja/image/common/netkeiba_logo01.png\" alt=\"netkeiba.com\" />\\n</a>\\n</dt>\\n<dd>\\n<p>利用者数<strong>1000</strong>万人突破！<strong>No.1</strong>競馬サイト</p>\\n</dd>\\n</dl>\\n<div class=\"FootWrap\">\\n<dl class=\"NkFoot01 NkFootCateLink\">\\n<dt>カテゴリ</dt>\\n<dd class=\"fc\">\\n<ul>\\n<li>\\n<a href=\"https://news.netkeiba.com/?rf=footer\" title=\"ニュース\">ニュース</a>\\n</li>\\n<li>\\n<a href=\"https://race.netkeiba.com/top/?rf=footer\" title=\"レース\">レース</a>\\n</li>\\n<li>\\n<a href=\"https://yoso.netkeiba.com/?rf=footer\" title=\"ウマい馬券\">ウマい馬券</a>\\n</li>\\n<li>\\n<a href=\"https://news.netkeiba.com/?pid=column_top&rf=footer\" title=\"コラム\">コラム</a>\\n</li>\\n<li>\\n<a href=\"https://tv.netkeiba.com/?rf=footer\" title=\"netkeibaTV\">netkeibaTV</a>\\n</li>\\n<li>\\n<a href=\"https://oldnar.netkeiba.com/?rf=footer\" title=\"地方競馬\">地方競馬</a>\\n</li>\\n<li>\\n<a href=\"https://db.netkeiba.com/?rf=footer\" title=\"データベース\">データベース</a>\\n</li>\\n<li>\\n<a href=\"https://books.netkeiba.com/?rf=footer\" title=\"ブックス\">ブックス</a>\\n</li>\\n</ul>\\n<ul>\\n<li>\\n<a href=\"https://orepro.netkeiba.com/?rf=footer\" title=\"俺プロ\">俺プロ</a>\\n</li>\\n<li>\\n<a href=\"https://owner.netkeiba.com/?rf=footer\" title=\"一口馬主\">一口馬主</a>\\n</li>\\n<li>\\n<a href=\"https://pog.netkeiba.com/?rf=footer\" title=\"POG\">POG</a>\\n</li>\\n<li>\\n<a href=\"https://bbs.pc.keiba.findfriends.jp/?rf=footer\" title=\"競馬広場\">競馬広場</a>\\n</li>\\n<li>\\n<a href=\"https://dir.netkeiba.com/keibamatome/index.html?rf=footer\" title=\"まとめ\">まとめ</a>\\n</li>\\n<li>\\n<a href=\"https://www.netkeiba.com/paper/?rf=footer\" title=\"競馬新聞\">競馬新聞</a>\\n</li>\\n<li>\\n<a href=\"https://race.netkeiba.com/bookmark/bookmark.html?rf=footer\" title=\"お気に入り馬\">お気に入り馬</a>\\n</li>\\n<li>\\n<a href=\"https://regist.netkeiba.com/?rf=footer\" title=\"アカウント\">アカウント</a>\\n</li>\\n</ul>\\n</dd>\\n</dl>\\n<dl class=\"NkFoot01\">\\n<dt>ヘルプ＆ガイド</dt>\\n<dd>\\n<ul>\\n<li>\\n<a href=\"https://info.netkeiba.com/?rf=footer\" title=\"お知らせ\">お知らせ</a>\\n</li>\\n<li>\\n<a href=\"https://regist.netkeiba.com/?pid=premium&rf=footer\" title=\"プレミアムサービスのご案内\">プレミアムサービスのご案内</a>\\n</li>\\n<li>\\n<a href=\"https://regist.netkeiba.com/?pid=help&rf=footer\" title=\"よくある質問・お問い合わせ\">よくある質問・お問い合わせ</a>\\n</li>\\n</ul>\\n</dd>\\n</dl>\\n<dl class=\"NkFoot01\">\\n<dt>netkeiba.comについて</dt>\\n<dd>\\n<ul>\\n<li>\\n<a href=\"https://www.netkeiba.com/recruit/?rf=footer\" title=\"採用情報\">採用情報</a>\\n</li>\\n<li>\\n<a href=\"https://www.netkeiba.com/info/ad/?rf=footer\" title=\"広告掲載について\">広告掲載について</a>\\n</li>\\n<li>\\n<a href=\"https://www.netkeiba.com/info/kiyaku.html?rf=footer\" title=\"利用規約\">利用規約</a>\\n</li>\\n<li>\\n<a href=\"https://www.netdreamers.co.jp/company/about/privacy.html?rf=footer\" title=\"プライバシーポリシー\">プライバシーポリシー</a>\\n</li>\\n<li>\\n<a href=\"https://www.netkeiba.com/info/guide.html?rf=footer\" title=\"投稿ガイドライン\">投稿ガイドライン</a>\\n</li>\\n<li>\\n<a href=\"https://www.netkeiba.com/info/tokusyo.html?rf=footer\" title=\"特定商取引法に基づく表記\">特定商取引法に基づく表記</a>\\n</li>\\n<li>\\n<a href=\"https://www.netdreamers.co.jp/?rf=footer\" title=\"運営会社\">運営会社</a>\\n</li>\\n</ul>\\n</dd>\\n</dl>\\n<dl class=\"NkFoot01\">\\n<dt>スマホでnetkeiba</dt>\\n<dd class=\"SpNkInfoImg\">\\n<img src=\"https://cdn.netkeiba.com/img.www/style/netkeiba.ja/image/common/img_nk_searchimg01.png\" alt=\"検索\" class=\"SearchImg01\" />\\n<img src=\"https://cdn.netkeiba.com/img.www/style/netkeiba.ja/image/common/img_nk_qr01.png\" alt=\"バーコード\" class=\"QrImg01\" />\\n</dd>\\n<dt>アプリでサクサクnetkeiba</dt>\\n<dd>\\n<ul class=\"AprStoreList fc\">\\n<li>\\n<a href=\"https://itunes.apple.com/jp/app/id464562684/\" title=\"Appstore\"><img src=\"https://cdn.netkeiba.com/img.www/style/netkeiba.ja/image/common/bnr_appstore_01.png\" alt=\"Appstore\" class=\"\" /></a>\\n</li>\\n<li>\\n<a href=\"https://play.google.com/store/apps/details?id=jp.co.netdreamers.netkeiba\" title=\"googleplay\"><img src=\"https://cdn.netkeiba.com/img.www/style/netkeiba.ja/image/common/bnr_googleplay_01.png\" alt=\"googleplay\" class=\"\" /></a>\\n</li>\\n</ul>\\n</dd>\\n<dd class=\"Nk_Sns\">\\n<ul class=\"fc\">\\n<li>\\n<a href=\"https://twitter.com/netkeiba\" title=\"公式 Twitter\" class=\"Tw\"></a>\\n</li>\\n<li>\\n<a href=\"https://ja-jp.facebook.com/netkeiba\" title=\"公式 Facebook\" class=\"Fb\"></a>\\n</li>\\n<li>\\n<a href=\"https://line.me/R/ti/p/%40oa-netkeiba\" title=\"LINE\" class=\"Line\"></a>\\n</li>\\n<li>\\n<a href=\"http://www.youtube.com/user/netkeibaTV\" title=\"netkeibaチャンネル\" class=\"Yt\"></a>\\n</li>\\n<li>\\n<a href=\"https://www.instagram.com/netkeiba/\" title=\"Instagram\" class=\"Ig\"></a>\\n</li>\\n<li>\\n<a href=\"https://www.netkeiba.com/?pid=rss\" title=\"RSS\" class=\"Rss\"></a>\\n</li>\\n</ul>\\n</dd>\\n</dl>\\n</div><!-- /.FootWrap -->\\n</div><!-- /.NkFooterArea -->\\n<div class=\"GlobalFooterArea\">\\n<div class=\"FootWrap\">\\n<dl class=\"NkFoot02\">\\n<dt class=\"GfootIcon01 IconGame01\">netkeiba.com 公式競馬ゲーム</dt>\\n<dd>\\n<ul>\\n<li>\\n<a href=\"https://chiki.netkeiba.com/?rf=footer\" target=\\'_blank\\' title=\"チキチキダービー\">目指せ最強オーナー！ <strong>チキチキダービー</strong></a>\\n</li>\\n<li>\\n<a href=\"https://derby.pzga.jp/?rf=footer\" target=\\'_blank\\' title=\"パズルダービー\">爽快！競馬パズルゲーム <strong>パズルダービー</strong></a>\\n</li>\\n<li>\\n<a href=\"https://www.netkeiba.com/game/umasta.html?rf=footer\" target=\\'_blank\\' title=\"うまいるスタジアム\">みんなの愛馬とバトル！ <strong>うまいるスタジアム</strong></a>\\n</li>\\n</ul>\\n</dd>\\n</dl>\\n<dl class=\"NkFoot02\">\\n<dt class=\"GfootIcon01 IconMedia01\">関連メディア</dt>\\n<dd>\\n<ul>\\n<li>\\n<a href=\"https://sp.baseball.findfriends.jp/?rf=footer\" target=\\'_blank\\' title=\"週刊ベースボールONLINE\">徹底取材！野球情報は <strong>週刊ベースボールONLINE</strong></a>\\n</li>\\n<li>\\n<a href=\"https://sp.golf.findfriends.jp/?rf=footer\" target=\\'_blank\\' title=\"ワッグルオンライン\">ゴルフレッスン情報サイト <strong>ワッグルオンライン</strong></a>\\n</li>\\n<li>\\n<a href=\"https://recipe.sp.findfriends.jp/?rf=footer\" target=\\'_blank\\' title=\"KATSUYOレシピ\">小林カツ代直伝！ <strong>KATSUYOレシピ</strong></a>\\n</li>\\n<li>\\n<a href=\"https://sp.findfriends.jp/?rf=footer\" target=\\'_blank\\' title=\"Find\">趣味でつながる総合掲示板コミュニティ <strong>Find</strong></a>\\n</li>\\n</ul>\\n</dd>\\n</dl>\\n<dl class=\"NkFoot02\">\\n<dt class=\"GfootIcon01 IconSoftware01\">ソフトウェア・プロダクト</dt>\\n<dd>\\n<ul>\\n<li>\\n<a href=\"https://smart.lets-ktai.jp/?rf=footer\" target=\\'_blank\\' title=\"SMART会員証\">もっともセキュアな店舗売上向上アプリ <strong>SMART会員証</strong></a>\\n</li>\\n<li>\\n<a href=\"https://lets-ktai.jp/?rf=footer\" target=\\'_blank\\' title=\"Let\\'sケータイ！\">スマホサイト制作ASP <strong>Let\\'sケータイ！</strong></a>\\n</li>\\n<li>\\n<a href=\"https://webspiral.jp/?rf=footer\" target=\\'_blank\\' title=\"WEB SPIRAL\">サイト運営を劇的に効率化するCMS <strong>WEB SPIRAL</strong></a>\\n</li>\\n</ul>\\n</dd>\\n</dl>\\n</div><!-- /.FootWrap -->\\n<p class=\"CopyRight\">\\n<small>&copy; Net Dreamers Co., Ltd.</small>\\n</p>\\n</div><!-- /.GlobalFooterArea -->\\n</footer>\\n<!-- Google Tag Manager -->\\n<noscript><iframe src=\"//www.googletagmanager.com/ns.html?id=GTM-K6PJT6\"\\nheight=\"0\" width=\"0\" style=\"display:none;visibility:hidden\"></iframe></noscript>\\n<script>(function(w,d,s,l,i){w[l]=w[l]||[];w[l].push({\\'gtm.start\\':\\nnew Date().getTime(),event:\\'gtm.js\\'});var f=d.getElementsByTagName(s)[0],\\nj=d.createElement(s),dl=l!=\\'dataLayer\\'?\\'&l=\\'+l:\\'\\';j.async=true;j.src=\\n\\'//www.googletagmanager.com/gtm.js?id=\\'+i+dl;f.parentNode.insertBefore(j,f);\\n})(window,document,\\'script\\',\\'dataLayer\\',\\'GTM-K6PJT6\\');</script>\\n<!-- End Google Tag Manager -->\\n<!--\\n<script src=\"https://genieedmp.com/dmp.js?c=3335\"></script>\\n-->\\n</div><!-- / #page -->\\n\\n<script language=\"JavaScript\" type=\"text/javascript\">noCacheParam=Math.random()*10000000000;document.write(\\'<scr\\'+\\'ipt type=\"text/javascript\" src=\"https://netdreamersad.durasite.net/A-affiliate2/mobile?site=23&keyword=pc_nk_overlay&isJS=true&encoding=EUC-JP&ord=\\' + noCacheParam + \\'\"></scr\\'+\\'ipt>\\');</script>\\n</body>\\n</html>'"
     },
     "metadata": {},
     "execution_count": 206
    }
   ],
   "source": [
    "response.text#text属性でstr型にデコードしたレスポンスボディを取得できる。"
   ]
  },
  {
   "cell_type": "code",
   "execution_count": 118,
   "metadata": {},
   "outputs": [],
   "source": [
    "response.encoding = response.apparent_encoding #エンコードを変更"
   ]
  },
  {
   "cell_type": "code",
   "execution_count": 155,
   "metadata": {
    "tags": [
     "outputPrepend"
    ]
   },
   "outputs": [
    {
     "output_type": "execute_result",
     "data": {
      "text/plain": "ダカ・ブリーダーズ・ユニオン</a>\\n\\n</td>\\n<td class=\"txt_r\" nowrap=\"nowrap\"></td>\\n</diary_snap_cut>\\n</tr><tr>\\n<td class=\"txt_r\" nowrap=\"nowrap\">15</td>\\n<td class=\"w7ml\" align=\"right\" nowrap=\"nowrap\"><span>7</span></td>\\n<td class=\"txt_r\" nowrap=\"nowrap\">15</td>\\n<td class=\"txt_l\" nowrap=\"nowrap\">\\n<a href=\"/horse/2017105194/\" title=\"ラインベック\" id=\"umalink_202006030811\">ラインベック</a>\\n\\n</td>\\n<td class=\"txt_c\" nowrap=\"nowrap\">牡3</td>\\n<td class=\"txt_c\" nowrap=\"nowrap\">57</td>\\n<td class=\"txt_l\" nowrap=\"nowrap\">\\n<a href=\"/jockey/05203/\" title=\"岩田康誠\">岩田康誠</a>\\n\\n</td>\\n<td class=\"txt_r\" nowrap=\"nowrap\">2:02.4</td>\\n<td class=\"txt_c\" nowrap=\"nowrap\">クビ</td>\\n\\n<diary_snap_cut>\\n<td class=\"speed_index bml\" nowrap=\"nowrap\">\\n\\n\\n</td>\\n<td nowrap=\"nowrap\">6-5-4-7</td>\\n<td class=\"bml\" class=\"txt_c\" nowrap=\"nowrap\"><span>37.1</span></td>\\n</diary_snap_cut>\\n<td class=\"txt_r\" nowrap=\"nowrap\">160.8</td>\\n<td class=\"bml\" align=\"right\" nowrap=\"nowrap\"><span>14</span></td>\\n<td nowrap=\"nowrap\">476(+8)</td>\\n<diary_snap_cut>\\n<td class=\"txt_c\" nowrap=\"nowrap\">\\n<a href=\"/?pid=horse_training&id=2017105194&rid=202006030811\"><img src=\"/style/netkeiba.ja/image/ico_oikiri.gif\" width=\"13\" height=\"13\" border=\"0\" /></a>\\n</td>\\n<td class=\"txt_c\" nowrap=\"nowrap\">\\n<a href=\"/?pid=horse_comment&id=2017105194&rid=202006030811\"><img src=\"/style/netkeiba.ja/image/ico_comment.gif\" width=\"13\" height=\"13\" border=\"0\" /></a>\\n</td>\\n<td nowrap=\"nowrap\">\\n\\n\\n</td>\\n</diary_snap_cut>\\n<td class=\"txt_l\" nowrap=\"nowrap\">\\n[西]\\n<a href=\"/trainer/01061/\" title=\"友道康夫\">友道康夫</a>\\n\\n</td>\\n<diary_snap_cut>\\n<td class=\"txt_l w7ml\" nowrap=\"nowrap\">\\n<a href=\"/owner/708800/\" title=\"金子真人ホールディングス\">金子真人ホールディングス</a>\\n\\n</td>\\n<td class=\"txt_r\" nowrap=\"nowrap\"></td>\\n</diary_snap_cut>\\n</tr><tr>\\n<td class=\"txt_r\" nowrap=\"nowrap\">16</td>\\n<td class=\"w6ml\" align=\"right\" nowrap=\"nowrap\"><span>6</span></td>\\n<td class=\"txt_r\" nowrap=\"nowrap\">11</td>\\n<td class=\"txt_l\" nowrap=\"nowrap\">\\n<a href=\"/horse/2017101299/\" title=\"クリスタルブラック\" id=\"umalink_202006030811\">クリスタルブラック</a>\\n\\n</td>\\n<td class=\"txt_c\" nowrap=\"nowrap\">牡3</td>\\n<td class=\"txt_c\" nowrap=\"nowrap\">57</td>\\n<td class=\"txt_l\" nowrap=\"nowrap\">\\n<a href=\"/jockey/00733/\" title=\"吉田豊\">吉田豊</a>\\n\\n</td>\\n<td class=\"txt_r\" nowrap=\"nowrap\">2:02.5</td>\\n<td class=\"txt_c\" nowrap=\"nowrap\">3/4</td>\\n\\n<diary_snap_cut>\\n<td class=\"speed_index bml\" nowrap=\"nowrap\">\\n\\n\\n</td>\\n<td nowrap=\"nowrap\">17-16-15-13</td>\\n<td class=\"bml\" class=\"txt_c\" nowrap=\"nowrap\"><span>36.4</span></td>\\n</diary_snap_cut>\\n<td class=\"txt_r\" nowrap=\"nowrap\">14.6</td>\\n<td class=\"bml\" align=\"right\" nowrap=\"nowrap\"><span>5</span></td>\\n<td nowrap=\"nowrap\">474(-2)</td>\\n<diary_snap_cut>\\n<td class=\"txt_c\" nowrap=\"nowrap\">\\n<a href=\"/?pid=horse_training&id=2017101299&rid=202006030811\"><img src=\"/style/netkeiba.ja/image/ico_oikiri.gif\" width=\"13\" height=\"13\" border=\"0\" /></a>\\n</td>\\n<td class=\"txt_c\" nowrap=\"nowrap\">\\n<a href=\"/?pid=horse_comment&id=2017101299&rid=202006030811\"><img src=\"/style/netkeiba.ja/image/ico_comment.gif\" width=\"13\" height=\"13\" border=\"0\" /></a>\\n</td>\\n<td nowrap=\"nowrap\">\\n\\n\\n</td>\\n</diary_snap_cut>\\n<td class=\"txt_l\" nowrap=\"nowrap\">\\n[東]\\n<a href=\"/trainer/01134/\" title=\"高橋文雅\">高橋文雅</a>\\n\\n</td>\\n<diary_snap_cut>\\n<td class=\"txt_l w6ml\" nowrap=\"nowrap\">\\n<a href=\"/owner/548009/\" title=\"岡田勇\">岡田勇</a>\\n\\n</td>\\n<td class=\"txt_r\" nowrap=\"nowrap\"></td>\\n</diary_snap_cut>\\n</tr><tr>\\n<td class=\"txt_r\" nowrap=\"nowrap\">17</td>\\n<td class=\"w7ml\" align=\"right\" nowrap=\"nowrap\"><span>7</span></td>\\n<td class=\"txt_r\" nowrap=\"nowrap\">14</td>\\n<td class=\"txt_l\" nowrap=\"nowrap\">\\n<a href=\"/horse/2017101833/\" title=\"キメラヴェリテ\" id=\"umalink_202006030811\">キメラヴェリテ</a>\\n\\n</td>\\n<td class=\"txt_c\" nowrap=\"nowrap\">牡3</td>\\n<td class=\"txt_c\" nowrap=\"nowrap\">57</td>\\n<td class=\"txt_l\" nowrap=\"nowrap\">\\n<a href=\"/jockey/01116/\" title=\"藤岡康太\">藤岡康太</a>\\n\\n</td>\\n<td class=\"txt_r\" nowrap=\"nowrap\">2:02.6</td>\\n<td class=\"txt_c\" nowrap=\"nowrap\">クビ</td>\\n\\n<diary_snap_cut>\\n<td class=\"speed_index bml\" nowrap=\"nowrap\">\\n\\n\\n</td>\\n<td nowrap=\"nowrap\">1-1-1-1</td>\\n<td class=\"bml\" class=\"txt_c\" nowrap=\"nowrap\"><span>37.7</span></td>\\n</diary_snap_cut>\\n<td class=\"txt_r\" nowrap=\"nowrap\">63.5</td>\\n<td class=\"bml\" align=\"right\" nowrap=\"nowrap\"><span>10</span></td>\\n<td nowrap=\"nowrap\">538(0)</td>\\n<diary_snap_cut>\\n<td class=\"txt_c\" nowrap=\"nowrap\">\\n<a href=\"/?pid=horse_training&id=2017101833&rid=202006030811\"><img src=\"/style/netkeiba.ja/image/ico_oikiri.gif\" width=\"13\" height=\"13\" border=\"0\" /></a>\\n</td>\\n<td class=\"txt_c\" nowrap=\"nowrap\">\\n<a href=\"/?pid=horse_comment&id=2017101833&rid=202006030811\"><img src=\"/style/netkeiba.ja/image/ico_comment.gif\" width=\"13\" height=\"13\" border=\"0\" /></a>\\n</td>\\n<td nowrap=\"nowrap\">\\n\\n\\n</td>\\n</diary_snap_cut>\\n<td class=\"txt_l\" nowrap=\"nowrap\">\\n[西]\\n<a href=\"/trainer/01039/\" title=\"中竹和也\">中竹和也</a>\\n\\n</td>\\n<diary_snap_cut>\\n<td class=\"txt_l w7ml\" nowrap=\"nowrap\">\\n<a href=\"/owner/944030/\" title=\"加藤誠\">加藤誠</a>\\n\\n</td>\\n<td class=\"txt_r\" nowrap=\"nowrap\"></td>\\n</diary_snap_cut>\\n</tr><tr>\\n<td class=\"txt_r\" nowrap=\"nowrap\">18</td>\\n<td class=\"w2ml\" align=\"right\" nowrap=\"nowrap\"><span>2</span></td>\\n<td class=\"txt_r\" nowrap=\"nowrap\">4</td>\\n<td class=\"txt_l\" nowrap=\"nowrap\">\\n<a href=\"/horse/2017101755/\" title=\"テンピン\" id=\"umalink_202006030811\">テンピン</a>\\n\\n</td>\\n<td class=\"txt_c\" nowrap=\"nowrap\">牡3</td>\\n<td class=\"txt_c\" nowrap=\"nowrap\">57</td>\\n<td class=\"txt_l\" nowrap=\"nowrap\">\\n<a href=\"/jockey/01141/\" title=\"中井裕二\">中井裕二</a>\\n\\n</td>\\n<td class=\"txt_r\" nowrap=\"nowrap\">2:03.3</td>\\n<td class=\"txt_c\" nowrap=\"nowrap\">4</td>\\n\\n<diary_snap_cut>\\n<td class=\"speed_index bml\" nowrap=\"nowrap\">\\n\\n\\n</td>\\n<td nowrap=\"nowrap\">7-7-10-13</td>\\n<td class=\"bml\" class=\"txt_c\" nowrap=\"nowrap\"><span>37.6</span></td>\\n</diary_snap_cut>\\n<td class=\"txt_r\" nowrap=\"nowrap\">237.4</td>\\n<td class=\"bml\" align=\"right\" nowrap=\"nowrap\"><span>15</span></td>\\n<td nowrap=\"nowrap\">500(-2)</td>\\n<diary_snap_cut>\\n<td class=\"txt_c\" nowrap=\"nowrap\">\\n<a href=\"/?pid=horse_training&id=2017101755&rid=202006030811\"><img src=\"/style/netkeiba.ja/image/ico_oikiri.gif\" width=\"13\" height=\"13\" border=\"0\" /></a>\\n</td>\\n<td class=\"txt_c\" nowrap=\"nowrap\">\\n<a href=\"/?pid=horse_comment&id=2017101755&rid=202006030811\"><img src=\"/style/netkeiba.ja/image/ico_comment.gif\" width=\"13\" height=\"13\" border=\"0\" /></a>\\n</td>\\n<td nowrap=\"nowrap\">\\n\\n\\n</td>\\n</diary_snap_cut>\\n<td class=\"txt_l\" nowrap=\"nowrap\">\\n[西]\\n<a href=\"/trainer/00438/\" title=\"安田隆行\">安田隆行</a>\\n\\n</td>\\n<diary_snap_cut>\\n<td class=\"txt_l w2ml\" nowrap=\"nowrap\">\\n<a href=\"/owner/059700/\" title=\"ユアストーリー\">ユアストーリー</a>\\n\\n</td>\\n<td class=\"txt_r\" nowrap=\"nowrap\"></td>\\n</diary_snap_cut>\\n</tr>\\n</table>\\n\\n</diary_snap>\\n<script type=\"text/javascript\" src=\"/style/netkeiba.ja/js/umalink.js\"></script>\\n<div class=\"diary_snap_write_box\">\\n<p><a href=\"/?pid=diary_snapshot&snap=aHR0cDovL2RiLm5ldGtlaWJhLmNvbS8/cGlkPXJhY2VfZGV0YWlsJmlkPTIwMjAwNjAzMDgxMQ==&meta=race_result\" title=\"ひとこと日記を書く\"><img src=\"https://cdn.netkeiba.com/img.db//style/netkeiba.ja/image/prof_btn_diary_write_01.png\" class=\"imgover\" /></a></p>\\n<p>※このレースについて、日記を書くことができます。</p>\\n</div><!-- /.diary_snap_write_box -->\\n<script type=\"text/javascript\">\\n$(document).on( \\'click\\', \\'#action_regist\\', function(){\\nevent.preventDefault();\\nvar regist_url = \\'https://regist.sp.netkeiba.com/?pid=regist_form&action=nk_input\\';\\nvar callback_url = $(\\'#r_callback\\').val();\\naction_regist(\\'action_nk_regist\\', regist_url, callback_url);\\n});\\nfunction action_regist( modal_id, modal_url, callback_url ) {\\nconsole.log(\\'action_regist(%s,%s,%s)\\', modal_id, modal_url, callback_url);\\n$.colorbox({\\nhref: modal_url,\\niframe: true,\\nopacity: \\'0.5\\',\\nopen: true,\\nscrolling: true,\\nheight: \\'60%\\',\\nmaxWidth: \\'90%\\',\\nwidth: $(window).width() - 60 + \\'px\\',\\nmaxWidth: \\'420px\\',\\noverlayClose: true,\\nescKey: false,\\ncloseButton: true,\\nonComplete : function(){\\n//setHeight();\\n},\\nonClosed : function(){\\n$(\\'#cboxWrapper\\').removeClass(\\'SetModal\\');\\n}\\n});\\nfunction setHeight() {\\nvar ifrObj = document.getElementById(\\'cboxLoadedContent\\').querySelectorAll(\\'iframe\\')[0];\\n$(ifrObj).on(\\'load\\', function() {\\nvar $cBox = $(\\'#colorbox\\');\\nvar boxPositionTop = $cBox.offset().top;\\nvar boxHeight = $cBox.height();\\nvar ifrBody = ifrObj.contentWindow.document.body;\\nvar ifrHeight = ifrBody.scrollHeight;\\nvar movePosition = boxPositionTop + (boxHeight - ifrHeight) / 2;\\n$(\\'#colorbox\\').css(\\'top\\', movePosition +\\'px\\');\\n$(\\'#cboxLoadedContent\\').add(\\'#cboxContent\\').add(\\'#cboxMiddleLeft\\').add(\\'#cboxWrapper\\').add(\\'#colorbox\\').css(\\'height\\', ifrHeight+\\'px\\');\\nsetTimeout(function () {\\n$(\\'#cboxWrapper\\').addClass(\\'SetModal\\');\\n}, 100);\\n});\\n}\\n};\\n$(window).on(\\'message\\', function(event){\\nif (event.originalEvent.origin !== \\'https://regist.sp.netkeiba.com\\' ) return;\\nif (event.originalEvent.data === \\'register_done\\' ) {\\n$.colorbox.close();\\nlocation.reload();\\n}\\n});\\n</script>\\n</div><!-- //id=\"contents_liquid\" -->\\n<div id=\"contents\" class=\"fc\">\\n<div class=\"result_info box_left\">\\n\\n<diary_snap>\\n<dl class=\"pay_block\">\\n<dt><h3>払い戻し</h3></dt>\\n<dd class=\"fc\">\\n<table cellpadding=\"0\" cellspacing=\"1\" class=\"pay_table_01\" summary=\"払い戻し\">\\n<tr>\\n<th class=\"tan\">単勝</th>\\n<td>1</td>\\n<td class=\"txt_r\">270</td>\\n<td class=\"txt_r\">1</td>\\n</tr>\\n<tr>\\n<th class=\"fuku\" align=\"center\">複勝</th>\\n<td>1<br />7<br />16</td>\\n<td class=\"txt_r\">140<br />170<br />690</td>\\n<td class=\"txt_r\">1<br />3<br />9</td>\\n</tr>\\n<tr>\\n<th class=\"waku\" align=\"center\">枠連</th>\\n<td>1 - 4</td>\\n<td class=\"txt_r\">640</td>\\n<td class=\"txt_r\">2</td>\\n</tr>\\n<tr>\\n<th class=\"uren\" align=\"center\">馬連</th>\\n<td>1 - 7</td>\\n<td class=\"txt_r\">660</td>\\n<td class=\"txt_r\">2</td>\\n</tr>\\n</table>\\n<table cellpadding=\"0\" cellspacing=\"1\" class=\"pay_table_01\" summary=\"払い戻し\">\\n<tr>\\n<th class=\"wide\">ワイド</th>\\n<td>1 - 7<br />1 - 16<br />7 - 16</td>\\n<td class=\"txt_r\">330<br />2,250<br />2,610</td>\\n<td class=\"txt_r\">2<br />20<br />24</td>\\n</tr>\\n\\n<tr>\\n<th class=\"utan\">馬単</th>\\n<td>1 → 7</td>\\n<td class=\"txt_r\">1,120</td>\\n<td class=\"txt_r\">3</td>\\n</tr>\\n<tr>\\n<th class=\"sanfuku\">三連複</th>\\n<td>1 - 7 - 16</td>\\n<td class=\"txt_r\">9,150</td>\\n<td class=\"txt_r\">25</td>\\n</tr>\\n<tr>\\n<th class=\"santan\">三連単</th>\\n<td>1 → 7 → 16</td>\\n<td class=\"txt_r\">26,310</td>\\n<td class=\"txt_r\">72</td>\\n</tr>\\n</table>\\n</dd>\\n</dl>\\n</diary_snap>\\n<table width=\"100%\" cellpadding=\"0\" cellspacing=\"0\" class=\"result_table_02\" summary=\"馬場情報\">\\n<caption>馬場情報</caption>\\n<tr>\\n\\n<!-- -->\\n</tr>\\n<tr>\\n\\n<!-- -->\\n</tr>\\n</table>\\n\\n<table width=\"100%\" cellpadding=\"0\" cellspacing=\"0\" class=\"result_table_02\" summary=\"コーナー通過順位\">\\n<caption>コーナー通過順位</caption>\\n<tr>\\n<th>1コーナー</th>\\n<td>14-8,18(6,7)15(4,17)5,3,16(1,12)(2,10,13)(9,11)</td>\\n</tr><tr>\\n<th>2コーナー</th>\\n<td>14-8,18,6-(7,15)(4,17)5,3,16(1,12)-(2,13)(10,11)9</td>\\n</tr><tr>\\n<th>3コーナー</th>\\n<td>14,8,18(6,15)(7,5)(17,12)(4,16)(3,1,13)(10,2,11)-9</td>\\n</tr><tr>\\n<th>4コーナー</th>\\n<td>(*14,8)18(6,7,5)(15,1)(17,16,12)3(4,2,11,13)9,10</td>\\n</tr>\\n</table>\\n<table width=\"100%\" cellpadding=\"0\" cellspacing=\"0\" class=\"result_table_02\" summary=\"ラップタイム\">\\n<caption>ラップタイム</caption>\\n<tr>\\n<th>ラップ</th>\\n<td class=\"race_lap_cell\">12.2 - 11.3 - 12.1 - 11.8 - 12.4 - 12.9 - 12.2 - 11.9 - 11.8 - 12.1</td>\\n</tr>\\n<tr>\\n<th>ペース</th>\\n<td class=\"race_lap_cell\">12.2 - 23.5 - 35.6 - 47.4 - 59.8 - 72.7 - 84.9 - 96.8 - 108.6 - 120.7&nbsp;(35.6-35.8)</td>\\n</tr>\\n</table>\\n</div><!-- /.result_left -->\\n<div class=\"result_info box_right\">\\n\\n<!-- -->\\n\\n<!-- -->\\n</div><!-- /.result_right -->\\n<div class=\"main_ad\">\\n\\n<script language=\"JavaScript\" type=\"text/javascript\">noCacheParam=Math.random()*10000000000;document.write(\\'<scr\\'+\\'ipt type=\"text/javascript\" src=\"https://netdreamersad.durasite.net/A-affiliate2/mobile?site=23&keyword=adnet_nk_db_pic&isJS=true&encoding=EUC-JP&ord=\\' + noCacheParam + \\'\"></scr\\'+\\'ipt>\\');</script>\\n</div><!-- /.main_ad -->\\n</div><!-- /#contents -->\\n</div><!-- /.race_result -->\\n\\n<footer>\\n<div class=\"NkFooterArea\">\\n<div class=\"BtnPagetop\">\\n<a href=\"javascript:void(0)\" title=\"ページトップへ\"></a>\\n</div><!-- /.BtnPagetop -->\\n<script type=\"text/javascript\">\\n$(function() {\\n$(\\'.BtnPagetop a\\').click(function () {\\n$(\\'body,html\\').animate({\\nscrollTop: 0\\n}, 400);\\nreturn false;\\n});\\n});\\n</script>\\n<dl class=\"FootSiteTitle fc\">\\n<dt>\\n<a href=\"https://www.netkeiba.com/?rf=footer\" title=\"netkeiba.com\">\\n<img src=\"https://cdn.netkeiba.com/img.www/style/netkeiba.ja/image/common/netkeiba_logo01.png\" alt=\"netkeiba.com\" />\\n</a>\\n</dt>\\n<dd>\\n<p>利用者数<strong>1000</strong>万人突破！<strong>No.1</strong>競馬サイト</p>\\n</dd>\\n</dl>\\n<div class=\"FootWrap\">\\n<dl class=\"NkFoot01 NkFootCateLink\">\\n<dt>カテゴリ</dt>\\n<dd class=\"fc\">\\n<ul>\\n<li>\\n<a href=\"https://news.netkeiba.com/?rf=footer\" title=\"ニュース\">ニュース</a>\\n</li>\\n<li>\\n<a href=\"https://race.netkeiba.com/top/?rf=footer\" title=\"レース\">レース</a>\\n</li>\\n<li>\\n<a href=\"https://yoso.netkeiba.com/?rf=footer\" title=\"ウマい馬券\">ウマい馬券</a>\\n</li>\\n<li>\\n<a href=\"https://news.netkeiba.com/?pid=column_top&rf=footer\" title=\"コラム\">コラム</a>\\n</li>\\n<li>\\n<a href=\"https://tv.netkeiba.com/?rf=footer\" title=\"netkeibaTV\">netkeibaTV</a>\\n</li>\\n<li>\\n<a href=\"https://oldnar.netkeiba.com/?rf=footer\" title=\"地方競馬\">地方競馬</a>\\n</li>\\n<li>\\n<a href=\"https://db.netkeiba.com/?rf=footer\" title=\"データベース\">データベース</a>\\n</li>\\n<li>\\n<a href=\"https://books.netkeiba.com/?rf=footer\" title=\"ブックス\">ブックス</a>\\n</li>\\n</ul>\\n<ul>\\n<li>\\n<a href=\"https://orepro.netkeiba.com/?rf=footer\" title=\"俺プロ\">俺プロ</a>\\n</li>\\n<li>\\n<a href=\"https://owner.netkeiba.com/?rf=footer\" title=\"一口馬主\">一口馬主</a>\\n</li>\\n<li>\\n<a href=\"https://pog.netkeiba.com/?rf=footer\" title=\"POG\">POG</a>\\n</li>\\n<li>\\n<a href=\"https://bbs.pc.keiba.findfriends.jp/?rf=footer\" title=\"競馬広場\">競馬広場</a>\\n</li>\\n<li>\\n<a href=\"https://dir.netkeiba.com/keibamatome/index.html?rf=footer\" title=\"まとめ\">まとめ</a>\\n</li>\\n<li>\\n<a href=\"https://www.netkeiba.com/paper/?rf=footer\" title=\"競馬新聞\">競馬新聞</a>\\n</li>\\n<li>\\n<a href=\"https://race.netkeiba.com/bookmark/bookmark.html?rf=footer\" title=\"お気に入り馬\">お気に入り馬</a>\\n</li>\\n<li>\\n<a href=\"https://regist.netkeiba.com/?rf=footer\" title=\"アカウント\">アカウント</a>\\n</li>\\n</ul>\\n</dd>\\n</dl>\\n<dl class=\"NkFoot01\">\\n<dt>ヘルプ＆ガイド</dt>\\n<dd>\\n<ul>\\n<li>\\n<a href=\"https://info.netkeiba.com/?rf=footer\" title=\"お知らせ\">お知らせ</a>\\n</li>\\n<li>\\n<a href=\"https://regist.netkeiba.com/?pid=premium&rf=footer\" title=\"プレミアムサービスのご案内\">プレミアムサービスのご案内</a>\\n</li>\\n<li>\\n<a href=\"https://regist.netkeiba.com/?pid=help&rf=footer\" title=\"よくある質問・お問い合わせ\">よくある質問・お問い合わせ</a>\\n</li>\\n</ul>\\n</dd>\\n</dl>\\n<dl class=\"NkFoot01\">\\n<dt>netkeiba.comについて</dt>\\n<dd>\\n<ul>\\n<li>\\n<a href=\"https://www.netkeiba.com/recruit/?rf=footer\" title=\"採用情報\">採用情報</a>\\n</li>\\n<li>\\n<a href=\"https://www.netkeiba.com/info/ad/?rf=footer\" title=\"広告掲載について\">広告掲載について</a>\\n</li>\\n<li>\\n<a href=\"https://www.netkeiba.com/info/kiyaku.html?rf=footer\" title=\"利用規約\">利用規約</a>\\n</li>\\n<li>\\n<a href=\"https://www.netdreamers.co.jp/company/about/privacy.html?rf=footer\" title=\"プライバシーポリシー\">プライバシーポリシー</a>\\n</li>\\n<li>\\n<a href=\"https://www.netkeiba.com/info/guide.html?rf=footer\" title=\"投稿ガイドライン\">投稿ガイドライン</a>\\n</li>\\n<li>\\n<a href=\"https://www.netkeiba.com/info/tokusyo.html?rf=footer\" title=\"特定商取引法に基づく表記\">特定商取引法に基づく表記</a>\\n</li>\\n<li>\\n<a href=\"https://www.netdreamers.co.jp/?rf=footer\" title=\"運営会社\">運営会社</a>\\n</li>\\n</ul>\\n</dd>\\n</dl>\\n<dl class=\"NkFoot01\">\\n<dt>スマホでnetkeiba</dt>\\n<dd class=\"SpNkInfoImg\">\\n<img src=\"https://cdn.netkeiba.com/img.www/style/netkeiba.ja/image/common/img_nk_searchimg01.png\" alt=\"検索\" class=\"SearchImg01\" />\\n<img src=\"https://cdn.netkeiba.com/img.www/style/netkeiba.ja/image/common/img_nk_qr01.png\" alt=\"バーコード\" class=\"QrImg01\" />\\n</dd>\\n<dt>アプリでサクサクnetkeiba</dt>\\n<dd>\\n<ul class=\"AprStoreList fc\">\\n<li>\\n<a href=\"https://itunes.apple.com/jp/app/id464562684/\" title=\"Appstore\"><img src=\"https://cdn.netkeiba.com/img.www/style/netkeiba.ja/image/common/bnr_appstore_01.png\" alt=\"Appstore\" class=\"\" /></a>\\n</li>\\n<li>\\n<a href=\"https://play.google.com/store/apps/details?id=jp.co.netdreamers.netkeiba\" title=\"googleplay\"><img src=\"https://cdn.netkeiba.com/img.www/style/netkeiba.ja/image/common/bnr_googleplay_01.png\" alt=\"googleplay\" class=\"\" /></a>\\n</li>\\n</ul>\\n</dd>\\n<dd class=\"Nk_Sns\">\\n<ul class=\"fc\">\\n<li>\\n<a href=\"https://twitter.com/netkeiba\" title=\"公式 Twitter\" class=\"Tw\"></a>\\n</li>\\n<li>\\n<a href=\"https://ja-jp.facebook.com/netkeiba\" title=\"公式 Facebook\" class=\"Fb\"></a>\\n</li>\\n<li>\\n<a href=\"https://line.me/R/ti/p/%40oa-netkeiba\" title=\"LINE\" class=\"Line\"></a>\\n</li>\\n<li>\\n<a href=\"http://www.youtube.com/user/netkeibaTV\" title=\"netkeibaチャンネル\" class=\"Yt\"></a>\\n</li>\\n<li>\\n<a href=\"https://www.instagram.com/netkeiba/\" title=\"Instagram\" class=\"Ig\"></a>\\n</li>\\n<li>\\n<a href=\"https://www.netkeiba.com/?pid=rss\" title=\"RSS\" class=\"Rss\"></a>\\n</li>\\n</ul>\\n</dd>\\n</dl>\\n</div><!-- /.FootWrap -->\\n</div><!-- /.NkFooterArea -->\\n<div class=\"GlobalFooterArea\">\\n<div class=\"FootWrap\">\\n<dl class=\"NkFoot02\">\\n<dt class=\"GfootIcon01 IconGame01\">netkeiba.com 公式競馬ゲーム</dt>\\n<dd>\\n<ul>\\n<li>\\n<a href=\"https://chiki.netkeiba.com/?rf=footer\" target=\\'_blank\\' title=\"チキチキダービー\">目指せ最強オーナー！ <strong>チキチキダービー</strong></a>\\n</li>\\n<li>\\n<a href=\"https://derby.pzga.jp/?rf=footer\" target=\\'_blank\\' title=\"パズルダービー\">爽快！競馬パズルゲーム <strong>パズルダービー</strong></a>\\n</li>\\n<li>\\n<a href=\"https://www.netkeiba.com/game/umasta.html?rf=footer\" target=\\'_blank\\' title=\"うまいるスタジアム\">みんなの愛馬とバトル！ <strong>うまいるスタジアム</strong></a>\\n</li>\\n</ul>\\n</dd>\\n</dl>\\n<dl class=\"NkFoot02\">\\n<dt class=\"GfootIcon01 IconMedia01\">関連メディア</dt>\\n<dd>\\n<ul>\\n<li>\\n<a href=\"https://sp.baseball.findfriends.jp/?rf=footer\" target=\\'_blank\\' title=\"週刊ベースボールONLINE\">徹底取材！野球情報は <strong>週刊ベースボールONLINE</strong></a>\\n</li>\\n<li>\\n<a href=\"https://sp.golf.findfriends.jp/?rf=footer\" target=\\'_blank\\' title=\"ワッグルオンライン\">ゴルフレッスン情報サイト <strong>ワッグルオンライン</strong></a>\\n</li>\\n<li>\\n<a href=\"https://recipe.sp.findfriends.jp/?rf=footer\" target=\\'_blank\\' title=\"KATSUYOレシピ\">小林カツ代直伝！ <strong>KATSUYOレシピ</strong></a>\\n</li>\\n<li>\\n<a href=\"https://sp.findfriends.jp/?rf=footer\" target=\\'_blank\\' title=\"Find\">趣味でつながる総合掲示板コミュニティ <strong>Find</strong></a>\\n</li>\\n</ul>\\n</dd>\\n</dl>\\n<dl class=\"NkFoot02\">\\n<dt class=\"GfootIcon01 IconSoftware01\">ソフトウェア・プロダクト</dt>\\n<dd>\\n<ul>\\n<li>\\n<a href=\"https://smart.lets-ktai.jp/?rf=footer\" target=\\'_blank\\' title=\"SMART会員証\">もっともセキュアな店舗売上向上アプリ <strong>SMART会員証</strong></a>\\n</li>\\n<li>\\n<a href=\"https://lets-ktai.jp/?rf=footer\" target=\\'_blank\\' title=\"Let\\'sケータイ！\">スマホサイト制作ASP <strong>Let\\'sケータイ！</strong></a>\\n</li>\\n<li>\\n<a href=\"https://webspiral.jp/?rf=footer\" target=\\'_blank\\' title=\"WEB SPIRAL\">サイト運営を劇的に効率化するCMS <strong>WEB SPIRAL</strong></a>\\n</li>\\n</ul>\\n</dd>\\n</dl>\\n</div><!-- /.FootWrap -->\\n<p class=\"CopyRight\">\\n<small>&copy; Net Dreamers Co., Ltd.</small>\\n</p>\\n</div><!-- /.GlobalFooterArea -->\\n</footer>\\n<!-- Google Tag Manager -->\\n<noscript><iframe src=\"//www.googletagmanager.com/ns.html?id=GTM-K6PJT6\"\\nheight=\"0\" width=\"0\" style=\"display:none;visibility:hidden\"></iframe></noscript>\\n<script>(function(w,d,s,l,i){w[l]=w[l]||[];w[l].push({\\'gtm.start\\':\\nnew Date().getTime(),event:\\'gtm.js\\'});var f=d.getElementsByTagName(s)[0],\\nj=d.createElement(s),dl=l!=\\'dataLayer\\'?\\'&l=\\'+l:\\'\\';j.async=true;j.src=\\n\\'//www.googletagmanager.com/gtm.js?id=\\'+i+dl;f.parentNode.insertBefore(j,f);\\n})(window,document,\\'script\\',\\'dataLayer\\',\\'GTM-K6PJT6\\');</script>\\n<!-- End Google Tag Manager -->\\n<!--\\n<script src=\"https://genieedmp.com/dmp.js?c=3335\"></script>\\n-->\\n</div><!-- / #page -->\\n\\n<script language=\"JavaScript\" type=\"text/javascript\">noCacheParam=Math.random()*10000000000;document.write(\\'<scr\\'+\\'ipt type=\"text/javascript\" src=\"https://netdreamersad.durasite.net/A-affiliate2/mobile?site=23&keyword=pc_nk_overlay&isJS=true&encoding=EUC-JP&ord=\\' + noCacheParam + \\'\"></scr\\'+\\'ipt>\\');</script>\\n</body>\\n</html>'"
     },
     "metadata": {},
     "execution_count": 155
    }
   ],
   "source": [
    "response.text"
   ]
  },
  {
   "cell_type": "markdown",
   "metadata": {},
   "source": [
    "### 3.2.2 BeautifulSoupによるスクレイピング\n",
    "#### 基本文法"
   ]
  },
  {
   "cell_type": "code",
   "execution_count": 74,
   "metadata": {},
   "outputs": [
    {
     "output_type": "stream",
     "name": "stdout",
     "text": "Requirement already satisfied: beautifulsoup4 in c:\\users\\info\\appdata\\local\\programs\\python\\python37\\lib\\site-packages (4.9.0)\nRequirement already satisfied: soupsieve>1.2 in c:\\users\\info\\appdata\\local\\programs\\python\\python37\\lib\\site-packages (from beautifulsoup4) (2.0)\n"
    }
   ],
   "source": [
    "!pip install beautifulsoup4"
   ]
  },
  {
   "cell_type": "code",
   "execution_count": 207,
   "metadata": {},
   "outputs": [],
   "source": [
    "from bs4 import BeautifulSoup #bs4モジュールからBeautifulSoupクラスをインポートする。 \n",
    "soup = BeautifulSoup(response.text, 'html.parser')# "
   ]
  },
  {
   "cell_type": "code",
   "execution_count": 208,
   "metadata": {},
   "outputs": [
    {
     "output_type": "execute_result",
     "data": {
      "text/plain": "owrap\"><span>37.2</span></td>\n</diary_snap_cut>\n<td class=\"txt_r\" nowrap=\"nowrap\">81.2</td>\n<td align=\"right\" class=\"bml\" nowrap=\"nowrap\"><span>11</span></td>\n<td nowrap=\"nowrap\">464(+4)</td>\n<diary_snap_cut>\n<td class=\"txt_c\" nowrap=\"nowrap\">\n<a href=\"/?pid=horse_training&amp;id=2017103572&amp;rid=202006030811\"><img border=\"0\" height=\"13\" src=\"/style/netkeiba.ja/image/ico_oikiri.gif\" width=\"13\"/></a>\n</td>\n<td class=\"txt_c\" nowrap=\"nowrap\">\n<a href=\"/?pid=horse_comment&amp;id=2017103572&amp;rid=202006030811\"><img border=\"0\" height=\"13\" src=\"/style/netkeiba.ja/image/ico_comment.gif\" width=\"13\"/></a>\n</td>\n<td nowrap=\"nowrap\">\n</td>\n</diary_snap_cut>\n<td class=\"txt_l\" nowrap=\"nowrap\">\n[東]\n<a href=\"/trainer/01020/\" title=\"相沢郁\">相沢郁</a>\n</td>\n<diary_snap_cut>\n<td class=\"txt_l w8ml\" nowrap=\"nowrap\">\n<a href=\"/owner/547800/\" title=\"ヒダカ・ブリーダーズ・ユニオン\">ヒダカ・ブリーダーズ・ユニオン</a>\n</td>\n<td class=\"txt_r\" nowrap=\"nowrap\"></td>\n</diary_snap_cut>\n</tr><tr>\n<td class=\"txt_r\" nowrap=\"nowrap\">15</td>\n<td align=\"right\" class=\"w7ml\" nowrap=\"nowrap\"><span>7</span></td>\n<td class=\"txt_r\" nowrap=\"nowrap\">15</td>\n<td class=\"txt_l\" nowrap=\"nowrap\">\n<a href=\"/horse/2017105194/\" id=\"umalink_202006030811\" title=\"ラインベック\">ラインベック</a>\n</td>\n<td class=\"txt_c\" nowrap=\"nowrap\">牡3</td>\n<td class=\"txt_c\" nowrap=\"nowrap\">57</td>\n<td class=\"txt_l\" nowrap=\"nowrap\">\n<a href=\"/jockey/05203/\" title=\"岩田康誠\">岩田康誠</a>\n</td>\n<td class=\"txt_r\" nowrap=\"nowrap\">2:02.4</td>\n<td class=\"txt_c\" nowrap=\"nowrap\">クビ</td>\n<diary_snap_cut>\n<td class=\"speed_index bml\" nowrap=\"nowrap\">\n</td>\n<td nowrap=\"nowrap\">6-5-4-7</td>\n<td class=\"txt_c\" nowrap=\"nowrap\"><span>37.1</span></td>\n</diary_snap_cut>\n<td class=\"txt_r\" nowrap=\"nowrap\">160.8</td>\n<td align=\"right\" class=\"bml\" nowrap=\"nowrap\"><span>14</span></td>\n<td nowrap=\"nowrap\">476(+8)</td>\n<diary_snap_cut>\n<td class=\"txt_c\" nowrap=\"nowrap\">\n<a href=\"/?pid=horse_training&amp;id=2017105194&amp;rid=202006030811\"><img border=\"0\" height=\"13\" src=\"/style/netkeiba.ja/image/ico_oikiri.gif\" width=\"13\"/></a>\n</td>\n<td class=\"txt_c\" nowrap=\"nowrap\">\n<a href=\"/?pid=horse_comment&amp;id=2017105194&amp;rid=202006030811\"><img border=\"0\" height=\"13\" src=\"/style/netkeiba.ja/image/ico_comment.gif\" width=\"13\"/></a>\n</td>\n<td nowrap=\"nowrap\">\n</td>\n</diary_snap_cut>\n<td class=\"txt_l\" nowrap=\"nowrap\">\n[西]\n<a href=\"/trainer/01061/\" title=\"友道康夫\">友道康夫</a>\n</td>\n<diary_snap_cut>\n<td class=\"txt_l w7ml\" nowrap=\"nowrap\">\n<a href=\"/owner/708800/\" title=\"金子真人ホールディングス\">金子真人ホールディングス</a>\n</td>\n<td class=\"txt_r\" nowrap=\"nowrap\"></td>\n</diary_snap_cut>\n</tr><tr>\n<td class=\"txt_r\" nowrap=\"nowrap\">16</td>\n<td align=\"right\" class=\"w6ml\" nowrap=\"nowrap\"><span>6</span></td>\n<td class=\"txt_r\" nowrap=\"nowrap\">11</td>\n<td class=\"txt_l\" nowrap=\"nowrap\">\n<a href=\"/horse/2017101299/\" id=\"umalink_202006030811\" title=\"クリスタルブラック\">クリスタルブラック</a>\n</td>\n<td class=\"txt_c\" nowrap=\"nowrap\">牡3</td>\n<td class=\"txt_c\" nowrap=\"nowrap\">57</td>\n<td class=\"txt_l\" nowrap=\"nowrap\">\n<a href=\"/jockey/00733/\" title=\"吉田豊\">吉田豊</a>\n</td>\n<td class=\"txt_r\" nowrap=\"nowrap\">2:02.5</td>\n<td class=\"txt_c\" nowrap=\"nowrap\">3/4</td>\n<diary_snap_cut>\n<td class=\"speed_index bml\" nowrap=\"nowrap\">\n</td>\n<td nowrap=\"nowrap\">17-16-15-13</td>\n<td class=\"txt_c\" nowrap=\"nowrap\"><span>36.4</span></td>\n</diary_snap_cut>\n<td class=\"txt_r\" nowrap=\"nowrap\">14.6</td>\n<td align=\"right\" class=\"bml\" nowrap=\"nowrap\"><span>5</span></td>\n<td nowrap=\"nowrap\">474(-2)</td>\n<diary_snap_cut>\n<td class=\"txt_c\" nowrap=\"nowrap\">\n<a href=\"/?pid=horse_training&amp;id=2017101299&amp;rid=202006030811\"><img border=\"0\" height=\"13\" src=\"/style/netkeiba.ja/image/ico_oikiri.gif\" width=\"13\"/></a>\n</td>\n<td class=\"txt_c\" nowrap=\"nowrap\">\n<a href=\"/?pid=horse_comment&amp;id=2017101299&amp;rid=202006030811\"><img border=\"0\" height=\"13\" src=\"/style/netkeiba.ja/image/ico_comment.gif\" width=\"13\"/></a>\n</td>\n<td nowrap=\"nowrap\">\n</td>\n</diary_snap_cut>\n<td class=\"txt_l\" nowrap=\"nowrap\">\n[東]\n<a href=\"/trainer/01134/\" title=\"高橋文雅\">高橋文雅</a>\n</td>\n<diary_snap_cut>\n<td class=\"txt_l w6ml\" nowrap=\"nowrap\">\n<a href=\"/owner/548009/\" title=\"岡田勇\">岡田勇</a>\n</td>\n<td class=\"txt_r\" nowrap=\"nowrap\"></td>\n</diary_snap_cut>\n</tr><tr>\n<td class=\"txt_r\" nowrap=\"nowrap\">17</td>\n<td align=\"right\" class=\"w7ml\" nowrap=\"nowrap\"><span>7</span></td>\n<td class=\"txt_r\" nowrap=\"nowrap\">14</td>\n<td class=\"txt_l\" nowrap=\"nowrap\">\n<a href=\"/horse/2017101833/\" id=\"umalink_202006030811\" title=\"キメラヴェリテ\">キメラヴェリテ</a>\n</td>\n<td class=\"txt_c\" nowrap=\"nowrap\">牡3</td>\n<td class=\"txt_c\" nowrap=\"nowrap\">57</td>\n<td class=\"txt_l\" nowrap=\"nowrap\">\n<a href=\"/jockey/01116/\" title=\"藤岡康太\">藤岡康太</a>\n</td>\n<td class=\"txt_r\" nowrap=\"nowrap\">2:02.6</td>\n<td class=\"txt_c\" nowrap=\"nowrap\">クビ</td>\n<diary_snap_cut>\n<td class=\"speed_index bml\" nowrap=\"nowrap\">\n</td>\n<td nowrap=\"nowrap\">1-1-1-1</td>\n<td class=\"txt_c\" nowrap=\"nowrap\"><span>37.7</span></td>\n</diary_snap_cut>\n<td class=\"txt_r\" nowrap=\"nowrap\">63.5</td>\n<td align=\"right\" class=\"bml\" nowrap=\"nowrap\"><span>10</span></td>\n<td nowrap=\"nowrap\">538(0)</td>\n<diary_snap_cut>\n<td class=\"txt_c\" nowrap=\"nowrap\">\n<a href=\"/?pid=horse_training&amp;id=2017101833&amp;rid=202006030811\"><img border=\"0\" height=\"13\" src=\"/style/netkeiba.ja/image/ico_oikiri.gif\" width=\"13\"/></a>\n</td>\n<td class=\"txt_c\" nowrap=\"nowrap\">\n<a href=\"/?pid=horse_comment&amp;id=2017101833&amp;rid=202006030811\"><img border=\"0\" height=\"13\" src=\"/style/netkeiba.ja/image/ico_comment.gif\" width=\"13\"/></a>\n</td>\n<td nowrap=\"nowrap\">\n</td>\n</diary_snap_cut>\n<td class=\"txt_l\" nowrap=\"nowrap\">\n[西]\n<a href=\"/trainer/01039/\" title=\"中竹和也\">中竹和也</a>\n</td>\n<diary_snap_cut>\n<td class=\"txt_l w7ml\" nowrap=\"nowrap\">\n<a href=\"/owner/944030/\" title=\"加藤誠\">加藤誠</a>\n</td>\n<td class=\"txt_r\" nowrap=\"nowrap\"></td>\n</diary_snap_cut>\n</tr><tr>\n<td class=\"txt_r\" nowrap=\"nowrap\">18</td>\n<td align=\"right\" class=\"w2ml\" nowrap=\"nowrap\"><span>2</span></td>\n<td class=\"txt_r\" nowrap=\"nowrap\">4</td>\n<td class=\"txt_l\" nowrap=\"nowrap\">\n<a href=\"/horse/2017101755/\" id=\"umalink_202006030811\" title=\"テンピン\">テンピン</a>\n</td>\n<td class=\"txt_c\" nowrap=\"nowrap\">牡3</td>\n<td class=\"txt_c\" nowrap=\"nowrap\">57</td>\n<td class=\"txt_l\" nowrap=\"nowrap\">\n<a href=\"/jockey/01141/\" title=\"中井裕二\">中井裕二</a>\n</td>\n<td class=\"txt_r\" nowrap=\"nowrap\">2:03.3</td>\n<td class=\"txt_c\" nowrap=\"nowrap\">4</td>\n<diary_snap_cut>\n<td class=\"speed_index bml\" nowrap=\"nowrap\">\n</td>\n<td nowrap=\"nowrap\">7-7-10-13</td>\n<td class=\"txt_c\" nowrap=\"nowrap\"><span>37.6</span></td>\n</diary_snap_cut>\n<td class=\"txt_r\" nowrap=\"nowrap\">237.4</td>\n<td align=\"right\" class=\"bml\" nowrap=\"nowrap\"><span>15</span></td>\n<td nowrap=\"nowrap\">500(-2)</td>\n<diary_snap_cut>\n<td class=\"txt_c\" nowrap=\"nowrap\">\n<a href=\"/?pid=horse_training&amp;id=2017101755&amp;rid=202006030811\"><img border=\"0\" height=\"13\" src=\"/style/netkeiba.ja/image/ico_oikiri.gif\" width=\"13\"/></a>\n</td>\n<td class=\"txt_c\" nowrap=\"nowrap\">\n<a href=\"/?pid=horse_comment&amp;id=2017101755&amp;rid=202006030811\"><img border=\"0\" height=\"13\" src=\"/style/netkeiba.ja/image/ico_comment.gif\" width=\"13\"/></a>\n</td>\n<td nowrap=\"nowrap\">\n</td>\n</diary_snap_cut>\n<td class=\"txt_l\" nowrap=\"nowrap\">\n[西]\n<a href=\"/trainer/00438/\" title=\"安田隆行\">安田隆行</a>\n</td>\n<diary_snap_cut>\n<td class=\"txt_l w2ml\" nowrap=\"nowrap\">\n<a href=\"/owner/059700/\" title=\"ユアストーリー\">ユアストーリー</a>\n</td>\n<td class=\"txt_r\" nowrap=\"nowrap\"></td>\n</diary_snap_cut>\n</tr>\n</table>\n\n<script src=\"/style/netkeiba.ja/js/umalink.js\" type=\"text/javascript\"></script>\n<div class=\"diary_snap_write_box\">\n<p><a href=\"/?pid=diary_snapshot&amp;snap=aHR0cDovL2RiLm5ldGtlaWJhLmNvbS8/cGlkPXJhY2VfZGV0YWlsJmlkPTIwMjAwNjAzMDgxMQ==&amp;meta=race_result\" title=\"ひとこと日記を書く\"><img class=\"imgover\" src=\"https://cdn.netkeiba.com/img.db//style/netkeiba.ja/image/prof_btn_diary_write_01.png\"/></a></p>\n<p>※このレースについて、日記を書くことができます。</p>\n</div><!-- /.diary_snap_write_box -->\n<script type=\"text/javascript\">\n$(document).on( 'click', '#action_regist', function(){\nevent.preventDefault();\nvar regist_url = 'https://regist.sp.netkeiba.com/?pid=regist_form&action=nk_input';\nvar callback_url = $('#r_callback').val();\naction_regist('action_nk_regist', regist_url, callback_url);\n});\nfunction action_regist( modal_id, modal_url, callback_url ) {\nconsole.log('action_regist(%s,%s,%s)', modal_id, modal_url, callback_url);\n$.colorbox({\nhref: modal_url,\niframe: true,\nopacity: '0.5',\nopen: true,\nscrolling: true,\nheight: '60%',\nmaxWidth: '90%',\nwidth: $(window).width() - 60 + 'px',\nmaxWidth: '420px',\noverlayClose: true,\nescKey: false,\ncloseButton: true,\nonComplete : function(){\n//setHeight();\n},\nonClosed : function(){\n$('#cboxWrapper').removeClass('SetModal');\n}\n});\nfunction setHeight() {\nvar ifrObj = document.getElementById('cboxLoadedContent').querySelectorAll('iframe')[0];\n$(ifrObj).on('load', function() {\nvar $cBox = $('#colorbox');\nvar boxPositionTop = $cBox.offset().top;\nvar boxHeight = $cBox.height();\nvar ifrBody = ifrObj.contentWindow.document.body;\nvar ifrHeight = ifrBody.scrollHeight;\nvar movePosition = boxPositionTop + (boxHeight - ifrHeight) / 2;\n$('#colorbox').css('top', movePosition +'px');\n$('#cboxLoadedContent').add('#cboxContent').add('#cboxMiddleLeft').add('#cboxWrapper').add('#colorbox').css('height', ifrHeight+'px');\nsetTimeout(function () {\n$('#cboxWrapper').addClass('SetModal');\n}, 100);\n});\n}\n};\n$(window).on('message', function(event){\nif (event.originalEvent.origin !== 'https://regist.sp.netkeiba.com' ) return;\nif (event.originalEvent.data === 'register_done' ) {\n$.colorbox.close();\nlocation.reload();\n}\n});\n</script>\n<!-- //id=\"contents_liquid\" -->\n<div class=\"fc\" id=\"contents\">\n<div class=\"result_info box_left\">\n<diary_snap>\n<dl class=\"pay_block\">\n<dt><h3>払い戻し</h3></dt>\n<dd class=\"fc\">\n<table cellpadding=\"0\" cellspacing=\"1\" class=\"pay_table_01\" summary=\"払い戻し\">\n<tr>\n<th class=\"tan\">単勝</th>\n<td>1</td>\n<td class=\"txt_r\">270</td>\n<td class=\"txt_r\">1</td>\n</tr>\n<tr>\n<th align=\"center\" class=\"fuku\">複勝</th>\n<td>1<br/>7<br/>16</td>\n<td class=\"txt_r\">140<br/>170<br/>690</td>\n<td class=\"txt_r\">1<br/>3<br/>9</td>\n</tr>\n<tr>\n<th align=\"center\" class=\"waku\">枠連</th>\n<td>1 - 4</td>\n<td class=\"txt_r\">640</td>\n<td class=\"txt_r\">2</td>\n</tr>\n<tr>\n<th align=\"center\" class=\"uren\">馬連</th>\n<td>1 - 7</td>\n<td class=\"txt_r\">660</td>\n<td class=\"txt_r\">2</td>\n</tr>\n</table>\n<table cellpadding=\"0\" cellspacing=\"1\" class=\"pay_table_01\" summary=\"払い戻し\">\n<tr>\n<th class=\"wide\">ワイド</th>\n<td>1 - 7<br/>1 - 16<br/>7 - 16</td>\n<td class=\"txt_r\">330<br/>2,250<br/>2,610</td>\n<td class=\"txt_r\">2<br/>20<br/>24</td>\n</tr>\n<tr>\n<th class=\"utan\">馬単</th>\n<td>1 → 7</td>\n<td class=\"txt_r\">1,120</td>\n<td class=\"txt_r\">3</td>\n</tr>\n<tr>\n<th class=\"sanfuku\">三連複</th>\n<td>1 - 7 - 16</td>\n<td class=\"txt_r\">9,150</td>\n<td class=\"txt_r\">25</td>\n</tr>\n<tr>\n<th class=\"santan\">三連単</th>\n<td>1 → 7 → 16</td>\n<td class=\"txt_r\">26,310</td>\n<td class=\"txt_r\">72</td>\n</tr>\n</table>\n</dd>\n</dl>\n</diary_snap>\n<table cellpadding=\"0\" cellspacing=\"0\" class=\"result_table_02\" summary=\"馬場情報\" width=\"100%\">\n<caption>馬場情報</caption>\n<tr>\n<!-- -->\n</tr>\n<tr>\n<!-- -->\n</tr>\n</table>\n<table cellpadding=\"0\" cellspacing=\"0\" class=\"result_table_02\" summary=\"コーナー通過順位\" width=\"100%\">\n<caption>コーナー通過順位</caption>\n<tr>\n<th>1コーナー</th>\n<td>14-8,18(6,7)15(4,17)5,3,16(1,12)(2,10,13)(9,11)</td>\n</tr><tr>\n<th>2コーナー</th>\n<td>14-8,18,6-(7,15)(4,17)5,3,16(1,12)-(2,13)(10,11)9</td>\n</tr><tr>\n<th>3コーナー</th>\n<td>14,8,18(6,15)(7,5)(17,12)(4,16)(3,1,13)(10,2,11)-9</td>\n</tr><tr>\n<th>4コーナー</th>\n<td>(*14,8)18(6,7,5)(15,1)(17,16,12)3(4,2,11,13)9,10</td>\n</tr>\n</table>\n<table cellpadding=\"0\" cellspacing=\"0\" class=\"result_table_02\" summary=\"ラップタイム\" width=\"100%\">\n<caption>ラップタイム</caption>\n<tr>\n<th>ラップ</th>\n<td class=\"race_lap_cell\">12.2 - 11.3 - 12.1 - 11.8 - 12.4 - 12.9 - 12.2 - 11.9 - 11.8 - 12.1</td>\n</tr>\n<tr>\n<th>ペース</th>\n<td class=\"race_lap_cell\">12.2 - 23.5 - 35.6 - 47.4 - 59.8 - 72.7 - 84.9 - 96.8 - 108.6 - 120.7 (35.6-35.8)</td>\n</tr>\n</table>\n</div><!-- /.result_left -->\n<div class=\"result_info box_right\">\n<!-- -->\n<!-- -->\n</div><!-- /.result_right -->\n<div class=\"main_ad\">\n<script language=\"JavaScript\" type=\"text/javascript\">noCacheParam=Math.random()*10000000000;document.write('<scr'+'ipt type=\"text/javascript\" src=\"https://netdreamersad.durasite.net/A-affiliate2/mobile?site=23&keyword=adnet_nk_db_pic&isJS=true&encoding=EUC-JP&ord=' + noCacheParam + '\"></scr'+'ipt>');</script>\n</div><!-- /.main_ad -->\n</div><!-- /#contents -->\n<!-- /.race_result -->\n<footer>\n<div class=\"NkFooterArea\">\n<div class=\"BtnPagetop\">\n<a href=\"javascript:void(0)\" title=\"ページトップへ\"></a>\n</div><!-- /.BtnPagetop -->\n<script type=\"text/javascript\">\n$(function() {\n$('.BtnPagetop a').click(function () {\n$('body,html').animate({\nscrollTop: 0\n}, 400);\nreturn false;\n});\n});\n</script>\n<dl class=\"FootSiteTitle fc\">\n<dt>\n<a href=\"https://www.netkeiba.com/?rf=footer\" title=\"netkeiba.com\">\n<img alt=\"netkeiba.com\" src=\"https://cdn.netkeiba.com/img.www/style/netkeiba.ja/image/common/netkeiba_logo01.png\"/>\n</a>\n</dt>\n<dd>\n<p>利用者数<strong>1000</strong>万人突破！<strong>No.1</strong>競馬サイト</p>\n</dd>\n</dl>\n<div class=\"FootWrap\">\n<dl class=\"NkFoot01 NkFootCateLink\">\n<dt>カテゴリ</dt>\n<dd class=\"fc\">\n<ul>\n<li>\n<a href=\"https://news.netkeiba.com/?rf=footer\" title=\"ニュース\">ニュース</a>\n</li>\n<li>\n<a href=\"https://race.netkeiba.com/top/?rf=footer\" title=\"レース\">レース</a>\n</li>\n<li>\n<a href=\"https://yoso.netkeiba.com/?rf=footer\" title=\"ウマい馬券\">ウマい馬券</a>\n</li>\n<li>\n<a href=\"https://news.netkeiba.com/?pid=column_top&amp;rf=footer\" title=\"コラム\">コラム</a>\n</li>\n<li>\n<a href=\"https://tv.netkeiba.com/?rf=footer\" title=\"netkeibaTV\">netkeibaTV</a>\n</li>\n<li>\n<a href=\"https://oldnar.netkeiba.com/?rf=footer\" title=\"地方競馬\">地方競馬</a>\n</li>\n<li>\n<a href=\"https://db.netkeiba.com/?rf=footer\" title=\"データベース\">データベース</a>\n</li>\n<li>\n<a href=\"https://books.netkeiba.com/?rf=footer\" title=\"ブックス\">ブックス</a>\n</li>\n</ul>\n<ul>\n<li>\n<a href=\"https://orepro.netkeiba.com/?rf=footer\" title=\"俺プロ\">俺プロ</a>\n</li>\n<li>\n<a href=\"https://owner.netkeiba.com/?rf=footer\" title=\"一口馬主\">一口馬主</a>\n</li>\n<li>\n<a href=\"https://pog.netkeiba.com/?rf=footer\" title=\"POG\">POG</a>\n</li>\n<li>\n<a href=\"https://bbs.pc.keiba.findfriends.jp/?rf=footer\" title=\"競馬広場\">競馬広場</a>\n</li>\n<li>\n<a href=\"https://dir.netkeiba.com/keibamatome/index.html?rf=footer\" title=\"まとめ\">まとめ</a>\n</li>\n<li>\n<a href=\"https://www.netkeiba.com/paper/?rf=footer\" title=\"競馬新聞\">競馬新聞</a>\n</li>\n<li>\n<a href=\"https://race.netkeiba.com/bookmark/bookmark.html?rf=footer\" title=\"お気に入り馬\">お気に入り馬</a>\n</li>\n<li>\n<a href=\"https://regist.netkeiba.com/?rf=footer\" title=\"アカウント\">アカウント</a>\n</li>\n</ul>\n</dd>\n</dl>\n<dl class=\"NkFoot01\">\n<dt>ヘルプ＆ガイド</dt>\n<dd>\n<ul>\n<li>\n<a href=\"https://info.netkeiba.com/?rf=footer\" title=\"お知らせ\">お知らせ</a>\n</li>\n<li>\n<a href=\"https://regist.netkeiba.com/?pid=premium&amp;rf=footer\" title=\"プレミアムサービスのご案内\">プレミアムサービスのご案内</a>\n</li>\n<li>\n<a href=\"https://regist.netkeiba.com/?pid=help&amp;rf=footer\" title=\"よくある質問・お問い合わせ\">よくある質問・お問い合わせ</a>\n</li>\n</ul>\n</dd>\n</dl>\n<dl class=\"NkFoot01\">\n<dt>netkeiba.comについて</dt>\n<dd>\n<ul>\n<li>\n<a href=\"https://www.netkeiba.com/recruit/?rf=footer\" title=\"採用情報\">採用情報</a>\n</li>\n<li>\n<a href=\"https://www.netkeiba.com/info/ad/?rf=footer\" title=\"広告掲載について\">広告掲載について</a>\n</li>\n<li>\n<a href=\"https://www.netkeiba.com/info/kiyaku.html?rf=footer\" title=\"利用規約\">利用規約</a>\n</li>\n<li>\n<a href=\"https://www.netdreamers.co.jp/company/about/privacy.html?rf=footer\" title=\"プライバシーポリシー\">プライバシーポリシー</a>\n</li>\n<li>\n<a href=\"https://www.netkeiba.com/info/guide.html?rf=footer\" title=\"投稿ガイドライン\">投稿ガイドライン</a>\n</li>\n<li>\n<a href=\"https://www.netkeiba.com/info/tokusyo.html?rf=footer\" title=\"特定商取引法に基づく表記\">特定商取引法に基づく表記</a>\n</li>\n<li>\n<a href=\"https://www.netdreamers.co.jp/?rf=footer\" title=\"運営会社\">運営会社</a>\n</li>\n</ul>\n</dd>\n</dl>\n<dl class=\"NkFoot01\">\n<dt>スマホでnetkeiba</dt>\n<dd class=\"SpNkInfoImg\">\n<img alt=\"検索\" class=\"SearchImg01\" src=\"https://cdn.netkeiba.com/img.www/style/netkeiba.ja/image/common/img_nk_searchimg01.png\"/>\n<img alt=\"バーコード\" class=\"QrImg01\" src=\"https://cdn.netkeiba.com/img.www/style/netkeiba.ja/image/common/img_nk_qr01.png\"/>\n</dd>\n<dt>アプリでサクサクnetkeiba</dt>\n<dd>\n<ul class=\"AprStoreList fc\">\n<li>\n<a href=\"https://itunes.apple.com/jp/app/id464562684/\" title=\"Appstore\"><img alt=\"Appstore\" class=\"\" src=\"https://cdn.netkeiba.com/img.www/style/netkeiba.ja/image/common/bnr_appstore_01.png\"/></a>\n</li>\n<li>\n<a href=\"https://play.google.com/store/apps/details?id=jp.co.netdreamers.netkeiba\" title=\"googleplay\"><img alt=\"googleplay\" class=\"\" src=\"https://cdn.netkeiba.com/img.www/style/netkeiba.ja/image/common/bnr_googleplay_01.png\"/></a>\n</li>\n</ul>\n</dd>\n<dd class=\"Nk_Sns\">\n<ul class=\"fc\">\n<li>\n<a class=\"Tw\" href=\"https://twitter.com/netkeiba\" title=\"公式 Twitter\"></a>\n</li>\n<li>\n<a class=\"Fb\" href=\"https://ja-jp.facebook.com/netkeiba\" title=\"公式 Facebook\"></a>\n</li>\n<li>\n<a class=\"Line\" href=\"https://line.me/R/ti/p/%40oa-netkeiba\" title=\"LINE\"></a>\n</li>\n<li>\n<a class=\"Yt\" href=\"http://www.youtube.com/user/netkeibaTV\" title=\"netkeibaチャンネル\"></a>\n</li>\n<li>\n<a class=\"Ig\" href=\"https://www.instagram.com/netkeiba/\" title=\"Instagram\"></a>\n</li>\n<li>\n<a class=\"Rss\" href=\"https://www.netkeiba.com/?pid=rss\" title=\"RSS\"></a>\n</li>\n</ul>\n</dd>\n</dl>\n</div><!-- /.FootWrap -->\n</div><!-- /.NkFooterArea -->\n<div class=\"GlobalFooterArea\">\n<div class=\"FootWrap\">\n<dl class=\"NkFoot02\">\n<dt class=\"GfootIcon01 IconGame01\">netkeiba.com 公式競馬ゲーム</dt>\n<dd>\n<ul>\n<li>\n<a href=\"https://chiki.netkeiba.com/?rf=footer\" target=\"_blank\" title=\"チキチキダービー\">目指せ最強オーナー！ <strong>チキチキダービー</strong></a>\n</li>\n<li>\n<a href=\"https://derby.pzga.jp/?rf=footer\" target=\"_blank\" title=\"パズルダービー\">爽快！競馬パズルゲーム <strong>パズルダービー</strong></a>\n</li>\n<li>\n<a href=\"https://www.netkeiba.com/game/umasta.html?rf=footer\" target=\"_blank\" title=\"うまいるスタジアム\">みんなの愛馬とバトル！ <strong>うまいるスタジアム</strong></a>\n</li>\n</ul>\n</dd>\n</dl>\n<dl class=\"NkFoot02\">\n<dt class=\"GfootIcon01 IconMedia01\">関連メディア</dt>\n<dd>\n<ul>\n<li>\n<a href=\"https://sp.baseball.findfriends.jp/?rf=footer\" target=\"_blank\" title=\"週刊ベースボールONLINE\">徹底取材！野球情報は <strong>週刊ベースボールONLINE</strong></a>\n</li>\n<li>\n<a href=\"https://sp.golf.findfriends.jp/?rf=footer\" target=\"_blank\" title=\"ワッグルオンライン\">ゴルフレッスン情報サイト <strong>ワッグルオンライン</strong></a>\n</li>\n<li>\n<a href=\"https://recipe.sp.findfriends.jp/?rf=footer\" target=\"_blank\" title=\"KATSUYOレシピ\">小林カツ代直伝！ <strong>KATSUYOレシピ</strong></a>\n</li>\n<li>\n<a href=\"https://sp.findfriends.jp/?rf=footer\" target=\"_blank\" title=\"Find\">趣味でつながる総合掲示板コミュニティ <strong>Find</strong></a>\n</li>\n</ul>\n</dd>\n</dl>\n<dl class=\"NkFoot02\">\n<dt class=\"GfootIcon01 IconSoftware01\">ソフトウェア・プロダクト</dt>\n<dd>\n<ul>\n<li>\n<a href=\"https://smart.lets-ktai.jp/?rf=footer\" target=\"_blank\" title=\"SMART会員証\">もっともセキュアな店舗売上向上アプリ <strong>SMART会員証</strong></a>\n</li>\n<li>\n<a href=\"https://lets-ktai.jp/?rf=footer\" target=\"_blank\" title=\"Let'sケータイ！\">スマホサイト制作ASP <strong>Let'sケータイ！</strong></a>\n</li>\n<li>\n<a href=\"https://webspiral.jp/?rf=footer\" target=\"_blank\" title=\"WEB SPIRAL\">サイト運営を劇的に効率化するCMS <strong>WEB SPIRAL</strong></a>\n</li>\n</ul>\n</dd>\n</dl>\n</div><!-- /.FootWrap -->\n<p class=\"CopyRight\">\n<small>© Net Dreamers Co., Ltd.</small>\n</p>\n</div><!-- /.GlobalFooterArea -->\n</footer>\n<!-- Google Tag Manager -->\n<noscript><iframe height=\"0\" src=\"//www.googletagmanager.com/ns.html?id=GTM-K6PJT6\" style=\"display:none;visibility:hidden\" width=\"0\"></iframe></noscript>\n<script>(function(w,d,s,l,i){w[l]=w[l]||[];w[l].push({'gtm.start':\nnew Date().getTime(),event:'gtm.js'});var f=d.getElementsByTagName(s)[0],\nj=d.createElement(s),dl=l!='dataLayer'?'&l='+l:'';j.async=true;j.src=\n'//www.googletagmanager.com/gtm.js?id='+i+dl;f.parentNode.insertBefore(j,f);\n})(window,document,'script','dataLayer','GTM-K6PJT6');</script>\n<!-- End Google Tag Manager -->\n<!--\n<script src=\"https://genieedmp.com/dmp.js?c=3335\"></script>\n-->\n<!-- / #page -->\n<script language=\"JavaScript\" type=\"text/javascript\">noCacheParam=Math.random()*10000000000;document.write('<scr'+'ipt type=\"text/javascript\" src=\"https://netdreamersad.durasite.net/A-affiliate2/mobile?site=23&keyword=pc_nk_overlay&isJS=true&encoding=EUC-JP&ord=' + noCacheParam + '\"></scr'+'ipt>');</script>\n"
     },
     "metadata": {},
     "execution_count": 208
    }
   ],
   "source": [
    "soup"
   ]
  },
  {
   "cell_type": "code",
   "execution_count": 158,
   "metadata": {},
   "outputs": [
    {
     "output_type": "stream",
     "name": "stdout",
     "text": "<class 'bs4.BeautifulSoup'>\n"
    }
   ],
   "source": [
    "print(type(soup))"
   ]
  },
  {
   "cell_type": "code",
   "execution_count": 179,
   "metadata": {},
   "outputs": [
    {
     "output_type": "execute_result",
     "data": {
      "text/plain": "<a href=\"http://www.netkeiba.com/?pid=go_sp\" title=\"スマートフォン版へ\"><img alt=\"スマートフォン版へ\" class=\"imgover\" src=\"https://cdn.netkeiba.com/img.www/style/netkeiba.ja/image/sp_nk_link_02.png\"/></a>"
     },
     "metadata": {},
     "execution_count": 179
    }
   ],
   "source": [
    "soup.find(\"a\")#タグ名の属性でh1要素を取得できる。一番先頭のタグのみ"
   ]
  },
  {
   "cell_type": "code",
   "execution_count": 180,
   "metadata": {},
   "outputs": [
    {
     "output_type": "stream",
     "name": "stdout",
     "text": "<class 'method'>\n"
    }
   ],
   "source": [
    "print(type(soup.find(\"a\").get_text))#要素はTagオブジェクト。"
   ]
  },
  {
   "cell_type": "code",
   "execution_count": 209,
   "metadata": {},
   "outputs": [
    {
     "output_type": "execute_result",
     "data": {
      "text/plain": "[<a href=\"http://www.netkeiba.com/?pid=go_sp\" title=\"スマートフォン版へ\"><img alt=\"スマートフォン版へ\" class=\"imgover\" src=\"https://cdn.netkeiba.com/img.www/style/netkeiba.ja/image/sp_nk_link_02.png\"/></a>,\n <a href=\"https://www.netkeiba.com/?rf=logo\" title=\"netkeiba.com\">\n <img alt=\"netkeiba.com\" src=\"https://cdn.netkeiba.com/img.www/style/netkeiba.ja/image/common/netkeiba_logo01.png\"/>\n </a>,\n <a class=\"Ouchi_keiba_logo\" href=\"https://dir.netkeiba.com/ouchikeiba/?rf=logo\">\n <img alt=\"#おうち競馬\" src=\"https://cdn.netkeiba.com/img.www/style/netkeiba.ja/image/common/ouchikeiba_logo.pc.png\"/>\n </a>,\n <a href=\"https://www.netkeiba.com/?pid=start_mypage&amp;rf=navi\">\n <span>マイページのご紹介</span>\n </a>,\n <a class=\"Icon_Header Icon_MyfavHorse\" href=\"https://race.netkeiba.com/bookmark/bookmark.html?rf=navi\">\n <span>お気に入り馬</span>\n </a>,\n <a class=\"Icon_Header Icon_Login\" href=\"https://regist.netkeiba.com/account/?pid=login\">\n <span>ログイン/会員登録</span>\n </a>,\n <a href=\"https://regist.netkeiba.com/?pid=stage_login&amp;action=login&amp;return_url=https://regist.netkeiba.com/\">\n <span>(s)ログイン</span>\n </a>,\n <a href=\"https://regist.netkeiba.com/?pid=user_add_form&amp;payment=nk_user&amp;goods_cd=310409&amp;opt=init\">\n <span>(s)無料会員登録</span>\n </a>,\n <a href=\"https://regist.netkeiba.com/?pid=stage_login&amp;action=logout&amp;return_url=https://regist.netkeiba.com/\">\n <span>(s)ログアウト</span>\n </a>,\n <a href=\"https://www.netkeiba.com/?rf=navi\" title=\"トップ\">トップ</a>,\n <a href=\"https://news.netkeiba.com/?rf=navi\" title=\"ニュース\">ニュース</a>,\n <a href=\"https://race.netkeiba.com/top/?rf=navi\" title=\"レース\">レース</a>,\n <a href=\"https://yoso.netkeiba.com/?access=init&amp;rf=navi\" title=\"ウマい馬券\">ウマい馬券</a>,\n <a href=\"https://news.netkeiba.com/?pid=column_top&amp;rf=navi\" title=\"コラム\">コラム</a>,\n <a href=\"https://tv.netkeiba.com/?rf=navi\" title=\"netkeibaTV\">netkeibaTV</a>,\n <a href=\"https://oldnar.netkeiba.com/?rf=navi\" title=\"地方競馬\">地方競馬</a>,\n <a href=\"https://db.netkeiba.com/?rf=navi\" title=\"データベース\">データベース</a>,\n <a href=\"https://orepro.netkeiba.com/?rf=navi\" title=\"俺プロ\">俺プロ</a>,\n <a href=\"https://owner.netkeiba.com/?rf=navi\" title=\"一口馬主\">一口馬主</a>,\n <a href=\"https://pog.netkeiba.com/?rf=navi\" title=\"POG\">POG</a>,\n <a href=\"https://bbs.pc.keiba.findfriends.jp/?rf=navi\" title=\"競馬広場\">競馬広場</a>,\n <a href=\"https://dir.netkeiba.com/keibamatome/index.html?rf=navi\" title=\"まとめ\">まとめ</a>,\n <a href=\"/\" title=\"競馬データTOP\">競馬データTOP</a>,\n <a href=\"/?pid=horse_top\" title=\"競走馬\">競走馬</a>,\n <a href=\"/?pid=jockey_top\" title=\"騎手\">騎手</a>,\n <a href=\"/?pid=trainer_top\" title=\"調教師\">調教師</a>,\n <a href=\"/?pid=owner_top\" title=\"馬主\">馬主</a>,\n <a href=\"/?pid=breeder_top\" title=\"生産者\">生産者</a>,\n <a href=\"/?pid=race_top\" title=\"レース\">レース</a>,\n <a class=\"active\" href=\"/race/202006030811/\">中山</a>,\n <a href=\"/race/202003010411/\">福島</a>,\n <a href=\"/race/202009020811/\">阪神</a>,\n <a href=\"/race/list/20200419/\">2020年04月19日のレース結果</a>,\n <a href=\"/race/202006030801/\" title=\"R\">1R</a>,\n <a href=\"/race/202006030802/\" title=\"R\">2R</a>,\n <a href=\"/race/202006030803/\" title=\"R\">3R</a>,\n <a href=\"/race/202006030804/\" title=\"R\">4R</a>,\n <a href=\"/race/202006030805/\" title=\"R\">5R</a>,\n <a href=\"/race/202006030806/\" title=\"R\">6R</a>,\n <a href=\"/race/202006030807/\" title=\"R\">7R</a>,\n <a href=\"/race/202006030808/\" title=\"R\">8R</a>,\n <a href=\"/race/202006030809/\" title=\"R\">9R</a>,\n <a href=\"/race/202006030810/\" title=\"R\">10R</a>,\n <a class=\"active\" href=\"/race/202006030811/\" title=\"R\">11R</a>,\n <a href=\"/race/202006030812/\" title=\"R\">12R</a>,\n <a href=\"/race/sum/06/20200419/\">一覧</a>,\n <a href=\"/race/pay/06/20200419/\" title=\"の払戻一覧\">払戻し</a>,\n <a href=\"/?pid=race_list&amp;word=%BB%A9%B7%EE%BE%DE&amp;front=1\">過去の皐月賞</a>,\n <a href=\"/race/movie/202006030811\"><img alt=\"レース映像\" class=\"imgover\" src=\"https://cdn.netkeiba.com/img.db//style/netkeiba.ja/image/race_btn_movie_on.png\"/></a>,\n <a class=\"active\" href=\"https://db.netkeiba.com/race/202006030811/\">結果/払戻</a>,\n <a href=\"https://db.netkeiba.com//?pid=race_board&amp;thread=race&amp;id=202006030811\">掲示板</a>,\n <a href=\"/horse/2017101835/\" id=\"umalink_202006030811\" title=\"コントレイル\">コントレイル</a>,\n <a href=\"/jockey/01014/\" title=\"福永祐一\">福永祐一</a>,\n <a href=\"/?pid=horse_training&amp;id=2017101835&amp;rid=202006030811\"><img border=\"0\" height=\"13\" src=\"/style/netkeiba.ja/image/ico_oikiri.gif\" width=\"13\"/></a>,\n <a href=\"/?pid=horse_comment&amp;id=2017101835&amp;rid=202006030811\"><img border=\"0\" height=\"13\" src=\"/style/netkeiba.ja/image/ico_comment.gif\" width=\"13\"/></a>,\n <a href=\"/trainer/01075/\" title=\"矢作芳人\">矢作芳人</a>,\n <a href=\"/owner/041002/\" title=\"前田晋二\">前田晋二</a>,\n <a href=\"/horse/2017105327/\" id=\"umalink_202006030811\" title=\"サリオス\">サリオス</a>,\n <a href=\"/jockey/05585/\" title=\"レーン\">レーン</a>,\n <a href=\"/?pid=horse_training&amp;id=2017105327&amp;rid=202006030811\"><img border=\"0\" height=\"13\" src=\"/style/netkeiba.ja/image/ico_oikiri.gif\" width=\"13\"/></a>,\n <a href=\"/?pid=horse_comment&amp;id=2017105327&amp;rid=202006030811\"><img border=\"0\" height=\"13\" src=\"/style/netkeiba.ja/image/ico_comment.gif\" width=\"13\"/></a>,\n <a href=\"/trainer/01070/\" title=\"堀宣行\">堀宣行</a>,\n <a href=\"/owner/506800/\" title=\"シルクレーシング\">シルクレーシング</a>,\n <a href=\"/horse/2017102833/\" id=\"umalink_202006030811\" title=\"ガロアクリーク\">ガロアクリーク</a>,\n <a href=\"/jockey/05596/\" title=\"ヒューイ\">ヒューイ</a>,\n <a href=\"/?pid=horse_training&amp;id=2017102833&amp;rid=202006030811\"><img border=\"0\" height=\"13\" src=\"/style/netkeiba.ja/image/ico_oikiri.gif\" width=\"13\"/></a>,\n <a href=\"/?pid=horse_comment&amp;id=2017102833&amp;rid=202006030811\"><img border=\"0\" height=\"13\" src=\"/style/netkeiba.ja/image/ico_comment.gif\" width=\"13\"/></a>,\n <a href=\"/trainer/00423/\" title=\"上原博之\">上原博之</a>,\n <a href=\"/owner/482002/\" title=\"水上行雄\">水上行雄</a>,\n <a href=\"/horse/2017101429/\" id=\"umalink_202006030811\" title=\"ウインカーネリアン\">ウインカーネリアン</a>,\n <a href=\"/jockey/01075/\" title=\"田辺裕信\">田辺裕信</a>,\n <a href=\"/?pid=horse_training&amp;id=2017101429&amp;rid=202006030811\"><img border=\"0\" height=\"13\" src=\"/style/netkeiba.ja/image/ico_oikiri.gif\" width=\"13\"/></a>,\n <a href=\"/?pid=horse_comment&amp;id=2017101429&amp;rid=202006030811\"><img border=\"0\" height=\"13\" src=\"/style/netkeiba.ja/image/ico_comment.gif\" width=\"13\"/></a>,\n <a href=\"/trainer/01097/\" title=\"鹿戸雄一\">鹿戸雄一</a>,\n <a href=\"/owner/494800/\" title=\"ウイン\">ウイン</a>,\n <a href=\"/horse/2017105472/\" id=\"umalink_202006030811\" title=\"サトノフラッグ\">サトノフラッグ</a>,\n <a href=\"/jockey/05339/\" title=\"ルメール\">ルメール</a>,\n <a href=\"/?pid=horse_training&amp;id=2017105472&amp;rid=202006030811\"><img border=\"0\" height=\"13\" src=\"/style/netkeiba.ja/image/ico_oikiri.gif\" width=\"13\"/></a>,\n <a href=\"/?pid=horse_comment&amp;id=2017105472&amp;rid=202006030811\"><img border=\"0\" height=\"13\" src=\"/style/netkeiba.ja/image/ico_comment.gif\" width=\"13\"/></a>,\n <a href=\"/trainer/00399/\" title=\"国枝栄\">国枝栄</a>,\n <a href=\"/owner/075803/\" title=\"サトミホースカンパニー\">サトミホースカンパニー</a>,\n <a href=\"/horse/2017110026/\" id=\"umalink_202006030811\" title=\"ダーリントンホール\">ダーリントンホール</a>,\n <a href=\"/jockey/05212/\" title=\"Ｍ．デム\">Ｍ．デム</a>,\n <a href=\"/?pid=horse_training&amp;id=2017110026&amp;rid=202006030811\"><img border=\"0\" height=\"13\" src=\"/style/netkeiba.ja/image/ico_oikiri.gif\" width=\"13\"/></a>,\n <a href=\"/?pid=horse_comment&amp;id=2017110026&amp;rid=202006030811\"><img border=\"0\" height=\"13\" src=\"/style/netkeiba.ja/image/ico_comment.gif\" width=\"13\"/></a>,\n <a href=\"/trainer/01126/\" title=\"木村哲也\">木村哲也</a>,\n <a href=\"/owner/003060/\" title=\"ゴドルフィン\">ゴドルフィン</a>,\n <a href=\"/horse/2017101805/\" id=\"umalink_202006030811\" title=\"コルテジア\">コルテジア</a>,\n <a href=\"/jockey/01126/\" title=\"松山弘平\">松山弘平</a>,\n <a href=\"/?pid=horse_training&amp;id=2017101805&amp;rid=202006030811\"><img border=\"0\" height=\"13\" src=\"/style/netkeiba.ja/image/ico_oikiri.gif\" width=\"13\"/></a>,\n <a href=\"/?pid=horse_comment&amp;id=2017101805&amp;rid=202006030811\"><img border=\"0\" height=\"13\" src=\"/style/netkeiba.ja/image/ico_comment.gif\" width=\"13\"/></a>,\n <a href=\"/trainer/01111/\" title=\"鈴木孝志\">鈴木孝志</a>,\n <a href=\"/owner/948006/\" title=\"前田幸治\">前田幸治</a>,\n <a href=\"/horse/2017105567/\" id=\"umalink_202006030811\" title=\"ヴェルトライゼンデ\">ヴェルトライゼンデ</a>,\n <a href=\"/jockey/01032/\" title=\"池添謙一\">池添謙一</a>,\n <a href=\"/?pid=horse_training&amp;id=2017105567&amp;rid=202006030811\"><img border=\"0\" height=\"13\" src=\"/style/netkeiba.ja/image/ico_oikiri.gif\" width=\"13\"/></a>,\n <a href=\"/?pid=horse_comment&amp;id=2017105567&amp;rid=202006030811\"><img border=\"0\" height=\"13\" src=\"/style/netkeiba.ja/image/ico_comment.gif\" width=\"13\"/></a>,\n <a href=\"/trainer/01071/\" title=\"池江泰寿\">池江泰寿</a>,\n <a href=\"/owner/226800/\" title=\"サンデーレーシング\">サンデーレーシング</a>,\n <a href=\"/horse/2017105973/\" id=\"umalink_202006030811\" title=\"ブラックホール\">ブラックホール</a>,\n <a href=\"/jockey/01150/\" title=\"石川裕紀\">石川裕紀</a>,\n <a href=\"/?pid=horse_training&amp;id=2017105973&amp;rid=202006030811\"><img border=\"0\" height=\"13\" src=\"/style/netkeiba.ja/image/ico_oikiri.gif\" width=\"13\"/></a>,\n <a href=\"/?pid=horse_comment&amp;id=2017105973&amp;rid=202006030811\"><img border=\"0\" height=\"13\" src=\"/style/netkeiba.ja/image/ico_comment.gif\" width=\"13\"/></a>,\n <a href=\"/trainer/01020/\" title=\"相沢郁\">相沢郁</a>,\n <a href=\"/owner/683002/\" title=\"芹澤精一\">芹澤精一</a>,\n <a href=\"/horse/2017102170/\" id=\"umalink_202006030811\" title=\"ディープボンド\">ディープボンド</a>,\n <a href=\"/jockey/00660/\" title=\"横山典弘\">横山典弘</a>,\n <a href=\"/?pid=horse_training&amp;id=2017102170&amp;rid=202006030811\"><img border=\"0\" height=\"13\" src=\"/style/netkeiba.ja/image/ico_oikiri.gif\" width=\"13\"/></a>,\n <a href=\"/?pid=horse_comment&amp;id=2017102170&amp;rid=202006030811\"><img border=\"0\" height=\"13\" src=\"/style/netkeiba.ja/image/ico_comment.gif\" width=\"13\"/></a>,\n <a href=\"/trainer/01058/\" title=\"大久保龍\">大久保龍</a>,\n <a href=\"/owner/041002/\" title=\"前田晋二\">前田晋二</a>,\n <a href=\"/horse/2017105241/\" id=\"umalink_202006030811\" title=\"レクセランス\">レクセランス</a>,\n <a href=\"/jockey/01102/\" title=\"北村友一\">北村友一</a>,\n <a href=\"/?pid=horse_training&amp;id=2017105241&amp;rid=202006030811\"><img border=\"0\" height=\"13\" src=\"/style/netkeiba.ja/image/ico_oikiri.gif\" width=\"13\"/></a>,\n <a href=\"/?pid=horse_comment&amp;id=2017105241&amp;rid=202006030811\"><img border=\"0\" height=\"13\" src=\"/style/netkeiba.ja/image/ico_comment.gif\" width=\"13\"/></a>,\n <a href=\"/trainer/01144/\" title=\"池添学\">池添学</a>,\n <a href=\"/owner/506800/\" title=\"シルクレーシング\">シルクレーシング</a>,\n <a href=\"/horse/2017110067/\" id=\"umalink_202006030811\" title=\"アメリカンシード\">アメリカンシード</a>,\n <a href=\"/jockey/01127/\" title=\"丸山元気\">丸山元気</a>,\n <a href=\"/?pid=horse_training&amp;id=2017110067&amp;rid=202006030811\"><img border=\"0\" height=\"13\" src=\"/style/netkeiba.ja/image/ico_oikiri.gif\" width=\"13\"/></a>,\n <a href=\"/?pid=horse_comment&amp;id=2017110067&amp;rid=202006030811\"><img border=\"0\" height=\"13\" src=\"/style/netkeiba.ja/image/ico_comment.gif\" width=\"13\"/></a>,\n <a href=\"/trainer/01062/\" title=\"藤岡健一\">藤岡健一</a>,\n <a href=\"/owner/367008/\" title=\"吉澤克己\">吉澤克己</a>,\n <a href=\"/horse/2017105434/\" id=\"umalink_202006030811\" title=\"マイラプソディ\">マイラプソディ</a>,\n <a href=\"/jockey/00666/\" title=\"武豊\">武豊</a>,\n <a href=\"/?pid=horse_training&amp;id=2017105434&amp;rid=202006030811\"><img border=\"0\" height=\"13\" src=\"/style/netkeiba.ja/image/ico_oikiri.gif\" width=\"13\"/></a>,\n <a href=\"/?pid=horse_comment&amp;id=2017105434&amp;rid=202006030811\"><img border=\"0\" height=\"13\" src=\"/style/netkeiba.ja/image/ico_comment.gif\" width=\"13\"/></a>,\n <a href=\"/trainer/01061/\" title=\"友道康夫\">友道康夫</a>,\n <a href=\"/owner/002803/\" title=\"キーファーズ\">キーファーズ</a>,\n <a href=\"/horse/2017103572/\" id=\"umalink_202006030811\" title=\"ビターエンダー\">ビターエンダー</a>,\n <a href=\"/jockey/01092/\" title=\"津村明秀\">津村明秀</a>,\n <a href=\"/?pid=horse_training&amp;id=2017103572&amp;rid=202006030811\"><img border=\"0\" height=\"13\" src=\"/style/netkeiba.ja/image/ico_oikiri.gif\" width=\"13\"/></a>,\n <a href=\"/?pid=horse_comment&amp;id=2017103572&amp;rid=202006030811\"><img border=\"0\" height=\"13\" src=\"/style/netkeiba.ja/image/ico_comment.gif\" width=\"13\"/></a>,\n <a href=\"/trainer/01020/\" title=\"相沢郁\">相沢郁</a>,\n <a href=\"/owner/547800/\" title=\"ヒダカ・ブリーダーズ・ユニオン\">ヒダカ・ブリーダーズ・ユニオン</a>,\n <a href=\"/horse/2017105194/\" id=\"umalink_202006030811\" title=\"ラインベック\">ラインベック</a>,\n <a href=\"/jockey/05203/\" title=\"岩田康誠\">岩田康誠</a>,\n <a href=\"/?pid=horse_training&amp;id=2017105194&amp;rid=202006030811\"><img border=\"0\" height=\"13\" src=\"/style/netkeiba.ja/image/ico_oikiri.gif\" width=\"13\"/></a>,\n <a href=\"/?pid=horse_comment&amp;id=2017105194&amp;rid=202006030811\"><img border=\"0\" height=\"13\" src=\"/style/netkeiba.ja/image/ico_comment.gif\" width=\"13\"/></a>,\n <a href=\"/trainer/01061/\" title=\"友道康夫\">友道康夫</a>,\n <a href=\"/owner/708800/\" title=\"金子真人ホールディングス\">金子真人ホールディングス</a>,\n <a href=\"/horse/2017101299/\" id=\"umalink_202006030811\" title=\"クリスタルブラック\">クリスタルブラック</a>,\n <a href=\"/jockey/00733/\" title=\"吉田豊\">吉田豊</a>,\n <a href=\"/?pid=horse_training&amp;id=2017101299&amp;rid=202006030811\"><img border=\"0\" height=\"13\" src=\"/style/netkeiba.ja/image/ico_oikiri.gif\" width=\"13\"/></a>,\n <a href=\"/?pid=horse_comment&amp;id=2017101299&amp;rid=202006030811\"><img border=\"0\" height=\"13\" src=\"/style/netkeiba.ja/image/ico_comment.gif\" width=\"13\"/></a>,\n <a href=\"/trainer/01134/\" title=\"高橋文雅\">高橋文雅</a>,\n <a href=\"/owner/548009/\" title=\"岡田勇\">岡田勇</a>,\n <a href=\"/horse/2017101833/\" id=\"umalink_202006030811\" title=\"キメラヴェリテ\">キメラヴェリテ</a>,\n <a href=\"/jockey/01116/\" title=\"藤岡康太\">藤岡康太</a>,\n <a href=\"/?pid=horse_training&amp;id=2017101833&amp;rid=202006030811\"><img border=\"0\" height=\"13\" src=\"/style/netkeiba.ja/image/ico_oikiri.gif\" width=\"13\"/></a>,\n <a href=\"/?pid=horse_comment&amp;id=2017101833&amp;rid=202006030811\"><img border=\"0\" height=\"13\" src=\"/style/netkeiba.ja/image/ico_comment.gif\" width=\"13\"/></a>,\n <a href=\"/trainer/01039/\" title=\"中竹和也\">中竹和也</a>,\n <a href=\"/owner/944030/\" title=\"加藤誠\">加藤誠</a>,\n <a href=\"/horse/2017101755/\" id=\"umalink_202006030811\" title=\"テンピン\">テンピン</a>,\n <a href=\"/jockey/01141/\" title=\"中井裕二\">中井裕二</a>,\n <a href=\"/?pid=horse_training&amp;id=2017101755&amp;rid=202006030811\"><img border=\"0\" height=\"13\" src=\"/style/netkeiba.ja/image/ico_oikiri.gif\" width=\"13\"/></a>,\n <a href=\"/?pid=horse_comment&amp;id=2017101755&amp;rid=202006030811\"><img border=\"0\" height=\"13\" src=\"/style/netkeiba.ja/image/ico_comment.gif\" width=\"13\"/></a>,\n <a href=\"/trainer/00438/\" title=\"安田隆行\">安田隆行</a>,\n <a href=\"/owner/059700/\" title=\"ユアストーリー\">ユアストーリー</a>,\n <a href=\"/?pid=diary_snapshot&amp;snap=aHR0cDovL2RiLm5ldGtlaWJhLmNvbS8/cGlkPXJhY2VfZGV0YWlsJmlkPTIwMjAwNjAzMDgxMQ==&amp;meta=race_result\" title=\"ひとこと日記を書く\"><img class=\"imgover\" src=\"https://cdn.netkeiba.com/img.db//style/netkeiba.ja/image/prof_btn_diary_write_01.png\"/></a>,\n <a href=\"javascript:void(0)\" title=\"ページトップへ\"></a>,\n <a href=\"https://www.netkeiba.com/?rf=footer\" title=\"netkeiba.com\">\n <img alt=\"netkeiba.com\" src=\"https://cdn.netkeiba.com/img.www/style/netkeiba.ja/image/common/netkeiba_logo01.png\"/>\n </a>,\n <a href=\"https://news.netkeiba.com/?rf=footer\" title=\"ニュース\">ニュース</a>,\n <a href=\"https://race.netkeiba.com/top/?rf=footer\" title=\"レース\">レース</a>,\n <a href=\"https://yoso.netkeiba.com/?rf=footer\" title=\"ウマい馬券\">ウマい馬券</a>,\n <a href=\"https://news.netkeiba.com/?pid=column_top&amp;rf=footer\" title=\"コラム\">コラム</a>,\n <a href=\"https://tv.netkeiba.com/?rf=footer\" title=\"netkeibaTV\">netkeibaTV</a>,\n <a href=\"https://oldnar.netkeiba.com/?rf=footer\" title=\"地方競馬\">地方競馬</a>,\n <a href=\"https://db.netkeiba.com/?rf=footer\" title=\"データベース\">データベース</a>,\n <a href=\"https://books.netkeiba.com/?rf=footer\" title=\"ブックス\">ブックス</a>,\n <a href=\"https://orepro.netkeiba.com/?rf=footer\" title=\"俺プロ\">俺プロ</a>,\n <a href=\"https://owner.netkeiba.com/?rf=footer\" title=\"一口馬主\">一口馬主</a>,\n <a href=\"https://pog.netkeiba.com/?rf=footer\" title=\"POG\">POG</a>,\n <a href=\"https://bbs.pc.keiba.findfriends.jp/?rf=footer\" title=\"競馬広場\">競馬広場</a>,\n <a href=\"https://dir.netkeiba.com/keibamatome/index.html?rf=footer\" title=\"まとめ\">まとめ</a>,\n <a href=\"https://www.netkeiba.com/paper/?rf=footer\" title=\"競馬新聞\">競馬新聞</a>,\n <a href=\"https://race.netkeiba.com/bookmark/bookmark.html?rf=footer\" title=\"お気に入り馬\">お気に入り馬</a>,\n <a href=\"https://regist.netkeiba.com/?rf=footer\" title=\"アカウント\">アカウント</a>,\n <a href=\"https://info.netkeiba.com/?rf=footer\" title=\"お知らせ\">お知らせ</a>,\n <a href=\"https://regist.netkeiba.com/?pid=premium&amp;rf=footer\" title=\"プレミアムサービスのご案内\">プレミアムサービスのご案内</a>,\n <a href=\"https://regist.netkeiba.com/?pid=help&amp;rf=footer\" title=\"よくある質問・お問い合わせ\">よくある質問・お問い合わせ</a>,\n <a href=\"https://www.netkeiba.com/recruit/?rf=footer\" title=\"採用情報\">採用情報</a>,\n <a href=\"https://www.netkeiba.com/info/ad/?rf=footer\" title=\"広告掲載について\">広告掲載について</a>,\n <a href=\"https://www.netkeiba.com/info/kiyaku.html?rf=footer\" title=\"利用規約\">利用規約</a>,\n <a href=\"https://www.netdreamers.co.jp/company/about/privacy.html?rf=footer\" title=\"プライバシーポリシー\">プライバシーポリシー</a>,\n <a href=\"https://www.netkeiba.com/info/guide.html?rf=footer\" title=\"投稿ガイドライン\">投稿ガイドライン</a>,\n <a href=\"https://www.netkeiba.com/info/tokusyo.html?rf=footer\" title=\"特定商取引法に基づく表記\">特定商取引法に基づく表記</a>,\n <a href=\"https://www.netdreamers.co.jp/?rf=footer\" title=\"運営会社\">運営会社</a>,\n <a href=\"https://itunes.apple.com/jp/app/id464562684/\" title=\"Appstore\"><img alt=\"Appstore\" class=\"\" src=\"https://cdn.netkeiba.com/img.www/style/netkeiba.ja/image/common/bnr_appstore_01.png\"/></a>,\n <a href=\"https://play.google.com/store/apps/details?id=jp.co.netdreamers.netkeiba\" title=\"googleplay\"><img alt=\"googleplay\" class=\"\" src=\"https://cdn.netkeiba.com/img.www/style/netkeiba.ja/image/common/bnr_googleplay_01.png\"/></a>,\n <a class=\"Tw\" href=\"https://twitter.com/netkeiba\" title=\"公式 Twitter\"></a>,\n <a class=\"Fb\" href=\"https://ja-jp.facebook.com/netkeiba\" title=\"公式 Facebook\"></a>,\n <a class=\"Line\" href=\"https://line.me/R/ti/p/%40oa-netkeiba\" title=\"LINE\"></a>,\n <a class=\"Yt\" href=\"http://www.youtube.com/user/netkeibaTV\" title=\"netkeibaチャンネル\"></a>,\n <a class=\"Ig\" href=\"https://www.instagram.com/netkeiba/\" title=\"Instagram\"></a>,\n <a class=\"Rss\" href=\"https://www.netkeiba.com/?pid=rss\" title=\"RSS\"></a>,\n <a href=\"https://chiki.netkeiba.com/?rf=footer\" target=\"_blank\" title=\"チキチキダービー\">目指せ最強オーナー！ <strong>チキチキダービー</strong></a>,\n <a href=\"https://derby.pzga.jp/?rf=footer\" target=\"_blank\" title=\"パズルダービー\">爽快！競馬パズルゲーム <strong>パズルダービー</strong></a>,\n <a href=\"https://www.netkeiba.com/game/umasta.html?rf=footer\" target=\"_blank\" title=\"うまいるスタジアム\">みんなの愛馬とバトル！ <strong>うまいるスタジアム</strong></a>,\n <a href=\"https://sp.baseball.findfriends.jp/?rf=footer\" target=\"_blank\" title=\"週刊ベースボールONLINE\">徹底取材！野球情報は <strong>週刊ベースボールONLINE</strong></a>,\n <a href=\"https://sp.golf.findfriends.jp/?rf=footer\" target=\"_blank\" title=\"ワッグルオンライン\">ゴルフレッスン情報サイト <strong>ワッグルオンライン</strong></a>,\n <a href=\"https://recipe.sp.findfriends.jp/?rf=footer\" target=\"_blank\" title=\"KATSUYOレシピ\">小林カツ代直伝！ <strong>KATSUYOレシピ</strong></a>,\n <a href=\"https://sp.findfriends.jp/?rf=footer\" target=\"_blank\" title=\"Find\">趣味でつながる総合掲示板コミュニティ <strong>Find</strong></a>,\n <a href=\"https://smart.lets-ktai.jp/?rf=footer\" target=\"_blank\" title=\"SMART会員証\">もっともセキュアな店舗売上向上アプリ <strong>SMART会員証</strong></a>,\n <a href=\"https://lets-ktai.jp/?rf=footer\" target=\"_blank\" title=\"Let'sケータイ！\">スマホサイト制作ASP <strong>Let'sケータイ！</strong></a>,\n <a href=\"https://webspiral.jp/?rf=footer\" target=\"_blank\" title=\"WEB SPIRAL\">サイト運営を劇的に効率化するCMS <strong>WEB SPIRAL</strong></a>]"
     },
     "metadata": {},
     "execution_count": 209
    }
   ],
   "source": [
    "soup.find_all(\"a\")#h1タグのすべての要素を取得できます"
   ]
  },
  {
   "cell_type": "code",
   "execution_count": 178,
   "metadata": {},
   "outputs": [
    {
     "output_type": "stream",
     "name": "stdout",
     "text": "<class 'bs4.element.ResultSet'>\n"
    }
   ],
   "source": [
    "print(type(soup.find_all(\"a\")))"
   ]
  },
  {
   "cell_type": "code",
   "execution_count": 176,
   "metadata": {},
   "outputs": [
    {
     "output_type": "stream",
     "name": "stdout",
     "text": "206\n<a href=\"https://www.netkeiba.com/?pid=start_mypage&amp;rf=navi\">\n<span>マイページのご紹介</span>\n</a>\n"
    }
   ],
   "source": [
    "rs = soup.find_all(\"a\")\n",
    "#list型と同様に扱えます\n",
    "print(len(rs))\n",
    "print(rs[3])\n"
   ]
  },
  {
   "cell_type": "code",
   "execution_count": 183,
   "metadata": {},
   "outputs": [
    {
     "output_type": "execute_result",
     "data": {
      "text/plain": "'a'"
     },
     "metadata": {},
     "execution_count": 183
    }
   ],
   "source": [
    "soup.find(\"a\").name#Tagオブジェクトのname属性でタグ名を取得できる。 "
   ]
  },
  {
   "cell_type": "code",
   "execution_count": 186,
   "metadata": {},
   "outputs": [
    {
     "output_type": "execute_result",
     "data": {
      "text/plain": "[<img alt=\"スマートフォン版へ\" class=\"imgover\" src=\"https://cdn.netkeiba.com/img.www/style/netkeiba.ja/image/sp_nk_link_02.png\"/>]"
     },
     "metadata": {},
     "execution_count": 186
    }
   ],
   "source": [
    "soup.find(\"a\").contents#contents属性で子要素（NavigableStringを含む）のリストを取得できる。"
   ]
  },
  {
   "cell_type": "code",
   "execution_count": null,
   "metadata": {},
   "outputs": [],
   "source": [
    "soup.find(\"div\")"
   ]
  },
  {
   "cell_type": "code",
   "execution_count": 235,
   "metadata": {},
   "outputs": [
    {
     "output_type": "execute_result",
     "data": {
      "text/plain": "'\\n\\n\\n\\n\\n\\n\\n\\n\\n\\n\\n\\n\\n\\n\\n\\n\\n\\n\\n\\n\\n\\n\\n\\n\\n\\n\\n\\nマイページのご紹介\\n\\n\\n\\n\\nお気に入り馬\\n\\n\\n\\n\\nログイン/会員登録\\n\\n\\n\\n\\n(s)ログイン\\n\\n\\n\\n\\n(s)無料会員登録\\n\\n\\n\\n(s)ログアウト\\n\\n\\n\\n\\n\\n\\n\\n\\n\\n\\nトップ\\n\\n\\nニュース\\n\\n\\nレース\\n\\n\\nウマい馬券\\n\\n\\nコラム\\n\\n\\nnetkeibaTV\\n\\n\\n地方競馬\\n\\n\\nデータベース\\n\\n\\n俺プロ\\n\\n\\n一口馬主\\n\\n\\nPOG\\n\\n\\n競馬広場\\n\\n\\nまとめ\\n\\n\\n\\n\\n\\n\\n\\n\\n\\n\\n競馬データTOP\\n競走馬\\n騎手\\n調教師\\n馬主\\n生産者\\nレース\\n\\n\\n\\n\\n\\n\\n\\n\\n\\n中山福島阪神\\n2020年04月19日のレース結果\\n\\n\\n\\n1R2R3R4R5R6R7R8R9R10R11R12R\\n\\n一覧\\n払戻し\\n\\n\\n\\n\\n\\n\\n11 R\\n\\n\\n第80回皐月賞(G1)\\n\\n\\n芝右2000m\\xa0/\\xa0天候 : 晴\\xa0/\\xa0芝 : 稍重\\xa0/\\xa0発走 : 15:40\\n\\n過去の皐月賞\\n\\n\\n\\n\\n2020年4月19日 3回中山8日目 3歳オープン\\xa0\\xa0(国際) 牡・牝(指)(定量)\\n\\n\\n\\n\\n\\n\\n\\n\\n\\n'"
     },
     "metadata": {},
     "execution_count": 235
    }
   ],
   "source": [
    "soup.div.get_text()"
   ]
  },
  {
   "cell_type": "code",
   "execution_count": 236,
   "metadata": {},
   "outputs": [
    {
     "output_type": "execute_result",
     "data": {
      "text/plain": "str"
     },
     "metadata": {},
     "execution_count": 236
    }
   ],
   "source": [
    "type(soup.h1.text)#text属性で得られる文字列はstrオブジェクト。<class'str'>"
   ]
  },
  {
   "cell_type": "code",
   "execution_count": 238,
   "metadata": {},
   "outputs": [
    {
     "output_type": "execute_result",
     "data": {
      "text/plain": "<div class=\"data_intro\">\n<dl class=\"racedata fc\">\n<dt>\n11 R\n</dt>\n<dd>\n<h1>第80回皐月賞(G1)<!--img src=\"style/netkeiba.ja/image/race_grade_g2_01.png\" alt=\"\"--></h1>\n<p>\n<diary_snap_cut>\n<span>芝右2000m / 天候 : 晴 / 芝 : 稍重 / 発走 : 15:40</span><br/>\n<diary_snap_cut>\n<a href=\"/?pid=race_list&amp;word=%BB%A9%B7%EE%BE%DE&amp;front=1\">過去の皐月賞</a>\n</diary_snap_cut>\n</diary_snap_cut></p>\n</dd>\n</dl>\n<p class=\"smalltxt\">2020年4月19日 3回中山8日目 3歳オープン  (国際) 牡・牝(指)(定量)</p>\n<diary_snap_cut>\n<ul class=\"btn_link_list fc\">\n<li class=\"race_btn_MOVIE end\">\n<a href=\"/race/movie/202006030811\"><img alt=\"レース映像\" class=\"imgover\" src=\"https://cdn.netkeiba.com/img.db//style/netkeiba.ja/image/race_btn_movie_on.png\"/></a>\n</li>\n</ul>\n</diary_snap_cut>\n</div>"
     },
     "metadata": {},
     "execution_count": 238
    }
   ],
   "source": [
    "soup.find(\"div\", class_=\"data_intro\")#キーワード引数でclassなどの属性を指定できる。classは予約語なのでclass_を使うこと"
   ]
  },
  {
   "cell_type": "code",
   "execution_count": 239,
   "metadata": {},
   "outputs": [
    {
     "output_type": "execute_result",
     "data": {
      "text/plain": "'\\n\\n\\n11 R\\n\\n\\n第80回皐月賞(G1)\\n\\n\\n芝右2000m\\xa0/\\xa0天候 : 晴\\xa0/\\xa0芝 : 稍重\\xa0/\\xa0発走 : 15:40\\n\\n過去の皐月賞\\n\\n\\n\\n\\n2020年4月19日 3回中山8日目 3歳オープン\\xa0\\xa0(国際) 牡・牝(指)(定量)\\n\\n\\n\\n\\n\\n\\n\\n'"
     },
     "metadata": {},
     "execution_count": 239
    }
   ],
   "source": [
    "soup.find(\"div\", class_=\"data_intro\").get_text()#text属性で要素内のすべての文字列を結合した文字列を取得できる。"
   ]
  },
  {
   "cell_type": "code",
   "execution_count": 240,
   "metadata": {},
   "outputs": [
    {
     "output_type": "stream",
     "name": "stdout",
     "text": "<class 'str'>\n"
    }
   ],
   "source": [
    "print(type(soup.find(\"div\", class_=\"data_intro\").get_text()))"
   ]
  },
  {
   "cell_type": "markdown",
   "metadata": {},
   "source": [
    "#### 目的の値をスクレイピングするまでの流れ  \n",
    "  \n",
    "  \n",
    "![](https://github.com/Tomo-Horiuchi/predict_keiba/blob/master/image/4.png?raw=true)\n",
    "![](https://github.com/Tomo-Horiuchi/predict_keiba/blob/master/image/5.png?raw=true)\n",
    "![](https://github.com/Tomo-Horiuchi/predict_keiba/blob/master/image/6.png?raw=true)\n",
    "![](https://github.com/Tomo-Horiuchi/predict_keiba/blob/master/image/7.png?raw=true)\n",
    "![](https://github.com/Tomo-Horiuchi/predict_keiba/blob/master/image/8.png?raw=true)\n",
    "![](https://github.com/Tomo-Horiuchi/predict_keiba/blob/master/image/9.png?raw=true)"
   ]
  },
  {
   "cell_type": "code",
   "execution_count": 228,
   "metadata": {},
   "outputs": [
    {
     "output_type": "execute_result",
     "data": {
      "text/plain": "<tr>\n<td class=\"txt_r\" nowrap=\"nowrap\">1</td>\n<td align=\"right\" class=\"w1ml\" nowrap=\"nowrap\"><span>1</span></td>\n<td class=\"txt_r\" nowrap=\"nowrap\">1</td>\n<td class=\"txt_l\" nowrap=\"nowrap\">\n<a href=\"/horse/2017101835/\" id=\"umalink_202006030811\" title=\"コントレイル\">コントレイル</a>\n</td>\n<td class=\"txt_c\" nowrap=\"nowrap\">牡3</td>\n<td class=\"txt_c\" nowrap=\"nowrap\">57</td>\n<td class=\"txt_l\" nowrap=\"nowrap\">\n<a href=\"/jockey/01014/\" title=\"福永祐一\">福永祐一</a>\n</td>\n<td class=\"txt_r\" nowrap=\"nowrap\">2:00.7</td>\n<td class=\"txt_c\" nowrap=\"nowrap\"></td>\n<diary_snap_cut>\n<td class=\"speed_index bml\" nowrap=\"nowrap\">\n</td>\n<td nowrap=\"nowrap\">12-12-12-7</td>\n<td class=\"txt_c\" nowrap=\"nowrap\"><span>34.9</span></td>\n</diary_snap_cut>\n<td class=\"txt_r\" nowrap=\"nowrap\">2.7</td>\n<td align=\"right\" class=\"r1ml\" nowrap=\"nowrap\"><span>1</span></td>\n<td nowrap=\"nowrap\">462(0)</td>\n<diary_snap_cut>\n<td class=\"txt_c\" nowrap=\"nowrap\">\n<a href=\"/?pid=horse_training&amp;id=2017101835&amp;rid=202006030811\"><img border=\"0\" height=\"13\" src=\"/style/netkeiba.ja/image/ico_oikiri.gif\" width=\"13\"/></a>\n</td>\n<td class=\"txt_c\" nowrap=\"nowrap\">\n<a href=\"/?pid=horse_comment&amp;id=2017101835&amp;rid=202006030811\"><img border=\"0\" height=\"13\" src=\"/style/netkeiba.ja/image/ico_comment.gif\" width=\"13\"/></a>\n</td>\n<td nowrap=\"nowrap\">\n</td>\n</diary_snap_cut>\n<td class=\"txt_l\" nowrap=\"nowrap\">\n[西]\n<a href=\"/trainer/01075/\" title=\"矢作芳人\">矢作芳人</a>\n</td>\n<diary_snap_cut>\n<td class=\"txt_l w1ml\" nowrap=\"nowrap\">\n<a href=\"/owner/041002/\" title=\"前田晋二\">前田晋二</a>\n</td>\n<td class=\"txt_r\" nowrap=\"nowrap\">13,463.3</td>\n</diary_snap_cut>\n</tr>"
     },
     "metadata": {},
     "execution_count": 228
    }
   ],
   "source": [
    "result_rows = soup.find(\"table\", class_=\"race_table_01 nk_tb_common\").find_all('tr')[1]\n",
    "result_rows "
   ]
  },
  {
   "cell_type": "code",
   "execution_count": 233,
   "metadata": {},
   "outputs": [
    {
     "output_type": "execute_result",
     "data": {
      "text/plain": "<a href=\"/horse/2017101835/\" id=\"umalink_202006030811\" title=\"コントレイル\">コントレイル</a>"
     },
     "metadata": {},
     "execution_count": 233
    }
   ],
   "source": [
    "a=result_rows.find(\"a\")\n",
    "a"
   ]
  },
  {
   "cell_type": "code",
   "execution_count": 234,
   "metadata": {},
   "outputs": [
    {
     "output_type": "execute_result",
     "data": {
      "text/plain": "'コントレイル'"
     },
     "metadata": {},
     "execution_count": 234
    }
   ],
   "source": [
    "a.get_text()"
   ]
  },
  {
   "cell_type": "code",
   "execution_count": 68,
   "metadata": {},
   "outputs": [],
   "source": [
    "import numpy as np\n",
    "import pandas as pd\n",
    "from bs4 import BeautifulSoup\n",
    "import os\n",
    "import requests\n",
    "import time\n",
    "\n",
    "\n",
    "race_data_columns=[\n",
    "    'race_id',\n",
    "    'race_round',\n",
    "    'race_title',\n",
    "    'race_course',\n",
    "    'weather',\n",
    "    'ground_status',\n",
    "    'time',\n",
    "    'date',\n",
    "    'where_racecourse',\n",
    "    'total_horse_number',\n",
    "    'frame_number_first',\n",
    "    'horse_number_first',\n",
    "    'frame_number_second',\n",
    "    'horse_number_second',\n",
    "    'frame_number_third',\n",
    "    'horse_number_third',\n",
    "    'tansyo',\n",
    "    'hukusyo_first',\n",
    "    'hukusyo_second',\n",
    "    'hukusyo_third',\n",
    "    'wakuren',\n",
    "    'umaren',\n",
    "    'wide_1_2',\n",
    "    'wide_1_3',\n",
    "    'wide_2_3',\n",
    "    'umatan',\n",
    "    'renhuku3',\n",
    "    'rentan3'\n",
    "    ]\n",
    "\n",
    "horse_data_columns=[\n",
    "    'race_id',\n",
    "    'rank',\n",
    "    'frame_number',\n",
    "    'horse_number',\n",
    "    'horse_id',\n",
    "    'sex_and_age',\n",
    "    'burden_weight',\n",
    "    'rider_id',\n",
    "    'goal_time',\n",
    "    'goal_time_dif',\n",
    "    'time_value',\n",
    "    'half_way_rank',\n",
    "    'last_time',\n",
    "    'odds',\n",
    "    'popular',\n",
    "    'horse_weight',\n",
    "    'tame_time',\n",
    "    'tamer_id',\n",
    "    'owner_id'\n",
    "]\n",
    "CSV_DIR = \"csv\"\n",
    "\n",
    "def scrape_race_and_horse_data_by_html(race_id, html):\n",
    "    \"\"\"\n",
    "    HTMLファイルからレースと馬のデータを取得\n",
    "    戻り値1: list型 レースデータ\n",
    "    戻り値2: list型 馬データ\n",
    "    \"\"\"\n",
    "    race_list = [race_id]\n",
    "    horse_list_list = []\n",
    "    soup = BeautifulSoup(html, 'html.parser')\n",
    "    #####################\n",
    "    # race_data\n",
    "    #####################\n",
    "    data_intro = soup.find(\"div\", class_=\"data_intro\")\n",
    "    \n",
    "    race_list.append(data_intro.find(\"dt\").get_text().strip(\"\\n\")) # race_round\n",
    "    race_list.append(data_intro.find(\"h1\").get_text().strip(\"\\n\")) # race_title\n",
    "\n",
    "    race_details1 = data_intro.find(\"p\").get_text().strip(\"\\n\").split(\"\\xa0/\\xa0\")\n",
    "    race_list.append(race_details1[0]) # race_course\n",
    "    race_list.append(race_details1[1]) # weather\n",
    "    race_list.append(race_details1[2]) # ground_status\n",
    "    race_list.append(race_details1[3][5:10]) # time\n",
    "\n",
    "    race_details2 = data_intro.find(\"p\", class_=\"smalltxt\").get_text().strip(\"\\n\").split(\" \")\n",
    "    race_list.append(race_details2[0]) # date\n",
    "    race_list.append(race_details2[1]) # where_racecourse\n",
    "\n",
    "\n",
    "    result_rows = soup.find(\"table\", class_=\"race_table_01 nk_tb_common\").findAll('tr') \n",
    "    race_list.append(len(result_rows)-1) # total_horse_number\n",
    "    for i in range(1,4):\n",
    "        row = result_rows[i].findAll('td')\n",
    "        race_list.append(row[1].get_text()) # frame_number_first or second or third\n",
    "        race_list.append(row[2].get_text()) # horse_number_first or second or third\n",
    "\n",
    "\n",
    "    pay_back_tables = soup.findAll(\"table\", class_=\"pay_table_01\")\n",
    "\n",
    "    pay_back1 = pay_back_tables[0].findAll('tr')\n",
    "    race_list.append(pay_back1[0].find(\"td\", class_=\"txt_r\").get_text()) #tansyo\n",
    "    hukuren = pay_back1[1].find(\"td\", class_=\"txt_r\")\n",
    "    tmp = []\n",
    "    for string in hukuren.strings:\n",
    "        tmp.append(string)\n",
    "    for i in range(3):\n",
    "        try:\n",
    "            race_list.append(tmp[i]) # hukuren_first or second or third\n",
    "        except IndexError:\n",
    "            race_list.append(\"0\")\n",
    "    try:\n",
    "        race_list.append(pay_back1[2].find(\"td\", class_=\"txt_r\").get_text())\n",
    "    except IndexError:\n",
    "        race_list.append(\"0\")\n",
    "\n",
    "    try:\n",
    "        race_list.append(pay_back1[3].find(\"td\", class_=\"txt_r\").get_text())\n",
    "    except IndexError:\n",
    "        race_list.append(\"0\")\n",
    "\n",
    "\n",
    "\n",
    "    pay_back2 = pay_back_tables[1].findAll('tr')\n",
    "    # wide 1&2\n",
    "    wide = pay_back2[0].find(\"td\", class_=\"txt_r\")\n",
    "    tmp = []\n",
    "    for string in wide.strings:\n",
    "        tmp.append(string)\n",
    "    for i in range(3):\n",
    "        try:\n",
    "            race_list.append(tmp[i]) # hukuren_first or second or third\n",
    "        except IndexError:\n",
    "            race_list.append(\"0\")\n",
    "\n",
    "    # umatan\n",
    "    race_list.append(pay_back2[1].find(\"td\", class_=\"txt_r\").get_text()) #umatan\n",
    "\n",
    "    race_list.append(pay_back2[2].find(\"td\", class_=\"txt_r\").get_text()) #renhuku3\n",
    "    try:\n",
    "        race_list.append(pay_back2[3].find(\"td\", class_=\"txt_r\").get_text()) #rentan3\n",
    "    except IndexError:\n",
    "        race_list.append(\"0\")\n",
    "    ####################\n",
    "    # horse data\n",
    "    ####################\n",
    "    for rank in range(1, len(result_rows)):\n",
    "        horse_list = [race_id]\n",
    "        result_row = result_rows[rank].findAll(\"td\")\n",
    "        # rank\n",
    "        horse_list.append(result_row[0].get_text().strip())\n",
    "        # frame_number\n",
    "        horse_list.append(result_row[1].get_text().strip())\n",
    "        # horse_number\n",
    "        horse_list.append(result_row[2].get_text().strip())\n",
    "        # horse_id\n",
    "        horse_list.append(result_row[3].find('a').get('href').split(\"/\")[-2].strip())\n",
    "        # sex_and_age\n",
    "        horse_list.append(result_row[4].get_text().strip())\n",
    "        # burden_weight\n",
    "        horse_list.append(result_row[5].get_text().strip())\n",
    "        # rider_id\n",
    "        horse_list.append(result_row[6].find('a').get('href').split(\"/\")[-2].strip())\n",
    "        # goal_time\n",
    "        horse_list.append(result_row[7].get_text().strip())\n",
    "        # goal_time_dif\n",
    "        horse_list.append(result_row[8].get_text().strip())\n",
    "        # time_value(premium)\n",
    "        horse_list.append(result_row[9].get_text().strip())\n",
    "        # half_way_rank\n",
    "        horse_list.append(result_row[10].get_text().strip())\n",
    "        # last_time\n",
    "        horse_list.append(result_row[11].get_text().strip())\n",
    "        # odds\n",
    "        horse_list.append(result_row[12].get_text().strip())\n",
    "        # popular\n",
    "        horse_list.append(result_row[13].get_text().strip())\n",
    "        # horse_weight\n",
    "        horse_list.append(result_row[14].get_text().strip())\n",
    "        # tame_time(premium)\n",
    "        horse_list.append(result_row[15].get_text().strip())\n",
    "        # tamer_id\n",
    "        horse_list.append(result_row[18].find('a').get('href').split(\"/\")[-2].strip())\n",
    "        # owner_id\n",
    "        horse_list.append(result_row[19].find('a').get('href').split(\"/\")[-2].strip())\n",
    "\n",
    "        horse_list_list.append(horse_list)\n",
    "\n",
    "    return race_list, horse_list_list\n",
    "\n",
    "def request_html(url):\n",
    "    \"\"\"\n",
    "    URLからHTMLファイルを取得する\n",
    "    戻り値: str型　HTMLのデータ\n",
    "    \"\"\"\n",
    "    response = requests.get(url)\n",
    "    response.encoding = response.apparent_encoding\n",
    "    html = response.text\n",
    "    time.sleep(1)\n",
    "    return html\n",
    "\n",
    "def create_csv(urls):\n",
    "    \"\"\"\n",
    "    URLからレースと馬のデータを取得しCSVに保存する\n",
    "    戻り値: なし\n",
    "    \"\"\"\n",
    "    if not os.path.isdir(CSV_DIR):\n",
    "        os.makedirs(CSV_DIR)\n",
    "    save_race_csv = CSV_DIR+\"/race.csv\"\n",
    "    horse_race_csv = CSV_DIR+\"/horse.csv\"\n",
    "    time.sleep(2)\n",
    "    race_df = pd.DataFrame(columns=race_data_columns )\n",
    "    horse_df = pd.DataFrame(columns=horse_data_columns )\n",
    "\n",
    "    count = 0\n",
    "\n",
    "    for url in urls:\n",
    "        print(url)\n",
    "        list = url.split(\"/\")\n",
    "        race_id = list[-2]\n",
    "        \n",
    "        html = request_html(url)\n",
    "        race_list, horse_list_list = scrape_race_and_horse_data_by_html(race_id, html)\n",
    "        #horse_data\n",
    "        for horse_list in horse_list_list:\n",
    "            horse_se = pd.Series( horse_list, index=horse_df.columns)\n",
    "            horse_df = horse_df.append(horse_se, ignore_index=True)\n",
    "        #race_data\n",
    "        race_se = pd.Series(race_list, index=race_df.columns )\n",
    "        race_df = race_df.append(race_se, ignore_index=True )\n",
    "\n",
    "        #250ごとにデータをCSVに変換しておく\n",
    "        if count == 250:\n",
    "            count = 0\n",
    "            race_df.to_csv(save_race_csv, header=True, index=False)\n",
    "            horse_df.to_csv(horse_race_csv, header=True, index=False)\n",
    "\n",
    "        \n",
    "\n",
    "    race_df.to_csv(save_race_csv, header=True, index=False)\n",
    "    horse_df.to_csv(horse_race_csv, header=True, index=False)"
   ]
  },
  {
   "cell_type": "code",
   "execution_count": 134,
   "metadata": {},
   "outputs": [
    {
     "output_type": "stream",
     "name": "stdout",
     "text": "https://db.netkeiba.com/race/202006030811.html\n"
    }
   ],
   "source": [
    "urls = [\"https://db.netkeiba.com/race/202006030811.html\"]\n",
    "create_csv(urls)"
   ]
  },
  {
   "cell_type": "markdown",
   "metadata": {},
   "source": [
    "下のセルはColaboratory上でseleniumを動かす場合のみ実行"
   ]
  },
  {
   "cell_type": "code",
   "execution_count": null,
   "metadata": {},
   "outputs": [],
   "source": [
    "!apt-get update\n",
    "!apt install chromium-chromedriver\n",
    "!cp /usr/lib/chromium-browser/chromedriver /usr/bin\n",
    "!pip install selenium"
   ]
  },
  {
   "cell_type": "code",
   "execution_count": 69,
   "metadata": {},
   "outputs": [],
   "source": [
    "from selenium.webdriver.support import expected_conditions as EC\n",
    "from selenium.webdriver.common.by import By\n",
    "from selenium.webdriver.support.ui import Select,WebDriverWait\n",
    "from selenium.webdriver.chrome.options import Options\n",
    "from selenium import webdriver\n",
    "import chromedriver_binary\n",
    "import sys\n",
    "import re\n",
    "import csv\n",
    "import time\n",
    "\n",
    "def get_urls(args):\n",
    "    \"\"\"\n",
    "    \n",
    "    \"\"\"\n",
    "    \n",
    "\n",
    "    driver = webdriver.Chrome('chromedriver',options=options)\n",
    "    urls = []\n",
    "    options = Options()\n",
    "    options.add_argument('--headless')\n",
    "    \"\"\"\n",
    "    #Colaboratory上でseleniumを動かす場合のみ実行\n",
    "    options = webdriver.ChromeOptions()\n",
    "    options.add_argument('--headless')\n",
    "    options.add_argument('--no-sandbox')\n",
    "    options.add_argument('--disable-dev-shm-usage')\n",
    "    driver = webdriver.Chrome('chromedriver',options=options)\n",
    "    \"\"\"\n",
    "    driver = webdriver.Chrome() #Colaboratory上でseleniumを動かす場合この行をコメントアウト\n",
    "    wait = WebDriverWait(driver,10)\n",
    "    URL = \"https://db.netkeiba.com/?pid=race_search_detail\"\n",
    "    driver.get(URL)\n",
    "    time.sleep(1)\n",
    "    wait.until(EC.presence_of_all_elements_located)\n",
    "\n",
    "    #?????\n",
    "\n",
    "    start_year = args[0]\n",
    "    start_mon = args[1]\n",
    "    end_year = args[2]\n",
    "    end_mon = args[3]\n",
    "\n",
    "    start_year_element = driver.find_element_by_name('start_year')\n",
    "    start_year_select = Select(start_year_element)\n",
    "    start_year_select.select_by_value(str(start_year))\n",
    "    start_mon_element = driver.find_element_by_name('start_mon')\n",
    "    start_mon_select = Select(start_mon_element)\n",
    "    start_mon_select.select_by_value(str(start_mon))\n",
    "    end_year_element = driver.find_element_by_name('end_year')\n",
    "    end_year_select = Select(end_year_element)\n",
    "    end_year_select.select_by_value(str(end_year))\n",
    "    end_mon_element = driver.find_element_by_name('end_mon')\n",
    "    end_mon_select = Select(end_mon_element)\n",
    "    end_mon_select.select_by_value(str(end_mon))\n",
    "\n",
    "    for i in range(1,11):\n",
    "        terms = driver.find_element_by_id(\"check_Jyo_\"+ str(i).zfill(2))\n",
    "        terms.click()\n",
    "    #???????????100????\n",
    "    list_element = driver.find_element_by_name('list')\n",
    "    list_select = Select(list_element)\n",
    "    list_select.select_by_value(\"100\")\n",
    "\n",
    "    frm = driver.find_element_by_css_selector(\"#db_search_detail_form > form\")\n",
    "    frm.submit()\n",
    "    time.sleep(10)\n",
    "    wait.until(EC.presence_of_all_elements_located)\n",
    "    while True:\n",
    "        time.sleep(10)\n",
    "        wait.until(EC.presence_of_all_elements_located)\n",
    "        all_rows = driver.find_element_by_class_name('race_table_01').find_elements_by_tag_name(\"tr\")\n",
    "        for row in range(1, len(all_rows)):\n",
    "            race_href=all_rows[row].find_elements_by_tag_name(\"td\")[4].find_element_by_tag_name(\"a\").get_attribute(\"href\")\n",
    "            urls.append(race_href)\n",
    "        try:\n",
    "            target = driver.find_elements_by_link_text(\"æ¬¡\")[0]\n",
    "            time.sleep(4)\n",
    "            driver.execute_script(\"arguments[0].click();\", target)\n",
    "        except IndexError:\n",
    "            break\n",
    "    return urls\n"
   ]
  },
  {
   "cell_type": "code",
   "execution_count": 71,
   "metadata": {},
   "outputs": [
    {
     "output_type": "stream",
     "name": "stdout",
     "text": "https://db.netkeiba.com/race/202006010901/\nhttps://db.netkeiba.com/race/202006010902/\nhttps://db.netkeiba.com/race/202006010903/\nhttps://db.netkeiba.com/race/202006010904/\nhttps://db.netkeiba.com/race/202006010905/\nhttps://db.netkeiba.com/race/202006010906/\nhttps://db.netkeiba.com/race/202006010907/\nhttps://db.netkeiba.com/race/202006010908/\nhttps://db.netkeiba.com/race/202006010909/\nhttps://db.netkeiba.com/race/202006010910/\nhttps://db.netkeiba.com/race/202006010911/\nhttps://db.netkeiba.com/race/202006010912/\nhttps://db.netkeiba.com/race/202008010901/\nhttps://db.netkeiba.com/race/202008010902/\nhttps://db.netkeiba.com/race/202008010903/\nhttps://db.netkeiba.com/race/202008010904/\nhttps://db.netkeiba.com/race/202008010905/\nhttps://db.netkeiba.com/race/202008010906/\nhttps://db.netkeiba.com/race/202008010907/\nhttps://db.netkeiba.com/race/202008010908/\nhttps://db.netkeiba.com/race/202008010909/\nhttps://db.netkeiba.com/race/202008010910/\nhttps://db.netkeiba.com/race/202008010911/\nhttps://db.netkeiba.com/race/202008010912/\nhttps://db.netkeiba.com/race/202010010401/\nhttps://db.netkeiba.com/race/202010010402/\nhttps://db.netkeiba.com/race/202010010403/\nhttps://db.netkeiba.com/race/202010010404/\nhttps://db.netkeiba.com/race/202010010405/\nhttps://db.netkeiba.com/race/202010010406/\nhttps://db.netkeiba.com/race/202010010407/\nhttps://db.netkeiba.com/race/202010010408/\nhttps://db.netkeiba.com/race/202010010409/\nhttps://db.netkeiba.com/race/202010010410/\nhttps://db.netkeiba.com/race/202010010411/\nhttps://db.netkeiba.com/race/202010010412/\nhttps://db.netkeiba.com/race/202006010801/\nhttps://db.netkeiba.com/race/202006010802/\nhttps://db.netkeiba.com/race/202006010803/\nhttps://db.netkeiba.com/race/202006010804/\nhttps://db.netkeiba.com/race/202006010805/\nhttps://db.netkeiba.com/race/202006010806/\nhttps://db.netkeiba.com/race/202006010807/\nhttps://db.netkeiba.com/race/202006010808/\nhttps://db.netkeiba.com/race/202006010809/\nhttps://db.netkeiba.com/race/202006010810/\nhttps://db.netkeiba.com/race/202006010811/\nhttps://db.netkeiba.com/race/202006010812/\nhttps://db.netkeiba.com/race/202008010801/\nhttps://db.netkeiba.com/race/202008010802/\nhttps://db.netkeiba.com/race/202008010803/\nhttps://db.netkeiba.com/race/202008010804/\nhttps://db.netkeiba.com/race/202008010805/\nhttps://db.netkeiba.com/race/202008010806/\nhttps://db.netkeiba.com/race/202008010807/\nhttps://db.netkeiba.com/race/202008010808/\nhttps://db.netkeiba.com/race/202008010809/\nhttps://db.netkeiba.com/race/202008010810/\nhttps://db.netkeiba.com/race/202008010811/\nhttps://db.netkeiba.com/race/202008010812/\nhttps://db.netkeiba.com/race/202010010301/\nhttps://db.netkeiba.com/race/202010010302/\nhttps://db.netkeiba.com/race/202010010303/\nhttps://db.netkeiba.com/race/202010010304/\nhttps://db.netkeiba.com/race/202010010305/\nhttps://db.netkeiba.com/race/202010010306/\nhttps://db.netkeiba.com/race/202010010307/\nhttps://db.netkeiba.com/race/202010010308/\nhttps://db.netkeiba.com/race/202010010309/\nhttps://db.netkeiba.com/race/202010010310/\nhttps://db.netkeiba.com/race/202010010311/\nhttps://db.netkeiba.com/race/202010010312/\nhttps://db.netkeiba.com/race/202006010701/\nhttps://db.netkeiba.com/race/202006010702/\nhttps://db.netkeiba.com/race/202006010703/\nhttps://db.netkeiba.com/race/202006010704/\nhttps://db.netkeiba.com/race/202006010705/\nhttps://db.netkeiba.com/race/202006010706/\nhttps://db.netkeiba.com/race/202006010707/\nhttps://db.netkeiba.com/race/202006010708/\nhttps://db.netkeiba.com/race/202006010709/\nhttps://db.netkeiba.com/race/202006010710/\nhttps://db.netkeiba.com/race/202006010711/\nhttps://db.netkeiba.com/race/202006010712/\nhttps://db.netkeiba.com/race/202008010701/\nhttps://db.netkeiba.com/race/202008010702/\nhttps://db.netkeiba.com/race/202008010703/\nhttps://db.netkeiba.com/race/202008010704/\nhttps://db.netkeiba.com/race/202008010705/\nhttps://db.netkeiba.com/race/202008010706/\nhttps://db.netkeiba.com/race/202008010707/\nhttps://db.netkeiba.com/race/202008010708/\nhttps://db.netkeiba.com/race/202008010709/\nhttps://db.netkeiba.com/race/202008010710/\nhttps://db.netkeiba.com/race/202008010711/\nhttps://db.netkeiba.com/race/202008010712/\nhttps://db.netkeiba.com/race/202010010201/\nhttps://db.netkeiba.com/race/202010010202/\nhttps://db.netkeiba.com/race/202010010203/\nhttps://db.netkeiba.com/race/202010010204/\n"
    }
   ],
   "source": [
    "args = [2020,1,2020,1]\n",
    "urls = get_urls(args)\n",
    "create_csv(urls)"
   ]
  },
  {
   "cell_type": "code",
   "execution_count": null,
   "metadata": {},
   "outputs": [],
   "source": []
  }
 ]
}