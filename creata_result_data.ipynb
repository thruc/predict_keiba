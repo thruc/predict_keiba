{
 "nbformat": 4,
 "nbformat_minor": 2,
 "metadata": {
  "language_info": {
   "name": "python",
   "codemirror_mode": {
    "name": "ipython",
    "version": 3
   },
   "version": "3.7.4-final"
  },
  "orig_nbformat": 2,
  "file_extension": ".py",
  "mimetype": "text/x-python",
  "name": "python",
  "npconvert_exporter": "python",
  "pygments_lexer": "ipython3",
  "version": 3,
  "kernelspec": {
   "name": "python37464bit1ebf9c4dc354488cae1027a09c7ab0e8",
   "display_name": "Python 3.7.4 64-bit"
  }
 },
 "cells": [
  {
   "cell_type": "code",
   "execution_count": 1,
   "metadata": {},
   "outputs": [],
   "source": [
    "import numpy as np\n",
    "import pandas as pd\n",
    "pd.set_option('display.max_columns', 50)"
   ]
  },
  {
   "cell_type": "code",
   "execution_count": 2,
   "metadata": {},
   "outputs": [],
   "source": [
    "race_df = pd.read_csv(\"csv/race.csv\", sep=\",\")\n",
    "result_df = race_df[\"race_id\"]"
   ]
  },
  {
   "cell_type": "code",
   "execution_count": 3,
   "metadata": {},
   "outputs": [
    {
     "output_type": "execute_result",
     "data": {
      "text/plain": "        race_id race_round race_title race_course weather ground_status  \\\n0  201906030401        1 R      3歳未勝利     ダ右1800m  天候 : 曇      ダート : 稍重   \n1  201906030402        2 R      3歳未勝利     ダ右1200m  天候 : 曇      ダート : 稍重   \n2  201906030403        3 R      3歳未勝利   芝右 外1600m  天候 : 曇        芝 : 稍重   \n\n    time        date where_racecourse  total_horse_number  frame_number_first  \\\n0  09:50  2019年3月31日          3回中山4日目                  16                   8   \n1  10:20  2019年3月31日          3回中山4日目                  16                   8   \n2  10:50  2019年3月31日          3回中山4日目                  16                   7   \n\n   horse_number_first  frame_number_second  horse_number_second  \\\n0                  15                    2                    4   \n1                  15                    5                   10   \n2                  13                    5                   10   \n\n   frame_number_third  horse_number_third tansyo hukusyo_first hukusyo_second  \\\n0                   2                   3  1,680           490            160   \n1                   6                  12    470           160            110   \n2                   1                   1    250           110            120   \n\n  hukusyo_third wakuren umaren wide_1_2 wide_1_3 wide_2_3 umatan renhuku3  \\\n0           420   2,490  2,840      920    3,780      920  8,130   14,860   \n1           230     420    460      250      960      440  1,090    1,910   \n2           140     450    370      190      260      280    620      520   \n\n   rentan3  \n0  120,060  \n1    9,070  \n2    1,700  ",
      "text/html": "<div>\n<style scoped>\n    .dataframe tbody tr th:only-of-type {\n        vertical-align: middle;\n    }\n\n    .dataframe tbody tr th {\n        vertical-align: top;\n    }\n\n    .dataframe thead th {\n        text-align: right;\n    }\n</style>\n<table border=\"1\" class=\"dataframe\">\n  <thead>\n    <tr style=\"text-align: right;\">\n      <th></th>\n      <th>race_id</th>\n      <th>race_round</th>\n      <th>race_title</th>\n      <th>race_course</th>\n      <th>weather</th>\n      <th>ground_status</th>\n      <th>time</th>\n      <th>date</th>\n      <th>where_racecourse</th>\n      <th>total_horse_number</th>\n      <th>frame_number_first</th>\n      <th>horse_number_first</th>\n      <th>frame_number_second</th>\n      <th>horse_number_second</th>\n      <th>frame_number_third</th>\n      <th>horse_number_third</th>\n      <th>tansyo</th>\n      <th>hukusyo_first</th>\n      <th>hukusyo_second</th>\n      <th>hukusyo_third</th>\n      <th>wakuren</th>\n      <th>umaren</th>\n      <th>wide_1_2</th>\n      <th>wide_1_3</th>\n      <th>wide_2_3</th>\n      <th>umatan</th>\n      <th>renhuku3</th>\n      <th>rentan3</th>\n    </tr>\n  </thead>\n  <tbody>\n    <tr>\n      <th>0</th>\n      <td>201906030401</td>\n      <td>1 R</td>\n      <td>3歳未勝利</td>\n      <td>ダ右1800m</td>\n      <td>天候 : 曇</td>\n      <td>ダート : 稍重</td>\n      <td>09:50</td>\n      <td>2019年3月31日</td>\n      <td>3回中山4日目</td>\n      <td>16</td>\n      <td>8</td>\n      <td>15</td>\n      <td>2</td>\n      <td>4</td>\n      <td>2</td>\n      <td>3</td>\n      <td>1,680</td>\n      <td>490</td>\n      <td>160</td>\n      <td>420</td>\n      <td>2,490</td>\n      <td>2,840</td>\n      <td>920</td>\n      <td>3,780</td>\n      <td>920</td>\n      <td>8,130</td>\n      <td>14,860</td>\n      <td>120,060</td>\n    </tr>\n    <tr>\n      <th>1</th>\n      <td>201906030402</td>\n      <td>2 R</td>\n      <td>3歳未勝利</td>\n      <td>ダ右1200m</td>\n      <td>天候 : 曇</td>\n      <td>ダート : 稍重</td>\n      <td>10:20</td>\n      <td>2019年3月31日</td>\n      <td>3回中山4日目</td>\n      <td>16</td>\n      <td>8</td>\n      <td>15</td>\n      <td>5</td>\n      <td>10</td>\n      <td>6</td>\n      <td>12</td>\n      <td>470</td>\n      <td>160</td>\n      <td>110</td>\n      <td>230</td>\n      <td>420</td>\n      <td>460</td>\n      <td>250</td>\n      <td>960</td>\n      <td>440</td>\n      <td>1,090</td>\n      <td>1,910</td>\n      <td>9,070</td>\n    </tr>\n    <tr>\n      <th>2</th>\n      <td>201906030403</td>\n      <td>3 R</td>\n      <td>3歳未勝利</td>\n      <td>芝右 外1600m</td>\n      <td>天候 : 曇</td>\n      <td>芝 : 稍重</td>\n      <td>10:50</td>\n      <td>2019年3月31日</td>\n      <td>3回中山4日目</td>\n      <td>16</td>\n      <td>7</td>\n      <td>13</td>\n      <td>5</td>\n      <td>10</td>\n      <td>1</td>\n      <td>1</td>\n      <td>250</td>\n      <td>110</td>\n      <td>120</td>\n      <td>140</td>\n      <td>450</td>\n      <td>370</td>\n      <td>190</td>\n      <td>260</td>\n      <td>280</td>\n      <td>620</td>\n      <td>520</td>\n      <td>1,700</td>\n    </tr>\n  </tbody>\n</table>\n</div>"
     },
     "metadata": {},
     "execution_count": 3
    }
   ],
   "source": [
    "race_df.head(3)"
   ]
  },
  {
   "cell_type": "code",
   "execution_count": 4,
   "metadata": {},
   "outputs": [],
   "source": [
    "horse_number_first = race_df[\"horse_number_first\"]\n",
    "horse_number_second = race_df[\"horse_number_second\"]\n",
    "horse_number_third = race_df[\"horse_number_third\"]"
   ]
  },
  {
   "cell_type": "code",
   "execution_count": 5,
   "metadata": {},
   "outputs": [],
   "source": [
    "df_one_hot_encoded1 = pd.get_dummies(horse_number_first)\n",
    "df_one_hot_encoded2 = pd.get_dummies(horse_number_second)\n",
    "df_one_hot_encoded3 = pd.get_dummies(horse_number_third)"
   ]
  },
  {
   "cell_type": "code",
   "execution_count": 6,
   "metadata": {},
   "outputs": [
    {
     "output_type": "execute_result",
     "data": {
      "text/plain": "     1   2   3   4   5   6   7   8   9   10  11  12  13  14  15  16  17  18\n0     0   0   1   1   0   0   0   0   0   0   0   0   0   0   1   0   0   0\n1     0   0   0   0   0   0   0   0   0   1   0   1   0   0   1   0   0   0\n2     1   0   0   0   0   0   0   0   0   1   0   0   1   0   0   0   0   0\n3     1   1   0   0   0   0   0   0   0   0   0   1   0   0   0   0   0   0\n4     1   0   0   0   1   0   0   0   0   0   0   0   1   0   0   0   0   0\n..   ..  ..  ..  ..  ..  ..  ..  ..  ..  ..  ..  ..  ..  ..  ..  ..  ..  ..\n619   0   1   0   0   0   0   0   1   0   0   0   1   0   0   0   0   0   0\n620   0   0   1   1   0   0   0   0   0   1   0   0   0   0   0   0   0   0\n621   1   0   0   1   0   1   0   0   0   0   0   0   0   0   0   0   0   0\n622   0   0   1   0   0   0   0   1   0   0   1   0   0   0   0   0   0   0\n623   0   0   0   1   0   0   0   1   0   1   0   0   0   0   0   0   0   0\n\n[624 rows x 18 columns]",
      "text/html": "<div>\n<style scoped>\n    .dataframe tbody tr th:only-of-type {\n        vertical-align: middle;\n    }\n\n    .dataframe tbody tr th {\n        vertical-align: top;\n    }\n\n    .dataframe thead th {\n        text-align: right;\n    }\n</style>\n<table border=\"1\" class=\"dataframe\">\n  <thead>\n    <tr style=\"text-align: right;\">\n      <th></th>\n      <th>1</th>\n      <th>2</th>\n      <th>3</th>\n      <th>4</th>\n      <th>5</th>\n      <th>6</th>\n      <th>7</th>\n      <th>8</th>\n      <th>9</th>\n      <th>10</th>\n      <th>11</th>\n      <th>12</th>\n      <th>13</th>\n      <th>14</th>\n      <th>15</th>\n      <th>16</th>\n      <th>17</th>\n      <th>18</th>\n    </tr>\n  </thead>\n  <tbody>\n    <tr>\n      <th>0</th>\n      <td>0</td>\n      <td>0</td>\n      <td>1</td>\n      <td>1</td>\n      <td>0</td>\n      <td>0</td>\n      <td>0</td>\n      <td>0</td>\n      <td>0</td>\n      <td>0</td>\n      <td>0</td>\n      <td>0</td>\n      <td>0</td>\n      <td>0</td>\n      <td>1</td>\n      <td>0</td>\n      <td>0</td>\n      <td>0</td>\n    </tr>\n    <tr>\n      <th>1</th>\n      <td>0</td>\n      <td>0</td>\n      <td>0</td>\n      <td>0</td>\n      <td>0</td>\n      <td>0</td>\n      <td>0</td>\n      <td>0</td>\n      <td>0</td>\n      <td>1</td>\n      <td>0</td>\n      <td>1</td>\n      <td>0</td>\n      <td>0</td>\n      <td>1</td>\n      <td>0</td>\n      <td>0</td>\n      <td>0</td>\n    </tr>\n    <tr>\n      <th>2</th>\n      <td>1</td>\n      <td>0</td>\n      <td>0</td>\n      <td>0</td>\n      <td>0</td>\n      <td>0</td>\n      <td>0</td>\n      <td>0</td>\n      <td>0</td>\n      <td>1</td>\n      <td>0</td>\n      <td>0</td>\n      <td>1</td>\n      <td>0</td>\n      <td>0</td>\n      <td>0</td>\n      <td>0</td>\n      <td>0</td>\n    </tr>\n    <tr>\n      <th>3</th>\n      <td>1</td>\n      <td>1</td>\n      <td>0</td>\n      <td>0</td>\n      <td>0</td>\n      <td>0</td>\n      <td>0</td>\n      <td>0</td>\n      <td>0</td>\n      <td>0</td>\n      <td>0</td>\n      <td>1</td>\n      <td>0</td>\n      <td>0</td>\n      <td>0</td>\n      <td>0</td>\n      <td>0</td>\n      <td>0</td>\n    </tr>\n    <tr>\n      <th>4</th>\n      <td>1</td>\n      <td>0</td>\n      <td>0</td>\n      <td>0</td>\n      <td>1</td>\n      <td>0</td>\n      <td>0</td>\n      <td>0</td>\n      <td>0</td>\n      <td>0</td>\n      <td>0</td>\n      <td>0</td>\n      <td>1</td>\n      <td>0</td>\n      <td>0</td>\n      <td>0</td>\n      <td>0</td>\n      <td>0</td>\n    </tr>\n    <tr>\n      <th>...</th>\n      <td>...</td>\n      <td>...</td>\n      <td>...</td>\n      <td>...</td>\n      <td>...</td>\n      <td>...</td>\n      <td>...</td>\n      <td>...</td>\n      <td>...</td>\n      <td>...</td>\n      <td>...</td>\n      <td>...</td>\n      <td>...</td>\n      <td>...</td>\n      <td>...</td>\n      <td>...</td>\n      <td>...</td>\n      <td>...</td>\n    </tr>\n    <tr>\n      <th>619</th>\n      <td>0</td>\n      <td>1</td>\n      <td>0</td>\n      <td>0</td>\n      <td>0</td>\n      <td>0</td>\n      <td>0</td>\n      <td>1</td>\n      <td>0</td>\n      <td>0</td>\n      <td>0</td>\n      <td>1</td>\n      <td>0</td>\n      <td>0</td>\n      <td>0</td>\n      <td>0</td>\n      <td>0</td>\n      <td>0</td>\n    </tr>\n    <tr>\n      <th>620</th>\n      <td>0</td>\n      <td>0</td>\n      <td>1</td>\n      <td>1</td>\n      <td>0</td>\n      <td>0</td>\n      <td>0</td>\n      <td>0</td>\n      <td>0</td>\n      <td>1</td>\n      <td>0</td>\n      <td>0</td>\n      <td>0</td>\n      <td>0</td>\n      <td>0</td>\n      <td>0</td>\n      <td>0</td>\n      <td>0</td>\n    </tr>\n    <tr>\n      <th>621</th>\n      <td>1</td>\n      <td>0</td>\n      <td>0</td>\n      <td>1</td>\n      <td>0</td>\n      <td>1</td>\n      <td>0</td>\n      <td>0</td>\n      <td>0</td>\n      <td>0</td>\n      <td>0</td>\n      <td>0</td>\n      <td>0</td>\n      <td>0</td>\n      <td>0</td>\n      <td>0</td>\n      <td>0</td>\n      <td>0</td>\n    </tr>\n    <tr>\n      <th>622</th>\n      <td>0</td>\n      <td>0</td>\n      <td>1</td>\n      <td>0</td>\n      <td>0</td>\n      <td>0</td>\n      <td>0</td>\n      <td>1</td>\n      <td>0</td>\n      <td>0</td>\n      <td>1</td>\n      <td>0</td>\n      <td>0</td>\n      <td>0</td>\n      <td>0</td>\n      <td>0</td>\n      <td>0</td>\n      <td>0</td>\n    </tr>\n    <tr>\n      <th>623</th>\n      <td>0</td>\n      <td>0</td>\n      <td>0</td>\n      <td>1</td>\n      <td>0</td>\n      <td>0</td>\n      <td>0</td>\n      <td>1</td>\n      <td>0</td>\n      <td>1</td>\n      <td>0</td>\n      <td>0</td>\n      <td>0</td>\n      <td>0</td>\n      <td>0</td>\n      <td>0</td>\n      <td>0</td>\n      <td>0</td>\n    </tr>\n  </tbody>\n</table>\n<p>624 rows × 18 columns</p>\n</div>"
     },
     "metadata": {},
     "execution_count": 6
    }
   ],
   "source": [
    "df_one_hot_encoded = df_one_hot_encoded1 + df_one_hot_encoded2 + df_one_hot_encoded3\n",
    "df_one_hot_encoded"
   ]
  },
  {
   "cell_type": "code",
   "execution_count": 7,
   "metadata": {},
   "outputs": [],
   "source": [
    "result_df = pd.concat([result_df, df_one_hot_encoded],axis=1)"
   ]
  },
  {
   "cell_type": "code",
   "execution_count": 8,
   "metadata": {},
   "outputs": [
    {
     "output_type": "execute_result",
     "data": {
      "text/plain": "          race_id  1  2  3  4  5  6  7  8  9  10  11  12  13  14  15  16  17  \\\n0    201906030401  0  0  1  1  0  0  0  0  0   0   0   0   0   0   1   0   0   \n1    201906030402  0  0  0  0  0  0  0  0  0   1   0   1   0   0   1   0   0   \n2    201906030403  1  0  0  0  0  0  0  0  0   1   0   0   1   0   0   0   0   \n3    201906030404  1  1  0  0  0  0  0  0  0   0   0   1   0   0   0   0   0   \n4    201906030405  1  0  0  0  1  0  0  0  0   0   0   0   1   0   0   0   0   \n..            ... .. .. .. .. .. .. .. .. ..  ..  ..  ..  ..  ..  ..  ..  ..   \n619  201908020308  0  1  0  0  0  0  0  1  0   0   0   1   0   0   0   0   0   \n620  201908020309  0  0  1  1  0  0  0  0  0   1   0   0   0   0   0   0   0   \n621  201908020310  1  0  0  1  0  1  0  0  0   0   0   0   0   0   0   0   0   \n622  201908020311  0  0  1  0  0  0  0  1  0   0   1   0   0   0   0   0   0   \n623  201908020312  0  0  0  1  0  0  0  1  0   1   0   0   0   0   0   0   0   \n\n     18  \n0     0  \n1     0  \n2     0  \n3     0  \n4     0  \n..   ..  \n619   0  \n620   0  \n621   0  \n622   0  \n623   0  \n\n[624 rows x 19 columns]",
      "text/html": "<div>\n<style scoped>\n    .dataframe tbody tr th:only-of-type {\n        vertical-align: middle;\n    }\n\n    .dataframe tbody tr th {\n        vertical-align: top;\n    }\n\n    .dataframe thead th {\n        text-align: right;\n    }\n</style>\n<table border=\"1\" class=\"dataframe\">\n  <thead>\n    <tr style=\"text-align: right;\">\n      <th></th>\n      <th>race_id</th>\n      <th>1</th>\n      <th>2</th>\n      <th>3</th>\n      <th>4</th>\n      <th>5</th>\n      <th>6</th>\n      <th>7</th>\n      <th>8</th>\n      <th>9</th>\n      <th>10</th>\n      <th>11</th>\n      <th>12</th>\n      <th>13</th>\n      <th>14</th>\n      <th>15</th>\n      <th>16</th>\n      <th>17</th>\n      <th>18</th>\n    </tr>\n  </thead>\n  <tbody>\n    <tr>\n      <th>0</th>\n      <td>201906030401</td>\n      <td>0</td>\n      <td>0</td>\n      <td>1</td>\n      <td>1</td>\n      <td>0</td>\n      <td>0</td>\n      <td>0</td>\n      <td>0</td>\n      <td>0</td>\n      <td>0</td>\n      <td>0</td>\n      <td>0</td>\n      <td>0</td>\n      <td>0</td>\n      <td>1</td>\n      <td>0</td>\n      <td>0</td>\n      <td>0</td>\n    </tr>\n    <tr>\n      <th>1</th>\n      <td>201906030402</td>\n      <td>0</td>\n      <td>0</td>\n      <td>0</td>\n      <td>0</td>\n      <td>0</td>\n      <td>0</td>\n      <td>0</td>\n      <td>0</td>\n      <td>0</td>\n      <td>1</td>\n      <td>0</td>\n      <td>1</td>\n      <td>0</td>\n      <td>0</td>\n      <td>1</td>\n      <td>0</td>\n      <td>0</td>\n      <td>0</td>\n    </tr>\n    <tr>\n      <th>2</th>\n      <td>201906030403</td>\n      <td>1</td>\n      <td>0</td>\n      <td>0</td>\n      <td>0</td>\n      <td>0</td>\n      <td>0</td>\n      <td>0</td>\n      <td>0</td>\n      <td>0</td>\n      <td>1</td>\n      <td>0</td>\n      <td>0</td>\n      <td>1</td>\n      <td>0</td>\n      <td>0</td>\n      <td>0</td>\n      <td>0</td>\n      <td>0</td>\n    </tr>\n    <tr>\n      <th>3</th>\n      <td>201906030404</td>\n      <td>1</td>\n      <td>1</td>\n      <td>0</td>\n      <td>0</td>\n      <td>0</td>\n      <td>0</td>\n      <td>0</td>\n      <td>0</td>\n      <td>0</td>\n      <td>0</td>\n      <td>0</td>\n      <td>1</td>\n      <td>0</td>\n      <td>0</td>\n      <td>0</td>\n      <td>0</td>\n      <td>0</td>\n      <td>0</td>\n    </tr>\n    <tr>\n      <th>4</th>\n      <td>201906030405</td>\n      <td>1</td>\n      <td>0</td>\n      <td>0</td>\n      <td>0</td>\n      <td>1</td>\n      <td>0</td>\n      <td>0</td>\n      <td>0</td>\n      <td>0</td>\n      <td>0</td>\n      <td>0</td>\n      <td>0</td>\n      <td>1</td>\n      <td>0</td>\n      <td>0</td>\n      <td>0</td>\n      <td>0</td>\n      <td>0</td>\n    </tr>\n    <tr>\n      <th>...</th>\n      <td>...</td>\n      <td>...</td>\n      <td>...</td>\n      <td>...</td>\n      <td>...</td>\n      <td>...</td>\n      <td>...</td>\n      <td>...</td>\n      <td>...</td>\n      <td>...</td>\n      <td>...</td>\n      <td>...</td>\n      <td>...</td>\n      <td>...</td>\n      <td>...</td>\n      <td>...</td>\n      <td>...</td>\n      <td>...</td>\n      <td>...</td>\n    </tr>\n    <tr>\n      <th>619</th>\n      <td>201908020308</td>\n      <td>0</td>\n      <td>1</td>\n      <td>0</td>\n      <td>0</td>\n      <td>0</td>\n      <td>0</td>\n      <td>0</td>\n      <td>1</td>\n      <td>0</td>\n      <td>0</td>\n      <td>0</td>\n      <td>1</td>\n      <td>0</td>\n      <td>0</td>\n      <td>0</td>\n      <td>0</td>\n      <td>0</td>\n      <td>0</td>\n    </tr>\n    <tr>\n      <th>620</th>\n      <td>201908020309</td>\n      <td>0</td>\n      <td>0</td>\n      <td>1</td>\n      <td>1</td>\n      <td>0</td>\n      <td>0</td>\n      <td>0</td>\n      <td>0</td>\n      <td>0</td>\n      <td>1</td>\n      <td>0</td>\n      <td>0</td>\n      <td>0</td>\n      <td>0</td>\n      <td>0</td>\n      <td>0</td>\n      <td>0</td>\n      <td>0</td>\n    </tr>\n    <tr>\n      <th>621</th>\n      <td>201908020310</td>\n      <td>1</td>\n      <td>0</td>\n      <td>0</td>\n      <td>1</td>\n      <td>0</td>\n      <td>1</td>\n      <td>0</td>\n      <td>0</td>\n      <td>0</td>\n      <td>0</td>\n      <td>0</td>\n      <td>0</td>\n      <td>0</td>\n      <td>0</td>\n      <td>0</td>\n      <td>0</td>\n      <td>0</td>\n      <td>0</td>\n    </tr>\n    <tr>\n      <th>622</th>\n      <td>201908020311</td>\n      <td>0</td>\n      <td>0</td>\n      <td>1</td>\n      <td>0</td>\n      <td>0</td>\n      <td>0</td>\n      <td>0</td>\n      <td>1</td>\n      <td>0</td>\n      <td>0</td>\n      <td>1</td>\n      <td>0</td>\n      <td>0</td>\n      <td>0</td>\n      <td>0</td>\n      <td>0</td>\n      <td>0</td>\n      <td>0</td>\n    </tr>\n    <tr>\n      <th>623</th>\n      <td>201908020312</td>\n      <td>0</td>\n      <td>0</td>\n      <td>0</td>\n      <td>1</td>\n      <td>0</td>\n      <td>0</td>\n      <td>0</td>\n      <td>1</td>\n      <td>0</td>\n      <td>1</td>\n      <td>0</td>\n      <td>0</td>\n      <td>0</td>\n      <td>0</td>\n      <td>0</td>\n      <td>0</td>\n      <td>0</td>\n      <td>0</td>\n    </tr>\n  </tbody>\n</table>\n<p>624 rows × 19 columns</p>\n</div>"
     },
     "metadata": {},
     "execution_count": 8
    }
   ],
   "source": [
    "result_df"
   ]
  },
  {
   "cell_type": "code",
   "execution_count": 11,
   "metadata": {},
   "outputs": [],
   "source": [
    "result_df.to_csv(\"csv/result_data.csv\", index=False )"
   ]
  },
  {
   "cell_type": "code",
   "execution_count": null,
   "metadata": {},
   "outputs": [],
   "source": []
  }
 ]
}