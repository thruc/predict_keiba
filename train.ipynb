{
 "nbformat": 4,
 "nbformat_minor": 2,
 "metadata": {
  "language_info": {
   "name": "python",
   "codemirror_mode": {
    "name": "ipython",
    "version": 3
   },
   "version": "3.7.4-final"
  },
  "orig_nbformat": 2,
  "file_extension": ".py",
  "mimetype": "text/x-python",
  "name": "python",
  "npconvert_exporter": "python",
  "pygments_lexer": "ipython3",
  "version": 3,
  "kernelspec": {
   "name": "python37464bit1ebf9c4dc354488cae1027a09c7ab0e8",
   "display_name": "Python 3.7.4 64-bit"
  }
 },
 "cells": [
  {
   "cell_type": "code",
   "execution_count": 2,
   "metadata": {},
   "outputs": [
    {
     "output_type": "stream",
     "name": "stderr",
     "text": "Using TensorFlow backend.\n"
    }
   ],
   "source": [
    "import pandas as pd\n",
    "from sklearn.model_selection import train_test_split\n",
    "from sklearn.preprocessing import MinMaxScaler\n",
    "scaler = MinMaxScaler()\n",
    "import numpy as np\n",
    "import re\n",
    "\n",
    "import matplotlib.pyplot as plt\n",
    "import keras\n",
    "from keras.models import Sequential\n",
    "from keras.layers import Dense, Dropout\n",
    "from keras.optimizers import Adam\n",
    "from keras.layers.normalization import BatchNormalization"
   ]
  },
  {
   "cell_type": "code",
   "execution_count": 3,
   "metadata": {},
   "outputs": [],
   "source": [
    "data = pd.read_csv(\"./csv/train_data.csv\", sep=\",\")\n",
    "result = pd.read_csv(\"./csv/result_data.csv\", sep=\",\")\n",
    "data = data.sort_values('race_id',ascending=False)\n",
    "result = result.sort_values('race_id',ascending=False)\n",
    "odds_1 = pd.read_csv('./csv/cleaned_race_data.csv', sep=\",\")"
   ]
  },
  {
   "cell_type": "code",
   "execution_count": 4,
   "metadata": {},
   "outputs": [],
   "source": [
    "data_train, data_test =train_test_split(data, test_size=0.3, random_state=0)\n",
    "result_train, result_test =train_test_split(result, test_size=0.3, random_state=0)"
   ]
  },
  {
   "cell_type": "code",
   "execution_count": 5,
   "metadata": {},
   "outputs": [],
   "source": [
    "odds_1 = pd.merge(odds_1,result_test,on=\"race_id\")"
   ]
  },
  {
   "cell_type": "code",
   "execution_count": 6,
   "metadata": {},
   "outputs": [],
   "source": [
    "odds = odds_1[\"tansyo\"]\n",
    "horse_number_first = odds_1[\"horse_number_first\"]"
   ]
  },
  {
   "cell_type": "code",
   "execution_count": 7,
   "metadata": {},
   "outputs": [],
   "source": [
    "data_train.drop(['race_id'], axis=1, inplace=True)\n",
    "data_test.drop(['race_id'], axis=1, inplace=True)\n",
    "result_train.drop(['race_id'], axis=1, inplace=True)\n",
    "result_test.drop(['race_id'], axis=1, inplace=True)"
   ]
  },
  {
   "cell_type": "code",
   "execution_count": 8,
   "metadata": {},
   "outputs": [],
   "source": [
    "data_train.loc[:,:] = scaler.fit_transform(data_train)\n",
    "data_test.loc[:,:] = scaler.fit_transform(data_test)\n",
    "result_train.loc[:,:] = scaler.fit_transform(result_train)\n",
    "result_test.loc[:,:] = scaler.fit_transform(result_test)"
   ]
  },
  {
   "cell_type": "code",
   "execution_count": 11,
   "metadata": {},
   "outputs": [
    {
     "output_type": "execute_result",
     "data": {
      "text/plain": "(184, 2547)"
     },
     "metadata": {},
     "execution_count": 11
    }
   ],
   "source": [
    "data_train.shape"
   ]
  },
  {
   "cell_type": "code",
   "execution_count": 10,
   "metadata": {},
   "outputs": [
    {
     "output_type": "execute_result",
     "data": {
      "text/plain": "(184, 17)"
     },
     "metadata": {},
     "execution_count": 10
    }
   ],
   "source": [
    "result_train.shape"
   ]
  },
  {
   "cell_type": "code",
   "execution_count": 41,
   "metadata": {
    "tags": [
     "outputPrepend",
     "outputPrepend",
     "outputPrepend",
     "outputPrepend",
     "outputPrepend",
     "outputPrepend",
     "outputPrepend",
     "outputPrepend",
     "outputPrepend",
     "outputPrepend",
     "outputPrepend",
     "outputPrepend",
     "outputPrepend",
     "outputPrepend",
     "outputPrepend",
     "outputPrepend",
     "outputPrepend",
     "outputPrepend",
     "outputPrepend",
     "outputPrepend",
     "outputPrepend",
     "outputPrepend",
     "outputPrepend",
     "outputPrepend",
     "outputPrepend",
     "outputPrepend",
     "outputPrepend",
     "outputPrepend",
     "outputPrepend",
     "outputPrepend",
     "outputPrepend",
     "outputPrepend",
     "outputPrepend",
     "outputPrepend",
     "outputPrepend",
     "outputPrepend",
     "outputPrepend",
     "outputPrepend",
     "outputPrepend",
     "outputPrepend",
     "outputPrepend",
     "outputPrepend",
     "outputPrepend",
     "outputPrepend",
     "outputPrepend",
     "outputPrepend",
     "outputPrepend",
     "outputPrepend",
     "outputPrepend",
     "outputPrepend",
     "outputPrepend",
     "outputPrepend",
     "outputPrepend",
     "outputPrepend",
     "outputPrepend",
     "outputPrepend",
     "outputPrepend",
     "outputPrepend",
     "outputPrepend",
     "outputPrepend",
     "outputPrepend",
     "outputPrepend",
     "outputPrepend",
     "outputPrepend",
     "outputPrepend",
     "outputPrepend",
     "outputPrepend",
     "outputPrepend",
     "outputPrepend",
     "outputPrepend",
     "outputPrepend",
     "outputPrepend",
     "outputPrepend",
     "outputPrepend",
     "outputPrepend",
     "outputPrepend",
     "outputPrepend",
     "outputPrepend",
     "outputPrepend",
     "outputPrepend",
     "outputPrepend",
     "outputPrepend",
     "outputPrepend",
     "outputPrepend",
     "outputPrepend",
     "outputPrepend",
     "outputPrepend",
     "outputPrepend",
     "outputPrepend",
     "outputPrepend",
     "outputPrepend",
     "outputPrepend",
     "outputPrepend",
     "outputPrepend",
     "outputPrepend",
     "outputPrepend",
     "outputPrepend",
     "outputPrepend",
     "outputPrepend",
     "outputPrepend",
     "outputPrepend",
     "outputPrepend",
     "outputPrepend",
     "outputPrepend",
     "outputPrepend",
     "outputPrepend",
     "outputPrepend",
     "outputPrepend",
     "outputPrepend",
     "outputPrepend",
     "outputPrepend",
     "outputPrepend",
     "outputPrepend",
     "outputPrepend",
     "outputPrepend",
     "outputPrepend",
     "outputPrepend",
     "outputPrepend",
     "outputPrepend",
     "outputPrepend",
     "outputPrepend",
     "outputPrepend",
     "outputPrepend",
     "outputPrepend",
     "outputPrepend",
     "outputPrepend",
     "outputPrepend",
     "outputPrepend",
     "outputPrepend",
     "outputPrepend",
     "outputPrepend",
     "outputPrepend",
     "outputPrepend",
     "outputPrepend",
     "outputPrepend",
     "outputPrepend",
     "outputPrepend",
     "outputPrepend",
     "outputPrepend",
     "outputPrepend",
     "outputPrepend",
     "outputPrepend",
     "outputPrepend",
     "outputPrepend",
     "outputPrepend",
     "outputPrepend",
     "outputPrepend",
     "outputPrepend",
     "outputPrepend",
     "outputPrepend",
     "outputPrepend",
     "outputPrepend",
     "outputPrepend",
     "outputPrepend",
     "outputPrepend",
     "outputPrepend",
     "outputPrepend",
     "outputPrepend",
     "outputPrepend",
     "outputPrepend",
     "outputPrepend",
     "outputPrepend",
     "outputPrepend",
     "outputPrepend",
     "outputPrepend",
     "outputPrepend"
    ]
   },
   "outputs": [
    {
     "output_type": "stream",
     "name": "stdout",
     "text": "nan - val_accuracy: 0.2105\nEpoch 57/200\n165/165 [==============================] - 1s 3ms/step - loss: nan - accuracy: 0.1697 - val_loss: nan - val_accuracy: 0.2105\nEpoch 58/200\n165/165 [==============================] - 1s 3ms/step - loss: nan - accuracy: 0.1697 - val_loss: nan - val_accuracy: 0.2105\nEpoch 59/200\n165/165 [==============================] - 1s 3ms/step - loss: nan - accuracy: 0.1697 - val_loss: nan - val_accuracy: 0.2105\nEpoch 60/200\n165/165 [==============================] - 1s 3ms/step - loss: nan - accuracy: 0.1697 - val_loss: nan - val_accuracy: 0.2105\nEpoch 61/200\n165/165 [==============================] - 1s 4ms/step - loss: nan - accuracy: 0.1697 - val_loss: nan - val_accuracy: 0.2105\nEpoch 62/200\n165/165 [==============================] - 1s 3ms/step - loss: nan - accuracy: 0.1697 - val_loss: nan - val_accuracy: 0.2105\nEpoch 63/200\n165/165 [==============================] - 1s 3ms/step - loss: nan - accuracy: 0.1697 - val_loss: nan - val_accuracy: 0.2105\nEpoch 64/200\n165/165 [==============================] - 1s 3ms/step - loss: nan - accuracy: 0.1697 - val_loss: nan - val_accuracy: 0.2105\nEpoch 65/200\n165/165 [==============================] - 1s 3ms/step - loss: nan - accuracy: 0.1697 - val_loss: nan - val_accuracy: 0.2105\nEpoch 66/200\n165/165 [==============================] - 1s 3ms/step - loss: nan - accuracy: 0.1697 - val_loss: nan - val_accuracy: 0.2105\nEpoch 67/200\n165/165 [==============================] - 1s 3ms/step - loss: nan - accuracy: 0.1697 - val_loss: nan - val_accuracy: 0.2105\nEpoch 68/200\n165/165 [==============================] - 1s 3ms/step - loss: nan - accuracy: 0.1697 - val_loss: nan - val_accuracy: 0.2105\nEpoch 69/200\n165/165 [==============================] - 1s 3ms/step - loss: nan - accuracy: 0.1697 - val_loss: nan - val_accuracy: 0.2105\nEpoch 70/200\n165/165 [==============================] - 1s 3ms/step - loss: nan - accuracy: 0.1697 - val_loss: nan - val_accuracy: 0.2105\nEpoch 71/200\n165/165 [==============================] - 1s 4ms/step - loss: nan - accuracy: 0.1697 - val_loss: nan - val_accuracy: 0.2105\nEpoch 72/200\n165/165 [==============================] - 1s 4ms/step - loss: nan - accuracy: 0.1697 - val_loss: nan - val_accuracy: 0.2105\nEpoch 73/200\n165/165 [==============================] - 1s 4ms/step - loss: nan - accuracy: 0.1697 - val_loss: nan - val_accuracy: 0.2105\nEpoch 74/200\n165/165 [==============================] - 1s 4ms/step - loss: nan - accuracy: 0.1697 - val_loss: nan - val_accuracy: 0.2105\nEpoch 75/200\n165/165 [==============================] - 1s 4ms/step - loss: nan - accuracy: 0.1697 - val_loss: nan - val_accuracy: 0.2105\nEpoch 76/200\n165/165 [==============================] - 1s 4ms/step - loss: nan - accuracy: 0.1697 - val_loss: nan - val_accuracy: 0.2105\nEpoch 77/200\n165/165 [==============================] - 1s 4ms/step - loss: nan - accuracy: 0.1697 - val_loss: nan - val_accuracy: 0.2105\nEpoch 78/200\n165/165 [==============================] - 1s 4ms/step - loss: nan - accuracy: 0.1697 - val_loss: nan - val_accuracy: 0.2105\nEpoch 79/200\n165/165 [==============================] - 1s 5ms/step - loss: nan - accuracy: 0.1697 - val_loss: nan - val_accuracy: 0.2105\nEpoch 80/200\n165/165 [==============================] - 1s 5ms/step - loss: nan - accuracy: 0.1697 - val_loss: nan - val_accuracy: 0.2105\nEpoch 81/200\n165/165 [==============================] - 1s 5ms/step - loss: nan - accuracy: 0.1697 - val_loss: nan - val_accuracy: 0.2105\nEpoch 82/200\n165/165 [==============================] - 1s 4ms/step - loss: nan - accuracy: 0.1697 - val_loss: nan - val_accuracy: 0.2105\nEpoch 83/200\n165/165 [==============================] - 1s 3ms/step - loss: nan - accuracy: 0.1697 - val_loss: nan - val_accuracy: 0.2105\nEpoch 84/200\n165/165 [==============================] - 1s 3ms/step - loss: nan - accuracy: 0.1697 - val_loss: nan - val_accuracy: 0.2105\nEpoch 85/200\n165/165 [==============================] - 1s 3ms/step - loss: nan - accuracy: 0.1697 - val_loss: nan - val_accuracy: 0.2105\nEpoch 86/200\n165/165 [==============================] - 1s 3ms/step - loss: nan - accuracy: 0.1697 - val_loss: nan - val_accuracy: 0.2105\nEpoch 87/200\n165/165 [==============================] - 1s 4ms/step - loss: nan - accuracy: 0.1697 - val_loss: nan - val_accuracy: 0.2105\nEpoch 88/200\n165/165 [==============================] - 1s 4ms/step - loss: nan - accuracy: 0.1697 - val_loss: nan - val_accuracy: 0.2105\nEpoch 89/200\n165/165 [==============================] - 1s 4ms/step - loss: nan - accuracy: 0.1697 - val_loss: nan - val_accuracy: 0.2105\nEpoch 90/200\n165/165 [==============================] - 1s 3ms/step - loss: nan - accuracy: 0.1697 - val_loss: nan - val_accuracy: 0.2105\nEpoch 91/200\n165/165 [==============================] - 1s 4ms/step - loss: nan - accuracy: 0.1697 - val_loss: nan - val_accuracy: 0.2105\nEpoch 92/200\n165/165 [==============================] - 1s 3ms/step - loss: nan - accuracy: 0.1697 - val_loss: nan - val_accuracy: 0.2105\nEpoch 93/200\n165/165 [==============================] - 1s 4ms/step - loss: nan - accuracy: 0.1697 - val_loss: nan - val_accuracy: 0.2105\nEpoch 94/200\n165/165 [==============================] - 1s 4ms/step - loss: nan - accuracy: 0.1697 - val_loss: nan - val_accuracy: 0.2105\nEpoch 95/200\n165/165 [==============================] - 1s 3ms/step - loss: nan - accuracy: 0.1697 - val_loss: nan - val_accuracy: 0.2105\nEpoch 96/200\n165/165 [==============================] - 1s 3ms/step - loss: nan - accuracy: 0.1697 - val_loss: nan - val_accuracy: 0.2105\nEpoch 97/200\n165/165 [==============================] - 1s 4ms/step - loss: nan - accuracy: 0.1697 - val_loss: nan - val_accuracy: 0.2105\nEpoch 98/200\n165/165 [==============================] - 1s 3ms/step - loss: nan - accuracy: 0.1697 - val_loss: nan - val_accuracy: 0.2105\nEpoch 99/200\n165/165 [==============================] - 1s 3ms/step - loss: nan - accuracy: 0.1697 - val_loss: nan - val_accuracy: 0.2105\nEpoch 100/200\n165/165 [==============================] - 1s 3ms/step - loss: nan - accuracy: 0.1697 - val_loss: nan - val_accuracy: 0.2105\nEpoch 101/200\n165/165 [==============================] - 1s 3ms/step - loss: nan - accuracy: 0.1697 - val_loss: nan - val_accuracy: 0.2105\nEpoch 102/200\n165/165 [==============================] - 1s 3ms/step - loss: nan - accuracy: 0.1697 - val_loss: nan - val_accuracy: 0.2105\nEpoch 103/200\n165/165 [==============================] - 1s 3ms/step - loss: nan - accuracy: 0.1697 - val_loss: nan - val_accuracy: 0.2105\nEpoch 104/200\n165/165 [==============================] - 1s 3ms/step - loss: nan - accuracy: 0.1697 - val_loss: nan - val_accuracy: 0.2105\nEpoch 105/200\n165/165 [==============================] - 1s 3ms/step - loss: nan - accuracy: 0.1697 - val_loss: nan - val_accuracy: 0.2105\nEpoch 106/200\n165/165 [==============================] - 1s 3ms/step - loss: nan - accuracy: 0.1697 - val_loss: nan - val_accuracy: 0.2105\nEpoch 107/200\n165/165 [==============================] - 1s 3ms/step - loss: nan - accuracy: 0.1697 - val_loss: nan - val_accuracy: 0.2105\nEpoch 108/200\n165/165 [==============================] - 1s 3ms/step - loss: nan - accuracy: 0.1697 - val_loss: nan - val_accuracy: 0.2105\nEpoch 109/200\n165/165 [==============================] - 1s 3ms/step - loss: nan - accuracy: 0.1697 - val_loss: nan - val_accuracy: 0.2105\nEpoch 110/200\n165/165 [==============================] - 1s 3ms/step - loss: nan - accuracy: 0.1697 - val_loss: nan - val_accuracy: 0.2105\nEpoch 111/200\n165/165 [==============================] - 1s 3ms/step - loss: nan - accuracy: 0.1697 - val_loss: nan - val_accuracy: 0.2105\nEpoch 112/200\n165/165 [==============================] - 1s 4ms/step - loss: nan - accuracy: 0.1697 - val_loss: nan - val_accuracy: 0.2105\nEpoch 113/200\n165/165 [==============================] - 1s 3ms/step - loss: nan - accuracy: 0.1697 - val_loss: nan - val_accuracy: 0.2105\nEpoch 114/200\n165/165 [==============================] - 1s 3ms/step - loss: nan - accuracy: 0.1697 - val_loss: nan - val_accuracy: 0.2105\nEpoch 115/200\n165/165 [==============================] - 1s 4ms/step - loss: nan - accuracy: 0.1697 - val_loss: nan - val_accuracy: 0.2105\nEpoch 116/200\n165/165 [==============================] - 1s 4ms/step - loss: nan - accuracy: 0.1697 - val_loss: nan - val_accuracy: 0.2105\nEpoch 117/200\n165/165 [==============================] - 1s 4ms/step - loss: nan - accuracy: 0.1697 - val_loss: nan - val_accuracy: 0.2105\nEpoch 118/200\n165/165 [==============================] - 1s 4ms/step - loss: nan - accuracy: 0.1697 - val_loss: nan - val_accuracy: 0.2105\nEpoch 119/200\n165/165 [==============================] - 1s 4ms/step - loss: nan - accuracy: 0.1697 - val_loss: nan - val_accuracy: 0.2105\nEpoch 120/200\n165/165 [==============================] - 1s 4ms/step - loss: nan - accuracy: 0.1697 - val_loss: nan - val_accuracy: 0.2105\nEpoch 121/200\n165/165 [==============================] - 1s 3ms/step - loss: nan - accuracy: 0.1697 - val_loss: nan - val_accuracy: 0.2105\nEpoch 122/200\n165/165 [==============================] - 1s 3ms/step - loss: nan - accuracy: 0.1697 - val_loss: nan - val_accuracy: 0.2105\nEpoch 123/200\n165/165 [==============================] - 1s 4ms/step - loss: nan - accuracy: 0.1697 - val_loss: nan - val_accuracy: 0.2105\nEpoch 124/200\n165/165 [==============================] - 1s 4ms/step - loss: nan - accuracy: 0.1697 - val_loss: nan - val_accuracy: 0.2105\nEpoch 125/200\n165/165 [==============================] - 1s 4ms/step - loss: nan - accuracy: 0.1697 - val_loss: nan - val_accuracy: 0.2105\nEpoch 126/200\n165/165 [==============================] - 1s 4ms/step - loss: nan - accuracy: 0.1697 - val_loss: nan - val_accuracy: 0.2105\nEpoch 127/200\n165/165 [==============================] - 1s 4ms/step - loss: nan - accuracy: 0.1697 - val_loss: nan - val_accuracy: 0.2105\nEpoch 128/200\n165/165 [==============================] - 1s 5ms/step - loss: nan - accuracy: 0.1697 - val_loss: nan - val_accuracy: 0.2105\nEpoch 129/200\n165/165 [==============================] - 1s 4ms/step - loss: nan - accuracy: 0.1697 - val_loss: nan - val_accuracy: 0.2105\nEpoch 130/200\n165/165 [==============================] - 1s 5ms/step - loss: nan - accuracy: 0.1697 - val_loss: nan - val_accuracy: 0.2105\nEpoch 131/200\n165/165 [==============================] - 1s 4ms/step - loss: nan - accuracy: 0.1697 - val_loss: nan - val_accuracy: 0.2105\nEpoch 132/200\n165/165 [==============================] - 1s 4ms/step - loss: nan - accuracy: 0.1697 - val_loss: nan - val_accuracy: 0.2105\nEpoch 133/200\n165/165 [==============================] - 1s 5ms/step - loss: nan - accuracy: 0.1697 - val_loss: nan - val_accuracy: 0.2105\nEpoch 134/200\n165/165 [==============================] - 1s 5ms/step - loss: nan - accuracy: 0.1697 - val_loss: nan - val_accuracy: 0.2105\nEpoch 135/200\n165/165 [==============================] - 1s 4ms/step - loss: nan - accuracy: 0.1697 - val_loss: nan - val_accuracy: 0.2105\nEpoch 136/200\n165/165 [==============================] - 1s 4ms/step - loss: nan - accuracy: 0.1697 - val_loss: nan - val_accuracy: 0.2105\nEpoch 137/200\n165/165 [==============================] - 1s 4ms/step - loss: nan - accuracy: 0.1697 - val_loss: nan - val_accuracy: 0.2105\nEpoch 138/200\n165/165 [==============================] - 1s 4ms/step - loss: nan - accuracy: 0.1697 - val_loss: nan - val_accuracy: 0.2105\nEpoch 139/200\n165/165 [==============================] - 1s 4ms/step - loss: nan - accuracy: 0.1697 - val_loss: nan - val_accuracy: 0.2105\nEpoch 140/200\n165/165 [==============================] - 1s 4ms/step - loss: nan - accuracy: 0.1697 - val_loss: nan - val_accuracy: 0.2105\nEpoch 141/200\n165/165 [==============================] - 1s 4ms/step - loss: nan - accuracy: 0.1697 - val_loss: nan - val_accuracy: 0.2105\nEpoch 142/200\n165/165 [==============================] - 1s 4ms/step - loss: nan - accuracy: 0.1697 - val_loss: nan - val_accuracy: 0.2105\nEpoch 143/200\n165/165 [==============================] - 1s 3ms/step - loss: nan - accuracy: 0.1697 - val_loss: nan - val_accuracy: 0.2105\nEpoch 144/200\n165/165 [==============================] - 1s 3ms/step - loss: nan - accuracy: 0.1697 - val_loss: nan - val_accuracy: 0.2105\nEpoch 145/200\n165/165 [==============================] - 1s 3ms/step - loss: nan - accuracy: 0.1697 - val_loss: nan - val_accuracy: 0.2105\nEpoch 146/200\n165/165 [==============================] - 1s 4ms/step - loss: nan - accuracy: 0.1697 - val_loss: nan - val_accuracy: 0.2105\nEpoch 147/200\n165/165 [==============================] - 1s 3ms/step - loss: nan - accuracy: 0.1697 - val_loss: nan - val_accuracy: 0.2105\nEpoch 148/200\n165/165 [==============================] - 1s 3ms/step - loss: nan - accuracy: 0.1697 - val_loss: nan - val_accuracy: 0.2105\nEpoch 149/200\n165/165 [==============================] - 1s 4ms/step - loss: nan - accuracy: 0.1697 - val_loss: nan - val_accuracy: 0.2105\nEpoch 150/200\n165/165 [==============================] - 1s 3ms/step - loss: nan - accuracy: 0.1697 - val_loss: nan - val_accuracy: 0.2105\nEpoch 151/200\n165/165 [==============================] - 1s 3ms/step - loss: nan - accuracy: 0.1697 - val_loss: nan - val_accuracy: 0.2105\nEpoch 152/200\n165/165 [==============================] - 1s 3ms/step - loss: nan - accuracy: 0.1697 - val_loss: nan - val_accuracy: 0.2105\nEpoch 153/200\n165/165 [==============================] - 1s 3ms/step - loss: nan - accuracy: 0.1697 - val_loss: nan - val_accuracy: 0.2105\nEpoch 154/200\n165/165 [==============================] - 1s 3ms/step - loss: nan - accuracy: 0.1697 - val_loss: nan - val_accuracy: 0.2105\nEpoch 155/200\n165/165 [==============================] - 1s 3ms/step - loss: nan - accuracy: 0.1697 - val_loss: nan - val_accuracy: 0.2105\nEpoch 156/200\n165/165 [==============================] - 1s 3ms/step - loss: nan - accuracy: 0.1697 - val_loss: nan - val_accuracy: 0.2105\nEpoch 157/200\n165/165 [==============================] - 1s 3ms/step - loss: nan - accuracy: 0.1697 - val_loss: nan - val_accuracy: 0.2105\nEpoch 158/200\n165/165 [==============================] - 1s 4ms/step - loss: nan - accuracy: 0.1697 - val_loss: nan - val_accuracy: 0.2105\nEpoch 159/200\n165/165 [==============================] - 1s 3ms/step - loss: nan - accuracy: 0.1697 - val_loss: nan - val_accuracy: 0.2105\nEpoch 160/200\n165/165 [==============================] - 1s 3ms/step - loss: nan - accuracy: 0.1697 - val_loss: nan - val_accuracy: 0.2105\nEpoch 161/200\n165/165 [==============================] - 1s 3ms/step - loss: nan - accuracy: 0.1697 - val_loss: nan - val_accuracy: 0.2105\nEpoch 162/200\n165/165 [==============================] - 1s 3ms/step - loss: nan - accuracy: 0.1697 - val_loss: nan - val_accuracy: 0.2105\nEpoch 163/200\n165/165 [==============================] - 1s 3ms/step - loss: nan - accuracy: 0.1697 - val_loss: nan - val_accuracy: 0.2105\nEpoch 164/200\n165/165 [==============================] - 1s 3ms/step - loss: nan - accuracy: 0.1697 - val_loss: nan - val_accuracy: 0.2105\nEpoch 165/200\n165/165 [==============================] - 1s 3ms/step - loss: nan - accuracy: 0.1697 - val_loss: nan - val_accuracy: 0.2105\nEpoch 166/200\n165/165 [==============================] - 1s 3ms/step - loss: nan - accuracy: 0.1697 - val_loss: nan - val_accuracy: 0.2105\nEpoch 167/200\n165/165 [==============================] - 1s 3ms/step - loss: nan - accuracy: 0.1697 - val_loss: nan - val_accuracy: 0.2105\nEpoch 168/200\n165/165 [==============================] - 1s 3ms/step - loss: nan - accuracy: 0.1697 - val_loss: nan - val_accuracy: 0.2105\nEpoch 169/200\n165/165 [==============================] - 1s 3ms/step - loss: nan - accuracy: 0.1697 - val_loss: nan - val_accuracy: 0.2105\nEpoch 170/200\n165/165 [==============================] - 1s 4ms/step - loss: nan - accuracy: 0.1697 - val_loss: nan - val_accuracy: 0.2105\nEpoch 171/200\n165/165 [==============================] - 1s 3ms/step - loss: nan - accuracy: 0.1697 - val_loss: nan - val_accuracy: 0.2105\nEpoch 172/200\n165/165 [==============================] - 1s 3ms/step - loss: nan - accuracy: 0.1697 - val_loss: nan - val_accuracy: 0.2105\nEpoch 173/200\n165/165 [==============================] - 1s 4ms/step - loss: nan - accuracy: 0.1697 - val_loss: nan - val_accuracy: 0.2105\nEpoch 174/200\n165/165 [==============================] - 1s 4ms/step - loss: nan - accuracy: 0.1697 - val_loss: nan - val_accuracy: 0.2105\nEpoch 175/200\n165/165 [==============================] - 1s 3ms/step - loss: nan - accuracy: 0.1697 - val_loss: nan - val_accuracy: 0.2105\nEpoch 176/200\n165/165 [==============================] - 1s 3ms/step - loss: nan - accuracy: 0.1697 - val_loss: nan - val_accuracy: 0.2105\nEpoch 177/200\n165/165 [==============================] - 1s 3ms/step - loss: nan - accuracy: 0.1697 - val_loss: nan - val_accuracy: 0.2105\nEpoch 178/200\n165/165 [==============================] - 1s 3ms/step - loss: nan - accuracy: 0.1697 - val_loss: nan - val_accuracy: 0.2105\nEpoch 179/200\n165/165 [==============================] - 1s 3ms/step - loss: nan - accuracy: 0.1697 - val_loss: nan - val_accuracy: 0.2105\nEpoch 180/200\n165/165 [==============================] - 1s 4ms/step - loss: nan - accuracy: 0.1697 - val_loss: nan - val_accuracy: 0.2105\nEpoch 181/200\n165/165 [==============================] - 1s 4ms/step - loss: nan - accuracy: 0.1697 - val_loss: nan - val_accuracy: 0.2105\nEpoch 182/200\n165/165 [==============================] - 1s 4ms/step - loss: nan - accuracy: 0.1697 - val_loss: nan - val_accuracy: 0.2105\nEpoch 183/200\n165/165 [==============================] - 1s 3ms/step - loss: nan - accuracy: 0.1697 - val_loss: nan - val_accuracy: 0.2105\nEpoch 184/200\n165/165 [==============================] - 1s 3ms/step - loss: nan - accuracy: 0.1697 - val_loss: nan - val_accuracy: 0.2105\nEpoch 185/200\n165/165 [==============================] - 1s 3ms/step - loss: nan - accuracy: 0.1697 - val_loss: nan - val_accuracy: 0.2105\nEpoch 186/200\n165/165 [==============================] - 1s 3ms/step - loss: nan - accuracy: 0.1697 - val_loss: nan - val_accuracy: 0.2105\nEpoch 187/200\n165/165 [==============================] - 1s 4ms/step - loss: nan - accuracy: 0.1697 - val_loss: nan - val_accuracy: 0.2105\nEpoch 188/200\n165/165 [==============================] - 1s 3ms/step - loss: nan - accuracy: 0.1697 - val_loss: nan - val_accuracy: 0.2105\nEpoch 189/200\n165/165 [==============================] - 1s 3ms/step - loss: nan - accuracy: 0.1697 - val_loss: nan - val_accuracy: 0.2105\nEpoch 190/200\n165/165 [==============================] - 1s 3ms/step - loss: nan - accuracy: 0.1697 - val_loss: nan - val_accuracy: 0.2105\nEpoch 191/200\n165/165 [==============================] - 1s 4ms/step - loss: nan - accuracy: 0.1697 - val_loss: nan - val_accuracy: 0.2105\nEpoch 192/200\n165/165 [==============================] - 1s 3ms/step - loss: nan - accuracy: 0.1697 - val_loss: nan - val_accuracy: 0.2105\nEpoch 193/200\n165/165 [==============================] - 1s 3ms/step - loss: nan - accuracy: 0.1697 - val_loss: nan - val_accuracy: 0.2105\nEpoch 194/200\n165/165 [==============================] - 1s 3ms/step - loss: nan - accuracy: 0.1697 - val_loss: nan - val_accuracy: 0.2105\nEpoch 195/200\n165/165 [==============================] - 1s 3ms/step - loss: nan - accuracy: 0.1697 - val_loss: nan - val_accuracy: 0.2105\nEpoch 196/200\n165/165 [==============================] - 1s 3ms/step - loss: nan - accuracy: 0.1697 - val_loss: nan - val_accuracy: 0.2105\nEpoch 197/200\n165/165 [==============================] - 1s 3ms/step - loss: nan - accuracy: 0.1697 - val_loss: nan - val_accuracy: 0.2105\nEpoch 198/200\n165/165 [==============================] - 1s 3ms/step - loss: nan - accuracy: 0.1697 - val_loss: nan - val_accuracy: 0.2105\nEpoch 199/200\n165/165 [==============================] - 1s 3ms/step - loss: nan - accuracy: 0.1697 - val_loss: nan - val_accuracy: 0.2105\nEpoch 200/200\n165/165 [==============================] - 1s 3ms/step - loss: nan - accuracy: 0.1697 - val_loss: nan - val_accuracy: 0.2105\n"
    }
   ],
   "source": [
    "model = Sequential()\n",
    "model.add(Dense(2547, activation='relu', input_dim=2547))\n",
    "model.add(Dropout(0.8))\n",
    "model.add(BatchNormalization())\n",
    "model.add(Dense(128, activation='relu'))\n",
    "model.add(Dropout(0.5))\n",
    "model.add(BatchNormalization())\n",
    "model.add(Dense(17, activation='softmax'))\n",
    "\n",
    "adam = Adam()\n",
    "model.compile(loss='categorical_crossentropy',\n",
    "              optimizer=adam,\n",
    "              metrics=['accuracy'])\n",
    "\n",
    "history = model.fit(data_train, result_train, epochs=200, batch_size=50, validation_split=0.1)\n",
    "\n",
    ""
   ]
  },
  {
   "cell_type": "code",
   "execution_count": 42,
   "metadata": {},
   "outputs": [
    {
     "output_type": "stream",
     "name": "stdout",
     "text": "80/80 [==============================] - 0s 511us/step\n"
    }
   ],
   "source": [
    "loss, accuracy = model.evaluate(data_test, result_test, verbose=1)"
   ]
  },
  {
   "cell_type": "code",
   "execution_count": 43,
   "metadata": {},
   "outputs": [
    {
     "output_type": "display_data",
     "data": {
      "text/plain": "<Figure size 432x288 with 1 Axes>",
      "image/svg+xml": "<?xml version=\"1.0\" encoding=\"utf-8\" standalone=\"no\"?>\r\n<!DOCTYPE svg PUBLIC \"-//W3C//DTD SVG 1.1//EN\"\r\n  \"http://www.w3.org/Graphics/SVG/1.1/DTD/svg11.dtd\">\r\n<!-- Created with matplotlib (https://matplotlib.org/) -->\r\n<svg height=\"263.63625pt\" version=\"1.1\" viewBox=\"0 0 449.315625 263.63625\" width=\"449.315625pt\" xmlns=\"http://www.w3.org/2000/svg\" xmlns:xlink=\"http://www.w3.org/1999/xlink\">\r\n <defs>\r\n  <style type=\"text/css\">\r\n*{stroke-linecap:butt;stroke-linejoin:round;}\r\n  </style>\r\n </defs>\r\n <g id=\"figure_1\">\r\n  <g id=\"patch_1\">\r\n   <path d=\"M 0 263.63625 \r\nL 449.315625 263.63625 \r\nL 449.315625 0 \r\nL 0 0 \r\nz\r\n\" style=\"fill:none;\"/>\r\n  </g>\r\n  <g id=\"axes_1\">\r\n   <g id=\"patch_2\">\r\n    <path d=\"M 49.190625 239.758125 \r\nL 383.990625 239.758125 \r\nL 383.990625 22.318125 \r\nL 49.190625 22.318125 \r\nz\r\n\" style=\"fill:#ffffff;\"/>\r\n   </g>\r\n   <g id=\"matplotlib.axis_1\">\r\n    <g id=\"xtick_1\">\r\n     <g id=\"line2d_1\">\r\n      <defs>\r\n       <path d=\"M 0 0 \r\nL 0 3.5 \r\n\" id=\"mafe106af39\" style=\"stroke:#000000;stroke-width:0.8;\"/>\r\n      </defs>\r\n      <g>\r\n       <use style=\"stroke:#000000;stroke-width:0.8;\" x=\"64.408807\" xlink:href=\"#mafe106af39\" y=\"239.758125\"/>\r\n      </g>\r\n     </g>\r\n     <g id=\"text_1\">\r\n      <!-- 0 -->\r\n      <defs>\r\n       <path d=\"M 31.78125 66.40625 \r\nQ 24.171875 66.40625 20.328125 58.90625 \r\nQ 16.5 51.421875 16.5 36.375 \r\nQ 16.5 21.390625 20.328125 13.890625 \r\nQ 24.171875 6.390625 31.78125 6.390625 \r\nQ 39.453125 6.390625 43.28125 13.890625 \r\nQ 47.125 21.390625 47.125 36.375 \r\nQ 47.125 51.421875 43.28125 58.90625 \r\nQ 39.453125 66.40625 31.78125 66.40625 \r\nz\r\nM 31.78125 74.21875 \r\nQ 44.046875 74.21875 50.515625 64.515625 \r\nQ 56.984375 54.828125 56.984375 36.375 \r\nQ 56.984375 17.96875 50.515625 8.265625 \r\nQ 44.046875 -1.421875 31.78125 -1.421875 \r\nQ 19.53125 -1.421875 13.0625 8.265625 \r\nQ 6.59375 17.96875 6.59375 36.375 \r\nQ 6.59375 54.828125 13.0625 64.515625 \r\nQ 19.53125 74.21875 31.78125 74.21875 \r\nz\r\n\" id=\"DejaVuSans-48\"/>\r\n      </defs>\r\n      <g transform=\"translate(61.227557 254.356563)scale(0.1 -0.1)\">\r\n       <use xlink:href=\"#DejaVuSans-48\"/>\r\n      </g>\r\n     </g>\r\n    </g>\r\n    <g id=\"xtick_2\">\r\n     <g id=\"line2d_2\">\r\n      <g>\r\n       <use style=\"stroke:#000000;stroke-width:0.8;\" x=\"102.645445\" xlink:href=\"#mafe106af39\" y=\"239.758125\"/>\r\n      </g>\r\n     </g>\r\n     <g id=\"text_2\">\r\n      <!-- 25 -->\r\n      <defs>\r\n       <path d=\"M 19.1875 8.296875 \r\nL 53.609375 8.296875 \r\nL 53.609375 0 \r\nL 7.328125 0 \r\nL 7.328125 8.296875 \r\nQ 12.9375 14.109375 22.625 23.890625 \r\nQ 32.328125 33.6875 34.8125 36.53125 \r\nQ 39.546875 41.84375 41.421875 45.53125 \r\nQ 43.3125 49.21875 43.3125 52.78125 \r\nQ 43.3125 58.59375 39.234375 62.25 \r\nQ 35.15625 65.921875 28.609375 65.921875 \r\nQ 23.96875 65.921875 18.8125 64.3125 \r\nQ 13.671875 62.703125 7.8125 59.421875 \r\nL 7.8125 69.390625 \r\nQ 13.765625 71.78125 18.9375 73 \r\nQ 24.125 74.21875 28.421875 74.21875 \r\nQ 39.75 74.21875 46.484375 68.546875 \r\nQ 53.21875 62.890625 53.21875 53.421875 \r\nQ 53.21875 48.921875 51.53125 44.890625 \r\nQ 49.859375 40.875 45.40625 35.40625 \r\nQ 44.1875 33.984375 37.640625 27.21875 \r\nQ 31.109375 20.453125 19.1875 8.296875 \r\nz\r\n\" id=\"DejaVuSans-50\"/>\r\n       <path d=\"M 10.796875 72.90625 \r\nL 49.515625 72.90625 \r\nL 49.515625 64.59375 \r\nL 19.828125 64.59375 \r\nL 19.828125 46.734375 \r\nQ 21.96875 47.46875 24.109375 47.828125 \r\nQ 26.265625 48.1875 28.421875 48.1875 \r\nQ 40.625 48.1875 47.75 41.5 \r\nQ 54.890625 34.8125 54.890625 23.390625 \r\nQ 54.890625 11.625 47.5625 5.09375 \r\nQ 40.234375 -1.421875 26.90625 -1.421875 \r\nQ 22.3125 -1.421875 17.546875 -0.640625 \r\nQ 12.796875 0.140625 7.71875 1.703125 \r\nL 7.71875 11.625 \r\nQ 12.109375 9.234375 16.796875 8.0625 \r\nQ 21.484375 6.890625 26.703125 6.890625 \r\nQ 35.15625 6.890625 40.078125 11.328125 \r\nQ 45.015625 15.765625 45.015625 23.390625 \r\nQ 45.015625 31 40.078125 35.4375 \r\nQ 35.15625 39.890625 26.703125 39.890625 \r\nQ 22.75 39.890625 18.8125 39.015625 \r\nQ 14.890625 38.140625 10.796875 36.28125 \r\nz\r\n\" id=\"DejaVuSans-53\"/>\r\n      </defs>\r\n      <g transform=\"translate(96.282945 254.356563)scale(0.1 -0.1)\">\r\n       <use xlink:href=\"#DejaVuSans-50\"/>\r\n       <use x=\"63.623047\" xlink:href=\"#DejaVuSans-53\"/>\r\n      </g>\r\n     </g>\r\n    </g>\r\n    <g id=\"xtick_3\">\r\n     <g id=\"line2d_3\">\r\n      <g>\r\n       <use style=\"stroke:#000000;stroke-width:0.8;\" x=\"140.882082\" xlink:href=\"#mafe106af39\" y=\"239.758125\"/>\r\n      </g>\r\n     </g>\r\n     <g id=\"text_3\">\r\n      <!-- 50 -->\r\n      <g transform=\"translate(134.519582 254.356563)scale(0.1 -0.1)\">\r\n       <use xlink:href=\"#DejaVuSans-53\"/>\r\n       <use x=\"63.623047\" xlink:href=\"#DejaVuSans-48\"/>\r\n      </g>\r\n     </g>\r\n    </g>\r\n    <g id=\"xtick_4\">\r\n     <g id=\"line2d_4\">\r\n      <g>\r\n       <use style=\"stroke:#000000;stroke-width:0.8;\" x=\"179.11872\" xlink:href=\"#mafe106af39\" y=\"239.758125\"/>\r\n      </g>\r\n     </g>\r\n     <g id=\"text_4\">\r\n      <!-- 75 -->\r\n      <defs>\r\n       <path d=\"M 8.203125 72.90625 \r\nL 55.078125 72.90625 \r\nL 55.078125 68.703125 \r\nL 28.609375 0 \r\nL 18.3125 0 \r\nL 43.21875 64.59375 \r\nL 8.203125 64.59375 \r\nz\r\n\" id=\"DejaVuSans-55\"/>\r\n      </defs>\r\n      <g transform=\"translate(172.75622 254.356563)scale(0.1 -0.1)\">\r\n       <use xlink:href=\"#DejaVuSans-55\"/>\r\n       <use x=\"63.623047\" xlink:href=\"#DejaVuSans-53\"/>\r\n      </g>\r\n     </g>\r\n    </g>\r\n    <g id=\"xtick_5\">\r\n     <g id=\"line2d_5\">\r\n      <g>\r\n       <use style=\"stroke:#000000;stroke-width:0.8;\" x=\"217.355358\" xlink:href=\"#mafe106af39\" y=\"239.758125\"/>\r\n      </g>\r\n     </g>\r\n     <g id=\"text_5\">\r\n      <!-- 100 -->\r\n      <defs>\r\n       <path d=\"M 12.40625 8.296875 \r\nL 28.515625 8.296875 \r\nL 28.515625 63.921875 \r\nL 10.984375 60.40625 \r\nL 10.984375 69.390625 \r\nL 28.421875 72.90625 \r\nL 38.28125 72.90625 \r\nL 38.28125 8.296875 \r\nL 54.390625 8.296875 \r\nL 54.390625 0 \r\nL 12.40625 0 \r\nz\r\n\" id=\"DejaVuSans-49\"/>\r\n      </defs>\r\n      <g transform=\"translate(207.811608 254.356563)scale(0.1 -0.1)\">\r\n       <use xlink:href=\"#DejaVuSans-49\"/>\r\n       <use x=\"63.623047\" xlink:href=\"#DejaVuSans-48\"/>\r\n       <use x=\"127.246094\" xlink:href=\"#DejaVuSans-48\"/>\r\n      </g>\r\n     </g>\r\n    </g>\r\n    <g id=\"xtick_6\">\r\n     <g id=\"line2d_6\">\r\n      <g>\r\n       <use style=\"stroke:#000000;stroke-width:0.8;\" x=\"255.591995\" xlink:href=\"#mafe106af39\" y=\"239.758125\"/>\r\n      </g>\r\n     </g>\r\n     <g id=\"text_6\">\r\n      <!-- 125 -->\r\n      <g transform=\"translate(246.048245 254.356563)scale(0.1 -0.1)\">\r\n       <use xlink:href=\"#DejaVuSans-49\"/>\r\n       <use x=\"63.623047\" xlink:href=\"#DejaVuSans-50\"/>\r\n       <use x=\"127.246094\" xlink:href=\"#DejaVuSans-53\"/>\r\n      </g>\r\n     </g>\r\n    </g>\r\n    <g id=\"xtick_7\">\r\n     <g id=\"line2d_7\">\r\n      <g>\r\n       <use style=\"stroke:#000000;stroke-width:0.8;\" x=\"293.828633\" xlink:href=\"#mafe106af39\" y=\"239.758125\"/>\r\n      </g>\r\n     </g>\r\n     <g id=\"text_7\">\r\n      <!-- 150 -->\r\n      <g transform=\"translate(284.284883 254.356563)scale(0.1 -0.1)\">\r\n       <use xlink:href=\"#DejaVuSans-49\"/>\r\n       <use x=\"63.623047\" xlink:href=\"#DejaVuSans-53\"/>\r\n       <use x=\"127.246094\" xlink:href=\"#DejaVuSans-48\"/>\r\n      </g>\r\n     </g>\r\n    </g>\r\n    <g id=\"xtick_8\">\r\n     <g id=\"line2d_8\">\r\n      <g>\r\n       <use style=\"stroke:#000000;stroke-width:0.8;\" x=\"332.065271\" xlink:href=\"#mafe106af39\" y=\"239.758125\"/>\r\n      </g>\r\n     </g>\r\n     <g id=\"text_8\">\r\n      <!-- 175 -->\r\n      <g transform=\"translate(322.521521 254.356563)scale(0.1 -0.1)\">\r\n       <use xlink:href=\"#DejaVuSans-49\"/>\r\n       <use x=\"63.623047\" xlink:href=\"#DejaVuSans-55\"/>\r\n       <use x=\"127.246094\" xlink:href=\"#DejaVuSans-53\"/>\r\n      </g>\r\n     </g>\r\n    </g>\r\n    <g id=\"xtick_9\">\r\n     <g id=\"line2d_9\">\r\n      <g>\r\n       <use style=\"stroke:#000000;stroke-width:0.8;\" x=\"370.301909\" xlink:href=\"#mafe106af39\" y=\"239.758125\"/>\r\n      </g>\r\n     </g>\r\n     <g id=\"text_9\">\r\n      <!-- 200 -->\r\n      <g transform=\"translate(360.758159 254.356563)scale(0.1 -0.1)\">\r\n       <use xlink:href=\"#DejaVuSans-50\"/>\r\n       <use x=\"63.623047\" xlink:href=\"#DejaVuSans-48\"/>\r\n       <use x=\"127.246094\" xlink:href=\"#DejaVuSans-48\"/>\r\n      </g>\r\n     </g>\r\n    </g>\r\n   </g>\r\n   <g id=\"matplotlib.axis_2\">\r\n    <g id=\"ytick_1\">\r\n     <g id=\"line2d_10\">\r\n      <defs>\r\n       <path d=\"M 0 0 \r\nL -3.5 0 \r\n\" id=\"me0058db41f\" style=\"stroke:#000000;stroke-width:0.8;\"/>\r\n      </defs>\r\n      <g>\r\n       <use style=\"stroke:#000000;stroke-width:0.8;\" x=\"49.190625\" xlink:href=\"#me0058db41f\" y=\"219.167264\"/>\r\n      </g>\r\n     </g>\r\n     <g id=\"text_10\">\r\n      <!-- 0.1525 -->\r\n      <defs>\r\n       <path d=\"M 10.6875 12.40625 \r\nL 21 12.40625 \r\nL 21 0 \r\nL 10.6875 0 \r\nz\r\n\" id=\"DejaVuSans-46\"/>\r\n      </defs>\r\n      <g transform=\"translate(7.2 222.966482)scale(0.1 -0.1)\">\r\n       <use xlink:href=\"#DejaVuSans-48\"/>\r\n       <use x=\"63.623047\" xlink:href=\"#DejaVuSans-46\"/>\r\n       <use x=\"95.410156\" xlink:href=\"#DejaVuSans-49\"/>\r\n       <use x=\"159.033203\" xlink:href=\"#DejaVuSans-53\"/>\r\n       <use x=\"222.65625\" xlink:href=\"#DejaVuSans-50\"/>\r\n       <use x=\"286.279297\" xlink:href=\"#DejaVuSans-53\"/>\r\n      </g>\r\n     </g>\r\n    </g>\r\n    <g id=\"ytick_2\">\r\n     <g id=\"line2d_11\">\r\n      <g>\r\n       <use style=\"stroke:#000000;stroke-width:0.8;\" x=\"49.190625\" xlink:href=\"#me0058db41f\" y=\"191.98726\"/>\r\n      </g>\r\n     </g>\r\n     <g id=\"text_11\">\r\n      <!-- 0.1550 -->\r\n      <g transform=\"translate(7.2 195.786479)scale(0.1 -0.1)\">\r\n       <use xlink:href=\"#DejaVuSans-48\"/>\r\n       <use x=\"63.623047\" xlink:href=\"#DejaVuSans-46\"/>\r\n       <use x=\"95.410156\" xlink:href=\"#DejaVuSans-49\"/>\r\n       <use x=\"159.033203\" xlink:href=\"#DejaVuSans-53\"/>\r\n       <use x=\"222.65625\" xlink:href=\"#DejaVuSans-53\"/>\r\n       <use x=\"286.279297\" xlink:href=\"#DejaVuSans-48\"/>\r\n      </g>\r\n     </g>\r\n    </g>\r\n    <g id=\"ytick_3\">\r\n     <g id=\"line2d_12\">\r\n      <g>\r\n       <use style=\"stroke:#000000;stroke-width:0.8;\" x=\"49.190625\" xlink:href=\"#me0058db41f\" y=\"164.807256\"/>\r\n      </g>\r\n     </g>\r\n     <g id=\"text_12\">\r\n      <!-- 0.1575 -->\r\n      <g transform=\"translate(7.2 168.606475)scale(0.1 -0.1)\">\r\n       <use xlink:href=\"#DejaVuSans-48\"/>\r\n       <use x=\"63.623047\" xlink:href=\"#DejaVuSans-46\"/>\r\n       <use x=\"95.410156\" xlink:href=\"#DejaVuSans-49\"/>\r\n       <use x=\"159.033203\" xlink:href=\"#DejaVuSans-53\"/>\r\n       <use x=\"222.65625\" xlink:href=\"#DejaVuSans-55\"/>\r\n       <use x=\"286.279297\" xlink:href=\"#DejaVuSans-53\"/>\r\n      </g>\r\n     </g>\r\n    </g>\r\n    <g id=\"ytick_4\">\r\n     <g id=\"line2d_13\">\r\n      <g>\r\n       <use style=\"stroke:#000000;stroke-width:0.8;\" x=\"49.190625\" xlink:href=\"#me0058db41f\" y=\"137.627253\"/>\r\n      </g>\r\n     </g>\r\n     <g id=\"text_13\">\r\n      <!-- 0.1600 -->\r\n      <defs>\r\n       <path d=\"M 33.015625 40.375 \r\nQ 26.375 40.375 22.484375 35.828125 \r\nQ 18.609375 31.296875 18.609375 23.390625 \r\nQ 18.609375 15.53125 22.484375 10.953125 \r\nQ 26.375 6.390625 33.015625 6.390625 \r\nQ 39.65625 6.390625 43.53125 10.953125 \r\nQ 47.40625 15.53125 47.40625 23.390625 \r\nQ 47.40625 31.296875 43.53125 35.828125 \r\nQ 39.65625 40.375 33.015625 40.375 \r\nz\r\nM 52.59375 71.296875 \r\nL 52.59375 62.3125 \r\nQ 48.875 64.0625 45.09375 64.984375 \r\nQ 41.3125 65.921875 37.59375 65.921875 \r\nQ 27.828125 65.921875 22.671875 59.328125 \r\nQ 17.53125 52.734375 16.796875 39.40625 \r\nQ 19.671875 43.65625 24.015625 45.921875 \r\nQ 28.375 48.1875 33.59375 48.1875 \r\nQ 44.578125 48.1875 50.953125 41.515625 \r\nQ 57.328125 34.859375 57.328125 23.390625 \r\nQ 57.328125 12.15625 50.6875 5.359375 \r\nQ 44.046875 -1.421875 33.015625 -1.421875 \r\nQ 20.359375 -1.421875 13.671875 8.265625 \r\nQ 6.984375 17.96875 6.984375 36.375 \r\nQ 6.984375 53.65625 15.1875 63.9375 \r\nQ 23.390625 74.21875 37.203125 74.21875 \r\nQ 40.921875 74.21875 44.703125 73.484375 \r\nQ 48.484375 72.75 52.59375 71.296875 \r\nz\r\n\" id=\"DejaVuSans-54\"/>\r\n      </defs>\r\n      <g transform=\"translate(7.2 141.426471)scale(0.1 -0.1)\">\r\n       <use xlink:href=\"#DejaVuSans-48\"/>\r\n       <use x=\"63.623047\" xlink:href=\"#DejaVuSans-46\"/>\r\n       <use x=\"95.410156\" xlink:href=\"#DejaVuSans-49\"/>\r\n       <use x=\"159.033203\" xlink:href=\"#DejaVuSans-54\"/>\r\n       <use x=\"222.65625\" xlink:href=\"#DejaVuSans-48\"/>\r\n       <use x=\"286.279297\" xlink:href=\"#DejaVuSans-48\"/>\r\n      </g>\r\n     </g>\r\n    </g>\r\n    <g id=\"ytick_5\">\r\n     <g id=\"line2d_14\">\r\n      <g>\r\n       <use style=\"stroke:#000000;stroke-width:0.8;\" x=\"49.190625\" xlink:href=\"#me0058db41f\" y=\"110.447249\"/>\r\n      </g>\r\n     </g>\r\n     <g id=\"text_14\">\r\n      <!-- 0.1625 -->\r\n      <g transform=\"translate(7.2 114.246468)scale(0.1 -0.1)\">\r\n       <use xlink:href=\"#DejaVuSans-48\"/>\r\n       <use x=\"63.623047\" xlink:href=\"#DejaVuSans-46\"/>\r\n       <use x=\"95.410156\" xlink:href=\"#DejaVuSans-49\"/>\r\n       <use x=\"159.033203\" xlink:href=\"#DejaVuSans-54\"/>\r\n       <use x=\"222.65625\" xlink:href=\"#DejaVuSans-50\"/>\r\n       <use x=\"286.279297\" xlink:href=\"#DejaVuSans-53\"/>\r\n      </g>\r\n     </g>\r\n    </g>\r\n    <g id=\"ytick_6\">\r\n     <g id=\"line2d_15\">\r\n      <g>\r\n       <use style=\"stroke:#000000;stroke-width:0.8;\" x=\"49.190625\" xlink:href=\"#me0058db41f\" y=\"83.267245\"/>\r\n      </g>\r\n     </g>\r\n     <g id=\"text_15\">\r\n      <!-- 0.1650 -->\r\n      <g transform=\"translate(7.2 87.066464)scale(0.1 -0.1)\">\r\n       <use xlink:href=\"#DejaVuSans-48\"/>\r\n       <use x=\"63.623047\" xlink:href=\"#DejaVuSans-46\"/>\r\n       <use x=\"95.410156\" xlink:href=\"#DejaVuSans-49\"/>\r\n       <use x=\"159.033203\" xlink:href=\"#DejaVuSans-54\"/>\r\n       <use x=\"222.65625\" xlink:href=\"#DejaVuSans-53\"/>\r\n       <use x=\"286.279297\" xlink:href=\"#DejaVuSans-48\"/>\r\n      </g>\r\n     </g>\r\n    </g>\r\n    <g id=\"ytick_7\">\r\n     <g id=\"line2d_16\">\r\n      <g>\r\n       <use style=\"stroke:#000000;stroke-width:0.8;\" x=\"49.190625\" xlink:href=\"#me0058db41f\" y=\"56.087242\"/>\r\n      </g>\r\n     </g>\r\n     <g id=\"text_16\">\r\n      <!-- 0.1675 -->\r\n      <g transform=\"translate(7.2 59.88646)scale(0.1 -0.1)\">\r\n       <use xlink:href=\"#DejaVuSans-48\"/>\r\n       <use x=\"63.623047\" xlink:href=\"#DejaVuSans-46\"/>\r\n       <use x=\"95.410156\" xlink:href=\"#DejaVuSans-49\"/>\r\n       <use x=\"159.033203\" xlink:href=\"#DejaVuSans-54\"/>\r\n       <use x=\"222.65625\" xlink:href=\"#DejaVuSans-55\"/>\r\n       <use x=\"286.279297\" xlink:href=\"#DejaVuSans-53\"/>\r\n      </g>\r\n     </g>\r\n    </g>\r\n    <g id=\"ytick_8\">\r\n     <g id=\"line2d_17\">\r\n      <g>\r\n       <use style=\"stroke:#000000;stroke-width:0.8;\" x=\"49.190625\" xlink:href=\"#me0058db41f\" y=\"28.907238\"/>\r\n      </g>\r\n     </g>\r\n     <g id=\"text_17\">\r\n      <!-- 0.1700 -->\r\n      <g transform=\"translate(7.2 32.706457)scale(0.1 -0.1)\">\r\n       <use xlink:href=\"#DejaVuSans-48\"/>\r\n       <use x=\"63.623047\" xlink:href=\"#DejaVuSans-46\"/>\r\n       <use x=\"95.410156\" xlink:href=\"#DejaVuSans-49\"/>\r\n       <use x=\"159.033203\" xlink:href=\"#DejaVuSans-55\"/>\r\n       <use x=\"222.65625\" xlink:href=\"#DejaVuSans-48\"/>\r\n       <use x=\"286.279297\" xlink:href=\"#DejaVuSans-48\"/>\r\n      </g>\r\n     </g>\r\n    </g>\r\n   </g>\r\n   <g id=\"line2d_18\">\r\n    <path clip-path=\"url(#p32fcf0c922)\" d=\"M 64.408807 229.874489 \r\nL 65.938272 32.201761 \r\nL 368.772443 32.201761 \r\nL 368.772443 32.201761 \r\n\" style=\"fill:none;stroke:#1f77b4;stroke-linecap:square;stroke-width:1.5;\"/>\r\n   </g>\r\n   <g id=\"patch_3\">\r\n    <path d=\"M 49.190625 239.758125 \r\nL 49.190625 22.318125 \r\n\" style=\"fill:none;stroke:#000000;stroke-linecap:square;stroke-linejoin:miter;stroke-width:0.8;\"/>\r\n   </g>\r\n   <g id=\"patch_4\">\r\n    <path d=\"M 383.990625 239.758125 \r\nL 383.990625 22.318125 \r\n\" style=\"fill:none;stroke:#000000;stroke-linecap:square;stroke-linejoin:miter;stroke-width:0.8;\"/>\r\n   </g>\r\n   <g id=\"patch_5\">\r\n    <path d=\"M 49.190625 239.758125 \r\nL 383.990625 239.758125 \r\n\" style=\"fill:none;stroke:#000000;stroke-linecap:square;stroke-linejoin:miter;stroke-width:0.8;\"/>\r\n   </g>\r\n   <g id=\"patch_6\">\r\n    <path d=\"M 49.190625 22.318125 \r\nL 383.990625 22.318125 \r\n\" style=\"fill:none;stroke:#000000;stroke-linecap:square;stroke-linejoin:miter;stroke-width:0.8;\"/>\r\n   </g>\r\n   <g id=\"text_18\">\r\n    <!-- accuracy -->\r\n    <defs>\r\n     <path d=\"M 34.28125 27.484375 \r\nQ 23.390625 27.484375 19.1875 25 \r\nQ 14.984375 22.515625 14.984375 16.5 \r\nQ 14.984375 11.71875 18.140625 8.90625 \r\nQ 21.296875 6.109375 26.703125 6.109375 \r\nQ 34.1875 6.109375 38.703125 11.40625 \r\nQ 43.21875 16.703125 43.21875 25.484375 \r\nL 43.21875 27.484375 \r\nz\r\nM 52.203125 31.203125 \r\nL 52.203125 0 \r\nL 43.21875 0 \r\nL 43.21875 8.296875 \r\nQ 40.140625 3.328125 35.546875 0.953125 \r\nQ 30.953125 -1.421875 24.3125 -1.421875 \r\nQ 15.921875 -1.421875 10.953125 3.296875 \r\nQ 6 8.015625 6 15.921875 \r\nQ 6 25.140625 12.171875 29.828125 \r\nQ 18.359375 34.515625 30.609375 34.515625 \r\nL 43.21875 34.515625 \r\nL 43.21875 35.40625 \r\nQ 43.21875 41.609375 39.140625 45 \r\nQ 35.0625 48.390625 27.6875 48.390625 \r\nQ 23 48.390625 18.546875 47.265625 \r\nQ 14.109375 46.140625 10.015625 43.890625 \r\nL 10.015625 52.203125 \r\nQ 14.9375 54.109375 19.578125 55.046875 \r\nQ 24.21875 56 28.609375 56 \r\nQ 40.484375 56 46.34375 49.84375 \r\nQ 52.203125 43.703125 52.203125 31.203125 \r\nz\r\n\" id=\"DejaVuSans-97\"/>\r\n     <path d=\"M 48.78125 52.59375 \r\nL 48.78125 44.1875 \r\nQ 44.96875 46.296875 41.140625 47.34375 \r\nQ 37.3125 48.390625 33.40625 48.390625 \r\nQ 24.65625 48.390625 19.8125 42.84375 \r\nQ 14.984375 37.3125 14.984375 27.296875 \r\nQ 14.984375 17.28125 19.8125 11.734375 \r\nQ 24.65625 6.203125 33.40625 6.203125 \r\nQ 37.3125 6.203125 41.140625 7.25 \r\nQ 44.96875 8.296875 48.78125 10.40625 \r\nL 48.78125 2.09375 \r\nQ 45.015625 0.34375 40.984375 -0.53125 \r\nQ 36.96875 -1.421875 32.421875 -1.421875 \r\nQ 20.0625 -1.421875 12.78125 6.34375 \r\nQ 5.515625 14.109375 5.515625 27.296875 \r\nQ 5.515625 40.671875 12.859375 48.328125 \r\nQ 20.21875 56 33.015625 56 \r\nQ 37.15625 56 41.109375 55.140625 \r\nQ 45.0625 54.296875 48.78125 52.59375 \r\nz\r\n\" id=\"DejaVuSans-99\"/>\r\n     <path d=\"M 8.5 21.578125 \r\nL 8.5 54.6875 \r\nL 17.484375 54.6875 \r\nL 17.484375 21.921875 \r\nQ 17.484375 14.15625 20.5 10.265625 \r\nQ 23.53125 6.390625 29.59375 6.390625 \r\nQ 36.859375 6.390625 41.078125 11.03125 \r\nQ 45.3125 15.671875 45.3125 23.6875 \r\nL 45.3125 54.6875 \r\nL 54.296875 54.6875 \r\nL 54.296875 0 \r\nL 45.3125 0 \r\nL 45.3125 8.40625 \r\nQ 42.046875 3.421875 37.71875 1 \r\nQ 33.40625 -1.421875 27.6875 -1.421875 \r\nQ 18.265625 -1.421875 13.375 4.4375 \r\nQ 8.5 10.296875 8.5 21.578125 \r\nz\r\nM 31.109375 56 \r\nz\r\n\" id=\"DejaVuSans-117\"/>\r\n     <path d=\"M 41.109375 46.296875 \r\nQ 39.59375 47.171875 37.8125 47.578125 \r\nQ 36.03125 48 33.890625 48 \r\nQ 26.265625 48 22.1875 43.046875 \r\nQ 18.109375 38.09375 18.109375 28.8125 \r\nL 18.109375 0 \r\nL 9.078125 0 \r\nL 9.078125 54.6875 \r\nL 18.109375 54.6875 \r\nL 18.109375 46.1875 \r\nQ 20.953125 51.171875 25.484375 53.578125 \r\nQ 30.03125 56 36.53125 56 \r\nQ 37.453125 56 38.578125 55.875 \r\nQ 39.703125 55.765625 41.0625 55.515625 \r\nz\r\n\" id=\"DejaVuSans-114\"/>\r\n     <path d=\"M 32.171875 -5.078125 \r\nQ 28.375 -14.84375 24.75 -17.8125 \r\nQ 21.140625 -20.796875 15.09375 -20.796875 \r\nL 7.90625 -20.796875 \r\nL 7.90625 -13.28125 \r\nL 13.1875 -13.28125 \r\nQ 16.890625 -13.28125 18.9375 -11.515625 \r\nQ 21 -9.765625 23.484375 -3.21875 \r\nL 25.09375 0.875 \r\nL 2.984375 54.6875 \r\nL 12.5 54.6875 \r\nL 29.59375 11.921875 \r\nL 46.6875 54.6875 \r\nL 56.203125 54.6875 \r\nz\r\n\" id=\"DejaVuSans-121\"/>\r\n    </defs>\r\n    <g transform=\"translate(189.519375 16.318125)scale(0.12 -0.12)\">\r\n     <use xlink:href=\"#DejaVuSans-97\"/>\r\n     <use x=\"61.279297\" xlink:href=\"#DejaVuSans-99\"/>\r\n     <use x=\"116.259766\" xlink:href=\"#DejaVuSans-99\"/>\r\n     <use x=\"171.240234\" xlink:href=\"#DejaVuSans-117\"/>\r\n     <use x=\"234.619141\" xlink:href=\"#DejaVuSans-114\"/>\r\n     <use x=\"275.732422\" xlink:href=\"#DejaVuSans-97\"/>\r\n     <use x=\"337.011719\" xlink:href=\"#DejaVuSans-99\"/>\r\n     <use x=\"391.992188\" xlink:href=\"#DejaVuSans-121\"/>\r\n    </g>\r\n   </g>\r\n   <g id=\"legend_1\">\r\n    <g id=\"patch_7\">\r\n     <path d=\"M 390.990625 139.877188 \r\nL 440.115625 139.877188 \r\nQ 442.115625 139.877188 442.115625 137.877188 \r\nL 442.115625 124.199063 \r\nQ 442.115625 122.199063 440.115625 122.199063 \r\nL 390.990625 122.199063 \r\nQ 388.990625 122.199063 388.990625 124.199063 \r\nL 388.990625 137.877188 \r\nQ 388.990625 139.877188 390.990625 139.877188 \r\nz\r\n\" style=\"fill:#ffffff;opacity:0.8;stroke:#cccccc;stroke-linejoin:miter;\"/>\r\n    </g>\r\n    <g id=\"line2d_19\">\r\n     <path d=\"M 392.990625 130.2975 \r\nL 412.990625 130.2975 \r\n\" style=\"fill:none;stroke:#1f77b4;stroke-linecap:square;stroke-width:1.5;\"/>\r\n    </g>\r\n    <g id=\"line2d_20\"/>\r\n    <g id=\"text_19\">\r\n     <!-- acc -->\r\n     <g transform=\"translate(420.990625 133.7975)scale(0.1 -0.1)\">\r\n      <use xlink:href=\"#DejaVuSans-97\"/>\r\n      <use x=\"61.279297\" xlink:href=\"#DejaVuSans-99\"/>\r\n      <use x=\"116.259766\" xlink:href=\"#DejaVuSans-99\"/>\r\n     </g>\r\n    </g>\r\n   </g>\r\n  </g>\r\n </g>\r\n <defs>\r\n  <clipPath id=\"p32fcf0c922\">\r\n   <rect height=\"217.44\" width=\"334.8\" x=\"49.190625\" y=\"22.318125\"/>\r\n  </clipPath>\r\n </defs>\r\n</svg>\r\n",
      "image/png": "[encoded data removed]"
     },
     "metadata": {
      "needs_background": "light"
     }
    },
    {
     "output_type": "display_data",
     "data": {
      "text/plain": "<Figure size 432x288 with 1 Axes>",
      "image/svg+xml": "<?xml version=\"1.0\" encoding=\"utf-8\" standalone=\"no\"?>\r\n<!DOCTYPE svg PUBLIC \"-//W3C//DTD SVG 1.1//EN\"\r\n  \"http://www.w3.org/Graphics/SVG/1.1/DTD/svg11.dtd\">\r\n<!-- Created with matplotlib (https://matplotlib.org/) -->\r\n<svg height=\"263.63625pt\" version=\"1.1\" viewBox=\"0 0 447.160937 263.63625\" width=\"447.160937pt\" xmlns=\"http://www.w3.org/2000/svg\" xmlns:xlink=\"http://www.w3.org/1999/xlink\">\r\n <defs>\r\n  <style type=\"text/css\">\r\n*{stroke-linecap:butt;stroke-linejoin:round;}\r\n  </style>\r\n </defs>\r\n <g id=\"figure_1\">\r\n  <g id=\"patch_1\">\r\n   <path d=\"M 0 263.63625 \r\nL 447.160937 263.63625 \r\nL 447.160937 0 \r\nL 0 0 \r\nz\r\n\" style=\"fill:none;\"/>\r\n  </g>\r\n  <g id=\"axes_1\">\r\n   <g id=\"patch_2\">\r\n    <path d=\"M 44.845313 239.758125 \r\nL 379.645313 239.758125 \r\nL 379.645313 22.318125 \r\nL 44.845313 22.318125 \r\nz\r\n\" style=\"fill:#ffffff;\"/>\r\n   </g>\r\n   <g id=\"matplotlib.axis_1\">\r\n    <g id=\"xtick_1\">\r\n     <g id=\"line2d_1\">\r\n      <defs>\r\n       <path d=\"M 0 0 \r\nL 0 3.5 \r\n\" id=\"md5bd9eea3f\" style=\"stroke:#000000;stroke-width:0.8;\"/>\r\n      </defs>\r\n      <g>\r\n       <use style=\"stroke:#000000;stroke-width:0.8;\" x=\"90.499858\" xlink:href=\"#md5bd9eea3f\" y=\"239.758125\"/>\r\n      </g>\r\n     </g>\r\n     <g id=\"text_1\">\r\n      <!-- −0.04 -->\r\n      <defs>\r\n       <path d=\"M 10.59375 35.5 \r\nL 73.1875 35.5 \r\nL 73.1875 27.203125 \r\nL 10.59375 27.203125 \r\nz\r\n\" id=\"DejaVuSans-8722\"/>\r\n       <path d=\"M 31.78125 66.40625 \r\nQ 24.171875 66.40625 20.328125 58.90625 \r\nQ 16.5 51.421875 16.5 36.375 \r\nQ 16.5 21.390625 20.328125 13.890625 \r\nQ 24.171875 6.390625 31.78125 6.390625 \r\nQ 39.453125 6.390625 43.28125 13.890625 \r\nQ 47.125 21.390625 47.125 36.375 \r\nQ 47.125 51.421875 43.28125 58.90625 \r\nQ 39.453125 66.40625 31.78125 66.40625 \r\nz\r\nM 31.78125 74.21875 \r\nQ 44.046875 74.21875 50.515625 64.515625 \r\nQ 56.984375 54.828125 56.984375 36.375 \r\nQ 56.984375 17.96875 50.515625 8.265625 \r\nQ 44.046875 -1.421875 31.78125 -1.421875 \r\nQ 19.53125 -1.421875 13.0625 8.265625 \r\nQ 6.59375 17.96875 6.59375 36.375 \r\nQ 6.59375 54.828125 13.0625 64.515625 \r\nQ 19.53125 74.21875 31.78125 74.21875 \r\nz\r\n\" id=\"DejaVuSans-48\"/>\r\n       <path d=\"M 10.6875 12.40625 \r\nL 21 12.40625 \r\nL 21 0 \r\nL 10.6875 0 \r\nz\r\n\" id=\"DejaVuSans-46\"/>\r\n       <path d=\"M 37.796875 64.3125 \r\nL 12.890625 25.390625 \r\nL 37.796875 25.390625 \r\nz\r\nM 35.203125 72.90625 \r\nL 47.609375 72.90625 \r\nL 47.609375 25.390625 \r\nL 58.015625 25.390625 \r\nL 58.015625 17.1875 \r\nL 47.609375 17.1875 \r\nL 47.609375 0 \r\nL 37.796875 0 \r\nL 37.796875 17.1875 \r\nL 4.890625 17.1875 \r\nL 4.890625 26.703125 \r\nz\r\n\" id=\"DejaVuSans-52\"/>\r\n      </defs>\r\n      <g transform=\"translate(75.177202 254.356563)scale(0.1 -0.1)\">\r\n       <use xlink:href=\"#DejaVuSans-8722\"/>\r\n       <use x=\"83.789062\" xlink:href=\"#DejaVuSans-48\"/>\r\n       <use x=\"147.412109\" xlink:href=\"#DejaVuSans-46\"/>\r\n       <use x=\"179.199219\" xlink:href=\"#DejaVuSans-48\"/>\r\n       <use x=\"242.822266\" xlink:href=\"#DejaVuSans-52\"/>\r\n      </g>\r\n     </g>\r\n    </g>\r\n    <g id=\"xtick_2\">\r\n     <g id=\"line2d_2\">\r\n      <g>\r\n       <use style=\"stroke:#000000;stroke-width:0.8;\" x=\"151.372585\" xlink:href=\"#md5bd9eea3f\" y=\"239.758125\"/>\r\n      </g>\r\n     </g>\r\n     <g id=\"text_2\">\r\n      <!-- −0.02 -->\r\n      <defs>\r\n       <path d=\"M 19.1875 8.296875 \r\nL 53.609375 8.296875 \r\nL 53.609375 0 \r\nL 7.328125 0 \r\nL 7.328125 8.296875 \r\nQ 12.9375 14.109375 22.625 23.890625 \r\nQ 32.328125 33.6875 34.8125 36.53125 \r\nQ 39.546875 41.84375 41.421875 45.53125 \r\nQ 43.3125 49.21875 43.3125 52.78125 \r\nQ 43.3125 58.59375 39.234375 62.25 \r\nQ 35.15625 65.921875 28.609375 65.921875 \r\nQ 23.96875 65.921875 18.8125 64.3125 \r\nQ 13.671875 62.703125 7.8125 59.421875 \r\nL 7.8125 69.390625 \r\nQ 13.765625 71.78125 18.9375 73 \r\nQ 24.125 74.21875 28.421875 74.21875 \r\nQ 39.75 74.21875 46.484375 68.546875 \r\nQ 53.21875 62.890625 53.21875 53.421875 \r\nQ 53.21875 48.921875 51.53125 44.890625 \r\nQ 49.859375 40.875 45.40625 35.40625 \r\nQ 44.1875 33.984375 37.640625 27.21875 \r\nQ 31.109375 20.453125 19.1875 8.296875 \r\nz\r\n\" id=\"DejaVuSans-50\"/>\r\n      </defs>\r\n      <g transform=\"translate(136.049929 254.356563)scale(0.1 -0.1)\">\r\n       <use xlink:href=\"#DejaVuSans-8722\"/>\r\n       <use x=\"83.789062\" xlink:href=\"#DejaVuSans-48\"/>\r\n       <use x=\"147.412109\" xlink:href=\"#DejaVuSans-46\"/>\r\n       <use x=\"179.199219\" xlink:href=\"#DejaVuSans-48\"/>\r\n       <use x=\"242.822266\" xlink:href=\"#DejaVuSans-50\"/>\r\n      </g>\r\n     </g>\r\n    </g>\r\n    <g id=\"xtick_3\">\r\n     <g id=\"line2d_3\">\r\n      <g>\r\n       <use style=\"stroke:#000000;stroke-width:0.8;\" x=\"212.245313\" xlink:href=\"#md5bd9eea3f\" y=\"239.758125\"/>\r\n      </g>\r\n     </g>\r\n     <g id=\"text_3\">\r\n      <!-- 0.00 -->\r\n      <g transform=\"translate(201.1125 254.356563)scale(0.1 -0.1)\">\r\n       <use xlink:href=\"#DejaVuSans-48\"/>\r\n       <use x=\"63.623047\" xlink:href=\"#DejaVuSans-46\"/>\r\n       <use x=\"95.410156\" xlink:href=\"#DejaVuSans-48\"/>\r\n       <use x=\"159.033203\" xlink:href=\"#DejaVuSans-48\"/>\r\n      </g>\r\n     </g>\r\n    </g>\r\n    <g id=\"xtick_4\">\r\n     <g id=\"line2d_4\">\r\n      <g>\r\n       <use style=\"stroke:#000000;stroke-width:0.8;\" x=\"273.11804\" xlink:href=\"#md5bd9eea3f\" y=\"239.758125\"/>\r\n      </g>\r\n     </g>\r\n     <g id=\"text_4\">\r\n      <!-- 0.02 -->\r\n      <g transform=\"translate(261.985227 254.356563)scale(0.1 -0.1)\">\r\n       <use xlink:href=\"#DejaVuSans-48\"/>\r\n       <use x=\"63.623047\" xlink:href=\"#DejaVuSans-46\"/>\r\n       <use x=\"95.410156\" xlink:href=\"#DejaVuSans-48\"/>\r\n       <use x=\"159.033203\" xlink:href=\"#DejaVuSans-50\"/>\r\n      </g>\r\n     </g>\r\n    </g>\r\n    <g id=\"xtick_5\">\r\n     <g id=\"line2d_5\">\r\n      <g>\r\n       <use style=\"stroke:#000000;stroke-width:0.8;\" x=\"333.990767\" xlink:href=\"#md5bd9eea3f\" y=\"239.758125\"/>\r\n      </g>\r\n     </g>\r\n     <g id=\"text_5\">\r\n      <!-- 0.04 -->\r\n      <g transform=\"translate(322.857955 254.356563)scale(0.1 -0.1)\">\r\n       <use xlink:href=\"#DejaVuSans-48\"/>\r\n       <use x=\"63.623047\" xlink:href=\"#DejaVuSans-46\"/>\r\n       <use x=\"95.410156\" xlink:href=\"#DejaVuSans-48\"/>\r\n       <use x=\"159.033203\" xlink:href=\"#DejaVuSans-52\"/>\r\n      </g>\r\n     </g>\r\n    </g>\r\n   </g>\r\n   <g id=\"matplotlib.axis_2\">\r\n    <g id=\"ytick_1\">\r\n     <g id=\"line2d_6\">\r\n      <defs>\r\n       <path d=\"M 0 0 \r\nL -3.5 0 \r\n\" id=\"mfee7cb0368\" style=\"stroke:#000000;stroke-width:0.8;\"/>\r\n      </defs>\r\n      <g>\r\n       <use style=\"stroke:#000000;stroke-width:0.8;\" x=\"44.845313\" xlink:href=\"#mfee7cb0368\" y=\"210.107216\"/>\r\n      </g>\r\n     </g>\r\n     <g id=\"text_6\">\r\n      <!-- −0.04 -->\r\n      <g transform=\"translate(7.2 213.906435)scale(0.1 -0.1)\">\r\n       <use xlink:href=\"#DejaVuSans-8722\"/>\r\n       <use x=\"83.789062\" xlink:href=\"#DejaVuSans-48\"/>\r\n       <use x=\"147.412109\" xlink:href=\"#DejaVuSans-46\"/>\r\n       <use x=\"179.199219\" xlink:href=\"#DejaVuSans-48\"/>\r\n       <use x=\"242.822266\" xlink:href=\"#DejaVuSans-52\"/>\r\n      </g>\r\n     </g>\r\n    </g>\r\n    <g id=\"ytick_2\">\r\n     <g id=\"line2d_7\">\r\n      <g>\r\n       <use style=\"stroke:#000000;stroke-width:0.8;\" x=\"44.845313\" xlink:href=\"#mfee7cb0368\" y=\"170.57267\"/>\r\n      </g>\r\n     </g>\r\n     <g id=\"text_7\">\r\n      <!-- −0.02 -->\r\n      <g transform=\"translate(7.2 174.371889)scale(0.1 -0.1)\">\r\n       <use xlink:href=\"#DejaVuSans-8722\"/>\r\n       <use x=\"83.789062\" xlink:href=\"#DejaVuSans-48\"/>\r\n       <use x=\"147.412109\" xlink:href=\"#DejaVuSans-46\"/>\r\n       <use x=\"179.199219\" xlink:href=\"#DejaVuSans-48\"/>\r\n       <use x=\"242.822266\" xlink:href=\"#DejaVuSans-50\"/>\r\n      </g>\r\n     </g>\r\n    </g>\r\n    <g id=\"ytick_3\">\r\n     <g id=\"line2d_8\">\r\n      <g>\r\n       <use style=\"stroke:#000000;stroke-width:0.8;\" x=\"44.845313\" xlink:href=\"#mfee7cb0368\" y=\"131.038125\"/>\r\n      </g>\r\n     </g>\r\n     <g id=\"text_8\">\r\n      <!-- 0.00 -->\r\n      <g transform=\"translate(15.579688 134.837344)scale(0.1 -0.1)\">\r\n       <use xlink:href=\"#DejaVuSans-48\"/>\r\n       <use x=\"63.623047\" xlink:href=\"#DejaVuSans-46\"/>\r\n       <use x=\"95.410156\" xlink:href=\"#DejaVuSans-48\"/>\r\n       <use x=\"159.033203\" xlink:href=\"#DejaVuSans-48\"/>\r\n      </g>\r\n     </g>\r\n    </g>\r\n    <g id=\"ytick_4\">\r\n     <g id=\"line2d_9\">\r\n      <g>\r\n       <use style=\"stroke:#000000;stroke-width:0.8;\" x=\"44.845313\" xlink:href=\"#mfee7cb0368\" y=\"91.50358\"/>\r\n      </g>\r\n     </g>\r\n     <g id=\"text_9\">\r\n      <!-- 0.02 -->\r\n      <g transform=\"translate(15.579688 95.302798)scale(0.1 -0.1)\">\r\n       <use xlink:href=\"#DejaVuSans-48\"/>\r\n       <use x=\"63.623047\" xlink:href=\"#DejaVuSans-46\"/>\r\n       <use x=\"95.410156\" xlink:href=\"#DejaVuSans-48\"/>\r\n       <use x=\"159.033203\" xlink:href=\"#DejaVuSans-50\"/>\r\n      </g>\r\n     </g>\r\n    </g>\r\n    <g id=\"ytick_5\">\r\n     <g id=\"line2d_10\">\r\n      <g>\r\n       <use style=\"stroke:#000000;stroke-width:0.8;\" x=\"44.845313\" xlink:href=\"#mfee7cb0368\" y=\"51.969034\"/>\r\n      </g>\r\n     </g>\r\n     <g id=\"text_10\">\r\n      <!-- 0.04 -->\r\n      <g transform=\"translate(15.579688 55.768253)scale(0.1 -0.1)\">\r\n       <use xlink:href=\"#DejaVuSans-48\"/>\r\n       <use x=\"63.623047\" xlink:href=\"#DejaVuSans-46\"/>\r\n       <use x=\"95.410156\" xlink:href=\"#DejaVuSans-48\"/>\r\n       <use x=\"159.033203\" xlink:href=\"#DejaVuSans-52\"/>\r\n      </g>\r\n     </g>\r\n    </g>\r\n   </g>\r\n   <g id=\"line2d_11\">\r\n    <path clip-path=\"url(#pfa1f94cebc)\" d=\"M 0 0 \r\n\" style=\"fill:none;stroke:#1f77b4;stroke-linecap:square;stroke-width:1.5;\"/>\r\n   </g>\r\n   <g id=\"patch_3\">\r\n    <path d=\"M 44.845313 239.758125 \r\nL 44.845313 22.318125 \r\n\" style=\"fill:none;stroke:#000000;stroke-linecap:square;stroke-linejoin:miter;stroke-width:0.8;\"/>\r\n   </g>\r\n   <g id=\"patch_4\">\r\n    <path d=\"M 379.645313 239.758125 \r\nL 379.645313 22.318125 \r\n\" style=\"fill:none;stroke:#000000;stroke-linecap:square;stroke-linejoin:miter;stroke-width:0.8;\"/>\r\n   </g>\r\n   <g id=\"patch_5\">\r\n    <path d=\"M 44.845313 239.758125 \r\nL 379.645313 239.758125 \r\n\" style=\"fill:none;stroke:#000000;stroke-linecap:square;stroke-linejoin:miter;stroke-width:0.8;\"/>\r\n   </g>\r\n   <g id=\"patch_6\">\r\n    <path d=\"M 44.845313 22.318125 \r\nL 379.645313 22.318125 \r\n\" style=\"fill:none;stroke:#000000;stroke-linecap:square;stroke-linejoin:miter;stroke-width:0.8;\"/>\r\n   </g>\r\n   <g id=\"text_11\">\r\n    <!-- loss -->\r\n    <defs>\r\n     <path d=\"M 9.421875 75.984375 \r\nL 18.40625 75.984375 \r\nL 18.40625 0 \r\nL 9.421875 0 \r\nz\r\n\" id=\"DejaVuSans-108\"/>\r\n     <path d=\"M 30.609375 48.390625 \r\nQ 23.390625 48.390625 19.1875 42.75 \r\nQ 14.984375 37.109375 14.984375 27.296875 \r\nQ 14.984375 17.484375 19.15625 11.84375 \r\nQ 23.34375 6.203125 30.609375 6.203125 \r\nQ 37.796875 6.203125 41.984375 11.859375 \r\nQ 46.1875 17.53125 46.1875 27.296875 \r\nQ 46.1875 37.015625 41.984375 42.703125 \r\nQ 37.796875 48.390625 30.609375 48.390625 \r\nz\r\nM 30.609375 56 \r\nQ 42.328125 56 49.015625 48.375 \r\nQ 55.71875 40.765625 55.71875 27.296875 \r\nQ 55.71875 13.875 49.015625 6.21875 \r\nQ 42.328125 -1.421875 30.609375 -1.421875 \r\nQ 18.84375 -1.421875 12.171875 6.21875 \r\nQ 5.515625 13.875 5.515625 27.296875 \r\nQ 5.515625 40.765625 12.171875 48.375 \r\nQ 18.84375 56 30.609375 56 \r\nz\r\n\" id=\"DejaVuSans-111\"/>\r\n     <path d=\"M 44.28125 53.078125 \r\nL 44.28125 44.578125 \r\nQ 40.484375 46.53125 36.375 47.5 \r\nQ 32.28125 48.484375 27.875 48.484375 \r\nQ 21.1875 48.484375 17.84375 46.4375 \r\nQ 14.5 44.390625 14.5 40.28125 \r\nQ 14.5 37.15625 16.890625 35.375 \r\nQ 19.28125 33.59375 26.515625 31.984375 \r\nL 29.59375 31.296875 \r\nQ 39.15625 29.25 43.1875 25.515625 \r\nQ 47.21875 21.78125 47.21875 15.09375 \r\nQ 47.21875 7.46875 41.1875 3.015625 \r\nQ 35.15625 -1.421875 24.609375 -1.421875 \r\nQ 20.21875 -1.421875 15.453125 -0.5625 \r\nQ 10.6875 0.296875 5.421875 2 \r\nL 5.421875 11.28125 \r\nQ 10.40625 8.6875 15.234375 7.390625 \r\nQ 20.0625 6.109375 24.8125 6.109375 \r\nQ 31.15625 6.109375 34.5625 8.28125 \r\nQ 37.984375 10.453125 37.984375 14.40625 \r\nQ 37.984375 18.0625 35.515625 20.015625 \r\nQ 33.0625 21.96875 24.703125 23.78125 \r\nL 21.578125 24.515625 \r\nQ 13.234375 26.265625 9.515625 29.90625 \r\nQ 5.8125 33.546875 5.8125 39.890625 \r\nQ 5.8125 47.609375 11.28125 51.796875 \r\nQ 16.75 56 26.8125 56 \r\nQ 31.78125 56 36.171875 55.265625 \r\nQ 40.578125 54.546875 44.28125 53.078125 \r\nz\r\n\" id=\"DejaVuSans-115\"/>\r\n    </defs>\r\n    <g transform=\"translate(200.655938 16.318125)scale(0.12 -0.12)\">\r\n     <use xlink:href=\"#DejaVuSans-108\"/>\r\n     <use x=\"27.783203\" xlink:href=\"#DejaVuSans-111\"/>\r\n     <use x=\"88.964844\" xlink:href=\"#DejaVuSans-115\"/>\r\n     <use x=\"141.064453\" xlink:href=\"#DejaVuSans-115\"/>\r\n    </g>\r\n   </g>\r\n   <g id=\"legend_1\">\r\n    <g id=\"patch_7\">\r\n     <path d=\"M 386.645313 139.877188 \r\nL 437.960938 139.877188 \r\nQ 439.960938 139.877188 439.960938 137.877188 \r\nL 439.960938 124.199063 \r\nQ 439.960938 122.199063 437.960938 122.199063 \r\nL 386.645313 122.199063 \r\nQ 384.645313 122.199063 384.645313 124.199063 \r\nL 384.645313 137.877188 \r\nQ 384.645313 139.877188 386.645313 139.877188 \r\nz\r\n\" style=\"fill:#ffffff;opacity:0.8;stroke:#cccccc;stroke-linejoin:miter;\"/>\r\n    </g>\r\n    <g id=\"line2d_12\">\r\n     <path d=\"M 388.645313 130.2975 \r\nL 408.645313 130.2975 \r\n\" style=\"fill:none;stroke:#1f77b4;stroke-linecap:square;stroke-width:1.5;\"/>\r\n    </g>\r\n    <g id=\"line2d_13\"/>\r\n    <g id=\"text_12\">\r\n     <!-- loss -->\r\n     <g transform=\"translate(416.645313 133.7975)scale(0.1 -0.1)\">\r\n      <use xlink:href=\"#DejaVuSans-108\"/>\r\n      <use x=\"27.783203\" xlink:href=\"#DejaVuSans-111\"/>\r\n      <use x=\"88.964844\" xlink:href=\"#DejaVuSans-115\"/>\r\n      <use x=\"141.064453\" xlink:href=\"#DejaVuSans-115\"/>\r\n     </g>\r\n    </g>\r\n   </g>\r\n  </g>\r\n </g>\r\n <defs>\r\n  <clipPath id=\"pfa1f94cebc\">\r\n   <rect height=\"217.44\" width=\"334.8\" x=\"44.845313\" y=\"22.318125\"/>\r\n  </clipPath>\r\n </defs>\r\n</svg>\r\n",
      "image/png": "[encoded data removed]"
     },
     "metadata": {
      "needs_background": "light"
     }
    }
   ],
   "source": [
    "x = range(200)\n",
    "plt.plot(x, history.history['accuracy'], label=\"acc\")\n",
    "plt.title(\"accuracy\")\n",
    "plt.legend(loc='center left', bbox_to_anchor=(1, 0.5))\n",
    "plt.show()\n",
    "\n",
    "plt.plot(x, history.history['loss'], label=\"loss\")\n",
    "plt.title(\"loss\")\n",
    "plt.legend(loc='center left', bbox_to_anchor=(1, 0.5))\n",
    "plt.show()\n",
    ""
   ]
  },
  {
   "cell_type": "code",
   "execution_count": 14,
   "metadata": {},
   "outputs": [],
   "source": [
    "model.save_weights('model.h5')"
   ]
  },
  {
   "cell_type": "code",
   "execution_count": 45,
   "metadata": {
    "tags": [
     "outputPrepend",
     "outputPrepend",
     "outputPrepend",
     "outputPrepend",
     "outputPrepend",
     "outputPrepend",
     "outputPrepend",
     "outputPrepend",
     "outputPrepend",
     "outputPrepend"
    ]
   },
   "outputs": [
    {
     "output_type": "stream",
     "name": "stdout",
     "text": "的中率\n0.0\n回収率\n0.0\n"
    }
   ],
   "source": [
    "count = 0\n",
    "prize_money_sum = 0\n",
    "number_of_times = 80\n",
    "for i in range(number_of_times):\n",
    "    x=data_train[i:i+1]\n",
    "    classes = model.predict_classes(x, batch_size=1)\n",
    "    prob = model.predict_proba(x, batch_size=1)\n",
    "    odd = odds[i:i+1].values\n",
    "    horse_number = horse_number_first[i:i+1].values\n",
    "    #num = re.sub(\"\\\\D\", \"\",odd[0])\n",
    "    if horse_number[0] == classes[0]:\n",
    "        prize_money_sum += int(re.sub(\"\\\\D\", \"\",odd[0]))\n",
    "        count+=1\n",
    "print(\"的中率\")\n",
    "print((count/number_of_times)*number_of_times)\n",
    "print(\"回収率\")\n",
    "print((prize_money_sum/(number_of_times*100))*100)\n",
    "    \n",
    "\n",
    "    #print('classified:')\n",
    "\n",
    "    #print(classes[0])\n",
    "    #print('output probability:')\n",
    "    #print(prob)"
   ]
  },
  {
   "cell_type": "code",
   "execution_count": null,
   "metadata": {},
   "outputs": [],
   "source": []
  }
 ]
}