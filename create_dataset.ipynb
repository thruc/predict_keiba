{
 "nbformat": 4,
 "nbformat_minor": 2,
 "metadata": {
  "language_info": {
   "name": "python",
   "codemirror_mode": {
    "name": "ipython",
    "version": 3
   },
   "version": "3.7.4-final"
  },
  "orig_nbformat": 2,
  "file_extension": ".py",
  "mimetype": "text/x-python",
  "name": "python",
  "npconvert_exporter": "python",
  "pygments_lexer": "ipython3",
  "version": 3,
  "kernelspec": {
   "name": "python37464bit1ebf9c4dc354488cae1027a09c7ab0e8",
   "display_name": "Python 3.7.4 64-bit"
  }
 },
 "cells": [
  {
   "cell_type": "code",
   "execution_count": 1,
   "metadata": {},
   "outputs": [],
   "source": [
    "import numpy as np\n",
    "import pandas as pd\n",
    "pd.set_option('display.max_columns', 50)"
   ]
  },
  {
   "cell_type": "markdown",
   "metadata": {},
   "source": [
    "# raceデータセット作成"
   ]
  },
  {
   "cell_type": "code",
   "execution_count": 2,
   "metadata": {},
   "outputs": [],
   "source": [
    "race_df = pd.read_csv(\"csv/race.csv\", sep=\",\")"
   ]
  },
  {
   "cell_type": "code",
   "execution_count": 4,
   "metadata": {},
   "outputs": [
    {
     "output_type": "stream",
     "name": "stdout",
     "text": "(264, 28)\n"
    },
    {
     "output_type": "execute_result",
     "data": {
      "text/plain": "          race_id race_round         race_title race_course weather  \\\n262  201908010111       11 R  第57回スポニチ賞京都金杯(G3)   芝右 外1600m  天候 : 晴   \n263  201908010112       12 R         4歳以上1000万下     芝右1200m  天候 : 晴   \n\n    ground_status   time       date where_racecourse  total_horse_number  \\\n262         芝 : 良  15:45  2019年1月5日          1回京都1日目                  17   \n263         芝 : 良  16:20  2019年1月5日          1回京都1日目                  16   \n\n     frame_number_first  horse_number_first  frame_number_second  \\\n262                   6                  12                    8   \n263                   1                   2                    2   \n\n     horse_number_second  frame_number_third  horse_number_third tansyo  \\\n262                   15                   4                   7    220   \n263                    4                   1                   1    230   \n\n    hukusyo_first hukusyo_second hukusyo_third wakuren umaren wide_1_2  \\\n262           140            410         1,130   1,180  2,060      890   \n263           140            540           690   2,260  3,190    1,040   \n\n    wide_1_3 wide_2_3 umatan renhuku3 rentan3  \n262    2,910    9,420  2,530   34,980  98,580  \n263    1,420    7,540  4,270   20,820  80,700  ",
      "text/html": "<div>\n<style scoped>\n    .dataframe tbody tr th:only-of-type {\n        vertical-align: middle;\n    }\n\n    .dataframe tbody tr th {\n        vertical-align: top;\n    }\n\n    .dataframe thead th {\n        text-align: right;\n    }\n</style>\n<table border=\"1\" class=\"dataframe\">\n  <thead>\n    <tr style=\"text-align: right;\">\n      <th></th>\n      <th>race_id</th>\n      <th>race_round</th>\n      <th>race_title</th>\n      <th>race_course</th>\n      <th>weather</th>\n      <th>ground_status</th>\n      <th>time</th>\n      <th>date</th>\n      <th>where_racecourse</th>\n      <th>total_horse_number</th>\n      <th>frame_number_first</th>\n      <th>horse_number_first</th>\n      <th>frame_number_second</th>\n      <th>horse_number_second</th>\n      <th>frame_number_third</th>\n      <th>horse_number_third</th>\n      <th>tansyo</th>\n      <th>hukusyo_first</th>\n      <th>hukusyo_second</th>\n      <th>hukusyo_third</th>\n      <th>wakuren</th>\n      <th>umaren</th>\n      <th>wide_1_2</th>\n      <th>wide_1_3</th>\n      <th>wide_2_3</th>\n      <th>umatan</th>\n      <th>renhuku3</th>\n      <th>rentan3</th>\n    </tr>\n  </thead>\n  <tbody>\n    <tr>\n      <th>262</th>\n      <td>201908010111</td>\n      <td>11 R</td>\n      <td>第57回スポニチ賞京都金杯(G3)</td>\n      <td>芝右 外1600m</td>\n      <td>天候 : 晴</td>\n      <td>芝 : 良</td>\n      <td>15:45</td>\n      <td>2019年1月5日</td>\n      <td>1回京都1日目</td>\n      <td>17</td>\n      <td>6</td>\n      <td>12</td>\n      <td>8</td>\n      <td>15</td>\n      <td>4</td>\n      <td>7</td>\n      <td>220</td>\n      <td>140</td>\n      <td>410</td>\n      <td>1,130</td>\n      <td>1,180</td>\n      <td>2,060</td>\n      <td>890</td>\n      <td>2,910</td>\n      <td>9,420</td>\n      <td>2,530</td>\n      <td>34,980</td>\n      <td>98,580</td>\n    </tr>\n    <tr>\n      <th>263</th>\n      <td>201908010112</td>\n      <td>12 R</td>\n      <td>4歳以上1000万下</td>\n      <td>芝右1200m</td>\n      <td>天候 : 晴</td>\n      <td>芝 : 良</td>\n      <td>16:20</td>\n      <td>2019年1月5日</td>\n      <td>1回京都1日目</td>\n      <td>16</td>\n      <td>1</td>\n      <td>2</td>\n      <td>2</td>\n      <td>4</td>\n      <td>1</td>\n      <td>1</td>\n      <td>230</td>\n      <td>140</td>\n      <td>540</td>\n      <td>690</td>\n      <td>2,260</td>\n      <td>3,190</td>\n      <td>1,040</td>\n      <td>1,420</td>\n      <td>7,540</td>\n      <td>4,270</td>\n      <td>20,820</td>\n      <td>80,700</td>\n    </tr>\n  </tbody>\n</table>\n</div>"
     },
     "metadata": {},
     "execution_count": 4
    }
   ],
   "source": [
    "print(race_df.shape)\n",
    "race_df.tail(2)"
   ]
  },
  {
   "cell_type": "markdown",
   "metadata": {},
   "source": [
    "## race_id変更なし"
   ]
  },
  {
   "cell_type": "code",
   "execution_count": 5,
   "metadata": {},
   "outputs": [
    {
     "output_type": "execute_result",
     "data": {
      "text/plain": "0    201905010201\n1    201905010202\n2    201905010203\nName: race_id, dtype: int64"
     },
     "metadata": {},
     "execution_count": 5
    }
   ],
   "source": [
    "race_df['race_id'].head(3)"
   ]
  },
  {
   "cell_type": "markdown",
   "metadata": {},
   "source": [
    "## race_round Rを削除"
   ]
  },
  {
   "cell_type": "code",
   "execution_count": 6,
   "metadata": {},
   "outputs": [
    {
     "output_type": "execute_result",
     "data": {
      "text/plain": "array(['1 R', '2 R', '3 R', '4 R', '5 R', '6 R', '7 R', '8 R', '9 R',\n       '10 R', '11 R', '12 R'], dtype=object)"
     },
     "metadata": {},
     "execution_count": 6
    }
   ],
   "source": [
    "race_df['race_round'].unique()"
   ]
  },
  {
   "cell_type": "code",
   "execution_count": 7,
   "metadata": {},
   "outputs": [],
   "source": [
    "race_df['race_round'] = race_df['race_round'].str.strip('R \\n')"
   ]
  },
  {
   "cell_type": "code",
   "execution_count": 8,
   "metadata": {},
   "outputs": [
    {
     "output_type": "execute_result",
     "data": {
      "text/plain": "array(['1', '2', '3', '4', '5', '6', '7', '8', '9', '10', '11', '12'],\n      dtype=object)"
     },
     "metadata": {},
     "execution_count": 8
    }
   ],
   "source": [
    "race_df['race_round'].unique()"
   ]
  },
  {
   "cell_type": "markdown",
   "metadata": {},
   "source": [
    "## dtypeがobjectなのでintに変換"
   ]
  },
  {
   "cell_type": "code",
   "execution_count": 10,
   "metadata": {},
   "outputs": [
    {
     "output_type": "execute_result",
     "data": {
      "text/plain": "0    1\n1    2\n2    3\nName: race_round, dtype: int32"
     },
     "metadata": {},
     "execution_count": 10
    }
   ],
   "source": [
    "race_df['race_round'] = race_df['race_round'].astype(int)\n",
    "race_df['race_round'].head(3)"
   ]
  },
  {
   "cell_type": "markdown",
   "metadata": {},
   "source": []
  },
  {
   "cell_type": "markdown",
   "metadata": {},
   "source": [
    "## race_title いらないので削除"
   ]
  },
  {
   "cell_type": "code",
   "execution_count": null,
   "metadata": {},
   "outputs": [],
   "source": [
    "race_df['race_title'].head(3)"
   ]
  },
  {
   "cell_type": "code",
   "execution_count": 13,
   "metadata": {},
   "outputs": [
    {
     "output_type": "error",
     "ename": "KeyError",
     "evalue": "\"['race_title'] not found in axis\"",
     "traceback": [
      "\u001b[1;31m---------------------------------------------------------------------------\u001b[0m",
      "\u001b[1;31mKeyError\u001b[0m                                  Traceback (most recent call last)",
      "\u001b[1;32m<ipython-input-13-6de7155c4773>\u001b[0m in \u001b[0;36m<module>\u001b[1;34m\u001b[0m\n\u001b[1;32m----> 1\u001b[1;33m \u001b[0mrace_df\u001b[0m\u001b[1;33m.\u001b[0m\u001b[0mdrop\u001b[0m\u001b[1;33m(\u001b[0m\u001b[1;33m[\u001b[0m\u001b[1;34m'race_title'\u001b[0m\u001b[1;33m]\u001b[0m\u001b[1;33m,\u001b[0m \u001b[0maxis\u001b[0m\u001b[1;33m=\u001b[0m\u001b[1;36m1\u001b[0m\u001b[1;33m,\u001b[0m \u001b[0minplace\u001b[0m\u001b[1;33m=\u001b[0m\u001b[1;32mTrue\u001b[0m\u001b[1;33m)\u001b[0m\u001b[1;33m\u001b[0m\u001b[1;33m\u001b[0m\u001b[0m\n\u001b[0m\u001b[0;32m      2\u001b[0m \u001b[0mrece_df\u001b[0m\u001b[1;33m.\u001b[0m\u001b[0mhead\u001b[0m\u001b[1;33m(\u001b[0m\u001b[1;36m3\u001b[0m\u001b[1;33m)\u001b[0m\u001b[1;33m\u001b[0m\u001b[1;33m\u001b[0m\u001b[0m\n",
      "\u001b[1;32m~\\AppData\\Local\\Programs\\Python\\Python37\\lib\\site-packages\\pandas\\core\\frame.py\u001b[0m in \u001b[0;36mdrop\u001b[1;34m(self, labels, axis, index, columns, level, inplace, errors)\u001b[0m\n\u001b[0;32m   3995\u001b[0m             \u001b[0mlevel\u001b[0m\u001b[1;33m=\u001b[0m\u001b[0mlevel\u001b[0m\u001b[1;33m,\u001b[0m\u001b[1;33m\u001b[0m\u001b[1;33m\u001b[0m\u001b[0m\n\u001b[0;32m   3996\u001b[0m             \u001b[0minplace\u001b[0m\u001b[1;33m=\u001b[0m\u001b[0minplace\u001b[0m\u001b[1;33m,\u001b[0m\u001b[1;33m\u001b[0m\u001b[1;33m\u001b[0m\u001b[0m\n\u001b[1;32m-> 3997\u001b[1;33m             \u001b[0merrors\u001b[0m\u001b[1;33m=\u001b[0m\u001b[0merrors\u001b[0m\u001b[1;33m,\u001b[0m\u001b[1;33m\u001b[0m\u001b[1;33m\u001b[0m\u001b[0m\n\u001b[0m\u001b[0;32m   3998\u001b[0m         )\n\u001b[0;32m   3999\u001b[0m \u001b[1;33m\u001b[0m\u001b[0m\n",
      "\u001b[1;32m~\\AppData\\Local\\Programs\\Python\\Python37\\lib\\site-packages\\pandas\\core\\generic.py\u001b[0m in \u001b[0;36mdrop\u001b[1;34m(self, labels, axis, index, columns, level, inplace, errors)\u001b[0m\n\u001b[0;32m   3934\u001b[0m         \u001b[1;32mfor\u001b[0m \u001b[0maxis\u001b[0m\u001b[1;33m,\u001b[0m \u001b[0mlabels\u001b[0m \u001b[1;32min\u001b[0m \u001b[0maxes\u001b[0m\u001b[1;33m.\u001b[0m\u001b[0mitems\u001b[0m\u001b[1;33m(\u001b[0m\u001b[1;33m)\u001b[0m\u001b[1;33m:\u001b[0m\u001b[1;33m\u001b[0m\u001b[1;33m\u001b[0m\u001b[0m\n\u001b[0;32m   3935\u001b[0m             \u001b[1;32mif\u001b[0m \u001b[0mlabels\u001b[0m \u001b[1;32mis\u001b[0m \u001b[1;32mnot\u001b[0m \u001b[1;32mNone\u001b[0m\u001b[1;33m:\u001b[0m\u001b[1;33m\u001b[0m\u001b[1;33m\u001b[0m\u001b[0m\n\u001b[1;32m-> 3936\u001b[1;33m                 \u001b[0mobj\u001b[0m \u001b[1;33m=\u001b[0m \u001b[0mobj\u001b[0m\u001b[1;33m.\u001b[0m\u001b[0m_drop_axis\u001b[0m\u001b[1;33m(\u001b[0m\u001b[0mlabels\u001b[0m\u001b[1;33m,\u001b[0m \u001b[0maxis\u001b[0m\u001b[1;33m,\u001b[0m \u001b[0mlevel\u001b[0m\u001b[1;33m=\u001b[0m\u001b[0mlevel\u001b[0m\u001b[1;33m,\u001b[0m \u001b[0merrors\u001b[0m\u001b[1;33m=\u001b[0m\u001b[0merrors\u001b[0m\u001b[1;33m)\u001b[0m\u001b[1;33m\u001b[0m\u001b[1;33m\u001b[0m\u001b[0m\n\u001b[0m\u001b[0;32m   3937\u001b[0m \u001b[1;33m\u001b[0m\u001b[0m\n\u001b[0;32m   3938\u001b[0m         \u001b[1;32mif\u001b[0m \u001b[0minplace\u001b[0m\u001b[1;33m:\u001b[0m\u001b[1;33m\u001b[0m\u001b[1;33m\u001b[0m\u001b[0m\n",
      "\u001b[1;32m~\\AppData\\Local\\Programs\\Python\\Python37\\lib\\site-packages\\pandas\\core\\generic.py\u001b[0m in \u001b[0;36m_drop_axis\u001b[1;34m(self, labels, axis, level, errors)\u001b[0m\n\u001b[0;32m   3968\u001b[0m                 \u001b[0mnew_axis\u001b[0m \u001b[1;33m=\u001b[0m \u001b[0maxis\u001b[0m\u001b[1;33m.\u001b[0m\u001b[0mdrop\u001b[0m\u001b[1;33m(\u001b[0m\u001b[0mlabels\u001b[0m\u001b[1;33m,\u001b[0m \u001b[0mlevel\u001b[0m\u001b[1;33m=\u001b[0m\u001b[0mlevel\u001b[0m\u001b[1;33m,\u001b[0m \u001b[0merrors\u001b[0m\u001b[1;33m=\u001b[0m\u001b[0merrors\u001b[0m\u001b[1;33m)\u001b[0m\u001b[1;33m\u001b[0m\u001b[1;33m\u001b[0m\u001b[0m\n\u001b[0;32m   3969\u001b[0m             \u001b[1;32melse\u001b[0m\u001b[1;33m:\u001b[0m\u001b[1;33m\u001b[0m\u001b[1;33m\u001b[0m\u001b[0m\n\u001b[1;32m-> 3970\u001b[1;33m                 \u001b[0mnew_axis\u001b[0m \u001b[1;33m=\u001b[0m \u001b[0maxis\u001b[0m\u001b[1;33m.\u001b[0m\u001b[0mdrop\u001b[0m\u001b[1;33m(\u001b[0m\u001b[0mlabels\u001b[0m\u001b[1;33m,\u001b[0m \u001b[0merrors\u001b[0m\u001b[1;33m=\u001b[0m\u001b[0merrors\u001b[0m\u001b[1;33m)\u001b[0m\u001b[1;33m\u001b[0m\u001b[1;33m\u001b[0m\u001b[0m\n\u001b[0m\u001b[0;32m   3971\u001b[0m             \u001b[0mresult\u001b[0m \u001b[1;33m=\u001b[0m \u001b[0mself\u001b[0m\u001b[1;33m.\u001b[0m\u001b[0mreindex\u001b[0m\u001b[1;33m(\u001b[0m\u001b[1;33m**\u001b[0m\u001b[1;33m{\u001b[0m\u001b[0maxis_name\u001b[0m\u001b[1;33m:\u001b[0m \u001b[0mnew_axis\u001b[0m\u001b[1;33m}\u001b[0m\u001b[1;33m)\u001b[0m\u001b[1;33m\u001b[0m\u001b[1;33m\u001b[0m\u001b[0m\n\u001b[0;32m   3972\u001b[0m \u001b[1;33m\u001b[0m\u001b[0m\n",
      "\u001b[1;32m~\\AppData\\Local\\Programs\\Python\\Python37\\lib\\site-packages\\pandas\\core\\indexes\\base.py\u001b[0m in \u001b[0;36mdrop\u001b[1;34m(self, labels, errors)\u001b[0m\n\u001b[0;32m   5015\u001b[0m         \u001b[1;32mif\u001b[0m \u001b[0mmask\u001b[0m\u001b[1;33m.\u001b[0m\u001b[0many\u001b[0m\u001b[1;33m(\u001b[0m\u001b[1;33m)\u001b[0m\u001b[1;33m:\u001b[0m\u001b[1;33m\u001b[0m\u001b[1;33m\u001b[0m\u001b[0m\n\u001b[0;32m   5016\u001b[0m             \u001b[1;32mif\u001b[0m \u001b[0merrors\u001b[0m \u001b[1;33m!=\u001b[0m \u001b[1;34m\"ignore\"\u001b[0m\u001b[1;33m:\u001b[0m\u001b[1;33m\u001b[0m\u001b[1;33m\u001b[0m\u001b[0m\n\u001b[1;32m-> 5017\u001b[1;33m                 \u001b[1;32mraise\u001b[0m \u001b[0mKeyError\u001b[0m\u001b[1;33m(\u001b[0m\u001b[1;34mf\"{labels[mask]} not found in axis\"\u001b[0m\u001b[1;33m)\u001b[0m\u001b[1;33m\u001b[0m\u001b[1;33m\u001b[0m\u001b[0m\n\u001b[0m\u001b[0;32m   5018\u001b[0m             \u001b[0mindexer\u001b[0m \u001b[1;33m=\u001b[0m \u001b[0mindexer\u001b[0m\u001b[1;33m[\u001b[0m\u001b[1;33m~\u001b[0m\u001b[0mmask\u001b[0m\u001b[1;33m]\u001b[0m\u001b[1;33m\u001b[0m\u001b[1;33m\u001b[0m\u001b[0m\n\u001b[0;32m   5019\u001b[0m         \u001b[1;32mreturn\u001b[0m \u001b[0mself\u001b[0m\u001b[1;33m.\u001b[0m\u001b[0mdelete\u001b[0m\u001b[1;33m(\u001b[0m\u001b[0mindexer\u001b[0m\u001b[1;33m)\u001b[0m\u001b[1;33m\u001b[0m\u001b[1;33m\u001b[0m\u001b[0m\n",
      "\u001b[1;31mKeyError\u001b[0m: \"['race_title'] not found in axis\""
     ]
    }
   ],
   "source": [
    "race_df.drop(['race_title'], axis=1, inplace=True)\n",
    "rece_df.head(3)"
   ]
  },
  {
   "cell_type": "markdown",
   "metadata": {},
   "source": [
    "race_coursekから"
   ]
  },
  {
   "cell_type": "code",
   "execution_count": 14,
   "metadata": {},
   "outputs": [
    {
     "output_type": "execute_result",
     "data": {
      "text/plain": "array(['ダ左1400m', 'ダ左2100m', 'ダ左1600m', '芝左1600m', '芝左1800m', '芝左2400m',\n       'ダ左1800m', 'ダ左1200m', '障芝3000m', '芝左1400m', '芝左2000m', 'ダ左1900m',\n       '芝左1200m', 'ダ右1200m', 'ダ右1800m', 'ダ右1400m', '芝右 外2200m',\n       '芝右 外1800m', '芝右1200m', 'ダ左1300m', '障芝 ダート3170m', '芝右 外2400m',\n       '芝右 外1600m', '芝右2000m', '芝右1800m', '芝左2200m', '芝右1600m',\n       '芝右 外1400m', '障芝3330m', '芝右 外1200m', '障芝 ダート2910m', 'ダ右1900m',\n       '障芝 ダート2880m', 'ダ右2400m', '障芝 ダート3200m', '芝右 外3000m'], dtype=object)"
     },
     "metadata": {},
     "execution_count": 14
    }
   ],
   "source": [
    "race_df['race_course'].unique()"
   ]
  },
  {
   "cell_type": "markdown",
   "metadata": {},
   "source": [
    "## 障害かどうかデータのobstacle 0=普通　1=障害"
   ]
  },
  {
   "cell_type": "code",
   "execution_count": 15,
   "metadata": {},
   "outputs": [
    {
     "output_type": "execute_result",
     "data": {
      "text/plain": "array([nan, '障'], dtype=object)"
     },
     "metadata": {},
     "execution_count": 15
    }
   ],
   "source": [
    "obstacle = race_df[\"race_course\"].str.extract('(障)', expand=True)\n",
    "obstacle.columns ={\"obstacle\"}\n",
    "race_df = pd.concat([race_df, obstacle], axis=1)\n",
    "race_df['obstacle'].unique()"
   ]
  },
  {
   "cell_type": "markdown",
   "metadata": {},
   "source": [
    "## 'obstacle' 列の '障芝' を1に置き換え、Nanに0埋め"
   ]
  },
  {
   "cell_type": "code",
   "execution_count": 16,
   "metadata": {},
   "outputs": [
    {
     "output_type": "execute_result",
     "data": {
      "text/plain": "array([0., 1.])"
     },
     "metadata": {},
     "execution_count": 16
    }
   ],
   "source": [
    "race_df['obstacle'] = race_df['obstacle'].replace('障', 1)\n",
    "race_df.fillna(value={'obstacle': 0}, inplace=True)\n",
    "race_df['obstacle'].unique()"
   ]
  },
  {
   "cell_type": "markdown",
   "metadata": {},
   "source": [
    "## 芝かダートかのデータground_type"
   ]
  },
  {
   "cell_type": "code",
   "execution_count": 17,
   "metadata": {},
   "outputs": [
    {
     "output_type": "execute_result",
     "data": {
      "text/plain": "array(['ダ', '芝'], dtype=object)"
     },
     "metadata": {},
     "execution_count": 17
    }
   ],
   "source": [
    "ground_type = race_df[\"race_course\"].str.extract('(ダ|芝)', expand=True)\n",
    "ground_type.columns ={\"ground_type\"}\n",
    "race_df = pd.concat([race_df, ground_type], axis=1)\n",
    "race_df['ground_type'].unique()"
   ]
  },
  {
   "cell_type": "markdown",
   "metadata": {},
   "source": [
    "## 左周りか右回りか直線かのデータleft_right_straight"
   ]
  },
  {
   "cell_type": "code",
   "execution_count": 18,
   "metadata": {},
   "outputs": [
    {
     "output_type": "execute_result",
     "data": {
      "text/plain": "array(['左', nan, '右'], dtype=object)"
     },
     "metadata": {},
     "execution_count": 18
    }
   ],
   "source": [
    "left_right_straight = race_df[\"race_course\"].str.extract('(左|右|直線)', expand=True)\n",
    "left_right_straight.columns = {\"left_right_straight\"}\n",
    "race_df = pd.concat([race_df, left_right_straight], axis=1)\n",
    "race_df['left_right_straight'].unique()"
   ]
  },
  {
   "cell_type": "markdown",
   "metadata": {},
   "source": [
    "## コースの距離distance"
   ]
  },
  {
   "cell_type": "code",
   "execution_count": 19,
   "metadata": {},
   "outputs": [
    {
     "output_type": "execute_result",
     "data": {
      "text/plain": "array(['1400', '2100', '1600', '1800', '2400', '1200', '3000', '2000',\n       '1900', '2200', '1300', '3170', '3330', '2910', '2880', '3200'],\n      dtype=object)"
     },
     "metadata": {},
     "execution_count": 19
    }
   ],
   "source": [
    "distance = race_df[\"race_course\"].str.extract('(\\d+)m', expand=True)\n",
    "distance.columns = {\"distance\"}\n",
    "race_df = pd.concat([race_df, distance], axis=1)\n",
    "race_df['distance'].unique()"
   ]
  },
  {
   "cell_type": "markdown",
   "metadata": {},
   "source": [
    "## intに変換"
   ]
  },
  {
   "cell_type": "code",
   "execution_count": 20,
   "metadata": {},
   "outputs": [
    {
     "output_type": "execute_result",
     "data": {
      "text/plain": "0    1400\n1    2100\n2    1600\nName: distance, dtype: int32"
     },
     "metadata": {},
     "execution_count": 20
    }
   ],
   "source": [
    "race_df[\"distance\"] = race_df[\"distance\"].astype(int)\n",
    "race_df['distance'].head(3)"
   ]
  },
  {
   "cell_type": "markdown",
   "metadata": {},
   "source": [
    "## race_courseは不要になったので削除"
   ]
  },
  {
   "cell_type": "code",
   "execution_count": 21,
   "metadata": {},
   "outputs": [],
   "source": [
    "race_df.drop(['race_course'], axis=1, inplace=True)"
   ]
  },
  {
   "cell_type": "markdown",
   "metadata": {},
   "source": [
    "## weather　いらない文字列削除\n"
   ]
  },
  {
   "cell_type": "code",
   "execution_count": 22,
   "metadata": {},
   "outputs": [
    {
     "output_type": "execute_result",
     "data": {
      "text/plain": "array(['天候 : 晴', '天候 : 曇', '天候 : 小雪', '天候 : 雪', '天候 : 小雨', '天候 : 雨'],\n      dtype=object)"
     },
     "metadata": {},
     "execution_count": 22
    }
   ],
   "source": [
    "race_df[\"weather\"].unique()"
   ]
  },
  {
   "cell_type": "code",
   "execution_count": 23,
   "metadata": {},
   "outputs": [
    {
     "output_type": "execute_result",
     "data": {
      "text/plain": "0    晴\n1    晴\n2    晴\nName: weather, dtype: object"
     },
     "metadata": {},
     "execution_count": 23
    }
   ],
   "source": [
    "race_df['weather'] = race_df['weather'].str.strip('天候 :')\n",
    "race_df[\"weather\"].head(3)"
   ]
  },
  {
   "cell_type": "markdown",
   "metadata": {},
   "source": [
    "## ground_status いらない文字列削除"
   ]
  },
  {
   "cell_type": "code",
   "execution_count": 24,
   "metadata": {},
   "outputs": [
    {
     "output_type": "execute_result",
     "data": {
      "text/plain": "array(['ダート : 良', '芝 : 良', '芝 : 良\\xa0\\xa0ダート : 良', 'ダート : 稍重', '芝 : 稍重'],\n      dtype=object)"
     },
     "metadata": {},
     "execution_count": 24
    }
   ],
   "source": [
    "race_df[\"ground_status\"].unique()"
   ]
  },
  {
   "cell_type": "code",
   "execution_count": 25,
   "metadata": {},
   "outputs": [
    {
     "output_type": "execute_result",
     "data": {
      "text/plain": "array(['良', '稍重'], dtype=object)"
     },
     "metadata": {},
     "execution_count": 25
    }
   ],
   "source": [
    "race_df['ground_status'] = race_df['ground_status'].str.extract('(稍重|重|不良|良)',expand=True)\n",
    "race_df[\"ground_status\"].unique()"
   ]
  },
  {
   "cell_type": "markdown",
   "metadata": {},
   "source": [
    "## where_racecourse　場所以外の情報を削除"
   ]
  },
  {
   "cell_type": "code",
   "execution_count": 26,
   "metadata": {},
   "outputs": [
    {
     "output_type": "execute_result",
     "data": {
      "text/plain": "0    2019年1月27日\n1    2019年1月27日\n2    2019年1月27日\nName: date, dtype: object"
     },
     "metadata": {},
     "execution_count": 26
    }
   ],
   "source": [
    "race_df[\"date\"].head(3)"
   ]
  },
  {
   "cell_type": "code",
   "execution_count": 27,
   "metadata": {},
   "outputs": [],
   "source": [
    "race_df[\"time\"] = race_df[\"time\"].str.replace('(\\d\\d):(\\d\\d)', r'\\1時\\2分')"
   ]
  },
  {
   "cell_type": "code",
   "execution_count": 28,
   "metadata": {},
   "outputs": [],
   "source": [
    "race_df[\"date\"] = race_df[\"date\"] + race_df[\"time\"]\n",
    "race_df[\"date\"] = pd.to_datetime(race_df['date'], format='%Y年%m月%d日%H時%M分')"
   ]
  },
  {
   "cell_type": "code",
   "execution_count": 29,
   "metadata": {},
   "outputs": [
    {
     "output_type": "execute_result",
     "data": {
      "text/plain": "0   2019-01-27 10:10:00\n1   2019-01-27 10:40:00\n2   2019-01-27 11:10:00\nName: date, dtype: datetime64[ns]"
     },
     "metadata": {},
     "execution_count": 29
    }
   ],
   "source": [
    "race_df[\"date\"].head(3)"
   ]
  },
  {
   "cell_type": "code",
   "execution_count": 30,
   "metadata": {},
   "outputs": [],
   "source": [
    "race_df.drop(['time'], axis=1, inplace=True)"
   ]
  },
  {
   "cell_type": "code",
   "execution_count": 31,
   "metadata": {},
   "outputs": [
    {
     "output_type": "execute_result",
     "data": {
      "text/plain": "array(['1回東京2日目', '1回中京4日目', '2回京都2日目', '1回東京1日目', '1回中京3日目', '2回京都1日目',\n       '1回中山7日目', '1回中京2日目', '1回京都7日目', '1回中山6日目', '1回中京1日目', '1回京都6日目',\n       '1回中山5日目', '1回京都5日目', '1回中山4日目', '1回京都4日目', '1回中山3日目', '1回京都3日目',\n       '1回中山2日目', '1回京都2日目', '1回中山1日目', '1回京都1日目'], dtype=object)"
     },
     "metadata": {},
     "execution_count": 31
    }
   ],
   "source": [
    "race_df[\"where_racecourse\"].unique()"
   ]
  },
  {
   "cell_type": "code",
   "execution_count": 32,
   "metadata": {},
   "outputs": [
    {
     "output_type": "execute_result",
     "data": {
      "text/plain": "array(['東京', '中京', '京都', '中山'], dtype=object)"
     },
     "metadata": {},
     "execution_count": 32
    }
   ],
   "source": [
    "race_df[\"where_racecourse\"] = race_df[\"where_racecourse\"].str.replace('\\d*回(..)\\d*日目', r'\\1')\n",
    "race_df[\"where_racecourse\"].unique()"
   ]
  },
  {
   "cell_type": "code",
   "execution_count": 33,
   "metadata": {},
   "outputs": [],
   "source": [
    "race_df = pd.get_dummies(race_df, columns=[\"ground_status\",\"weather\",'where_racecourse','ground_type','left_right_straight'])"
   ]
  },
  {
   "cell_type": "code",
   "execution_count": 34,
   "metadata": {},
   "outputs": [],
   "source": [
    "race_df.to_csv(\"csv/cleaned_race_data.csv\", index=False )"
   ]
  },
  {
   "cell_type": "code",
   "execution_count": 27,
   "metadata": {},
   "outputs": [
    {
     "output_type": "execute_result",
     "data": {
      "text/plain": "          race_id  race_round  total_horse_number  frame_number_first  \\\n0    201906030401           1                  16                   8   \n1    201906030402           2                  16                   8   \n2    201906030403           3                  16                   7   \n3    201906030404           4                  14                   7   \n4    201906030405           5                  16                   1   \n..            ...         ...                 ...                 ...   \n619  201908020308           8                  13                   2   \n620  201908020309           9                  10                   8   \n621  201908020310          10                  10                   1   \n622  201908020311          11                  15                   2   \n623  201908020312          12                  12                   4   \n\n     horse_number_first  frame_number_second  horse_number_second  \\\n0                    15                    2                    4   \n1                    15                    5                   10   \n2                    13                    5                   10   \n3                    12                    1                    1   \n4                     1                    3                    5   \n..                  ...                  ...                  ...   \n619                   2                    8                   12   \n620                  10                    3                    3   \n621                   1                    6                    6   \n622                   3                    6                   11   \n623                   4                    7                   10   \n\n     frame_number_third  horse_number_third tansyo hukusyo_first  \\\n0                     2                   3  1,680           490   \n1                     6                  12    470           160   \n2                     1                   1    250           110   \n3                     2                   2    300           150   \n4                     7                  13    350           130   \n..                  ...                 ...    ...           ...   \n619                   6                   8    330           150   \n620                   4                   4  1,270           210   \n621                   4                   4    330           130   \n622                   5                   8    410           190   \n623                   6                   8    810           260   \n\n    hukusyo_second hukusyo_third wakuren umaren wide_1_2 wide_1_3 wide_2_3  \\\n0              160           420   2,490  2,840      920    3,780      920   \n1              110           230     420    460      250      960      440   \n2              120           140     450    370      190      260      280   \n3              190           260   1,080  1,240      460      670    1,100   \n4              200           120     720  1,590      430      200      460   \n..             ...           ...     ...    ...      ...      ...      ...   \n619            310           320     780  1,970      670    1,000    1,690   \n620            110           130     590  1,440      490      690      180   \n621            160           120   1,260  1,320      470      250      340   \n622            500           400   1,820  3,790    1,340    1,220    2,700   \n623            170           590   1,200  1,630      620    2,950    1,790   \n\n    umatan renhuku3  rentan3  obstacle  distance  ground_status_不良  \\\n0    8,130   14,860  120,060       0.0      1800                 0   \n1    1,090    1,910    9,070       0.0      1200                 0   \n2      620      520    1,700       0.0      1600                 0   \n3    1,910    3,570   14,640       1.0      2880                 0   \n4    2,260    1,160    7,750       0.0      1800                 0   \n..     ...      ...      ...       ...       ...               ...   \n619  3,050    6,550   29,330       0.0      1400                 0   \n620  4,180    1,300   14,960       0.0      1200                 0   \n621  2,140    1,200    7,070       0.0      1600                 0   \n622  5,790   13,150   62,900       0.0      1900                 0   \n623  3,260   14,170   67,450       0.0      1800                 0   \n\n     ground_status_稍重  ground_status_良  ground_status_重  weather_小雨  \\\n0                   1                0                0           0   \n1                   1                0                0           0   \n2                   1                0                0           0   \n3                   1                0                0           0   \n4                   1                0                0           0   \n..                ...              ...              ...         ...   \n619                 1                0                0           0   \n620                 0                1                0           0   \n621                 0                1                0           0   \n622                 1                0                0           0   \n623                 1                0                0           0   \n\n     weather_晴  weather_曇  weather_雨  where_racecourse_中京  \\\n0            0          1          0                    0   \n1            0          1          0                    0   \n2            0          1          0                    0   \n3            0          1          0                    0   \n4            0          1          0                    0   \n..         ...        ...        ...                  ...   \n619          1          0          0                    0   \n620          1          0          0                    0   \n621          1          0          0                    0   \n622          1          0          0                    0   \n623          1          0          0                    0   \n\n     where_racecourse_中山  where_racecourse_京都  where_racecourse_小倉  \\\n0                      1                    0                    0   \n1                      1                    0                    0   \n2                      1                    0                    0   \n3                      1                    0                    0   \n4                      1                    0                    0   \n..                   ...                  ...                  ...   \n619                    0                    1                    0   \n620                    0                    1                    0   \n621                    0                    1                    0   \n622                    0                    1                    0   \n623                    0                    1                    0   \n\n     where_racecourse_東京  where_racecourse_阪神  ground_type_ダ  ground_type_芝  \\\n0                      0                    0              1              0   \n1                      0                    0              1              0   \n2                      0                    0              0              1   \n3                      0                    0              0              1   \n4                      0                    0              1              0   \n..                   ...                  ...            ...            ...   \n619                    0                    0              1              0   \n620                    0                    0              0              1   \n621                    0                    0              0              1   \n622                    0                    0              1              0   \n623                    0                    0              1              0   \n\n     left_right_straight_右  left_right_straight_左  \n0                        1                      0  \n1                        1                      0  \n2                        1                      0  \n3                        0                      0  \n4                        1                      0  \n..                     ...                    ...  \n619                      1                      0  \n620                      1                      0  \n621                      1                      0  \n622                      1                      0  \n623                      1                      0  \n\n[624 rows x 41 columns]",
      "text/html": "<div>\n<style scoped>\n    .dataframe tbody tr th:only-of-type {\n        vertical-align: middle;\n    }\n\n    .dataframe tbody tr th {\n        vertical-align: top;\n    }\n\n    .dataframe thead th {\n        text-align: right;\n    }\n</style>\n<table border=\"1\" class=\"dataframe\">\n  <thead>\n    <tr style=\"text-align: right;\">\n      <th></th>\n      <th>race_id</th>\n      <th>race_round</th>\n      <th>total_horse_number</th>\n      <th>frame_number_first</th>\n      <th>horse_number_first</th>\n      <th>frame_number_second</th>\n      <th>horse_number_second</th>\n      <th>frame_number_third</th>\n      <th>horse_number_third</th>\n      <th>tansyo</th>\n      <th>hukusyo_first</th>\n      <th>hukusyo_second</th>\n      <th>hukusyo_third</th>\n      <th>wakuren</th>\n      <th>umaren</th>\n      <th>wide_1_2</th>\n      <th>wide_1_3</th>\n      <th>wide_2_3</th>\n      <th>umatan</th>\n      <th>renhuku3</th>\n      <th>rentan3</th>\n      <th>obstacle</th>\n      <th>distance</th>\n      <th>ground_status_不良</th>\n      <th>ground_status_稍重</th>\n      <th>ground_status_良</th>\n      <th>ground_status_重</th>\n      <th>weather_小雨</th>\n      <th>weather_晴</th>\n      <th>weather_曇</th>\n      <th>weather_雨</th>\n      <th>where_racecourse_中京</th>\n      <th>where_racecourse_中山</th>\n      <th>where_racecourse_京都</th>\n      <th>where_racecourse_小倉</th>\n      <th>where_racecourse_東京</th>\n      <th>where_racecourse_阪神</th>\n      <th>ground_type_ダ</th>\n      <th>ground_type_芝</th>\n      <th>left_right_straight_右</th>\n      <th>left_right_straight_左</th>\n    </tr>\n  </thead>\n  <tbody>\n    <tr>\n      <th>0</th>\n      <td>201906030401</td>\n      <td>1</td>\n      <td>16</td>\n      <td>8</td>\n      <td>15</td>\n      <td>2</td>\n      <td>4</td>\n      <td>2</td>\n      <td>3</td>\n      <td>1,680</td>\n      <td>490</td>\n      <td>160</td>\n      <td>420</td>\n      <td>2,490</td>\n      <td>2,840</td>\n      <td>920</td>\n      <td>3,780</td>\n      <td>920</td>\n      <td>8,130</td>\n      <td>14,860</td>\n      <td>120,060</td>\n      <td>0.0</td>\n      <td>1800</td>\n      <td>0</td>\n      <td>1</td>\n      <td>0</td>\n      <td>0</td>\n      <td>0</td>\n      <td>0</td>\n      <td>1</td>\n      <td>0</td>\n      <td>0</td>\n      <td>1</td>\n      <td>0</td>\n      <td>0</td>\n      <td>0</td>\n      <td>0</td>\n      <td>1</td>\n      <td>0</td>\n      <td>1</td>\n      <td>0</td>\n    </tr>\n    <tr>\n      <th>1</th>\n      <td>201906030402</td>\n      <td>2</td>\n      <td>16</td>\n      <td>8</td>\n      <td>15</td>\n      <td>5</td>\n      <td>10</td>\n      <td>6</td>\n      <td>12</td>\n      <td>470</td>\n      <td>160</td>\n      <td>110</td>\n      <td>230</td>\n      <td>420</td>\n      <td>460</td>\n      <td>250</td>\n      <td>960</td>\n      <td>440</td>\n      <td>1,090</td>\n      <td>1,910</td>\n      <td>9,070</td>\n      <td>0.0</td>\n      <td>1200</td>\n      <td>0</td>\n      <td>1</td>\n      <td>0</td>\n      <td>0</td>\n      <td>0</td>\n      <td>0</td>\n      <td>1</td>\n      <td>0</td>\n      <td>0</td>\n      <td>1</td>\n      <td>0</td>\n      <td>0</td>\n      <td>0</td>\n      <td>0</td>\n      <td>1</td>\n      <td>0</td>\n      <td>1</td>\n      <td>0</td>\n    </tr>\n    <tr>\n      <th>2</th>\n      <td>201906030403</td>\n      <td>3</td>\n      <td>16</td>\n      <td>7</td>\n      <td>13</td>\n      <td>5</td>\n      <td>10</td>\n      <td>1</td>\n      <td>1</td>\n      <td>250</td>\n      <td>110</td>\n      <td>120</td>\n      <td>140</td>\n      <td>450</td>\n      <td>370</td>\n      <td>190</td>\n      <td>260</td>\n      <td>280</td>\n      <td>620</td>\n      <td>520</td>\n      <td>1,700</td>\n      <td>0.0</td>\n      <td>1600</td>\n      <td>0</td>\n      <td>1</td>\n      <td>0</td>\n      <td>0</td>\n      <td>0</td>\n      <td>0</td>\n      <td>1</td>\n      <td>0</td>\n      <td>0</td>\n      <td>1</td>\n      <td>0</td>\n      <td>0</td>\n      <td>0</td>\n      <td>0</td>\n      <td>0</td>\n      <td>1</td>\n      <td>1</td>\n      <td>0</td>\n    </tr>\n    <tr>\n      <th>3</th>\n      <td>201906030404</td>\n      <td>4</td>\n      <td>14</td>\n      <td>7</td>\n      <td>12</td>\n      <td>1</td>\n      <td>1</td>\n      <td>2</td>\n      <td>2</td>\n      <td>300</td>\n      <td>150</td>\n      <td>190</td>\n      <td>260</td>\n      <td>1,080</td>\n      <td>1,240</td>\n      <td>460</td>\n      <td>670</td>\n      <td>1,100</td>\n      <td>1,910</td>\n      <td>3,570</td>\n      <td>14,640</td>\n      <td>1.0</td>\n      <td>2880</td>\n      <td>0</td>\n      <td>1</td>\n      <td>0</td>\n      <td>0</td>\n      <td>0</td>\n      <td>0</td>\n      <td>1</td>\n      <td>0</td>\n      <td>0</td>\n      <td>1</td>\n      <td>0</td>\n      <td>0</td>\n      <td>0</td>\n      <td>0</td>\n      <td>0</td>\n      <td>1</td>\n      <td>0</td>\n      <td>0</td>\n    </tr>\n    <tr>\n      <th>4</th>\n      <td>201906030405</td>\n      <td>5</td>\n      <td>16</td>\n      <td>1</td>\n      <td>1</td>\n      <td>3</td>\n      <td>5</td>\n      <td>7</td>\n      <td>13</td>\n      <td>350</td>\n      <td>130</td>\n      <td>200</td>\n      <td>120</td>\n      <td>720</td>\n      <td>1,590</td>\n      <td>430</td>\n      <td>200</td>\n      <td>460</td>\n      <td>2,260</td>\n      <td>1,160</td>\n      <td>7,750</td>\n      <td>0.0</td>\n      <td>1800</td>\n      <td>0</td>\n      <td>1</td>\n      <td>0</td>\n      <td>0</td>\n      <td>0</td>\n      <td>0</td>\n      <td>1</td>\n      <td>0</td>\n      <td>0</td>\n      <td>1</td>\n      <td>0</td>\n      <td>0</td>\n      <td>0</td>\n      <td>0</td>\n      <td>1</td>\n      <td>0</td>\n      <td>1</td>\n      <td>0</td>\n    </tr>\n    <tr>\n      <th>...</th>\n      <td>...</td>\n      <td>...</td>\n      <td>...</td>\n      <td>...</td>\n      <td>...</td>\n      <td>...</td>\n      <td>...</td>\n      <td>...</td>\n      <td>...</td>\n      <td>...</td>\n      <td>...</td>\n      <td>...</td>\n      <td>...</td>\n      <td>...</td>\n      <td>...</td>\n      <td>...</td>\n      <td>...</td>\n      <td>...</td>\n      <td>...</td>\n      <td>...</td>\n      <td>...</td>\n      <td>...</td>\n      <td>...</td>\n      <td>...</td>\n      <td>...</td>\n      <td>...</td>\n      <td>...</td>\n      <td>...</td>\n      <td>...</td>\n      <td>...</td>\n      <td>...</td>\n      <td>...</td>\n      <td>...</td>\n      <td>...</td>\n      <td>...</td>\n      <td>...</td>\n      <td>...</td>\n      <td>...</td>\n      <td>...</td>\n      <td>...</td>\n      <td>...</td>\n    </tr>\n    <tr>\n      <th>619</th>\n      <td>201908020308</td>\n      <td>8</td>\n      <td>13</td>\n      <td>2</td>\n      <td>2</td>\n      <td>8</td>\n      <td>12</td>\n      <td>6</td>\n      <td>8</td>\n      <td>330</td>\n      <td>150</td>\n      <td>310</td>\n      <td>320</td>\n      <td>780</td>\n      <td>1,970</td>\n      <td>670</td>\n      <td>1,000</td>\n      <td>1,690</td>\n      <td>3,050</td>\n      <td>6,550</td>\n      <td>29,330</td>\n      <td>0.0</td>\n      <td>1400</td>\n      <td>0</td>\n      <td>1</td>\n      <td>0</td>\n      <td>0</td>\n      <td>0</td>\n      <td>1</td>\n      <td>0</td>\n      <td>0</td>\n      <td>0</td>\n      <td>0</td>\n      <td>1</td>\n      <td>0</td>\n      <td>0</td>\n      <td>0</td>\n      <td>1</td>\n      <td>0</td>\n      <td>1</td>\n      <td>0</td>\n    </tr>\n    <tr>\n      <th>620</th>\n      <td>201908020309</td>\n      <td>9</td>\n      <td>10</td>\n      <td>8</td>\n      <td>10</td>\n      <td>3</td>\n      <td>3</td>\n      <td>4</td>\n      <td>4</td>\n      <td>1,270</td>\n      <td>210</td>\n      <td>110</td>\n      <td>130</td>\n      <td>590</td>\n      <td>1,440</td>\n      <td>490</td>\n      <td>690</td>\n      <td>180</td>\n      <td>4,180</td>\n      <td>1,300</td>\n      <td>14,960</td>\n      <td>0.0</td>\n      <td>1200</td>\n      <td>0</td>\n      <td>0</td>\n      <td>1</td>\n      <td>0</td>\n      <td>0</td>\n      <td>1</td>\n      <td>0</td>\n      <td>0</td>\n      <td>0</td>\n      <td>0</td>\n      <td>1</td>\n      <td>0</td>\n      <td>0</td>\n      <td>0</td>\n      <td>0</td>\n      <td>1</td>\n      <td>1</td>\n      <td>0</td>\n    </tr>\n    <tr>\n      <th>621</th>\n      <td>201908020310</td>\n      <td>10</td>\n      <td>10</td>\n      <td>1</td>\n      <td>1</td>\n      <td>6</td>\n      <td>6</td>\n      <td>4</td>\n      <td>4</td>\n      <td>330</td>\n      <td>130</td>\n      <td>160</td>\n      <td>120</td>\n      <td>1,260</td>\n      <td>1,320</td>\n      <td>470</td>\n      <td>250</td>\n      <td>340</td>\n      <td>2,140</td>\n      <td>1,200</td>\n      <td>7,070</td>\n      <td>0.0</td>\n      <td>1600</td>\n      <td>0</td>\n      <td>0</td>\n      <td>1</td>\n      <td>0</td>\n      <td>0</td>\n      <td>1</td>\n      <td>0</td>\n      <td>0</td>\n      <td>0</td>\n      <td>0</td>\n      <td>1</td>\n      <td>0</td>\n      <td>0</td>\n      <td>0</td>\n      <td>0</td>\n      <td>1</td>\n      <td>1</td>\n      <td>0</td>\n    </tr>\n    <tr>\n      <th>622</th>\n      <td>201908020311</td>\n      <td>11</td>\n      <td>15</td>\n      <td>2</td>\n      <td>3</td>\n      <td>6</td>\n      <td>11</td>\n      <td>5</td>\n      <td>8</td>\n      <td>410</td>\n      <td>190</td>\n      <td>500</td>\n      <td>400</td>\n      <td>1,820</td>\n      <td>3,790</td>\n      <td>1,340</td>\n      <td>1,220</td>\n      <td>2,700</td>\n      <td>5,790</td>\n      <td>13,150</td>\n      <td>62,900</td>\n      <td>0.0</td>\n      <td>1900</td>\n      <td>0</td>\n      <td>1</td>\n      <td>0</td>\n      <td>0</td>\n      <td>0</td>\n      <td>1</td>\n      <td>0</td>\n      <td>0</td>\n      <td>0</td>\n      <td>0</td>\n      <td>1</td>\n      <td>0</td>\n      <td>0</td>\n      <td>0</td>\n      <td>1</td>\n      <td>0</td>\n      <td>1</td>\n      <td>0</td>\n    </tr>\n    <tr>\n      <th>623</th>\n      <td>201908020312</td>\n      <td>12</td>\n      <td>12</td>\n      <td>4</td>\n      <td>4</td>\n      <td>7</td>\n      <td>10</td>\n      <td>6</td>\n      <td>8</td>\n      <td>810</td>\n      <td>260</td>\n      <td>170</td>\n      <td>590</td>\n      <td>1,200</td>\n      <td>1,630</td>\n      <td>620</td>\n      <td>2,950</td>\n      <td>1,790</td>\n      <td>3,260</td>\n      <td>14,170</td>\n      <td>67,450</td>\n      <td>0.0</td>\n      <td>1800</td>\n      <td>0</td>\n      <td>1</td>\n      <td>0</td>\n      <td>0</td>\n      <td>0</td>\n      <td>1</td>\n      <td>0</td>\n      <td>0</td>\n      <td>0</td>\n      <td>0</td>\n      <td>1</td>\n      <td>0</td>\n      <td>0</td>\n      <td>0</td>\n      <td>1</td>\n      <td>0</td>\n      <td>1</td>\n      <td>0</td>\n    </tr>\n  </tbody>\n</table>\n<p>624 rows × 41 columns</p>\n</div>"
     },
     "metadata": {},
     "execution_count": 27
    }
   ],
   "source": []
  },
  {
   "cell_type": "code",
   "execution_count": null,
   "metadata": {},
   "outputs": [],
   "source": []
  },
  {
   "cell_type": "markdown",
   "metadata": {},
   "source": [
    "## horse data の整形"
   ]
  },
  {
   "cell_type": "code",
   "execution_count": 35,
   "metadata": {},
   "outputs": [
    {
     "output_type": "stream",
     "name": "stdout",
     "text": "(3763, 19)\nrace_id            int64\nrank              object\nframe_number       int64\nhorse_number       int64\nhorse_id           int64\nsex_and_age       object\nburden_weight    float64\nrider_id           int64\ngoal_time         object\ngoal_time_dif     object\ntime_value        object\nhalf_way_rank     object\nlast_time        float64\nodds              object\npopular          float64\nhorse_weight      object\ntame_time        float64\ntamer_id           int64\nowner_id           int64\ndtype: object\n"
    },
    {
     "output_type": "execute_result",
     "data": {
      "text/plain": "        race_id rank  frame_number  horse_number    horse_id sex_and_age  \\\n0  201905010201    1             8            16  2016105994          牝3   \n1  201905010201    2             6            12  2016105685          牝3   \n\n   burden_weight  rider_id goal_time goal_time_dif time_value half_way_rank  \\\n0           54.0      5339    1:28.0           NaN         **           7-7   \n1           54.0      1109    1:28.1           1/2         **          11-9   \n\n   last_time  odds  popular horse_weight  tame_time  tamer_id  owner_id  \n0       39.4   3.3      2.0     504(+12)        NaN      1102    994002  \n1       39.2  51.2     10.0      494(-4)        NaN      1023    547800  ",
      "text/html": "<div>\n<style scoped>\n    .dataframe tbody tr th:only-of-type {\n        vertical-align: middle;\n    }\n\n    .dataframe tbody tr th {\n        vertical-align: top;\n    }\n\n    .dataframe thead th {\n        text-align: right;\n    }\n</style>\n<table border=\"1\" class=\"dataframe\">\n  <thead>\n    <tr style=\"text-align: right;\">\n      <th></th>\n      <th>race_id</th>\n      <th>rank</th>\n      <th>frame_number</th>\n      <th>horse_number</th>\n      <th>horse_id</th>\n      <th>sex_and_age</th>\n      <th>burden_weight</th>\n      <th>rider_id</th>\n      <th>goal_time</th>\n      <th>goal_time_dif</th>\n      <th>time_value</th>\n      <th>half_way_rank</th>\n      <th>last_time</th>\n      <th>odds</th>\n      <th>popular</th>\n      <th>horse_weight</th>\n      <th>tame_time</th>\n      <th>tamer_id</th>\n      <th>owner_id</th>\n    </tr>\n  </thead>\n  <tbody>\n    <tr>\n      <th>0</th>\n      <td>201905010201</td>\n      <td>1</td>\n      <td>8</td>\n      <td>16</td>\n      <td>2016105994</td>\n      <td>牝3</td>\n      <td>54.0</td>\n      <td>5339</td>\n      <td>1:28.0</td>\n      <td>NaN</td>\n      <td>**</td>\n      <td>7-7</td>\n      <td>39.4</td>\n      <td>3.3</td>\n      <td>2.0</td>\n      <td>504(+12)</td>\n      <td>NaN</td>\n      <td>1102</td>\n      <td>994002</td>\n    </tr>\n    <tr>\n      <th>1</th>\n      <td>201905010201</td>\n      <td>2</td>\n      <td>6</td>\n      <td>12</td>\n      <td>2016105685</td>\n      <td>牝3</td>\n      <td>54.0</td>\n      <td>1109</td>\n      <td>1:28.1</td>\n      <td>1/2</td>\n      <td>**</td>\n      <td>11-9</td>\n      <td>39.2</td>\n      <td>51.2</td>\n      <td>10.0</td>\n      <td>494(-4)</td>\n      <td>NaN</td>\n      <td>1023</td>\n      <td>547800</td>\n    </tr>\n  </tbody>\n</table>\n</div>"
     },
     "metadata": {},
     "execution_count": 35
    }
   ],
   "source": [
    "horse_df = pd.read_csv(\"./csv/horse.csv\", sep=\",\")\n",
    "print(horse_df.shape)\n",
    "print(horse_df.dtypes)\n",
    "horse_df.head(2)"
   ]
  },
  {
   "cell_type": "code",
   "execution_count": 36,
   "metadata": {},
   "outputs": [
    {
     "output_type": "stream",
     "name": "stdout",
     "text": "(3763, 19)\nrace_id            int64\nrank              object\nframe_number       int64\nhorse_number       int64\nhorse_id           int64\nsex_and_age       object\nburden_weight    float64\nrider_id           int64\ngoal_time         object\ngoal_time_dif     object\ntime_value        object\nhalf_way_rank     object\nlast_time        float64\nodds              object\npopular          float64\nhorse_weight      object\ntame_time        float64\ntamer_id           int64\nowner_id           int64\ndtype: object\n"
    }
   ],
   "source": [
    "print(horse_df.shape)\n",
    "print(horse_df.dtypes)"
   ]
  },
  {
   "cell_type": "markdown",
   "metadata": {},
   "source": [
    "## 使わないデータ削除"
   ]
  },
  {
   "cell_type": "code",
   "execution_count": 37,
   "metadata": {},
   "outputs": [],
   "source": [
    "horse_df.drop(['time_value'], axis=1, inplace=True)\n",
    "horse_df.drop(['goal_time_dif'], axis=1, inplace=True)\n",
    "horse_df.drop(['tame_time'], axis=1, inplace=True)"
   ]
  },
  {
   "cell_type": "markdown",
   "metadata": {},
   "source": [
    "### データ分析のため、レース日時情報をmerge"
   ]
  },
  {
   "cell_type": "code",
   "execution_count": 38,
   "metadata": {},
   "outputs": [
    {
     "output_type": "execute_result",
     "data": {
      "text/plain": "        race_id rank  frame_number  horse_number    horse_id sex_and_age  \\\n0  201905010201    1             8            16  2016105994          牝3   \n1  201905010201    2             6            12  2016105685          牝3   \n2  201905010201    3             5             9  2016106310          牝3   \n3  201905010201    4             7            14  2016100216          牝3   \n4  201905010201    5             1             1  2016100319          牝3   \n\n   burden_weight  rider_id goal_time half_way_rank  last_time  odds  popular  \\\n0           54.0      5339    1:28.0           7-7       39.4   3.3      2.0   \n1           54.0      1109    1:28.1          11-9       39.2  51.2     10.0   \n2           54.0       689    1:28.1         15-14       38.6  10.0      5.0   \n3           53.0      1169    1:28.4          11-9       39.5   4.8      3.0   \n4           54.0      5575    1:28.4           4-4       40.0  55.7     11.0   \n\n  horse_weight  tamer_id  owner_id                date  \n0     504(+12)      1102    994002 2019-01-27 10:10:00  \n1      494(-4)      1023    547800 2019-01-27 10:10:00  \n2       454(0)      1048     89803 2019-01-27 10:10:00  \n3      450(-6)      1094    515800 2019-01-27 10:10:00  \n4      434(+6)      1108    854800 2019-01-27 10:10:00  ",
      "text/html": "<div>\n<style scoped>\n    .dataframe tbody tr th:only-of-type {\n        vertical-align: middle;\n    }\n\n    .dataframe tbody tr th {\n        vertical-align: top;\n    }\n\n    .dataframe thead th {\n        text-align: right;\n    }\n</style>\n<table border=\"1\" class=\"dataframe\">\n  <thead>\n    <tr style=\"text-align: right;\">\n      <th></th>\n      <th>race_id</th>\n      <th>rank</th>\n      <th>frame_number</th>\n      <th>horse_number</th>\n      <th>horse_id</th>\n      <th>sex_and_age</th>\n      <th>burden_weight</th>\n      <th>rider_id</th>\n      <th>goal_time</th>\n      <th>half_way_rank</th>\n      <th>last_time</th>\n      <th>odds</th>\n      <th>popular</th>\n      <th>horse_weight</th>\n      <th>tamer_id</th>\n      <th>owner_id</th>\n      <th>date</th>\n    </tr>\n  </thead>\n  <tbody>\n    <tr>\n      <th>0</th>\n      <td>201905010201</td>\n      <td>1</td>\n      <td>8</td>\n      <td>16</td>\n      <td>2016105994</td>\n      <td>牝3</td>\n      <td>54.0</td>\n      <td>5339</td>\n      <td>1:28.0</td>\n      <td>7-7</td>\n      <td>39.4</td>\n      <td>3.3</td>\n      <td>2.0</td>\n      <td>504(+12)</td>\n      <td>1102</td>\n      <td>994002</td>\n      <td>2019-01-27 10:10:00</td>\n    </tr>\n    <tr>\n      <th>1</th>\n      <td>201905010201</td>\n      <td>2</td>\n      <td>6</td>\n      <td>12</td>\n      <td>2016105685</td>\n      <td>牝3</td>\n      <td>54.0</td>\n      <td>1109</td>\n      <td>1:28.1</td>\n      <td>11-9</td>\n      <td>39.2</td>\n      <td>51.2</td>\n      <td>10.0</td>\n      <td>494(-4)</td>\n      <td>1023</td>\n      <td>547800</td>\n      <td>2019-01-27 10:10:00</td>\n    </tr>\n    <tr>\n      <th>2</th>\n      <td>201905010201</td>\n      <td>3</td>\n      <td>5</td>\n      <td>9</td>\n      <td>2016106310</td>\n      <td>牝3</td>\n      <td>54.0</td>\n      <td>689</td>\n      <td>1:28.1</td>\n      <td>15-14</td>\n      <td>38.6</td>\n      <td>10.0</td>\n      <td>5.0</td>\n      <td>454(0)</td>\n      <td>1048</td>\n      <td>89803</td>\n      <td>2019-01-27 10:10:00</td>\n    </tr>\n    <tr>\n      <th>3</th>\n      <td>201905010201</td>\n      <td>4</td>\n      <td>7</td>\n      <td>14</td>\n      <td>2016100216</td>\n      <td>牝3</td>\n      <td>53.0</td>\n      <td>1169</td>\n      <td>1:28.4</td>\n      <td>11-9</td>\n      <td>39.5</td>\n      <td>4.8</td>\n      <td>3.0</td>\n      <td>450(-6)</td>\n      <td>1094</td>\n      <td>515800</td>\n      <td>2019-01-27 10:10:00</td>\n    </tr>\n    <tr>\n      <th>4</th>\n      <td>201905010201</td>\n      <td>5</td>\n      <td>1</td>\n      <td>1</td>\n      <td>2016100319</td>\n      <td>牝3</td>\n      <td>54.0</td>\n      <td>5575</td>\n      <td>1:28.4</td>\n      <td>4-4</td>\n      <td>40.0</td>\n      <td>55.7</td>\n      <td>11.0</td>\n      <td>434(+6)</td>\n      <td>1108</td>\n      <td>854800</td>\n      <td>2019-01-27 10:10:00</td>\n    </tr>\n  </tbody>\n</table>\n</div>"
     },
     "metadata": {},
     "execution_count": 38
    }
   ],
   "source": [
    "race_tmp_df = race_df[[\"race_id\", \"date\"]]\n",
    "horse_df = pd.merge(horse_df, race_tmp_df, on='race_id')\n",
    "horse_df.head()"
   ]
  },
  {
   "cell_type": "markdown",
   "metadata": {},
   "source": [
    "### rank　数字と文字列を分ける "
   ]
  },
  {
   "cell_type": "code",
   "execution_count": 41,
   "metadata": {},
   "outputs": [
    {
     "output_type": "execute_result",
     "data": {
      "text/plain": "array(['1', '2', '3', '4', '5', '6', '7', '8', '9', '10', '11', '12',\n       '13', '14', '15', '16', '取', '17', '18', '中', '除'], dtype=object)"
     },
     "metadata": {},
     "execution_count": 41
    }
   ],
   "source": [
    "horse_df[\"rank\"].unique()"
   ]
  },
  {
   "cell_type": "markdown",
   "metadata": {},
   "source": [
    "### 降格を別へ"
   ]
  },
  {
   "cell_type": "code",
   "execution_count": 43,
   "metadata": {},
   "outputs": [],
   "source": [
    "is_down = horse_df[\"rank\"].str.extract('(\\(降\\))', expand=True)\n",
    "is_down.columns ={\"is_down\"}\n",
    "horse_df = pd.concat([horse_df, is_down], axis=1)\n",
    "\n",
    "horse_df.fillna(value={'is_down': 0}, inplace=True)\n",
    "horse_df['is_down'] = horse_df['is_down'].replace('(降)', 1)\n",
    "\n",
    "## 余分な文字を削除\n",
    "horse_df['rank'] = horse_df['rank'].apply(lambda x: x.replace(\"(降)\", \"\"))\n",
    "horse_df['rank'] = horse_df['rank'].apply(lambda x: x.replace(\"(再)\", \"\"))"
   ]
  },
  {
   "cell_type": "code",
   "execution_count": 44,
   "metadata": {},
   "outputs": [],
   "source": [
    "\"\"\"- 取・除はそもそも参加していないので削除\n",
    "- 失は順位が全く当てにならないので情報を削除\n",
    "- 中は最後まで到達していないが参加はしている。ひとまず20位にしておく\"\"\"\n",
    "\n",
    "horse_df = horse_df[(horse_df['rank'] != \"取\") & (horse_df['rank'] != \"除\") & (horse_df['rank'] != \"失\")]\n",
    "horse_df['rank'] = pd.DataFrame(horse_df['rank'].mask(horse_df['rank'] == \"中\", 20))"
   ]
  },
  {
   "cell_type": "code",
   "execution_count": 45,
   "metadata": {},
   "outputs": [
    {
     "output_type": "execute_result",
     "data": {
      "text/plain": "4     266\n2     266\n1     264\n5     264\n3     262\n6     262\n7     261\n8     259\n9     251\n10    239\n11    231\n12    215\n13    201\n14    181\n15    162\n16    132\n20     19\n17      9\n18      8\nName: rank, dtype: int64"
     },
     "metadata": {},
     "execution_count": 45
    }
   ],
   "source": [
    "horse_df[\"rank\"].value_counts()"
   ]
  },
  {
   "cell_type": "markdown",
   "metadata": {},
   "source": [
    "### 性別と年齢を別に"
   ]
  },
  {
   "cell_type": "code",
   "execution_count": 47,
   "metadata": {},
   "outputs": [
    {
     "output_type": "execute_result",
     "data": {
      "text/plain": "array(['牝3', '牡3', 'セ3', '牝4', '牝6', '牝5', '牡4', '牡5', '牡7', '牡6', 'セ5',\n       '牡9', '牝8', 'セ4', '牡8', 'セ6', '牝7', 'セ7', '牡10', 'セ8', 'セ10',\n       '牝10', 'セ9'], dtype=object)"
     },
     "metadata": {},
     "execution_count": 47
    }
   ],
   "source": [
    "horse_df['sex_and_age'].unique()"
   ]
  },
  {
   "cell_type": "code",
   "execution_count": 48,
   "metadata": {},
   "outputs": [],
   "source": [
    "# 性別を別へ\n",
    "\n",
    "is_senba = horse_df[\"sex_and_age\"].str.extract('(セ)', expand=True)\n",
    "is_senba.columns ={\"is_senba\"}\n",
    "horse_df = pd.concat([horse_df, is_senba], axis=1)\n",
    "\n",
    "is_mesu = horse_df[\"sex_and_age\"].str.extract('(牝)', expand=True)\n",
    "is_mesu.columns ={\"is_mesu\"}\n",
    "horse_df = pd.concat([horse_df, is_mesu], axis=1)\n",
    "\n",
    "is_osu = horse_df[\"sex_and_age\"].str.extract('(牡)', expand=True)\n",
    "is_osu.columns ={\"is_osu\"}\n",
    "horse_df = pd.concat([horse_df, is_osu], axis=1)"
   ]
  },
  {
   "cell_type": "code",
   "execution_count": 49,
   "metadata": {},
   "outputs": [],
   "source": [
    "horse_df.fillna(value={'is_osu': 0}, inplace=True)\n",
    "horse_df['is_osu'] = horse_df['is_osu'].replace('牡', 1)\n",
    "horse_df.fillna(value={'is_mesu': 0}, inplace=True)\n",
    "horse_df['is_mesu'] = horse_df['is_mesu'].replace('牝', 1)\n",
    "horse_df.fillna(value={'is_senba': 0}, inplace=True)\n",
    "horse_df['is_senba'] = horse_df['is_senba'].replace('セ', 1)\n",
    "## 余分な文字を削除\n",
    "horse_df['sex_and_age'] = horse_df['sex_and_age'].str.strip(\"牝牡セ\")\n",
    "horse_df['sex_and_age'] = horse_df['sex_and_age'].astype(int)"
   ]
  },
  {
   "cell_type": "code",
   "execution_count": 50,
   "metadata": {},
   "outputs": [],
   "source": [
    "horse_df = horse_df.rename(columns={'sex_and_age': 'age'})"
   ]
  },
  {
   "cell_type": "code",
   "execution_count": 51,
   "metadata": {},
   "outputs": [
    {
     "output_type": "execute_result",
     "data": {
      "text/plain": "           race_id rank  frame_number  horse_number    horse_id  age  \\\n0     201905010201    1             8            16  2016105994    3   \n1     201905010201    2             6            12  2016105685    3   \n2     201905010201    3             5             9  2016106310    3   \n3     201905010201    4             7            14  2016100216    3   \n4     201905010201    5             1             1  2016100319    3   \n...            ...  ...           ...           ...         ...  ...   \n3758  201908010112   12             8            15  2013100041    6   \n3759  201908010112   13             3             6  2013101575    6   \n3760  201908010112   14             2             3  2013103410    6   \n3761  201908010112   15             8            16  2015101549    4   \n3762  201908010112   16             5            10  2015102929    4   \n\n      burden_weight  rider_id goal_time half_way_rank  last_time   odds  \\\n0              54.0      5339    1:28.0           7-7       39.4    3.3   \n1              54.0      1109    1:28.1          11-9       39.2   51.2   \n2              54.0       689    1:28.1         15-14       38.6   10.0   \n3              53.0      1169    1:28.4          11-9       39.5    4.8   \n4              54.0      5575    1:28.4           4-4       40.0   55.7   \n...             ...       ...       ...           ...        ...    ...   \n3758           57.0      1019    1:10.4           4-6       35.8   23.7   \n3759           54.0      1166    1:10.7           7-9       36.0   28.9   \n3760           55.0      1034    1:10.7         13-11       35.5  122.7   \n3761           54.0      1014    1:11.0           4-4       36.4   25.7   \n3762           54.0      1133    1:11.1           2-4       36.6   82.4   \n\n      popular horse_weight  tamer_id  owner_id                date is_down  \\\n0         2.0     504(+12)      1102    994002 2019-01-27 10:10:00       0   \n1        10.0      494(-4)      1023    547800 2019-01-27 10:10:00       0   \n2         5.0       454(0)      1048     89803 2019-01-27 10:10:00       0   \n3         3.0      450(-6)      1094    515800 2019-01-27 10:10:00       0   \n4        11.0      434(+6)      1108    854800 2019-01-27 10:10:00       0   \n...       ...          ...       ...       ...                 ...     ...   \n3758      7.0      542(-4)      1046    797008 2019-01-05 16:20:00       0   \n3759      9.0      446(+2)      1158    939006 2019-01-05 16:20:00       0   \n3760     14.0      464(+2)      1149    513008 2019-01-05 16:20:00       0   \n3761      8.0     464(+10)       425    959800 2019-01-05 16:20:00       0   \n3762     12.0      478(-2)      1009    851007 2019-01-05 16:20:00       0   \n\n     is_down is_down  is_senba  is_mesu  is_osu  \n0        NaN     NaN       NaN      1.0     NaN  \n1        NaN     NaN       NaN      1.0     NaN  \n2        NaN     NaN       NaN      1.0     NaN  \n3        NaN     NaN       NaN      1.0     NaN  \n4        NaN     NaN       NaN      1.0     NaN  \n...      ...     ...       ...      ...     ...  \n3758     NaN     NaN       NaN      NaN     1.0  \n3759     NaN     NaN       NaN      1.0     NaN  \n3760     NaN     NaN       NaN      1.0     NaN  \n3761     NaN     NaN       NaN      1.0     NaN  \n3762     NaN     NaN       NaN      1.0     NaN  \n\n[3752 rows x 23 columns]",
      "text/html": "<div>\n<style scoped>\n    .dataframe tbody tr th:only-of-type {\n        vertical-align: middle;\n    }\n\n    .dataframe tbody tr th {\n        vertical-align: top;\n    }\n\n    .dataframe thead th {\n        text-align: right;\n    }\n</style>\n<table border=\"1\" class=\"dataframe\">\n  <thead>\n    <tr style=\"text-align: right;\">\n      <th></th>\n      <th>race_id</th>\n      <th>rank</th>\n      <th>frame_number</th>\n      <th>horse_number</th>\n      <th>horse_id</th>\n      <th>age</th>\n      <th>burden_weight</th>\n      <th>rider_id</th>\n      <th>goal_time</th>\n      <th>half_way_rank</th>\n      <th>last_time</th>\n      <th>odds</th>\n      <th>popular</th>\n      <th>horse_weight</th>\n      <th>tamer_id</th>\n      <th>owner_id</th>\n      <th>date</th>\n      <th>is_down</th>\n      <th>is_down</th>\n      <th>is_down</th>\n      <th>is_senba</th>\n      <th>is_mesu</th>\n      <th>is_osu</th>\n    </tr>\n  </thead>\n  <tbody>\n    <tr>\n      <th>0</th>\n      <td>201905010201</td>\n      <td>1</td>\n      <td>8</td>\n      <td>16</td>\n      <td>2016105994</td>\n      <td>3</td>\n      <td>54.0</td>\n      <td>5339</td>\n      <td>1:28.0</td>\n      <td>7-7</td>\n      <td>39.4</td>\n      <td>3.3</td>\n      <td>2.0</td>\n      <td>504(+12)</td>\n      <td>1102</td>\n      <td>994002</td>\n      <td>2019-01-27 10:10:00</td>\n      <td>0</td>\n      <td>NaN</td>\n      <td>NaN</td>\n      <td>NaN</td>\n      <td>1.0</td>\n      <td>NaN</td>\n    </tr>\n    <tr>\n      <th>1</th>\n      <td>201905010201</td>\n      <td>2</td>\n      <td>6</td>\n      <td>12</td>\n      <td>2016105685</td>\n      <td>3</td>\n      <td>54.0</td>\n      <td>1109</td>\n      <td>1:28.1</td>\n      <td>11-9</td>\n      <td>39.2</td>\n      <td>51.2</td>\n      <td>10.0</td>\n      <td>494(-4)</td>\n      <td>1023</td>\n      <td>547800</td>\n      <td>2019-01-27 10:10:00</td>\n      <td>0</td>\n      <td>NaN</td>\n      <td>NaN</td>\n      <td>NaN</td>\n      <td>1.0</td>\n      <td>NaN</td>\n    </tr>\n    <tr>\n      <th>2</th>\n      <td>201905010201</td>\n      <td>3</td>\n      <td>5</td>\n      <td>9</td>\n      <td>2016106310</td>\n      <td>3</td>\n      <td>54.0</td>\n      <td>689</td>\n      <td>1:28.1</td>\n      <td>15-14</td>\n      <td>38.6</td>\n      <td>10.0</td>\n      <td>5.0</td>\n      <td>454(0)</td>\n      <td>1048</td>\n      <td>89803</td>\n      <td>2019-01-27 10:10:00</td>\n      <td>0</td>\n      <td>NaN</td>\n      <td>NaN</td>\n      <td>NaN</td>\n      <td>1.0</td>\n      <td>NaN</td>\n    </tr>\n    <tr>\n      <th>3</th>\n      <td>201905010201</td>\n      <td>4</td>\n      <td>7</td>\n      <td>14</td>\n      <td>2016100216</td>\n      <td>3</td>\n      <td>53.0</td>\n      <td>1169</td>\n      <td>1:28.4</td>\n      <td>11-9</td>\n      <td>39.5</td>\n      <td>4.8</td>\n      <td>3.0</td>\n      <td>450(-6)</td>\n      <td>1094</td>\n      <td>515800</td>\n      <td>2019-01-27 10:10:00</td>\n      <td>0</td>\n      <td>NaN</td>\n      <td>NaN</td>\n      <td>NaN</td>\n      <td>1.0</td>\n      <td>NaN</td>\n    </tr>\n    <tr>\n      <th>4</th>\n      <td>201905010201</td>\n      <td>5</td>\n      <td>1</td>\n      <td>1</td>\n      <td>2016100319</td>\n      <td>3</td>\n      <td>54.0</td>\n      <td>5575</td>\n      <td>1:28.4</td>\n      <td>4-4</td>\n      <td>40.0</td>\n      <td>55.7</td>\n      <td>11.0</td>\n      <td>434(+6)</td>\n      <td>1108</td>\n      <td>854800</td>\n      <td>2019-01-27 10:10:00</td>\n      <td>0</td>\n      <td>NaN</td>\n      <td>NaN</td>\n      <td>NaN</td>\n      <td>1.0</td>\n      <td>NaN</td>\n    </tr>\n    <tr>\n      <th>...</th>\n      <td>...</td>\n      <td>...</td>\n      <td>...</td>\n      <td>...</td>\n      <td>...</td>\n      <td>...</td>\n      <td>...</td>\n      <td>...</td>\n      <td>...</td>\n      <td>...</td>\n      <td>...</td>\n      <td>...</td>\n      <td>...</td>\n      <td>...</td>\n      <td>...</td>\n      <td>...</td>\n      <td>...</td>\n      <td>...</td>\n      <td>...</td>\n      <td>...</td>\n      <td>...</td>\n      <td>...</td>\n      <td>...</td>\n    </tr>\n    <tr>\n      <th>3758</th>\n      <td>201908010112</td>\n      <td>12</td>\n      <td>8</td>\n      <td>15</td>\n      <td>2013100041</td>\n      <td>6</td>\n      <td>57.0</td>\n      <td>1019</td>\n      <td>1:10.4</td>\n      <td>4-6</td>\n      <td>35.8</td>\n      <td>23.7</td>\n      <td>7.0</td>\n      <td>542(-4)</td>\n      <td>1046</td>\n      <td>797008</td>\n      <td>2019-01-05 16:20:00</td>\n      <td>0</td>\n      <td>NaN</td>\n      <td>NaN</td>\n      <td>NaN</td>\n      <td>NaN</td>\n      <td>1.0</td>\n    </tr>\n    <tr>\n      <th>3759</th>\n      <td>201908010112</td>\n      <td>13</td>\n      <td>3</td>\n      <td>6</td>\n      <td>2013101575</td>\n      <td>6</td>\n      <td>54.0</td>\n      <td>1166</td>\n      <td>1:10.7</td>\n      <td>7-9</td>\n      <td>36.0</td>\n      <td>28.9</td>\n      <td>9.0</td>\n      <td>446(+2)</td>\n      <td>1158</td>\n      <td>939006</td>\n      <td>2019-01-05 16:20:00</td>\n      <td>0</td>\n      <td>NaN</td>\n      <td>NaN</td>\n      <td>NaN</td>\n      <td>1.0</td>\n      <td>NaN</td>\n    </tr>\n    <tr>\n      <th>3760</th>\n      <td>201908010112</td>\n      <td>14</td>\n      <td>2</td>\n      <td>3</td>\n      <td>2013103410</td>\n      <td>6</td>\n      <td>55.0</td>\n      <td>1034</td>\n      <td>1:10.7</td>\n      <td>13-11</td>\n      <td>35.5</td>\n      <td>122.7</td>\n      <td>14.0</td>\n      <td>464(+2)</td>\n      <td>1149</td>\n      <td>513008</td>\n      <td>2019-01-05 16:20:00</td>\n      <td>0</td>\n      <td>NaN</td>\n      <td>NaN</td>\n      <td>NaN</td>\n      <td>1.0</td>\n      <td>NaN</td>\n    </tr>\n    <tr>\n      <th>3761</th>\n      <td>201908010112</td>\n      <td>15</td>\n      <td>8</td>\n      <td>16</td>\n      <td>2015101549</td>\n      <td>4</td>\n      <td>54.0</td>\n      <td>1014</td>\n      <td>1:11.0</td>\n      <td>4-4</td>\n      <td>36.4</td>\n      <td>25.7</td>\n      <td>8.0</td>\n      <td>464(+10)</td>\n      <td>425</td>\n      <td>959800</td>\n      <td>2019-01-05 16:20:00</td>\n      <td>0</td>\n      <td>NaN</td>\n      <td>NaN</td>\n      <td>NaN</td>\n      <td>1.0</td>\n      <td>NaN</td>\n    </tr>\n    <tr>\n      <th>3762</th>\n      <td>201908010112</td>\n      <td>16</td>\n      <td>5</td>\n      <td>10</td>\n      <td>2015102929</td>\n      <td>4</td>\n      <td>54.0</td>\n      <td>1133</td>\n      <td>1:11.1</td>\n      <td>2-4</td>\n      <td>36.6</td>\n      <td>82.4</td>\n      <td>12.0</td>\n      <td>478(-2)</td>\n      <td>1009</td>\n      <td>851007</td>\n      <td>2019-01-05 16:20:00</td>\n      <td>0</td>\n      <td>NaN</td>\n      <td>NaN</td>\n      <td>NaN</td>\n      <td>1.0</td>\n      <td>NaN</td>\n    </tr>\n  </tbody>\n</table>\n<p>3752 rows × 23 columns</p>\n</div>"
     },
     "metadata": {},
     "execution_count": 51
    }
   ],
   "source": [
    "horse_df"
   ]
  },
  {
   "cell_type": "code",
   "execution_count": 52,
   "metadata": {},
   "outputs": [
    {
     "output_type": "stream",
     "name": "stdout",
     "text": "19\n19\n"
    }
   ],
   "source": [
    "# nullになるのは、レースで「中」になった馬\n",
    "print(horse_df['goal_time'].isnull().sum())\n",
    "print(horse_df['last_time'].isnull().sum())"
   ]
  },
  {
   "cell_type": "code",
   "execution_count": 53,
   "metadata": {},
   "outputs": [],
   "source": [
    "horse_df['goal_time'] = pd.to_datetime(horse_df['goal_time'], format='%M:%S.%f') - pd.to_datetime('00:00.0', format='%M:%S.%f')\n",
    "horse_df['goal_time'] = horse_df['goal_time'].dt.total_seconds()"
   ]
  },
  {
   "cell_type": "code",
   "execution_count": 54,
   "metadata": {},
   "outputs": [],
   "source": [
    "# 欠損値を最大値で埋める\n",
    "horse_df.fillna(value={'goal_time': horse_df['goal_time'].max()}, inplace=True)\n",
    "horse_df.fillna(value={'last_time': horse_df['last_time'].max()}, inplace=True)"
   ]
  },
  {
   "cell_type": "code",
   "execution_count": 55,
   "metadata": {},
   "outputs": [],
   "source": [
    "# レース距離情報をmerge\n",
    "race_tmp_df = race_df[[\"race_id\", \"distance\"]]\n",
    "horse_df = pd.merge(horse_df, race_tmp_df, on='race_id')\n",
    "horse_df[\"distance\"] = horse_df[\"distance\"].astype(int)\n",
    "horse_df[\"avg_velocity\"] = horse_df[\"distance\"]/horse_df[\"goal_time\"]"
   ]
  },
  {
   "cell_type": "code",
   "execution_count": 56,
   "metadata": {},
   "outputs": [],
   "source": [
    "horse_weight_dif = horse_df[\"horse_weight\"].str.extract('\\(([-|+]?\\d*)\\)', expand=True)\n",
    "horse_weight_dif.columns ={\"horse_weight_dif\"}\n",
    "\n",
    "horse_df = pd.concat([horse_df, horse_weight_dif], axis=1)\n",
    "\n",
    "horse_df['horse_weight'] = horse_df['horse_weight'].replace('\\(([-|+]?\\d*)\\)', '', regex=True)\n",
    ""
   ]
  },
  {
   "cell_type": "code",
   "execution_count": 57,
   "metadata": {},
   "outputs": [],
   "source": [
    "horse_df['horse_weight'] = horse_df['horse_weight'].replace('計不', np.nan)\n",
    "horse_df['horse_weight'] = horse_df['horse_weight'].astype(float)\n",
    "horse_df['horse_weight_dif'] = horse_df['horse_weight_dif'].astype(float)"
   ]
  },
  {
   "cell_type": "code",
   "execution_count": 58,
   "metadata": {},
   "outputs": [],
   "source": [
    "horse_df['burden_weight_rate'] = horse_df['burden_weight']/horse_df['horse_weight']"
   ]
  },
  {
   "cell_type": "code",
   "execution_count": 59,
   "metadata": {},
   "outputs": [],
   "source": [
    "horse_df['odds']= horse_df['odds'].astype(float)"
   ]
  },
  {
   "cell_type": "code",
   "execution_count": 24,
   "metadata": {},
   "outputs": [
    {
     "output_type": "stream",
     "name": "stdout",
     "text": "race_id                 int64\nrank                   object\nframe_number            int64\nhorse_number            int64\nhorse_id                int64\nage                     int32\nburden_weight         float64\nrider_id                int64\ngoal_time             float64\nhalf_way_rank          object\nlast_time             float64\nodds                  float64\npopular               float64\nhorse_weight          float64\ntamer_id                int64\nowner_id                int64\ndate                   object\nis_down                 int64\nis_senba                int64\nis_mesu                 int64\nis_osu                  int64\ndistance                int32\navg_velocity          float64\nhorse_weight_dif      float64\nburden_weight_rate    float64\ndtype: object\n"
    },
    {
     "output_type": "execute_result",
     "data": {
      "text/plain": "        race_id rank  frame_number  horse_number    horse_id  age  \\\n0  201906030401    1             8            15  2016100466    3   \n1  201906030401    2             2             4  2016100767    3   \n2  201906030401    3             2             3  2016106150    3   \n\n   burden_weight  rider_id  goal_time half_way_rank  last_time  odds  popular  \\\n0           53.0      1166      115.8       1-1-1-1       40.5  16.8      7.0   \n1           54.0      1096      117.0     11-11-8-8       40.6   3.3      1.0   \n2           54.0      1150      117.2       6-6-5-5       41.3  16.1      6.0   \n\n   horse_weight  tamer_id  owner_id                 date  is_down  is_senba  \\\n0         460.0      1056    334009  2019-03-31 09:50:00        0         0   \n1         480.0      1081    712033  2019-03-31 09:50:00        0         0   \n2         484.0      1076    905033  2019-03-31 09:50:00        0         0   \n\n   is_mesu  is_osu  distance  avg_velocity  horse_weight_dif  \\\n0        1       0      1800     15.544041               4.0   \n1        1       0      1800     15.384615               0.0   \n2        1       0      1800     15.358362              -6.0   \n\n   burden_weight_rate  \n0            0.115217  \n1            0.112500  \n2            0.111570  ",
      "text/html": "<div>\n<style scoped>\n    .dataframe tbody tr th:only-of-type {\n        vertical-align: middle;\n    }\n\n    .dataframe tbody tr th {\n        vertical-align: top;\n    }\n\n    .dataframe thead th {\n        text-align: right;\n    }\n</style>\n<table border=\"1\" class=\"dataframe\">\n  <thead>\n    <tr style=\"text-align: right;\">\n      <th></th>\n      <th>race_id</th>\n      <th>rank</th>\n      <th>frame_number</th>\n      <th>horse_number</th>\n      <th>horse_id</th>\n      <th>age</th>\n      <th>burden_weight</th>\n      <th>rider_id</th>\n      <th>goal_time</th>\n      <th>half_way_rank</th>\n      <th>last_time</th>\n      <th>odds</th>\n      <th>popular</th>\n      <th>horse_weight</th>\n      <th>tamer_id</th>\n      <th>owner_id</th>\n      <th>date</th>\n      <th>is_down</th>\n      <th>is_senba</th>\n      <th>is_mesu</th>\n      <th>is_osu</th>\n      <th>distance</th>\n      <th>avg_velocity</th>\n      <th>horse_weight_dif</th>\n      <th>burden_weight_rate</th>\n    </tr>\n  </thead>\n  <tbody>\n    <tr>\n      <th>0</th>\n      <td>201906030401</td>\n      <td>1</td>\n      <td>8</td>\n      <td>15</td>\n      <td>2016100466</td>\n      <td>3</td>\n      <td>53.0</td>\n      <td>1166</td>\n      <td>115.8</td>\n      <td>1-1-1-1</td>\n      <td>40.5</td>\n      <td>16.8</td>\n      <td>7.0</td>\n      <td>460.0</td>\n      <td>1056</td>\n      <td>334009</td>\n      <td>2019-03-31 09:50:00</td>\n      <td>0</td>\n      <td>0</td>\n      <td>1</td>\n      <td>0</td>\n      <td>1800</td>\n      <td>15.544041</td>\n      <td>4.0</td>\n      <td>0.115217</td>\n    </tr>\n    <tr>\n      <th>1</th>\n      <td>201906030401</td>\n      <td>2</td>\n      <td>2</td>\n      <td>4</td>\n      <td>2016100767</td>\n      <td>3</td>\n      <td>54.0</td>\n      <td>1096</td>\n      <td>117.0</td>\n      <td>11-11-8-8</td>\n      <td>40.6</td>\n      <td>3.3</td>\n      <td>1.0</td>\n      <td>480.0</td>\n      <td>1081</td>\n      <td>712033</td>\n      <td>2019-03-31 09:50:00</td>\n      <td>0</td>\n      <td>0</td>\n      <td>1</td>\n      <td>0</td>\n      <td>1800</td>\n      <td>15.384615</td>\n      <td>0.0</td>\n      <td>0.112500</td>\n    </tr>\n    <tr>\n      <th>2</th>\n      <td>201906030401</td>\n      <td>3</td>\n      <td>2</td>\n      <td>3</td>\n      <td>2016106150</td>\n      <td>3</td>\n      <td>54.0</td>\n      <td>1150</td>\n      <td>117.2</td>\n      <td>6-6-5-5</td>\n      <td>41.3</td>\n      <td>16.1</td>\n      <td>6.0</td>\n      <td>484.0</td>\n      <td>1076</td>\n      <td>905033</td>\n      <td>2019-03-31 09:50:00</td>\n      <td>0</td>\n      <td>0</td>\n      <td>1</td>\n      <td>0</td>\n      <td>1800</td>\n      <td>15.358362</td>\n      <td>-6.0</td>\n      <td>0.111570</td>\n    </tr>\n  </tbody>\n</table>\n</div>"
     },
     "metadata": {},
     "execution_count": 24
    }
   ],
   "source": [
    "print(horse_df.dtypes)\n",
    "horse_df.head(3)"
   ]
  },
  {
   "cell_type": "code",
   "execution_count": 60,
   "metadata": {},
   "outputs": [],
   "source": [
    "horse_df.to_csv(\"csv/cleaned_horse_data.csv\", index=False )"
   ]
  },
  {
   "cell_type": "markdown",
   "metadata": {},
   "source": [
    "データセット作成"
   ]
  },
  {
   "cell_type": "code",
   "execution_count": 61,
   "metadata": {},
   "outputs": [],
   "source": [
    "horse_df.drop(['half_way_rank'], axis=1, inplace=True) "
   ]
  },
  {
   "cell_type": "code",
   "execution_count": 62,
   "metadata": {},
   "outputs": [
    {
     "output_type": "stream",
     "name": "stdout",
     "text": "race_id                        int64\nrank                          object\nframe_number                   int64\nhorse_number                   int64\nhorse_id                       int64\nage                            int32\nburden_weight                float64\nrider_id                       int64\ngoal_time                    float64\nlast_time                    float64\nodds                         float64\npopular                      float64\nhorse_weight                 float64\ntamer_id                       int64\nowner_id                       int64\ndate                  datetime64[ns]\nis_down                       object\nis_down                       object\nis_down                       object\nis_senba                     float64\nis_mesu                      float64\nis_osu                       float64\ndistance                       int32\navg_velocity                 float64\nhorse_weight_dif             float64\nburden_weight_rate           float64\ndtype: object\n"
    },
    {
     "output_type": "execute_result",
     "data": {
      "text/plain": "        race_id rank  frame_number  horse_number    horse_id  age  \\\n0  201905010201    1             8            16  2016105994    3   \n1  201905010201    2             6            12  2016105685    3   \n2  201905010201    3             5             9  2016106310    3   \n\n   burden_weight  rider_id  goal_time  last_time  odds  popular  horse_weight  \\\n0           54.0      5339       88.0       39.4   3.3      2.0         504.0   \n1           54.0      1109       88.1       39.2  51.2     10.0         494.0   \n2           54.0       689       88.1       38.6  10.0      5.0         454.0   \n\n   tamer_id  owner_id                date is_down is_down is_down  is_senba  \\\n0      1102    994002 2019-01-27 10:10:00       0     NaN     NaN       NaN   \n1      1023    547800 2019-01-27 10:10:00       0     NaN     NaN       NaN   \n2      1048     89803 2019-01-27 10:10:00       0     NaN     NaN       NaN   \n\n   is_mesu  is_osu  distance  avg_velocity  horse_weight_dif  \\\n0      1.0     NaN      1400     15.909091              12.0   \n1      1.0     NaN      1400     15.891033              -4.0   \n2      1.0     NaN      1400     15.891033               0.0   \n\n   burden_weight_rate  \n0            0.107143  \n1            0.109312  \n2            0.118943  ",
      "text/html": "<div>\n<style scoped>\n    .dataframe tbody tr th:only-of-type {\n        vertical-align: middle;\n    }\n\n    .dataframe tbody tr th {\n        vertical-align: top;\n    }\n\n    .dataframe thead th {\n        text-align: right;\n    }\n</style>\n<table border=\"1\" class=\"dataframe\">\n  <thead>\n    <tr style=\"text-align: right;\">\n      <th></th>\n      <th>race_id</th>\n      <th>rank</th>\n      <th>frame_number</th>\n      <th>horse_number</th>\n      <th>horse_id</th>\n      <th>age</th>\n      <th>burden_weight</th>\n      <th>rider_id</th>\n      <th>goal_time</th>\n      <th>last_time</th>\n      <th>odds</th>\n      <th>popular</th>\n      <th>horse_weight</th>\n      <th>tamer_id</th>\n      <th>owner_id</th>\n      <th>date</th>\n      <th>is_down</th>\n      <th>is_down</th>\n      <th>is_down</th>\n      <th>is_senba</th>\n      <th>is_mesu</th>\n      <th>is_osu</th>\n      <th>distance</th>\n      <th>avg_velocity</th>\n      <th>horse_weight_dif</th>\n      <th>burden_weight_rate</th>\n    </tr>\n  </thead>\n  <tbody>\n    <tr>\n      <th>0</th>\n      <td>201905010201</td>\n      <td>1</td>\n      <td>8</td>\n      <td>16</td>\n      <td>2016105994</td>\n      <td>3</td>\n      <td>54.0</td>\n      <td>5339</td>\n      <td>88.0</td>\n      <td>39.4</td>\n      <td>3.3</td>\n      <td>2.0</td>\n      <td>504.0</td>\n      <td>1102</td>\n      <td>994002</td>\n      <td>2019-01-27 10:10:00</td>\n      <td>0</td>\n      <td>NaN</td>\n      <td>NaN</td>\n      <td>NaN</td>\n      <td>1.0</td>\n      <td>NaN</td>\n      <td>1400</td>\n      <td>15.909091</td>\n      <td>12.0</td>\n      <td>0.107143</td>\n    </tr>\n    <tr>\n      <th>1</th>\n      <td>201905010201</td>\n      <td>2</td>\n      <td>6</td>\n      <td>12</td>\n      <td>2016105685</td>\n      <td>3</td>\n      <td>54.0</td>\n      <td>1109</td>\n      <td>88.1</td>\n      <td>39.2</td>\n      <td>51.2</td>\n      <td>10.0</td>\n      <td>494.0</td>\n      <td>1023</td>\n      <td>547800</td>\n      <td>2019-01-27 10:10:00</td>\n      <td>0</td>\n      <td>NaN</td>\n      <td>NaN</td>\n      <td>NaN</td>\n      <td>1.0</td>\n      <td>NaN</td>\n      <td>1400</td>\n      <td>15.891033</td>\n      <td>-4.0</td>\n      <td>0.109312</td>\n    </tr>\n    <tr>\n      <th>2</th>\n      <td>201905010201</td>\n      <td>3</td>\n      <td>5</td>\n      <td>9</td>\n      <td>2016106310</td>\n      <td>3</td>\n      <td>54.0</td>\n      <td>689</td>\n      <td>88.1</td>\n      <td>38.6</td>\n      <td>10.0</td>\n      <td>5.0</td>\n      <td>454.0</td>\n      <td>1048</td>\n      <td>89803</td>\n      <td>2019-01-27 10:10:00</td>\n      <td>0</td>\n      <td>NaN</td>\n      <td>NaN</td>\n      <td>NaN</td>\n      <td>1.0</td>\n      <td>NaN</td>\n      <td>1400</td>\n      <td>15.891033</td>\n      <td>0.0</td>\n      <td>0.118943</td>\n    </tr>\n  </tbody>\n</table>\n</div>"
     },
     "metadata": {},
     "execution_count": 62
    }
   ],
   "source": [
    "horse_df['date'] = pd.to_datetime(horse_df['date'])\n",
    "print(horse_df.dtypes)\n",
    "horse_df.head(3)"
   ]
  },
  {
   "cell_type": "code",
   "execution_count": 63,
   "metadata": {},
   "outputs": [],
   "source": [
    "# group by したデータフレームに対して行う処理\n",
    "def make_one_horse_train_data(one_horse_data):\n",
    "    one_horse_data = one_horse_data.sort_values('date',ascending=False)\n",
    "    one_horse_data['pre_date_diff'] = one_horse_data['date'].diff(-1).dt.days\n",
    "    one_horse_data['is_rider_same'] = (one_horse_data['rider_id'].shift(-1) == one_horse_data['rider_id']) * 1.0\n",
    "    one_horse_data['is_tamer_same'] = (one_horse_data['tamer_id'].shift(-1) == one_horse_data['tamer_id']) * 1.0\n",
    "    one_horse_data['is_owner_same'] = (one_horse_data['owner_id'].shift(-1) == one_horse_data['owner_id']) * 1.0\n",
    "\n",
    "    #不要なので削除\n",
    "    one_horse_data.drop(['horse_id'], axis=1, inplace=True) #horse_id はもう使わないので削除\n",
    "    one_horse_data.drop(['rider_id'], axis=1, inplace=True)\n",
    "    one_horse_data.drop(['tamer_id'], axis=1, inplace=True)\n",
    "    one_horse_data.drop(['owner_id'], axis=1, inplace=True)\n",
    "\n",
    "\n",
    "    #  数レース分の情報を結合\n",
    "    result_df = one_horse_data.copy()\n",
    "    \n",
    "    for i in range(1,6):\n",
    "        # i だけ shiftしたものを得る\n",
    "        # race_id, sexはいらない\n",
    "        shift_df = one_horse_data.drop(['race_id','is_senba','is_mesu','is_osu'], axis=1).shift(-i)\n",
    "        # 目的のレースとどれだけの時間離れているか？\n",
    "        shift_df['interval_date'] = (one_horse_data['date'] - shift_df['date']).dt.days\n",
    "        shift_df.drop(['date'], axis=1, inplace=True)\n",
    "        shift_df.columns = shift_df.columns + \"_\" + str(i)\n",
    "        result_df = pd.concat([result_df, shift_df], axis=1)\n",
    "    return result_df\n",
    "\n",
    "\n",
    "# horse_id はもう使わないので削除"
   ]
  },
  {
   "cell_type": "code",
   "execution_count": 64,
   "metadata": {},
   "outputs": [],
   "source": [
    "horse_id_df = horse_df[\"horse_id\"].unique()"
   ]
  },
  {
   "cell_type": "code",
   "execution_count": 65,
   "metadata": {},
   "outputs": [
    {
     "output_type": "execute_result",
     "data": {
      "text/plain": "array([2016105685, 2016106310, 2016100216, ..., 2013101575, 2013103410,\n       2015102929], dtype=int64)"
     },
     "metadata": {},
     "execution_count": 65
    }
   ],
   "source": [
    "horse_id_df[1:]"
   ]
  },
  {
   "cell_type": "code",
   "execution_count": 66,
   "metadata": {},
   "outputs": [],
   "source": [
    "# test\n",
    "one_horse_data = horse_df[horse_df['horse_id'] == horse_id_df[0]].copy()\n",
    "all_data = make_one_horse_train_data(one_horse_data).fillna(0)\n",
    "for horse_id in horse_id_df[1:]:\n",
    "        one_horse_data = horse_df[horse_df['horse_id'] ==horse_id].copy()\n",
    "        one_horse_data_past = make_one_horse_train_data(one_horse_data).fillna(0)\n",
    "        all_data = all_data.append(one_horse_data_past)"
   ]
  },
  {
   "cell_type": "code",
   "execution_count": 67,
   "metadata": {},
   "outputs": [
    {
     "output_type": "execute_result",
     "data": {
      "text/plain": "        race_id rank  frame_number  horse_number    horse_id  age  \\\n0  201905010201    1             8            16  2016105994    3   \n\n   burden_weight  rider_id  goal_time  last_time  odds  popular  horse_weight  \\\n0           54.0      5339       88.0       39.4   3.3      2.0         504.0   \n\n   tamer_id  owner_id                date is_down is_down is_down  is_senba  \\\n0      1102    994002 2019-01-27 10:10:00       0     NaN     NaN       NaN   \n\n   is_mesu  is_osu  distance  avg_velocity  horse_weight_dif  \\\n0      1.0     NaN      1400     15.909091              12.0   \n\n   burden_weight_rate  \n0            0.107143  ",
      "text/html": "<div>\n<style scoped>\n    .dataframe tbody tr th:only-of-type {\n        vertical-align: middle;\n    }\n\n    .dataframe tbody tr th {\n        vertical-align: top;\n    }\n\n    .dataframe thead th {\n        text-align: right;\n    }\n</style>\n<table border=\"1\" class=\"dataframe\">\n  <thead>\n    <tr style=\"text-align: right;\">\n      <th></th>\n      <th>race_id</th>\n      <th>rank</th>\n      <th>frame_number</th>\n      <th>horse_number</th>\n      <th>horse_id</th>\n      <th>age</th>\n      <th>burden_weight</th>\n      <th>rider_id</th>\n      <th>goal_time</th>\n      <th>last_time</th>\n      <th>odds</th>\n      <th>popular</th>\n      <th>horse_weight</th>\n      <th>tamer_id</th>\n      <th>owner_id</th>\n      <th>date</th>\n      <th>is_down</th>\n      <th>is_down</th>\n      <th>is_down</th>\n      <th>is_senba</th>\n      <th>is_mesu</th>\n      <th>is_osu</th>\n      <th>distance</th>\n      <th>avg_velocity</th>\n      <th>horse_weight_dif</th>\n      <th>burden_weight_rate</th>\n    </tr>\n  </thead>\n  <tbody>\n    <tr>\n      <th>0</th>\n      <td>201905010201</td>\n      <td>1</td>\n      <td>8</td>\n      <td>16</td>\n      <td>2016105994</td>\n      <td>3</td>\n      <td>54.0</td>\n      <td>5339</td>\n      <td>88.0</td>\n      <td>39.4</td>\n      <td>3.3</td>\n      <td>2.0</td>\n      <td>504.0</td>\n      <td>1102</td>\n      <td>994002</td>\n      <td>2019-01-27 10:10:00</td>\n      <td>0</td>\n      <td>NaN</td>\n      <td>NaN</td>\n      <td>NaN</td>\n      <td>1.0</td>\n      <td>NaN</td>\n      <td>1400</td>\n      <td>15.909091</td>\n      <td>12.0</td>\n      <td>0.107143</td>\n    </tr>\n  </tbody>\n</table>\n</div>"
     },
     "metadata": {},
     "execution_count": 67
    }
   ],
   "source": [
    "horse_df[horse_df['horse_id'] == horse_id_df[0]].copy()"
   ]
  },
  {
   "cell_type": "code",
   "execution_count": 68,
   "metadata": {},
   "outputs": [],
   "source": [
    "all_data.drop(['rank'], axis=1, inplace=True)\n",
    "all_data.drop(['date'], axis=1, inplace=True)\n",
    "all_data.drop(['goal_time'], axis=1, inplace=True)"
   ]
  },
  {
   "cell_type": "code",
   "execution_count": 69,
   "metadata": {},
   "outputs": [],
   "source": [
    "all_data.to_csv(\"csv/past_horse_data.csv\", index=False )"
   ]
  },
  {
   "cell_type": "code",
   "execution_count": 94,
   "metadata": {},
   "outputs": [],
   "source": [
    "cleaned_race_df = pd.read_csv(\"./csv/cleaned_race_data.csv\", sep=\",\")\n",
    "cleaned_horse_df = pd.read_csv(\"./csv/past_horse_data.csv\", sep=\",\")"
   ]
  },
  {
   "cell_type": "code",
   "execution_count": 95,
   "metadata": {},
   "outputs": [],
   "source": [
    "\n",
    "race_column = [\"date\",\"frame_number_first\",\"horse_number_first\",\"frame_number_second\",\"horse_number_second\",\"frame_number_third\",\"horse_number_third\",\"tansyo\",\"hukusyo_first\",\"hukusyo_second\",\"hukusyo_third\",\"wakuren\",\"umaren\",\"wide_1_2\",\"wide_1_3\",\"wide_2_3\",\"umatan\",\"renhuku3\",\"rentan3\"]\n",
    "cleaned_race_df.drop(race_column,axis='columns', inplace=True)\n",
    "\n",
    "\n",
    "\n",
    ""
   ]
  },
  {
   "cell_type": "code",
   "execution_count": 89,
   "metadata": {},
   "outputs": [],
   "source": [
    "# group by したデータフレームに対して行う処理\n",
    "def make_one_horse_train_data(one_horse_data):\n",
    "    #  数レース分の情報を結合\n",
    "    result_df = one_horse_data[0:1].copy()\n",
    "    \n",
    "    for i in range(1,19):\n",
    "        # i だけ shiftしたものを得る\n",
    "        # race_id, sexはいらない\n",
    "        shift_df = one_horse_data[0:i+1].copy().shift(-i)\n",
    "        shift_df = shift_df[0:1].drop(['race_id'], axis=1)\n",
    "        # 目的のレースとどれだけの時間離れているか？\n",
    "        shift_df.columns = shift_df.columns + \"_\" + str(i)\n",
    "        result_df = pd.concat([result_df, shift_df], axis=1)\n",
    "    return result_df"
   ]
  },
  {
   "cell_type": "code",
   "execution_count": 90,
   "metadata": {},
   "outputs": [],
   "source": [
    "df = cleaned_race_df[\"race_id\"]\n",
    "one_race_horse_data = cleaned_horse_df[cleaned_horse_df['race_id'] == df[0]].copy()\n",
    "all_race_data = make_one_horse_train_data(one_race_horse_data).fillna(0)\n",
    "df = cleaned_race_df[\"race_id\"].shift(-1)\n",
    "for race_id in df:\n",
    "        one_race_horse_data = cleaned_horse_df[cleaned_horse_df['race_id'] == race_id].copy()\n",
    "        one_race_horse_data = make_one_horse_train_data(one_race_horse_data).fillna(0)\n",
    "        all_race_data = all_race_data.append(one_race_horse_data)\n",
    "\n",
    "    "
   ]
  },
  {
   "cell_type": "code",
   "execution_count": 91,
   "metadata": {},
   "outputs": [
    {
     "output_type": "execute_result",
     "data": {
      "text/plain": "           race_id  frame_number  horse_number  age  burden_weight  goal_time  \\\n0     201905010201             8            16    3           54.0       88.0   \n21    201905010202             3             5    3           56.0      137.1   \n45    201905010203             6            12    3           56.0       99.3   \n61    201905010204             3             6    4           54.0       98.7   \n83    201905010205             3             6    3           56.0       94.9   \n...            ...           ...           ...  ...            ...        ...   \n1221  201908010108             5             5    3           56.0      123.0   \n408   201908010109             7            14    4           56.0      113.0   \n188   201908010110             7             9    5           55.0       71.2   \n847   201908010111             3             6    4           54.0       95.2   \n1090  201908010112             5             9    5           55.0       69.9   \n\n      last_time  odds  popular  horse_weight  is_down  is_down.1  is_down.2  \\\n0          39.4   3.3      2.0         504.0        0          0          0   \n21         38.7   4.7      2.0         494.0        0          0          0   \n45         38.1   1.2      1.0         516.0        0          0          0   \n61         37.4   6.7      4.0         454.0        0          0          0   \n83         34.4   2.0      1.0         514.0        0          0          0   \n...         ...   ...      ...           ...      ...        ...        ...   \n1221       35.7  13.9      5.0         492.0        0          0          0   \n408        38.8  80.9     14.0         516.0        0          0          0   \n188        35.6   2.2      1.0         496.0        0          0          0   \n847        34.7  20.8      7.0         478.0        0          0          0   \n1090       35.0  10.6      3.0         452.0        0          0          0   \n\n      is_senba  is_mesu  is_osu  distance  avg_velocity  horse_weight_dif  \\\n0          0.0      1.0     0.0      1400     15.909091              12.0   \n21         0.0      0.0     1.0      2100     15.317287               0.0   \n45         0.0      0.0     1.0      1600     16.112790               0.0   \n61         0.0      1.0     0.0      1600     16.210740              12.0   \n83         0.0      0.0     1.0      1600     16.859852               0.0   \n...        ...      ...     ...       ...           ...               ...   \n1221       0.0      0.0     1.0      2000     16.260163               8.0   \n408        0.0      0.0     1.0      1800     15.929204               2.0   \n188        0.0      1.0     0.0      1200     16.853933               0.0   \n847        0.0      0.0     1.0      1600     16.806723              12.0   \n1090       0.0      1.0     0.0      1200     17.167382               4.0   \n\n      burden_weight_rate  pre_date_diff  is_rider_same  is_tamer_same  \\\n0               0.107143            0.0            0.0            0.0   \n21              0.113360           20.0            0.0            1.0   \n45              0.108527            0.0            0.0            0.0   \n61              0.118943            0.0            0.0            0.0   \n83              0.108949           14.0            0.0            1.0   \n...                  ...            ...            ...            ...   \n1221            0.113821            0.0            0.0            0.0   \n408             0.108527            0.0            0.0            0.0   \n188             0.110887            0.0            0.0            0.0   \n847             0.112971            0.0            0.0            0.0   \n1090            0.121681            0.0            0.0            0.0   \n\n      is_owner_same  rank_1  ...  is_tamer_same_4_18  is_owner_same_4_18  \\\n0               0.0       0  ...                 0.0                 0.0   \n21              1.0       6  ...                 0.0                 0.0   \n45              0.0       0  ...                 0.0                 0.0   \n61              0.0       0  ...                 0.0                 0.0   \n83              1.0       4  ...                 0.0                 0.0   \n...             ...     ...  ...                 ...                 ...   \n1221            0.0       0  ...                 0.0                 0.0   \n408             0.0       0  ...                 0.0                 0.0   \n188             0.0       0  ...                 0.0                 0.0   \n847             0.0       0  ...                 0.0                 0.0   \n1090            0.0       0  ...                 0.0                 0.0   \n\n      interval_date_4_18  rank_5_18  frame_number_5_18  horse_number_5_18  \\\n0                    0.0        0.0                0.0                0.0   \n21                   0.0        0.0                0.0                0.0   \n45                   0.0        0.0                0.0                0.0   \n61                   0.0        0.0                0.0                0.0   \n83                   0.0        0.0                0.0                0.0   \n...                  ...        ...                ...                ...   \n1221                 0.0        0.0                0.0                0.0   \n408                  0.0        0.0                0.0                0.0   \n188                  0.0        0.0                0.0                0.0   \n847                  0.0        0.0                0.0                0.0   \n1090                 0.0        0.0                0.0                0.0   \n\n      age_5_18  burden_weight_5_18  goal_time_5_18  last_time_5_18  odds_5_18  \\\n0          0.0                 0.0             0.0             0.0        0.0   \n21         0.0                 0.0             0.0             0.0        0.0   \n45         0.0                 0.0             0.0             0.0        0.0   \n61         0.0                 0.0             0.0             0.0        0.0   \n83         0.0                 0.0             0.0             0.0        0.0   \n...        ...                 ...             ...             ...        ...   \n1221       0.0                 0.0             0.0             0.0        0.0   \n408        0.0                 0.0             0.0             0.0        0.0   \n188        0.0                 0.0             0.0             0.0        0.0   \n847        0.0                 0.0             0.0             0.0        0.0   \n1090       0.0                 0.0             0.0             0.0        0.0   \n\n      popular_5_18  horse_weight_5_18  is_down_5_18  is_down_5.1_18  \\\n0              0.0                0.0           0.0             0.0   \n21             0.0                0.0           0.0             0.0   \n45             0.0                0.0           0.0             0.0   \n61             0.0                0.0           0.0             0.0   \n83             0.0                0.0           0.0             0.0   \n...            ...                ...           ...             ...   \n1221           0.0                0.0           0.0             0.0   \n408            0.0                0.0           0.0             0.0   \n188            0.0                0.0           0.0             0.0   \n847            0.0                0.0           0.0             0.0   \n1090           0.0                0.0           0.0             0.0   \n\n      is_down_5.2_18  distance_5_18  avg_velocity_5_18  horse_weight_dif_5_18  \\\n0                0.0            0.0                0.0                    0.0   \n21               0.0            0.0                0.0                    0.0   \n45               0.0            0.0                0.0                    0.0   \n61               0.0            0.0                0.0                    0.0   \n83               0.0            0.0                0.0                    0.0   \n...              ...            ...                ...                    ...   \n1221             0.0            0.0                0.0                    0.0   \n408              0.0            0.0                0.0                    0.0   \n188              0.0            0.0                0.0                    0.0   \n847              0.0            0.0                0.0                    0.0   \n1090             0.0            0.0                0.0                    0.0   \n\n      burden_weight_rate_5_18  pre_date_diff_5_18  is_rider_same_5_18  \\\n0                         0.0                 0.0                 0.0   \n21                        0.0                 0.0                 0.0   \n45                        0.0                 0.0                 0.0   \n61                        0.0                 0.0                 0.0   \n83                        0.0                 0.0                 0.0   \n...                       ...                 ...                 ...   \n1221                      0.0                 0.0                 0.0   \n408                       0.0                 0.0                 0.0   \n188                       0.0                 0.0                 0.0   \n847                       0.0                 0.0                 0.0   \n1090                      0.0                 0.0                 0.0   \n\n      is_tamer_same_5_18  is_owner_same_5_18  interval_date_5_18  \n0                    0.0                 0.0                 0.0  \n21                   0.0                 0.0                 0.0  \n45                   0.0                 0.0                 0.0  \n61                   0.0                 0.0                 0.0  \n83                   0.0                 0.0                 0.0  \n...                  ...                 ...                 ...  \n1221                 0.0                 0.0                 0.0  \n408                  0.0                 0.0                 0.0  \n188                  0.0                 0.0                 0.0  \n847                  0.0                 0.0                 0.0  \n1090                 0.0                 0.0                 0.0  \n\n[264 rows x 2528 columns]",
      "text/html": "<div>\n<style scoped>\n    .dataframe tbody tr th:only-of-type {\n        vertical-align: middle;\n    }\n\n    .dataframe tbody tr th {\n        vertical-align: top;\n    }\n\n    .dataframe thead th {\n        text-align: right;\n    }\n</style>\n<table border=\"1\" class=\"dataframe\">\n  <thead>\n    <tr style=\"text-align: right;\">\n      <th></th>\n      <th>race_id</th>\n      <th>frame_number</th>\n      <th>horse_number</th>\n      <th>age</th>\n      <th>burden_weight</th>\n      <th>goal_time</th>\n      <th>last_time</th>\n      <th>odds</th>\n      <th>popular</th>\n      <th>horse_weight</th>\n      <th>is_down</th>\n      <th>is_down.1</th>\n      <th>is_down.2</th>\n      <th>is_senba</th>\n      <th>is_mesu</th>\n      <th>is_osu</th>\n      <th>distance</th>\n      <th>avg_velocity</th>\n      <th>horse_weight_dif</th>\n      <th>burden_weight_rate</th>\n      <th>pre_date_diff</th>\n      <th>is_rider_same</th>\n      <th>is_tamer_same</th>\n      <th>is_owner_same</th>\n      <th>rank_1</th>\n      <th>...</th>\n      <th>is_tamer_same_4_18</th>\n      <th>is_owner_same_4_18</th>\n      <th>interval_date_4_18</th>\n      <th>rank_5_18</th>\n      <th>frame_number_5_18</th>\n      <th>horse_number_5_18</th>\n      <th>age_5_18</th>\n      <th>burden_weight_5_18</th>\n      <th>goal_time_5_18</th>\n      <th>last_time_5_18</th>\n      <th>odds_5_18</th>\n      <th>popular_5_18</th>\n      <th>horse_weight_5_18</th>\n      <th>is_down_5_18</th>\n      <th>is_down_5.1_18</th>\n      <th>is_down_5.2_18</th>\n      <th>distance_5_18</th>\n      <th>avg_velocity_5_18</th>\n      <th>horse_weight_dif_5_18</th>\n      <th>burden_weight_rate_5_18</th>\n      <th>pre_date_diff_5_18</th>\n      <th>is_rider_same_5_18</th>\n      <th>is_tamer_same_5_18</th>\n      <th>is_owner_same_5_18</th>\n      <th>interval_date_5_18</th>\n    </tr>\n  </thead>\n  <tbody>\n    <tr>\n      <th>0</th>\n      <td>201905010201</td>\n      <td>8</td>\n      <td>16</td>\n      <td>3</td>\n      <td>54.0</td>\n      <td>88.0</td>\n      <td>39.4</td>\n      <td>3.3</td>\n      <td>2.0</td>\n      <td>504.0</td>\n      <td>0</td>\n      <td>0</td>\n      <td>0</td>\n      <td>0.0</td>\n      <td>1.0</td>\n      <td>0.0</td>\n      <td>1400</td>\n      <td>15.909091</td>\n      <td>12.0</td>\n      <td>0.107143</td>\n      <td>0.0</td>\n      <td>0.0</td>\n      <td>0.0</td>\n      <td>0.0</td>\n      <td>0</td>\n      <td>...</td>\n      <td>0.0</td>\n      <td>0.0</td>\n      <td>0.0</td>\n      <td>0.0</td>\n      <td>0.0</td>\n      <td>0.0</td>\n      <td>0.0</td>\n      <td>0.0</td>\n      <td>0.0</td>\n      <td>0.0</td>\n      <td>0.0</td>\n      <td>0.0</td>\n      <td>0.0</td>\n      <td>0.0</td>\n      <td>0.0</td>\n      <td>0.0</td>\n      <td>0.0</td>\n      <td>0.0</td>\n      <td>0.0</td>\n      <td>0.0</td>\n      <td>0.0</td>\n      <td>0.0</td>\n      <td>0.0</td>\n      <td>0.0</td>\n      <td>0.0</td>\n    </tr>\n    <tr>\n      <th>21</th>\n      <td>201905010202</td>\n      <td>3</td>\n      <td>5</td>\n      <td>3</td>\n      <td>56.0</td>\n      <td>137.1</td>\n      <td>38.7</td>\n      <td>4.7</td>\n      <td>2.0</td>\n      <td>494.0</td>\n      <td>0</td>\n      <td>0</td>\n      <td>0</td>\n      <td>0.0</td>\n      <td>0.0</td>\n      <td>1.0</td>\n      <td>2100</td>\n      <td>15.317287</td>\n      <td>0.0</td>\n      <td>0.113360</td>\n      <td>20.0</td>\n      <td>0.0</td>\n      <td>1.0</td>\n      <td>1.0</td>\n      <td>6</td>\n      <td>...</td>\n      <td>0.0</td>\n      <td>0.0</td>\n      <td>0.0</td>\n      <td>0.0</td>\n      <td>0.0</td>\n      <td>0.0</td>\n      <td>0.0</td>\n      <td>0.0</td>\n      <td>0.0</td>\n      <td>0.0</td>\n      <td>0.0</td>\n      <td>0.0</td>\n      <td>0.0</td>\n      <td>0.0</td>\n      <td>0.0</td>\n      <td>0.0</td>\n      <td>0.0</td>\n      <td>0.0</td>\n      <td>0.0</td>\n      <td>0.0</td>\n      <td>0.0</td>\n      <td>0.0</td>\n      <td>0.0</td>\n      <td>0.0</td>\n      <td>0.0</td>\n    </tr>\n    <tr>\n      <th>45</th>\n      <td>201905010203</td>\n      <td>6</td>\n      <td>12</td>\n      <td>3</td>\n      <td>56.0</td>\n      <td>99.3</td>\n      <td>38.1</td>\n      <td>1.2</td>\n      <td>1.0</td>\n      <td>516.0</td>\n      <td>0</td>\n      <td>0</td>\n      <td>0</td>\n      <td>0.0</td>\n      <td>0.0</td>\n      <td>1.0</td>\n      <td>1600</td>\n      <td>16.112790</td>\n      <td>0.0</td>\n      <td>0.108527</td>\n      <td>0.0</td>\n      <td>0.0</td>\n      <td>0.0</td>\n      <td>0.0</td>\n      <td>0</td>\n      <td>...</td>\n      <td>0.0</td>\n      <td>0.0</td>\n      <td>0.0</td>\n      <td>0.0</td>\n      <td>0.0</td>\n      <td>0.0</td>\n      <td>0.0</td>\n      <td>0.0</td>\n      <td>0.0</td>\n      <td>0.0</td>\n      <td>0.0</td>\n      <td>0.0</td>\n      <td>0.0</td>\n      <td>0.0</td>\n      <td>0.0</td>\n      <td>0.0</td>\n      <td>0.0</td>\n      <td>0.0</td>\n      <td>0.0</td>\n      <td>0.0</td>\n      <td>0.0</td>\n      <td>0.0</td>\n      <td>0.0</td>\n      <td>0.0</td>\n      <td>0.0</td>\n    </tr>\n    <tr>\n      <th>61</th>\n      <td>201905010204</td>\n      <td>3</td>\n      <td>6</td>\n      <td>4</td>\n      <td>54.0</td>\n      <td>98.7</td>\n      <td>37.4</td>\n      <td>6.7</td>\n      <td>4.0</td>\n      <td>454.0</td>\n      <td>0</td>\n      <td>0</td>\n      <td>0</td>\n      <td>0.0</td>\n      <td>1.0</td>\n      <td>0.0</td>\n      <td>1600</td>\n      <td>16.210740</td>\n      <td>12.0</td>\n      <td>0.118943</td>\n      <td>0.0</td>\n      <td>0.0</td>\n      <td>0.0</td>\n      <td>0.0</td>\n      <td>0</td>\n      <td>...</td>\n      <td>0.0</td>\n      <td>0.0</td>\n      <td>0.0</td>\n      <td>0.0</td>\n      <td>0.0</td>\n      <td>0.0</td>\n      <td>0.0</td>\n      <td>0.0</td>\n      <td>0.0</td>\n      <td>0.0</td>\n      <td>0.0</td>\n      <td>0.0</td>\n      <td>0.0</td>\n      <td>0.0</td>\n      <td>0.0</td>\n      <td>0.0</td>\n      <td>0.0</td>\n      <td>0.0</td>\n      <td>0.0</td>\n      <td>0.0</td>\n      <td>0.0</td>\n      <td>0.0</td>\n      <td>0.0</td>\n      <td>0.0</td>\n      <td>0.0</td>\n    </tr>\n    <tr>\n      <th>83</th>\n      <td>201905010205</td>\n      <td>3</td>\n      <td>6</td>\n      <td>3</td>\n      <td>56.0</td>\n      <td>94.9</td>\n      <td>34.4</td>\n      <td>2.0</td>\n      <td>1.0</td>\n      <td>514.0</td>\n      <td>0</td>\n      <td>0</td>\n      <td>0</td>\n      <td>0.0</td>\n      <td>0.0</td>\n      <td>1.0</td>\n      <td>1600</td>\n      <td>16.859852</td>\n      <td>0.0</td>\n      <td>0.108949</td>\n      <td>14.0</td>\n      <td>0.0</td>\n      <td>1.0</td>\n      <td>1.0</td>\n      <td>4</td>\n      <td>...</td>\n      <td>0.0</td>\n      <td>0.0</td>\n      <td>0.0</td>\n      <td>0.0</td>\n      <td>0.0</td>\n      <td>0.0</td>\n      <td>0.0</td>\n      <td>0.0</td>\n      <td>0.0</td>\n      <td>0.0</td>\n      <td>0.0</td>\n      <td>0.0</td>\n      <td>0.0</td>\n      <td>0.0</td>\n      <td>0.0</td>\n      <td>0.0</td>\n      <td>0.0</td>\n      <td>0.0</td>\n      <td>0.0</td>\n      <td>0.0</td>\n      <td>0.0</td>\n      <td>0.0</td>\n      <td>0.0</td>\n      <td>0.0</td>\n      <td>0.0</td>\n    </tr>\n    <tr>\n      <th>...</th>\n      <td>...</td>\n      <td>...</td>\n      <td>...</td>\n      <td>...</td>\n      <td>...</td>\n      <td>...</td>\n      <td>...</td>\n      <td>...</td>\n      <td>...</td>\n      <td>...</td>\n      <td>...</td>\n      <td>...</td>\n      <td>...</td>\n      <td>...</td>\n      <td>...</td>\n      <td>...</td>\n      <td>...</td>\n      <td>...</td>\n      <td>...</td>\n      <td>...</td>\n      <td>...</td>\n      <td>...</td>\n      <td>...</td>\n      <td>...</td>\n      <td>...</td>\n      <td>...</td>\n      <td>...</td>\n      <td>...</td>\n      <td>...</td>\n      <td>...</td>\n      <td>...</td>\n      <td>...</td>\n      <td>...</td>\n      <td>...</td>\n      <td>...</td>\n      <td>...</td>\n      <td>...</td>\n      <td>...</td>\n      <td>...</td>\n      <td>...</td>\n      <td>...</td>\n      <td>...</td>\n      <td>...</td>\n      <td>...</td>\n      <td>...</td>\n      <td>...</td>\n      <td>...</td>\n      <td>...</td>\n      <td>...</td>\n      <td>...</td>\n      <td>...</td>\n    </tr>\n    <tr>\n      <th>1221</th>\n      <td>201908010108</td>\n      <td>5</td>\n      <td>5</td>\n      <td>3</td>\n      <td>56.0</td>\n      <td>123.0</td>\n      <td>35.7</td>\n      <td>13.9</td>\n      <td>5.0</td>\n      <td>492.0</td>\n      <td>0</td>\n      <td>0</td>\n      <td>0</td>\n      <td>0.0</td>\n      <td>0.0</td>\n      <td>1.0</td>\n      <td>2000</td>\n      <td>16.260163</td>\n      <td>8.0</td>\n      <td>0.113821</td>\n      <td>0.0</td>\n      <td>0.0</td>\n      <td>0.0</td>\n      <td>0.0</td>\n      <td>0</td>\n      <td>...</td>\n      <td>0.0</td>\n      <td>0.0</td>\n      <td>0.0</td>\n      <td>0.0</td>\n      <td>0.0</td>\n      <td>0.0</td>\n      <td>0.0</td>\n      <td>0.0</td>\n      <td>0.0</td>\n      <td>0.0</td>\n      <td>0.0</td>\n      <td>0.0</td>\n      <td>0.0</td>\n      <td>0.0</td>\n      <td>0.0</td>\n      <td>0.0</td>\n      <td>0.0</td>\n      <td>0.0</td>\n      <td>0.0</td>\n      <td>0.0</td>\n      <td>0.0</td>\n      <td>0.0</td>\n      <td>0.0</td>\n      <td>0.0</td>\n      <td>0.0</td>\n    </tr>\n    <tr>\n      <th>408</th>\n      <td>201908010109</td>\n      <td>7</td>\n      <td>14</td>\n      <td>4</td>\n      <td>56.0</td>\n      <td>113.0</td>\n      <td>38.8</td>\n      <td>80.9</td>\n      <td>14.0</td>\n      <td>516.0</td>\n      <td>0</td>\n      <td>0</td>\n      <td>0</td>\n      <td>0.0</td>\n      <td>0.0</td>\n      <td>1.0</td>\n      <td>1800</td>\n      <td>15.929204</td>\n      <td>2.0</td>\n      <td>0.108527</td>\n      <td>0.0</td>\n      <td>0.0</td>\n      <td>0.0</td>\n      <td>0.0</td>\n      <td>0</td>\n      <td>...</td>\n      <td>0.0</td>\n      <td>0.0</td>\n      <td>0.0</td>\n      <td>0.0</td>\n      <td>0.0</td>\n      <td>0.0</td>\n      <td>0.0</td>\n      <td>0.0</td>\n      <td>0.0</td>\n      <td>0.0</td>\n      <td>0.0</td>\n      <td>0.0</td>\n      <td>0.0</td>\n      <td>0.0</td>\n      <td>0.0</td>\n      <td>0.0</td>\n      <td>0.0</td>\n      <td>0.0</td>\n      <td>0.0</td>\n      <td>0.0</td>\n      <td>0.0</td>\n      <td>0.0</td>\n      <td>0.0</td>\n      <td>0.0</td>\n      <td>0.0</td>\n    </tr>\n    <tr>\n      <th>188</th>\n      <td>201908010110</td>\n      <td>7</td>\n      <td>9</td>\n      <td>5</td>\n      <td>55.0</td>\n      <td>71.2</td>\n      <td>35.6</td>\n      <td>2.2</td>\n      <td>1.0</td>\n      <td>496.0</td>\n      <td>0</td>\n      <td>0</td>\n      <td>0</td>\n      <td>0.0</td>\n      <td>1.0</td>\n      <td>0.0</td>\n      <td>1200</td>\n      <td>16.853933</td>\n      <td>0.0</td>\n      <td>0.110887</td>\n      <td>0.0</td>\n      <td>0.0</td>\n      <td>0.0</td>\n      <td>0.0</td>\n      <td>0</td>\n      <td>...</td>\n      <td>0.0</td>\n      <td>0.0</td>\n      <td>0.0</td>\n      <td>0.0</td>\n      <td>0.0</td>\n      <td>0.0</td>\n      <td>0.0</td>\n      <td>0.0</td>\n      <td>0.0</td>\n      <td>0.0</td>\n      <td>0.0</td>\n      <td>0.0</td>\n      <td>0.0</td>\n      <td>0.0</td>\n      <td>0.0</td>\n      <td>0.0</td>\n      <td>0.0</td>\n      <td>0.0</td>\n      <td>0.0</td>\n      <td>0.0</td>\n      <td>0.0</td>\n      <td>0.0</td>\n      <td>0.0</td>\n      <td>0.0</td>\n      <td>0.0</td>\n    </tr>\n    <tr>\n      <th>847</th>\n      <td>201908010111</td>\n      <td>3</td>\n      <td>6</td>\n      <td>4</td>\n      <td>54.0</td>\n      <td>95.2</td>\n      <td>34.7</td>\n      <td>20.8</td>\n      <td>7.0</td>\n      <td>478.0</td>\n      <td>0</td>\n      <td>0</td>\n      <td>0</td>\n      <td>0.0</td>\n      <td>0.0</td>\n      <td>1.0</td>\n      <td>1600</td>\n      <td>16.806723</td>\n      <td>12.0</td>\n      <td>0.112971</td>\n      <td>0.0</td>\n      <td>0.0</td>\n      <td>0.0</td>\n      <td>0.0</td>\n      <td>0</td>\n      <td>...</td>\n      <td>0.0</td>\n      <td>0.0</td>\n      <td>0.0</td>\n      <td>0.0</td>\n      <td>0.0</td>\n      <td>0.0</td>\n      <td>0.0</td>\n      <td>0.0</td>\n      <td>0.0</td>\n      <td>0.0</td>\n      <td>0.0</td>\n      <td>0.0</td>\n      <td>0.0</td>\n      <td>0.0</td>\n      <td>0.0</td>\n      <td>0.0</td>\n      <td>0.0</td>\n      <td>0.0</td>\n      <td>0.0</td>\n      <td>0.0</td>\n      <td>0.0</td>\n      <td>0.0</td>\n      <td>0.0</td>\n      <td>0.0</td>\n      <td>0.0</td>\n    </tr>\n    <tr>\n      <th>1090</th>\n      <td>201908010112</td>\n      <td>5</td>\n      <td>9</td>\n      <td>5</td>\n      <td>55.0</td>\n      <td>69.9</td>\n      <td>35.0</td>\n      <td>10.6</td>\n      <td>3.0</td>\n      <td>452.0</td>\n      <td>0</td>\n      <td>0</td>\n      <td>0</td>\n      <td>0.0</td>\n      <td>1.0</td>\n      <td>0.0</td>\n      <td>1200</td>\n      <td>17.167382</td>\n      <td>4.0</td>\n      <td>0.121681</td>\n      <td>0.0</td>\n      <td>0.0</td>\n      <td>0.0</td>\n      <td>0.0</td>\n      <td>0</td>\n      <td>...</td>\n      <td>0.0</td>\n      <td>0.0</td>\n      <td>0.0</td>\n      <td>0.0</td>\n      <td>0.0</td>\n      <td>0.0</td>\n      <td>0.0</td>\n      <td>0.0</td>\n      <td>0.0</td>\n      <td>0.0</td>\n      <td>0.0</td>\n      <td>0.0</td>\n      <td>0.0</td>\n      <td>0.0</td>\n      <td>0.0</td>\n      <td>0.0</td>\n      <td>0.0</td>\n      <td>0.0</td>\n      <td>0.0</td>\n      <td>0.0</td>\n      <td>0.0</td>\n      <td>0.0</td>\n      <td>0.0</td>\n      <td>0.0</td>\n      <td>0.0</td>\n    </tr>\n  </tbody>\n</table>\n<p>264 rows × 2528 columns</p>\n</div>"
     },
     "metadata": {},
     "execution_count": 91
    }
   ],
   "source": [
    "all_race_data"
   ]
  },
  {
   "cell_type": "code",
   "execution_count": 96,
   "metadata": {},
   "outputs": [],
   "source": [
    "all_data = pd.merge(cleaned_race_df,all_race_data,on=\"race_id\")"
   ]
  },
  {
   "cell_type": "code",
   "execution_count": 97,
   "metadata": {},
   "outputs": [
    {
     "output_type": "execute_result",
     "data": {
      "text/plain": "        race_id  race_round  total_horse_number  obstacle  distance_x  \\\n0  201905010201           1                  16       0.0        1400   \n1  201905010202           2                  15       0.0        2100   \n2  201905010203           3                  16       0.0        1600   \n\n   ground_status_稍重  ground_status_良  weather_小雨  weather_小雪  weather_晴  \\\n0                 0                1           0           0          1   \n1                 0                1           0           0          1   \n2                 0                1           0           0          1   \n\n   weather_曇  weather_雨  weather_雪  where_racecourse_中京  where_racecourse_中山  \\\n0          0          0          0                    0                    0   \n1          0          0          0                    0                    0   \n2          0          0          0                    0                    0   \n\n   where_racecourse_京都  where_racecourse_東京  ground_type_ダ  ground_type_芝  \\\n0                    0                    1              1              0   \n1                    0                    1              1              0   \n2                    0                    1              1              0   \n\n   left_right_straight_右  left_right_straight_左  frame_number  horse_number  \\\n0                      0                      1             8            16   \n1                      0                      1             3             5   \n2                      0                      1             6            12   \n\n   age  burden_weight  ...  is_tamer_same_4_18  is_owner_same_4_18  \\\n0    3           54.0  ...                 0.0                 0.0   \n1    3           56.0  ...                 0.0                 0.0   \n2    3           56.0  ...                 0.0                 0.0   \n\n   interval_date_4_18  rank_5_18  frame_number_5_18  horse_number_5_18  \\\n0                 0.0        0.0                0.0                0.0   \n1                 0.0        0.0                0.0                0.0   \n2                 0.0        0.0                0.0                0.0   \n\n   age_5_18  burden_weight_5_18  goal_time_5_18  last_time_5_18  odds_5_18  \\\n0       0.0                 0.0             0.0             0.0        0.0   \n1       0.0                 0.0             0.0             0.0        0.0   \n2       0.0                 0.0             0.0             0.0        0.0   \n\n   popular_5_18  horse_weight_5_18  is_down_5_18  is_down_5.1_18  \\\n0           0.0                0.0           0.0             0.0   \n1           0.0                0.0           0.0             0.0   \n2           0.0                0.0           0.0             0.0   \n\n   is_down_5.2_18  distance_5_18  avg_velocity_5_18  horse_weight_dif_5_18  \\\n0             0.0            0.0                0.0                    0.0   \n1             0.0            0.0                0.0                    0.0   \n2             0.0            0.0                0.0                    0.0   \n\n   burden_weight_rate_5_18  pre_date_diff_5_18  is_rider_same_5_18  \\\n0                      0.0                 0.0                 0.0   \n1                      0.0                 0.0                 0.0   \n2                      0.0                 0.0                 0.0   \n\n   is_tamer_same_5_18  is_owner_same_5_18  interval_date_5_18  \n0                 0.0                 0.0                 0.0  \n1                 0.0                 0.0                 0.0  \n2                 0.0                 0.0                 0.0  \n\n[3 rows x 2548 columns]",
      "text/html": "<div>\n<style scoped>\n    .dataframe tbody tr th:only-of-type {\n        vertical-align: middle;\n    }\n\n    .dataframe tbody tr th {\n        vertical-align: top;\n    }\n\n    .dataframe thead th {\n        text-align: right;\n    }\n</style>\n<table border=\"1\" class=\"dataframe\">\n  <thead>\n    <tr style=\"text-align: right;\">\n      <th></th>\n      <th>race_id</th>\n      <th>race_round</th>\n      <th>total_horse_number</th>\n      <th>obstacle</th>\n      <th>distance_x</th>\n      <th>ground_status_稍重</th>\n      <th>ground_status_良</th>\n      <th>weather_小雨</th>\n      <th>weather_小雪</th>\n      <th>weather_晴</th>\n      <th>weather_曇</th>\n      <th>weather_雨</th>\n      <th>weather_雪</th>\n      <th>where_racecourse_中京</th>\n      <th>where_racecourse_中山</th>\n      <th>where_racecourse_京都</th>\n      <th>where_racecourse_東京</th>\n      <th>ground_type_ダ</th>\n      <th>ground_type_芝</th>\n      <th>left_right_straight_右</th>\n      <th>left_right_straight_左</th>\n      <th>frame_number</th>\n      <th>horse_number</th>\n      <th>age</th>\n      <th>burden_weight</th>\n      <th>...</th>\n      <th>is_tamer_same_4_18</th>\n      <th>is_owner_same_4_18</th>\n      <th>interval_date_4_18</th>\n      <th>rank_5_18</th>\n      <th>frame_number_5_18</th>\n      <th>horse_number_5_18</th>\n      <th>age_5_18</th>\n      <th>burden_weight_5_18</th>\n      <th>goal_time_5_18</th>\n      <th>last_time_5_18</th>\n      <th>odds_5_18</th>\n      <th>popular_5_18</th>\n      <th>horse_weight_5_18</th>\n      <th>is_down_5_18</th>\n      <th>is_down_5.1_18</th>\n      <th>is_down_5.2_18</th>\n      <th>distance_5_18</th>\n      <th>avg_velocity_5_18</th>\n      <th>horse_weight_dif_5_18</th>\n      <th>burden_weight_rate_5_18</th>\n      <th>pre_date_diff_5_18</th>\n      <th>is_rider_same_5_18</th>\n      <th>is_tamer_same_5_18</th>\n      <th>is_owner_same_5_18</th>\n      <th>interval_date_5_18</th>\n    </tr>\n  </thead>\n  <tbody>\n    <tr>\n      <th>0</th>\n      <td>201905010201</td>\n      <td>1</td>\n      <td>16</td>\n      <td>0.0</td>\n      <td>1400</td>\n      <td>0</td>\n      <td>1</td>\n      <td>0</td>\n      <td>0</td>\n      <td>1</td>\n      <td>0</td>\n      <td>0</td>\n      <td>0</td>\n      <td>0</td>\n      <td>0</td>\n      <td>0</td>\n      <td>1</td>\n      <td>1</td>\n      <td>0</td>\n      <td>0</td>\n      <td>1</td>\n      <td>8</td>\n      <td>16</td>\n      <td>3</td>\n      <td>54.0</td>\n      <td>...</td>\n      <td>0.0</td>\n      <td>0.0</td>\n      <td>0.0</td>\n      <td>0.0</td>\n      <td>0.0</td>\n      <td>0.0</td>\n      <td>0.0</td>\n      <td>0.0</td>\n      <td>0.0</td>\n      <td>0.0</td>\n      <td>0.0</td>\n      <td>0.0</td>\n      <td>0.0</td>\n      <td>0.0</td>\n      <td>0.0</td>\n      <td>0.0</td>\n      <td>0.0</td>\n      <td>0.0</td>\n      <td>0.0</td>\n      <td>0.0</td>\n      <td>0.0</td>\n      <td>0.0</td>\n      <td>0.0</td>\n      <td>0.0</td>\n      <td>0.0</td>\n    </tr>\n    <tr>\n      <th>1</th>\n      <td>201905010202</td>\n      <td>2</td>\n      <td>15</td>\n      <td>0.0</td>\n      <td>2100</td>\n      <td>0</td>\n      <td>1</td>\n      <td>0</td>\n      <td>0</td>\n      <td>1</td>\n      <td>0</td>\n      <td>0</td>\n      <td>0</td>\n      <td>0</td>\n      <td>0</td>\n      <td>0</td>\n      <td>1</td>\n      <td>1</td>\n      <td>0</td>\n      <td>0</td>\n      <td>1</td>\n      <td>3</td>\n      <td>5</td>\n      <td>3</td>\n      <td>56.0</td>\n      <td>...</td>\n      <td>0.0</td>\n      <td>0.0</td>\n      <td>0.0</td>\n      <td>0.0</td>\n      <td>0.0</td>\n      <td>0.0</td>\n      <td>0.0</td>\n      <td>0.0</td>\n      <td>0.0</td>\n      <td>0.0</td>\n      <td>0.0</td>\n      <td>0.0</td>\n      <td>0.0</td>\n      <td>0.0</td>\n      <td>0.0</td>\n      <td>0.0</td>\n      <td>0.0</td>\n      <td>0.0</td>\n      <td>0.0</td>\n      <td>0.0</td>\n      <td>0.0</td>\n      <td>0.0</td>\n      <td>0.0</td>\n      <td>0.0</td>\n      <td>0.0</td>\n    </tr>\n    <tr>\n      <th>2</th>\n      <td>201905010203</td>\n      <td>3</td>\n      <td>16</td>\n      <td>0.0</td>\n      <td>1600</td>\n      <td>0</td>\n      <td>1</td>\n      <td>0</td>\n      <td>0</td>\n      <td>1</td>\n      <td>0</td>\n      <td>0</td>\n      <td>0</td>\n      <td>0</td>\n      <td>0</td>\n      <td>0</td>\n      <td>1</td>\n      <td>1</td>\n      <td>0</td>\n      <td>0</td>\n      <td>1</td>\n      <td>6</td>\n      <td>12</td>\n      <td>3</td>\n      <td>56.0</td>\n      <td>...</td>\n      <td>0.0</td>\n      <td>0.0</td>\n      <td>0.0</td>\n      <td>0.0</td>\n      <td>0.0</td>\n      <td>0.0</td>\n      <td>0.0</td>\n      <td>0.0</td>\n      <td>0.0</td>\n      <td>0.0</td>\n      <td>0.0</td>\n      <td>0.0</td>\n      <td>0.0</td>\n      <td>0.0</td>\n      <td>0.0</td>\n      <td>0.0</td>\n      <td>0.0</td>\n      <td>0.0</td>\n      <td>0.0</td>\n      <td>0.0</td>\n      <td>0.0</td>\n      <td>0.0</td>\n      <td>0.0</td>\n      <td>0.0</td>\n      <td>0.0</td>\n    </tr>\n  </tbody>\n</table>\n<p>3 rows × 2548 columns</p>\n</div>"
     },
     "metadata": {},
     "execution_count": 97
    }
   ],
   "source": [
    "\n",
    "all_data.head(3)"
   ]
  },
  {
   "cell_type": "code",
   "execution_count": 98,
   "metadata": {},
   "outputs": [],
   "source": [
    "all_data.to_csv(\"csv/train_data.csv\", index=False )"
   ]
  },
  {
   "cell_type": "code",
   "execution_count": null,
   "metadata": {},
   "outputs": [],
   "source": []
  }
 ]
}